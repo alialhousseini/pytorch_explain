{
 "cells": [
  {
   "cell_type": "markdown",
   "metadata": {},
   "source": [
    "### XNOR"
   ]
  },
  {
   "cell_type": "code",
   "execution_count": 1,
   "metadata": {},
   "outputs": [
    {
     "name": "stderr",
     "output_type": "stream",
     "text": [
      "2024-07-21 01:22:53,344 - matplotlib - DEBUG - matplotlib data path: d:\\Github\\pytorch_explain\\env\\Lib\\site-packages\\matplotlib\\mpl-data\n",
      "2024-07-21 01:22:53,351 - matplotlib - DEBUG - CONFIGDIR=C:\\Users\\a_h9\\.matplotlib\n",
      "2024-07-21 01:22:53,381 - matplotlib - DEBUG - interactive is False\n",
      "2024-07-21 01:22:53,382 - matplotlib - DEBUG - platform is win32\n",
      "2024-07-21 01:22:53,461 - matplotlib - DEBUG - CACHEDIR=C:\\Users\\a_h9\\.matplotlib\n",
      "2024-07-21 01:22:53,465 - matplotlib.font_manager - DEBUG - Using fontManager instance from C:\\Users\\a_h9\\.matplotlib\\fontlist-v390.json\n",
      "2024-07-21 01:22:53,832 - matplotlib.pyplot - DEBUG - Loaded backend module://matplotlib_inline.backend_inline version unknown.\n",
      "2024-07-21 01:22:53,836 - matplotlib.pyplot - DEBUG - Loaded backend inline version unknown.\n"
     ]
    }
   ],
   "source": [
    "import torch.nn.functional as F\n",
    "from torch_explain.nn.concepts import ConceptReasoningLayer, IntpLinearLayer1, IntpLinearLayer2, IntpLinearLayer3\n",
    "import torch\n",
    "import numpy as np\n",
    "import pandas as pd\n",
    "import matplotlib.pyplot as plt\n",
    "import torch_explain as te\n",
    "from torch_explain import datasets\n",
    "from sklearn.metrics import accuracy_score\n",
    "from sklearn.model_selection import train_test_split\n",
    "\n",
    "%matplotlib inline\n",
    "import logging\n",
    "import warnings\n",
    "warnings.filterwarnings('ignore')\n",
    "# Set the logging level for matplotlib to WARNING to suppress debug information\n",
    "logging.getLogger('matplotlib').setLevel(logging.WARNING)\n",
    "\n",
    "\n",
    "PATH = 'models/'"
   ]
  },
  {
   "cell_type": "code",
   "execution_count": 3,
   "metadata": {},
   "outputs": [],
   "source": [
    "from torch_explain.datasets import xnor\n",
    "x, c, y = xnor(1000)"
   ]
  },
  {
   "cell_type": "code",
   "execution_count": 4,
   "metadata": {},
   "outputs": [],
   "source": [
    "y = F.one_hot(y.long().ravel()).float()"
   ]
  },
  {
   "cell_type": "markdown",
   "metadata": {},
   "source": [
    "DCR"
   ]
  },
  {
   "cell_type": "code",
   "execution_count": 5,
   "metadata": {},
   "outputs": [],
   "source": [
    "embedding_size = 16\n",
    "concept_encoder = torch.nn.Sequential(\n",
    "    torch.nn.Linear(x.shape[1], 16),\n",
    "    torch.nn.LeakyReLU(),\n",
    "    te.nn.ConceptEmbedding(16, c.shape[1], embedding_size),\n",
    ")\n",
    "\n",
    "task_predictor = ConceptReasoningLayer(embedding_size, y.shape[1])\n",
    "model = torch.nn.Sequential(concept_encoder, task_predictor)"
   ]
  },
  {
   "cell_type": "code",
   "execution_count": 6,
   "metadata": {},
   "outputs": [
    {
     "data": {
      "text/plain": [
       "<All keys matched successfully>"
      ]
     },
     "execution_count": 6,
     "metadata": {},
     "output_type": "execute_result"
    }
   ],
   "source": [
    "import os\n",
    "model.load_state_dict(torch.load(os.path.join(PATH,'model_state_dict_DCRBase_XNOR.pth')))"
   ]
  },
  {
   "cell_type": "code",
   "execution_count": 7,
   "metadata": {},
   "outputs": [],
   "source": [
    "cem = model[0]\n",
    "dcr = model[1]\n",
    "cem.eval()\n",
    "dcr.eval()\n",
    "c_emb , c_pred = cem(x)\n",
    "y_pred, sign_attn, filter_attn = dcr(c_emb, c_pred, return_attn=True)\n"
   ]
  },
  {
   "cell_type": "code",
   "execution_count": 8,
   "metadata": {},
   "outputs": [
    {
     "data": {
      "text/plain": [
       "[{'class': 'y_0', 'explanation': '~c_0 & c_1', 'count': 264},\n",
       " {'class': 'y_0', 'explanation': 'c_0 & ~c_1', 'count': 239},\n",
       " {'class': 'y_1', 'explanation': 'c_0 & c_1', 'count': 259},\n",
       " {'class': 'y_1', 'explanation': '~c_0 & ~c_1', 'count': 237}]"
      ]
     },
     "execution_count": 8,
     "metadata": {},
     "output_type": "execute_result"
    }
   ],
   "source": [
    "dcr.explain( c_emb, c_pred, mode='global')"
   ]
  },
  {
   "cell_type": "markdown",
   "metadata": {},
   "source": [
    "LLR 1"
   ]
  },
  {
   "cell_type": "code",
   "execution_count": 9,
   "metadata": {},
   "outputs": [],
   "source": [
    "isBias = True"
   ]
  },
  {
   "cell_type": "code",
   "execution_count": 10,
   "metadata": {},
   "outputs": [],
   "source": [
    "embedding_size = 16\n",
    "concept_encoder = torch.nn.Sequential(\n",
    "    torch.nn.Linear(x.shape[1], 16),\n",
    "    torch.nn.LeakyReLU(),\n",
    "    te.nn.ConceptEmbedding(16, c.shape[1], embedding_size),\n",
    ")\n",
    "\n",
    "task_predictor = IntpLinearLayer1(embedding_size, y.shape[1], bias=isBias)\n",
    "model = torch.nn.Sequential(concept_encoder, task_predictor)"
   ]
  },
  {
   "cell_type": "code",
   "execution_count": 11,
   "metadata": {},
   "outputs": [
    {
     "data": {
      "text/plain": [
       "<All keys matched successfully>"
      ]
     },
     "execution_count": 11,
     "metadata": {},
     "output_type": "execute_result"
    }
   ],
   "source": [
    "import os\n",
    "model.load_state_dict(torch.load(os.path.join(PATH,'model_state_dict_LLR1_XNOR.pth')))"
   ]
  },
  {
   "cell_type": "code",
   "execution_count": 12,
   "metadata": {},
   "outputs": [],
   "source": [
    "cem = model[0]\n",
    "llr = model[1]\n",
    "cem.eval()\n",
    "llr.eval()\n",
    "c_emb , c_pred = cem(x)\n",
    "y_pred, weights, biases = llr(c_emb, c_pred, return_params=True)"
   ]
  },
  {
   "cell_type": "code",
   "execution_count": 13,
   "metadata": {},
   "outputs": [
    {
     "data": {
      "text/plain": [
       "(torch.Size([1000, 2]), torch.Size([1000, 2, 2]), torch.Size([1000, 2]))"
      ]
     },
     "execution_count": 13,
     "metadata": {},
     "output_type": "execute_result"
    }
   ],
   "source": [
    "y_pred.shape, weights.shape, biases.shape"
   ]
  },
  {
   "cell_type": "code",
   "execution_count": 14,
   "metadata": {},
   "outputs": [],
   "source": [
    "dataframes = [pd.DataFrame() for _ in range(2)]\n",
    "for i in range(2):\n",
    "    dataframes[i]['c_0'] = c[:,0].detach().numpy()\n",
    "    dataframes[i]['c_1'] = c[:,1].detach().numpy()\n",
    "    dataframes[i]['w_0'] = weights[:,0,i].detach().numpy()\n",
    "    dataframes[i]['w_1'] = weights[:,1,i].detach().numpy()\n",
    "    dataframes[i]['bias'] = biases[:,i].detach().numpy()\n",
    "    dataframes[i]['y'] = y[:,i].detach().numpy()"
   ]
  },
  {
   "cell_type": "code",
   "execution_count": 15,
   "metadata": {},
   "outputs": [
    {
     "data": {
      "text/html": [
       "<div>\n",
       "<style scoped>\n",
       "    .dataframe tbody tr th:only-of-type {\n",
       "        vertical-align: middle;\n",
       "    }\n",
       "\n",
       "    .dataframe tbody tr th {\n",
       "        vertical-align: top;\n",
       "    }\n",
       "\n",
       "    .dataframe thead th {\n",
       "        text-align: right;\n",
       "    }\n",
       "</style>\n",
       "<table border=\"1\" class=\"dataframe\">\n",
       "  <thead>\n",
       "    <tr style=\"text-align: right;\">\n",
       "      <th></th>\n",
       "      <th>c_0</th>\n",
       "      <th>c_1</th>\n",
       "      <th>w_0</th>\n",
       "      <th>w_1</th>\n",
       "      <th>bias</th>\n",
       "      <th>y</th>\n",
       "    </tr>\n",
       "  </thead>\n",
       "  <tbody>\n",
       "    <tr>\n",
       "      <th>0</th>\n",
       "      <td>0.0</td>\n",
       "      <td>1.0</td>\n",
       "      <td>0.998515</td>\n",
       "      <td>0.999135</td>\n",
       "      <td>8.847340</td>\n",
       "      <td>1.0</td>\n",
       "    </tr>\n",
       "    <tr>\n",
       "      <th>1</th>\n",
       "      <td>1.0</td>\n",
       "      <td>1.0</td>\n",
       "      <td>0.110439</td>\n",
       "      <td>0.141643</td>\n",
       "      <td>-6.663466</td>\n",
       "      <td>0.0</td>\n",
       "    </tr>\n",
       "    <tr>\n",
       "      <th>2</th>\n",
       "      <td>0.0</td>\n",
       "      <td>0.0</td>\n",
       "      <td>0.008346</td>\n",
       "      <td>0.034460</td>\n",
       "      <td>-11.639477</td>\n",
       "      <td>0.0</td>\n",
       "    </tr>\n",
       "    <tr>\n",
       "      <th>3</th>\n",
       "      <td>0.0</td>\n",
       "      <td>1.0</td>\n",
       "      <td>0.989222</td>\n",
       "      <td>0.999738</td>\n",
       "      <td>9.082058</td>\n",
       "      <td>1.0</td>\n",
       "    </tr>\n",
       "    <tr>\n",
       "      <th>4</th>\n",
       "      <td>1.0</td>\n",
       "      <td>1.0</td>\n",
       "      <td>0.009883</td>\n",
       "      <td>0.818256</td>\n",
       "      <td>-6.966159</td>\n",
       "      <td>0.0</td>\n",
       "    </tr>\n",
       "  </tbody>\n",
       "</table>\n",
       "</div>"
      ],
      "text/plain": [
       "   c_0  c_1       w_0       w_1       bias    y\n",
       "0  0.0  1.0  0.998515  0.999135   8.847340  1.0\n",
       "1  1.0  1.0  0.110439  0.141643  -6.663466  0.0\n",
       "2  0.0  0.0  0.008346  0.034460 -11.639477  0.0\n",
       "3  0.0  1.0  0.989222  0.999738   9.082058  1.0\n",
       "4  1.0  1.0  0.009883  0.818256  -6.966159  0.0"
      ]
     },
     "execution_count": 15,
     "metadata": {},
     "output_type": "execute_result"
    }
   ],
   "source": [
    "dataframes[0].head()"
   ]
  },
  {
   "cell_type": "markdown",
   "metadata": {},
   "source": [
    "LLR 2"
   ]
  },
  {
   "cell_type": "code",
   "execution_count": 16,
   "metadata": {},
   "outputs": [],
   "source": [
    "embedding_size = 16\n",
    "concept_encoder = torch.nn.Sequential(\n",
    "    torch.nn.Linear(x.shape[1], 16),\n",
    "    torch.nn.LeakyReLU(),\n",
    "    te.nn.ConceptEmbedding(16, c.shape[1], embedding_size),\n",
    ")\n",
    "\n",
    "task_predictor = IntpLinearLayer2(embedding_size, y.shape[1], bias=isBias)\n",
    "model = torch.nn.Sequential(concept_encoder, task_predictor)"
   ]
  },
  {
   "cell_type": "code",
   "execution_count": 17,
   "metadata": {},
   "outputs": [
    {
     "data": {
      "text/plain": [
       "<All keys matched successfully>"
      ]
     },
     "execution_count": 17,
     "metadata": {},
     "output_type": "execute_result"
    }
   ],
   "source": [
    "import os\n",
    "model.load_state_dict(torch.load(os.path.join(PATH,'model_state_dict_LLR2_XNOR.pth')))"
   ]
  },
  {
   "cell_type": "code",
   "execution_count": 18,
   "metadata": {},
   "outputs": [],
   "source": [
    "cem = model[0]\n",
    "llr = model[1]\n",
    "cem.eval()\n",
    "llr.eval()\n",
    "c_emb , c_pred = cem(x)\n",
    "y_pred, weights, biases = llr(c_emb, c_pred, return_params=True)"
   ]
  },
  {
   "cell_type": "code",
   "execution_count": 19,
   "metadata": {},
   "outputs": [
    {
     "data": {
      "text/plain": [
       "(torch.Size([1000, 2]), torch.Size([1000, 4, 2]), torch.Size([1000, 2]))"
      ]
     },
     "execution_count": 19,
     "metadata": {},
     "output_type": "execute_result"
    }
   ],
   "source": [
    "y_pred.shape, weights.shape, biases.shape"
   ]
  },
  {
   "cell_type": "code",
   "execution_count": 20,
   "metadata": {},
   "outputs": [],
   "source": [
    "dataframes = [pd.DataFrame() for _ in range(2)]\n",
    "for i in range(2):\n",
    "    dataframes[i]['c_0'] = c[:,0].detach().numpy()\n",
    "    dataframes[i]['c_1'] = c[:,1].detach().numpy()\n",
    "    dataframes[i]['w_0'] = weights[:,0,i].detach().numpy()\n",
    "    dataframes[i]['w_1'] = weights[:,1,i].detach().numpy()\n",
    "    dataframes[i]['bias'] = biases[:,i].detach().numpy()\n",
    "    dataframes[i]['y'] = y[:,i].detach().numpy()"
   ]
  },
  {
   "cell_type": "code",
   "execution_count": 21,
   "metadata": {},
   "outputs": [
    {
     "data": {
      "text/html": [
       "<div>\n",
       "<style scoped>\n",
       "    .dataframe tbody tr th:only-of-type {\n",
       "        vertical-align: middle;\n",
       "    }\n",
       "\n",
       "    .dataframe tbody tr th {\n",
       "        vertical-align: top;\n",
       "    }\n",
       "\n",
       "    .dataframe thead th {\n",
       "        text-align: right;\n",
       "    }\n",
       "</style>\n",
       "<table border=\"1\" class=\"dataframe\">\n",
       "  <thead>\n",
       "    <tr style=\"text-align: right;\">\n",
       "      <th></th>\n",
       "      <th>c_0</th>\n",
       "      <th>c_1</th>\n",
       "      <th>w_0</th>\n",
       "      <th>w_1</th>\n",
       "      <th>bias</th>\n",
       "      <th>y</th>\n",
       "    </tr>\n",
       "  </thead>\n",
       "  <tbody>\n",
       "    <tr>\n",
       "      <th>0</th>\n",
       "      <td>0.0</td>\n",
       "      <td>1.0</td>\n",
       "      <td>0.999936</td>\n",
       "      <td>0.964901</td>\n",
       "      <td>8.706429</td>\n",
       "      <td>1.0</td>\n",
       "    </tr>\n",
       "    <tr>\n",
       "      <th>1</th>\n",
       "      <td>1.0</td>\n",
       "      <td>1.0</td>\n",
       "      <td>0.018338</td>\n",
       "      <td>0.005407</td>\n",
       "      <td>-7.551785</td>\n",
       "      <td>0.0</td>\n",
       "    </tr>\n",
       "    <tr>\n",
       "      <th>2</th>\n",
       "      <td>0.0</td>\n",
       "      <td>0.0</td>\n",
       "      <td>0.009999</td>\n",
       "      <td>0.013659</td>\n",
       "      <td>-10.772019</td>\n",
       "      <td>0.0</td>\n",
       "    </tr>\n",
       "    <tr>\n",
       "      <th>3</th>\n",
       "      <td>0.0</td>\n",
       "      <td>1.0</td>\n",
       "      <td>0.999695</td>\n",
       "      <td>0.999906</td>\n",
       "      <td>12.336782</td>\n",
       "      <td>1.0</td>\n",
       "    </tr>\n",
       "    <tr>\n",
       "      <th>4</th>\n",
       "      <td>1.0</td>\n",
       "      <td>1.0</td>\n",
       "      <td>0.003017</td>\n",
       "      <td>0.046243</td>\n",
       "      <td>-7.127800</td>\n",
       "      <td>0.0</td>\n",
       "    </tr>\n",
       "  </tbody>\n",
       "</table>\n",
       "</div>"
      ],
      "text/plain": [
       "   c_0  c_1       w_0       w_1       bias    y\n",
       "0  0.0  1.0  0.999936  0.964901   8.706429  1.0\n",
       "1  1.0  1.0  0.018338  0.005407  -7.551785  0.0\n",
       "2  0.0  0.0  0.009999  0.013659 -10.772019  0.0\n",
       "3  0.0  1.0  0.999695  0.999906  12.336782  1.0\n",
       "4  1.0  1.0  0.003017  0.046243  -7.127800  0.0"
      ]
     },
     "execution_count": 21,
     "metadata": {},
     "output_type": "execute_result"
    }
   ],
   "source": [
    "dataframes[0].head()"
   ]
  },
  {
   "cell_type": "markdown",
   "metadata": {},
   "source": [
    "LLR 3"
   ]
  },
  {
   "cell_type": "code",
   "execution_count": 22,
   "metadata": {},
   "outputs": [],
   "source": [
    "embedding_size = 16\n",
    "concept_encoder = torch.nn.Sequential(\n",
    "    torch.nn.Linear(x.shape[1], 16),\n",
    "    torch.nn.LeakyReLU(),\n",
    "    te.nn.ConceptEmbedding(16, c.shape[1], embedding_size),\n",
    ")\n",
    "\n",
    "task_predictor = IntpLinearLayer3(embedding_size, y.shape[1], bias=isBias)\n",
    "model = torch.nn.Sequential(concept_encoder, task_predictor)"
   ]
  },
  {
   "cell_type": "code",
   "execution_count": 23,
   "metadata": {},
   "outputs": [
    {
     "data": {
      "text/plain": [
       "<All keys matched successfully>"
      ]
     },
     "execution_count": 23,
     "metadata": {},
     "output_type": "execute_result"
    }
   ],
   "source": [
    "import os\n",
    "model.load_state_dict(torch.load(os.path.join(PATH,'model_state_dict_LLR3_XNOR.pth')))"
   ]
  },
  {
   "cell_type": "code",
   "execution_count": 24,
   "metadata": {},
   "outputs": [],
   "source": [
    "cem = model[0]\n",
    "llr = model[1]\n",
    "cem.eval()\n",
    "llr.eval()\n",
    "c_emb , c_pred = cem(x)\n",
    "y_pred, weights, biases = llr(c_emb, c_pred, return_params=True)"
   ]
  },
  {
   "cell_type": "code",
   "execution_count": 25,
   "metadata": {},
   "outputs": [
    {
     "data": {
      "text/plain": [
       "(torch.Size([1000, 2]), torch.Size([1000, 2, 2]), torch.Size([1000, 2]))"
      ]
     },
     "execution_count": 25,
     "metadata": {},
     "output_type": "execute_result"
    }
   ],
   "source": [
    "y_pred.shape, weights.shape, biases.shape"
   ]
  },
  {
   "cell_type": "code",
   "execution_count": 26,
   "metadata": {},
   "outputs": [],
   "source": [
    "dataframes = [pd.DataFrame() for _ in range(2)]\n",
    "for i in range(2):\n",
    "    dataframes[i]['c_0'] = c[:,0].detach().numpy()\n",
    "    dataframes[i]['c_1'] = c[:,1].detach().numpy()\n",
    "    dataframes[i]['w_0'] = weights[:,0,i].detach().numpy()\n",
    "    dataframes[i]['w_1'] = weights[:,1,i].detach().numpy()\n",
    "    dataframes[i]['bias'] = biases[:,i].detach().numpy()\n",
    "    dataframes[i]['y'] = y[:,i].detach().numpy()"
   ]
  },
  {
   "cell_type": "code",
   "execution_count": 27,
   "metadata": {},
   "outputs": [
    {
     "data": {
      "text/html": [
       "<div>\n",
       "<style scoped>\n",
       "    .dataframe tbody tr th:only-of-type {\n",
       "        vertical-align: middle;\n",
       "    }\n",
       "\n",
       "    .dataframe tbody tr th {\n",
       "        vertical-align: top;\n",
       "    }\n",
       "\n",
       "    .dataframe thead th {\n",
       "        text-align: right;\n",
       "    }\n",
       "</style>\n",
       "<table border=\"1\" class=\"dataframe\">\n",
       "  <thead>\n",
       "    <tr style=\"text-align: right;\">\n",
       "      <th></th>\n",
       "      <th>c_0</th>\n",
       "      <th>c_1</th>\n",
       "      <th>w_0</th>\n",
       "      <th>w_1</th>\n",
       "      <th>bias</th>\n",
       "      <th>y</th>\n",
       "    </tr>\n",
       "  </thead>\n",
       "  <tbody>\n",
       "    <tr>\n",
       "      <th>0</th>\n",
       "      <td>0.0</td>\n",
       "      <td>1.0</td>\n",
       "      <td>0.991679</td>\n",
       "      <td>0.990943</td>\n",
       "      <td>11.005300</td>\n",
       "      <td>1.0</td>\n",
       "    </tr>\n",
       "    <tr>\n",
       "      <th>1</th>\n",
       "      <td>1.0</td>\n",
       "      <td>1.0</td>\n",
       "      <td>-0.333780</td>\n",
       "      <td>-0.970270</td>\n",
       "      <td>-6.472853</td>\n",
       "      <td>0.0</td>\n",
       "    </tr>\n",
       "    <tr>\n",
       "      <th>2</th>\n",
       "      <td>0.0</td>\n",
       "      <td>0.0</td>\n",
       "      <td>-0.937669</td>\n",
       "      <td>-0.850431</td>\n",
       "      <td>-8.911013</td>\n",
       "      <td>0.0</td>\n",
       "    </tr>\n",
       "    <tr>\n",
       "      <th>3</th>\n",
       "      <td>0.0</td>\n",
       "      <td>1.0</td>\n",
       "      <td>0.974302</td>\n",
       "      <td>0.999573</td>\n",
       "      <td>13.893045</td>\n",
       "      <td>1.0</td>\n",
       "    </tr>\n",
       "    <tr>\n",
       "      <th>4</th>\n",
       "      <td>1.0</td>\n",
       "      <td>1.0</td>\n",
       "      <td>-0.950076</td>\n",
       "      <td>-0.519914</td>\n",
       "      <td>-6.498202</td>\n",
       "      <td>0.0</td>\n",
       "    </tr>\n",
       "  </tbody>\n",
       "</table>\n",
       "</div>"
      ],
      "text/plain": [
       "   c_0  c_1       w_0       w_1       bias    y\n",
       "0  0.0  1.0  0.991679  0.990943  11.005300  1.0\n",
       "1  1.0  1.0 -0.333780 -0.970270  -6.472853  0.0\n",
       "2  0.0  0.0 -0.937669 -0.850431  -8.911013  0.0\n",
       "3  0.0  1.0  0.974302  0.999573  13.893045  1.0\n",
       "4  1.0  1.0 -0.950076 -0.519914  -6.498202  0.0"
      ]
     },
     "execution_count": 27,
     "metadata": {},
     "output_type": "execute_result"
    }
   ],
   "source": [
    "dataframes[0].head()"
   ]
  },
  {
   "cell_type": "markdown",
   "metadata": {},
   "source": [
    "_____"
   ]
  }
 ],
 "metadata": {
  "kernelspec": {
   "display_name": "env",
   "language": "python",
   "name": "python3"
  },
  "language_info": {
   "codemirror_mode": {
    "name": "ipython",
    "version": 3
   },
   "file_extension": ".py",
   "mimetype": "text/x-python",
   "name": "python",
   "nbconvert_exporter": "python",
   "pygments_lexer": "ipython3",
   "version": "3.11.4"
  }
 },
 "nbformat": 4,
 "nbformat_minor": 2
}
