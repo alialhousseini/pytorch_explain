{
 "cells": [
  {
   "cell_type": "markdown",
   "metadata": {},
   "source": [
    "In this notebook, we are going to test all the datasets and visualize some results to ensure global explainability and to verify that the model is able to interpret the predictions reasonably."
   ]
  },
  {
   "cell_type": "code",
   "execution_count": 1,
   "metadata": {},
   "outputs": [
    {
     "name": "stderr",
     "output_type": "stream",
     "text": [
      "2024-06-18 20:26:34,544 - matplotlib - DEBUG - matplotlib data path: d:\\Github\\pytorch_explain\\env\\Lib\\site-packages\\matplotlib\\mpl-data\n",
      "2024-06-18 20:26:34,552 - matplotlib - DEBUG - CONFIGDIR=C:\\Users\\a_h9\\.matplotlib\n",
      "2024-06-18 20:26:34,575 - matplotlib - DEBUG - interactive is False\n",
      "2024-06-18 20:26:34,576 - matplotlib - DEBUG - platform is win32\n",
      "2024-06-18 20:26:34,647 - matplotlib - DEBUG - CACHEDIR=C:\\Users\\a_h9\\.matplotlib\n",
      "2024-06-18 20:26:34,652 - matplotlib.font_manager - DEBUG - Using fontManager instance from C:\\Users\\a_h9\\.matplotlib\\fontlist-v390.json\n",
      "2024-06-18 20:26:34,956 - matplotlib.pyplot - DEBUG - Loaded backend module://matplotlib_inline.backend_inline version unknown.\n",
      "2024-06-18 20:26:34,960 - matplotlib.pyplot - DEBUG - Loaded backend inline version unknown.\n"
     ]
    }
   ],
   "source": [
    "import torch.nn.functional as F\n",
    "from torch_explain.nn.concepts import ConceptReasoningLayer, ConceptReasoningLayerMod, ReasoningLinearLayer\n",
    "import torch\n",
    "import numpy as np\n",
    "import pandas as pd\n",
    "import matplotlib.pyplot as plt\n",
    "import torch_explain as te\n",
    "from torch_explain import datasets\n",
    "from sklearn.metrics import accuracy_score\n",
    "from sklearn.model_selection import train_test_split\n",
    "from Models.ResLinLayer_NN.state_dict import *\n",
    "%matplotlib inline\n",
    "import logging\n",
    "import warnings\n",
    "warnings.filterwarnings('ignore')\n",
    "# Set the logging level for matplotlib to WARNING to suppress debug information\n",
    "logging.getLogger('matplotlib').setLevel(logging.WARNING)\n",
    "\n",
    "\n",
    "PATH = 'Models\\ResLinLayer_NN\\state_dict'"
   ]
  },
  {
   "cell_type": "markdown",
   "metadata": {},
   "source": [
    "# Dataset 1: Is Bin EVEN"
   ]
  },
  {
   "cell_type": "code",
   "execution_count": 2,
   "metadata": {},
   "outputs": [
    {
     "data": {
      "text/plain": [
       "<All keys matched successfully>"
      ]
     },
     "execution_count": 2,
     "metadata": {},
     "output_type": "execute_result"
    }
   ],
   "source": [
    "x, c, y = datasets.is_bin_even(100)\n",
    "\n",
    "# Encode target into one-hode y=[y_0, y_1]\n",
    "y = F.one_hot(y.long().ravel()).float()\n",
    "\n",
    "# Define the concept_encoder\n",
    "embedding_size = 8\n",
    "concept_encoder = torch.nn.Sequential(\n",
    "    torch.nn.Linear(x.shape[1], 10),\n",
    "    torch.nn.LeakyReLU(),\n",
    "    te.nn.ConceptEmbedding(10, c.shape[1], embedding_size),\n",
    ")\n",
    "\n",
    "# Define the DCR as task predictor\n",
    "task_predictor = ConceptReasoningLayer(\n",
    "    embedding_size, y.shape[1])\n",
    "\n",
    "dummy_c_emb, dummy_c_pred = concept_encoder(x)\n",
    "dummy_y, dummy_sign, dummy_filter = task_predictor(\n",
    "    dummy_c_emb, dummy_c_pred, return_attn=True)\n",
    "\n",
    "global_linearity = ReasoningLinearLayer(\n",
    "    dummy_sign.shape[1], dummy_filter.shape[1], y.shape[1], modality='NN')\n",
    "\n",
    "# Create a sequential model (cascaded)\n",
    "model = torch.nn.Sequential(\n",
    "    concept_encoder, task_predictor, global_linearity)\n",
    "\n",
    "\n",
    "model.load_state_dict(torch.load(PATH+'\\model_state_dict_LLRNN_IsBinEven.pth'))"
   ]
  },
  {
   "cell_type": "code",
   "execution_count": 3,
   "metadata": {},
   "outputs": [],
   "source": [
    "cem = model[0]\n",
    "dcr = model[1]\n",
    "llr = model[2]\n",
    "cem.eval()\n",
    "dcr.eval()\n",
    "llr.eval()\n",
    "c_emb , c_pred = cem(x)\n",
    "y_pred, sign_attn, filter_attn = dcr(c_emb, c_pred, return_attn=True)\n",
    "pred , coeffs, bias = llr(sign_attn, filter_attn, c_pred, return_params=True)"
   ]
  },
  {
   "cell_type": "code",
   "execution_count": 4,
   "metadata": {},
   "outputs": [],
   "source": [
    "pred = torch.sigmoid(pred) # [0] for y_0, [1] for y_1"
   ]
  },
  {
   "cell_type": "code",
   "execution_count": 5,
   "metadata": {},
   "outputs": [],
   "source": [
    "df = pd.DataFrame({\n",
    "    'c_0': c[:, 0],\n",
    "    'c_1': c[:, 1],\n",
    "    'c_2': c[:, 2],\n",
    "    'c_3': c[:, 3],\n",
    "    'y_true_0': y[:, 0],\n",
    "    'y_true_1': y[:, 1],\n",
    "    'y_pred_0': pred[:, 0].detach().numpy(),\n",
    "    'y_pred_1': pred[:, 1].detach().numpy(),\n",
    "    'coeffs_c0_y0': coeffs[:,0,0].detach().numpy(),\n",
    "    'coeffs_c1_y0': coeffs[:,1,0].detach().numpy(),\n",
    "    'coeffs_c2_y0': coeffs[:,2, 0].detach().numpy(),\n",
    "    'coeffs_c3_y0': coeffs[:,3, 0].detach().numpy(),\n",
    "    'coeffs_c0_y1': coeffs[:,0, 1].detach().numpy(),\n",
    "    'coeffs_c1_y1': coeffs[:,1, 1].detach().numpy(),\n",
    "    'coeffs_c2_y1': coeffs[:,2, 1].detach().numpy(),\n",
    "    'coeffs_c3_y1': coeffs[:,3, 1].detach().numpy(),\n",
    "    'bias_y0': bias[:, 0].detach().numpy(),\n",
    "    'bias_y1': bias[:, 1].detach().numpy(),\n",
    "})"
   ]
  },
  {
   "cell_type": "markdown",
   "metadata": {},
   "source": [
    "#### Important:\n",
    "For this dataset, a number is even is the $c_3$ is even (i.e. equal to zero).\\\n",
    "The output of $y_0$ is 0 ($y_1$ is 1) means that the number IS EVEN."
   ]
  },
  {
   "cell_type": "code",
   "execution_count": 6,
   "metadata": {},
   "outputs": [
    {
     "data": {
      "text/html": [
       "<div>\n",
       "<style scoped>\n",
       "    .dataframe tbody tr th:only-of-type {\n",
       "        vertical-align: middle;\n",
       "    }\n",
       "\n",
       "    .dataframe tbody tr th {\n",
       "        vertical-align: top;\n",
       "    }\n",
       "\n",
       "    .dataframe thead th {\n",
       "        text-align: right;\n",
       "    }\n",
       "</style>\n",
       "<table border=\"1\" class=\"dataframe\">\n",
       "  <thead>\n",
       "    <tr style=\"text-align: right;\">\n",
       "      <th></th>\n",
       "      <th>c_0</th>\n",
       "      <th>c_1</th>\n",
       "      <th>c_2</th>\n",
       "      <th>c_3</th>\n",
       "      <th>y_true_0</th>\n",
       "      <th>y_true_1</th>\n",
       "      <th>y_pred_0</th>\n",
       "      <th>y_pred_1</th>\n",
       "      <th>coeffs_c0_y0</th>\n",
       "      <th>coeffs_c1_y0</th>\n",
       "      <th>coeffs_c2_y0</th>\n",
       "      <th>coeffs_c3_y0</th>\n",
       "      <th>coeffs_c0_y1</th>\n",
       "      <th>coeffs_c1_y1</th>\n",
       "      <th>coeffs_c2_y1</th>\n",
       "      <th>coeffs_c3_y1</th>\n",
       "      <th>bias_y0</th>\n",
       "      <th>bias_y1</th>\n",
       "    </tr>\n",
       "  </thead>\n",
       "  <tbody>\n",
       "    <tr>\n",
       "      <th>0</th>\n",
       "      <td>0.0</td>\n",
       "      <td>1.0</td>\n",
       "      <td>1.0</td>\n",
       "      <td>1.0</td>\n",
       "      <td>1.0</td>\n",
       "      <td>0.0</td>\n",
       "      <td>0.999750</td>\n",
       "      <td>0.000242</td>\n",
       "      <td>-0.617367</td>\n",
       "      <td>-0.104577</td>\n",
       "      <td>-0.116672</td>\n",
       "      <td>8.825126</td>\n",
       "      <td>0.620312</td>\n",
       "      <td>0.113863</td>\n",
       "      <td>0.132209</td>\n",
       "      <td>-8.162219</td>\n",
       "      <td>5.898506</td>\n",
       "      <td>-6.153701</td>\n",
       "    </tr>\n",
       "    <tr>\n",
       "      <th>1</th>\n",
       "      <td>0.0</td>\n",
       "      <td>0.0</td>\n",
       "      <td>0.0</td>\n",
       "      <td>1.0</td>\n",
       "      <td>1.0</td>\n",
       "      <td>0.0</td>\n",
       "      <td>0.999998</td>\n",
       "      <td>0.000002</td>\n",
       "      <td>-0.617367</td>\n",
       "      <td>-0.104577</td>\n",
       "      <td>-0.116672</td>\n",
       "      <td>8.825126</td>\n",
       "      <td>0.620312</td>\n",
       "      <td>0.113863</td>\n",
       "      <td>0.132209</td>\n",
       "      <td>-8.162219</td>\n",
       "      <td>9.926749</td>\n",
       "      <td>-10.257683</td>\n",
       "    </tr>\n",
       "    <tr>\n",
       "      <th>2</th>\n",
       "      <td>1.0</td>\n",
       "      <td>1.0</td>\n",
       "      <td>0.0</td>\n",
       "      <td>1.0</td>\n",
       "      <td>1.0</td>\n",
       "      <td>0.0</td>\n",
       "      <td>0.999648</td>\n",
       "      <td>0.000346</td>\n",
       "      <td>-0.617367</td>\n",
       "      <td>-0.104577</td>\n",
       "      <td>-0.116672</td>\n",
       "      <td>8.825126</td>\n",
       "      <td>0.620312</td>\n",
       "      <td>0.113863</td>\n",
       "      <td>0.132209</td>\n",
       "      <td>-8.162219</td>\n",
       "      <td>5.726903</td>\n",
       "      <td>-5.978871</td>\n",
       "    </tr>\n",
       "    <tr>\n",
       "      <th>3</th>\n",
       "      <td>1.0</td>\n",
       "      <td>0.0</td>\n",
       "      <td>0.0</td>\n",
       "      <td>0.0</td>\n",
       "      <td>0.0</td>\n",
       "      <td>1.0</td>\n",
       "      <td>0.000015</td>\n",
       "      <td>0.999986</td>\n",
       "      <td>-0.617367</td>\n",
       "      <td>-0.104577</td>\n",
       "      <td>-0.116672</td>\n",
       "      <td>8.825126</td>\n",
       "      <td>0.620312</td>\n",
       "      <td>0.113863</td>\n",
       "      <td>0.132209</td>\n",
       "      <td>-8.162219</td>\n",
       "      <td>-10.519448</td>\n",
       "      <td>10.572951</td>\n",
       "    </tr>\n",
       "    <tr>\n",
       "      <th>4</th>\n",
       "      <td>0.0</td>\n",
       "      <td>1.0</td>\n",
       "      <td>0.0</td>\n",
       "      <td>0.0</td>\n",
       "      <td>0.0</td>\n",
       "      <td>1.0</td>\n",
       "      <td>0.000018</td>\n",
       "      <td>0.999983</td>\n",
       "      <td>-0.617367</td>\n",
       "      <td>-0.104577</td>\n",
       "      <td>-0.116672</td>\n",
       "      <td>8.825126</td>\n",
       "      <td>0.620312</td>\n",
       "      <td>0.113863</td>\n",
       "      <td>0.132209</td>\n",
       "      <td>-8.162219</td>\n",
       "      <td>-10.826395</td>\n",
       "      <td>10.885671</td>\n",
       "    </tr>\n",
       "  </tbody>\n",
       "</table>\n",
       "</div>"
      ],
      "text/plain": [
       "   c_0  c_1  c_2  c_3  y_true_0  y_true_1  y_pred_0  y_pred_1  coeffs_c0_y0  \\\n",
       "0  0.0  1.0  1.0  1.0       1.0       0.0  0.999750  0.000242     -0.617367   \n",
       "1  0.0  0.0  0.0  1.0       1.0       0.0  0.999998  0.000002     -0.617367   \n",
       "2  1.0  1.0  0.0  1.0       1.0       0.0  0.999648  0.000346     -0.617367   \n",
       "3  1.0  0.0  0.0  0.0       0.0       1.0  0.000015  0.999986     -0.617367   \n",
       "4  0.0  1.0  0.0  0.0       0.0       1.0  0.000018  0.999983     -0.617367   \n",
       "\n",
       "   coeffs_c1_y0  coeffs_c2_y0  coeffs_c3_y0  coeffs_c0_y1  coeffs_c1_y1  \\\n",
       "0     -0.104577     -0.116672      8.825126      0.620312      0.113863   \n",
       "1     -0.104577     -0.116672      8.825126      0.620312      0.113863   \n",
       "2     -0.104577     -0.116672      8.825126      0.620312      0.113863   \n",
       "3     -0.104577     -0.116672      8.825126      0.620312      0.113863   \n",
       "4     -0.104577     -0.116672      8.825126      0.620312      0.113863   \n",
       "\n",
       "   coeffs_c2_y1  coeffs_c3_y1    bias_y0    bias_y1  \n",
       "0      0.132209     -8.162219   5.898506  -6.153701  \n",
       "1      0.132209     -8.162219   9.926749 -10.257683  \n",
       "2      0.132209     -8.162219   5.726903  -5.978871  \n",
       "3      0.132209     -8.162219 -10.519448  10.572951  \n",
       "4      0.132209     -8.162219 -10.826395  10.885671  "
      ]
     },
     "execution_count": 6,
     "metadata": {},
     "output_type": "execute_result"
    }
   ],
   "source": [
    "df.head()"
   ]
  },
  {
   "cell_type": "markdown",
   "metadata": {},
   "source": [
    "#### Average weight: Plotting the average weight of each concept (in absolute value) to analyze its importance\n",
    "We can focus on $y_1$ since it is TRUE (1) when the number is even"
   ]
  },
  {
   "cell_type": "code",
   "execution_count": 7,
   "metadata": {},
   "outputs": [
    {
     "data": {
      "image/png": "[encoded data removed]",
      "text/plain": [
       "<Figure size 640x480 with 1 Axes>"
      ]
     },
     "metadata": {},
     "output_type": "display_data"
    }
   ],
   "source": [
    "df_1 = df[['coeffs_c0_y1', 'coeffs_c1_y1', 'coeffs_c2_y1', 'coeffs_c3_y1']]\n",
    "\n",
    "for col in df_1.columns:\n",
    "    df_1[col] = np.abs(df_1[col])\n",
    "\n",
    "\n",
    "fig, ax = plt.subplots()\n",
    "\n",
    "\n",
    "# Assuming df_1 is correctly calculated before this snippet\n",
    "bar_width = 0.5\n",
    "colors = ['#1f77b4', '#ff7f0e', '#2ca02c', '#d62728']  # Custom colors for each bar\n",
    "hatches = ['/', '-', '|', '\\\\']  # Different hatches for each bar\n",
    "\n",
    "bars = ax.bar(df_1.columns, df_1.mean(axis=0), bar_width, color=colors, edgecolor='black')\n",
    "\n",
    "for bar, hatch in zip(bars, hatches):\n",
    "    bar.set_hatch(hatch)\n",
    "    \n",
    "ax.set_ylabel('Mean Absolute Value')\n",
    "ax.set_title('Mean Absolute Values of Weights (without Softmax)')\n",
    "ax.grid(True, linestyle='--', which='major', color='gray', alpha=0.5)\n",
    "\n",
    "# Enhanced label positioning\n",
    "for bar in bars:\n",
    "    yval = bar.get_height()\n",
    "    ax.text(bar.get_x() + bar.get_width()/2, yval + 0.03, f'{yval:.2f}', ha='center', va='bottom', fontsize=9, color='black')"
   ]
  },
  {
   "cell_type": "markdown",
   "metadata": {},
   "source": [
    "Verifying Results:"
   ]
  },
  {
   "cell_type": "code",
   "execution_count": 8,
   "metadata": {},
   "outputs": [
    {
     "data": {
      "text/plain": [
       "[{'class': 'y_0', 'explanation': 'c_3', 'count': 53},\n",
       " {'class': 'y_1', 'explanation': '~c_3', 'count': 47}]"
      ]
     },
     "execution_count": 8,
     "metadata": {},
     "output_type": "execute_result"
    }
   ],
   "source": [
    "llr.explain(x, c_pred, sign_attn, filter_attn, mode='global')"
   ]
  },
  {
   "cell_type": "markdown",
   "metadata": {},
   "source": [
    "______"
   ]
  },
  {
   "cell_type": "code",
   "execution_count": 9,
   "metadata": {},
   "outputs": [
    {
     "data": {
      "text/plain": [
       "<All keys matched successfully>"
      ]
     },
     "execution_count": 9,
     "metadata": {},
     "output_type": "execute_result"
    }
   ],
   "source": [
    "x, c, y = datasets.xor(100)\n",
    "\n",
    "# Encode target into one-hode y=[y_0, y_1]\n",
    "y = F.one_hot(y.long().ravel()).float()\n",
    "\n",
    "# Define the concept_encoder\n",
    "embedding_size = 8\n",
    "concept_encoder = torch.nn.Sequential(\n",
    "    torch.nn.Linear(x.shape[1], 10),\n",
    "    torch.nn.LeakyReLU(),\n",
    "    te.nn.ConceptEmbedding(10, c.shape[1], embedding_size),\n",
    ")\n",
    "\n",
    "# Define the DCR as task predictor\n",
    "task_predictor = ConceptReasoningLayer(\n",
    "    embedding_size, y.shape[1])\n",
    "\n",
    "dummy_c_emb, dummy_c_pred = concept_encoder(x)\n",
    "dummy_y, dummy_sign, dummy_filter = task_predictor(\n",
    "    dummy_c_emb, dummy_c_pred, return_attn=True)\n",
    "\n",
    "global_linearity = ReasoningLinearLayer(\n",
    "    dummy_sign.shape[1], dummy_filter.shape[1], y.shape[1], modality='NN')\n",
    "\n",
    "# Create a sequential model (cascaded)\n",
    "model = torch.nn.Sequential(\n",
    "    concept_encoder, task_predictor, global_linearity)\n",
    "\n",
    "\n",
    "model.load_state_dict(torch.load(PATH+'\\model_state_dict_LLRNN_XOR.pth'))"
   ]
  },
  {
   "cell_type": "code",
   "execution_count": 10,
   "metadata": {},
   "outputs": [],
   "source": [
    "cem = model[0]\n",
    "dcr = model[1]\n",
    "llr = model[2]\n",
    "cem.eval()\n",
    "dcr.eval()\n",
    "llr.eval()\n",
    "c_emb , c_pred = cem(x)\n",
    "y_pred, sign_attn, filter_attn = dcr(c_emb, c_pred, return_attn=True)\n",
    "pred , coeffs, bias = llr(sign_attn, filter_attn, c_pred, return_params=True)"
   ]
  },
  {
   "cell_type": "code",
   "execution_count": 11,
   "metadata": {},
   "outputs": [],
   "source": [
    "pred = torch.sigmoid(pred) # [0] for y_0, [1] for y_1"
   ]
  },
  {
   "cell_type": "code",
   "execution_count": 12,
   "metadata": {},
   "outputs": [],
   "source": [
    "df = pd.DataFrame({\n",
    "    'c_0': c[:, 0],\n",
    "    'c_1': c[:, 1],\n",
    "    'y_true_0': y[:, 0],\n",
    "    'y_true_1': y[:, 1],\n",
    "    'y_pred_0': pred[:, 0].detach().numpy(),\n",
    "    'y_pred_1': pred[:, 1].detach().numpy(),\n",
    "    'coeffs_c0_y0': coeffs[:,0,0].detach().numpy(),\n",
    "    'coeffs_c1_y0': coeffs[:,1,0].detach().numpy(),\n",
    "    'coeffs_c0_y1': coeffs[:,0, 1].detach().numpy(),\n",
    "    'coeffs_c1_y1': coeffs[:,1, 1].detach().numpy(),\n",
    "    'bias_y0': bias[:, 0].detach().numpy(),\n",
    "    'bias_y1': bias[:, 1].detach().numpy(),\n",
    "})"
   ]
  },
  {
   "cell_type": "markdown",
   "metadata": {},
   "source": [
    "#### Important:\n",
    "For this dataset, a number is even is the $c_3$ is even (i.e. equal to zero).\\\n",
    "The output of $y_0$ is 0 ($y_1$ is 1) means that the number IS EVEN."
   ]
  },
  {
   "cell_type": "code",
   "execution_count": 13,
   "metadata": {},
   "outputs": [
    {
     "data": {
      "text/html": [
       "<div>\n",
       "<style scoped>\n",
       "    .dataframe tbody tr th:only-of-type {\n",
       "        vertical-align: middle;\n",
       "    }\n",
       "\n",
       "    .dataframe tbody tr th {\n",
       "        vertical-align: top;\n",
       "    }\n",
       "\n",
       "    .dataframe thead th {\n",
       "        text-align: right;\n",
       "    }\n",
       "</style>\n",
       "<table border=\"1\" class=\"dataframe\">\n",
       "  <thead>\n",
       "    <tr style=\"text-align: right;\">\n",
       "      <th></th>\n",
       "      <th>c_0</th>\n",
       "      <th>c_1</th>\n",
       "      <th>y_true_0</th>\n",
       "      <th>y_true_1</th>\n",
       "      <th>y_pred_0</th>\n",
       "      <th>y_pred_1</th>\n",
       "      <th>coeffs_c0_y0</th>\n",
       "      <th>coeffs_c1_y0</th>\n",
       "      <th>coeffs_c0_y1</th>\n",
       "      <th>coeffs_c1_y1</th>\n",
       "      <th>bias_y0</th>\n",
       "      <th>bias_y1</th>\n",
       "    </tr>\n",
       "  </thead>\n",
       "  <tbody>\n",
       "    <tr>\n",
       "      <th>0</th>\n",
       "      <td>0.0</td>\n",
       "      <td>1.0</td>\n",
       "      <td>0.0</td>\n",
       "      <td>1.0</td>\n",
       "      <td>0.000675</td>\n",
       "      <td>0.999319</td>\n",
       "      <td>-0.592649</td>\n",
       "      <td>0.5144</td>\n",
       "      <td>0.592702</td>\n",
       "      <td>-0.514549</td>\n",
       "      <td>-7.814342</td>\n",
       "      <td>7.805490</td>\n",
       "    </tr>\n",
       "    <tr>\n",
       "      <th>1</th>\n",
       "      <td>1.0</td>\n",
       "      <td>1.0</td>\n",
       "      <td>1.0</td>\n",
       "      <td>0.0</td>\n",
       "      <td>0.999254</td>\n",
       "      <td>0.000739</td>\n",
       "      <td>-0.592649</td>\n",
       "      <td>0.5144</td>\n",
       "      <td>0.592702</td>\n",
       "      <td>-0.514549</td>\n",
       "      <td>7.278599</td>\n",
       "      <td>-7.287483</td>\n",
       "    </tr>\n",
       "    <tr>\n",
       "      <th>2</th>\n",
       "      <td>0.0</td>\n",
       "      <td>0.0</td>\n",
       "      <td>1.0</td>\n",
       "      <td>0.0</td>\n",
       "      <td>0.996876</td>\n",
       "      <td>0.003097</td>\n",
       "      <td>-0.592649</td>\n",
       "      <td>0.5144</td>\n",
       "      <td>0.592702</td>\n",
       "      <td>-0.514549</td>\n",
       "      <td>5.765411</td>\n",
       "      <td>-5.774288</td>\n",
       "    </tr>\n",
       "    <tr>\n",
       "      <th>3</th>\n",
       "      <td>0.0</td>\n",
       "      <td>1.0</td>\n",
       "      <td>0.0</td>\n",
       "      <td>1.0</td>\n",
       "      <td>0.000680</td>\n",
       "      <td>0.999314</td>\n",
       "      <td>-0.592649</td>\n",
       "      <td>0.5144</td>\n",
       "      <td>0.592702</td>\n",
       "      <td>-0.514549</td>\n",
       "      <td>-7.807758</td>\n",
       "      <td>7.798901</td>\n",
       "    </tr>\n",
       "    <tr>\n",
       "      <th>4</th>\n",
       "      <td>1.0</td>\n",
       "      <td>1.0</td>\n",
       "      <td>1.0</td>\n",
       "      <td>0.0</td>\n",
       "      <td>0.999554</td>\n",
       "      <td>0.000442</td>\n",
       "      <td>-0.592649</td>\n",
       "      <td>0.5144</td>\n",
       "      <td>0.592702</td>\n",
       "      <td>-0.514549</td>\n",
       "      <td>7.791553</td>\n",
       "      <td>-7.800434</td>\n",
       "    </tr>\n",
       "  </tbody>\n",
       "</table>\n",
       "</div>"
      ],
      "text/plain": [
       "   c_0  c_1  y_true_0  y_true_1  y_pred_0  y_pred_1  coeffs_c0_y0  \\\n",
       "0  0.0  1.0       0.0       1.0  0.000675  0.999319     -0.592649   \n",
       "1  1.0  1.0       1.0       0.0  0.999254  0.000739     -0.592649   \n",
       "2  0.0  0.0       1.0       0.0  0.996876  0.003097     -0.592649   \n",
       "3  0.0  1.0       0.0       1.0  0.000680  0.999314     -0.592649   \n",
       "4  1.0  1.0       1.0       0.0  0.999554  0.000442     -0.592649   \n",
       "\n",
       "   coeffs_c1_y0  coeffs_c0_y1  coeffs_c1_y1   bias_y0   bias_y1  \n",
       "0        0.5144      0.592702     -0.514549 -7.814342  7.805490  \n",
       "1        0.5144      0.592702     -0.514549  7.278599 -7.287483  \n",
       "2        0.5144      0.592702     -0.514549  5.765411 -5.774288  \n",
       "3        0.5144      0.592702     -0.514549 -7.807758  7.798901  \n",
       "4        0.5144      0.592702     -0.514549  7.791553 -7.800434  "
      ]
     },
     "execution_count": 13,
     "metadata": {},
     "output_type": "execute_result"
    }
   ],
   "source": [
    "df.head()"
   ]
  },
  {
   "cell_type": "markdown",
   "metadata": {},
   "source": [
    "#### Average weight: Plotting the average weight of each concept (in absolute value) to analyze its importance\n",
    "We can focus on $y_1$ since it is TRUE (1) when the number is even"
   ]
  },
  {
   "cell_type": "code",
   "execution_count": 14,
   "metadata": {},
   "outputs": [
    {
     "data": {
      "text/plain": [
       "(0.0, 0.6)"
      ]
     },
     "execution_count": 14,
     "metadata": {},
     "output_type": "execute_result"
    },
    {
     "data": {
      "image/png": "[encoded data removed]",
      "text/plain": [
       "<Figure size 640x480 with 1 Axes>"
      ]
     },
     "metadata": {},
     "output_type": "display_data"
    }
   ],
   "source": [
    "df_1 = df[['coeffs_c0_y1', 'coeffs_c1_y1']]\n",
    "\n",
    "for col in df_1.columns:\n",
    "    df_1[col] = np.abs(df_1[col])\n",
    "\n",
    "def softmax(x):\n",
    "    \"\"\"Compute softmax values for each sets of scores in x.\"\"\"\n",
    "    return np.exp(x) / np.sum(np.exp(x), axis=0)\n",
    "\n",
    "fig, ax = plt.subplots()\n",
    "\n",
    "# Assuming df_1 is correctly calculated before this snippet\n",
    "bar_width = 0.4\n",
    "colors = ['#1f77b4', '#ff7f0e', '#2ca02c', '#d62728']  # Custom colors for each bar\n",
    "hatches = ['/', '\\\\']  # Different hatches for each bar\n",
    "\n",
    "bars = ax.bar(df_1.columns, softmax(df_1.mean(axis=0)), bar_width, color=colors, edgecolor='black')\n",
    "\n",
    "for bar, hatch in zip(bars, hatches):\n",
    "    bar.set_hatch(hatch)\n",
    "\n",
    "for bar in bars:\n",
    "    yval = bar.get_height()\n",
    "    ax.text(bar.get_x() + bar.get_width()/2, yval + 0.01, f'{yval:.2f}', ha='center', va='bottom', color='black')\n",
    "\n",
    "ax.set_ylabel('Mean Absolute Value')\n",
    "ax.set_title('Mean Absolute Values of Weights (with Softmax)')\n",
    "ax.grid(True, linestyle='--', which='major', color='gray', alpha=0.5)\n",
    "ax.set_ylim(0, 0.6)\n"
   ]
  },
  {
   "cell_type": "markdown",
   "metadata": {},
   "source": [
    "Verifying Results:"
   ]
  },
  {
   "cell_type": "code",
   "execution_count": 18,
   "metadata": {},
   "outputs": [
    {
     "name": "stderr",
     "output_type": "stream",
     "text": [
      "2024-06-18 20:28:57,766 - torch_explain.nn.concepts - INFO - x: tensor([[0.3745, 0.9507],\n",
      "        [0.7320, 0.5987],\n",
      "        [0.1560, 0.1560],\n",
      "        [0.0581, 0.8662],\n",
      "        [0.6011, 0.7081],\n",
      "        [0.0206, 0.9699],\n",
      "        [0.8324, 0.2123],\n",
      "        [0.1818, 0.1834],\n",
      "        [0.3042, 0.5248],\n",
      "        [0.4319, 0.2912]])\n",
      "2024-06-18 20:28:57,769 - torch_explain.nn.concepts - INFO - Preds: tensor([[-7.2999,  7.2909],\n",
      "        [ 7.1999, -7.2089],\n",
      "        [ 5.7654, -5.7743],\n",
      "        [-7.2934,  7.2844],\n",
      "        [ 7.7142, -7.7232],\n",
      "        [-7.2933,  7.2843],\n",
      "        [-6.2509,  6.2421],\n",
      "        [ 5.7662, -5.7751],\n",
      "        [-5.0838,  5.0748],\n",
      "        [ 5.7819, -5.7908]], grad_fn=<AddBackward0>)\n",
      "2024-06-18 20:28:57,773 - torch_explain.nn.concepts - INFO - Transformed Coeffs: tensor([[[-0.5926,  0.5927],\n",
      "         [ 0.5144, -0.5145]],\n",
      "\n",
      "        [[-0.5926,  0.5927],\n",
      "         [ 0.5144, -0.5145]],\n",
      "\n",
      "        [[-0.5926,  0.5927],\n",
      "         [ 0.5144, -0.5145]],\n",
      "\n",
      "        [[-0.5926,  0.5927],\n",
      "         [ 0.5144, -0.5145]],\n",
      "\n",
      "        [[-0.5926,  0.5927],\n",
      "         [ 0.5144, -0.5145]],\n",
      "\n",
      "        [[-0.5926,  0.5927],\n",
      "         [ 0.5144, -0.5145]],\n",
      "\n",
      "        [[-0.5926,  0.5927],\n",
      "         [ 0.5144, -0.5145]],\n",
      "\n",
      "        [[-0.5926,  0.5927],\n",
      "         [ 0.5144, -0.5145]],\n",
      "\n",
      "        [[-0.5926,  0.5927],\n",
      "         [ 0.5144, -0.5145]],\n",
      "\n",
      "        [[-0.5926,  0.5927],\n",
      "         [ 0.5144, -0.5145]]], grad_fn=<NativeBatchNormBackward0>)\n",
      "2024-06-18 20:28:57,774 - torch_explain.nn.concepts - INFO - AFTER SOFT\n",
      "2024-06-18 20:28:57,777 - torch_explain.nn.concepts - INFO - x: tensor([[0.3745, 0.9507],\n",
      "        [0.7320, 0.5987],\n",
      "        [0.1560, 0.1560],\n",
      "        [0.0581, 0.8662],\n",
      "        [0.6011, 0.7081],\n",
      "        [0.0206, 0.9699],\n",
      "        [0.8324, 0.2123],\n",
      "        [0.1818, 0.1834],\n",
      "        [0.3042, 0.5248],\n",
      "        [0.4319, 0.2912]])\n",
      "2024-06-18 20:28:57,780 - torch_explain.nn.concepts - INFO - Preds: tensor([[6.7512e-04, 9.9932e-01],\n",
      "        [9.9925e-01, 7.3943e-04],\n",
      "        [9.9688e-01, 3.0968e-03],\n",
      "        [6.7958e-04, 9.9931e-01],\n",
      "        [9.9955e-01, 4.4226e-04],\n",
      "        [6.7959e-04, 9.9931e-01],\n",
      "        [1.9250e-03, 9.9806e-01],\n",
      "        [9.9688e-01, 3.0944e-03],\n",
      "        [6.1582e-03, 9.9379e-01],\n",
      "        [9.9693e-01, 3.0462e-03]], grad_fn=<SigmoidBackward0>)\n",
      "2024-06-18 20:28:57,784 - torch_explain.nn.concepts - INFO - Coeffs: tensor([[[0.5196, 0.5195],\n",
      "         [0.4804, 0.4805]],\n",
      "\n",
      "        [[0.5196, 0.5195],\n",
      "         [0.4804, 0.4805]],\n",
      "\n",
      "        [[0.5196, 0.5195],\n",
      "         [0.4804, 0.4805]],\n",
      "\n",
      "        [[0.5196, 0.5195],\n",
      "         [0.4804, 0.4805]],\n",
      "\n",
      "        [[0.5196, 0.5195],\n",
      "         [0.4804, 0.4805]],\n",
      "\n",
      "        [[0.5196, 0.5195],\n",
      "         [0.4804, 0.4805]],\n",
      "\n",
      "        [[0.5196, 0.5195],\n",
      "         [0.4804, 0.4805]],\n",
      "\n",
      "        [[0.5196, 0.5195],\n",
      "         [0.4804, 0.4805]],\n",
      "\n",
      "        [[0.5196, 0.5195],\n",
      "         [0.4804, 0.4805]],\n",
      "\n",
      "        [[0.5196, 0.5195],\n",
      "         [0.4804, 0.4805]]], grad_fn=<SoftmaxBackward0>)\n",
      "2024-06-18 20:28:57,787 - torch_explain.nn.concepts - INFO - prediction: tensor([False,  True])\n",
      "2024-06-18 20:28:57,788 - torch_explain.nn.concepts - INFO - Active Classes: tensor([1])\n",
      "2024-06-18 20:28:57,792 - torch_explain.nn.concepts - INFO - prediction: tensor([ True, False])\n",
      "2024-06-18 20:28:57,794 - torch_explain.nn.concepts - INFO - Active Classes: tensor([0])\n",
      "2024-06-18 20:28:57,798 - torch_explain.nn.concepts - INFO - prediction: tensor([ True, False])\n",
      "2024-06-18 20:28:57,800 - torch_explain.nn.concepts - INFO - Active Classes: tensor([0])\n",
      "2024-06-18 20:28:57,804 - torch_explain.nn.concepts - INFO - prediction: tensor([False,  True])\n",
      "2024-06-18 20:28:57,805 - torch_explain.nn.concepts - INFO - Active Classes: tensor([1])\n",
      "2024-06-18 20:28:57,808 - torch_explain.nn.concepts - INFO - prediction: tensor([ True, False])\n",
      "2024-06-18 20:28:57,810 - torch_explain.nn.concepts - INFO - Active Classes: tensor([0])\n",
      "2024-06-18 20:28:57,814 - torch_explain.nn.concepts - INFO - prediction: tensor([False,  True])\n",
      "2024-06-18 20:28:57,816 - torch_explain.nn.concepts - INFO - Active Classes: tensor([1])\n",
      "2024-06-18 20:28:57,821 - torch_explain.nn.concepts - INFO - prediction: tensor([False,  True])\n",
      "2024-06-18 20:28:57,823 - torch_explain.nn.concepts - INFO - Active Classes: tensor([1])\n",
      "2024-06-18 20:28:57,826 - torch_explain.nn.concepts - INFO - prediction: tensor([ True, False])\n",
      "2024-06-18 20:28:57,828 - torch_explain.nn.concepts - INFO - Active Classes: tensor([0])\n",
      "2024-06-18 20:28:57,831 - torch_explain.nn.concepts - INFO - prediction: tensor([False,  True])\n",
      "2024-06-18 20:28:57,833 - torch_explain.nn.concepts - INFO - Active Classes: tensor([1])\n",
      "2024-06-18 20:28:57,836 - torch_explain.nn.concepts - INFO - prediction: tensor([ True, False])\n",
      "2024-06-18 20:28:57,837 - torch_explain.nn.concepts - INFO - Active Classes: tensor([0])\n"
     ]
    },
    {
     "name": "stdout",
     "output_type": "stream",
     "text": [
      "Sign Expr: tensor([ 0.5927, -0.5145], grad_fn=<SelectBackward0>)\n",
      "Filter Expr: tensor([True, True])\n",
      "MinTerm: ['c_0']\n",
      "MinTerm: ['c_0', '~c_1']\n",
      "Sign Expr: tensor([-0.5926,  0.5144], grad_fn=<SelectBackward0>)\n",
      "Filter Expr: tensor([True, True])\n",
      "MinTerm: ['~c_0']\n",
      "MinTerm: ['~c_0', 'c_1']\n",
      "Sign Expr: tensor([-0.5926,  0.5144], grad_fn=<SelectBackward0>)\n",
      "Filter Expr: tensor([True, True])\n",
      "MinTerm: ['~c_0']\n",
      "MinTerm: ['~c_0', 'c_1']\n",
      "Sign Expr: tensor([ 0.5927, -0.5145], grad_fn=<SelectBackward0>)\n",
      "Filter Expr: tensor([True, True])\n",
      "MinTerm: ['c_0']\n",
      "MinTerm: ['c_0', '~c_1']\n",
      "Sign Expr: tensor([-0.5926,  0.5144], grad_fn=<SelectBackward0>)\n",
      "Filter Expr: tensor([True, True])\n",
      "MinTerm: ['~c_0']\n",
      "MinTerm: ['~c_0', 'c_1']\n",
      "Sign Expr: tensor([ 0.5927, -0.5145], grad_fn=<SelectBackward0>)\n",
      "Filter Expr: tensor([True, True])\n",
      "MinTerm: ['c_0']\n",
      "MinTerm: ['c_0', '~c_1']\n",
      "Sign Expr: tensor([ 0.5927, -0.5145], grad_fn=<SelectBackward0>)\n",
      "Filter Expr: tensor([True, True])\n",
      "MinTerm: ['c_0']\n",
      "MinTerm: ['c_0', '~c_1']\n",
      "Sign Expr: tensor([-0.5926,  0.5144], grad_fn=<SelectBackward0>)\n",
      "Filter Expr: tensor([True, True])\n",
      "MinTerm: ['~c_0']\n",
      "MinTerm: ['~c_0', 'c_1']\n",
      "Sign Expr: tensor([ 0.5927, -0.5145], grad_fn=<SelectBackward0>)\n",
      "Filter Expr: tensor([True, True])\n",
      "MinTerm: ['c_0']\n",
      "MinTerm: ['c_0', '~c_1']\n",
      "Sign Expr: tensor([-0.5926,  0.5144], grad_fn=<SelectBackward0>)\n",
      "Filter Expr: tensor([True, True])\n",
      "MinTerm: ['~c_0']\n",
      "MinTerm: ['~c_0', 'c_1']\n"
     ]
    },
    {
     "data": {
      "text/plain": [
       "[{'class': 'y_0', 'explanation': '~c_0 & c_1', 'count': 5},\n",
       " {'class': 'y_1', 'explanation': 'c_0 & ~c_1', 'count': 5}]"
      ]
     },
     "execution_count": 18,
     "metadata": {},
     "output_type": "execute_result"
    }
   ],
   "source": [
    "llr.explain(x[:10], c_pred[:10], sign_attn[:10], filter_attn[:10], mode='global', log=True)"
   ]
  },
  {
   "cell_type": "code",
   "execution_count": null,
   "metadata": {},
   "outputs": [],
   "source": []
  }
 ],
 "metadata": {
  "kernelspec": {
   "display_name": "env",
   "language": "python",
   "name": "python3"
  },
  "language_info": {
   "codemirror_mode": {
    "name": "ipython",
    "version": 3
   },
   "file_extension": ".py",
   "mimetype": "text/x-python",
   "name": "python",
   "nbconvert_exporter": "python",
   "pygments_lexer": "ipython3",
   "version": "3.11.4"
  }
 },
 "nbformat": 4,
 "nbformat_minor": 2
}
