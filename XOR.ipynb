{
 "cells": [
  {
   "cell_type": "markdown",
   "metadata": {},
   "source": [
    "### XOR"
   ]
  },
  {
   "cell_type": "code",
   "execution_count": 1,
   "metadata": {},
   "outputs": [
    {
     "name": "stderr",
     "output_type": "stream",
     "text": [
      "2024-07-21 01:11:07,908 - matplotlib - DEBUG - matplotlib data path: d:\\Github\\pytorch_explain\\env\\Lib\\site-packages\\matplotlib\\mpl-data\n",
      "2024-07-21 01:11:07,915 - matplotlib - DEBUG - CONFIGDIR=C:\\Users\\a_h9\\.matplotlib\n",
      "2024-07-21 01:11:07,939 - matplotlib - DEBUG - interactive is False\n",
      "2024-07-21 01:11:07,940 - matplotlib - DEBUG - platform is win32\n",
      "2024-07-21 01:11:08,018 - matplotlib - DEBUG - CACHEDIR=C:\\Users\\a_h9\\.matplotlib\n",
      "2024-07-21 01:11:08,022 - matplotlib.font_manager - DEBUG - Using fontManager instance from C:\\Users\\a_h9\\.matplotlib\\fontlist-v390.json\n",
      "2024-07-21 01:11:08,344 - matplotlib.pyplot - DEBUG - Loaded backend module://matplotlib_inline.backend_inline version unknown.\n",
      "2024-07-21 01:11:08,348 - matplotlib.pyplot - DEBUG - Loaded backend inline version unknown.\n"
     ]
    }
   ],
   "source": [
    "import torch.nn.functional as F\n",
    "from torch_explain.nn.concepts import ConceptReasoningLayer, IntpLinearLayer1, IntpLinearLayer2, IntpLinearLayer3\n",
    "import torch\n",
    "import numpy as np\n",
    "import pandas as pd\n",
    "import matplotlib.pyplot as plt\n",
    "import torch_explain as te\n",
    "from torch_explain import datasets\n",
    "from sklearn.metrics import accuracy_score\n",
    "from sklearn.model_selection import train_test_split\n",
    "\n",
    "%matplotlib inline\n",
    "import logging\n",
    "import warnings\n",
    "warnings.filterwarnings('ignore')\n",
    "# Set the logging level for matplotlib to WARNING to suppress debug information\n",
    "logging.getLogger('matplotlib').setLevel(logging.WARNING)\n",
    "\n",
    "\n",
    "PATH = 'models/'"
   ]
  },
  {
   "cell_type": "code",
   "execution_count": 2,
   "metadata": {},
   "outputs": [],
   "source": [
    "from torch_explain.datasets import xor\n",
    "x, c, y = xor(1000)"
   ]
  },
  {
   "cell_type": "code",
   "execution_count": 4,
   "metadata": {},
   "outputs": [],
   "source": [
    "y = F.one_hot(y.long().ravel()).float()"
   ]
  },
  {
   "cell_type": "markdown",
   "metadata": {},
   "source": [
    "DCR"
   ]
  },
  {
   "cell_type": "code",
   "execution_count": 7,
   "metadata": {},
   "outputs": [],
   "source": [
    "embedding_size = 16\n",
    "concept_encoder = torch.nn.Sequential(\n",
    "    torch.nn.Linear(x.shape[1], 16),\n",
    "    torch.nn.LeakyReLU(),\n",
    "    te.nn.ConceptEmbedding(16, c.shape[1], embedding_size),\n",
    ")\n",
    "\n",
    "task_predictor = ConceptReasoningLayer(embedding_size, y.shape[1])\n",
    "model = torch.nn.Sequential(concept_encoder, task_predictor)"
   ]
  },
  {
   "cell_type": "code",
   "execution_count": 8,
   "metadata": {},
   "outputs": [
    {
     "data": {
      "text/plain": [
       "<All keys matched successfully>"
      ]
     },
     "execution_count": 8,
     "metadata": {},
     "output_type": "execute_result"
    }
   ],
   "source": [
    "import os\n",
    "model.load_state_dict(torch.load(os.path.join(PATH,'model_state_dict_DCRBase_XOR.pth')))"
   ]
  },
  {
   "cell_type": "code",
   "execution_count": 9,
   "metadata": {},
   "outputs": [],
   "source": [
    "cem = model[0]\n",
    "dcr = model[1]\n",
    "cem.eval()\n",
    "dcr.eval()\n",
    "c_emb , c_pred = cem(x)\n",
    "y_pred, sign_attn, filter_attn = dcr(c_emb, c_pred, return_attn=True)\n"
   ]
  },
  {
   "cell_type": "code",
   "execution_count": 12,
   "metadata": {},
   "outputs": [
    {
     "data": {
      "text/plain": [
       "[{'class': 'y_0', 'explanation': 'c_0 & c_1', 'count': 256},\n",
       " {'class': 'y_0', 'explanation': '~c_0 & ~c_1', 'count': 239},\n",
       " {'class': 'y_1', 'explanation': '~c_0 & c_1', 'count': 261},\n",
       " {'class': 'y_1', 'explanation': 'c_0 & ~c_1', 'count': 244}]"
      ]
     },
     "execution_count": 12,
     "metadata": {},
     "output_type": "execute_result"
    }
   ],
   "source": [
    "dcr.explain( c_emb, c_pred, mode='global')"
   ]
  },
  {
   "cell_type": "markdown",
   "metadata": {},
   "source": [
    "LLR 1"
   ]
  },
  {
   "cell_type": "code",
   "execution_count": 13,
   "metadata": {},
   "outputs": [],
   "source": [
    "isBias = True"
   ]
  },
  {
   "cell_type": "code",
   "execution_count": 14,
   "metadata": {},
   "outputs": [],
   "source": [
    "embedding_size = 16\n",
    "concept_encoder = torch.nn.Sequential(\n",
    "    torch.nn.Linear(x.shape[1], 16),\n",
    "    torch.nn.LeakyReLU(),\n",
    "    te.nn.ConceptEmbedding(16, c.shape[1], embedding_size),\n",
    ")\n",
    "\n",
    "task_predictor = IntpLinearLayer1(embedding_size, y.shape[1], bias=isBias)\n",
    "model = torch.nn.Sequential(concept_encoder, task_predictor)"
   ]
  },
  {
   "cell_type": "code",
   "execution_count": 15,
   "metadata": {},
   "outputs": [
    {
     "data": {
      "text/plain": [
       "<All keys matched successfully>"
      ]
     },
     "execution_count": 15,
     "metadata": {},
     "output_type": "execute_result"
    }
   ],
   "source": [
    "import os\n",
    "model.load_state_dict(torch.load(os.path.join(PATH,'model_state_dict_LLR1_XOR.pth')))"
   ]
  },
  {
   "cell_type": "code",
   "execution_count": 16,
   "metadata": {},
   "outputs": [],
   "source": [
    "cem = model[0]\n",
    "llr = model[1]\n",
    "cem.eval()\n",
    "llr.eval()\n",
    "c_emb , c_pred = cem(x)\n",
    "y_pred, weights, biases = llr(c_emb, c_pred, return_params=True)"
   ]
  },
  {
   "cell_type": "code",
   "execution_count": 17,
   "metadata": {},
   "outputs": [
    {
     "data": {
      "text/plain": [
       "(torch.Size([1000, 2]), torch.Size([1000, 2, 2]), torch.Size([1000, 2]))"
      ]
     },
     "execution_count": 17,
     "metadata": {},
     "output_type": "execute_result"
    }
   ],
   "source": [
    "y_pred.shape, weights.shape, biases.shape"
   ]
  },
  {
   "cell_type": "code",
   "execution_count": 22,
   "metadata": {},
   "outputs": [],
   "source": [
    "dataframes = [pd.DataFrame() for _ in range(2)]\n",
    "for i in range(2):\n",
    "    dataframes[i]['c_0'] = c[:,0].detach().numpy()\n",
    "    dataframes[i]['c_1'] = c[:,1].detach().numpy()\n",
    "    dataframes[i]['w_0'] = weights[:,0,i].detach().numpy()\n",
    "    dataframes[i]['w_1'] = weights[:,1,i].detach().numpy()\n",
    "    dataframes[i]['bias'] = biases[:,i].detach().numpy()\n",
    "    dataframes[i]['y'] = y[:,i].detach().numpy()"
   ]
  },
  {
   "cell_type": "code",
   "execution_count": 23,
   "metadata": {},
   "outputs": [
    {
     "data": {
      "text/html": [
       "<div>\n",
       "<style scoped>\n",
       "    .dataframe tbody tr th:only-of-type {\n",
       "        vertical-align: middle;\n",
       "    }\n",
       "\n",
       "    .dataframe tbody tr th {\n",
       "        vertical-align: top;\n",
       "    }\n",
       "\n",
       "    .dataframe thead th {\n",
       "        text-align: right;\n",
       "    }\n",
       "</style>\n",
       "<table border=\"1\" class=\"dataframe\">\n",
       "  <thead>\n",
       "    <tr style=\"text-align: right;\">\n",
       "      <th></th>\n",
       "      <th>c_0</th>\n",
       "      <th>c_1</th>\n",
       "      <th>w_0</th>\n",
       "      <th>w_1</th>\n",
       "      <th>bias</th>\n",
       "      <th>y</th>\n",
       "    </tr>\n",
       "  </thead>\n",
       "  <tbody>\n",
       "    <tr>\n",
       "      <th>0</th>\n",
       "      <td>0.0</td>\n",
       "      <td>1.0</td>\n",
       "      <td>0.004096</td>\n",
       "      <td>0.000308</td>\n",
       "      <td>-10.592157</td>\n",
       "      <td>0.0</td>\n",
       "    </tr>\n",
       "    <tr>\n",
       "      <th>1</th>\n",
       "      <td>1.0</td>\n",
       "      <td>1.0</td>\n",
       "      <td>0.082607</td>\n",
       "      <td>0.965485</td>\n",
       "      <td>5.270632</td>\n",
       "      <td>1.0</td>\n",
       "    </tr>\n",
       "    <tr>\n",
       "      <th>2</th>\n",
       "      <td>0.0</td>\n",
       "      <td>0.0</td>\n",
       "      <td>0.941537</td>\n",
       "      <td>0.989170</td>\n",
       "      <td>8.935375</td>\n",
       "      <td>1.0</td>\n",
       "    </tr>\n",
       "    <tr>\n",
       "      <th>3</th>\n",
       "      <td>0.0</td>\n",
       "      <td>1.0</td>\n",
       "      <td>0.012790</td>\n",
       "      <td>0.000119</td>\n",
       "      <td>-11.170920</td>\n",
       "      <td>0.0</td>\n",
       "    </tr>\n",
       "    <tr>\n",
       "      <th>4</th>\n",
       "      <td>1.0</td>\n",
       "      <td>1.0</td>\n",
       "      <td>0.846210</td>\n",
       "      <td>0.226720</td>\n",
       "      <td>4.436595</td>\n",
       "      <td>1.0</td>\n",
       "    </tr>\n",
       "  </tbody>\n",
       "</table>\n",
       "</div>"
      ],
      "text/plain": [
       "   c_0  c_1       w_0       w_1       bias    y\n",
       "0  0.0  1.0  0.004096  0.000308 -10.592157  0.0\n",
       "1  1.0  1.0  0.082607  0.965485   5.270632  1.0\n",
       "2  0.0  0.0  0.941537  0.989170   8.935375  1.0\n",
       "3  0.0  1.0  0.012790  0.000119 -11.170920  0.0\n",
       "4  1.0  1.0  0.846210  0.226720   4.436595  1.0"
      ]
     },
     "execution_count": 23,
     "metadata": {},
     "output_type": "execute_result"
    }
   ],
   "source": [
    "dataframes[0].head()"
   ]
  },
  {
   "cell_type": "markdown",
   "metadata": {},
   "source": [
    "LLR 2"
   ]
  },
  {
   "cell_type": "code",
   "execution_count": 24,
   "metadata": {},
   "outputs": [],
   "source": [
    "embedding_size = 16\n",
    "concept_encoder = torch.nn.Sequential(\n",
    "    torch.nn.Linear(x.shape[1], 16),\n",
    "    torch.nn.LeakyReLU(),\n",
    "    te.nn.ConceptEmbedding(16, c.shape[1], embedding_size),\n",
    ")\n",
    "\n",
    "task_predictor = IntpLinearLayer2(embedding_size, y.shape[1], bias=isBias)\n",
    "model = torch.nn.Sequential(concept_encoder, task_predictor)"
   ]
  },
  {
   "cell_type": "code",
   "execution_count": 26,
   "metadata": {},
   "outputs": [
    {
     "data": {
      "text/plain": [
       "<All keys matched successfully>"
      ]
     },
     "execution_count": 26,
     "metadata": {},
     "output_type": "execute_result"
    }
   ],
   "source": [
    "import os\n",
    "model.load_state_dict(torch.load(os.path.join(PATH,'model_state_dict_LLR2_XOR.pth')))"
   ]
  },
  {
   "cell_type": "code",
   "execution_count": 27,
   "metadata": {},
   "outputs": [],
   "source": [
    "cem = model[0]\n",
    "llr = model[1]\n",
    "cem.eval()\n",
    "llr.eval()\n",
    "c_emb , c_pred = cem(x)\n",
    "y_pred, weights, biases = llr(c_emb, c_pred, return_params=True)"
   ]
  },
  {
   "cell_type": "code",
   "execution_count": 28,
   "metadata": {},
   "outputs": [
    {
     "data": {
      "text/plain": [
       "(torch.Size([1000, 2]), torch.Size([1000, 4, 2]), torch.Size([1000, 2]))"
      ]
     },
     "execution_count": 28,
     "metadata": {},
     "output_type": "execute_result"
    }
   ],
   "source": [
    "y_pred.shape, weights.shape, biases.shape"
   ]
  },
  {
   "cell_type": "code",
   "execution_count": 29,
   "metadata": {},
   "outputs": [],
   "source": [
    "dataframes = [pd.DataFrame() for _ in range(2)]\n",
    "for i in range(2):\n",
    "    dataframes[i]['c_0'] = c[:,0].detach().numpy()\n",
    "    dataframes[i]['c_1'] = c[:,1].detach().numpy()\n",
    "    dataframes[i]['w_0'] = weights[:,0,i].detach().numpy()\n",
    "    dataframes[i]['w_1'] = weights[:,1,i].detach().numpy()\n",
    "    dataframes[i]['bias'] = biases[:,i].detach().numpy()\n",
    "    dataframes[i]['y'] = y[:,i].detach().numpy()"
   ]
  },
  {
   "cell_type": "code",
   "execution_count": 30,
   "metadata": {},
   "outputs": [
    {
     "data": {
      "text/html": [
       "<div>\n",
       "<style scoped>\n",
       "    .dataframe tbody tr th:only-of-type {\n",
       "        vertical-align: middle;\n",
       "    }\n",
       "\n",
       "    .dataframe tbody tr th {\n",
       "        vertical-align: top;\n",
       "    }\n",
       "\n",
       "    .dataframe thead th {\n",
       "        text-align: right;\n",
       "    }\n",
       "</style>\n",
       "<table border=\"1\" class=\"dataframe\">\n",
       "  <thead>\n",
       "    <tr style=\"text-align: right;\">\n",
       "      <th></th>\n",
       "      <th>c_0</th>\n",
       "      <th>c_1</th>\n",
       "      <th>w_0</th>\n",
       "      <th>w_1</th>\n",
       "      <th>bias</th>\n",
       "      <th>y</th>\n",
       "    </tr>\n",
       "  </thead>\n",
       "  <tbody>\n",
       "    <tr>\n",
       "      <th>0</th>\n",
       "      <td>0.0</td>\n",
       "      <td>1.0</td>\n",
       "      <td>0.002985</td>\n",
       "      <td>0.161829</td>\n",
       "      <td>-9.438059</td>\n",
       "      <td>0.0</td>\n",
       "    </tr>\n",
       "    <tr>\n",
       "      <th>1</th>\n",
       "      <td>1.0</td>\n",
       "      <td>1.0</td>\n",
       "      <td>0.864846</td>\n",
       "      <td>0.960241</td>\n",
       "      <td>5.419125</td>\n",
       "      <td>1.0</td>\n",
       "    </tr>\n",
       "    <tr>\n",
       "      <th>2</th>\n",
       "      <td>0.0</td>\n",
       "      <td>0.0</td>\n",
       "      <td>0.924686</td>\n",
       "      <td>0.907127</td>\n",
       "      <td>7.963484</td>\n",
       "      <td>1.0</td>\n",
       "    </tr>\n",
       "    <tr>\n",
       "      <th>3</th>\n",
       "      <td>0.0</td>\n",
       "      <td>1.0</td>\n",
       "      <td>0.017072</td>\n",
       "      <td>0.006331</td>\n",
       "      <td>-10.382553</td>\n",
       "      <td>0.0</td>\n",
       "    </tr>\n",
       "    <tr>\n",
       "      <th>4</th>\n",
       "      <td>1.0</td>\n",
       "      <td>1.0</td>\n",
       "      <td>0.946391</td>\n",
       "      <td>0.841722</td>\n",
       "      <td>5.438396</td>\n",
       "      <td>1.0</td>\n",
       "    </tr>\n",
       "  </tbody>\n",
       "</table>\n",
       "</div>"
      ],
      "text/plain": [
       "   c_0  c_1       w_0       w_1       bias    y\n",
       "0  0.0  1.0  0.002985  0.161829  -9.438059  0.0\n",
       "1  1.0  1.0  0.864846  0.960241   5.419125  1.0\n",
       "2  0.0  0.0  0.924686  0.907127   7.963484  1.0\n",
       "3  0.0  1.0  0.017072  0.006331 -10.382553  0.0\n",
       "4  1.0  1.0  0.946391  0.841722   5.438396  1.0"
      ]
     },
     "execution_count": 30,
     "metadata": {},
     "output_type": "execute_result"
    }
   ],
   "source": [
    "dataframes[0].head()"
   ]
  },
  {
   "cell_type": "markdown",
   "metadata": {},
   "source": [
    "LLR 3"
   ]
  },
  {
   "cell_type": "code",
   "execution_count": 31,
   "metadata": {},
   "outputs": [],
   "source": [
    "embedding_size = 16\n",
    "concept_encoder = torch.nn.Sequential(\n",
    "    torch.nn.Linear(x.shape[1], 16),\n",
    "    torch.nn.LeakyReLU(),\n",
    "    te.nn.ConceptEmbedding(16, c.shape[1], embedding_size),\n",
    ")\n",
    "\n",
    "task_predictor = IntpLinearLayer3(embedding_size, y.shape[1], bias=isBias)\n",
    "model = torch.nn.Sequential(concept_encoder, task_predictor)"
   ]
  },
  {
   "cell_type": "code",
   "execution_count": 32,
   "metadata": {},
   "outputs": [
    {
     "data": {
      "text/plain": [
       "<All keys matched successfully>"
      ]
     },
     "execution_count": 32,
     "metadata": {},
     "output_type": "execute_result"
    }
   ],
   "source": [
    "import os\n",
    "model.load_state_dict(torch.load(os.path.join(PATH,'model_state_dict_LLR3_XOR.pth')))"
   ]
  },
  {
   "cell_type": "code",
   "execution_count": 33,
   "metadata": {},
   "outputs": [],
   "source": [
    "cem = model[0]\n",
    "llr = model[1]\n",
    "cem.eval()\n",
    "llr.eval()\n",
    "c_emb , c_pred = cem(x)\n",
    "y_pred, weights, biases = llr(c_emb, c_pred, return_params=True)"
   ]
  },
  {
   "cell_type": "code",
   "execution_count": 34,
   "metadata": {},
   "outputs": [
    {
     "data": {
      "text/plain": [
       "(torch.Size([1000, 2]), torch.Size([1000, 2, 2]), torch.Size([1000, 2]))"
      ]
     },
     "execution_count": 34,
     "metadata": {},
     "output_type": "execute_result"
    }
   ],
   "source": [
    "y_pred.shape, weights.shape, biases.shape"
   ]
  },
  {
   "cell_type": "code",
   "execution_count": 35,
   "metadata": {},
   "outputs": [],
   "source": [
    "dataframes = [pd.DataFrame() for _ in range(2)]\n",
    "for i in range(2):\n",
    "    dataframes[i]['c_0'] = c[:,0].detach().numpy()\n",
    "    dataframes[i]['c_1'] = c[:,1].detach().numpy()\n",
    "    dataframes[i]['w_0'] = weights[:,0,i].detach().numpy()\n",
    "    dataframes[i]['w_1'] = weights[:,1,i].detach().numpy()\n",
    "    dataframes[i]['bias'] = biases[:,i].detach().numpy()\n",
    "    dataframes[i]['y'] = y[:,i].detach().numpy()"
   ]
  },
  {
   "cell_type": "code",
   "execution_count": 36,
   "metadata": {},
   "outputs": [
    {
     "data": {
      "text/html": [
       "<div>\n",
       "<style scoped>\n",
       "    .dataframe tbody tr th:only-of-type {\n",
       "        vertical-align: middle;\n",
       "    }\n",
       "\n",
       "    .dataframe tbody tr th {\n",
       "        vertical-align: top;\n",
       "    }\n",
       "\n",
       "    .dataframe thead th {\n",
       "        text-align: right;\n",
       "    }\n",
       "</style>\n",
       "<table border=\"1\" class=\"dataframe\">\n",
       "  <thead>\n",
       "    <tr style=\"text-align: right;\">\n",
       "      <th></th>\n",
       "      <th>c_0</th>\n",
       "      <th>c_1</th>\n",
       "      <th>w_0</th>\n",
       "      <th>w_1</th>\n",
       "      <th>bias</th>\n",
       "      <th>y</th>\n",
       "    </tr>\n",
       "  </thead>\n",
       "  <tbody>\n",
       "    <tr>\n",
       "      <th>0</th>\n",
       "      <td>0.0</td>\n",
       "      <td>1.0</td>\n",
       "      <td>-0.935676</td>\n",
       "      <td>-0.867697</td>\n",
       "      <td>-7.471285</td>\n",
       "      <td>0.0</td>\n",
       "    </tr>\n",
       "    <tr>\n",
       "      <th>1</th>\n",
       "      <td>1.0</td>\n",
       "      <td>1.0</td>\n",
       "      <td>0.758933</td>\n",
       "      <td>0.958701</td>\n",
       "      <td>5.458310</td>\n",
       "      <td>1.0</td>\n",
       "    </tr>\n",
       "    <tr>\n",
       "      <th>2</th>\n",
       "      <td>0.0</td>\n",
       "      <td>0.0</td>\n",
       "      <td>0.860083</td>\n",
       "      <td>0.938507</td>\n",
       "      <td>10.202852</td>\n",
       "      <td>1.0</td>\n",
       "    </tr>\n",
       "    <tr>\n",
       "      <th>3</th>\n",
       "      <td>0.0</td>\n",
       "      <td>1.0</td>\n",
       "      <td>-0.802925</td>\n",
       "      <td>-0.995537</td>\n",
       "      <td>-10.512743</td>\n",
       "      <td>0.0</td>\n",
       "    </tr>\n",
       "    <tr>\n",
       "      <th>4</th>\n",
       "      <td>1.0</td>\n",
       "      <td>1.0</td>\n",
       "      <td>0.926309</td>\n",
       "      <td>0.840087</td>\n",
       "      <td>4.921591</td>\n",
       "      <td>1.0</td>\n",
       "    </tr>\n",
       "  </tbody>\n",
       "</table>\n",
       "</div>"
      ],
      "text/plain": [
       "   c_0  c_1       w_0       w_1       bias    y\n",
       "0  0.0  1.0 -0.935676 -0.867697  -7.471285  0.0\n",
       "1  1.0  1.0  0.758933  0.958701   5.458310  1.0\n",
       "2  0.0  0.0  0.860083  0.938507  10.202852  1.0\n",
       "3  0.0  1.0 -0.802925 -0.995537 -10.512743  0.0\n",
       "4  1.0  1.0  0.926309  0.840087   4.921591  1.0"
      ]
     },
     "execution_count": 36,
     "metadata": {},
     "output_type": "execute_result"
    }
   ],
   "source": [
    "dataframes[0].head()"
   ]
  },
  {
   "cell_type": "markdown",
   "metadata": {},
   "source": [
    "_____"
   ]
  }
 ],
 "metadata": {
  "kernelspec": {
   "display_name": "env",
   "language": "python",
   "name": "python3"
  },
  "language_info": {
   "codemirror_mode": {
    "name": "ipython",
    "version": 3
   },
   "file_extension": ".py",
   "mimetype": "text/x-python",
   "name": "python",
   "nbconvert_exporter": "python",
   "pygments_lexer": "ipython3",
   "version": "3.11.4"
  }
 },
 "nbformat": 4,
 "nbformat_minor": 2
}
