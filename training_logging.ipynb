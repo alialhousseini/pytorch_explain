{
  "cells": [
    {
      "cell_type": "code",
      "execution_count": null,
      "metadata": {
        "colab": {
          "base_uri": "https://localhost:8080/",
          "height": 304
        },
        "id": "P5m-yKkbGrv_",
        "outputId": "002a1db1-b5eb-4445-c028-3083dcd41011"
      },
      "outputs": [
        {
          "ename": "ValueError",
          "evalue": "mount failed",
          "output_type": "error",
          "traceback": [
            "\u001b[0;31m---------------------------------------------------------------------------\u001b[0m",
            "\u001b[0;31mValueError\u001b[0m                                Traceback (most recent call last)",
            "\u001b[0;32m<ipython-input-1-d5df0069828e>\u001b[0m in \u001b[0;36m<cell line: 2>\u001b[0;34m()\u001b[0m\n\u001b[1;32m      1\u001b[0m \u001b[0;32mfrom\u001b[0m \u001b[0mgoogle\u001b[0m\u001b[0;34m.\u001b[0m\u001b[0mcolab\u001b[0m \u001b[0;32mimport\u001b[0m \u001b[0mdrive\u001b[0m\u001b[0;34m\u001b[0m\u001b[0;34m\u001b[0m\u001b[0m\n\u001b[0;32m----> 2\u001b[0;31m \u001b[0mdrive\u001b[0m\u001b[0;34m.\u001b[0m\u001b[0mmount\u001b[0m\u001b[0;34m(\u001b[0m\u001b[0;34m'/content/drive'\u001b[0m\u001b[0;34m)\u001b[0m\u001b[0;34m\u001b[0m\u001b[0;34m\u001b[0m\u001b[0m\n\u001b[0m",
            "\u001b[0;32m/usr/local/lib/python3.10/dist-packages/google/colab/drive.py\u001b[0m in \u001b[0;36mmount\u001b[0;34m(mountpoint, force_remount, timeout_ms, readonly)\u001b[0m\n\u001b[1;32m     98\u001b[0m \u001b[0;32mdef\u001b[0m \u001b[0mmount\u001b[0m\u001b[0;34m(\u001b[0m\u001b[0mmountpoint\u001b[0m\u001b[0;34m,\u001b[0m \u001b[0mforce_remount\u001b[0m\u001b[0;34m=\u001b[0m\u001b[0;32mFalse\u001b[0m\u001b[0;34m,\u001b[0m \u001b[0mtimeout_ms\u001b[0m\u001b[0;34m=\u001b[0m\u001b[0;36m120000\u001b[0m\u001b[0;34m,\u001b[0m \u001b[0mreadonly\u001b[0m\u001b[0;34m=\u001b[0m\u001b[0;32mFalse\u001b[0m\u001b[0;34m)\u001b[0m\u001b[0;34m:\u001b[0m\u001b[0;34m\u001b[0m\u001b[0;34m\u001b[0m\u001b[0m\n\u001b[1;32m     99\u001b[0m   \u001b[0;34m\"\"\"Mount your Google Drive at the specified mountpoint path.\"\"\"\u001b[0m\u001b[0;34m\u001b[0m\u001b[0;34m\u001b[0m\u001b[0m\n\u001b[0;32m--> 100\u001b[0;31m   return _mount(\n\u001b[0m\u001b[1;32m    101\u001b[0m       \u001b[0mmountpoint\u001b[0m\u001b[0;34m,\u001b[0m\u001b[0;34m\u001b[0m\u001b[0;34m\u001b[0m\u001b[0m\n\u001b[1;32m    102\u001b[0m       \u001b[0mforce_remount\u001b[0m\u001b[0;34m=\u001b[0m\u001b[0mforce_remount\u001b[0m\u001b[0;34m,\u001b[0m\u001b[0;34m\u001b[0m\u001b[0;34m\u001b[0m\u001b[0m\n",
            "\u001b[0;32m/usr/local/lib/python3.10/dist-packages/google/colab/drive.py\u001b[0m in \u001b[0;36m_mount\u001b[0;34m(mountpoint, force_remount, timeout_ms, ephemeral, readonly)\u001b[0m\n\u001b[1;32m    281\u001b[0m             \u001b[0;34m'https://research.google.com/colaboratory/faq.html#drive-timeout'\u001b[0m\u001b[0;34m\u001b[0m\u001b[0;34m\u001b[0m\u001b[0m\n\u001b[1;32m    282\u001b[0m         )\n\u001b[0;32m--> 283\u001b[0;31m       \u001b[0;32mraise\u001b[0m \u001b[0mValueError\u001b[0m\u001b[0;34m(\u001b[0m\u001b[0;34m'mount failed'\u001b[0m \u001b[0;34m+\u001b[0m \u001b[0mextra_reason\u001b[0m\u001b[0;34m)\u001b[0m\u001b[0;34m\u001b[0m\u001b[0;34m\u001b[0m\u001b[0m\n\u001b[0m\u001b[1;32m    284\u001b[0m     \u001b[0;32melif\u001b[0m \u001b[0mcase\u001b[0m \u001b[0;34m==\u001b[0m \u001b[0;36m4\u001b[0m\u001b[0;34m:\u001b[0m\u001b[0;34m\u001b[0m\u001b[0;34m\u001b[0m\u001b[0m\n\u001b[1;32m    285\u001b[0m       \u001b[0;31m# Terminate the DriveFS binary before killing bash.\u001b[0m\u001b[0;34m\u001b[0m\u001b[0;34m\u001b[0m\u001b[0m\n",
            "\u001b[0;31mValueError\u001b[0m: mount failed"
          ]
        }
      ],
      "source": [
        "from google.colab import drive\n",
        "drive.mount('/content/drive')"
      ]
    },
    {
      "cell_type": "code",
      "execution_count": null,
      "metadata": {
        "id": "zWHi-lEyIQoa"
      },
      "outputs": [],
      "source": [
        "pwd"
      ]
    },
    {
      "cell_type": "markdown",
      "metadata": {
        "id": "2jfJkxDgLBmB"
      },
      "source": [
        "#### Import MNIST"
      ]
    },
    {
      "cell_type": "code",
      "execution_count": null,
      "metadata": {
        "id": "CGErf7ZQGFK8"
      },
      "outputs": [],
      "source": [
        "import numpy as np\n",
        "import os\n",
        "import struct\n",
        "\n",
        "def read_idx(filename):\n",
        "    with open(filename, 'rb') as f:\n",
        "        zero, data_type, dims = struct.unpack('>HBB', f.read(4))\n",
        "        shape = tuple(struct.unpack('>I', f.read(4))[0] for d in range(dims))\n",
        "        return np.frombuffer(f.read(), dtype=np.uint8).reshape(shape)\n",
        "\n",
        "def load_mnist(image_path, label_path):\n",
        "    images = read_idx(image_path)\n",
        "    labels = read_idx(label_path)\n",
        "    return images, labels\n",
        "\n",
        "train_image_path = './drive/MyDrive/MNIST/train-images-idx3-ubyte/train-images-idx3-ubyte'\n",
        "train_label_path = './drive/MyDrive/MNIST/train-labels-idx1-ubyte/train-labels-idx1-ubyte'\n",
        "test_image_path =  './drive/MyDrive/MNIST/t10k-images-idx3-ubyte/t10k-images-idx3-ubyte'\n",
        "test_label_path =  './drive/MyDrive/MNIST/t10k-labels-idx1-ubyte/t10k-labels-idx1-ubyte'"
      ]
    },
    {
      "cell_type": "code",
      "execution_count": null,
      "metadata": {
        "id": "D4kH4lFxGFK-"
      },
      "outputs": [],
      "source": [
        "train_images, train_labels = load_mnist(train_image_path, train_label_path)\n",
        "test_images, test_labels = load_mnist(test_image_path, test_label_path)\n",
        "val_images, val_labels = train_images[50000:], train_labels[50000:]\n",
        "train_images, train_labels = train_images[:50000], train_labels[:50000]\n",
        "print(f'Train images shape: {train_images.shape}')\n",
        "print(f'Train labels shape: {train_labels.shape}')\n",
        "print(f'Test images shape: {test_images.shape}')\n",
        "print(f'Test labels shape: {test_labels.shape}')"
      ]
    },
    {
      "cell_type": "markdown",
      "metadata": {
        "id": "mFZcgPkRLMti"
      },
      "source": [
        "#### Implementation of Resnet Backbone and AVG Aggregator for feature extraction"
      ]
    },
    {
      "cell_type": "code",
      "execution_count": null,
      "metadata": {
        "id": "MXFAKG7HGFLB"
      },
      "outputs": [],
      "source": [
        "import torchvision\n",
        "import torch.nn as nn\n",
        "import torch\n",
        "\n",
        "class ResNet(nn.Module):\n",
        "    def __init__(self,\n",
        "                 model_name: str = 'resnet18',\n",
        "                 pretrained: bool = True,\n",
        "                 num_concepts: int = 19\n",
        "                 ):\n",
        "        super().__init__()\n",
        "        self.model_name = model_name.lower()\n",
        "\n",
        "        if pretrained:\n",
        "            # The new naming of pretrained weights, you can change to V2 if desired.\n",
        "            weights = 'IMAGENET1K_V1'\n",
        "        else:\n",
        "            weights = None\n",
        "\n",
        "        self.model = torchvision.models.resnet18(weights=weights)\n",
        "\n",
        "        # Modify the first convolutional layer to accept 1-channel input and adjust kernel size and stride\n",
        "        self.model.conv1 = nn.Conv2d(1, 64, kernel_size=3, stride=1, padding=1, bias=False)\n",
        "\n",
        "        # Adjust max pooling layer to not downsample too much\n",
        "        self.model.maxpool = nn.Identity()\n",
        "\n",
        "        # Initialize the new conv1 layer properly\n",
        "        nn.init.kaiming_normal_(self.model.conv1.weight, mode='fan_out', nonlinearity='relu')\n",
        "\n",
        "        # num_ftrs = self.model.fc.in_features\n",
        "\n",
        "        # Set the fully connected layer to identity\n",
        "        self.model.fc = nn.Identity()\n",
        "\n",
        "        # self.digit_classifer = nn.Linear(num_ftrs, num_concepts)\n",
        "\n",
        "    def forward(self, x):\n",
        "        x = self.model(x)\n",
        "        # digit = self.digit_classifer(x)\n",
        "        return x"
      ]
    },
    {
      "cell_type": "code",
      "execution_count": null,
      "metadata": {
        "id": "T1W6dBokkd_O"
      },
      "outputs": [],
      "source": [
        "rn = ResNet()\n",
        "rn(torch.randn(1, 1, 28, 56)).shape"
      ]
    },
    {
      "cell_type": "markdown",
      "metadata": {
        "id": "TgffN0kOLHis"
      },
      "source": [
        "#### Create MNISTDataset and MNISTAdditionDataset"
      ]
    },
    {
      "cell_type": "code",
      "execution_count": null,
      "metadata": {
        "id": "xVWbOUtIGFK_"
      },
      "outputs": [],
      "source": [
        "import numpy as np\n",
        "import os\n",
        "import struct\n",
        "import torch\n",
        "from torch.utils.data import Dataset, DataLoader\n",
        "import torchvision.transforms as transforms\n",
        "\n",
        "class MNISTDataset(Dataset):\n",
        "    def __init__(self, images, labels, transform=None):\n",
        "        self.images = np.array(images, copy=True)\n",
        "        self.labels = labels\n",
        "        self.transform = transform\n",
        "\n",
        "    def __len__(self):\n",
        "        return len(self.images)\n",
        "\n",
        "    def __getitem__(self, idx):\n",
        "        image = self.images[idx]\n",
        "        label = self.labels[idx]\n",
        "        if self.transform:\n",
        "            image = self.transform(image)\n",
        "        return image, label\n",
        "\n",
        "# MNIST transforms\n",
        "transform = transforms.Compose([\n",
        "    transforms.ToTensor()\n",
        "])\n",
        "\n",
        "# Create train, validation, and test datasets\n",
        "train_dataset = MNISTDataset(train_images, train_labels, transform=transform)\n",
        "val_dataset = MNISTDataset(val_images, val_labels, transform=transform)\n",
        "test_dataset = MNISTDataset(test_images, test_labels,  transform=transform)"
      ]
    },
    {
      "cell_type": "code",
      "execution_count": null,
      "metadata": {
        "id": "P9iZ5m9njPhn"
      },
      "outputs": [],
      "source": [
        "train_dataset[0][0].shape , train_dataset[0][1]"
      ]
    },
    {
      "cell_type": "code",
      "execution_count": null,
      "metadata": {
        "id": "PqUSMnh_GFLA"
      },
      "outputs": [],
      "source": [
        "class MNISTAdditionDataset(Dataset):\n",
        "    def __init__(self, dataset):\n",
        "        self.dataset = dataset\n",
        "\n",
        "    def __len__(self):\n",
        "        return len(self.dataset)\n",
        "\n",
        "    def __getitem__(self, idx):\n",
        "        image, label = self.dataset[idx]\n",
        "        random_index = np.random.randint(len(self.dataset))\n",
        "\n",
        "        image2, label2 = self.dataset[random_index]\n",
        "\n",
        "        image = torch.cat((image, image2), dim=-1)#.permute(0, 3, 1, 2)\n",
        "\n",
        "        c_label = torch.zeros((2,10))\n",
        "        c_label[0][label] = 1\n",
        "        c_label[1][label2] = 1\n",
        "\n",
        "        y_label = label + label2\n",
        "\n",
        "        return image, c_label, torch.tensor(y_label)\n",
        "\n",
        "\n",
        "# Create the combined datasets\n",
        "train_addition_dataset = MNISTAdditionDataset(train_dataset)\n",
        "val_addition_dataset = MNISTAdditionDataset(val_dataset)\n",
        "test_addition_dataset = MNISTAdditionDataset(test_dataset)"
      ]
    },
    {
      "cell_type": "code",
      "execution_count": null,
      "metadata": {
        "id": "xJjxhNMP7P5I"
      },
      "outputs": [],
      "source": [
        "train_addition_dataset[0][0].shape , train_addition_dataset[0][1]"
      ]
    },
    {
      "cell_type": "code",
      "execution_count": null,
      "metadata": {
        "id": "vnKhyg2VJgdD"
      },
      "outputs": [],
      "source": [
        "\n",
        "rn(train_addition_dataset[0][0].unsqueeze(1)).shape"
      ]
    },
    {
      "cell_type": "code",
      "execution_count": null,
      "metadata": {
        "colab": {
          "base_uri": "https://localhost:8080/",
          "height": 356
        },
        "id": "aLcNIxOI6UVu",
        "outputId": "ddb38a87-8af4-4a90-a97a-f32469b6fa0b"
      },
      "outputs": [
        {
          "ename": "KeyboardInterrupt",
          "evalue": "",
          "output_type": "error",
          "traceback": [
            "\u001b[0;31m---------------------------------------------------------------------------\u001b[0m",
            "\u001b[0;31mKeyboardInterrupt\u001b[0m                         Traceback (most recent call last)",
            "\u001b[0;32m<ipython-input-12-5f644f0914b7>\u001b[0m in \u001b[0;36m<cell line: 16>\u001b[0;34m()\u001b[0m\n\u001b[1;32m     14\u001b[0m \u001b[0;34m\u001b[0m\u001b[0m\n\u001b[1;32m     15\u001b[0m \u001b[0;31m# Prepare data for training and testing\u001b[0m\u001b[0;34m\u001b[0m\u001b[0;34m\u001b[0m\u001b[0m\n\u001b[0;32m---> 16\u001b[0;31m \u001b[0mx_train\u001b[0m\u001b[0;34m,\u001b[0m \u001b[0mc_train\u001b[0m\u001b[0;34m,\u001b[0m \u001b[0my_train\u001b[0m \u001b[0;34m=\u001b[0m \u001b[0mprepare_data\u001b[0m\u001b[0;34m(\u001b[0m\u001b[0mtrain_addition_dataset\u001b[0m\u001b[0;34m,\u001b[0m \u001b[0mrn\u001b[0m\u001b[0;34m)\u001b[0m\u001b[0;34m\u001b[0m\u001b[0;34m\u001b[0m\u001b[0m\n\u001b[0m\u001b[1;32m     17\u001b[0m \u001b[0;31m#x_val, c_val, y_val = prepare_data(val_addition_dataset, rn)\u001b[0m\u001b[0;34m\u001b[0m\u001b[0;34m\u001b[0m\u001b[0m\n\u001b[1;32m     18\u001b[0m \u001b[0mx_test\u001b[0m\u001b[0;34m,\u001b[0m \u001b[0mc_test\u001b[0m\u001b[0;34m,\u001b[0m \u001b[0my_test\u001b[0m \u001b[0;34m=\u001b[0m \u001b[0mprepare_data\u001b[0m\u001b[0;34m(\u001b[0m\u001b[0mtest_addition_dataset\u001b[0m\u001b[0;34m,\u001b[0m \u001b[0mrn\u001b[0m\u001b[0;34m)\u001b[0m\u001b[0;34m\u001b[0m\u001b[0;34m\u001b[0m\u001b[0m\n",
            "\u001b[0;32m<ipython-input-12-5f644f0914b7>\u001b[0m in \u001b[0;36mprepare_data\u001b[0;34m(dataset, model)\u001b[0m\n\u001b[1;32m      7\u001b[0m     \u001b[0;32mfor\u001b[0m \u001b[0mimage\u001b[0m\u001b[0;34m,\u001b[0m \u001b[0mc_label\u001b[0m\u001b[0;34m,\u001b[0m \u001b[0my_label\u001b[0m \u001b[0;32min\u001b[0m \u001b[0mdataset\u001b[0m\u001b[0;34m:\u001b[0m\u001b[0;34m\u001b[0m\u001b[0;34m\u001b[0m\u001b[0m\n\u001b[1;32m      8\u001b[0m       \u001b[0mimage\u001b[0m \u001b[0;34m=\u001b[0m \u001b[0mimage\u001b[0m\u001b[0;34m.\u001b[0m\u001b[0munsqueeze\u001b[0m\u001b[0;34m(\u001b[0m\u001b[0;36m0\u001b[0m\u001b[0;34m)\u001b[0m \u001b[0;31m# Add batch dimension\u001b[0m\u001b[0;34m\u001b[0m\u001b[0;34m\u001b[0m\u001b[0m\n\u001b[0;32m----> 9\u001b[0;31m       \u001b[0mfeatures\u001b[0m \u001b[0;34m=\u001b[0m \u001b[0mmodel\u001b[0m\u001b[0;34m(\u001b[0m\u001b[0mimage\u001b[0m\u001b[0;34m)\u001b[0m\u001b[0;34m\u001b[0m\u001b[0;34m\u001b[0m\u001b[0m\n\u001b[0m\u001b[1;32m     10\u001b[0m       \u001b[0mx\u001b[0m\u001b[0;34m.\u001b[0m\u001b[0mappend\u001b[0m\u001b[0;34m(\u001b[0m\u001b[0mfeatures\u001b[0m\u001b[0;34m.\u001b[0m\u001b[0msqueeze\u001b[0m\u001b[0;34m(\u001b[0m\u001b[0;36m0\u001b[0m\u001b[0;34m)\u001b[0m\u001b[0;34m.\u001b[0m\u001b[0mnumpy\u001b[0m\u001b[0;34m(\u001b[0m\u001b[0;34m)\u001b[0m\u001b[0;34m)\u001b[0m \u001b[0;31m# Remove batch dimension and convert to numpy\u001b[0m\u001b[0;34m\u001b[0m\u001b[0;34m\u001b[0m\u001b[0m\n\u001b[1;32m     11\u001b[0m       \u001b[0mc\u001b[0m\u001b[0;34m.\u001b[0m\u001b[0mappend\u001b[0m\u001b[0;34m(\u001b[0m\u001b[0mc_label\u001b[0m\u001b[0;34m.\u001b[0m\u001b[0mflatten\u001b[0m\u001b[0;34m(\u001b[0m\u001b[0;34m)\u001b[0m\u001b[0;34m.\u001b[0m\u001b[0mnumpy\u001b[0m\u001b[0;34m(\u001b[0m\u001b[0;34m)\u001b[0m\u001b[0;34m)\u001b[0m\u001b[0;34m\u001b[0m\u001b[0;34m\u001b[0m\u001b[0m\n",
            "\u001b[0;32m/usr/local/lib/python3.10/dist-packages/torch/nn/modules/module.py\u001b[0m in \u001b[0;36m_wrapped_call_impl\u001b[0;34m(self, *args, **kwargs)\u001b[0m\n\u001b[1;32m   1530\u001b[0m             \u001b[0;32mreturn\u001b[0m \u001b[0mself\u001b[0m\u001b[0;34m.\u001b[0m\u001b[0m_compiled_call_impl\u001b[0m\u001b[0;34m(\u001b[0m\u001b[0;34m*\u001b[0m\u001b[0margs\u001b[0m\u001b[0;34m,\u001b[0m \u001b[0;34m**\u001b[0m\u001b[0mkwargs\u001b[0m\u001b[0;34m)\u001b[0m  \u001b[0;31m# type: ignore[misc]\u001b[0m\u001b[0;34m\u001b[0m\u001b[0;34m\u001b[0m\u001b[0m\n\u001b[1;32m   1531\u001b[0m         \u001b[0;32melse\u001b[0m\u001b[0;34m:\u001b[0m\u001b[0;34m\u001b[0m\u001b[0;34m\u001b[0m\u001b[0m\n\u001b[0;32m-> 1532\u001b[0;31m             \u001b[0;32mreturn\u001b[0m \u001b[0mself\u001b[0m\u001b[0;34m.\u001b[0m\u001b[0m_call_impl\u001b[0m\u001b[0;34m(\u001b[0m\u001b[0;34m*\u001b[0m\u001b[0margs\u001b[0m\u001b[0;34m,\u001b[0m \u001b[0;34m**\u001b[0m\u001b[0mkwargs\u001b[0m\u001b[0;34m)\u001b[0m\u001b[0;34m\u001b[0m\u001b[0;34m\u001b[0m\u001b[0m\n\u001b[0m\u001b[1;32m   1533\u001b[0m \u001b[0;34m\u001b[0m\u001b[0m\n\u001b[1;32m   1534\u001b[0m     \u001b[0;32mdef\u001b[0m \u001b[0m_call_impl\u001b[0m\u001b[0;34m(\u001b[0m\u001b[0mself\u001b[0m\u001b[0;34m,\u001b[0m \u001b[0;34m*\u001b[0m\u001b[0margs\u001b[0m\u001b[0;34m,\u001b[0m \u001b[0;34m**\u001b[0m\u001b[0mkwargs\u001b[0m\u001b[0;34m)\u001b[0m\u001b[0;34m:\u001b[0m\u001b[0;34m\u001b[0m\u001b[0;34m\u001b[0m\u001b[0m\n",
            "\u001b[0;32m/usr/local/lib/python3.10/dist-packages/torch/nn/modules/module.py\u001b[0m in \u001b[0;36m_call_impl\u001b[0;34m(self, *args, **kwargs)\u001b[0m\n\u001b[1;32m   1539\u001b[0m                 \u001b[0;32mor\u001b[0m \u001b[0m_global_backward_pre_hooks\u001b[0m \u001b[0;32mor\u001b[0m \u001b[0m_global_backward_hooks\u001b[0m\u001b[0;34m\u001b[0m\u001b[0;34m\u001b[0m\u001b[0m\n\u001b[1;32m   1540\u001b[0m                 or _global_forward_hooks or _global_forward_pre_hooks):\n\u001b[0;32m-> 1541\u001b[0;31m             \u001b[0;32mreturn\u001b[0m \u001b[0mforward_call\u001b[0m\u001b[0;34m(\u001b[0m\u001b[0;34m*\u001b[0m\u001b[0margs\u001b[0m\u001b[0;34m,\u001b[0m \u001b[0;34m**\u001b[0m\u001b[0mkwargs\u001b[0m\u001b[0;34m)\u001b[0m\u001b[0;34m\u001b[0m\u001b[0;34m\u001b[0m\u001b[0m\n\u001b[0m\u001b[1;32m   1542\u001b[0m \u001b[0;34m\u001b[0m\u001b[0m\n\u001b[1;32m   1543\u001b[0m         \u001b[0;32mtry\u001b[0m\u001b[0;34m:\u001b[0m\u001b[0;34m\u001b[0m\u001b[0;34m\u001b[0m\u001b[0m\n",
            "\u001b[0;32m<ipython-input-5-8c40cfd83016>\u001b[0m in \u001b[0;36mforward\u001b[0;34m(self, x)\u001b[0m\n\u001b[1;32m     37\u001b[0m \u001b[0;34m\u001b[0m\u001b[0m\n\u001b[1;32m     38\u001b[0m     \u001b[0;32mdef\u001b[0m \u001b[0mforward\u001b[0m\u001b[0;34m(\u001b[0m\u001b[0mself\u001b[0m\u001b[0;34m,\u001b[0m \u001b[0mx\u001b[0m\u001b[0;34m)\u001b[0m\u001b[0;34m:\u001b[0m\u001b[0;34m\u001b[0m\u001b[0;34m\u001b[0m\u001b[0m\n\u001b[0;32m---> 39\u001b[0;31m         \u001b[0mx\u001b[0m \u001b[0;34m=\u001b[0m \u001b[0mself\u001b[0m\u001b[0;34m.\u001b[0m\u001b[0mmodel\u001b[0m\u001b[0;34m(\u001b[0m\u001b[0mx\u001b[0m\u001b[0;34m)\u001b[0m\u001b[0;34m\u001b[0m\u001b[0;34m\u001b[0m\u001b[0m\n\u001b[0m\u001b[1;32m     40\u001b[0m         \u001b[0;31m# digit = self.digit_classifer(x)\u001b[0m\u001b[0;34m\u001b[0m\u001b[0;34m\u001b[0m\u001b[0m\n\u001b[1;32m     41\u001b[0m         \u001b[0;32mreturn\u001b[0m \u001b[0mx\u001b[0m\u001b[0;34m\u001b[0m\u001b[0;34m\u001b[0m\u001b[0m\n",
            "\u001b[0;32m/usr/local/lib/python3.10/dist-packages/torch/nn/modules/module.py\u001b[0m in \u001b[0;36m_wrapped_call_impl\u001b[0;34m(self, *args, **kwargs)\u001b[0m\n\u001b[1;32m   1530\u001b[0m             \u001b[0;32mreturn\u001b[0m \u001b[0mself\u001b[0m\u001b[0;34m.\u001b[0m\u001b[0m_compiled_call_impl\u001b[0m\u001b[0;34m(\u001b[0m\u001b[0;34m*\u001b[0m\u001b[0margs\u001b[0m\u001b[0;34m,\u001b[0m \u001b[0;34m**\u001b[0m\u001b[0mkwargs\u001b[0m\u001b[0;34m)\u001b[0m  \u001b[0;31m# type: ignore[misc]\u001b[0m\u001b[0;34m\u001b[0m\u001b[0;34m\u001b[0m\u001b[0m\n\u001b[1;32m   1531\u001b[0m         \u001b[0;32melse\u001b[0m\u001b[0;34m:\u001b[0m\u001b[0;34m\u001b[0m\u001b[0;34m\u001b[0m\u001b[0m\n\u001b[0;32m-> 1532\u001b[0;31m             \u001b[0;32mreturn\u001b[0m \u001b[0mself\u001b[0m\u001b[0;34m.\u001b[0m\u001b[0m_call_impl\u001b[0m\u001b[0;34m(\u001b[0m\u001b[0;34m*\u001b[0m\u001b[0margs\u001b[0m\u001b[0;34m,\u001b[0m \u001b[0;34m**\u001b[0m\u001b[0mkwargs\u001b[0m\u001b[0;34m)\u001b[0m\u001b[0;34m\u001b[0m\u001b[0;34m\u001b[0m\u001b[0m\n\u001b[0m\u001b[1;32m   1533\u001b[0m \u001b[0;34m\u001b[0m\u001b[0m\n\u001b[1;32m   1534\u001b[0m     \u001b[0;32mdef\u001b[0m \u001b[0m_call_impl\u001b[0m\u001b[0;34m(\u001b[0m\u001b[0mself\u001b[0m\u001b[0;34m,\u001b[0m \u001b[0;34m*\u001b[0m\u001b[0margs\u001b[0m\u001b[0;34m,\u001b[0m \u001b[0;34m**\u001b[0m\u001b[0mkwargs\u001b[0m\u001b[0;34m)\u001b[0m\u001b[0;34m:\u001b[0m\u001b[0;34m\u001b[0m\u001b[0;34m\u001b[0m\u001b[0m\n",
            "\u001b[0;32m/usr/local/lib/python3.10/dist-packages/torch/nn/modules/module.py\u001b[0m in \u001b[0;36m_call_impl\u001b[0;34m(self, *args, **kwargs)\u001b[0m\n\u001b[1;32m   1539\u001b[0m                 \u001b[0;32mor\u001b[0m \u001b[0m_global_backward_pre_hooks\u001b[0m \u001b[0;32mor\u001b[0m \u001b[0m_global_backward_hooks\u001b[0m\u001b[0;34m\u001b[0m\u001b[0;34m\u001b[0m\u001b[0m\n\u001b[1;32m   1540\u001b[0m                 or _global_forward_hooks or _global_forward_pre_hooks):\n\u001b[0;32m-> 1541\u001b[0;31m             \u001b[0;32mreturn\u001b[0m \u001b[0mforward_call\u001b[0m\u001b[0;34m(\u001b[0m\u001b[0;34m*\u001b[0m\u001b[0margs\u001b[0m\u001b[0;34m,\u001b[0m \u001b[0;34m**\u001b[0m\u001b[0mkwargs\u001b[0m\u001b[0;34m)\u001b[0m\u001b[0;34m\u001b[0m\u001b[0;34m\u001b[0m\u001b[0m\n\u001b[0m\u001b[1;32m   1542\u001b[0m \u001b[0;34m\u001b[0m\u001b[0m\n\u001b[1;32m   1543\u001b[0m         \u001b[0;32mtry\u001b[0m\u001b[0;34m:\u001b[0m\u001b[0;34m\u001b[0m\u001b[0;34m\u001b[0m\u001b[0m\n",
            "\u001b[0;32m/usr/local/lib/python3.10/dist-packages/torchvision/models/resnet.py\u001b[0m in \u001b[0;36mforward\u001b[0;34m(self, x)\u001b[0m\n\u001b[1;32m    283\u001b[0m \u001b[0;34m\u001b[0m\u001b[0m\n\u001b[1;32m    284\u001b[0m     \u001b[0;32mdef\u001b[0m \u001b[0mforward\u001b[0m\u001b[0;34m(\u001b[0m\u001b[0mself\u001b[0m\u001b[0;34m,\u001b[0m \u001b[0mx\u001b[0m\u001b[0;34m:\u001b[0m \u001b[0mTensor\u001b[0m\u001b[0;34m)\u001b[0m \u001b[0;34m->\u001b[0m \u001b[0mTensor\u001b[0m\u001b[0;34m:\u001b[0m\u001b[0;34m\u001b[0m\u001b[0;34m\u001b[0m\u001b[0m\n\u001b[0;32m--> 285\u001b[0;31m         \u001b[0;32mreturn\u001b[0m \u001b[0mself\u001b[0m\u001b[0;34m.\u001b[0m\u001b[0m_forward_impl\u001b[0m\u001b[0;34m(\u001b[0m\u001b[0mx\u001b[0m\u001b[0;34m)\u001b[0m\u001b[0;34m\u001b[0m\u001b[0;34m\u001b[0m\u001b[0m\n\u001b[0m\u001b[1;32m    286\u001b[0m \u001b[0;34m\u001b[0m\u001b[0m\n\u001b[1;32m    287\u001b[0m \u001b[0;34m\u001b[0m\u001b[0m\n",
            "\u001b[0;32m/usr/local/lib/python3.10/dist-packages/torchvision/models/resnet.py\u001b[0m in \u001b[0;36m_forward_impl\u001b[0;34m(self, x)\u001b[0m\n\u001b[1;32m    271\u001b[0m         \u001b[0mx\u001b[0m \u001b[0;34m=\u001b[0m \u001b[0mself\u001b[0m\u001b[0;34m.\u001b[0m\u001b[0mmaxpool\u001b[0m\u001b[0;34m(\u001b[0m\u001b[0mx\u001b[0m\u001b[0;34m)\u001b[0m\u001b[0;34m\u001b[0m\u001b[0;34m\u001b[0m\u001b[0m\n\u001b[1;32m    272\u001b[0m \u001b[0;34m\u001b[0m\u001b[0m\n\u001b[0;32m--> 273\u001b[0;31m         \u001b[0mx\u001b[0m \u001b[0;34m=\u001b[0m \u001b[0mself\u001b[0m\u001b[0;34m.\u001b[0m\u001b[0mlayer1\u001b[0m\u001b[0;34m(\u001b[0m\u001b[0mx\u001b[0m\u001b[0;34m)\u001b[0m\u001b[0;34m\u001b[0m\u001b[0;34m\u001b[0m\u001b[0m\n\u001b[0m\u001b[1;32m    274\u001b[0m         \u001b[0mx\u001b[0m \u001b[0;34m=\u001b[0m \u001b[0mself\u001b[0m\u001b[0;34m.\u001b[0m\u001b[0mlayer2\u001b[0m\u001b[0;34m(\u001b[0m\u001b[0mx\u001b[0m\u001b[0;34m)\u001b[0m\u001b[0;34m\u001b[0m\u001b[0;34m\u001b[0m\u001b[0m\n\u001b[1;32m    275\u001b[0m         \u001b[0mx\u001b[0m \u001b[0;34m=\u001b[0m \u001b[0mself\u001b[0m\u001b[0;34m.\u001b[0m\u001b[0mlayer3\u001b[0m\u001b[0;34m(\u001b[0m\u001b[0mx\u001b[0m\u001b[0;34m)\u001b[0m\u001b[0;34m\u001b[0m\u001b[0;34m\u001b[0m\u001b[0m\n",
            "\u001b[0;32m/usr/local/lib/python3.10/dist-packages/torch/nn/modules/module.py\u001b[0m in \u001b[0;36m_wrapped_call_impl\u001b[0;34m(self, *args, **kwargs)\u001b[0m\n\u001b[1;32m   1530\u001b[0m             \u001b[0;32mreturn\u001b[0m \u001b[0mself\u001b[0m\u001b[0;34m.\u001b[0m\u001b[0m_compiled_call_impl\u001b[0m\u001b[0;34m(\u001b[0m\u001b[0;34m*\u001b[0m\u001b[0margs\u001b[0m\u001b[0;34m,\u001b[0m \u001b[0;34m**\u001b[0m\u001b[0mkwargs\u001b[0m\u001b[0;34m)\u001b[0m  \u001b[0;31m# type: ignore[misc]\u001b[0m\u001b[0;34m\u001b[0m\u001b[0;34m\u001b[0m\u001b[0m\n\u001b[1;32m   1531\u001b[0m         \u001b[0;32melse\u001b[0m\u001b[0;34m:\u001b[0m\u001b[0;34m\u001b[0m\u001b[0;34m\u001b[0m\u001b[0m\n\u001b[0;32m-> 1532\u001b[0;31m             \u001b[0;32mreturn\u001b[0m \u001b[0mself\u001b[0m\u001b[0;34m.\u001b[0m\u001b[0m_call_impl\u001b[0m\u001b[0;34m(\u001b[0m\u001b[0;34m*\u001b[0m\u001b[0margs\u001b[0m\u001b[0;34m,\u001b[0m \u001b[0;34m**\u001b[0m\u001b[0mkwargs\u001b[0m\u001b[0;34m)\u001b[0m\u001b[0;34m\u001b[0m\u001b[0;34m\u001b[0m\u001b[0m\n\u001b[0m\u001b[1;32m   1533\u001b[0m \u001b[0;34m\u001b[0m\u001b[0m\n\u001b[1;32m   1534\u001b[0m     \u001b[0;32mdef\u001b[0m \u001b[0m_call_impl\u001b[0m\u001b[0;34m(\u001b[0m\u001b[0mself\u001b[0m\u001b[0;34m,\u001b[0m \u001b[0;34m*\u001b[0m\u001b[0margs\u001b[0m\u001b[0;34m,\u001b[0m \u001b[0;34m**\u001b[0m\u001b[0mkwargs\u001b[0m\u001b[0;34m)\u001b[0m\u001b[0;34m:\u001b[0m\u001b[0;34m\u001b[0m\u001b[0;34m\u001b[0m\u001b[0m\n",
            "\u001b[0;32m/usr/local/lib/python3.10/dist-packages/torch/nn/modules/module.py\u001b[0m in \u001b[0;36m_call_impl\u001b[0;34m(self, *args, **kwargs)\u001b[0m\n\u001b[1;32m   1539\u001b[0m                 \u001b[0;32mor\u001b[0m \u001b[0m_global_backward_pre_hooks\u001b[0m \u001b[0;32mor\u001b[0m \u001b[0m_global_backward_hooks\u001b[0m\u001b[0;34m\u001b[0m\u001b[0;34m\u001b[0m\u001b[0m\n\u001b[1;32m   1540\u001b[0m                 or _global_forward_hooks or _global_forward_pre_hooks):\n\u001b[0;32m-> 1541\u001b[0;31m             \u001b[0;32mreturn\u001b[0m \u001b[0mforward_call\u001b[0m\u001b[0;34m(\u001b[0m\u001b[0;34m*\u001b[0m\u001b[0margs\u001b[0m\u001b[0;34m,\u001b[0m \u001b[0;34m**\u001b[0m\u001b[0mkwargs\u001b[0m\u001b[0;34m)\u001b[0m\u001b[0;34m\u001b[0m\u001b[0;34m\u001b[0m\u001b[0m\n\u001b[0m\u001b[1;32m   1542\u001b[0m \u001b[0;34m\u001b[0m\u001b[0m\n\u001b[1;32m   1543\u001b[0m         \u001b[0;32mtry\u001b[0m\u001b[0;34m:\u001b[0m\u001b[0;34m\u001b[0m\u001b[0;34m\u001b[0m\u001b[0m\n",
            "\u001b[0;32m/usr/local/lib/python3.10/dist-packages/torch/nn/modules/container.py\u001b[0m in \u001b[0;36mforward\u001b[0;34m(self, input)\u001b[0m\n\u001b[1;32m    215\u001b[0m     \u001b[0;32mdef\u001b[0m \u001b[0mforward\u001b[0m\u001b[0;34m(\u001b[0m\u001b[0mself\u001b[0m\u001b[0;34m,\u001b[0m \u001b[0minput\u001b[0m\u001b[0;34m)\u001b[0m\u001b[0;34m:\u001b[0m\u001b[0;34m\u001b[0m\u001b[0;34m\u001b[0m\u001b[0m\n\u001b[1;32m    216\u001b[0m         \u001b[0;32mfor\u001b[0m \u001b[0mmodule\u001b[0m \u001b[0;32min\u001b[0m \u001b[0mself\u001b[0m\u001b[0;34m:\u001b[0m\u001b[0;34m\u001b[0m\u001b[0;34m\u001b[0m\u001b[0m\n\u001b[0;32m--> 217\u001b[0;31m             \u001b[0minput\u001b[0m \u001b[0;34m=\u001b[0m \u001b[0mmodule\u001b[0m\u001b[0;34m(\u001b[0m\u001b[0minput\u001b[0m\u001b[0;34m)\u001b[0m\u001b[0;34m\u001b[0m\u001b[0;34m\u001b[0m\u001b[0m\n\u001b[0m\u001b[1;32m    218\u001b[0m         \u001b[0;32mreturn\u001b[0m \u001b[0minput\u001b[0m\u001b[0;34m\u001b[0m\u001b[0;34m\u001b[0m\u001b[0m\n\u001b[1;32m    219\u001b[0m \u001b[0;34m\u001b[0m\u001b[0m\n",
            "\u001b[0;32m/usr/local/lib/python3.10/dist-packages/torch/nn/modules/module.py\u001b[0m in \u001b[0;36m_wrapped_call_impl\u001b[0;34m(self, *args, **kwargs)\u001b[0m\n\u001b[1;32m   1530\u001b[0m             \u001b[0;32mreturn\u001b[0m \u001b[0mself\u001b[0m\u001b[0;34m.\u001b[0m\u001b[0m_compiled_call_impl\u001b[0m\u001b[0;34m(\u001b[0m\u001b[0;34m*\u001b[0m\u001b[0margs\u001b[0m\u001b[0;34m,\u001b[0m \u001b[0;34m**\u001b[0m\u001b[0mkwargs\u001b[0m\u001b[0;34m)\u001b[0m  \u001b[0;31m# type: ignore[misc]\u001b[0m\u001b[0;34m\u001b[0m\u001b[0;34m\u001b[0m\u001b[0m\n\u001b[1;32m   1531\u001b[0m         \u001b[0;32melse\u001b[0m\u001b[0;34m:\u001b[0m\u001b[0;34m\u001b[0m\u001b[0;34m\u001b[0m\u001b[0m\n\u001b[0;32m-> 1532\u001b[0;31m             \u001b[0;32mreturn\u001b[0m \u001b[0mself\u001b[0m\u001b[0;34m.\u001b[0m\u001b[0m_call_impl\u001b[0m\u001b[0;34m(\u001b[0m\u001b[0;34m*\u001b[0m\u001b[0margs\u001b[0m\u001b[0;34m,\u001b[0m \u001b[0;34m**\u001b[0m\u001b[0mkwargs\u001b[0m\u001b[0;34m)\u001b[0m\u001b[0;34m\u001b[0m\u001b[0;34m\u001b[0m\u001b[0m\n\u001b[0m\u001b[1;32m   1533\u001b[0m \u001b[0;34m\u001b[0m\u001b[0m\n\u001b[1;32m   1534\u001b[0m     \u001b[0;32mdef\u001b[0m \u001b[0m_call_impl\u001b[0m\u001b[0;34m(\u001b[0m\u001b[0mself\u001b[0m\u001b[0;34m,\u001b[0m \u001b[0;34m*\u001b[0m\u001b[0margs\u001b[0m\u001b[0;34m,\u001b[0m \u001b[0;34m**\u001b[0m\u001b[0mkwargs\u001b[0m\u001b[0;34m)\u001b[0m\u001b[0;34m:\u001b[0m\u001b[0;34m\u001b[0m\u001b[0;34m\u001b[0m\u001b[0m\n",
            "\u001b[0;32m/usr/local/lib/python3.10/dist-packages/torch/nn/modules/module.py\u001b[0m in \u001b[0;36m_call_impl\u001b[0;34m(self, *args, **kwargs)\u001b[0m\n\u001b[1;32m   1539\u001b[0m                 \u001b[0;32mor\u001b[0m \u001b[0m_global_backward_pre_hooks\u001b[0m \u001b[0;32mor\u001b[0m \u001b[0m_global_backward_hooks\u001b[0m\u001b[0;34m\u001b[0m\u001b[0;34m\u001b[0m\u001b[0m\n\u001b[1;32m   1540\u001b[0m                 or _global_forward_hooks or _global_forward_pre_hooks):\n\u001b[0;32m-> 1541\u001b[0;31m             \u001b[0;32mreturn\u001b[0m \u001b[0mforward_call\u001b[0m\u001b[0;34m(\u001b[0m\u001b[0;34m*\u001b[0m\u001b[0margs\u001b[0m\u001b[0;34m,\u001b[0m \u001b[0;34m**\u001b[0m\u001b[0mkwargs\u001b[0m\u001b[0;34m)\u001b[0m\u001b[0;34m\u001b[0m\u001b[0;34m\u001b[0m\u001b[0m\n\u001b[0m\u001b[1;32m   1542\u001b[0m \u001b[0;34m\u001b[0m\u001b[0m\n\u001b[1;32m   1543\u001b[0m         \u001b[0;32mtry\u001b[0m\u001b[0;34m:\u001b[0m\u001b[0;34m\u001b[0m\u001b[0;34m\u001b[0m\u001b[0m\n",
            "\u001b[0;32m/usr/local/lib/python3.10/dist-packages/torchvision/models/resnet.py\u001b[0m in \u001b[0;36mforward\u001b[0;34m(self, x)\u001b[0m\n\u001b[1;32m     90\u001b[0m         \u001b[0midentity\u001b[0m \u001b[0;34m=\u001b[0m \u001b[0mx\u001b[0m\u001b[0;34m\u001b[0m\u001b[0;34m\u001b[0m\u001b[0m\n\u001b[1;32m     91\u001b[0m \u001b[0;34m\u001b[0m\u001b[0m\n\u001b[0;32m---> 92\u001b[0;31m         \u001b[0mout\u001b[0m \u001b[0;34m=\u001b[0m \u001b[0mself\u001b[0m\u001b[0;34m.\u001b[0m\u001b[0mconv1\u001b[0m\u001b[0;34m(\u001b[0m\u001b[0mx\u001b[0m\u001b[0;34m)\u001b[0m\u001b[0;34m\u001b[0m\u001b[0;34m\u001b[0m\u001b[0m\n\u001b[0m\u001b[1;32m     93\u001b[0m         \u001b[0mout\u001b[0m \u001b[0;34m=\u001b[0m \u001b[0mself\u001b[0m\u001b[0;34m.\u001b[0m\u001b[0mbn1\u001b[0m\u001b[0;34m(\u001b[0m\u001b[0mout\u001b[0m\u001b[0;34m)\u001b[0m\u001b[0;34m\u001b[0m\u001b[0;34m\u001b[0m\u001b[0m\n\u001b[1;32m     94\u001b[0m         \u001b[0mout\u001b[0m \u001b[0;34m=\u001b[0m \u001b[0mself\u001b[0m\u001b[0;34m.\u001b[0m\u001b[0mrelu\u001b[0m\u001b[0;34m(\u001b[0m\u001b[0mout\u001b[0m\u001b[0;34m)\u001b[0m\u001b[0;34m\u001b[0m\u001b[0;34m\u001b[0m\u001b[0m\n",
            "\u001b[0;32m/usr/local/lib/python3.10/dist-packages/torch/nn/modules/module.py\u001b[0m in \u001b[0;36m_wrapped_call_impl\u001b[0;34m(self, *args, **kwargs)\u001b[0m\n\u001b[1;32m   1530\u001b[0m             \u001b[0;32mreturn\u001b[0m \u001b[0mself\u001b[0m\u001b[0;34m.\u001b[0m\u001b[0m_compiled_call_impl\u001b[0m\u001b[0;34m(\u001b[0m\u001b[0;34m*\u001b[0m\u001b[0margs\u001b[0m\u001b[0;34m,\u001b[0m \u001b[0;34m**\u001b[0m\u001b[0mkwargs\u001b[0m\u001b[0;34m)\u001b[0m  \u001b[0;31m# type: ignore[misc]\u001b[0m\u001b[0;34m\u001b[0m\u001b[0;34m\u001b[0m\u001b[0m\n\u001b[1;32m   1531\u001b[0m         \u001b[0;32melse\u001b[0m\u001b[0;34m:\u001b[0m\u001b[0;34m\u001b[0m\u001b[0;34m\u001b[0m\u001b[0m\n\u001b[0;32m-> 1532\u001b[0;31m             \u001b[0;32mreturn\u001b[0m \u001b[0mself\u001b[0m\u001b[0;34m.\u001b[0m\u001b[0m_call_impl\u001b[0m\u001b[0;34m(\u001b[0m\u001b[0;34m*\u001b[0m\u001b[0margs\u001b[0m\u001b[0;34m,\u001b[0m \u001b[0;34m**\u001b[0m\u001b[0mkwargs\u001b[0m\u001b[0;34m)\u001b[0m\u001b[0;34m\u001b[0m\u001b[0;34m\u001b[0m\u001b[0m\n\u001b[0m\u001b[1;32m   1533\u001b[0m \u001b[0;34m\u001b[0m\u001b[0m\n\u001b[1;32m   1534\u001b[0m     \u001b[0;32mdef\u001b[0m \u001b[0m_call_impl\u001b[0m\u001b[0;34m(\u001b[0m\u001b[0mself\u001b[0m\u001b[0;34m,\u001b[0m \u001b[0;34m*\u001b[0m\u001b[0margs\u001b[0m\u001b[0;34m,\u001b[0m \u001b[0;34m**\u001b[0m\u001b[0mkwargs\u001b[0m\u001b[0;34m)\u001b[0m\u001b[0;34m:\u001b[0m\u001b[0;34m\u001b[0m\u001b[0;34m\u001b[0m\u001b[0m\n",
            "\u001b[0;32m/usr/local/lib/python3.10/dist-packages/torch/nn/modules/module.py\u001b[0m in \u001b[0;36m_call_impl\u001b[0;34m(self, *args, **kwargs)\u001b[0m\n\u001b[1;32m   1539\u001b[0m                 \u001b[0;32mor\u001b[0m \u001b[0m_global_backward_pre_hooks\u001b[0m \u001b[0;32mor\u001b[0m \u001b[0m_global_backward_hooks\u001b[0m\u001b[0;34m\u001b[0m\u001b[0;34m\u001b[0m\u001b[0m\n\u001b[1;32m   1540\u001b[0m                 or _global_forward_hooks or _global_forward_pre_hooks):\n\u001b[0;32m-> 1541\u001b[0;31m             \u001b[0;32mreturn\u001b[0m \u001b[0mforward_call\u001b[0m\u001b[0;34m(\u001b[0m\u001b[0;34m*\u001b[0m\u001b[0margs\u001b[0m\u001b[0;34m,\u001b[0m \u001b[0;34m**\u001b[0m\u001b[0mkwargs\u001b[0m\u001b[0;34m)\u001b[0m\u001b[0;34m\u001b[0m\u001b[0;34m\u001b[0m\u001b[0m\n\u001b[0m\u001b[1;32m   1542\u001b[0m \u001b[0;34m\u001b[0m\u001b[0m\n\u001b[1;32m   1543\u001b[0m         \u001b[0;32mtry\u001b[0m\u001b[0;34m:\u001b[0m\u001b[0;34m\u001b[0m\u001b[0;34m\u001b[0m\u001b[0m\n",
            "\u001b[0;32m/usr/local/lib/python3.10/dist-packages/torch/nn/modules/conv.py\u001b[0m in \u001b[0;36mforward\u001b[0;34m(self, input)\u001b[0m\n\u001b[1;32m    458\u001b[0m \u001b[0;34m\u001b[0m\u001b[0m\n\u001b[1;32m    459\u001b[0m     \u001b[0;32mdef\u001b[0m \u001b[0mforward\u001b[0m\u001b[0;34m(\u001b[0m\u001b[0mself\u001b[0m\u001b[0;34m,\u001b[0m \u001b[0minput\u001b[0m\u001b[0;34m:\u001b[0m \u001b[0mTensor\u001b[0m\u001b[0;34m)\u001b[0m \u001b[0;34m->\u001b[0m \u001b[0mTensor\u001b[0m\u001b[0;34m:\u001b[0m\u001b[0;34m\u001b[0m\u001b[0;34m\u001b[0m\u001b[0m\n\u001b[0;32m--> 460\u001b[0;31m         \u001b[0;32mreturn\u001b[0m \u001b[0mself\u001b[0m\u001b[0;34m.\u001b[0m\u001b[0m_conv_forward\u001b[0m\u001b[0;34m(\u001b[0m\u001b[0minput\u001b[0m\u001b[0;34m,\u001b[0m \u001b[0mself\u001b[0m\u001b[0;34m.\u001b[0m\u001b[0mweight\u001b[0m\u001b[0;34m,\u001b[0m \u001b[0mself\u001b[0m\u001b[0;34m.\u001b[0m\u001b[0mbias\u001b[0m\u001b[0;34m)\u001b[0m\u001b[0;34m\u001b[0m\u001b[0;34m\u001b[0m\u001b[0m\n\u001b[0m\u001b[1;32m    461\u001b[0m \u001b[0;34m\u001b[0m\u001b[0m\n\u001b[1;32m    462\u001b[0m \u001b[0;32mclass\u001b[0m \u001b[0mConv3d\u001b[0m\u001b[0;34m(\u001b[0m\u001b[0m_ConvNd\u001b[0m\u001b[0;34m)\u001b[0m\u001b[0;34m:\u001b[0m\u001b[0;34m\u001b[0m\u001b[0;34m\u001b[0m\u001b[0m\n",
            "\u001b[0;32m/usr/local/lib/python3.10/dist-packages/torch/nn/modules/conv.py\u001b[0m in \u001b[0;36m_conv_forward\u001b[0;34m(self, input, weight, bias)\u001b[0m\n\u001b[1;32m    454\u001b[0m                             \u001b[0mweight\u001b[0m\u001b[0;34m,\u001b[0m \u001b[0mbias\u001b[0m\u001b[0;34m,\u001b[0m \u001b[0mself\u001b[0m\u001b[0;34m.\u001b[0m\u001b[0mstride\u001b[0m\u001b[0;34m,\u001b[0m\u001b[0;34m\u001b[0m\u001b[0;34m\u001b[0m\u001b[0m\n\u001b[1;32m    455\u001b[0m                             _pair(0), self.dilation, self.groups)\n\u001b[0;32m--> 456\u001b[0;31m         return F.conv2d(input, weight, bias, self.stride,\n\u001b[0m\u001b[1;32m    457\u001b[0m                         self.padding, self.dilation, self.groups)\n\u001b[1;32m    458\u001b[0m \u001b[0;34m\u001b[0m\u001b[0m\n",
            "\u001b[0;31mKeyboardInterrupt\u001b[0m: "
          ]
        }
      ],
      "source": [
        "def prepare_data(dataset, model):\n",
        "  x = []\n",
        "  c = []\n",
        "  y = []\n",
        "  model.eval()\n",
        "  with torch.no_grad():\n",
        "    for image, c_label, y_label in dataset:\n",
        "      image = image.unsqueeze(0) # Add batch dimension\n",
        "      features = model(image)\n",
        "      x.append(features.squeeze(0).numpy()) # Remove batch dimension and convert to numpy\n",
        "      c.append(c_label.flatten().numpy())\n",
        "      y.append(y_label.numpy())\n",
        "  return np.array(x), np.array(c), np.array(y)\n",
        "\n",
        "# Prepare data for training and testing\n",
        "x_train, c_train, y_train = prepare_data(train_addition_dataset, rn)\n",
        "#x_val, c_val, y_val = prepare_data(val_addition_dataset, rn)\n",
        "x_test, c_test, y_test = prepare_data(test_addition_dataset, rn)\n"
      ]
    },
    {
      "cell_type": "code",
      "execution_count": null,
      "metadata": {
        "colab": {
          "base_uri": "https://localhost:8080/",
          "height": 36
        },
        "id": "6sYad5YNNDll",
        "outputId": "17ea0db9-60ec-4e5d-d3f9-fb99a045273b"
      },
      "outputs": [
        {
          "data": {
            "application/vnd.google.colaboratory.intrinsic+json": {
              "type": "string"
            },
            "text/plain": [
              "'/content'"
            ]
          },
          "execution_count": 2,
          "metadata": {},
          "output_type": "execute_result"
        }
      ],
      "source": [
        "pwd"
      ]
    },
    {
      "cell_type": "code",
      "execution_count": null,
      "metadata": {
        "colab": {
          "base_uri": "https://localhost:8080/"
        },
        "id": "RodVoB7takn4",
        "outputId": "a2e7b349-e3cb-4e95-9220-fbb2b98d0d27"
      },
      "outputs": [
        {
          "name": "stdout",
          "output_type": "stream",
          "text": [
            "/content\n"
          ]
        }
      ],
      "source": [
        "%cd /content/"
      ]
    },
    {
      "cell_type": "code",
      "execution_count": null,
      "metadata": {
        "colab": {
          "base_uri": "https://localhost:8080/"
        },
        "id": "Wt_1qE-NAWOv",
        "outputId": "8ace5ebd-3692-485b-f7cf-769a8159dc32"
      },
      "outputs": [
        {
          "name": "stdout",
          "output_type": "stream",
          "text": [
            "(50000, 512) (50000, 20) (50000,)\n"
          ]
        }
      ],
      "source": [
        "import pickle\n",
        "\n",
        "# Save the data\n",
        "# with open('train_data.pkl', 'wb') as f:\n",
        "#   pickle.dump((x_train, c_train, y_train), f)\n",
        "\n",
        "# with open('test_data.pkl', 'wb') as f:\n",
        "#   pickle.dump((x_test, c_test, y_test), f)\n",
        "\n",
        "# Load the data\n",
        "with open('train_data.pkl', 'rb') as f:\n",
        "  x_train, c_train, y_train = pickle.load(f)\n",
        "\n",
        "with open('test_data.pkl', 'rb') as f:\n",
        "  x_test, c_test, y_test = pickle.load(f)\n",
        "\n",
        "print(x_train.shape, c_train.shape, y_train.shape)\n"
      ]
    },
    {
      "cell_type": "markdown",
      "metadata": {
        "id": "Sfpm9z3sLW2j"
      },
      "source": [
        "#### Let's start working"
      ]
    },
    {
      "cell_type": "code",
      "execution_count": null,
      "metadata": {
        "colab": {
          "base_uri": "https://localhost:8080/"
        },
        "id": "WFK5txWRhyKp",
        "outputId": "28fa95d7-439a-4a60-c785-62f16f306952"
      },
      "outputs": [
        {
          "name": "stdout",
          "output_type": "stream",
          "text": [
            "Cloning into 'pytorch_explain'...\n",
            "remote: Enumerating objects: 1318, done.\u001b[K\n",
            "remote: Counting objects: 100% (428/428), done.\u001b[K\n",
            "remote: Compressing objects: 100% (135/135), done.\u001b[K\n",
            "remote: Total 1318 (delta 298), reused 406 (delta 291), pack-reused 890\u001b[K\n",
            "Receiving objects: 100% (1318/1318), 8.35 MiB | 27.31 MiB/s, done.\n",
            "Resolving deltas: 100% (764/764), done.\n"
          ]
        }
      ],
      "source": [
        "!git clone -b code_exploration https://github.com/alialhousseini/pytorch_explain"
      ]
    },
    {
      "cell_type": "code",
      "execution_count": null,
      "metadata": {
        "id": "AOTvonCtMsRt"
      },
      "outputs": [],
      "source": [
        "%%capture\n",
        "!pip install wandb"
      ]
    },
    {
      "cell_type": "code",
      "execution_count": null,
      "metadata": {
        "colab": {
          "base_uri": "https://localhost:8080/"
        },
        "id": "H7qq7Z8Wh-td",
        "outputId": "ab33fb10-b774-4055-e734-f22b93e1c3fc"
      },
      "outputs": [
        {
          "name": "stdout",
          "output_type": "stream",
          "text": [
            "/content/pytorch_explain\n"
          ]
        }
      ],
      "source": [
        "%cd /content/pytorch_explain"
      ]
    },
    {
      "cell_type": "code",
      "execution_count": null,
      "metadata": {
        "colab": {
          "background_save": true
        },
        "id": "j3irbP2Uh5eu"
      },
      "outputs": [],
      "source": [
        "import torch.nn.functional as F\n",
        "from torch_explain.nn.concepts import IntpLinearLayer1, IntpLinearLayer2, IntpLinearLayer3, ConceptReasoningLayer, ConceptEmbedding\n",
        "import torch\n",
        "import torch_explain as te\n",
        "from torch_explain import datasets\n",
        "from sklearn.metrics import accuracy_score\n",
        "from sklearn.model_selection import train_test_split\n",
        "import torch\n",
        "import torch.nn.functional as F\n",
        "from torch.utils.data import DataLoader, random_split\n",
        "from torch.optim.lr_scheduler import ReduceLROnPlateau\n",
        "import wandb"
      ]
    },
    {
      "cell_type": "code",
      "execution_count": null,
      "metadata": {
        "id": "sQXYcwf9ksLl"
      },
      "outputs": [],
      "source": [
        "# Good practice: Keep all keys secret!\n",
        "wandb.login(key='598e89dd4ece6531ed05c8fc9ea9bb6914798009')"
      ]
    },
    {
      "cell_type": "code",
      "execution_count": null,
      "metadata": {
        "id": "lwS925jYkw5V"
      },
      "outputs": [],
      "source": [
        "dataset_names = ['XOR','XNOR', 'IsBinEven','Trigonometry', 'Dot']\n",
        "\n",
        "datasets = [\n",
        "    datasets.xor(5000),\n",
        "    datasets.xnor(5000),\n",
        "    datasets.is_bin_even(5000),\n",
        "    datasets.trigonometry(5000),\n",
        "    datasets.dot(5000)\n",
        "]\n",
        "\n",
        "models = ['DCRBase', 'LLR1', 'LLR2', 'LLR3']"
      ]
    },
    {
      "cell_type": "markdown",
      "metadata": {
        "id": "HMetrU8goOlR"
      },
      "source": [
        "Train on MNIST"
      ]
    },
    {
      "cell_type": "code",
      "execution_count": null,
      "metadata": {
        "id": "UsjyG0rzkZji"
      },
      "outputs": [],
      "source": [
        "# Function to select loss function based on the configuration\n",
        "def get_loss_function(name):\n",
        "    if name == 'bce':\n",
        "        return torch.nn.BCELoss()\n",
        "    elif name == 'mse':\n",
        "        return torch.nn.MSELoss()\n",
        "    elif name == 'huber':\n",
        "        return torch.nn.HuberLoss()\n",
        "    elif name == 'hinge':\n",
        "        return torch.nn.HingeEmbeddingLoss()\n",
        "    elif name == 'bceL':\n",
        "        return torch.nn.BCEWithLogitsLoss()\n",
        "    elif name == 'cross_entropy':\n",
        "        return torch.nn.CrossEntropyLoss()"
      ]
    },
    {
      "cell_type": "code",
      "execution_count": null,
      "metadata": {
        "id": "C1K4oCjZBoOF"
      },
      "outputs": [],
      "source": [
        "import warnings\n",
        "warnings.filterwarnings('ignore')"
      ]
    },
    {
      "cell_type": "code",
      "execution_count": null,
      "metadata": {
        "colab": {
          "base_uri": "https://localhost:8080/"
        },
        "id": "iVKalEjpMlOm",
        "outputId": "a874e799-6f92-4603-a94f-9bfb8936e50d"
      },
      "outputs": [
        {
          "data": {
            "text/plain": [
              "(50000,)"
            ]
          },
          "execution_count": 21,
          "metadata": {},
          "output_type": "execute_result"
        }
      ],
      "source": [
        "y_train.shape"
      ]
    },
    {
      "cell_type": "code",
      "execution_count": null,
      "metadata": {
        "colab": {
          "base_uri": "https://localhost:8080/",
          "height": 1000,
          "referenced_widgets": [
            "0b13cf19ad6b4797abf7d2628b08b0a3",
            "7a8740d80f414ae3acfbdf71df87e1d4",
            "ec14f15f0a93440aaad8f01da390529a",
            "71546fcf9f2a48eead45d3adac7c577f",
            "02c0585a74344e69b69a4d6be2b14acd",
            "30e5801c99f847a4b87e127f6eea2600",
            "6378e4333220453484dbcbae3f6c6900",
            "d5a2f8b7bbe942508729ce302601a704",
            "95ac959e204340ca887189735e519a50",
            "0f6f630216d54330aea06c4440ad096e",
            "1990e23e7cd84417809d319791a983d4",
            "37c8d9e398c54eab8ad85567690ff095",
            "b75ac532d07e43ea94d7be614220d263",
            "3e6f330342c341bdaa452204181106dc",
            "13867975107e445c8969250d08dedf01",
            "5ac1dfc1b1c04fca9b0e6d7f8332dfbe"
          ]
        },
        "id": "IijbdrXEoEbv",
        "outputId": "61fa206b-e07a-4553-fcef-e63cb29aaa95"
      },
      "outputs": [
        {
          "name": "stdout",
          "output_type": "stream",
          "text": [
            "===========================================================\n",
            "Training Started!\n",
            "Training on DCRBase ... \n",
            "--------------------------------\n",
            "The following dataset has been loaded successfully: MNIST_Addition\n",
            "Training on LLR3 ... \n",
            "--------------------------------\n"
          ]
        },
        {
          "data": {
            "text/html": [
              "Finishing last run (ID:3dvhohhc) before initializing another..."
            ],
            "text/plain": [
              "<IPython.core.display.HTML object>"
            ]
          },
          "metadata": {},
          "output_type": "display_data"
        },
        {
          "data": {
            "application/vnd.jupyter.widget-view+json": {
              "model_id": "0b13cf19ad6b4797abf7d2628b08b0a3",
              "version_major": 2,
              "version_minor": 0
            },
            "text/plain": [
              "VBox(children=(Label(value='0.001 MB of 0.011 MB uploaded\\r'), FloatProgress(value=0.10524133355448664, max=1.…"
            ]
          },
          "metadata": {},
          "output_type": "display_data"
        },
        {
          "data": {
            "text/html": [
              "<style>\n",
              "    table.wandb td:nth-child(1) { padding: 0 10px; text-align: left ; width: auto;} td:nth-child(2) {text-align: left ; width: 100%}\n",
              "    .wandb-row { display: flex; flex-direction: row; flex-wrap: wrap; justify-content: flex-start; width: 100% }\n",
              "    .wandb-col { display: flex; flex-direction: column; flex-basis: 100%; flex: 1; padding: 10px; }\n",
              "    </style>\n",
              "<div class=\"wandb-row\"><div class=\"wandb-col\"><h3>Run history:</h3><br/><table class=\"wandb\"><tr><td>learning_rate</td><td>▁▁▁▁▁▁▁▁▁▁▁</td></tr><tr><td>train_concept_loss</td><td>██▇▆▆▅▄▄▃▂▁</td></tr><tr><td>train_task_loss</td><td>▄██▅▁▃▅▂▂▃▆</td></tr></table><br/></div><div class=\"wandb-col\"><h3>Run summary:</h3><br/><table class=\"wandb\"><tr><td>learning_rate</td><td>0.0005</td></tr><tr><td>train_concept_loss</td><td>0.6629</td></tr><tr><td>train_task_loss</td><td>3.19551</td></tr></table><br/></div></div>"
            ],
            "text/plain": [
              "<IPython.core.display.HTML object>"
            ]
          },
          "metadata": {},
          "output_type": "display_data"
        },
        {
          "data": {
            "text/html": [
              " View run <strong style=\"color:#cdcd00\">LLR3_MNIST_Addition</strong> at: <a href='https://wandb.ai/alih999954-politecnico-di-torino/pytorch_explain/runs/3dvhohhc' target=\"_blank\">https://wandb.ai/alih999954-politecnico-di-torino/pytorch_explain/runs/3dvhohhc</a><br/> View project at: <a href='https://wandb.ai/alih999954-politecnico-di-torino/pytorch_explain' target=\"_blank\">https://wandb.ai/alih999954-politecnico-di-torino/pytorch_explain</a><br/>Synced 5 W&B file(s), 0 media file(s), 0 artifact file(s) and 0 other file(s)"
            ],
            "text/plain": [
              "<IPython.core.display.HTML object>"
            ]
          },
          "metadata": {},
          "output_type": "display_data"
        },
        {
          "data": {
            "text/html": [
              "Find logs at: <code>./wandb/run-20240723_164913-3dvhohhc/logs</code>"
            ],
            "text/plain": [
              "<IPython.core.display.HTML object>"
            ]
          },
          "metadata": {},
          "output_type": "display_data"
        },
        {
          "data": {
            "text/html": [
              "The new W&B backend becomes opt-out in version 0.18.0; try it out with `wandb.require(\"core\")`! See https://wandb.me/wandb-core for more information."
            ],
            "text/plain": [
              "<IPython.core.display.HTML object>"
            ]
          },
          "metadata": {},
          "output_type": "display_data"
        },
        {
          "data": {
            "text/html": [
              "Successfully finished last run (ID:3dvhohhc). Initializing new run:<br/>"
            ],
            "text/plain": [
              "<IPython.core.display.HTML object>"
            ]
          },
          "metadata": {},
          "output_type": "display_data"
        },
        {
          "data": {
            "text/html": [
              "Tracking run with wandb version 0.17.5"
            ],
            "text/plain": [
              "<IPython.core.display.HTML object>"
            ]
          },
          "metadata": {},
          "output_type": "display_data"
        },
        {
          "data": {
            "text/html": [
              "Run data is saved locally in <code>/content/wandb/run-20240723_164948-k3ore2lw</code>"
            ],
            "text/plain": [
              "<IPython.core.display.HTML object>"
            ]
          },
          "metadata": {},
          "output_type": "display_data"
        },
        {
          "data": {
            "text/html": [
              "Syncing run <strong><a href='https://wandb.ai/alih999954-politecnico-di-torino/pytorch_explain/runs/k3ore2lw' target=\"_blank\">LLR3_MNIST_Addition</a></strong> to <a href='https://wandb.ai/alih999954-politecnico-di-torino/pytorch_explain' target=\"_blank\">Weights & Biases</a> (<a href='https://wandb.me/run' target=\"_blank\">docs</a>)<br/>"
            ],
            "text/plain": [
              "<IPython.core.display.HTML object>"
            ]
          },
          "metadata": {},
          "output_type": "display_data"
        },
        {
          "data": {
            "text/html": [
              " View project at <a href='https://wandb.ai/alih999954-politecnico-di-torino/pytorch_explain' target=\"_blank\">https://wandb.ai/alih999954-politecnico-di-torino/pytorch_explain</a>"
            ],
            "text/plain": [
              "<IPython.core.display.HTML object>"
            ]
          },
          "metadata": {},
          "output_type": "display_data"
        },
        {
          "data": {
            "text/html": [
              " View run at <a href='https://wandb.ai/alih999954-politecnico-di-torino/pytorch_explain/runs/k3ore2lw' target=\"_blank\">https://wandb.ai/alih999954-politecnico-di-torino/pytorch_explain/runs/k3ore2lw</a>"
            ],
            "text/plain": [
              "<IPython.core.display.HTML object>"
            ]
          },
          "metadata": {},
          "output_type": "display_data"
        },
        {
          "name": "stdout",
          "output_type": "stream",
          "text": [
            "-------------------------- Training MNIST_Addition using LLR3 ----------------------\n",
            "Epoch 1, Loss: 1.7462483808517455, Train Accuracy: 0.0989, Val Loss: 1.6840228852193067, Val Accuracy: 0.0892, Train Precision: 0.031598877364128954, Train Recall: 0.0989, Train F1: 0.036714184199069445, Val Precision: 0.0213018437637755, Val Recall: 0.0892, Val F1: 0.02751930180610301, Epoch Time: 16.853581428527832\n",
            "Epoch 2, Loss: 1.5685187818527222, Train Accuracy: 0.157675, Val Loss: 1.4384291604825645, Val Accuracy: 0.2166, Train Precision: 0.18838971451170192, Train Recall: 0.157675, Train F1: 0.12245993239323015, Val Precision: 0.21813463613356512, Val Recall: 0.2166, Val F1: 0.18281724653663914, Epoch Time: 17.98530626296997\n",
            "Epoch 3, Loss: 1.379292474937439, Train Accuracy: 0.2432, Val Loss: 1.3366748246417683, Val Accuracy: 0.2626, Train Precision: 0.24010235236504973, Train Recall: 0.2432, Train F1: 0.22153339361655336, Val Precision: 0.26843970959001107, Val Recall: 0.2626, Val F1: 0.2301010394421119, Epoch Time: 17.084492444992065\n",
            "Epoch 4, Loss: 1.3071797594070436, Train Accuracy: 0.272375, Val Loss: 1.2734872041993839, Val Accuracy: 0.2898, Train Precision: 0.2903059030255387, Train Recall: 0.272375, Train F1: 0.25530736226755346, Val Precision: 0.3226315204041341, Val Recall: 0.2898, Val F1: 0.27583231575343636, Epoch Time: 16.688384771347046\n",
            "Epoch 5, Loss: 1.2592131093978882, Train Accuracy: 0.299075, Val Loss: 1.2362014936034087, Val Accuracy: 0.3116, Train Precision: 0.3124400499785859, Train Recall: 0.299075, Train F1: 0.2893631643952686, Val Precision: 0.3373854933557102, Val Recall: 0.3116, Val F1: 0.30878662133867324, Epoch Time: 16.785361766815186\n",
            "Epoch 6, Loss: 1.221718641090393, Train Accuracy: 0.321425, Val Loss: 1.1978616835964713, Val Accuracy: 0.3419, Train Precision: 0.3285668627588357, Train Recall: 0.321425, Train F1: 0.31457994632757624, Val Precision: 0.3593774457469371, Val Recall: 0.3419, Val F1: 0.33690657798969714, Epoch Time: 17.078373432159424\n",
            "Epoch 7, Loss: 1.1898414616584778, Train Accuracy: 0.342025, Val Loss: 1.1840983568483097, Val Accuracy: 0.3428, Train Precision: 0.348019085698558, Train Recall: 0.342025, Train F1: 0.3363211598435368, Val Precision: 0.3477334602205143, Val Recall: 0.3428, Val F1: 0.3344746567445755, Epoch Time: 18.954196453094482\n",
            "Epoch 8, Loss: 1.1640901866912843, Train Accuracy: 0.3531, Val Loss: 1.1455831015185944, Val Accuracy: 0.3633, Train Precision: 0.35796846091268636, Train Recall: 0.3531, Train F1: 0.3482588545091394, Val Precision: 0.37969080847133196, Val Recall: 0.3633, Val F1: 0.3574915741776663, Epoch Time: 17.251611948013306\n",
            "Epoch 9, Loss: 1.1384133566856385, Train Accuracy: 0.3717, Val Loss: 1.1398934748522036, Val Accuracy: 0.3693, Train Precision: 0.3766786059054034, Train Recall: 0.3717, Train F1: 0.3680161966334606, Val Precision: 0.3864732694778986, Val Recall: 0.3693, Val F1: 0.36283026377001426, Epoch Time: 16.75906014442444\n",
            "Epoch 10, Loss: 1.1209228138923646, Train Accuracy: 0.38105, Val Loss: 1.1151614758619077, Val Accuracy: 0.3869, Train Precision: 0.3852466873653705, Train Recall: 0.38105, Train F1: 0.3781518158855243, Val Precision: 0.3973581557142768, Val Recall: 0.3869, Val F1: 0.379206031044497, Epoch Time: 17.36651301383972\n",
            "Epoch 11, Loss: 1.1009688614845277, Train Accuracy: 0.3958, Val Loss: 1.0988304751693823, Val Accuracy: 0.3948, Train Precision: 0.40052816041900713, Train Recall: 0.3958, Train F1: 0.39369965611119745, Val Precision: 0.4093690895498337, Val Recall: 0.3948, Val F1: 0.3882567612049232, Epoch Time: 18.038065671920776\n",
            "Epoch 12, Loss: 1.084094287776947, Train Accuracy: 0.40815, Val Loss: 1.0705283227240203, Val Accuracy: 0.4087, Train Precision: 0.41254919045091226, Train Recall: 0.40815, Train F1: 0.4063593361195012, Val Precision: 0.4237093271286195, Val Recall: 0.4087, Val F1: 0.41007192444953644, Epoch Time: 16.94727110862732\n",
            "Epoch 13, Loss: 1.0680871200561524, Train Accuracy: 0.418175, Val Loss: 1.05654764327274, Val Accuracy: 0.4209, Train Precision: 0.42223857203110826, Train Recall: 0.418175, Train F1: 0.41654377091218714, Val Precision: 0.4299832574461209, Val Recall: 0.4209, Val F1: 0.41916394041426486, Epoch Time: 18.2083899974823\n",
            "Epoch 14, Loss: 1.0537333084106446, Train Accuracy: 0.4277, Val Loss: 1.0667661007042903, Val Accuracy: 0.4103, Train Precision: 0.43240386786080737, Train Recall: 0.4277, Train F1: 0.4268189484843161, Val Precision: 0.4145900627134225, Val Recall: 0.4103, Val F1: 0.4045522297608604, Epoch Time: 18.21373701095581\n",
            "Epoch 15, Loss: 1.0390573442459106, Train Accuracy: 0.437725, Val Loss: 1.0250966643831532, Val Accuracy: 0.4395, Train Precision: 0.44170799733899757, Train Recall: 0.437725, Train F1: 0.4368370422223414, Val Precision: 0.4531868622155489, Val Recall: 0.4395, Val F1: 0.43870154947349266, Epoch Time: 16.430912017822266\n",
            "Epoch 16, Loss: 1.0254939566612244, Train Accuracy: 0.446475, Val Loss: 1.0137501055267966, Val Accuracy: 0.4457, Train Precision: 0.4498270131349258, Train Recall: 0.446475, Train F1: 0.44530374168879655, Val Precision: 0.4509820911734984, Val Recall: 0.4457, Val F1: 0.4423635745480707, Epoch Time: 16.20413851737976\n",
            "Epoch 17, Loss: 1.011905631351471, Train Accuracy: 0.454475, Val Loss: 1.0004589739878467, Val Accuracy: 0.4551, Train Precision: 0.4579215251810145, Train Recall: 0.454475, Train F1: 0.45351192959515685, Val Precision: 0.461022927707255, Val Recall: 0.4551, Val F1: 0.45189635566792913, Epoch Time: 16.585545301437378\n",
            "Epoch 18, Loss: 0.9962817357063294, Train Accuracy: 0.464275, Val Loss: 0.9875641582877772, Val Accuracy: 0.4622, Train Precision: 0.4671140772598419, Train Recall: 0.464275, Train F1: 0.4632162827406898, Val Precision: 0.4731478221094589, Val Recall: 0.4622, Val F1: 0.46126781234352093, Epoch Time: 16.412837266921997\n",
            "Epoch 19, Loss: 0.9827074743270874, Train Accuracy: 0.472525, Val Loss: 0.981835618899886, Val Accuracy: 0.4676, Train Precision: 0.4756597326230659, Train Recall: 0.472525, Train F1: 0.47161428923492815, Val Precision: 0.4760692732500379, Val Recall: 0.4676, Val F1: 0.46762379334375276, Epoch Time: 17.883723974227905\n",
            "Epoch 20, Loss: 0.9698071508407593, Train Accuracy: 0.482775, Val Loss: 0.9878775128133738, Val Accuracy: 0.4602, Train Precision: 0.4861158024417665, Train Recall: 0.482775, Train F1: 0.48196327056725313, Val Precision: 0.4790740325041203, Val Recall: 0.4602, Val F1: 0.4600628871714388, Epoch Time: 16.524415731430054\n",
            "Epoch 21, Loss: 0.958473565196991, Train Accuracy: 0.49075, Val Loss: 0.9555836809668571, Val Accuracy: 0.4838, Train Precision: 0.49377819663209677, Train Recall: 0.49075, Train F1: 0.48979512370976325, Val Precision: 0.4926487636802236, Val Recall: 0.4838, Val F1: 0.48301237487390064, Epoch Time: 31.143247365951538\n",
            "Epoch 22, Loss: 0.949684195804596, Train Accuracy: 0.496825, Val Loss: 0.9379262407873846, Val Accuracy: 0.4946, Train Precision: 0.5000241656536041, Train Recall: 0.496825, Train F1: 0.49589203800563947, Val Precision: 0.5137452833194219, Val Recall: 0.4946, Val F1: 0.4959473812575944, Epoch Time: 16.77888035774231\n",
            "Epoch 23, Loss: 0.9357253818511962, Train Accuracy: 0.506175, Val Loss: 0.9303971889672006, Val Accuracy: 0.5009, Train Precision: 0.5095707551065565, Train Recall: 0.506175, Train F1: 0.5053302493556759, Val Precision: 0.5079063060009644, Val Recall: 0.5009, Val F1: 0.49970380008962473, Epoch Time: 16.565683126449585\n",
            "Convergence achieved at epoch 23 with validation accuracy 0.5009\n",
            "Epoch 24, Loss: 0.9269091957092285, Train Accuracy: 0.512725, Val Loss: 0.9272830983635726, Val Accuracy: 0.5077, Train Precision: 0.5159058352220373, Train Recall: 0.512725, Train F1: 0.511805298259376, Val Precision: 0.5198883118794347, Val Recall: 0.5077, Val F1: 0.5061639117018661, Epoch Time: 19.469395875930786\n",
            "Epoch 25, Loss: 0.9155200436592102, Train Accuracy: 0.5186, Val Loss: 0.9211524774314491, Val Accuracy: 0.5042, Train Precision: 0.5223149148628542, Train Recall: 0.5186, Train F1: 0.5177993646290355, Val Precision: 0.5120095140135048, Val Recall: 0.5042, Val F1: 0.5004695548490908, Epoch Time: 16.71188235282898\n",
            "Epoch 26, Loss: 0.9036273131370545, Train Accuracy: 0.5272, Val Loss: 0.8990747119970383, Val Accuracy: 0.5246, Train Precision: 0.5307247270008049, Train Recall: 0.5272, Train F1: 0.5263850936135056, Val Precision: 0.5376241211182805, Val Recall: 0.5246, Val F1: 0.5223793316027115, Epoch Time: 16.58540987968445\n",
            "Epoch 27, Loss: 0.8924156713485718, Train Accuracy: 0.533, Val Loss: 0.9081448103971542, Val Accuracy: 0.5138, Train Precision: 0.5360823371799742, Train Recall: 0.533, Train F1: 0.5320190662660897, Val Precision: 0.5248029279457086, Val Recall: 0.5138, Val F1: 0.5102602441376619, Epoch Time: 17.253922700881958\n",
            "Epoch 28, Loss: 0.8816770938873291, Train Accuracy: 0.540275, Val Loss: 0.8778901028025682, Val Accuracy: 0.5316, Train Precision: 0.5431285374112693, Train Recall: 0.540275, Train F1: 0.5393525358402641, Val Precision: 0.5476979562186756, Val Recall: 0.5316, Val F1: 0.5329040568707071, Epoch Time: 17.543637990951538\n",
            "Epoch 29, Loss: 0.869542451095581, Train Accuracy: 0.5489, Val Loss: 0.8847069671958875, Val Accuracy: 0.5323, Train Precision: 0.5521776863666642, Train Recall: 0.5489, Train F1: 0.54819834494309, Val Precision: 0.5428529530855511, Val Recall: 0.5323, Val F1: 0.5278767496693322, Epoch Time: 18.29831576347351\n",
            "Epoch 30, Loss: 0.8576415728569031, Train Accuracy: 0.554975, Val Loss: 0.8534747214074347, Val Accuracy: 0.555, Train Precision: 0.5583400214164547, Train Recall: 0.554975, Train F1: 0.554436125313988, Val Precision: 0.5643933047575144, Val Recall: 0.555, Val F1: 0.5551496949629618, Epoch Time: 16.338773012161255\n",
            "Epoch 31, Loss: 0.8394868081092834, Train Accuracy: 0.56745, Val Loss: 0.856181537649434, Val Accuracy: 0.5499, Train Precision: 0.5701800177319907, Train Recall: 0.56745, Train F1: 0.5667512012165739, Val Precision: 0.568508956937571, Val Recall: 0.5499, Val F1: 0.5522790560917172, Epoch Time: 16.415324211120605\n",
            "Epoch 32, Loss: 0.8288261280059814, Train Accuracy: 0.577425, Val Loss: 0.8204296990564675, Val Accuracy: 0.5696, Train Precision: 0.5801267479996869, Train Recall: 0.577425, Train F1: 0.5769788211118844, Val Precision: 0.5811265711453527, Val Recall: 0.5696, Val F1: 0.5700811622579264, Epoch Time: 16.279582262039185\n",
            "Epoch 33, Loss: 0.8154298911094665, Train Accuracy: 0.5854, Val Loss: 0.8146779093013448, Val Accuracy: 0.5804, Train Precision: 0.588262925193604, Train Recall: 0.5854, Train F1: 0.5849825156964684, Val Precision: 0.5973840230257182, Val Recall: 0.5804, Val F1: 0.5804420876326877, Epoch Time: 17.056695222854614\n",
            "Epoch 34, Loss: 0.7999289266586304, Train Accuracy: 0.598825, Val Loss: 0.8134464841739387, Val Accuracy: 0.5858, Train Precision: 0.6013190718546165, Train Recall: 0.598825, Train F1: 0.5984114805274505, Val Precision: 0.5931277882217169, Val Recall: 0.5858, Val F1: 0.582195025097554, Epoch Time: 17.119364261627197\n",
            "Epoch 35, Loss: 0.7881910623550415, Train Accuracy: 0.60695, Val Loss: 0.7893984386116076, Val Accuracy: 0.6054, Train Precision: 0.6094397591483116, Train Recall: 0.60695, Train F1: 0.6067460113499714, Val Precision: 0.6129706200594552, Val Recall: 0.6054, Val F1: 0.606185832554543, Epoch Time: 16.40447163581848\n",
            "Epoch 36, Loss: 0.7774750079154968, Train Accuracy: 0.612775, Val Loss: 0.7760571461574287, Val Accuracy: 0.6112, Train Precision: 0.6154801991115019, Train Recall: 0.612775, Train F1: 0.6126633521054052, Val Precision: 0.6231816257573215, Val Recall: 0.6112, Val F1: 0.6126008384151322, Epoch Time: 16.958560466766357\n",
            "Epoch 37, Loss: 0.7652409976005554, Train Accuracy: 0.624175, Val Loss: 0.7630864905703599, Val Accuracy: 0.6252, Train Precision: 0.626891690285046, Train Recall: 0.624175, Train F1: 0.6241351484180325, Val Precision: 0.6303754357883166, Val Recall: 0.6252, Val F1: 0.6252171613768428, Epoch Time: 16.833226680755615\n",
            "Epoch 38, Loss: 0.7534622324943543, Train Accuracy: 0.63315, Val Loss: 0.7477216955962455, Val Accuracy: 0.6336, Train Precision: 0.6356787845216098, Train Recall: 0.63315, Train F1: 0.6331596819395732, Val Precision: 0.6446135246894025, Val Recall: 0.6336, Val F1: 0.6354494253474567, Epoch Time: 19.130688428878784\n",
            "Epoch 39, Loss: 0.7402122046470642, Train Accuracy: 0.642075, Val Loss: 0.7355247014647077, Val Accuracy: 0.6425, Train Precision: 0.6447610170345879, Train Recall: 0.642075, Train F1: 0.6421598823722354, Val Precision: 0.6517168711580257, Val Recall: 0.6425, Val F1: 0.6425389032759231, Epoch Time: 16.935621738433838\n",
            "Epoch 40, Loss: 0.7289382682800293, Train Accuracy: 0.650275, Val Loss: 0.73003327125197, Val Accuracy: 0.6478, Train Precision: 0.6525869694776213, Train Recall: 0.650275, Train F1: 0.6503344716321693, Val Precision: 0.6538076646467124, Val Recall: 0.6478, Val F1: 0.6479663571111031, Epoch Time: 16.83089327812195\n",
            "Epoch 41, Loss: 0.7192266509056091, Train Accuracy: 0.65595, Val Loss: 0.7168495169111119, Val Accuracy: 0.6576, Train Precision: 0.6580431022953821, Train Recall: 0.65595, Train F1: 0.6559446370559614, Val Precision: 0.6646192133936096, Val Recall: 0.6576, Val F1: 0.6583629993586776, Epoch Time: 16.904476165771484\n",
            "Epoch 42, Loss: 0.7074893736839294, Train Accuracy: 0.665275, Val Loss: 0.7073107487077166, Val Accuracy: 0.6592, Train Precision: 0.6672631208920689, Train Recall: 0.665275, Train F1: 0.6653209757290669, Val Precision: 0.6689915387449369, Val Recall: 0.6592, Val F1: 0.6595868217657277, Epoch Time: 17.891350507736206\n",
            "Epoch 43, Loss: 0.6991318125724792, Train Accuracy: 0.6698, Val Loss: 0.6983644430804404, Val Accuracy: 0.6677, Train Precision: 0.67183027267882, Train Recall: 0.6698, Train F1: 0.6699600084430923, Val Precision: 0.6757061942255953, Val Recall: 0.6677, Val F1: 0.6681072525126515, Epoch Time: 16.54371929168701\n",
            "Epoch 44, Loss: 0.6886018280982971, Train Accuracy: 0.674925, Val Loss: 0.6844986411416607, Val Accuracy: 0.6769, Train Precision: 0.6761956694627371, Train Recall: 0.674925, Train F1: 0.6748264232928718, Val Precision: 0.6796136244414674, Val Recall: 0.6769, Val F1: 0.6765788213258017, Epoch Time: 16.704047203063965\n",
            "Epoch 45, Loss: 0.6775859959602356, Train Accuracy: 0.68065, Val Loss: 0.6800645274721133, Val Accuracy: 0.6835, Train Precision: 0.6819928041530452, Train Recall: 0.68065, Train F1: 0.6805813024096321, Val Precision: 0.6920845841081212, Val Recall: 0.6835, Val F1: 0.6839280518937445, Epoch Time: 18.287413835525513\n",
            "Epoch 46, Loss: 0.670064091539383, Train Accuracy: 0.6849, Val Loss: 0.6788284930453938, Val Accuracy: 0.6782, Train Precision: 0.6863225799355, Train Recall: 0.6849, Train F1: 0.6849559722988598, Val Precision: 0.6873980300593514, Val Recall: 0.6782, Val F1: 0.6789058582965255, Epoch Time: 17.62642192840576\n",
            "Epoch 47, Loss: 0.6612028637886047, Train Accuracy: 0.692525, Val Loss: 0.6615014588756926, Val Accuracy: 0.6873, Train Precision: 0.6938689919669943, Train Recall: 0.692525, Train F1: 0.6925872668146366, Val Precision: 0.6935989705484996, Val Recall: 0.6873, Val F1: 0.6869612238909318, Epoch Time: 17.487982034683228\n",
            "Epoch 48, Loss: 0.6488745581626892, Train Accuracy: 0.700125, Val Loss: 0.6700844221813663, Val Accuracy: 0.6776, Train Precision: 0.7014636636653959, Train Recall: 0.700125, Train F1: 0.7001331251869548, Val Precision: 0.684030727225376, Val Recall: 0.6776, Val F1: 0.6771119286117879, Epoch Time: 16.87503933906555\n",
            "Epoch 49, Loss: 0.6437056290626526, Train Accuracy: 0.699975, Val Loss: 0.6733644456620429, Val Accuracy: 0.6789, Train Precision: 0.701028396284367, Train Recall: 0.699975, Train F1: 0.6999215258004493, Val Precision: 0.6909776886847787, Val Recall: 0.6789, Val F1: 0.6810771105214527, Epoch Time: 17.009846925735474\n",
            "Epoch 50, Loss: 0.6325590571403503, Train Accuracy: 0.70755, Val Loss: 0.6464118498146154, Val Accuracy: 0.6928, Train Precision: 0.7086356453106243, Train Recall: 0.70755, Train F1: 0.7075963871359799, Val Precision: 0.6981396368269334, Val Recall: 0.6928, Val F1: 0.6923140390568965, Epoch Time: 16.974905729293823\n",
            "Epoch 51, Loss: 0.6254911721229554, Train Accuracy: 0.71325, Val Loss: 0.6368783786418332, Val Accuracy: 0.7021, Train Precision: 0.7143012331675125, Train Recall: 0.71325, Train F1: 0.7133230017177596, Val Precision: 0.7062115865158084, Val Recall: 0.7021, Val F1: 0.7014111915037294, Epoch Time: 19.24822425842285\n",
            "Epoch 52, Loss: 0.6172606248378754, Train Accuracy: 0.716375, Val Loss: 0.6444357223571486, Val Accuracy: 0.6929, Train Precision: 0.7175442524269796, Train Recall: 0.716375, Train F1: 0.7164331730145439, Val Precision: 0.7008318966394015, Val Recall: 0.6929, Val F1: 0.6942125925228686, Epoch Time: 16.92968249320984\n",
            "Epoch 53, Loss: 0.6090789451599121, Train Accuracy: 0.720575, Val Loss: 0.6191305797191182, Val Accuracy: 0.7122, Train Precision: 0.7216374639874524, Train Recall: 0.720575, Train F1: 0.7206455282567106, Val Precision: 0.7156180419429177, Val Recall: 0.7122, Val F1: 0.7124168950440342, Epoch Time: 17.03079128265381\n",
            "Epoch 54, Loss: 0.6000448726654053, Train Accuracy: 0.72495, Val Loss: 0.6085302569683949, Val Accuracy: 0.7178, Train Precision: 0.7257416274013823, Train Recall: 0.72495, Train F1: 0.7249533093654567, Val Precision: 0.7189334816519874, Val Recall: 0.7178, Val F1: 0.717700470817044, Epoch Time: 16.965922832489014\n",
            "Epoch 55, Loss: 0.5941109076499939, Train Accuracy: 0.728525, Val Loss: 0.6018062543337512, Val Accuracy: 0.7272, Train Precision: 0.729257360291148, Train Recall: 0.728525, Train F1: 0.7285273898955655, Val Precision: 0.7307625058286139, Val Recall: 0.7272, Val F1: 0.7276127280412693, Epoch Time: 17.64978051185608\n",
            "Epoch 56, Loss: 0.5866257063388824, Train Accuracy: 0.731425, Val Loss: 0.5970656917353344, Val Accuracy: 0.7261, Train Precision: 0.7322124951161948, Train Recall: 0.731425, Train F1: 0.7315004141545928, Val Precision: 0.7332522188765506, Val Recall: 0.7261, Val F1: 0.7275448710619755, Epoch Time: 16.92336940765381\n",
            "Epoch 57, Loss: 0.578258152103424, Train Accuracy: 0.736775, Val Loss: 0.5862539190395623, Val Accuracy: 0.7262, Train Precision: 0.7376258689304674, Train Recall: 0.736775, Train F1: 0.7368182559577886, Val Precision: 0.7302033425831581, Val Recall: 0.7262, Val F1: 0.7264357655941298, Epoch Time: 16.797377586364746\n",
            "Epoch 58, Loss: 0.5707048315048218, Train Accuracy: 0.738375, Val Loss: 0.5802546506095084, Val Accuracy: 0.7319, Train Precision: 0.7389857920099535, Train Recall: 0.738375, Train F1: 0.738369932553657, Val Precision: 0.7382668974133025, Val Recall: 0.7319, Val F1: 0.7327633790221922, Epoch Time: 16.7045156955719\n",
            "Epoch 59, Loss: 0.5652909828662872, Train Accuracy: 0.74275, Val Loss: 0.5715570734564666, Val Accuracy: 0.7402, Train Precision: 0.743464231804626, Train Recall: 0.74275, Train F1: 0.7428122682663482, Val Precision: 0.7402417510154016, Val Recall: 0.7402, Val F1: 0.7395730074020904, Epoch Time: 16.633713483810425\n",
            "Epoch 60, Loss: 0.5574032370090485, Train Accuracy: 0.74565, Val Loss: 0.5693217487471878, Val Accuracy: 0.733, Train Precision: 0.7463143490679957, Train Recall: 0.74565, Train F1: 0.7456798132422152, Val Precision: 0.7373419983040791, Val Recall: 0.733, Val F1: 0.7333337652329424, Epoch Time: 18.10735273361206\n",
            "Epoch 61, Loss: 0.5510588538646698, Train Accuracy: 0.74705, Val Loss: 0.5696259902161398, Val Accuracy: 0.7375, Train Precision: 0.7475106367297283, Train Recall: 0.74705, Train F1: 0.7470207913594291, Val Precision: 0.7411278192526454, Val Recall: 0.7375, Val F1: 0.7375990075024502, Epoch Time: 17.981930017471313\n",
            "Epoch 62, Loss: 0.5433755988121033, Train Accuracy: 0.7534, Val Loss: 0.5626300831509244, Val Accuracy: 0.7376, Train Precision: 0.7540224363487575, Train Recall: 0.7534, Train F1: 0.7534351464129727, Val Precision: 0.7419139473314287, Val Recall: 0.7376, Val F1: 0.7369079948464785, Epoch Time: 16.807093143463135\n",
            "Epoch 63, Loss: 0.5406014137744903, Train Accuracy: 0.7532, Val Loss: 0.574091324570832, Val Accuracy: 0.7223, Train Precision: 0.7538201743190335, Train Recall: 0.7532, Train F1: 0.7532575995575505, Val Precision: 0.7280333377343996, Val Recall: 0.7223, Val F1: 0.7213333380404864, Epoch Time: 16.592313289642334\n",
            "Epoch 64, Loss: 0.5310010536193848, Train Accuracy: 0.75865, Val Loss: 0.5388254804216372, Val Accuracy: 0.7522, Train Precision: 0.759281737549485, Train Recall: 0.75865, Train F1: 0.7586651559421939, Val Precision: 0.7570991288955421, Val Recall: 0.7522, Val F1: 0.752653940554582, Epoch Time: 18.392467498779297\n",
            "Epoch 65, Loss: 0.5254192013263702, Train Accuracy: 0.762175, Val Loss: 0.5349759167167032, Val Accuracy: 0.7567, Train Precision: 0.7626323514006067, Train Recall: 0.762175, Train F1: 0.7621928693842225, Val Precision: 0.7626830891602081, Val Recall: 0.7567, Val F1: 0.7576579439737249, Epoch Time: 17.719087600708008\n",
            "Epoch 66, Loss: 0.5206747608184814, Train Accuracy: 0.7626, Val Loss: 0.5274441921786898, Val Accuracy: 0.7567, Train Precision: 0.7630994916648716, Train Recall: 0.7626, Train F1: 0.7626221709233667, Val Precision: 0.7593505857462768, Val Recall: 0.7567, Val F1: 0.7565690641536873, Epoch Time: 16.683299779891968\n",
            "Epoch 67, Loss: 0.5131983835220337, Train Accuracy: 0.766475, Val Loss: 0.5247067981844495, Val Accuracy: 0.7536, Train Precision: 0.766814886766817, Train Recall: 0.766475, Train F1: 0.7664377377286249, Val Precision: 0.7571922548702974, Val Recall: 0.7536, Val F1: 0.7536546576262471, Epoch Time: 16.756797552108765\n",
            "Epoch 68, Loss: 0.5066078800201416, Train Accuracy: 0.770875, Val Loss: 0.5147679865739907, Val Accuracy: 0.7634, Train Precision: 0.7711949626748984, Train Recall: 0.770875, Train F1: 0.770859365809364, Val Precision: 0.766302647830998, Val Recall: 0.7634, Val F1: 0.7635671874011245, Epoch Time: 16.723485469818115\n",
            "Epoch 69, Loss: 0.5008362668037415, Train Accuracy: 0.770625, Val Loss: 0.5161791857640454, Val Accuracy: 0.7562, Train Precision: 0.7709860037688191, Train Recall: 0.770625, Train F1: 0.7706276592884065, Val Precision: 0.7576041799139607, Val Recall: 0.7562, Val F1: 0.7559770691591152, Epoch Time: 17.91389513015747\n",
            "Epoch 70, Loss: 0.49584621868133544, Train Accuracy: 0.77425, Val Loss: 0.5065563089528661, Val Accuracy: 0.769, Train Precision: 0.7746035930572487, Train Recall: 0.77425, Train F1: 0.7742562877209286, Val Precision: 0.7722252564024824, Val Recall: 0.769, Val F1: 0.7696162595461155, Epoch Time: 16.820236444473267\n",
            "Epoch 71, Loss: 0.4890895088195801, Train Accuracy: 0.776025, Val Loss: 0.5119549812404973, Val Accuracy: 0.7562, Train Precision: 0.7762911021198498, Train Recall: 0.776025, Train F1: 0.7760015576112665, Val Precision: 0.7610735411016849, Val Recall: 0.7562, Val F1: 0.7559372475953241, Epoch Time: 16.684393167495728\n",
            "Epoch 72, Loss: 0.4829092231750488, Train Accuracy: 0.77875, Val Loss: 0.5031446269743002, Val Accuracy: 0.7661, Train Precision: 0.779104755380007, Train Recall: 0.77875, Train F1: 0.7787751457859386, Val Precision: 0.7686581466936777, Val Recall: 0.7661, Val F1: 0.7665459299410625, Epoch Time: 16.5578830242157\n",
            "Epoch 73, Loss: 0.4782800325393677, Train Accuracy: 0.780675, Val Loss: 0.4907384476843913, Val Accuracy: 0.7694, Train Precision: 0.7810005262461435, Train Recall: 0.780675, Train F1: 0.7806692217174236, Val Precision: 0.7735955530813918, Val Recall: 0.7694, Val F1: 0.7698167951178762, Epoch Time: 16.748648643493652\n",
            "Epoch 74, Loss: 0.4718886610507965, Train Accuracy: 0.782525, Val Loss: 0.49734163644966806, Val Accuracy: 0.7661, Train Precision: 0.7828353769353442, Train Recall: 0.782525, Train F1: 0.7825484686399488, Val Precision: 0.7696482134952652, Val Recall: 0.7661, Val F1: 0.76652480971684, Epoch Time: 17.965277671813965\n",
            "Epoch 75, Loss: 0.4647580595493317, Train Accuracy: 0.785425, Val Loss: 0.4906096646360531, Val Accuracy: 0.7704, Train Precision: 0.7855336128961233, Train Recall: 0.785425, Train F1: 0.7853761219221573, Val Precision: 0.7736841126833222, Val Recall: 0.7704, Val F1: 0.7708373153482148, Epoch Time: 16.411922216415405\n",
            "Epoch 76, Loss: 0.45942729308605196, Train Accuracy: 0.788375, Val Loss: 0.47629724964974035, Val Accuracy: 0.7723, Train Precision: 0.7885703810030775, Train Recall: 0.788375, Train F1: 0.7883264694888118, Val Precision: 0.7768792038795536, Val Recall: 0.7723, Val F1: 0.7720565146734137, Epoch Time: 16.76281976699829\n",
            "Epoch 77, Loss: 0.4553892520904541, Train Accuracy: 0.791175, Val Loss: 0.46873268750822467, Val Accuracy: 0.7799, Train Precision: 0.7913664836282581, Train Recall: 0.791175, Train F1: 0.7911688751556905, Val Precision: 0.7822008834661963, Val Recall: 0.7799, Val F1: 0.7800918265150553, Epoch Time: 18.024112462997437\n",
            "Epoch 78, Loss: 0.45056271290779115, Train Accuracy: 0.79265, Val Loss: 0.46841544064746543, Val Accuracy: 0.7817, Train Precision: 0.7927337670488633, Train Recall: 0.79265, Train F1: 0.7925781447187836, Val Precision: 0.7846801665503974, Val Recall: 0.7817, Val F1: 0.7821556826397199, Epoch Time: 18.705683946609497\n",
            "Epoch 79, Loss: 0.44591272802352905, Train Accuracy: 0.793, Val Loss: 0.4606900374600842, Val Accuracy: 0.7798, Train Precision: 0.7932422156942023, Train Recall: 0.793, Train F1: 0.7929993273627705, Val Precision: 0.7829353924044818, Val Recall: 0.7798, Val F1: 0.7800570613464488, Epoch Time: 17.407634496688843\n",
            "Epoch 80, Loss: 0.43945396580696106, Train Accuracy: 0.79745, Val Loss: 0.44739051495388055, Val Accuracy: 0.7925, Train Precision: 0.7976793766219212, Train Recall: 0.79745, Train F1: 0.7974309088772875, Val Precision: 0.7933209690485885, Val Recall: 0.7925, Val F1: 0.792257089634504, Epoch Time: 16.550071954727173\n",
            "Epoch 81, Loss: 0.43378201270103456, Train Accuracy: 0.80055, Val Loss: 0.4535943963535272, Val Accuracy: 0.7857, Train Precision: 0.8006636856115599, Train Recall: 0.80055, Train F1: 0.80052136117812, Val Precision: 0.7880555109042477, Val Recall: 0.7857, Val F1: 0.7851911523329995, Epoch Time: 16.677475214004517\n",
            "Epoch 82, Loss: 0.43044418182373045, Train Accuracy: 0.802075, Val Loss: 0.44029886005031077, Val Accuracy: 0.7946, Train Precision: 0.8021821971427708, Train Recall: 0.802075, Train F1: 0.8020173936551745, Val Precision: 0.7972393683207514, Val Recall: 0.7946, Val F1: 0.7948354793072788, Epoch Time: 16.404919862747192\n",
            "Epoch 83, Loss: 0.4262467042684555, Train Accuracy: 0.80285, Val Loss: 0.4508191457219944, Val Accuracy: 0.7873, Train Precision: 0.8029318837544547, Train Recall: 0.80285, Train F1: 0.8028012381159519, Val Precision: 0.7907336849495897, Val Recall: 0.7873, Val F1: 0.7867629776461156, Epoch Time: 16.936941623687744\n",
            "Epoch 84, Loss: 0.4211852514743805, Train Accuracy: 0.80485, Val Loss: 0.43003196530281357, Val Accuracy: 0.7987, Train Precision: 0.8049171555045218, Train Recall: 0.80485, Train F1: 0.8047906381778782, Val Precision: 0.8001831936794025, Val Recall: 0.7987, Val F1: 0.7984915607058106, Epoch Time: 17.44037389755249\n",
            "Epoch 85, Loss: 0.41614284987449646, Train Accuracy: 0.806975, Val Loss: 0.4671711720478762, Val Accuracy: 0.7792, Train Precision: 0.8072650822826859, Train Recall: 0.806975, Train F1: 0.8069994036195534, Val Precision: 0.7846220364563938, Val Recall: 0.7792, Val F1: 0.7802269123273542, Epoch Time: 16.500972509384155\n",
            "Epoch 86, Loss: 0.40955534853935244, Train Accuracy: 0.8117, Val Loss: 0.4287424667435846, Val Accuracy: 0.7923, Train Precision: 0.8117533449448385, Train Recall: 0.8117, Train F1: 0.8116335793389834, Val Precision: 0.7937401940399621, Val Recall: 0.7923, Val F1: 0.7921292975355716, Epoch Time: 16.36283302307129\n",
            "Epoch 87, Loss: 0.40463019468784334, Train Accuracy: 0.8125, Val Loss: 0.42963903572908635, Val Accuracy: 0.8004, Train Precision: 0.8126192730975508, Train Recall: 0.8125, Train F1: 0.8124600209857724, Val Precision: 0.802270078372176, Val Recall: 0.8004, Val F1: 0.8006142065112107, Epoch Time: 16.478637218475342\n",
            "Epoch 88, Loss: 0.4010176320075989, Train Accuracy: 0.81515, Val Loss: 0.4204534661428184, Val Accuracy: 0.7988, Train Precision: 0.8152413924357834, Train Recall: 0.81515, Train F1: 0.8150942504507328, Val Precision: 0.8018139640612795, Val Recall: 0.7988, Val F1: 0.7989116437325675, Epoch Time: 17.333100080490112\n",
            "Epoch 89, Loss: 0.39805997529029846, Train Accuracy: 0.815775, Val Loss: 0.4163002431582493, Val Accuracy: 0.8064, Train Precision: 0.8159468137168776, Train Recall: 0.815775, Train F1: 0.8157686431257154, Val Precision: 0.8080331047781845, Val Recall: 0.8064, Val F1: 0.8062829336805477, Epoch Time: 17.5362069606781\n",
            "Epoch 90, Loss: 0.3905135360479355, Train Accuracy: 0.818, Val Loss: 0.4198222222032061, Val Accuracy: 0.799, Train Precision: 0.8180501014027332, Train Recall: 0.818, Train F1: 0.8179423268291287, Val Precision: 0.8007020018561056, Val Recall: 0.799, Val F1: 0.7990563640828886, Epoch Time: 16.557594776153564\n",
            "Epoch 91, Loss: 0.3903239545106888, Train Accuracy: 0.8181, Val Loss: 0.42925431660026503, Val Accuracy: 0.7953, Train Precision: 0.8181956019189789, Train Recall: 0.8181, Train F1: 0.8180721247004484, Val Precision: 0.7991762486947867, Val Recall: 0.7953, Val F1: 0.7959775432808865, Epoch Time: 18.209381103515625\n",
            "Epoch 92, Loss: 0.3836816233158112, Train Accuracy: 0.820975, Val Loss: 0.40337314499411614, Val Accuracy: 0.81, Train Precision: 0.8210167426148628, Train Recall: 0.820975, Train F1: 0.8209143681056805, Val Precision: 0.8118946105698209, Val Recall: 0.81, Val F1: 0.809971201407456, Epoch Time: 16.83312678337097\n",
            "Epoch 93, Loss: 0.37840999367237094, Train Accuracy: 0.825175, Val Loss: 0.404495144820517, Val Accuracy: 0.8073, Train Precision: 0.8252950922747172, Train Recall: 0.825175, Train F1: 0.8251440535593824, Val Precision: 0.8093111937254425, Val Recall: 0.8073, Val F1: 0.8071740751538847, Epoch Time: 19.092016220092773\n",
            "Epoch 94, Loss: 0.37792342178821564, Train Accuracy: 0.823575, Val Loss: 0.4011850494677853, Val Accuracy: 0.8104, Train Precision: 0.8237152241294767, Train Recall: 0.823575, Train F1: 0.8235683108910465, Val Precision: 0.812278266503587, Val Recall: 0.8104, Val F1: 0.8105853767285828, Epoch Time: 16.8442120552063\n",
            "Epoch 95, Loss: 0.3712330544233322, Train Accuracy: 0.827825, Val Loss: 0.3944515342925005, Val Accuracy: 0.8135, Train Precision: 0.8279620938900767, Train Recall: 0.827825, Train F1: 0.8278160734530873, Val Precision: 0.8145293147403256, Val Recall: 0.8135, Val F1: 0.812839473161368, Epoch Time: 19.83541703224182\n",
            "Epoch 96, Loss: 0.36969008378982543, Train Accuracy: 0.826925, Val Loss: 0.3916535966905059, Val Accuracy: 0.8127, Train Precision: 0.8270187366704209, Train Recall: 0.826925, Train F1: 0.8268922794069482, Val Precision: 0.8167835038357781, Val Recall: 0.8127, Val F1: 0.8129893246524384, Epoch Time: 16.72305655479431\n",
            "Epoch 97, Loss: 0.3643716301202774, Train Accuracy: 0.8318, Val Loss: 0.3790549576092678, Val Accuracy: 0.819, Train Precision: 0.8318933964596392, Train Recall: 0.8318, Train F1: 0.8317623958963511, Val Precision: 0.8199933522435598, Val Recall: 0.819, Val F1: 0.8186629857463542, Epoch Time: 17.336957693099976\n",
            "Epoch 98, Loss: 0.35974779465198514, Train Accuracy: 0.83165, Val Loss: 0.3820168170959327, Val Accuracy: 0.8189, Train Precision: 0.8317676244377288, Train Recall: 0.83165, Train F1: 0.8316215987636549, Val Precision: 0.8208229819896687, Val Recall: 0.8189, Val F1: 0.8193389534476128, Epoch Time: 16.805689811706543\n",
            "Epoch 99, Loss: 0.35667206668853757, Train Accuracy: 0.834025, Val Loss: 0.4009440526081498, Val Accuracy: 0.8092, Train Precision: 0.8341585501411155, Train Recall: 0.834025, Train F1: 0.8340154268843587, Val Precision: 0.8124902442350176, Val Recall: 0.8092, Val F1: 0.8091144550416081, Epoch Time: 16.839240312576294\n",
            "Epoch 100, Loss: 0.35400978190898896, Train Accuracy: 0.8349, Val Loss: 0.3807943842023801, Val Accuracy: 0.8195, Train Precision: 0.8349461058127806, Train Recall: 0.8349, Train F1: 0.8348463120125396, Val Precision: 0.8210030408286085, Val Recall: 0.8195, Val F1: 0.8196487747943134, Epoch Time: 16.7186496257782\n",
            "Epoch 101, Loss: 0.34842992067337036, Train Accuracy: 0.83805, Val Loss: 0.3707497609648735, Val Accuracy: 0.8231, Train Precision: 0.8380402372493921, Train Recall: 0.83805, Train F1: 0.8379891092527249, Val Precision: 0.8241162244267299, Val Recall: 0.8231, Val F1: 0.8229780060328098, Epoch Time: 16.927226066589355\n",
            "Total Training Time: 1751.1024696826935\n",
            "\n",
            " Training on MNIST_Addition using LLR3 has been completed!\n"
          ]
        },
        {
          "data": {
            "application/vnd.jupyter.widget-view+json": {
              "model_id": "95ac959e204340ca887189735e519a50",
              "version_major": 2,
              "version_minor": 0
            },
            "text/plain": [
              "VBox(children=(Label(value='0.001 MB of 0.001 MB uploaded\\r'), FloatProgress(value=1.0, max=1.0)))"
            ]
          },
          "metadata": {},
          "output_type": "display_data"
        },
        {
          "data": {
            "text/html": [
              "<style>\n",
              "    table.wandb td:nth-child(1) { padding: 0 10px; text-align: left ; width: auto;} td:nth-child(2) {text-align: left ; width: 100%}\n",
              "    .wandb-row { display: flex; flex-direction: row; flex-wrap: wrap; justify-content: flex-start; width: 100% }\n",
              "    .wandb-col { display: flex; flex-direction: column; flex-basis: 100%; flex: 1; padding: 10px; }\n",
              "    </style>\n",
              "<div class=\"wandb-row\"><div class=\"wandb-col\"><h3>Run history:</h3><br/><table class=\"wandb\"><tr><td>convergence_time</td><td>▁</td></tr><tr><td>epoch</td><td>▁▁▁▁▂▂▂▂▂▃▃▃▃▃▃▄▄▄▄▄▅▅▅▅▅▅▆▆▆▆▆▇▇▇▇▇▇███</td></tr><tr><td>epoch_time</td><td>▁▁▁▁▂▂▁▁█▃▁▂▁▁▁▁▂▁▂▁▁▁▁▁▁▂▁▁▁▁▂▁▁▁▂▁▂▃▁▁</td></tr><tr><td>learning_rate</td><td>▁▁▁▁▁▁▁▁▁▁▁▁▁▁▁▁▁▁▁▁▁▁▁▁▁▁▁▁▁▁▁▁▁▁▁▁▁▁▁▁</td></tr><tr><td>loss</td><td>█▆▅▅▅▅▄▄▄▄▄▄▃▃▃▃▃▃▃▂▂▂▂▂▂▂▂▂▂▂▂▁▁▁▁▁▁▁▁▁</td></tr><tr><td>total_training_time</td><td>▁</td></tr><tr><td>train_accuracy</td><td>▁▂▃▃▄▄▄▄▅▅▅▅▅▆▆▆▆▆▇▇▇▇▇▇▇▇▇▇▇███████████</td></tr><tr><td>train_concept_accuracy</td><td>▁▂▂▃▄▄▄▅▅▅▆▆▆▆▆▇▇▇▇▇▇▇▇▇████████████████</td></tr><tr><td>train_concept_loss</td><td>█▇▇▇▆▆▆▆▆▅▅▆▅▅▅▅▄▅▄▄▄▄▃▃▃▃▃▃▂▂▂▂▂▁▁▁▂▁▁▁</td></tr><tr><td>train_f1</td><td>▁▃▃▄▄▄▅▅▅▅▅▅▆▆▆▆▆▇▇▇▇▇▇▇▇▇▇▇▇███████████</td></tr><tr><td>train_precision</td><td>▁▃▄▄▄▄▅▅▅▅▅▆▆▆▆▆▇▇▇▇▇▇▇▇▇▇▇▇▇███████████</td></tr><tr><td>train_recall</td><td>▁▂▃▃▄▄▄▄▅▅▅▅▅▆▆▆▆▆▇▇▇▇▇▇▇▇▇▇▇███████████</td></tr><tr><td>train_task_accuracy</td><td>▁▂▃▃▄▄▄▄▅▅▅▅▅▆▆▆▆▆▇▇▇▇▇▇▇▇▇▇▇███████████</td></tr><tr><td>train_task_loss</td><td>█▆▅▅▆▅▄▅▄▄▄▅▄▄▃▃▃▃▃▂▂▃▂▂▃▂▂▂▁▂▂▂▂▂▁▁▂▁▂▁</td></tr><tr><td>val_accuracy</td><td>▁▃▃▄▄▄▄▅▅▅▅▅▅▆▆▆▆▇▇▇▇▇▇▇▇▇▇▇▇▇██████████</td></tr><tr><td>val_concept_accuracy</td><td>▁▂▂▃▃▄▄▄▄▆▅▅▆▆▆▆▇▇▆▇▇▇█▇▇▇▇████▇███▇████</td></tr><tr><td>val_concept_loss</td><td>█▇▇▇▆▆▆▆▆▆▅▆▅▅▅▄▄▄▄▅▄▄▄▃▄▃▃▃▃▃▂▂▂▂▂▂▂▁▁▂</td></tr><tr><td>val_f1</td><td>▁▃▄▄▄▄▅▅▅▅▅▅▆▆▆▆▇▇▇▇▇▇▇▇▇▇▇█████████████</td></tr><tr><td>val_learning_rate</td><td>▁▁▁▁▁▁▁▁▁▁▁▁▁▁▁▁▁▁▁▁▁▁▁▁▁▁▁▁▁▁▁▁▁▁▁▁▁▁▁▁</td></tr><tr><td>val_loss</td><td>█▆▅▅▅▅▄▄▄▄▄▄▄▃▃▃▃▃▃▃▂▂▂▂▂▂▂▂▂▂▂▁▁▂▁▁▁▁▁▁</td></tr><tr><td>val_precision</td><td>▁▃▄▄▄▅▅▅▅▅▆▆▆▆▆▆▇▇▇▇▇▇▇▇▇▇▇█████████████</td></tr><tr><td>val_recall</td><td>▁▃▃▄▄▄▄▅▅▅▅▅▅▆▆▆▆▇▇▇▇▇▇▇▇▇▇▇▇▇██████████</td></tr><tr><td>val_task_accuracy</td><td>▁▃▃▄▄▄▄▅▅▅▅▅▅▆▆▆▆▇▇▇▇▇▇▇▇▇▇▇▇▇██████████</td></tr><tr><td>val_task_loss</td><td>█▆▅▅▅▅▅▄▄▄▄▅▅▄▄▄▃▃▂▄▃▃▃▂▃▂▃▂▂▂▂▂▃▃▂▃▂▂▁▂</td></tr></table><br/></div><div class=\"wandb-col\"><h3>Run summary:</h3><br/><table class=\"wandb\"><tr><td>convergence_time</td><td>408.80884</td></tr><tr><td>epoch</td><td>101</td></tr><tr><td>epoch_time</td><td>16.92723</td></tr><tr><td>learning_rate</td><td>0.0005</td></tr><tr><td>loss</td><td>0.34843</td></tr><tr><td>total_training_time</td><td>1751.10247</td></tr><tr><td>train_accuracy</td><td>0.83805</td></tr><tr><td>train_concept_accuracy</td><td>0.4362</td></tr><tr><td>train_concept_loss</td><td>0.08034</td></tr><tr><td>train_f1</td><td>0.83799</td></tr><tr><td>train_precision</td><td>0.83804</td></tr><tr><td>train_recall</td><td>0.83805</td></tr><tr><td>train_task_accuracy</td><td>0.83805</td></tr><tr><td>train_task_loss</td><td>0.49335</td></tr><tr><td>val_accuracy</td><td>0.8231</td></tr><tr><td>val_concept_accuracy</td><td>0.4327</td></tr><tr><td>val_concept_loss</td><td>0.09632</td></tr><tr><td>val_f1</td><td>0.82298</td></tr><tr><td>val_learning_rate</td><td>0.0005</td></tr><tr><td>val_loss</td><td>0.37075</td></tr><tr><td>val_precision</td><td>0.82412</td></tr><tr><td>val_recall</td><td>0.8231</td></tr><tr><td>val_task_accuracy</td><td>0.8231</td></tr><tr><td>val_task_loss</td><td>0.53885</td></tr></table><br/></div></div>"
            ],
            "text/plain": [
              "<IPython.core.display.HTML object>"
            ]
          },
          "metadata": {},
          "output_type": "display_data"
        },
        {
          "data": {
            "text/html": [
              " View run <strong style=\"color:#cdcd00\">LLR3_MNIST_Addition</strong> at: <a href='https://wandb.ai/alih999954-politecnico-di-torino/pytorch_explain/runs/k3ore2lw' target=\"_blank\">https://wandb.ai/alih999954-politecnico-di-torino/pytorch_explain/runs/k3ore2lw</a><br/> View project at: <a href='https://wandb.ai/alih999954-politecnico-di-torino/pytorch_explain' target=\"_blank\">https://wandb.ai/alih999954-politecnico-di-torino/pytorch_explain</a><br/>Synced 5 W&B file(s), 0 media file(s), 0 artifact file(s) and 0 other file(s)"
            ],
            "text/plain": [
              "<IPython.core.display.HTML object>"
            ]
          },
          "metadata": {},
          "output_type": "display_data"
        },
        {
          "data": {
            "text/html": [
              "Find logs at: <code>./wandb/run-20240723_164948-k3ore2lw/logs</code>"
            ],
            "text/plain": [
              "<IPython.core.display.HTML object>"
            ]
          },
          "metadata": {},
          "output_type": "display_data"
        },
        {
          "data": {
            "text/html": [
              "The new W&B backend becomes opt-out in version 0.18.0; try it out with `wandb.require(\"core\")`! See https://wandb.me/wandb-core for more information."
            ],
            "text/plain": [
              "<IPython.core.display.HTML object>"
            ]
          },
          "metadata": {},
          "output_type": "display_data"
        },
        {
          "name": "stdout",
          "output_type": "stream",
          "text": [
            "===========================================================\n",
            "*********** ALL TRAINING ARE DONE - Check WandB ***********\n"
          ]
        }
      ],
      "source": [
        "import time\n",
        "from sklearn.metrics import precision_score, recall_score, f1_score, accuracy_score\n",
        "import torch\n",
        "import torch.nn.functional as F\n",
        "from torch.utils.data import DataLoader, random_split\n",
        "import wandb\n",
        "\n",
        "print(\"===========================================================\")\n",
        "print(\"Training Started!\")\n",
        "\n",
        "# Define target accuracy for convergence time\n",
        "target_accuracy = 0.5\n",
        "isBias = True\n",
        "\n",
        "# Iterate over models\n",
        "for model_name in models:\n",
        "    if model_name == 'DCRBase':\n",
        "        print(f\"Training on {model_name} ... \")\n",
        "        print(f\"--------------------------------\")\n",
        "\n",
        "        dataset_name = \"MNIST_Addition\"\n",
        "        print(f\"The following dataset has been loaded successfully: {dataset_name}\")\n",
        "\n",
        "        x_train = torch.from_numpy(x_train).float()\n",
        "        c_train = torch.from_numpy(c_train).float()\n",
        "        y_train = torch.from_numpy(y_train).long()\n",
        "\n",
        "        x_test = torch.from_numpy(x_test).float()\n",
        "        c_test = torch.from_numpy(c_test).float()\n",
        "        y_test = torch.from_numpy(y_test).long()\n",
        "\n",
        "        y_train = F.one_hot(y_train.long().ravel()).float()\n",
        "        y_test = F.one_hot(y_test.long().ravel()).float()\n",
        "\n",
        "        embedding_size = 16\n",
        "        concept_encoder = torch.nn.Sequential(\n",
        "            torch.nn.Linear(x_train.shape[1], 32),\n",
        "            torch.nn.LeakyReLU(),\n",
        "            torch.nn.Linear(32, 32),\n",
        "            torch.nn.LeakyReLU(),\n",
        "            te.nn.ConceptEmbedding(32, c_train.shape[1], embedding_size),\n",
        "        )\n",
        "\n",
        "        task_predictor = ConceptReasoningLayer(embedding_size, y_train.shape[1])\n",
        "        model = torch.nn.Sequential(concept_encoder, task_predictor)\n",
        "\n",
        "        num_val_samples = int(len(x_train) * 0.2)\n",
        "        num_train_samples = len(x_train) - num_val_samples\n",
        "        train_dataset, val_dataset = random_split(\n",
        "           list(zip(x_train, c_train, y_train)), [num_train_samples, num_val_samples])\n",
        "\n",
        "        train_loader = DataLoader(train_dataset, batch_size=64, shuffle=True)\n",
        "        val_loader = DataLoader(val_dataset, batch_size=64, shuffle=False)\n",
        "\n",
        "        wandb.init(project=\"pytorch_explain\", entity=\"alih999954-politecnico-di-torino\",\n",
        "                   name=f\"{model_name}_{dataset_name}\")\n",
        "\n",
        "        config = {\n",
        "            'lr': 0.0005,\n",
        "            'task_loss_weight': 0.5,\n",
        "            'loss_function': 'bce',\n",
        "            'loss_function2': 'bceL',\n",
        "            'loss_function3': 'cross_entropy',\n",
        "        }\n",
        "        wandb.config.update(config)\n",
        "\n",
        "        loss_form = get_loss_function(wandb.config.loss_function3)\n",
        "        optimizer = torch.optim.AdamW(model.parameters(), lr=wandb.config.lr)\n",
        "        scheduler = ReduceLROnPlateau(optimizer, mode='min', factor=0.0001, patience=7)\n",
        "\n",
        "        print(f'-------------------------- Training {dataset_name} using {model_name} ----------------------')\n",
        "\n",
        "        # Initialize timers and convergence flag\n",
        "        total_start_time = time.time()\n",
        "        convergence_time = None\n",
        "\n",
        "        for epoch in range(51):\n",
        "            epoch_start_time = time.time()\n",
        "            model.train()\n",
        "            train_losses, train_correct = 0, 0\n",
        "            all_y_true_train, all_y_pred_train = [], []\n",
        "            all_c_true_train, all_c_pred_train = [], []\n",
        "\n",
        "            for x_batch, c_batch, y_batch in train_loader:\n",
        "                optimizer.zero_grad()\n",
        "                c_emb, c_pred = concept_encoder(x_batch)\n",
        "                y_pred = task_predictor(c_emb, c_pred)\n",
        "\n",
        "                concept_loss = loss_form(c_pred, c_batch)\n",
        "                task_loss = loss_form(y_pred, y_batch)\n",
        "                loss = concept_loss + 0.5 * task_loss\n",
        "\n",
        "                loss.backward()\n",
        "                optimizer.step()\n",
        "\n",
        "                train_losses += loss.item()\n",
        "                train_correct += (y_pred.argmax(1) == y_batch.argmax(1)).sum().item()\n",
        "                all_y_true_train.append(y_batch.cpu().numpy())\n",
        "                all_y_pred_train.append(y_pred.detach().cpu().numpy())\n",
        "                all_c_true_train.append(c_batch.cpu().numpy())\n",
        "                all_c_pred_train.append(c_pred.detach().cpu().numpy())\n",
        "\n",
        "                wandb.log({\n",
        "                    'train_concept_loss': concept_loss.item(),\n",
        "                    'train_task_loss': task_loss.item(),\n",
        "                    'learning_rate': optimizer.param_groups[0]['lr']\n",
        "                })\n",
        "\n",
        "            all_y_true_train = np.concatenate(all_y_true_train, axis=0)\n",
        "            all_y_pred_train = np.concatenate(all_y_pred_train, axis=0)\n",
        "            all_c_true_train = np.concatenate(all_c_true_train, axis=0)\n",
        "            all_c_pred_train = np.concatenate(all_c_pred_train, axis=0)\n",
        "\n",
        "            train_precision = precision_score(all_y_true_train.argmax(1), all_y_pred_train.argmax(1), average='weighted')\n",
        "            train_recall = recall_score(all_y_true_train.argmax(1), all_y_pred_train.argmax(1), average='weighted')\n",
        "            train_f1 = f1_score(all_y_true_train.argmax(1), all_y_pred_train.argmax(1), average='weighted')\n",
        "            train_concept_accuracy = accuracy_score(all_c_true_train.argmax(1), all_c_pred_train.argmax(1))\n",
        "            train_task_accuracy = accuracy_score(all_y_true_train.argmax(1), all_y_pred_train.argmax(1))\n",
        "\n",
        "            model.eval()\n",
        "            val_losses, val_correct = 0, 0\n",
        "            all_y_true_val, all_y_pred_val = [], []\n",
        "            all_c_true_val, all_c_pred_val = [], []\n",
        "\n",
        "            with torch.no_grad():\n",
        "                for x_batch, c_batch, y_batch in val_loader:\n",
        "                    c_emb, c_pred = concept_encoder(x_batch)\n",
        "                    y_pred = task_predictor(c_emb, c_pred)\n",
        "\n",
        "                    val_concept_loss = loss_form(c_pred, c_batch)\n",
        "                    val_task_loss = loss_form(y_pred, y_batch)\n",
        "                    val_loss = val_concept_loss + 0.5 * val_task_loss\n",
        "\n",
        "                    val_losses += val_loss.item()\n",
        "                    val_correct += (y_pred.argmax(1) == y_batch.argmax(1)).sum().item()\n",
        "                    all_y_true_val.append(y_batch.cpu().numpy())\n",
        "                    all_y_pred_val.append(y_pred.detach().cpu().numpy())\n",
        "                    all_c_true_val.append(c_batch.cpu().numpy())\n",
        "                    all_c_pred_val.append(c_pred.detach().cpu().numpy())\n",
        "\n",
        "                    wandb.log({\n",
        "                        'val_concept_loss': val_concept_loss.item(),\n",
        "                        'val_task_loss': val_task_loss.item(),\n",
        "                        'val_learning_rate': optimizer.param_groups[0]['lr']\n",
        "                    })\n",
        "\n",
        "            all_y_true_val = np.concatenate(all_y_true_val, axis=0)\n",
        "            all_y_pred_val = np.concatenate(all_y_pred_val, axis=0)\n",
        "            all_c_true_val = np.concatenate(all_c_true_val, axis=0)\n",
        "            all_c_pred_val = np.concatenate(all_c_pred_val, axis=0)\n",
        "\n",
        "            val_precision = precision_score(all_y_true_val.argmax(1), all_y_pred_val.argmax(1), average='weighted')\n",
        "            val_recall = recall_score(all_y_true_val.argmax(1), all_y_pred_val.argmax(1), average='weighted')\n",
        "            val_f1 = f1_score(all_y_true_val.argmax(1), all_y_pred_val.argmax(1), average='weighted')\n",
        "            val_concept_accuracy = accuracy_score(all_c_true_val.argmax(1), all_c_pred_val.argmax(1))\n",
        "            val_task_accuracy = accuracy_score(all_y_true_val.argmax(1), all_y_pred_val.argmax(1))\n",
        "\n",
        "            scheduler.step(val_losses / len(val_loader))\n",
        "\n",
        "            epoch_end_time = time.time()\n",
        "            epoch_time = epoch_end_time - epoch_start_time\n",
        "\n",
        "            print(f\"Epoch {epoch+1}, Loss: {train_losses/len(train_loader)}, Train Accuracy: {train_correct/len(train_dataset)}, Val Loss: {val_losses/len(val_loader)}, Val Accuracy: {val_correct/len(val_dataset)}, Train Precision: {train_precision}, Train Recall: {train_recall}, Train F1: {train_f1}, Val Precision: {val_precision}, Val Recall: {val_recall}, Val F1: {val_f1}, Train Concept Accuracy: {train_concept_accuracy}, Train Task Accuracy: {train_task_accuracy}, Val Concept Accuracy: {val_concept_accuracy}, Val Task Accuracy: {val_task_accuracy}, Epoch Time: {epoch_time}\")\n",
        "\n",
        "            wandb.log({\n",
        "                'epoch': epoch + 1,\n",
        "                'loss': train_losses / len(train_loader),\n",
        "                'train_accuracy': train_correct / len(train_dataset),\n",
        "                'val_loss': val_losses / len(val_loader),\n",
        "                'val_accuracy': val_correct / len(val_dataset),\n",
        "                'train_precision': train_precision,\n",
        "                'train_recall': train_recall,\n",
        "                'train_f1': train_f1,\n",
        "                'val_precision': val_precision,\n",
        "                'val_recall': val_recall,\n",
        "                'val_f1': val_f1,\n",
        "                'train_concept_accuracy': train_concept_accuracy,\n",
        "                'train_task_accuracy': train_task_accuracy,\n",
        "                'val_concept_accuracy': val_concept_accuracy,\n",
        "                'val_task_accuracy': val_task_accuracy,\n",
        "                'epoch_time': epoch_time\n",
        "            })\n",
        "\n",
        "            # Check for convergence\n",
        "            if val_correct / len(val_dataset) >= target_accuracy and convergence_time is None:\n",
        "                convergence_time = time.time() - total_start_time\n",
        "                wandb.log({'convergence_time': convergence_time})\n",
        "                print(f\"Convergence achieved at epoch {epoch+1} with validation accuracy {val_correct/len(val_dataset)}\")\n",
        "\n",
        "        total_training_time = time.time() - total_start_time\n",
        "        wandb.log({'total_training_time': total_training_time})\n",
        "        print(f\"Total Training Time: {total_training_time}\")\n",
        "\n",
        "        print(f\"\\n Training on {dataset_name} using {model_name} has been completed!\")\n",
        "        torch.save(model, f'model_{model_name}_{dataset_name}.pth')\n",
        "        torch.save(model.state_dict(), f'model_state_dict_{model_name}_{dataset_name}.pth')\n",
        "        wandb.finish()\n",
        "\n",
        "        print(f\"===========================================================\")\n",
        "\n",
        "    # Repeat similar updates for 'LLR1', 'LLR2', and 'LLR3' models\n",
        "\n",
        "\n",
        "    elif model_name == 'LLR1':\n",
        "        print(f\"Training on {model_name} ... \")\n",
        "        print(f\"--------------------------------\")\n",
        "\n",
        "        dataset_name= \"MNIST_Addition\"\n",
        "        print(f\"The following dataset has been loaded successfully: {dataset_name}\")\n",
        "\n",
        "        # y_train = F.one_hot(y_train.long().ravel()).float()\n",
        "        # y_test = F.one_hot(y_test.long().ravel()).float()\n",
        "\n",
        "        embedding_size = 16\n",
        "        concept_encoder = torch.nn.Sequential(\n",
        "            torch.nn.Linear(x_train.shape[1], 32),\n",
        "            torch.nn.LeakyReLU(),\n",
        "            torch.nn.Linear(32, 32),\n",
        "            torch.nn.LeakyReLU(),\n",
        "            te.nn.ConceptEmbedding(32, c_train.shape[1], embedding_size),\n",
        "        )\n",
        "\n",
        "        task_predictor = IntpLinearLayer1(embedding_size, y_train.shape[1], bias=isBias)\n",
        "        model = torch.nn.Sequential(concept_encoder, task_predictor)\n",
        "\n",
        "        num_val_samples = int(len(x_train) * 0.2)\n",
        "        num_train_samples = len(x_train) - num_val_samples\n",
        "        train_dataset, val_dataset = random_split(\n",
        "            list(zip(x_train, c_train, y_train)), [num_train_samples, num_val_samples])\n",
        "\n",
        "        train_loader = DataLoader(train_dataset, batch_size=64, shuffle=True)\n",
        "        val_loader = DataLoader(val_dataset, batch_size=64, shuffle=False)\n",
        "\n",
        "        wandb.init(project=\"pytorch_explain\", entity=\"alih999954-politecnico-di-torino\",\n",
        "                   name=f\"{model_name}_{dataset_name}\")\n",
        "\n",
        "        config = {\n",
        "            'lr': 0.0005,\n",
        "            'task_loss_weight': 0.5,\n",
        "            'loss_function': 'bce',\n",
        "            'loss_function2': 'bceL',\n",
        "            'loss_function3': 'cross_entropy',\n",
        "        }\n",
        "        wandb.config.update(config)\n",
        "\n",
        "        c_loss = get_loss_function(wandb.config.loss_function)\n",
        "        y_loss = get_loss_function(wandb.config.loss_function3)\n",
        "\n",
        "        optimizer = torch.optim.AdamW(model.parameters(), lr=wandb.config.lr)\n",
        "        scheduler = ReduceLROnPlateau(optimizer, mode='min', factor=0.0001, patience=7)\n",
        "\n",
        "        print(f'-------------------------- Training {dataset_name} using {model_name} ----------------------')\n",
        "\n",
        "        # Initialize timers and convergence flag\n",
        "        total_start_time = time.time()\n",
        "        convergence_time = None\n",
        "\n",
        "        for epoch in range(41):\n",
        "            epoch_start_time = time.time()\n",
        "            model.train()\n",
        "            train_losses, train_correct = 0, 0\n",
        "            all_y_true_train, all_y_pred_train = [], []\n",
        "            all_c_true_train, all_c_pred_train = [], []\n",
        "\n",
        "            for x_batch, c_batch, y_batch in train_loader:\n",
        "                optimizer.zero_grad()\n",
        "                c_emb, c_pred = concept_encoder(x_batch)\n",
        "                y_pred = task_predictor(c_emb, c_pred)\n",
        "\n",
        "                concept_loss = c_loss(c_pred, c_batch)\n",
        "                task_loss = y_loss(y_pred, y_batch)\n",
        "                loss = concept_loss + 0.5 * task_loss\n",
        "\n",
        "                loss.backward()\n",
        "                optimizer.step()\n",
        "\n",
        "                train_losses += loss.item()\n",
        "                train_correct += (y_pred.argmax(1) == y_batch.argmax(1)).sum().item()\n",
        "                all_y_true_train.append(y_batch.cpu().numpy())\n",
        "                all_y_pred_train.append(y_pred.detach().cpu().numpy())\n",
        "                all_c_true_train.append(c_batch.cpu().numpy())\n",
        "                all_c_pred_train.append(c_pred.detach().cpu().numpy())\n",
        "\n",
        "                wandb.log({\n",
        "                    'train_concept_loss': concept_loss.item(),\n",
        "                    'train_task_loss': task_loss.item(),\n",
        "                    'learning_rate': optimizer.param_groups[0]['lr']\n",
        "                })\n",
        "\n",
        "            all_y_true_train = np.concatenate(all_y_true_train, axis=0)\n",
        "            all_y_pred_train = np.concatenate(all_y_pred_train, axis=0)\n",
        "            all_c_true_train = np.concatenate(all_c_true_train, axis=0)\n",
        "            all_c_pred_train = np.concatenate(all_c_pred_train, axis=0)\n",
        "\n",
        "            train_precision = precision_score(all_y_true_train.argmax(1), all_y_pred_train.argmax(1), average='weighted')\n",
        "            train_recall = recall_score(all_y_true_train.argmax(1), all_y_pred_train.argmax(1), average='weighted')\n",
        "            train_f1 = f1_score(all_y_true_train.argmax(1), all_y_pred_train.argmax(1), average='weighted')\n",
        "            train_concept_accuracy = accuracy_score(all_c_true_train.argmax(1), all_c_pred_train.argmax(1))\n",
        "            train_task_accuracy = accuracy_score(all_y_true_train.argmax(1), all_y_pred_train.argmax(1))\n",
        "\n",
        "            model.eval()\n",
        "            val_losses, val_correct = 0, 0\n",
        "            all_y_true_val, all_y_pred_val = [], []\n",
        "            all_c_true_val, all_c_pred_val = [], []\n",
        "\n",
        "            with torch.no_grad():\n",
        "                for x_batch, c_batch, y_batch in val_loader:\n",
        "                    c_emb, c_pred = concept_encoder(x_batch)\n",
        "                    y_pred = task_predictor(c_emb, c_pred)\n",
        "\n",
        "                    val_concept_loss = c_loss(c_pred, c_batch)\n",
        "                    val_task_loss = y_loss(y_pred, y_batch)\n",
        "                    val_loss = val_concept_loss + 0.5 * val_task_loss\n",
        "\n",
        "                    val_losses += val_loss.item()\n",
        "                    val_correct += (y_pred.argmax(1) == y_batch.argmax(1)).sum().item()\n",
        "                    all_y_true_val.append(y_batch.cpu().numpy())\n",
        "                    all_y_pred_val.append(y_pred.detach().cpu().numpy())\n",
        "                    all_c_true_val.append(c_batch.cpu().numpy())\n",
        "                    all_c_pred_val.append(c_pred.detach().cpu().numpy())\n",
        "\n",
        "                    wandb.log({\n",
        "                        'val_concept_loss': val_concept_loss.item(),\n",
        "                        'val_task_loss': val_task_loss.item(),\n",
        "                        'val_learning_rate': optimizer.param_groups[0]['lr']\n",
        "                    })\n",
        "\n",
        "            all_y_true_val = np.concatenate(all_y_true_val, axis=0)\n",
        "            all_y_pred_val = np.concatenate(all_y_pred_val, axis=0)\n",
        "            all_c_true_val = np.concatenate(all_c_true_val, axis=0)\n",
        "            all_c_pred_val = np.concatenate(all_c_pred_val, axis=0)\n",
        "\n",
        "            val_precision = precision_score(all_y_true_val.argmax(1), all_y_pred_val.argmax(1), average='weighted')\n",
        "            val_recall = recall_score(all_y_true_val.argmax(1), all_y_pred_val.argmax(1), average='weighted')\n",
        "            val_f1 = f1_score(all_y_true_val.argmax(1), all_y_pred_val.argmax(1), average='weighted')\n",
        "            val_concept_accuracy = accuracy_score(all_c_true_val.argmax(1), all_c_pred_val.argmax(1))\n",
        "            val_task_accuracy = accuracy_score(all_y_true_val.argmax(1), all_y_pred_val.argmax(1))\n",
        "\n",
        "            scheduler.step(val_losses / len(val_loader))\n",
        "\n",
        "            epoch_end_time = time.time()\n",
        "            epoch_time = epoch_end_time - epoch_start_time\n",
        "\n",
        "            print(f\"Epoch {epoch+1}, Loss: {train_losses/len(train_loader)}, Train Accuracy: {train_correct/len(train_dataset)}, Val Loss: {val_losses/len(val_loader)}, Val Accuracy: {val_correct/len(val_dataset)}, Train Precision: {train_precision}, Train Recall: {train_recall}, Train F1: {train_f1}, Val Precision: {val_precision}, Val Recall: {val_recall}, Val F1: {val_f1}, Epoch Time: {epoch_time}\")\n",
        "\n",
        "            wandb.log({\n",
        "                'epoch': epoch + 1,\n",
        "                'loss': train_losses / len(train_loader),\n",
        "                'train_accuracy': train_correct / len(train_dataset),\n",
        "                'val_loss': val_losses / len(val_loader),\n",
        "                'val_accuracy': val_correct / len(val_dataset),\n",
        "                'train_precision': train_precision,\n",
        "                'train_recall': train_recall,\n",
        "                'train_f1': train_f1,\n",
        "                'val_precision': val_precision,\n",
        "                'val_recall': val_recall,\n",
        "                'val_f1': val_f1,\n",
        "                'train_concept_accuracy': train_concept_accuracy,\n",
        "                'train_task_accuracy': train_task_accuracy,\n",
        "                'val_concept_accuracy': val_concept_accuracy,\n",
        "                'val_task_accuracy': val_task_accuracy,\n",
        "                'epoch_time': epoch_time\n",
        "            })\n",
        "\n",
        "            # Check for convergence\n",
        "            if val_correct / len(val_dataset) >= target_accuracy and convergence_time is None:\n",
        "                convergence_time = time.time() - total_start_time\n",
        "                wandb.log({'convergence_time': convergence_time})\n",
        "                print(f\"Convergence achieved at epoch {epoch+1} with validation accuracy {val_correct/len(val_dataset)}\")\n",
        "\n",
        "        total_training_time = time.time() - total_start_time\n",
        "        wandb.log({'total_training_time': total_training_time})\n",
        "        print(f\"Total Training Time: {total_training_time}\")\n",
        "\n",
        "        print(f\"\\n Training on {dataset_name} using {model_name} has been completed!\")\n",
        "        torch.save(model, f'model_{model_name}_{dataset_name}.pth')\n",
        "        torch.save(model.state_dict(), f'model_state_dict_{model_name}_{dataset_name}.pth')\n",
        "        wandb.finish()\n",
        "\n",
        "        print(f\"===========================================================\")\n",
        "\n",
        "    elif model_name == 'LLR2':\n",
        "        print(f\"Training on {model_name} ... \")\n",
        "        print(f\"--------------------------------\")\n",
        "        print(f\"The following dataset has been loaded successfully: {dataset_name}\")\n",
        "\n",
        "        # y_train = F.one_hot(y_train.long().ravel()).float()\n",
        "        # y_test = F.one_hot(y_test.long().ravel()).float()\n",
        "\n",
        "        embedding_size = 16\n",
        "        concept_encoder = torch.nn.Sequential(\n",
        "            torch.nn.Linear(x_train.shape[1], 32),\n",
        "            torch.nn.LeakyReLU(),\n",
        "            torch.nn.Linear(32, 32),\n",
        "            torch.nn.LeakyReLU(),\n",
        "            te.nn.ConceptEmbedding(32, c_train.shape[1], embedding_size),\n",
        "        )\n",
        "\n",
        "        task_predictor = IntpLinearLayer2(embedding_size, y_train.shape[1], bias=isBias)\n",
        "        model = torch.nn.Sequential(concept_encoder, task_predictor)\n",
        "\n",
        "        wandb.init(project=\"pytorch_explain\", entity=\"alih999954-politecnico-di-torino\",\n",
        "                   name=f\"{model_name}_{dataset_name}\")\n",
        "\n",
        "        config = {\n",
        "            'lr': 0.0005,\n",
        "            'task_loss_weight': 0.5,\n",
        "            'loss_function': 'bce',\n",
        "            'loss_function2': 'bceL',\n",
        "            'loss_function3': 'cross_entropy',\n",
        "        }\n",
        "        wandb.config.update(config)\n",
        "\n",
        "        c_loss = get_loss_function(wandb.config.loss_function)\n",
        "        y_loss = get_loss_function(wandb.config.loss_function3)\n",
        "\n",
        "        optimizer = torch.optim.AdamW(model.parameters(), lr=wandb.config.lr)\n",
        "        scheduler = ReduceLROnPlateau(optimizer, mode='min', factor=0.0001, patience=7)\n",
        "\n",
        "        print(f'-------------------------- Training {dataset_name} using {model_name} ----------------------')\n",
        "\n",
        "        # Initialize timers and convergence flag\n",
        "        total_start_time = time.time()\n",
        "        convergence_time = None\n",
        "\n",
        "        for epoch in range(41):\n",
        "            epoch_start_time = time.time()\n",
        "            model.train()\n",
        "            train_losses, train_correct = 0, 0\n",
        "            all_y_true_train, all_y_pred_train = [], []\n",
        "            all_c_true_train, all_c_pred_train = [], []\n",
        "\n",
        "            for x_batch, c_batch, y_batch in train_loader:\n",
        "                optimizer.zero_grad()\n",
        "                c_emb, c_pred = concept_encoder(x_batch)\n",
        "                y_pred = task_predictor(c_emb, c_pred)\n",
        "\n",
        "                concept_loss = c_loss(c_pred, c_batch)\n",
        "                task_loss = y_loss(y_pred, y_batch)\n",
        "                loss = concept_loss + 0.5 * task_loss\n",
        "\n",
        "                loss.backward()\n",
        "                optimizer.step()\n",
        "\n",
        "                train_losses += loss.item()\n",
        "                train_correct += (y_pred.argmax(1) == y_batch.argmax(1)).sum().item()\n",
        "                all_y_true_train.append(y_batch.cpu().numpy())\n",
        "                all_y_pred_train.append(y_pred.detach().cpu().numpy())\n",
        "                all_c_true_train.append(c_batch.cpu().numpy())\n",
        "                all_c_pred_train.append(c_pred.detach().cpu().numpy())\n",
        "\n",
        "                wandb.log({\n",
        "                    'train_concept_loss': concept_loss.item(),\n",
        "                    'train_task_loss': task_loss.item(),\n",
        "                    'learning_rate': optimizer.param_groups[0]['lr']\n",
        "                })\n",
        "\n",
        "            all_y_true_train = np.concatenate(all_y_true_train, axis=0)\n",
        "            all_y_pred_train = np.concatenate(all_y_pred_train, axis=0)\n",
        "            all_c_true_train = np.concatenate(all_c_true_train, axis=0)\n",
        "            all_c_pred_train = np.concatenate(all_c_pred_train, axis=0)\n",
        "\n",
        "            train_precision = precision_score(all_y_true_train.argmax(1), all_y_pred_train.argmax(1), average='weighted')\n",
        "            train_recall = recall_score(all_y_true_train.argmax(1), all_y_pred_train.argmax(1), average='weighted')\n",
        "            train_f1 = f1_score(all_y_true_train.argmax(1), all_y_pred_train.argmax(1), average='weighted')\n",
        "            train_concept_accuracy = accuracy_score(all_c_true_train.argmax(1), all_c_pred_train.argmax(1))\n",
        "            train_task_accuracy = accuracy_score(all_y_true_train.argmax(1), all_y_pred_train.argmax(1))\n",
        "\n",
        "            model.eval()\n",
        "            val_losses, val_correct = 0, 0\n",
        "            all_y_true_val, all_y_pred_val = [], []\n",
        "            all_c_true_val, all_c_pred_val = [], []\n",
        "\n",
        "            with torch.no_grad():\n",
        "                for x_batch, c_batch, y_batch in val_loader:\n",
        "                    c_emb, c_pred = concept_encoder(x_batch)\n",
        "                    y_pred = task_predictor(c_emb, c_pred)\n",
        "\n",
        "                    val_concept_loss = c_loss(c_pred, c_batch)\n",
        "                    val_task_loss = y_loss(y_pred, y_batch)\n",
        "                    val_loss = val_concept_loss + 0.5 * val_task_loss\n",
        "\n",
        "                    val_losses += val_loss.item()\n",
        "                    val_correct += (y_pred.argmax(1) == y_batch.argmax(1)).sum().item()\n",
        "                    all_y_true_val.append(y_batch.cpu().numpy())\n",
        "                    all_y_pred_val.append(y_pred.detach().cpu().numpy())\n",
        "                    all_c_true_val.append(c_batch.cpu().numpy())\n",
        "                    all_c_pred_val.append(c_pred.detach().cpu().numpy())\n",
        "\n",
        "                    wandb.log({\n",
        "                        'val_concept_loss': val_concept_loss.item(),\n",
        "                        'val_task_loss': val_task_loss.item(),\n",
        "                        'val_learning_rate': optimizer.param_groups[0]['lr']\n",
        "                    })\n",
        "\n",
        "\n",
        "            all_y_true_val = np.concatenate(all_y_true_val, axis=0)\n",
        "            all_y_pred_val = np.concatenate(all_y_pred_val, axis=0)\n",
        "            all_c_true_val = np.concatenate(all_c_true_val, axis=0)\n",
        "            all_c_pred_val = np.concatenate(all_c_pred_val, axis=0)\n",
        "\n",
        "            val_precision = precision_score(all_y_true_val.argmax(1), all_y_pred_val.argmax(1), average='weighted')\n",
        "            val_recall = recall_score(all_y_true_val.argmax(1), all_y_pred_val.argmax(1), average='weighted')\n",
        "            val_f1 = f1_score(all_y_true_val.argmax(1), all_y_pred_val.argmax(1), average='weighted')\n",
        "            val_concept_accuracy = accuracy_score(all_c_true_val.argmax(1), all_c_pred_val.argmax(1))\n",
        "            val_task_accuracy = accuracy_score(all_y_true_val.argmax(1), all_y_pred_val.argmax(1))\n",
        "\n",
        "            scheduler.step(val_losses / len(val_loader))\n",
        "\n",
        "            epoch_end_time = time.time()\n",
        "            epoch_time = epoch_end_time - epoch_start_time\n",
        "\n",
        "            print(f\"Epoch {epoch+1}, Loss: {train_losses/len(train_loader)}, Train Accuracy: {train_correct/len(train_dataset)}, Val Loss: {val_losses/len(val_loader)}, Val Accuracy: {val_correct/len(val_dataset)}, Train Precision: {train_precision}, Train Recall: {train_recall}, Train F1: {train_f1}, Val Precision: {val_precision}, Val Recall: {val_recall}, Val F1: {val_f1}, Epoch Time: {epoch_time}\")\n",
        "\n",
        "            wandb.log({\n",
        "                'epoch': epoch + 1,\n",
        "                'loss': train_losses / len(train_loader),\n",
        "                'train_accuracy': train_correct / len(train_dataset),\n",
        "                'val_loss': val_losses / len(val_loader),\n",
        "                'val_accuracy': val_correct / len(val_dataset),\n",
        "                'train_precision': train_precision,\n",
        "                'train_recall': train_recall,\n",
        "                'train_f1': train_f1,\n",
        "                'val_precision': val_precision,\n",
        "                'val_recall': val_recall,\n",
        "                'val_f1': val_f1,\n",
        "                'train_concept_accuracy': train_concept_accuracy,\n",
        "                'train_task_accuracy': train_task_accuracy,\n",
        "                'val_concept_accuracy': val_concept_accuracy,\n",
        "                'val_task_accuracy': val_task_accuracy,\n",
        "                'epoch_time': epoch_time\n",
        "            })\n",
        "\n",
        "            # Check for convergence\n",
        "            if val_correct / len(val_dataset) >= target_accuracy and convergence_time is None:\n",
        "                convergence_time = time.time() - total_start_time\n",
        "                wandb.log({'convergence_time': convergence_time})\n",
        "                print(f\"Convergence achieved at epoch {epoch+1} with validation accuracy {val_correct/len(val_dataset)}\")\n",
        "\n",
        "        total_training_time = time.time() - total_start_time\n",
        "        wandb.log({'total_training_time': total_training_time})\n",
        "        print(f\"Total Training Time: {total_training_time}\")\n",
        "\n",
        "        print(f\"\\n Training on {dataset_name} using {model_name} has been completed!\")\n",
        "        torch.save(model, f'model_{model_name}_{dataset_name}.pth')\n",
        "        torch.save(model.state_dict(), f'model_state_dict_{model_name}_{dataset_name}.pth')\n",
        "        wandb.finish()\n",
        "\n",
        "        print(f\"===========================================================\")\n",
        "\n",
        "    if model_name == 'LLR3':\n",
        "        print(f\"Training on {model_name} ... \")\n",
        "        print(f\"--------------------------------\")\n",
        "\n",
        "        embedding_size = 16\n",
        "        concept_encoder = torch.nn.Sequential(\n",
        "            torch.nn.Linear(x_train.shape[1], 32),\n",
        "            torch.nn.LeakyReLU(),\n",
        "            torch.nn.Linear(32, 32),\n",
        "            torch.nn.LeakyReLU(),\n",
        "            te.nn.ConceptEmbedding(32, c_train.shape[1], embedding_size),\n",
        "        )\n",
        "\n",
        "        task_predictor = IntpLinearLayer3(embedding_size, y_train.shape[1], bias=isBias)\n",
        "        model = torch.nn.Sequential(concept_encoder, task_predictor)\n",
        "\n",
        "        # num_val_samples = int(len(x_train) * 0.2)\n",
        "        # num_train_samples = len(x_train) - num_val_samples\n",
        "        # train_dataset, val_dataset = random_split(\n",
        "        #     list(zip(x_train, c_train, y_train)), [num_train_samples, num_val_samples])\n",
        "\n",
        "        # train_loader = DataLoader(train_dataset, batch_size=64, shuffle=True)\n",
        "        # val_loader = DataLoader(val_dataset, batch_size=64, shuffle=False)\n",
        "\n",
        "        wandb.init(project=\"pytorch_explain\", entity=\"alih999954-politecnico-di-torino\",\n",
        "                   name=f\"{model_name}_{dataset_name}\")\n",
        "\n",
        "        config = {\n",
        "            'lr': 0.0005,\n",
        "            'task_loss_weight': 0.5,\n",
        "            'loss_function': 'bce',\n",
        "            'loss_function2': 'bceL',\n",
        "            'loss_function3': 'cross_entropy',\n",
        "        }\n",
        "        wandb.config.update(config)\n",
        "\n",
        "        c_loss = get_loss_function(wandb.config.loss_function)\n",
        "        y_loss = get_loss_function(wandb.config.loss_function3)\n",
        "\n",
        "        optimizer = torch.optim.AdamW(model.parameters(), lr=wandb.config.lr)\n",
        "        scheduler = ReduceLROnPlateau(optimizer, mode='min', factor=0.0001, patience=7)\n",
        "\n",
        "        print(f'-------------------------- Training {dataset_name} using {model_name} ----------------------')\n",
        "\n",
        "        # Initialize timers and convergence flag\n",
        "        total_start_time = time.time()\n",
        "        convergence_time = None\n",
        "\n",
        "        for epoch in range(101):\n",
        "            epoch_start_time = time.time()\n",
        "            model.train()\n",
        "            train_losses, train_correct = 0, 0\n",
        "            all_y_true_train, all_y_pred_train = [], []\n",
        "            all_c_true_train, all_c_pred_train = [], []\n",
        "\n",
        "            for x_batch, c_batch, y_batch in train_loader:\n",
        "                optimizer.zero_grad()\n",
        "                c_emb, c_pred = concept_encoder(x_batch)\n",
        "                y_pred = task_predictor(c_emb, c_pred)\n",
        "\n",
        "                concept_loss = c_loss(c_pred, c_batch)\n",
        "                task_loss = y_loss(y_pred, y_batch)\n",
        "                loss = concept_loss + 0.5 * task_loss\n",
        "\n",
        "                loss.backward()\n",
        "                optimizer.step()\n",
        "\n",
        "                train_losses += loss.item()\n",
        "                train_correct += (y_pred.argmax(1) == y_batch.argmax(1)).sum().item()\n",
        "                all_y_true_train.append(y_batch.cpu().numpy())\n",
        "                all_y_pred_train.append(y_pred.detach().cpu().numpy())\n",
        "                all_c_true_train.append(c_batch.cpu().numpy())\n",
        "                all_c_pred_train.append(c_pred.detach().cpu().numpy())\n",
        "\n",
        "                wandb.log({\n",
        "                    'train_concept_loss': concept_loss.item(),\n",
        "                    'train_task_loss': task_loss.item(),\n",
        "                    'learning_rate': optimizer.param_groups[0]['lr']\n",
        "                })\n",
        "\n",
        "            all_y_true_train = np.concatenate(all_y_true_train, axis=0)\n",
        "            all_y_pred_train = np.concatenate(all_y_pred_train, axis=0)\n",
        "            all_c_true_train = np.concatenate(all_c_true_train, axis=0)\n",
        "            all_c_pred_train = np.concatenate(all_c_pred_train, axis=0)\n",
        "\n",
        "            train_precision = precision_score(all_y_true_train.argmax(1), all_y_pred_train.argmax(1), average='weighted')\n",
        "            train_recall = recall_score(all_y_true_train.argmax(1), all_y_pred_train.argmax(1), average='weighted')\n",
        "            train_f1 = f1_score(all_y_true_train.argmax(1), all_y_pred_train.argmax(1), average='weighted')\n",
        "            train_concept_accuracy = accuracy_score(all_c_true_train.argmax(1), all_c_pred_train.argmax(1))\n",
        "            train_task_accuracy = accuracy_score(all_y_true_train.argmax(1), all_y_pred_train.argmax(1))\n",
        "\n",
        "            model.eval()\n",
        "            val_losses, val_correct = 0, 0\n",
        "            all_y_true_val, all_y_pred_val = [], []\n",
        "            all_c_true_val, all_c_pred_val = [], []\n",
        "\n",
        "            with torch.no_grad():\n",
        "                for x_batch, c_batch, y_batch in val_loader:\n",
        "                    c_emb, c_pred = concept_encoder(x_batch)\n",
        "                    y_pred = task_predictor(c_emb, c_pred)\n",
        "\n",
        "                    val_concept_loss = c_loss(c_pred, c_batch)\n",
        "                    val_task_loss = y_loss(y_pred, y_batch)\n",
        "                    val_loss = val_concept_loss + 0.5 * val_task_loss\n",
        "\n",
        "                    val_losses += val_loss.item()\n",
        "                    val_correct += (y_pred.argmax(1) == y_batch.argmax(1)).sum().item()\n",
        "                    all_y_true_val.append(y_batch.cpu().numpy())\n",
        "                    all_y_pred_val.append(y_pred.detach().cpu().numpy())\n",
        "                    all_c_true_val.append(c_batch.cpu().numpy())\n",
        "                    all_c_pred_val.append(c_pred.detach().cpu().numpy())\n",
        "\n",
        "                    wandb.log({\n",
        "                        'val_concept_loss': val_concept_loss.item(),\n",
        "                        'val_task_loss': val_task_loss.item(),\n",
        "                        'val_learning_rate': optimizer.param_groups[0]['lr']\n",
        "                    })\n",
        "\n",
        "            all_y_true_val = np.concatenate(all_y_true_val, axis=0)\n",
        "            all_y_pred_val = np.concatenate(all_y_pred_val, axis=0)\n",
        "            all_c_true_val = np.concatenate(all_c_true_val, axis=0)\n",
        "            all_c_pred_val = np.concatenate(all_c_pred_val, axis=0)\n",
        "            val_precision = precision_score(all_y_true_val.argmax(1), all_y_pred_val.argmax(1), average='weighted')\n",
        "            val_recall = recall_score(all_y_true_val.argmax(1), all_y_pred_val.argmax(1), average='weighted')\n",
        "            val_f1 = f1_score(all_y_true_val.argmax(1), all_y_pred_val.argmax(1), average='weighted')\n",
        "            val_concept_accuracy = accuracy_score(all_c_true_val.argmax(1), all_c_pred_val.argmax(1))\n",
        "            val_task_accuracy = accuracy_score(all_y_true_val.argmax(1), all_y_pred_val.argmax(1))\n",
        "\n",
        "            scheduler.step(val_losses / len(val_loader))\n",
        "\n",
        "            epoch_end_time = time.time()\n",
        "            epoch_time = epoch_end_time - epoch_start_time\n",
        "\n",
        "            print(f\"Epoch {epoch+1}, Loss: {train_losses/len(train_loader)}, Train Accuracy: {train_correct/len(train_dataset)}, Val Loss: {val_losses/len(val_loader)}, Val Accuracy: {val_correct/len(val_dataset)}, Train Precision: {train_precision}, Train Recall: {train_recall}, Train F1: {train_f1}, Val Precision: {val_precision}, Val Recall: {val_recall}, Val F1: {val_f1}, Epoch Time: {epoch_time}\")\n",
        "\n",
        "            wandb.log({\n",
        "                'epoch': epoch + 1,\n",
        "                'loss': train_losses / len(train_loader),\n",
        "                'train_accuracy': train_correct / len(train_dataset),\n",
        "                'val_loss': val_losses / len(val_loader),\n",
        "                'val_accuracy': val_correct / len(val_dataset),\n",
        "                'train_precision': train_precision,\n",
        "                'train_recall': train_recall,\n",
        "                'train_f1': train_f1,\n",
        "                'val_precision': val_precision,\n",
        "                'val_recall': val_recall,\n",
        "                'val_f1': val_f1,\n",
        "                'train_concept_accuracy': train_concept_accuracy,\n",
        "                'train_task_accuracy': train_task_accuracy,\n",
        "                'val_concept_accuracy': val_concept_accuracy,\n",
        "                'val_task_accuracy': val_task_accuracy,\n",
        "                'epoch_time': epoch_time\n",
        "            })\n",
        "\n",
        "\n",
        "            # Check for convergence\n",
        "            if val_correct / len(val_dataset) >= target_accuracy and convergence_time is None:\n",
        "                convergence_time = time.time() - total_start_time\n",
        "                wandb.log({'convergence_time': convergence_time})\n",
        "                print(f\"Convergence achieved at epoch {epoch+1} with validation accuracy {val_correct/len(val_dataset)}\")\n",
        "\n",
        "        total_training_time = time.time() - total_start_time\n",
        "        wandb.log({'total_training_time': total_training_time})\n",
        "        print(f\"Total Training Time: {total_training_time}\")\n",
        "\n",
        "        print(f\"\\n Training on {dataset_name} using {model_name} has been completed!\")\n",
        "        torch.save(model, f'model_{model_name}_{dataset_name}.pth')\n",
        "        torch.save(model.state_dict(), f'model_state_dict_{model_name}_{dataset_name}.pth')\n",
        "        wandb.finish()\n",
        "\n",
        "        print(f\"===========================================================\")\n",
        "\n",
        "\n",
        "print(f\"*********** ALL TRAINING ARE DONE - Check WandB ***********\")\n"
      ]
    },
    {
      "cell_type": "code",
      "execution_count": null,
      "metadata": {
        "colab": {
          "base_uri": "https://localhost:8080/",
          "height": 1000,
          "referenced_widgets": [
            "6ea25a7912c946f7bcfede7437922c17",
            "35383f9c25534292b24c3d273ce6c284",
            "16e809bcf0964f3986f6f5c2f167820c",
            "943a0e1d9e00461086a8712759a6a23c",
            "6522ba1200e94a77831dfed8b289a54f",
            "3a47fff8ea6a410f959936a0953989f6",
            "4212e74a88e8473d94fde7e280d97c43",
            "043338038c7247d8a7b28a811f067e9e",
            "5db69eefc00e4a7fbf78df2761a5268d",
            "dc9aed60b0b24d2786ae1f226f42a9e6",
            "3eeeac4498484762bce146fb2e27d211",
            "c4e078c96235406f877187fec32e9d22",
            "e415f6517e9f4bde9088dba04fd79234",
            "8ec199aff1054c40a16ed6c0483601cd",
            "fa9944f222334a0eb95a957881232bf9",
            "baa9e7de1286475aa017d10254e227cb",
            "8c4d1175101e48f1b4124d6b028de764",
            "12d1b1ebdcf642afbdf12bdbc2b93fdb",
            "ddb8593ff3624430abca09a4cd5d43ab",
            "129386bbf218422abe6c18f31c27123f",
            "d0fe940b74124074a959f2cc97c2ca4f",
            "a914027dfaef4d36a5ecc3ec9b05f265",
            "b0f50cd970cf45efa242411aaa918471",
            "9ee35c54bba74af792306fbfa09e9bc3",
            "df7d8d9a5fe34f8995a52f83709a0953",
            "9de6be57f7f1481280367466920c74cd",
            "ef81e8aa40cf4c05a28abd40c501d0c1",
            "16fc5385fb1c412f918b2ba92347552e",
            "5416b1ef163c4df8b6df92d065bc1a0a",
            "372dff97adc648699c6443ff5f2b6d6c",
            "0160100f536a4cd988f8895a732c3af5",
            "5c6f9610942e463dba5c1ed02c761103",
            "899f47ec211d480da0a6f0e673bf72d3",
            "baa6d488d9b64a1c99eb26bd317f70b8",
            "a7981b41852a49f1b704ec38ba5b6f47",
            "7ba33eafa00b463eac43834b0a28aaa7",
            "836fe2428718499fbd720008ccd06eab",
            "68f782f0fb26402c9e8aa3c03e3c9c22",
            "40c02f9b80114520b66107164e66dbef",
            "e60c19af84b24d68a2585e54fd6bc904",
            "ca8aee0451034294854058582f198972",
            "de323a0c4a5e46c3843a9bba447cca05",
            "da85eb6b23fd4536b1a44a4007098ac2",
            "81bbe031d07e4121aa23f4c9b149ff54",
            "07d08e6e757146468692f9b0ad2e9145",
            "9ba1bffe34de4b7eb72b8cd48d84140c",
            "ff0d563520894eb98b167f68f318dcda",
            "9824b0a012f74661aa076c77bdff3d7b",
            "d877d79361a74b849ce77a603a8f1174",
            "3962e11114de40cbb45280a20dc7552a",
            "84ecbeb5954540e4bff7966c6e68c1eb",
            "eff529d30943479abeba1d43d938b9b6",
            "2f0e5e5175914b92840776356f13cfc0",
            "913a678a80db43b0a11e4844826cef6c",
            "77a4a4c452fb458ebe5f363b8ab5007c",
            "5f64703b925e4726ae304b9231dedb82",
            "e2dc8ae7f3494ae1bd44102fcacca659",
            "7db06c7a1ef84628b9975a6dd7189856",
            "f45cd811eca94636bc8af61aaf95d9b2",
            "0a281a8fd9dd4b80999617c9bb0a36d0",
            "0d3fed5ff1b149799b0bbd45607d912e",
            "3309db329ca6470ab0c3dbe30789c55e",
            "286c368204d440b79c6f3106a0919410",
            "def4f8c3abdc4c3c931adc0b9c4c85a0",
            "467f78759d484d85915c741668086279",
            "c4666eced7ec40f28648f6a9c7c9cf5e",
            "b83ea12e073a454b9af86c4b4e33d448",
            "765e0d07bb0c4f9dabbca1f82765f08d",
            "14d92e3abf1241d0a8bef517893ef808",
            "3df9250e069e45dfa28e7673003c12f4",
            "18f359d8aeb940469a7df8202ad20303",
            "b18ee3bf47e9437bbca56be4e74d721b",
            "c06ad07d981c491db2317cfbab597596",
            "a55008d7a5fa487d9e6f56d0eef3f5e8",
            "64bec12d8fdf45568c3ae2738417bb86",
            "339c4454c04b4cba84dbae11ea7f82bf",
            "d899b1e9864b4106b5a378e1c2875811",
            "1332921721014763b2b0015774fd054f",
            "b4900c2b1c8348eeb69d7bd0a71c7668",
            "8f57e942ab604addb82ff307826b641c",
            "5d79b3aac20748d3866b35de4b4ee36c",
            "7273866fa85647d6b1d4454400551060",
            "4f7524918ad04010b76990813d5097b5",
            "e9ffdaf4d1a64022889719c83b1ee1b7",
            "fa1b1c6fe1af426e88e7b83154e80f2a",
            "1ce6d0ba002a494a801a866a0d7d79eb",
            "d801a1da40e34db1b629962e23f71e5a",
            "047a313dccd84828baa5756743972186",
            "720231c486324ad2bb3cc23b1e493a51",
            "cb240378208243278e181ae5e5bf96ed",
            "c3c68aa39181481696fe147b43e20936",
            "0b2f5f62653943d19e6e7e826d96a0ff",
            "086ff6a569364a69a61ec4172d706a83",
            "e0e9be24b0024d2f9dba5a13236d7c78",
            "57adb0ec32b04d89a3c0ea201db50fcc",
            "bfad21354aae4f71b653c6328d8dcede",
            "bc1320cb745a4e90b5fb18cd1d3b0f6f",
            "e9582d65c419438f973236306db7ebbb",
            "beecbaaf10fa46248e55d770317569a5",
            "5edab74e5a1a4f0bb74b6f6bb8a14837",
            "287f6d730208457e917fe3b44e3d7d52",
            "9b79a0f606404e55b6045172c1170a12",
            "b4beeb7f9ea747828bf1ee0124a863a5",
            "683dc9f419d34a22bb00108274a8db7c",
            "eb5aaf622647426f92019ec9b4c765f0",
            "637c2525eab04b6c95ec70096a3647f5",
            "4a27e51672cc4599ae2209ca28439689",
            "e159073f09f44003b55169a77f8d1610",
            "3764378a2e7147d9a216fd4d460a6d62",
            "5c2803ec3caa4502a23d45a524889a58",
            "37778ce2f725487f9adc55f4646ca90c",
            "88d2e823b3a94fd2af00b06c51676443",
            "65904edb8a694bd990e84852ee27ef06",
            "ae6552a0b47d4c1ebcacded20431bc3e",
            "bdac3cec6f154d71a15738db92f299fd",
            "75f985741cd9459f920b02e8ddae0246",
            "4d089ccb37dd4a3e8a8e5a0924253311",
            "d2dd779486324481b050248994b98e23",
            "4c7d2c8f50eb4c7f953acfab407aaaf1",
            "24ab42139cfa46029969042fe1e3ac69",
            "1a6b08ee1ee74c55ab5968c19aa77491",
            "bd6e23540f984589976c2d5df2d8a001",
            "84b557a0258e4f86a9a5432ac45abae3",
            "2368cae724564ab5a78dd4020c8666dd",
            "b135adef61cd4829870e074f19f4da3f",
            "1b0ae065375f4595aa68b96826be55cf",
            "466a4672551d427c9c195362a1139667",
            "eee1367ea4574be899dd8c678c05f197",
            "d89f0e3a934147c8b67077328c6f82f8",
            "3555ba402a47450c84e65d03b6d8fb18",
            "4ba0015c827b44ab9ce238aa380fd2d8",
            "b4e5205fe562412cadf699b93958b2cc",
            "e8a2ce1a4fd24fd5a3b906686acdb45c",
            "94beb06623fc4365b86455166d67564b",
            "8f3b25f1095a48f6bbeed95721b7a348",
            "e7061e1aff984323a3f3080ec80fe259",
            "e1f61b924cdd4151a092f8b3a37ffcac",
            "7786005832984784abad80a6a1eb2bb3",
            "2b418a3baa6248bc839bc54e78250f67",
            "40fc14e4f35744b3b18f0af686a3a767",
            "319fa890723a4446ad8e9b290d8eb100",
            "82dd6d051f1c4ee380743e667f8a089f",
            "0649b0a177f34bb586ad5649f5724178",
            "053a2ff0320d4f3ca72379a9348e6b18",
            "35ea46ca931942f4b2a5c4f3cfb6e27e",
            "e64a6aa177ed4ff6a2e1c8b003dd99d4",
            "11b319740543423695e43c732681c056",
            "6686c5e65e4048198e61e57e697f2e0a",
            "e9333f14530144c6a941698aa43ca982",
            "243379f8455f4ea0907399f7934c06dd",
            "2ee48c04f35640e69b589a57033ea9c7",
            "9d9090bcd1884fbca7cf5b5643d04583",
            "8515f10a1515479c8aaf9cb7b1d2e3f3",
            "6c295e532727421b8ec21db82906fffa",
            "696d922dd48e43649164d81227b9a82d",
            "4d79b9fcb9524e99b48bfc3ff74ad7a9",
            "17ec248b374d41fbb2fa700da90a76c9",
            "7633ba08efe7429287ec3c370f787fa3",
            "9682795621514121bd3bb9fa9088987c",
            "478674398c7a400784dd8bebf4a87016"
          ]
        },
        "id": "ddITrGKwlSLH",
        "outputId": "b331ccd0-5204-4538-cbcd-4c606aa24793"
      },
      "outputs": [
        {
          "name": "stdout",
          "output_type": "stream",
          "text": [
            "===========================================================\n",
            "Training Started!\n",
            "Training on DCRBase ... \n",
            "--------------------------------\n",
            "The following dataset has been loaded successfully: XOR\n"
          ]
        },
        {
          "data": {
            "text/html": [
              "Tracking run with wandb version 0.17.5"
            ],
            "text/plain": [
              "<IPython.core.display.HTML object>"
            ]
          },
          "metadata": {},
          "output_type": "display_data"
        },
        {
          "data": {
            "text/html": [
              "Run data is saved locally in <code>/content/pytorch_explain/wandb/run-20240723_091451-s64afj1l</code>"
            ],
            "text/plain": [
              "<IPython.core.display.HTML object>"
            ]
          },
          "metadata": {},
          "output_type": "display_data"
        },
        {
          "data": {
            "text/html": [
              "Syncing run <strong><a href='https://wandb.ai/alih999954-politecnico-di-torino/pytorch_explain/runs/s64afj1l' target=\"_blank\">DCRBase_XOR</a></strong> to <a href='https://wandb.ai/alih999954-politecnico-di-torino/pytorch_explain' target=\"_blank\">Weights & Biases</a> (<a href='https://wandb.me/run' target=\"_blank\">docs</a>)<br/>"
            ],
            "text/plain": [
              "<IPython.core.display.HTML object>"
            ]
          },
          "metadata": {},
          "output_type": "display_data"
        },
        {
          "data": {
            "text/html": [
              " View project at <a href='https://wandb.ai/alih999954-politecnico-di-torino/pytorch_explain' target=\"_blank\">https://wandb.ai/alih999954-politecnico-di-torino/pytorch_explain</a>"
            ],
            "text/plain": [
              "<IPython.core.display.HTML object>"
            ]
          },
          "metadata": {},
          "output_type": "display_data"
        },
        {
          "data": {
            "text/html": [
              " View run at <a href='https://wandb.ai/alih999954-politecnico-di-torino/pytorch_explain/runs/s64afj1l' target=\"_blank\">https://wandb.ai/alih999954-politecnico-di-torino/pytorch_explain/runs/s64afj1l</a>"
            ],
            "text/plain": [
              "<IPython.core.display.HTML object>"
            ]
          },
          "metadata": {},
          "output_type": "display_data"
        },
        {
          "name": "stdout",
          "output_type": "stream",
          "text": [
            "-------------------------- Training XOR using DCRBase ----------------------\n",
            "Epoch 1, Loss: 1.0362716669386083, Train Accuracy: 0.5021428571428571, Val Loss: 1.025920737873424, Val Accuracy: 0.5314285714285715, Train Precision: 0.7508929851510496, Train Recall: 0.5021428571428571, Train F1: 0.33963210026551766, Val Precision: 0.7608187633262261, Val Recall: 0.5314285714285715, Val F1: 0.4093071070569951, Epoch Time: 0.3013465404510498\n",
            "Epoch 2, Loss: 1.0126415274359963, Train Accuracy: 0.5853571428571429, Val Loss: 0.9984437010504983, Val Accuracy: 0.5957142857142858, Train Precision: 0.6883322809848206, Train Recall: 0.5853571428571429, Train F1: 0.5206922476032667, Val Precision: 0.6242992594998098, Val Recall: 0.5957142857142858, Val F1: 0.5766772485872117, Epoch Time: 0.31109023094177246\n",
            "Epoch 3, Loss: 0.9782215858047659, Train Accuracy: 0.6067857142857143, Val Loss: 0.9562058502977545, Val Accuracy: 0.6314285714285715, Train Precision: 0.6089654533949249, Train Recall: 0.6067857142857143, Train F1: 0.6050251302131918, Val Precision: 0.634170068027211, Val Recall: 0.6314285714285715, Val F1: 0.6277452639360079, Epoch Time: 0.2983572483062744\n",
            "Epoch 4, Loss: 0.9254935478622263, Train Accuracy: 0.6682142857142858, Val Loss: 0.8909565318714489, Val Accuracy: 0.6671428571428571, Train Precision: 0.687583197728645, Train Recall: 0.6682142857142858, Train F1: 0.6591303136612092, Val Precision: 0.6915616272968059, Val Recall: 0.6671428571428571, Val F1: 0.6534580724223993, Epoch Time: 0.29578304290771484\n",
            "Epoch 5, Loss: 0.8478381105444648, Train Accuracy: 0.6910714285714286, Val Loss: 0.801785712892359, Val Accuracy: 0.6914285714285714, Train Precision: 0.7371605876054715, Train Recall: 0.6910714285714286, Train F1: 0.674970814683682, Val Precision: 0.7317916901012373, Val Recall: 0.6914285714285714, Val F1: 0.6748137411541414, Epoch Time: 0.32644033432006836\n",
            "Epoch 6, Loss: 0.752951283346523, Train Accuracy: 0.7042857142857143, Val Loss: 0.7023214372721586, Val Accuracy: 0.6928571428571428, Train Precision: 0.7609986405035638, Train Recall: 0.7042857142857143, Train F1: 0.6869886149796269, Val Precision: 0.7357096263162799, Val Recall: 0.6928571428571428, Val F1: 0.675646216045272, Epoch Time: 0.4617424011230469\n",
            "Epoch 7, Loss: 0.6510080153291876, Train Accuracy: 0.7117857142857142, Val Loss: 0.6020382209257646, Val Accuracy: 0.72, Train Precision: 0.7703812325459644, Train Recall: 0.7117857142857142, Train F1: 0.6949815174392786, Val Precision: 0.7797287872917473, Val Recall: 0.72, Val F1: 0.7019370629370629, Epoch Time: 0.4201052188873291\n",
            "Epoch 8, Loss: 0.5633017705245451, Train Accuracy: 0.7135714285714285, Val Loss: 0.5300623909993605, Val Accuracy: 0.7114285714285714, Train Precision: 0.771514816452897, Train Recall: 0.7135714285714285, Train F1: 0.6971391924307037, Val Precision: 0.7631785353170591, Val Recall: 0.7114285714285714, Val F1: 0.694171683134104, Epoch Time: 0.40962982177734375\n",
            "Epoch 9, Loss: 0.5005458004095338, Train Accuracy: 0.7464285714285714, Val Loss: 0.4751592522317713, Val Accuracy: 0.8128571428571428, Train Precision: 0.7896578822589303, Train Recall: 0.7464285714285714, Train F1: 0.7364000947642739, Val Precision: 0.8306388604347789, Val Recall: 0.8128571428571428, Val F1: 0.8096548187016513, Epoch Time: 0.4261748790740967\n",
            "Epoch 10, Loss: 0.4510007866404273, Train Accuracy: 0.8310714285714286, Val Loss: 0.4301615899259394, Val Accuracy: 0.8628571428571429, Train Precision: 0.848167215273206, Train Recall: 0.8310714285714286, Train F1: 0.8289056600234608, Val Precision: 0.8678071428571429, Val Recall: 0.8628571428571429, Val F1: 0.8621706338442462, Epoch Time: 0.425182580947876\n",
            "Epoch 11, Loss: 0.40878299555995246, Train Accuracy: 0.8735714285714286, Val Loss: 0.38940848816524853, Val Accuracy: 0.9, Train Precision: 0.8795284439569561, Train Recall: 0.8735714285714286, Train F1: 0.8730469362155173, Val Precision: 0.9027755749405235, Val Recall: 0.9, Val F1: 0.8997171458789383, Epoch Time: 0.37799596786499023\n",
            "Convergence achieved at epoch 11 with validation accuracy 0.9\n",
            "Epoch 12, Loss: 0.36688427220691333, Train Accuracy: 0.9125, Val Loss: 0.34375542402267456, Val Accuracy: 0.9457142857142857, Train Precision: 0.9149055619534842, Train Recall: 0.9125, Train F1: 0.9123624353581137, Val Precision: 0.946593147018986, Val Recall: 0.9457142857142857, Val F1: 0.9456574438944124, Epoch Time: 0.42302846908569336\n",
            "Epoch 13, Loss: 0.3165941665118391, Train Accuracy: 0.9428571428571428, Val Loss: 0.29335384477268567, Val Accuracy: 0.9514285714285714, Train Precision: 0.9446850627186056, Train Recall: 0.9428571428571428, Train F1: 0.94279277829627, Val Precision: 0.9521091379116556, Val Recall: 0.9514285714285714, Val F1: 0.9513868621666617, Epoch Time: 0.4071822166442871\n",
            "Epoch 14, Loss: 0.2747019160200249, Train Accuracy: 0.9557142857142857, Val Loss: 0.258490651845932, Val Accuracy: 0.9614285714285714, Train Precision: 0.9563885537656028, Train Recall: 0.9557142857142857, Train F1: 0.9556953646295819, Val Precision: 0.9622418209480709, Val Recall: 0.9614285714285714, Val F1: 0.9613918960012828, Epoch Time: 0.4517395496368408\n",
            "Epoch 15, Loss: 0.2440336715768684, Train Accuracy: 0.9678571428571429, Val Loss: 0.23074518008665604, Val Accuracy: 0.9657142857142857, Train Precision: 0.9684047204481518, Train Recall: 0.9678571428571429, Train F1: 0.9678461180390523, Val Precision: 0.9662365742365743, Val Recall: 0.9657142857142857, Val F1: 0.965690737833595, Epoch Time: 0.4893805980682373\n",
            "Epoch 16, Loss: 0.21839726309884677, Train Accuracy: 0.9728571428571429, Val Loss: 0.2089004245671359, Val Accuracy: 0.9842857142857143, Train Precision: 0.9731680672268908, Train Recall: 0.9728571428571429, Train F1: 0.9728516575375903, Val Precision: 0.9843795463595841, Val Recall: 0.9842857142857143, Val F1: 0.9842823439054333, Epoch Time: 0.38118553161621094\n",
            "Epoch 17, Loss: 0.19889508390968497, Train Accuracy: 0.9807142857142858, Val Loss: 0.1920891065489162, Val Accuracy: 0.9714285714285714, Train Precision: 0.9807296687686676, Train Recall: 0.9807142857142858, Train F1: 0.9807139708351992, Val Precision: 0.9715561224489797, Val Recall: 0.9714285714285714, Val F1: 0.9714208670255051, Epoch Time: 0.32230067253112793\n",
            "Epoch 18, Loss: 0.18252926048907367, Train Accuracy: 0.9825, Val Loss: 0.17857767099683935, Val Accuracy: 0.9814285714285714, Train Precision: 0.982541145097415, Train Recall: 0.9825, Train F1: 0.9824993905907208, Val Precision: 0.9814312904276064, Val Recall: 0.9814285714285714, Val F1: 0.981427926733464, Epoch Time: 0.2869420051574707\n",
            "Epoch 19, Loss: 0.16959940337321974, Train Accuracy: 0.9889285714285714, Val Loss: 0.1680881760337136, Val Accuracy: 0.9757142857142858, Train Precision: 0.9889406372244701, Train Recall: 0.9889285714285714, Train F1: 0.9889284231462547, Val Precision: 0.9758035634000027, Val Recall: 0.9757142857142858, Val F1: 0.9757090769447606, Epoch Time: 0.2845926284790039\n",
            "Epoch 20, Loss: 0.16101800972087818, Train Accuracy: 0.9839285714285714, Val Loss: 0.15886863321065903, Val Accuracy: 0.9871428571428571, Train Precision: 0.9839836426140586, Train Recall: 0.9839285714285714, Train F1: 0.9839278641559943, Val Precision: 0.9871761611761122, Val Recall: 0.9871428571428571, Val F1: 0.9871413604133423, Epoch Time: 0.29245662689208984\n",
            "Epoch 21, Loss: 0.15114716067910194, Train Accuracy: 0.9882142857142857, Val Loss: 0.15212583270939914, Val Accuracy: 0.9871428571428571, Train Precision: 0.9882164554113854, Train Recall: 0.9882142857142857, Train F1: 0.9882142361052839, Val Precision: 0.9871761611761122, Val Recall: 0.9871428571428571, Val F1: 0.9871413604133423, Epoch Time: 0.3292670249938965\n",
            "Epoch 22, Loss: 0.1448480524122715, Train Accuracy: 0.99, Val Loss: 0.14493852989240127, Val Accuracy: 0.9871428571428571, Train Precision: 0.9900039184952977, Train Recall: 0.99, Train F1: 0.9899999387743855, Val Precision: 0.9871459962447472, Val Recall: 0.9871428571428571, Val F1: 0.987142410815475, Epoch Time: 0.28727293014526367\n",
            "Epoch 23, Loss: 0.1380154172127897, Train Accuracy: 0.9892857142857143, Val Loss: 0.13962895490906455, Val Accuracy: 0.9814285714285714, Train Precision: 0.9892896211188237, Train Recall: 0.9892857142857143, Train F1: 0.9892856486868417, Val Precision: 0.9814603345812131, Val Recall: 0.9814285714285714, Val F1: 0.9814264094859391, Epoch Time: 0.3032522201538086\n",
            "Epoch 24, Loss: 0.13273430700329217, Train Accuracy: 0.9903571428571428, Val Loss: 0.13410166583277963, Val Accuracy: 0.9885714285714285, Train Precision: 0.990357412719898, Train Recall: 0.9903571428571428, Train F1: 0.9903571514668907, Val Precision: 0.9885714285714285, Val Recall: 0.9885714285714285, Val F1: 0.9885714285714285, Epoch Time: 0.3164784908294678\n",
            "Epoch 25, Loss: 0.12787112695249644, Train Accuracy: 0.9910714285714286, Val Loss: 0.13028147207065063, Val Accuracy: 0.9942857142857143, Train Precision: 0.9910716973408843, Train Recall: 0.9910714285714286, Train F1: 0.9910714365434173, Val Precision: 0.9943011204481793, Val Recall: 0.9942857142857143, Val F1: 0.9942852941828592, Epoch Time: 0.30532050132751465\n",
            "Epoch 26, Loss: 0.12361065078188073, Train Accuracy: 0.9907142857142858, Val Loss: 0.12594399601221085, Val Accuracy: 0.9928571428571429, Train Precision: 0.9907152492888353, Train Recall: 0.9907142857142858, Train F1: 0.9907142620259368, Val Precision: 0.9928607020618883, Val Recall: 0.9928571428571429, Val F1: 0.9928568948974862, Epoch Time: 0.2822999954223633\n",
            "Epoch 27, Loss: 0.11953233267095956, Train Accuracy: 0.99, Val Loss: 0.12171455032446167, Val Accuracy: 0.9914285714285714, Train Precision: 0.9900040816326531, Train Recall: 0.99, Train F1: 0.9900000204082049, Val Precision: 0.9914285714285714, Val Recall: 0.9914285714285714, Val F1: 0.9914285714285714, Epoch Time: 0.3142719268798828\n",
            "Epoch 28, Loss: 0.11558209444311532, Train Accuracy: 0.9925, Val Loss: 0.11857134205373851, Val Accuracy: 0.98, Train Precision: 0.9925022156166149, Train Recall: 0.9925, Train F1: 0.9924999684306353, Val Precision: 0.980057537023113, Val Recall: 0.98, Val F1: 0.9799967320261439, Epoch Time: 0.32820940017700195\n",
            "Epoch 29, Loss: 0.11234347268261692, Train Accuracy: 0.9882142857142857, Val Loss: 0.1150355681099675, Val Accuracy: 0.99, Train Precision: 0.9882145588569395, Train Recall: 0.9882142857142857, Train F1: 0.9882142962373106, Val Precision: 0.9900033491533178, Val Recall: 0.99, Val F1: 0.9899996528564806, Epoch Time: 0.2908508777618408\n",
            "Epoch 30, Loss: 0.10907028302211653, Train Accuracy: 0.9907142857142858, Val Loss: 0.11256793547760356, Val Accuracy: 0.9842857142857143, Train Precision: 0.9907301586005736, Train Recall: 0.9907142857142858, Train F1: 0.9907141341058368, Val Precision: 0.9842886433361768, Val Recall: 0.9842857142857143, Val F1: 0.9842851687744696, Epoch Time: 0.28949427604675293\n",
            "Epoch 31, Loss: 0.10643372108990495, Train Accuracy: 0.99, Val Loss: 0.11072564395991238, Val Accuracy: 0.9914285714285714, Train Precision: 0.9900010408184506, Train Recall: 0.99, Train F1: 0.9900000153061926, Val Precision: 0.9914435107376284, Val Recall: 0.9914285714285714, Val F1: 0.9914279412742886, Epoch Time: 0.3039393424987793\n",
            "Epoch 32, Loss: 0.10319031681865454, Train Accuracy: 0.9935714285714285, Val Loss: 0.10687162523919885, Val Accuracy: 0.9871428571428571, Train Precision: 0.9935754053776684, Train Recall: 0.9935714285714285, Train F1: 0.993571389212105, Val Precision: 0.9871459962447472, Val Recall: 0.9871428571428571, Val F1: 0.987142410815475, Epoch Time: 0.30229854583740234\n",
            "Epoch 33, Loss: 0.10158775475892154, Train Accuracy: 0.9878571428571429, Val Loss: 0.10506585172631523, Val Accuracy: 0.9828571428571429, Train Precision: 0.9878580889386599, Train Recall: 0.9878571428571429, Train F1: 0.9878571118800713, Val Precision: 0.9828706816059758, Val Recall: 0.9828571428571429, Val F1: 0.9828558825485774, Epoch Time: 0.28675079345703125\n",
            "Epoch 34, Loss: 0.09916984018954364, Train Accuracy: 0.9907142857142858, Val Loss: 0.1024670431559736, Val Accuracy: 0.99, Train Precision: 0.9907183673469387, Train Recall: 0.9907142857142858, Train F1: 0.9907143046647616, Val Precision: 0.9900046549231939, Val Recall: 0.99, Val F1: 0.9900003062630801, Epoch Time: 0.3112599849700928\n",
            "Epoch 35, Loss: 0.09638893248682673, Train Accuracy: 0.9907142857142858, Val Loss: 0.10041895237835971, Val Accuracy: 0.9885714285714285, Train Precision: 0.9907142857142858, Train Recall: 0.9907142857142858, Train F1: 0.9907142857142858, Val Precision: 0.9885714285714285, Val Recall: 0.9885714285714285, Val F1: 0.9885714285714285, Epoch Time: 0.2936582565307617\n",
            "Epoch 36, Loss: 0.09414673706685955, Train Accuracy: 0.9917857142857143, Val Loss: 0.0987274670465426, Val Accuracy: 0.9885714285714285, Train Precision: 0.9917859819618705, Train Recall: 0.9917857142857143, Train F1: 0.9917857216199438, Val Precision: 0.9885859010270776, Val Recall: 0.9885714285714285, Val F1: 0.9885705883657182, Epoch Time: 0.295773983001709\n",
            "Epoch 37, Loss: 0.09225766276094047, Train Accuracy: 0.9925, Val Loss: 0.09715977514331992, Val Accuracy: 0.9842857142857143, Train Precision: 0.9925062056135994, Train Recall: 0.9925, Train F1: 0.9924999378175371, Val Precision: 0.9842886433361768, Val Recall: 0.9842857142857143, Val F1: 0.9842851687744696, Epoch Time: 0.31182408332824707\n",
            "Epoch 38, Loss: 0.0914668972519311, Train Accuracy: 0.9867857142857143, Val Loss: 0.09654698317701166, Val Accuracy: 0.99, Train Precision: 0.9867878686763086, Train Recall: 0.9867857142857143, Train F1: 0.9867856586635003, Val Precision: 0.9900340744735617, Val Recall: 0.99, Val F1: 0.9899988358770442, Epoch Time: 0.35643744468688965\n",
            "Epoch 39, Loss: 0.0890234172005545, Train Accuracy: 0.9917857142857143, Val Loss: 0.09390175952152773, Val Accuracy: 0.9971428571428571, Train Precision: 0.9917859819618705, Train Recall: 0.9917857142857143, Train F1: 0.9917857216199438, Val Precision: 0.9971594684385382, Val Recall: 0.9971428571428571, Val F1: 0.9971430204734956, Epoch Time: 0.2940969467163086\n",
            "Epoch 40, Loss: 0.08694930738684806, Train Accuracy: 0.9917857142857143, Val Loss: 0.09178791330619292, Val Accuracy: 0.9885714285714285, Train Precision: 0.9917879222490765, Train Recall: 0.9917857142857143, Train F1: 0.9917856797097433, Val Precision: 0.9885714285714285, Val Recall: 0.9885714285714285, Val F1: 0.9885714285714285, Epoch Time: 0.35510921478271484\n",
            "Epoch 41, Loss: 0.08548248093575239, Train Accuracy: 0.9925, Val Loss: 0.09218427809801968, Val Accuracy: 0.99, Train Precision: 0.9925023073991364, Train Recall: 0.9925, Train F1: 0.9925000143495354, Val Precision: 0.9900046549231939, Val Recall: 0.99, Val F1: 0.9900003062630801, Epoch Time: 0.3153574466705322\n",
            "Total Training Time: 13.95733380317688\n",
            "\n",
            " Training on XOR using DCRBase has been completed!\n"
          ]
        },
        {
          "data": {
            "application/vnd.jupyter.widget-view+json": {
              "model_id": "6ea25a7912c946f7bcfede7437922c17",
              "version_major": 2,
              "version_minor": 0
            },
            "text/plain": [
              "VBox(children=(Label(value='0.001 MB of 0.001 MB uploaded\\r'), FloatProgress(value=1.0, max=1.0)))"
            ]
          },
          "metadata": {},
          "output_type": "display_data"
        },
        {
          "data": {
            "text/html": [
              "<style>\n",
              "    table.wandb td:nth-child(1) { padding: 0 10px; text-align: left ; width: auto;} td:nth-child(2) {text-align: left ; width: 100%}\n",
              "    .wandb-row { display: flex; flex-direction: row; flex-wrap: wrap; justify-content: flex-start; width: 100% }\n",
              "    .wandb-col { display: flex; flex-direction: column; flex-basis: 100%; flex: 1; padding: 10px; }\n",
              "    </style>\n",
              "<div class=\"wandb-row\"><div class=\"wandb-col\"><h3>Run history:</h3><br/><table class=\"wandb\"><tr><td>convergence_time</td><td>▁</td></tr><tr><td>epoch</td><td>▁▁▁▂▂▂▂▂▂▃▃▃▃▃▃▄▄▄▄▄▅▅▅▅▅▅▆▆▆▆▆▆▇▇▇▇▇▇██</td></tr><tr><td>epoch_time</td><td>▂▂▂▁▂▇▆▅▆▆▄▆▅▇█▄▂▁▁▁▃▁▂▂▂▁▂▃▁▁▂▂▁▂▁▁▂▄▁▂</td></tr><tr><td>learning_rate</td><td>▁▁▁▁▁▁▁▁▁▁▁▁▁▁▁▁▁▁▁▁▁▁▁▁▁▁▁▁▁▁▁▁▁▁▁▁▁▁▁▁</td></tr><tr><td>loss</td><td>███▇▇▆▅▅▄▄▃▃▃▂▂▂▂▂▂▂▁▁▁▁▁▁▁▁▁▁▁▁▁▁▁▁▁▁▁▁</td></tr><tr><td>total_training_time</td><td>▁</td></tr><tr><td>train_accuracy</td><td>▁▂▂▃▄▄▄▄▄▆▆▇▇▇██████████████████████████</td></tr><tr><td>train_concept_accuracy</td><td>▁▂▄▇▇▇▇█████████████████████████████████</td></tr><tr><td>train_concept_loss</td><td>███▇▆▅▄▃▃▃▂▂▂▂▂▂▂▂▂▂▁▁▁▁▁▁▁▁▁▁▁▁▁▁▁▁▁▁▁▁</td></tr><tr><td>train_f1</td><td>▁▃▄▄▅▅▅▅▅▆▇▇▇███████████████████████████</td></tr><tr><td>train_precision</td><td>▄▂▁▂▃▄▄▄▄▅▆▇▇▇██████████████████████████</td></tr><tr><td>train_recall</td><td>▁▂▂▃▄▄▄▄▄▆▆▇▇▇██████████████████████████</td></tr><tr><td>train_task_accuracy</td><td>▁▂▂▃▄▄▄▄▄▆▆▇▇▇██████████████████████████</td></tr><tr><td>train_task_loss</td><td>██████▇▇▆▇▆▅▄▃▃▃▂▂▂▂▂▂▂▂▁▂▁▁▁▁▁▁▁▂▁▁▁▁▁▁</td></tr><tr><td>val_accuracy</td><td>▁▂▃▃▃▃▄▄▅▆▇▇▇▇██████████████████████████</td></tr><tr><td>val_concept_accuracy</td><td>▁▂▆▇▇▇███▇▇█▇█▇█████████████████████████</td></tr><tr><td>val_concept_loss</td><td>██▇▇▆▅▄▃▃▃▂▂▂▂▂▂▂▂▂▂▂▁▂▂▂▂▁▁▂▁▁▁▂▁▁▁▂▁▁▁</td></tr><tr><td>val_f1</td><td>▁▃▄▄▄▄▄▄▆▆▇▇▇███████████████████████████</td></tr><tr><td>val_learning_rate</td><td>▁▁▁▁▁▁▁▁▁▁▁▁▁▁▁▁▁▁▁▁▁▁▁▁▁▁▁▁▁▁▁▁▁▁▁▁▁▁▁▁</td></tr><tr><td>val_loss</td><td>██▇▇▆▆▅▄▄▄▃▃▃▂▂▂▂▂▂▁▁▁▁▁▁▁▁▁▁▁▁▁▁▁▁▁▁▁▁▁</td></tr><tr><td>val_precision</td><td>▄▁▁▂▃▃▄▄▅▆▆▇▇▇▇█████████████████████████</td></tr><tr><td>val_recall</td><td>▁▂▃▃▃▃▄▄▅▆▇▇▇▇██████████████████████████</td></tr><tr><td>val_task_accuracy</td><td>▁▂▃▃▃▃▄▄▅▆▇▇▇▇██████████████████████████</td></tr><tr><td>val_task_loss</td><td>█████▇▇▇▆▆▅▅▄▄▃▃▃▂▃▂▂▂▂▂▂▂▂▂▂▂▂▂▂▂▁▂▂▁▁▁</td></tr></table><br/></div><div class=\"wandb-col\"><h3>Run summary:</h3><br/><table class=\"wandb\"><tr><td>convergence_time</td><td>4.07829</td></tr><tr><td>epoch</td><td>41</td></tr><tr><td>epoch_time</td><td>0.31536</td></tr><tr><td>learning_rate</td><td>0.0005</td></tr><tr><td>loss</td><td>0.08548</td></tr><tr><td>total_training_time</td><td>13.95733</td></tr><tr><td>train_accuracy</td><td>0.9925</td></tr><tr><td>train_concept_accuracy</td><td>0.74286</td></tr><tr><td>train_concept_loss</td><td>0.05369</td></tr><tr><td>train_f1</td><td>0.9925</td></tr><tr><td>train_precision</td><td>0.9925</td></tr><tr><td>train_recall</td><td>0.9925</td></tr><tr><td>train_task_accuracy</td><td>0.9925</td></tr><tr><td>train_task_loss</td><td>0.1036</td></tr><tr><td>val_accuracy</td><td>0.99</td></tr><tr><td>val_concept_accuracy</td><td>0.75857</td></tr><tr><td>val_concept_loss</td><td>0.05539</td></tr><tr><td>val_f1</td><td>0.99</td></tr><tr><td>val_learning_rate</td><td>0.0005</td></tr><tr><td>val_loss</td><td>0.09218</td></tr><tr><td>val_precision</td><td>0.99</td></tr><tr><td>val_recall</td><td>0.99</td></tr><tr><td>val_task_accuracy</td><td>0.99</td></tr><tr><td>val_task_loss</td><td>0.10296</td></tr></table><br/></div></div>"
            ],
            "text/plain": [
              "<IPython.core.display.HTML object>"
            ]
          },
          "metadata": {},
          "output_type": "display_data"
        },
        {
          "data": {
            "text/html": [
              " View run <strong style=\"color:#cdcd00\">DCRBase_XOR</strong> at: <a href='https://wandb.ai/alih999954-politecnico-di-torino/pytorch_explain/runs/s64afj1l' target=\"_blank\">https://wandb.ai/alih999954-politecnico-di-torino/pytorch_explain/runs/s64afj1l</a><br/> View project at: <a href='https://wandb.ai/alih999954-politecnico-di-torino/pytorch_explain' target=\"_blank\">https://wandb.ai/alih999954-politecnico-di-torino/pytorch_explain</a><br/>Synced 5 W&B file(s), 0 media file(s), 0 artifact file(s) and 0 other file(s)"
            ],
            "text/plain": [
              "<IPython.core.display.HTML object>"
            ]
          },
          "metadata": {},
          "output_type": "display_data"
        },
        {
          "data": {
            "text/html": [
              "Find logs at: <code>./wandb/run-20240723_091451-s64afj1l/logs</code>"
            ],
            "text/plain": [
              "<IPython.core.display.HTML object>"
            ]
          },
          "metadata": {},
          "output_type": "display_data"
        },
        {
          "data": {
            "text/html": [
              "The new W&B backend becomes opt-out in version 0.18.0; try it out with `wandb.require(\"core\")`! See https://wandb.me/wandb-core for more information."
            ],
            "text/plain": [
              "<IPython.core.display.HTML object>"
            ]
          },
          "metadata": {},
          "output_type": "display_data"
        },
        {
          "name": "stdout",
          "output_type": "stream",
          "text": [
            "The following dataset has been loaded successfully: XNOR\n"
          ]
        },
        {
          "data": {
            "text/html": [
              "Tracking run with wandb version 0.17.5"
            ],
            "text/plain": [
              "<IPython.core.display.HTML object>"
            ]
          },
          "metadata": {},
          "output_type": "display_data"
        },
        {
          "data": {
            "text/html": [
              "Run data is saved locally in <code>/content/pytorch_explain/wandb/run-20240723_091513-huaswhug</code>"
            ],
            "text/plain": [
              "<IPython.core.display.HTML object>"
            ]
          },
          "metadata": {},
          "output_type": "display_data"
        },
        {
          "data": {
            "text/html": [
              "Syncing run <strong><a href='https://wandb.ai/alih999954-politecnico-di-torino/pytorch_explain/runs/huaswhug' target=\"_blank\">DCRBase_XNOR</a></strong> to <a href='https://wandb.ai/alih999954-politecnico-di-torino/pytorch_explain' target=\"_blank\">Weights & Biases</a> (<a href='https://wandb.me/run' target=\"_blank\">docs</a>)<br/>"
            ],
            "text/plain": [
              "<IPython.core.display.HTML object>"
            ]
          },
          "metadata": {},
          "output_type": "display_data"
        },
        {
          "data": {
            "text/html": [
              " View project at <a href='https://wandb.ai/alih999954-politecnico-di-torino/pytorch_explain' target=\"_blank\">https://wandb.ai/alih999954-politecnico-di-torino/pytorch_explain</a>"
            ],
            "text/plain": [
              "<IPython.core.display.HTML object>"
            ]
          },
          "metadata": {},
          "output_type": "display_data"
        },
        {
          "data": {
            "text/html": [
              " View run at <a href='https://wandb.ai/alih999954-politecnico-di-torino/pytorch_explain/runs/huaswhug' target=\"_blank\">https://wandb.ai/alih999954-politecnico-di-torino/pytorch_explain/runs/huaswhug</a>"
            ],
            "text/plain": [
              "<IPython.core.display.HTML object>"
            ]
          },
          "metadata": {},
          "output_type": "display_data"
        },
        {
          "name": "stdout",
          "output_type": "stream",
          "text": [
            "-------------------------- Training XNOR using DCRBase ----------------------\n",
            "Epoch 1, Loss: 1.0339123417030682, Train Accuracy: 0.49642857142857144, Val Loss: 1.023291371085427, Val Accuracy: 0.5314285714285715, Train Precision: 0.7502847438582154, Train Recall: 0.49642857142857144, Train F1: 0.33056105005115766, Val Precision: 0.7361263154031763, Val Recall: 0.5314285714285715, Val F1: 0.40041050284805774, Epoch Time: 0.28998541831970215\n",
            "Epoch 2, Loss: 1.0096844475377689, Train Accuracy: 0.5603571428571429, Val Loss: 0.9937947175719521, Val Accuracy: 0.5842857142857143, Train Precision: 0.5840025510204082, Train Recall: 0.5603571428571429, Train F1: 0.5311294291902021, Val Precision: 0.5857245560561887, Val Recall: 0.5842857142857143, Val F1: 0.5827848423439831, Epoch Time: 0.2968778610229492\n",
            "Epoch 3, Loss: 0.9720776053992185, Train Accuracy: 0.6678571428571428, Val Loss: 0.9485270001671531, Val Accuracy: 0.6928571428571428, Train Precision: 0.6856588956145333, Train Recall: 0.6678571428571428, Train F1: 0.6587600616495761, Val Precision: 0.7318234610917538, Val Recall: 0.6928571428571428, Val F1: 0.6796840496008154, Epoch Time: 0.2899298667907715\n",
            "Epoch 4, Loss: 0.9139177121899345, Train Accuracy: 0.7214285714285714, Val Loss: 0.8757484501058405, Val Accuracy: 0.7171428571428572, Train Precision: 0.7767798013589132, Train Recall: 0.7214285714285714, Train F1: 0.7058910247867802, Val Precision: 0.7804390298759232, Val Recall: 0.7171428571428572, Val F1: 0.7005148365316274, Epoch Time: 0.29654431343078613\n",
            "Epoch 5, Loss: 0.8302090127359737, Train Accuracy: 0.7246428571428571, Val Loss: 0.7816669832576405, Val Accuracy: 0.7171428571428572, Train Precision: 0.786760855918294, Train Recall: 0.7246428571428571, Train F1: 0.7079914945233511, Val Precision: 0.7844579689251231, Val Recall: 0.7171428571428572, Val F1: 0.6996486608225634, Epoch Time: 0.39211297035217285\n",
            "Epoch 6, Loss: 0.7321747758171775, Train Accuracy: 0.7264285714285714, Val Loss: 0.6871810176155784, Val Accuracy: 0.7185714285714285, Train Precision: 0.79031742793045, Train Recall: 0.7264285714285714, Train F1: 0.7096209435661281, Val Precision: 0.7832699576291589, Val Recall: 0.7185714285714285, Val F1: 0.7018143343340254, Epoch Time: 0.29502367973327637\n",
            "Epoch 7, Loss: 0.6434518979354338, Train Accuracy: 0.7278571428571429, Val Loss: 0.6046355258334767, Val Accuracy: 0.7328571428571429, Train Precision: 0.7867627468837046, Train Recall: 0.7278571428571429, Train F1: 0.7122757396416801, Val Precision: 0.7955908889871739, Val Recall: 0.7328571428571429, Val F1: 0.7181416050805509, Epoch Time: 0.2835960388183594\n",
            "Epoch 8, Loss: 0.5642297931692817, Train Accuracy: 0.7789285714285714, Val Loss: 0.5285405137322166, Val Accuracy: 0.7957142857142857, Train Precision: 0.8171560191843875, Train Recall: 0.7789285714285714, Train F1: 0.7715787130876588, Val Precision: 0.8345066523514799, Val Recall: 0.7957142857142857, Val F1: 0.7897428300897043, Epoch Time: 0.30640721321105957\n",
            "Epoch 9, Loss: 0.49349110234867444, Train Accuracy: 0.8296428571428571, Val Loss: 0.4658317972313274, Val Accuracy: 0.8357142857142857, Train Precision: 0.8553915993480726, Train Recall: 0.8296428571428571, Train F1: 0.8262362580277145, Val Precision: 0.8528752808823745, Val Recall: 0.8357142857142857, Val F1: 0.8337555760368663, Epoch Time: 0.3058183193206787\n",
            "Epoch 10, Loss: 0.43418996103785257, Train Accuracy: 0.8853571428571428, Val Loss: 0.41163467277180066, Val Accuracy: 0.8957142857142857, Train Precision: 0.8952458348486977, Train Recall: 0.8853571428571428, Train F1: 0.884538709487767, Val Precision: 0.9018115557911477, Val Recall: 0.8957142857142857, Val F1: 0.8953377783199684, Epoch Time: 0.28855466842651367\n",
            "Epoch 11, Loss: 0.38226118751547555, Train Accuracy: 0.9082142857142858, Val Loss: 0.3640938563780351, Val Accuracy: 0.9028571428571428, Train Precision: 0.9126837336051046, Train Recall: 0.9082142857142858, Train F1: 0.9079154148717543, Val Precision: 0.9054732008676709, Val Recall: 0.9028571428571428, Val F1: 0.9027126169397548, Epoch Time: 0.31203651428222656\n",
            "Convergence achieved at epoch 11 with validation accuracy 0.9028571428571428\n",
            "Epoch 12, Loss: 0.334830834784291, Train Accuracy: 0.9339285714285714, Val Loss: 0.3193584680557251, Val Accuracy: 0.9128571428571428, Train Precision: 0.9354985731102813, Train Recall: 0.9339285714285714, Train F1: 0.9338489330161416, Val Precision: 0.9153470111448834, Val Recall: 0.9128571428571428, Val F1: 0.912736945812808, Epoch Time: 0.31597900390625\n",
            "Epoch 13, Loss: 0.29057142036882316, Train Accuracy: 0.9464285714285714, Val Loss: 0.26979332755912433, Val Accuracy: 0.9585714285714285, Train Precision: 0.9476542778135126, Train Recall: 0.9464285714285714, Train F1: 0.9463779419813902, Val Precision: 0.9596613096991029, Val Recall: 0.9585714285714285, Val F1: 0.9585498589002239, Epoch Time: 0.30221128463745117\n",
            "Epoch 14, Loss: 0.24475873668085446, Train Accuracy: 0.9635714285714285, Val Loss: 0.23060662773522464, Val Accuracy: 0.9685714285714285, Train Precision: 0.9639042178640416, Train Recall: 0.9635714285714285, Train F1: 0.9635601223729715, Val Precision: 0.9695565616146274, Val Recall: 0.9685714285714285, Val F1: 0.9685570554752514, Epoch Time: 0.3017570972442627\n",
            "Epoch 15, Loss: 0.21367017619989134, Train Accuracy: 0.9703571428571428, Val Loss: 0.2045444819060239, Val Accuracy: 0.9728571428571429, Train Precision: 0.9707149754413378, Train Recall: 0.9703571428571428, Train F1: 0.9703475529132181, Val Precision: 0.9735131443142492, Val Recall: 0.9728571428571429, Val F1: 0.9728492196177891, Epoch Time: 0.2998006343841553\n",
            "Epoch 16, Loss: 0.1914657706564123, Train Accuracy: 0.975, Val Loss: 0.18655252863060345, Val Accuracy: 0.9771428571428571, Train Precision: 0.9751596391893913, Train Recall: 0.975, Train F1: 0.9749956872880646, Val Precision: 0.9772842271017409, Val Recall: 0.9771428571428571, Val F1: 0.9771417375727719, Epoch Time: 0.3091006278991699\n",
            "Epoch 17, Loss: 0.17603762244636362, Train Accuracy: 0.9760714285714286, Val Loss: 0.17487113177776337, Val Accuracy: 0.9728571428571429, Train Precision: 0.9762193783145775, Train Recall: 0.9760714285714286, Train F1: 0.9760675358350027, Val Precision: 0.9728612244897958, Val Recall: 0.9728571428571429, Val F1: 0.9728571982508422, Epoch Time: 0.28348565101623535\n",
            "Epoch 18, Loss: 0.16402224061841314, Train Accuracy: 0.9803571428571428, Val Loss: 0.16274181279269131, Val Accuracy: 0.98, Train Precision: 0.9805071713912844, Train Recall: 0.9803571428571428, Train F1: 0.980353947327241, Val Precision: 0.9800633515931783, Val Recall: 0.98, Val F1: 0.9799996734667221, Epoch Time: 0.31132006645202637\n",
            "Epoch 19, Loss: 0.15512734499167313, Train Accuracy: 0.98, Val Loss: 0.15354761616750198, Val Accuracy: 0.9828571428571429, Train Precision: 0.9801156845477405, Train Recall: 0.98, Train F1: 0.9799973053305462, Val Precision: 0.9829207743542674, Val Recall: 0.9828571428571429, Val F1: 0.9828568629714761, Epoch Time: 0.3128972053527832\n",
            "Epoch 20, Loss: 0.14545956237072294, Train Accuracy: 0.9835714285714285, Val Loss: 0.14549952271309766, Val Accuracy: 0.9828571428571429, Train Precision: 0.9837355056070115, Train Recall: 0.9835714285714285, Train F1: 0.9835685945035854, Val Precision: 0.9829999125185899, Val Recall: 0.9828571428571429, Val F1: 0.9828563031795791, Epoch Time: 0.3022575378417969\n",
            "Epoch 21, Loss: 0.13847050392492252, Train Accuracy: 0.9842857142857143, Val Loss: 0.1401572193611752, Val Accuracy: 0.9742857142857143, Train Precision: 0.9844256312554169, Train Recall: 0.9842857142857143, Train F1: 0.9842833082706768, Val Precision: 0.9743485060709999, Val Recall: 0.9742857142857143, Val F1: 0.9742852944572142, Epoch Time: 0.30986571311950684\n",
            "Epoch 22, Loss: 0.1319683366878466, Train Accuracy: 0.9846428571428572, Val Loss: 0.13189983571117575, Val Accuracy: 0.9857142857142858, Train Precision: 0.9847714035111264, Train Recall: 0.9846428571428572, Train F1: 0.9846406488772901, Val Precision: 0.9857303791401211, Val Recall: 0.9857142857142858, Val F1: 0.9857142857142858, Epoch Time: 0.37171459197998047\n",
            "Epoch 23, Loss: 0.12626716663891618, Train Accuracy: 0.9842857142857143, Val Loss: 0.12823500822890888, Val Accuracy: 0.9785714285714285, Train Precision: 0.9843825173418145, Train Recall: 0.9842857142857143, Train F1: 0.9842838697645581, Val Precision: 0.9786071148678909, Val Recall: 0.9785714285714285, Val F1: 0.9785712973758255, Epoch Time: 0.41097331047058105\n",
            "Epoch 24, Loss: 0.12227144278585911, Train Accuracy: 0.9867857142857143, Val Loss: 0.12333148582415147, Val Accuracy: 0.9814285714285714, Train Precision: 0.986826561828759, Train Recall: 0.9867857142857143, Train F1: 0.9867848595736128, Val Precision: 0.9814643976712942, Val Recall: 0.9814285714285714, Val F1: 0.9814284577257155, Epoch Time: 0.45091891288757324\n",
            "Epoch 25, Loss: 0.1171703827990727, Train Accuracy: 0.9875, Val Loss: 0.11824483695355328, Val Accuracy: 0.9928571428571429, Train Precision: 0.9875291922524171, Train Recall: 0.9875, Train F1: 0.987499350970852, Val Precision: 0.9928611080011943, Val Recall: 0.9928571428571429, Val F1: 0.9928570991245611, Epoch Time: 0.41629958152770996\n",
            "Epoch 26, Loss: 0.11366370709782297, Train Accuracy: 0.9867857142857143, Val Loss: 0.11643330752849579, Val Accuracy: 0.9771428571428571, Train Precision: 0.986826561828759, Train Recall: 0.9867857142857143, Train F1: 0.9867848595736128, Val Precision: 0.9771428571428571, Val Recall: 0.9771428571428571, Val F1: 0.9771428571428571, Epoch Time: 0.4307363033294678\n",
            "Epoch 27, Loss: 0.11074888062748042, Train Accuracy: 0.9867857142857143, Val Loss: 0.11347929997877641, Val Accuracy: 0.9814285714285714, Train Precision: 0.9868148102999366, Train Recall: 0.9867857142857143, Train F1: 0.9867850281691865, Val Precision: 0.9814326530612245, Val Recall: 0.9814285714285714, Val F1: 0.9814286093295235, Epoch Time: 0.428905725479126\n",
            "Epoch 28, Loss: 0.10712912678718567, Train Accuracy: 0.9864285714285714, Val Loss: 0.10862294110384854, Val Accuracy: 0.9914285714285714, Train Precision: 0.9864906913775612, Train Recall: 0.9864285714285714, Train F1: 0.9864274079014718, Val Precision: 0.9914285714285714, Val Recall: 0.9914285714285714, Val F1: 0.9914285714285714, Epoch Time: 0.38326001167297363\n",
            "Epoch 29, Loss: 0.10443726808510044, Train Accuracy: 0.9903571428571428, Val Loss: 0.10563493926416744, Val Accuracy: 0.9928571428571429, Train Precision: 0.9903630786051222, Train Recall: 0.9903571428571428, Train F1: 0.99035695219055, Val Precision: 0.9928611080011943, Val Recall: 0.9928571428571429, Val F1: 0.9928570991245611, Epoch Time: 0.48899245262145996\n",
            "Epoch 30, Loss: 0.10166085748509927, Train Accuracy: 0.9878571428571429, Val Loss: 0.10677316039800644, Val Accuracy: 0.9771428571428571, Train Precision: 0.9878656218240781, Train Recall: 0.9878571428571429, Train F1: 0.9878568454422036, Val Precision: 0.977205928832089, Val Recall: 0.9771428571428571, Val F1: 0.9771424839619685, Epoch Time: 0.42617177963256836\n",
            "Epoch 31, Loss: 0.09966525774110448, Train Accuracy: 0.99, Val Loss: 0.10428697954524647, Val Accuracy: 0.9757142857142858, Train Precision: 0.9900086036254637, Train Recall: 0.99, Train F1: 0.98999975507005, Val Precision: 0.9757183673469387, Val Recall: 0.9757142857142858, Val F1: 0.9757143352770691, Epoch Time: 0.46608757972717285\n",
            "Epoch 32, Loss: 0.09803192029622468, Train Accuracy: 0.9842857142857143, Val Loss: 0.1003441803834655, Val Accuracy: 0.9857142857142858, Train Precision: 0.9843473267283126, Train Recall: 0.9842857142857143, Train F1: 0.9842843670438094, Val Precision: 0.9857303791401211, Val Recall: 0.9857142857142858, Val F1: 0.9857142857142858, Epoch Time: 0.4567451477050781\n",
            "Epoch 33, Loss: 0.09501993918622081, Train Accuracy: 0.9907142857142858, Val Loss: 0.09665176475589926, Val Accuracy: 0.9914285714285714, Train Precision: 0.990718045743917, Train Recall: 0.9907142857142858, Train F1: 0.9907141435696881, Val Precision: 0.9914444793028526, Val Recall: 0.9914285714285714, Val F1: 0.9914284314823109, Epoch Time: 0.3100273609161377\n",
            "Epoch 34, Loss: 0.09280973114073277, Train Accuracy: 0.9878571428571429, Val Loss: 0.09599934450604698, Val Accuracy: 0.9871428571428571, Train Precision: 0.9879048187529225, Train Recall: 0.9878571428571429, Train F1: 0.9878562753331585, Val Precision: 0.9871469387755103, Val Recall: 0.9871428571428571, Val F1: 0.9871428833819778, Epoch Time: 0.3137831687927246\n",
            "Epoch 35, Loss: 0.09207390985366973, Train Accuracy: 0.9885714285714285, Val Loss: 0.0932128829034892, Val Accuracy: 0.9885714285714285, Train Precision: 0.9885799490912067, Train Recall: 0.9885714285714285, Train F1: 0.9885711486514857, Val Precision: 0.9886348817542939, Val Recall: 0.9885714285714285, Val F1: 0.9885708687635361, Epoch Time: 0.28291845321655273\n",
            "Epoch 36, Loss: 0.08961691411042755, Train Accuracy: 0.9907142857142858, Val Loss: 0.09120664745569229, Val Accuracy: 0.9885714285714285, Train Precision: 0.990718045743917, Train Recall: 0.9907142857142858, Train F1: 0.9907141435696881, Val Precision: 0.9885871964937366, Val Recall: 0.9885714285714285, Val F1: 0.9885712419764143, Epoch Time: 0.29675984382629395\n",
            "Epoch 37, Loss: 0.087802718562836, Train Accuracy: 0.9882142857142857, Val Loss: 0.08911055732857097, Val Accuracy: 0.9914285714285714, Train Precision: 0.9882435742048977, Train Recall: 0.9882142857142857, Train F1: 0.9882136737725176, Val Precision: 0.9914444793028526, Val Recall: 0.9914285714285714, Val F1: 0.9914284314823109, Epoch Time: 0.3089723587036133\n",
            "Epoch 38, Loss: 0.08609043298797174, Train Accuracy: 0.9903571428571428, Val Loss: 0.08918595652688634, Val Accuracy: 0.9857142857142858, Train Precision: 0.9903630786051222, Train Recall: 0.9903571428571428, Train F1: 0.99035695219055, Val Precision: 0.9857142857142858, Val Recall: 0.9857142857142858, Val F1: 0.9857142857142858, Epoch Time: 0.29649901390075684\n",
            "Epoch 39, Loss: 0.08463023475963961, Train Accuracy: 0.9925, Val Loss: 0.08740603348070924, Val Accuracy: 0.9814285714285714, Train Precision: 0.9925119667279035, Train Recall: 0.9925, Train F1: 0.9924997789871577, Val Precision: 0.9814323499776086, Val Recall: 0.9814285714285714, Val F1: 0.981428457723859, Epoch Time: 0.3023669719696045\n",
            "Epoch 40, Loss: 0.08395004932853309, Train Accuracy: 0.9885714285714285, Val Loss: 0.08427015590396794, Val Accuracy: 0.9942857142857143, Train Precision: 0.9885867789640423, Train Recall: 0.9885714285714285, Train F1: 0.9885710320114984, Val Precision: 0.9943017621119686, Val Recall: 0.9942857142857143, Val F1: 0.9942856209882072, Epoch Time: 0.3535168170928955\n",
            "Epoch 41, Loss: 0.08149892845275727, Train Accuracy: 0.9917857142857143, Val Loss: 0.08426100930029695, Val Accuracy: 0.9871428571428571, Train Precision: 0.9917917156422067, Train Recall: 0.9917857142857143, Train F1: 0.9917855518660241, Val Precision: 0.9871467289894015, Val Recall: 0.9871428571428571, Val F1: 0.9871427784242102, Epoch Time: 0.30413222312927246\n",
            "Total Training Time: 13.994690179824829\n",
            "\n",
            " Training on XNOR using DCRBase has been completed!\n"
          ]
        },
        {
          "data": {
            "application/vnd.jupyter.widget-view+json": {
              "model_id": "5db69eefc00e4a7fbf78df2761a5268d",
              "version_major": 2,
              "version_minor": 0
            },
            "text/plain": [
              "VBox(children=(Label(value='0.001 MB of 0.001 MB uploaded\\r'), FloatProgress(value=1.0, max=1.0)))"
            ]
          },
          "metadata": {},
          "output_type": "display_data"
        },
        {
          "data": {
            "text/html": [
              "<style>\n",
              "    table.wandb td:nth-child(1) { padding: 0 10px; text-align: left ; width: auto;} td:nth-child(2) {text-align: left ; width: 100%}\n",
              "    .wandb-row { display: flex; flex-direction: row; flex-wrap: wrap; justify-content: flex-start; width: 100% }\n",
              "    .wandb-col { display: flex; flex-direction: column; flex-basis: 100%; flex: 1; padding: 10px; }\n",
              "    </style>\n",
              "<div class=\"wandb-row\"><div class=\"wandb-col\"><h3>Run history:</h3><br/><table class=\"wandb\"><tr><td>convergence_time</td><td>▁</td></tr><tr><td>epoch</td><td>▁▁▁▂▂▂▂▂▂▃▃▃▃▃▃▄▄▄▄▄▅▅▅▅▅▅▆▆▆▆▆▆▇▇▇▇▇▇██</td></tr><tr><td>epoch_time</td><td>▁▁▁▁▅▁▁▂▂▁▂▂▂▂▂▂▁▂▂▂▂▄▅▇▆▆▆▄█▆▇▇▂▂▁▁▂▁▂▂</td></tr><tr><td>learning_rate</td><td>▁▁▁▁▁▁▁▁▁▁▁▁▁▁▁▁▁▁▁▁▁▁▁▁▁▁▁▁▁▁▁▁▁▁▁▁▁▁▁▁</td></tr><tr><td>loss</td><td>███▇▇▆▅▅▄▄▃▃▃▂▂▂▂▂▂▁▁▁▁▁▁▁▁▁▁▁▁▁▁▁▁▁▁▁▁▁</td></tr><tr><td>total_training_time</td><td>▁</td></tr><tr><td>train_accuracy</td><td>▁▂▃▄▄▄▄▅▆▆▇▇▇███████████████████████████</td></tr><tr><td>train_concept_accuracy</td><td>▇▁▅▆█▇▇▅▅▅▇▆▇▇▆█▇▇▇▆▆▆▅▆▆▆▆▆▆▆▅▆▆▅▇▅▆▆▆▆</td></tr><tr><td>train_concept_loss</td><td>███▇▆▅▄▄▃▃▂▂▂▂▂▂▁▂▂▂▂▁▁▁▁▁▁▁▁▁▁▁▁▁▁▁▁▁▁▁</td></tr><tr><td>train_f1</td><td>▁▃▄▅▅▅▅▆▆▇▇▇████████████████████████████</td></tr><tr><td>train_precision</td><td>▄▁▃▄▄▅▄▅▆▆▇▇▇███████████████████████████</td></tr><tr><td>train_recall</td><td>▁▂▃▄▄▄▄▅▆▆▇▇▇███████████████████████████</td></tr><tr><td>train_task_accuracy</td><td>▁▂▃▄▄▄▄▅▆▆▇▇▇███████████████████████████</td></tr><tr><td>train_task_loss</td><td>██████▇▇▆▆▅▄▄▃▃▂▂▂▂▂▂▁▂▂▁▂▂▁▂▁▂▁▁▂▁▁▁▁▁▁</td></tr><tr><td>val_accuracy</td><td>▁▂▃▄▄▄▄▅▆▇▇▇▇███████████████████████████</td></tr><tr><td>val_concept_accuracy</td><td>█▄▁▂▂▃▄▂▃▃▃▅▄▄▄▃▄▃▄▃▃▃▃▃▄▃▄▄▃▂▃▄▄▄▄▃▄▄▃▃</td></tr><tr><td>val_concept_loss</td><td>██▇▇▆▅▄▃▃▃▂▂▂▂▂▂▁▁▁▁▁▁▁▁▁▁▁▁▁▁▁▁▁▁▁▁▁▁▁▁</td></tr><tr><td>val_f1</td><td>▁▃▄▅▅▅▅▆▆▇▇▇████████████████████████████</td></tr><tr><td>val_learning_rate</td><td>▁▁▁▁▁▁▁▁▁▁▁▁▁▁▁▁▁▁▁▁▁▁▁▁▁▁▁▁▁▁▁▁▁▁▁▁▁▁▁▁</td></tr><tr><td>val_loss</td><td>██▇▇▆▅▅▄▄▃▃▃▂▂▂▂▂▂▂▁▁▁▁▁▁▁▁▁▁▁▁▁▁▁▁▁▁▁▁▁</td></tr><tr><td>val_precision</td><td>▄▁▄▄▄▄▅▅▆▆▆▇▇███████████████████████████</td></tr><tr><td>val_recall</td><td>▁▂▃▄▄▄▄▅▆▇▇▇▇███████████████████████████</td></tr><tr><td>val_task_accuracy</td><td>▁▂▃▄▄▄▄▅▆▇▇▇▇███████████████████████████</td></tr><tr><td>val_task_loss</td><td>█████▇▇▇▆▆▆▅▃▃▃▃▂▂▂▂▂▁▂▂▂▂▂▂▂▂▂▁▁▂▂▁▁▁▁▁</td></tr></table><br/></div><div class=\"wandb-col\"><h3>Run summary:</h3><br/><table class=\"wandb\"><tr><td>convergence_time</td><td>3.37883</td></tr><tr><td>epoch</td><td>41</td></tr><tr><td>epoch_time</td><td>0.30413</td></tr><tr><td>learning_rate</td><td>0.0005</td></tr><tr><td>loss</td><td>0.0815</td></tr><tr><td>total_training_time</td><td>13.99469</td></tr><tr><td>train_accuracy</td><td>0.99179</td></tr><tr><td>train_concept_accuracy</td><td>0.7475</td></tr><tr><td>train_concept_loss</td><td>0.04733</td></tr><tr><td>train_f1</td><td>0.99179</td></tr><tr><td>train_precision</td><td>0.99179</td></tr><tr><td>train_recall</td><td>0.99179</td></tr><tr><td>train_task_accuracy</td><td>0.99179</td></tr><tr><td>train_task_loss</td><td>0.09175</td></tr><tr><td>val_accuracy</td><td>0.98714</td></tr><tr><td>val_concept_accuracy</td><td>0.73857</td></tr><tr><td>val_concept_loss</td><td>0.04288</td></tr><tr><td>val_f1</td><td>0.98714</td></tr><tr><td>val_learning_rate</td><td>0.0005</td></tr><tr><td>val_loss</td><td>0.08426</td></tr><tr><td>val_precision</td><td>0.98715</td></tr><tr><td>val_recall</td><td>0.98714</td></tr><tr><td>val_task_accuracy</td><td>0.98714</td></tr><tr><td>val_task_loss</td><td>0.08416</td></tr></table><br/></div></div>"
            ],
            "text/plain": [
              "<IPython.core.display.HTML object>"
            ]
          },
          "metadata": {},
          "output_type": "display_data"
        },
        {
          "data": {
            "text/html": [
              " View run <strong style=\"color:#cdcd00\">DCRBase_XNOR</strong> at: <a href='https://wandb.ai/alih999954-politecnico-di-torino/pytorch_explain/runs/huaswhug' target=\"_blank\">https://wandb.ai/alih999954-politecnico-di-torino/pytorch_explain/runs/huaswhug</a><br/> View project at: <a href='https://wandb.ai/alih999954-politecnico-di-torino/pytorch_explain' target=\"_blank\">https://wandb.ai/alih999954-politecnico-di-torino/pytorch_explain</a><br/>Synced 5 W&B file(s), 0 media file(s), 0 artifact file(s) and 0 other file(s)"
            ],
            "text/plain": [
              "<IPython.core.display.HTML object>"
            ]
          },
          "metadata": {},
          "output_type": "display_data"
        },
        {
          "data": {
            "text/html": [
              "Find logs at: <code>./wandb/run-20240723_091513-huaswhug/logs</code>"
            ],
            "text/plain": [
              "<IPython.core.display.HTML object>"
            ]
          },
          "metadata": {},
          "output_type": "display_data"
        },
        {
          "data": {
            "text/html": [
              "The new W&B backend becomes opt-out in version 0.18.0; try it out with `wandb.require(\"core\")`! See https://wandb.me/wandb-core for more information."
            ],
            "text/plain": [
              "<IPython.core.display.HTML object>"
            ]
          },
          "metadata": {},
          "output_type": "display_data"
        },
        {
          "name": "stdout",
          "output_type": "stream",
          "text": [
            "The following dataset has been loaded successfully: IsBinEven\n"
          ]
        },
        {
          "data": {
            "text/html": [
              "Tracking run with wandb version 0.17.5"
            ],
            "text/plain": [
              "<IPython.core.display.HTML object>"
            ]
          },
          "metadata": {},
          "output_type": "display_data"
        },
        {
          "data": {
            "text/html": [
              "Run data is saved locally in <code>/content/pytorch_explain/wandb/run-20240723_091534-3xj043c3</code>"
            ],
            "text/plain": [
              "<IPython.core.display.HTML object>"
            ]
          },
          "metadata": {},
          "output_type": "display_data"
        },
        {
          "data": {
            "text/html": [
              "Syncing run <strong><a href='https://wandb.ai/alih999954-politecnico-di-torino/pytorch_explain/runs/3xj043c3' target=\"_blank\">DCRBase_IsBinEven</a></strong> to <a href='https://wandb.ai/alih999954-politecnico-di-torino/pytorch_explain' target=\"_blank\">Weights & Biases</a> (<a href='https://wandb.me/run' target=\"_blank\">docs</a>)<br/>"
            ],
            "text/plain": [
              "<IPython.core.display.HTML object>"
            ]
          },
          "metadata": {},
          "output_type": "display_data"
        },
        {
          "data": {
            "text/html": [
              " View project at <a href='https://wandb.ai/alih999954-politecnico-di-torino/pytorch_explain' target=\"_blank\">https://wandb.ai/alih999954-politecnico-di-torino/pytorch_explain</a>"
            ],
            "text/plain": [
              "<IPython.core.display.HTML object>"
            ]
          },
          "metadata": {},
          "output_type": "display_data"
        },
        {
          "data": {
            "text/html": [
              " View run at <a href='https://wandb.ai/alih999954-politecnico-di-torino/pytorch_explain/runs/3xj043c3' target=\"_blank\">https://wandb.ai/alih999954-politecnico-di-torino/pytorch_explain/runs/3xj043c3</a>"
            ],
            "text/plain": [
              "<IPython.core.display.HTML object>"
            ]
          },
          "metadata": {},
          "output_type": "display_data"
        },
        {
          "name": "stdout",
          "output_type": "stream",
          "text": [
            "-------------------------- Training IsBinEven using DCRBase ----------------------\n",
            "Epoch 1, Loss: 1.0319461280649358, Train Accuracy: 0.4932142857142857, Val Loss: 1.0240461392836138, Val Accuracy: 0.49857142857142855, Train Precision: 0.24326033163265307, Train Recall: 0.4932142857142857, Train F1: 0.3258210612635392, Val Precision: 0.2485734693877551, Val Recall: 0.49857142857142855, Val F1: 0.3317472422715511, Epoch Time: 0.5314414501190186\n",
            "Epoch 2, Loss: 1.014671279625459, Train Accuracy: 0.49392857142857144, Val Loss: 1.0018833875656128, Val Accuracy: 0.5028571428571429, Train Precision: 0.7502199274992342, Train Recall: 0.49392857142857144, Train F1: 0.3274035545846925, Val Precision: 0.7510719409715105, Val Recall: 0.5028571428571429, Val F1: 0.34119750554400713, Epoch Time: 0.48102664947509766\n",
            "Epoch 3, Loss: 0.9844159361991015, Train Accuracy: 0.5071428571428571, Val Loss: 0.9625050859017805, Val Accuracy: 0.5442857142857143, Train Precision: 0.7534821751953226, Train Recall: 0.5071428571428571, Train F1: 0.3560009009952676, Val Precision: 0.7471954727837081, Val Recall: 0.5442857142857143, Val F1: 0.4278367346938775, Epoch Time: 0.5586917400360107\n",
            "Epoch 4, Loss: 0.9336788776245984, Train Accuracy: 0.5585714285714286, Val Loss: 0.8979259295897051, Val Accuracy: 0.6242857142857143, Train Precision: 0.7643276759414427, Train Recall: 0.5585714285714286, Train F1: 0.45692855484626055, Val Precision: 0.7857446311858077, Val Recall: 0.6242857142857143, Val F1: 0.5631540729518586, Epoch Time: 0.4556560516357422\n",
            "Epoch 5, Loss: 0.8567681217735464, Train Accuracy: 0.6457142857142857, Val Loss: 0.8162839900363575, Val Accuracy: 0.6957142857142857, Train Precision: 0.7938185539702607, Train Recall: 0.6457142857142857, Train F1: 0.5973318506176603, Val Precision: 0.8044097199685568, Val Recall: 0.6957142857142857, Val F1: 0.6662738665781486, Epoch Time: 0.5311226844787598\n",
            "Epoch 6, Loss: 0.7799766117876227, Train Accuracy: 0.6975, Val Loss: 0.745121565732089, Val Accuracy: 0.7485714285714286, Train Precision: 0.8014261363636365, Train Recall: 0.6975, Train F1: 0.6707379317041029, Val Precision: 0.8254985530123651, Val Recall: 0.7485714285714286, Val F1: 0.7330210318422785, Epoch Time: 0.5408833026885986\n",
            "Epoch 7, Loss: 0.7060957320711829, Train Accuracy: 0.7860714285714285, Val Loss: 0.6672346104275096, Val Accuracy: 0.8728571428571429, Train Precision: 0.8405547148032494, Train Recall: 0.7860714285714285, Train F1: 0.777902618354182, Val Precision: 0.8940166112956811, Val Recall: 0.8728571428571429, Val F1: 0.8711753402594503, Epoch Time: 0.5548117160797119\n",
            "Epoch 8, Loss: 0.6183541755784642, Train Accuracy: 0.9025, Val Loss: 0.5773686062205922, Val Accuracy: 0.94, Train Precision: 0.9149686531122364, Train Recall: 0.9025, Train F1: 0.901888367696993, Val Precision: 0.941450806048846, Val Recall: 0.94, Val F1: 0.9399558892002058, Epoch Time: 0.45154237747192383\n",
            "Convergence achieved at epoch 8 with validation accuracy 0.94\n",
            "Epoch 9, Loss: 0.5226296078075062, Train Accuracy: 0.9596428571428571, Val Loss: 0.4938410141251304, Val Accuracy: 0.96, Train Precision: 0.9604829598506067, Train Recall: 0.9596428571428571, Train F1: 0.959636478914184, Val Precision: 0.9605451915769861, Val Recall: 0.96, Val F1: 0.9599902020820575, Epoch Time: 0.34339165687561035\n",
            "Epoch 10, Loss: 0.45211983743039047, Train Accuracy: 0.9728571428571429, Val Loss: 0.4354258152571591, Val Accuracy: 0.9757142857142858, Train Precision: 0.9729589067574598, Train Recall: 0.9728571428571429, Train F1: 0.9728583892643377, Val Precision: 0.9757183673469387, Val Recall: 0.9757142857142858, Val F1: 0.9757143352770691, Epoch Time: 0.399338960647583\n",
            "Epoch 11, Loss: 0.39775025234981015, Train Accuracy: 0.9807142857142858, Val Loss: 0.38588305765932257, Val Accuracy: 0.9828571428571429, Train Precision: 0.9807314791955453, Train Recall: 0.9807142857142858, Train F1: 0.9807148761610754, Val Precision: 0.9831106320079052, Val Recall: 0.9828571428571429, Val F1: 0.982855463433465, Epoch Time: 0.37699460983276367\n",
            "Epoch 12, Loss: 0.34996303577314725, Train Accuracy: 0.9846428571428572, Val Loss: 0.34241433306173846, Val Accuracy: 0.9871428571428571, Train Precision: 0.9846744150246306, Train Recall: 0.9846428571428572, Train F1: 0.9846434389662727, Val Precision: 0.987337081063926, Val Recall: 0.9871428571428571, Val F1: 0.9871412038083265, Epoch Time: 0.36633968353271484\n",
            "Epoch 13, Loss: 0.30607078021222894, Train Accuracy: 0.9903571428571428, Val Loss: 0.30111087181351404, Val Accuracy: 0.9714285714285714, Train Precision: 0.9903596752578762, Train Recall: 0.9903571428571428, Train F1: 0.9903572720227332, Val Precision: 0.9729771583430121, Val Recall: 0.9714285714285714, Val F1: 0.9714075662858123, Epoch Time: 0.3448789119720459\n",
            "Epoch 14, Loss: 0.2671582857993516, Train Accuracy: 0.9885714285714285, Val Loss: 0.26530019261620263, Val Accuracy: 0.9942857142857143, Train Precision: 0.9885974646328314, Train Recall: 0.9885714285714285, Train F1: 0.9885718367755144, Val Precision: 0.9942857142857143, Val Recall: 0.9942857142857143, Val F1: 0.9942857142857143, Epoch Time: 0.3650331497192383\n",
            "Epoch 15, Loss: 0.2350439585068009, Train Accuracy: 0.995, Val Loss: 0.24399157545783304, Val Accuracy: 0.98, Train Precision: 0.9950042351800588, Train Recall: 0.995, Train F1: 0.9950000867474847, Val Precision: 0.9807671232876712, Val Recall: 0.98, Val F1: 0.9799908523636839, Epoch Time: 0.3583223819732666\n",
            "Epoch 16, Loss: 0.21508153358643706, Train Accuracy: 0.9910714285714286, Val Loss: 0.224256464026191, Val Accuracy: 0.9971428571428571, Train Precision: 0.9910715925990728, Train Recall: 0.9910714285714286, Train F1: 0.9910713841477228, Val Precision: 0.9971591371591373, Val Recall: 0.9971428571428571, Val F1: 0.9971428571428571, Epoch Time: 0.3527977466583252\n",
            "Epoch 17, Loss: 0.19980325651439754, Train Accuracy: 0.9925, Val Loss: 0.21109213341366162, Val Accuracy: 0.9957142857142857, Train Precision: 0.9925118076438608, Train Recall: 0.9925, Train F1: 0.992499698582861, Val Precision: 0.9957508116883118, Val Recall: 0.9957142857142857, Val F1: 0.9957142594751651, Epoch Time: 0.3827552795410156\n",
            "Epoch 18, Loss: 0.18779553269798105, Train Accuracy: 0.9935714285714285, Val Loss: 0.20110464908859946, Val Accuracy: 0.9985714285714286, Train Precision: 0.9935714285714285, Train Recall: 0.9935714285714285, Train F1: 0.9935714285714285, Val Precision: 0.9985755102040816, Val Recall: 0.9985714285714286, Val F1: 0.9985714314868863, Epoch Time: 0.37604498863220215\n",
            "Epoch 19, Loss: 0.17860868607055058, Train Accuracy: 0.9942857142857143, Val Loss: 0.19209506565874274, Val Accuracy: 0.9914285714285714, Train Precision: 0.9942866124469844, Train Recall: 0.9942857142857143, Train F1: 0.994285655964774, Val Precision: 0.9915734406438631, Val Recall: 0.9914285714285714, Val F1: 0.9914281515897895, Epoch Time: 0.34592103958129883\n",
            "Epoch 20, Loss: 0.16961579329588197, Train Accuracy: 0.9967857142857143, Val Loss: 0.18503500114787708, Val Accuracy: 0.9942857142857143, Train Precision: 0.9967859366342986, Train Recall: 0.9967857142857143, Train F1: 0.9967856982931802, Val Precision: 0.9943017621119686, Val Recall: 0.9942857142857143, Val F1: 0.9942856209882072, Epoch Time: 0.37311244010925293\n",
            "Epoch 21, Loss: 0.16351271691647443, Train Accuracy: 0.9921428571428571, Val Loss: 0.17818370055068622, Val Accuracy: 0.9857142857142858, Train Precision: 0.9921428571428571, Train Recall: 0.9921428571428571, Train F1: 0.9921428571428571, Val Precision: 0.9861100118717848, Val Recall: 0.9857142857142858, Val F1: 0.9857107861435663, Epoch Time: 0.35509157180786133\n",
            "Epoch 22, Loss: 0.15599186075004665, Train Accuracy: 0.9946428571428572, Val Loss: 0.1722289974039251, Val Accuracy: 0.9971428571428571, Train Precision: 0.9946449731901725, Train Recall: 0.9946428571428572, Train F1: 0.9946427730778208, Val Precision: 0.9971428571428571, Val Recall: 0.9971428571428571, Val F1: 0.9971428571428571, Epoch Time: 0.3475160598754883\n",
            "Epoch 23, Loss: 0.15030828152190556, Train Accuracy: 0.9964285714285714, Val Loss: 0.16848577694459396, Val Accuracy: 0.9771428571428571, Train Precision: 0.9964450593269131, Train Recall: 0.9964285714285714, Train F1: 0.9964286807705695, Val Precision: 0.9781393538341766, Val Recall: 0.9771428571428571, Val F1: 0.9771294138514911, Epoch Time: 0.4113011360168457\n",
            "Epoch 24, Loss: 0.14565198123455048, Train Accuracy: 0.9975, Val Loss: 0.1614299010146748, Val Accuracy: 0.9857142857142858, Train Precision: 0.9975002781071972, Train Recall: 0.9975, Train F1: 0.9975000118005298, Val Precision: 0.9861100118717848, Val Recall: 0.9857142857142858, Val F1: 0.9857107861435663, Epoch Time: 0.34766459465026855\n",
            "Epoch 25, Loss: 0.14101687056774442, Train Accuracy: 0.9925, Val Loss: 0.1573221439665014, Val Accuracy: 0.9957142857142857, Train Precision: 0.9925059201071336, Train Recall: 0.9925, Train F1: 0.9924997942754612, Val Precision: 0.9957506053268766, Val Recall: 0.9957142857142857, Val F1: 0.9957141545122564, Epoch Time: 0.36015892028808594\n",
            "Epoch 26, Loss: 0.1364838279445063, Train Accuracy: 0.995, Val Loss: 0.15213808688250455, Val Accuracy: 0.9871428571428571, Train Precision: 0.9950038479773365, Train Recall: 0.995, Train F1: 0.9949998928330304, Val Precision: 0.9874660814046289, Val Recall: 0.9871428571428571, Val F1: 0.98714120391631, Epoch Time: 0.3600771427154541\n",
            "Epoch 27, Loss: 0.13223197548226875, Train Accuracy: 0.9939285714285714, Val Loss: 0.1498950489542701, Val Accuracy: 0.9885714285714285, Train Precision: 0.9939345790249731, Train Recall: 0.9939285714285714, Train F1: 0.993928404889659, Val Precision: 0.9887155979354387, Val Recall: 0.9885714285714285, Val F1: 0.9885708687863861, Epoch Time: 0.3339674472808838\n",
            "Epoch 28, Loss: 0.12838291190564632, Train Accuracy: 0.9942857142857143, Val Loss: 0.14390883391553705, Val Accuracy: 0.9885714285714285, Train Precision: 0.9942857142857143, Train Recall: 0.9942857142857143, Train F1: 0.9942857142857143, Val Precision: 0.9887155979354387, Val Recall: 0.9885714285714285, Val F1: 0.9885708687863861, Epoch Time: 0.3668034076690674\n",
            "Epoch 29, Loss: 0.1250712957910516, Train Accuracy: 0.9957142857142857, Val Loss: 0.14305405115539377, Val Accuracy: 0.9971428571428571, Train Precision: 0.9957181672283709, Train Recall: 0.9957142857142857, Train F1: 0.9957141938568829, Val Precision: 0.9971428571428571, Val Recall: 0.9971428571428571, Val F1: 0.9971428571428571, Epoch Time: 0.35748982429504395\n",
            "Epoch 30, Loss: 0.12181063351983373, Train Accuracy: 0.9967857142857143, Val Loss: 0.13823027366941626, Val Accuracy: 0.9957142857142857, Train Precision: 0.9967859989537629, Train Recall: 0.9967857142857143, Train F1: 0.9967857294578242, Val Precision: 0.9957506053268766, Val Recall: 0.9957142857142857, Val F1: 0.9957141545122564, Epoch Time: 0.34835290908813477\n",
            "Epoch 31, Loss: 0.11861692267385396, Train Accuracy: 0.9953571428571428, Val Loss: 0.13504619151353836, Val Accuracy: 0.9857142857142858, Train Precision: 0.9953573506254921, Train Recall: 0.9953571428571428, Train F1: 0.9953571197568158, Val Precision: 0.9861100118717848, Val Recall: 0.9857142857142858, Val F1: 0.9857107861435663, Epoch Time: 0.36312365531921387\n",
            "Epoch 32, Loss: 0.11663592945445668, Train Accuracy: 0.9946428571428572, Val Loss: 0.13213522054932333, Val Accuracy: 0.9971428571428571, Train Precision: 0.9946548638349612, Train Recall: 0.9946428571428572, Train F1: 0.9946426418449008, Val Precision: 0.9971590449210845, Val Recall: 0.9971428571428571, Val F1: 0.9971428104941036, Epoch Time: 0.3600449562072754\n",
            "Epoch 33, Loss: 0.11332991770045324, Train Accuracy: 0.995, Val Loss: 0.12875360182740472, Val Accuracy: 0.9985714285714286, Train Precision: 0.995, Train Recall: 0.995, Train F1: 0.995, Val Precision: 0.9985754870129872, Val Recall: 0.9985714285714286, Val F1: 0.9985714198249123, Epoch Time: 0.3377673625946045\n",
            "Epoch 34, Loss: 0.11079919338226318, Train Accuracy: 0.9953571428571428, Val Loss: 0.12668638744137503, Val Accuracy: 0.9971428571428571, Train Precision: 0.9953632379428123, Train Recall: 0.9953571428571428, Train F1: 0.9953570155038569, Val Precision: 0.9971590449210845, Val Recall: 0.9971428571428571, Val F1: 0.9971428104941036, Epoch Time: 0.36703944206237793\n",
            "Epoch 35, Loss: 0.1084232186390595, Train Accuracy: 0.9971428571428571, Val Loss: 0.12399156594818289, Val Accuracy: 0.9985714285714286, Train Precision: 0.9971518250170881, Train Recall: 0.9971428571428571, Train F1: 0.9971427609091809, Val Precision: 0.9985754870129872, Val Recall: 0.9985714285714286, Val F1: 0.9985714198249123, Epoch Time: 0.34621500968933105\n",
            "Epoch 36, Loss: 0.10686341537670656, Train Accuracy: 0.9960714285714286, Val Loss: 0.12217894061045213, Val Accuracy: 0.9957142857142857, Train Precision: 0.9960738210121904, Train Recall: 0.9960714285714286, Train F1: 0.9960714811944469, Val Precision: 0.9957506053268766, Val Recall: 0.9957142857142857, Val F1: 0.9957141545122564, Epoch Time: 0.5141916275024414\n",
            "Epoch 37, Loss: 0.10496280664070086, Train Accuracy: 0.9957142857142857, Val Loss: 0.12016140669584274, Val Accuracy: 0.9857142857142858, Train Precision: 0.9957231442241969, Train Recall: 0.9957142857142857, Train F1: 0.9957141413637711, Val Precision: 0.985969081510155, Val Recall: 0.9857142857142858, Val F1: 0.9857128861945542, Epoch Time: 0.5100758075714111\n",
            "Epoch 38, Loss: 0.10232443277808753, Train Accuracy: 0.9921428571428571, Val Loss: 0.11732213334603743, Val Accuracy: 0.9957142857142857, Train Precision: 0.9921440140189767, Train Recall: 0.9921428571428571, Train F1: 0.9921429293122216, Val Precision: 0.9957506053268766, Val Recall: 0.9957142857142857, Val F1: 0.9957141545122564, Epoch Time: 0.5270380973815918\n",
            "Epoch 39, Loss: 0.10027841334654526, Train Accuracy: 0.9964285714285714, Val Loss: 0.11763474142009561, Val Accuracy: 0.9957142857142857, Train Precision: 0.9964295155185426, Train Recall: 0.9964285714285714, Train F1: 0.9964285349779838, Val Precision: 0.9957506053268766, Val Recall: 0.9957142857142857, Val F1: 0.9957141545122564, Epoch Time: 0.46971869468688965\n",
            "Epoch 40, Loss: 0.09823845326900482, Train Accuracy: 0.9942857142857143, Val Loss: 0.11576342582702637, Val Accuracy: 0.9842857142857143, Train Precision: 0.9942857142857143, Train Recall: 0.9942857142857143, Train F1: 0.9942857142857143, Val Precision: 0.9846072583693871, Val Recall: 0.9842857142857143, Val F1: 0.9842836936754901, Epoch Time: 0.4648919105529785\n",
            "Epoch 41, Loss: 0.09682931827211921, Train Accuracy: 0.9960714285714286, Val Loss: 0.11247127096761357, Val Accuracy: 0.9971428571428571, Train Precision: 0.9960735927355823, Train Recall: 0.9960714285714286, Train F1: 0.9960713669237352, Val Precision: 0.9971590449210845, Val Recall: 0.9971428571428571, Val F1: 0.9971428104941036, Epoch Time: 0.49346065521240234\n",
            "Total Training Time: 16.925101041793823\n",
            "\n",
            " Training on IsBinEven using DCRBase has been completed!\n"
          ]
        },
        {
          "data": {
            "application/vnd.jupyter.widget-view+json": {
              "model_id": "8c4d1175101e48f1b4124d6b028de764",
              "version_major": 2,
              "version_minor": 0
            },
            "text/plain": [
              "VBox(children=(Label(value='0.001 MB of 0.001 MB uploaded\\r'), FloatProgress(value=1.0, max=1.0)))"
            ]
          },
          "metadata": {},
          "output_type": "display_data"
        },
        {
          "data": {
            "text/html": [
              "<style>\n",
              "    table.wandb td:nth-child(1) { padding: 0 10px; text-align: left ; width: auto;} td:nth-child(2) {text-align: left ; width: 100%}\n",
              "    .wandb-row { display: flex; flex-direction: row; flex-wrap: wrap; justify-content: flex-start; width: 100% }\n",
              "    .wandb-col { display: flex; flex-direction: column; flex-basis: 100%; flex: 1; padding: 10px; }\n",
              "    </style>\n",
              "<div class=\"wandb-row\"><div class=\"wandb-col\"><h3>Run history:</h3><br/><table class=\"wandb\"><tr><td>convergence_time</td><td>▁</td></tr><tr><td>epoch</td><td>▁▁▁▂▂▂▂▂▂▃▃▃▃▃▃▄▄▄▄▄▅▅▅▅▅▅▆▆▆▆▆▆▇▇▇▇▇▇██</td></tr><tr><td>epoch_time</td><td>▇▆█▅▇▇█▅▁▃▂▂▁▂▂▂▃▂▁▂▂▁▃▁▂▂▁▂▂▁▂▂▁▂▁▇▆▇▅▆</td></tr><tr><td>learning_rate</td><td>▁▁▁▁▁▁▁▁▁▁▁▁▁▁▁▁▁▁▁▁▁▁▁▁▁▁▁▁▁▁▁▁▁▁▁▁▁▁▁▁</td></tr><tr><td>loss</td><td>███▇▇▆▆▅▄▄▃▃▃▂▂▂▂▂▂▂▁▁▁▁▁▁▁▁▁▁▁▁▁▁▁▁▁▁▁▁</td></tr><tr><td>total_training_time</td><td>▁</td></tr><tr><td>train_accuracy</td><td>▁▁▁▂▃▄▅▇▇███████████████████████████████</td></tr><tr><td>train_concept_accuracy</td><td>▁▃▆▆▃▅▅▇▇█▇▇▇▇▇█████████████████████████</td></tr><tr><td>train_concept_loss</td><td>███▇▆▆▅▅▄▃▃▃▂▂▂▂▂▂▁▁▂▁▁▁▁▁▁▁▁▁▁▁▁▁▁▁▁▁▁▁</td></tr><tr><td>train_f1</td><td>▁▁▁▂▄▅▆▇████████████████████████████████</td></tr><tr><td>train_precision</td><td>▁▆▆▆▆▆▇▇████████████████████████████████</td></tr><tr><td>train_recall</td><td>▁▁▁▂▃▄▅▇▇███████████████████████████████</td></tr><tr><td>train_task_accuracy</td><td>▁▁▁▂▃▄▅▇▇███████████████████████████████</td></tr><tr><td>train_task_loss</td><td>████▇▇▇▇▆▅▄▄▃▃▃▂▂▂▂▂▂▂▂▂▁▂▂▂▂▁▁▁▁▂▁▁▁▁▁▂</td></tr><tr><td>val_accuracy</td><td>▁▁▂▃▄▅▆▇▇███████████████████████████████</td></tr><tr><td>val_concept_accuracy</td><td>▁▅▇▃▄▆▆▇▇▇▇▇▇▇▇▇▇▇▇▇█▇███▇▇▇▇▇██████▇█▇█</td></tr><tr><td>val_concept_loss</td><td>██▇▇▆▅▅▄▃▃▃▂▂▂▂▂▂▂▂▁▁▂▁▁▁▁▁▁▁▁▁▁▁▁▁▁▁▁▁▁</td></tr><tr><td>val_f1</td><td>▁▁▂▃▅▅▇▇████████████████████████████████</td></tr><tr><td>val_learning_rate</td><td>▁▁▁▁▁▁▁▁▁▁▁▁▁▁▁▁▁▁▁▁▁▁▁▁▁▁▁▁▁▁▁▁▁▁▁▁▁▁▁▁</td></tr><tr><td>val_loss</td><td>███▇▆▆▅▅▄▃▃▃▂▂▂▂▂▂▂▂▂▁▁▁▁▁▁▁▁▁▁▁▁▁▁▁▁▁▁▁</td></tr><tr><td>val_precision</td><td>▁▆▆▆▆▆▇▇████████████████████████████████</td></tr><tr><td>val_recall</td><td>▁▁▂▃▄▅▆▇▇███████████████████████████████</td></tr><tr><td>val_task_accuracy</td><td>▁▁▂▃▄▅▆▇▇███████████████████████████████</td></tr><tr><td>val_task_loss</td><td>████▇▇▇▆▅▅▄▄▃▃▃▂▂▃▂▂▂▂▂▂▁▂▂▁▁▁▂▁▁▁▁▁▁▁▁▁</td></tr></table><br/></div><div class=\"wandb-col\"><h3>Run summary:</h3><br/><table class=\"wandb\"><tr><td>convergence_time</td><td>4.11986</td></tr><tr><td>epoch</td><td>41</td></tr><tr><td>epoch_time</td><td>0.49346</td></tr><tr><td>learning_rate</td><td>0.0005</td></tr><tr><td>loss</td><td>0.09683</td></tr><tr><td>total_training_time</td><td>16.9251</td></tr><tr><td>train_accuracy</td><td>0.99607</td></tr><tr><td>train_concept_accuracy</td><td>0.52143</td></tr><tr><td>train_concept_loss</td><td>0.05197</td></tr><tr><td>train_f1</td><td>0.99607</td></tr><tr><td>train_precision</td><td>0.99607</td></tr><tr><td>train_recall</td><td>0.99607</td></tr><tr><td>train_task_accuracy</td><td>0.99607</td></tr><tr><td>train_task_loss</td><td>0.09958</td></tr><tr><td>val_accuracy</td><td>0.99714</td></tr><tr><td>val_concept_accuracy</td><td>0.50571</td></tr><tr><td>val_concept_loss</td><td>0.04537</td></tr><tr><td>val_f1</td><td>0.99714</td></tr><tr><td>val_learning_rate</td><td>0.0005</td></tr><tr><td>val_loss</td><td>0.11247</td></tr><tr><td>val_precision</td><td>0.99716</td></tr><tr><td>val_recall</td><td>0.99714</td></tr><tr><td>val_task_accuracy</td><td>0.99714</td></tr><tr><td>val_task_loss</td><td>0.10749</td></tr></table><br/></div></div>"
            ],
            "text/plain": [
              "<IPython.core.display.HTML object>"
            ]
          },
          "metadata": {},
          "output_type": "display_data"
        },
        {
          "data": {
            "text/html": [
              " View run <strong style=\"color:#cdcd00\">DCRBase_IsBinEven</strong> at: <a href='https://wandb.ai/alih999954-politecnico-di-torino/pytorch_explain/runs/3xj043c3' target=\"_blank\">https://wandb.ai/alih999954-politecnico-di-torino/pytorch_explain/runs/3xj043c3</a><br/> View project at: <a href='https://wandb.ai/alih999954-politecnico-di-torino/pytorch_explain' target=\"_blank\">https://wandb.ai/alih999954-politecnico-di-torino/pytorch_explain</a><br/>Synced 5 W&B file(s), 0 media file(s), 0 artifact file(s) and 0 other file(s)"
            ],
            "text/plain": [
              "<IPython.core.display.HTML object>"
            ]
          },
          "metadata": {},
          "output_type": "display_data"
        },
        {
          "data": {
            "text/html": [
              "Find logs at: <code>./wandb/run-20240723_091534-3xj043c3/logs</code>"
            ],
            "text/plain": [
              "<IPython.core.display.HTML object>"
            ]
          },
          "metadata": {},
          "output_type": "display_data"
        },
        {
          "data": {
            "text/html": [
              "The new W&B backend becomes opt-out in version 0.18.0; try it out with `wandb.require(\"core\")`! See https://wandb.me/wandb-core for more information."
            ],
            "text/plain": [
              "<IPython.core.display.HTML object>"
            ]
          },
          "metadata": {},
          "output_type": "display_data"
        },
        {
          "name": "stdout",
          "output_type": "stream",
          "text": [
            "The following dataset has been loaded successfully: Trigonometry\n"
          ]
        },
        {
          "data": {
            "text/html": [
              "Tracking run with wandb version 0.17.5"
            ],
            "text/plain": [
              "<IPython.core.display.HTML object>"
            ]
          },
          "metadata": {},
          "output_type": "display_data"
        },
        {
          "data": {
            "text/html": [
              "Run data is saved locally in <code>/content/pytorch_explain/wandb/run-20240723_091558-rgn66b89</code>"
            ],
            "text/plain": [
              "<IPython.core.display.HTML object>"
            ]
          },
          "metadata": {},
          "output_type": "display_data"
        },
        {
          "data": {
            "text/html": [
              "Syncing run <strong><a href='https://wandb.ai/alih999954-politecnico-di-torino/pytorch_explain/runs/rgn66b89' target=\"_blank\">DCRBase_Trigonometry</a></strong> to <a href='https://wandb.ai/alih999954-politecnico-di-torino/pytorch_explain' target=\"_blank\">Weights & Biases</a> (<a href='https://wandb.me/run' target=\"_blank\">docs</a>)<br/>"
            ],
            "text/plain": [
              "<IPython.core.display.HTML object>"
            ]
          },
          "metadata": {},
          "output_type": "display_data"
        },
        {
          "data": {
            "text/html": [
              " View project at <a href='https://wandb.ai/alih999954-politecnico-di-torino/pytorch_explain' target=\"_blank\">https://wandb.ai/alih999954-politecnico-di-torino/pytorch_explain</a>"
            ],
            "text/plain": [
              "<IPython.core.display.HTML object>"
            ]
          },
          "metadata": {},
          "output_type": "display_data"
        },
        {
          "data": {
            "text/html": [
              " View run at <a href='https://wandb.ai/alih999954-politecnico-di-torino/pytorch_explain/runs/rgn66b89' target=\"_blank\">https://wandb.ai/alih999954-politecnico-di-torino/pytorch_explain/runs/rgn66b89</a>"
            ],
            "text/plain": [
              "<IPython.core.display.HTML object>"
            ]
          },
          "metadata": {},
          "output_type": "display_data"
        },
        {
          "name": "stdout",
          "output_type": "stream",
          "text": [
            "-------------------------- Training Trigonometry using DCRBase ----------------------\n",
            "Epoch 1, Loss: 0.9833151549100876, Train Accuracy: 0.6442857142857142, Val Loss: 0.9340455477887933, Val Accuracy: 0.7385714285714285, Train Precision: 0.6307482993197279, Train Recall: 0.6442857142857142, Train F1: 0.6235341757702274, Val Precision: 0.7464228456322965, Val Recall: 0.7385714285714285, Val F1: 0.7406574155328336, Epoch Time: 0.3372673988342285\n",
            "Epoch 2, Loss: 0.8720612593672492, Train Accuracy: 0.7882142857142858, Val Loss: 0.8180320425467058, Val Accuracy: 0.7928571428571428, Train Precision: 0.7972142407480612, Train Recall: 0.7882142857142858, Train F1: 0.7901751529265294, Val Precision: 0.8046136259555843, Val Recall: 0.7928571428571428, Val F1: 0.7948619248104668, Epoch Time: 0.3375515937805176\n",
            "Epoch 3, Loss: 0.7394181205467745, Train Accuracy: 0.8414285714285714, Val Loss: 0.6743861003355547, Val Accuracy: 0.8557142857142858, Train Precision: 0.8442657683613314, Train Recall: 0.8414285714285714, Train F1: 0.842251311097126, Val Precision: 0.8560061783145043, Val Recall: 0.8557142857142858, Val F1: 0.855844109986742, Epoch Time: 0.31763720512390137\n",
            "Epoch 4, Loss: 0.6070017550479282, Train Accuracy: 0.8889285714285714, Val Loss: 0.5653846859931946, Val Accuracy: 0.8871428571428571, Train Precision: 0.8885925949327099, Train Recall: 0.8889285714285714, Train F1: 0.8886742896672256, Val Precision: 0.8867825568371543, Val Recall: 0.8871428571428571, Val F1: 0.886809793955367, Epoch Time: 0.32984328269958496\n",
            "Epoch 5, Loss: 0.5170307924801653, Train Accuracy: 0.8975, Val Loss: 0.4980682134628296, Val Accuracy: 0.8657142857142858, Train Precision: 0.8977178066303325, Train Recall: 0.8975, Train F1: 0.8966410181540109, Val Precision: 0.8662971547273687, Val Recall: 0.8657142857142858, Val F1: 0.8640666656707648, Epoch Time: 0.3646061420440674\n",
            "Epoch 6, Loss: 0.46171052347530017, Train Accuracy: 0.9010714285714285, Val Loss: 0.453530571677468, Val Accuracy: 0.8757142857142857, Train Precision: 0.9039294885804494, Train Recall: 0.9010714285714285, Train F1: 0.8994692009329164, Val Precision: 0.8781264052221212, Val Recall: 0.8757142857142857, Val F1: 0.8736459249159595, Epoch Time: 0.30957865715026855\n",
            "Epoch 7, Loss: 0.42324660989371216, Train Accuracy: 0.8971428571428571, Val Loss: 0.41997105154124176, Val Accuracy: 0.8757142857142857, Train Precision: 0.9026511278195487, Train Recall: 0.8971428571428571, Train F1: 0.8948733329188632, Val Precision: 0.8824272448661494, Val Recall: 0.8757142857142857, Val F1: 0.8725471491579957, Epoch Time: 0.33518290519714355\n",
            "Epoch 8, Loss: 0.3883160955526612, Train Accuracy: 0.8832142857142857, Val Loss: 0.37502736124125396, Val Accuracy: 0.8457142857142858, Train Precision: 0.8939343007157108, Train Recall: 0.8832142857142857, Train F1: 0.8794182928604911, Val Precision: 0.8610584037208868, Val Recall: 0.8457142857142858, Val F1: 0.8389682307756532, Epoch Time: 0.3367302417755127\n",
            "Epoch 9, Loss: 0.35190337760881946, Train Accuracy: 0.8821428571428571, Val Loss: 0.3427426733753898, Val Accuracy: 0.87, Train Precision: 0.89265569668956, Train Recall: 0.8821428571428571, Train F1: 0.8783318206140738, Val Precision: 0.8817648038725734, Val Recall: 0.87, Val F1: 0.8655282519294688, Epoch Time: 0.31398725509643555\n",
            "Epoch 10, Loss: 0.3302756886590611, Train Accuracy: 0.8860714285714286, Val Loss: 0.3268271440809423, Val Accuracy: 0.8657142857142858, Train Precision: 0.8959702892826165, Train Recall: 0.8860714285714286, Train F1: 0.8825576203786102, Val Precision: 0.8784354386916058, Val Recall: 0.8657142857142858, Val F1: 0.8608184334130148, Epoch Time: 0.32959938049316406\n",
            "Epoch 11, Loss: 0.3148738159374757, Train Accuracy: 0.895, Val Loss: 0.31739713928916236, Val Accuracy: 0.8614285714285714, Train Precision: 0.9034943181818182, Train Recall: 0.895, Train F1: 0.892115387525155, Val Precision: 0.8751342913260779, Val Recall: 0.8614285714285714, Val F1: 0.8560834010931595, Epoch Time: 0.3369925022125244\n",
            "Epoch 12, Loss: 0.3047266819260337, Train Accuracy: 0.8935714285714286, Val Loss: 0.3035713488405401, Val Accuracy: 0.8828571428571429, Train Precision: 0.9029518426075466, Train Recall: 0.8935714285714286, Train F1: 0.8904789317042606, Val Precision: 0.8919325287507106, Val Recall: 0.8828571428571429, Val F1: 0.8795142721807064, Epoch Time: 0.31981635093688965\n",
            "Epoch 13, Loss: 0.2938422601331364, Train Accuracy: 0.9028571428571428, Val Loss: 0.29831531102007086, Val Accuracy: 0.8728571428571429, Train Precision: 0.9104032399891776, Train Recall: 0.9028571428571428, Train F1: 0.9004273768573502, Val Precision: 0.8840005679817021, Val Recall: 0.8728571428571429, Val F1: 0.8686545151244195, Epoch Time: 0.33802175521850586\n",
            "Epoch 14, Loss: 0.2869677997448228, Train Accuracy: 0.8996428571428572, Val Loss: 0.29020253907550464, Val Accuracy: 0.8785714285714286, Train Precision: 0.9087861752079542, Train Recall: 0.8996428571428572, Train F1: 0.8968384729181516, Val Precision: 0.889364668613353, Val Recall: 0.8785714285714286, Val F1: 0.8747179681068821, Epoch Time: 0.4516456127166748\n",
            "Epoch 15, Loss: 0.2792653441429138, Train Accuracy: 0.9053571428571429, Val Loss: 0.2829264158552343, Val Accuracy: 0.88, Train Precision: 0.9135407050092765, Train Recall: 0.9053571428571429, Train F1: 0.9029180767331283, Val Precision: 0.8904879369007115, Val Recall: 0.88, Val F1: 0.876270015698587, Epoch Time: 0.42702364921569824\n",
            "Epoch 16, Loss: 0.27327216281132266, Train Accuracy: 0.9117857142857143, Val Loss: 0.2752655636180531, Val Accuracy: 0.8871428571428571, Train Precision: 0.9185665835066708, Train Recall: 0.9117857142857143, Train F1: 0.9097754412215896, Val Precision: 0.8961580368472775, Val Recall: 0.8871428571428571, Val F1: 0.8839925059593567, Epoch Time: 0.4195983409881592\n",
            "Epoch 17, Loss: 0.265889012678103, Train Accuracy: 0.9121428571428571, Val Loss: 0.26934239810163324, Val Accuracy: 0.8914285714285715, Train Precision: 0.918858887304922, Train Recall: 0.9121428571428571, Train F1: 0.9101535006731628, Val Precision: 0.8996044372294374, Val Recall: 0.8914285714285715, Val F1: 0.8885967945268562, Epoch Time: 0.4693453311920166\n",
            "Epoch 18, Loss: 0.26069220595739107, Train Accuracy: 0.9114285714285715, Val Loss: 0.2654732655395161, Val Accuracy: 0.9014285714285715, Train Precision: 0.9189887308405251, Train Recall: 0.9114285714285715, Train F1: 0.9092928255372945, Val Precision: 0.9077818831102306, Val Recall: 0.9014285714285715, Val F1: 0.8992596619598113, Epoch Time: 0.4344611167907715\n",
            "Convergence achieved at epoch 18 with validation accuracy 0.9014285714285715\n",
            "Epoch 19, Loss: 0.2549338127401742, Train Accuracy: 0.9175, Val Loss: 0.26051523739641363, Val Accuracy: 0.8928571428571429, Train Precision: 0.9237641510809197, Train Recall: 0.9175, Train F1: 0.9157386397468018, Val Precision: 0.9015186343953467, Val Recall: 0.8928571428571429, Val F1: 0.8899977940734106, Epoch Time: 0.42308998107910156\n",
            "Epoch 20, Loss: 0.25076039745049045, Train Accuracy: 0.9160714285714285, Val Loss: 0.2555073025551709, Val Accuracy: 0.9, Train Precision: 0.9224220530055326, Train Recall: 0.9160714285714285, Train F1: 0.9142556525095529, Val Precision: 0.9072929171668667, Val Recall: 0.9, Val F1: 0.8976281954586999, Epoch Time: 0.4473600387573242\n",
            "Epoch 21, Loss: 0.24619469419121742, Train Accuracy: 0.9207142857142857, Val Loss: 0.2514848898757588, Val Accuracy: 0.9071428571428571, Train Precision: 0.9265808589269784, Train Recall: 0.9207142857142857, Train F1: 0.9190997618354706, Val Precision: 0.9125439592390551, Val Recall: 0.9071428571428571, Val F1: 0.9053048336610878, Epoch Time: 0.4863293170928955\n",
            "Epoch 22, Loss: 0.24262269891121171, Train Accuracy: 0.9217857142857143, Val Loss: 0.2514026733961972, Val Accuracy: 0.8928571428571429, Train Precision: 0.9276282977594104, Train Recall: 0.9217857142857143, Train F1: 0.920203922608276, Val Precision: 0.9015186343953467, Val Recall: 0.8928571428571429, Val F1: 0.8899977940734106, Epoch Time: 0.48370361328125\n",
            "Epoch 23, Loss: 0.2394072183153846, Train Accuracy: 0.9203571428571429, Val Loss: 0.2432280413129113, Val Accuracy: 0.91, Train Precision: 0.9262853447901583, Train Recall: 0.9203571428571429, Train F1: 0.9187242052922805, Val Precision: 0.9155486020731223, Val Recall: 0.91, Val F1: 0.9082185310869005, Epoch Time: 0.4898681640625\n",
            "Epoch 24, Loss: 0.23564266616647894, Train Accuracy: 0.9228571428571428, Val Loss: 0.24086671254851602, Val Accuracy: 0.9157142857142857, Train Precision: 0.9282057288225188, Train Recall: 0.9228571428571428, Train F1: 0.9213716323369645, Val Precision: 0.9209411075823478, Val Recall: 0.9157142857142857, Val F1: 0.9141362906936047, Epoch Time: 0.3757779598236084\n",
            "Epoch 25, Loss: 0.2344896627420729, Train Accuracy: 0.9289285714285714, Val Loss: 0.24003977260806345, Val Accuracy: 0.9171428571428571, Train Precision: 0.9331810032787641, Train Recall: 0.9289285714285714, Train F1: 0.9277405894405643, Val Precision: 0.9221417304679107, Val Recall: 0.9171428571428571, Val F1: 0.9156353563384814, Epoch Time: 0.32399415969848633\n",
            "Epoch 26, Loss: 0.23064403811639006, Train Accuracy: 0.9267857142857143, Val Loss: 0.23650714348662982, Val Accuracy: 0.9085714285714286, Train Precision: 0.9315040783568643, Train Recall: 0.9267857142857143, Train F1: 0.9254846619051162, Val Precision: 0.9150043541056029, Val Recall: 0.9085714285714286, Val F1: 0.9066109340518443, Epoch Time: 0.3374059200286865\n",
            "Epoch 27, Loss: 0.22748529335314577, Train Accuracy: 0.9267857142857143, Val Loss: 0.23392463407733224, Val Accuracy: 0.9071428571428571, Train Precision: 0.9315040783568643, Train Recall: 0.9267857142857143, Train F1: 0.9254846619051162, Val Precision: 0.9138300179484485, Val Recall: 0.9071428571428571, Val F1: 0.905099681556344, Epoch Time: 0.33187365531921387\n",
            "Epoch 28, Loss: 0.22495498846877704, Train Accuracy: 0.9310714285714285, Val Loss: 0.23208980533209714, Val Accuracy: 0.9142857142857143, Train Precision: 0.9356936183198603, Train Recall: 0.9310714285714285, Train F1: 0.929883085719849, Val Precision: 0.919744958107027, Val Recall: 0.9142857142857143, Val F1: 0.9126352563497309, Epoch Time: 0.3195955753326416\n",
            "Epoch 29, Loss: 0.2238416216251525, Train Accuracy: 0.9314285714285714, Val Loss: 0.22972498698668045, Val Accuracy: 0.9114285714285715, Train Precision: 0.9355815591236186, Train Recall: 0.9314285714285714, Train F1: 0.9303091303937305, Val Precision: 0.9173659310162546, Val Recall: 0.9114285714285715, Val F1: 0.9096271822524427, Epoch Time: 0.3281557559967041\n",
            "Epoch 30, Loss: 0.22340714626691557, Train Accuracy: 0.9282142857142858, Val Loss: 0.2269209555604241, Val Accuracy: 0.92, Train Precision: 0.9327122867670099, Train Recall: 0.9282142857142858, Train F1: 0.9269766851279256, Val Precision: 0.9245565458796026, Val Recall: 0.92, Val F1: 0.9186276800379444, Epoch Time: 0.32480955123901367\n",
            "Epoch 31, Loss: 0.2191895287145268, Train Accuracy: 0.9342857142857143, Val Loss: 0.22475859387354416, Val Accuracy: 0.9171428571428571, Train Precision: 0.9379006602641055, Train Recall: 0.9342857142857143, Train F1: 0.9332969524463857, Val Precision: 0.9221417304679107, Val Recall: 0.9171428571428571, Val F1: 0.9156353563384814, Epoch Time: 0.33389949798583984\n",
            "Epoch 32, Loss: 0.2166312983767553, Train Accuracy: 0.9328571428571428, Val Loss: 0.22533676705577158, Val Accuracy: 0.9357142857142857, Train Precision: 0.9369340258933789, Train Recall: 0.9328571428571428, Train F1: 0.9317783748382654, Val Precision: 0.9368073521543449, Val Recall: 0.9357142857142857, Val F1: 0.93517995212653, Epoch Time: 0.31322431564331055\n",
            "Epoch 33, Loss: 0.2159451043063944, Train Accuracy: 0.9382142857142857, Val Loss: 0.22202922810207715, Val Accuracy: 0.9185714285714286, Train Precision: 0.9415408415315837, Train Recall: 0.9382142857142857, Train F1: 0.937338725050625, Val Precision: 0.9217905733063165, Val Recall: 0.9185714285714286, Val F1: 0.9173787762761144, Epoch Time: 0.35357141494750977\n",
            "Epoch 34, Loss: 0.21365589614618907, Train Accuracy: 0.9396428571428571, Val Loss: 0.2193360464139418, Val Accuracy: 0.9242857142857143, Train Precision: 0.9428989589565169, Train Recall: 0.9396428571428571, Train F1: 0.9388024588238758, Val Precision: 0.92724786681023, Val Recall: 0.9242857142857143, Val F1: 0.9232499228720725, Epoch Time: 0.32106494903564453\n",
            "Epoch 35, Loss: 0.21194506030191074, Train Accuracy: 0.9407142857142857, Val Loss: 0.21787954731421036, Val Accuracy: 0.9157142857142857, Train Precision: 0.9438298735815212, Train Recall: 0.9407142857142857, Train F1: 0.9399106398254296, Val Precision: 0.9222113791418162, Val Recall: 0.9157142857142857, Val F1: 0.9139537374217362, Epoch Time: 0.3160405158996582\n",
            "Epoch 36, Loss: 0.2097298607907512, Train Accuracy: 0.9389285714285714, Val Loss: 0.21805846691131592, Val Accuracy: 0.9185714285714286, Train Precision: 0.9425257959311083, Train Recall: 0.9389285714285714, Train F1: 0.9380327022807754, Val Precision: 0.9252255788973172, Val Recall: 0.9185714285714286, Val F1: 0.9168705598820166, Epoch Time: 0.33893537521362305\n",
            "Epoch 37, Loss: 0.20910289240154353, Train Accuracy: 0.9410714285714286, Val Loss: 0.21521210805936294, Val Accuracy: 0.92, Train Precision: 0.9441408120334719, Train Recall: 0.9410714285714286, Train F1: 0.9402798195153877, Val Precision: 0.9257449160035367, Val Recall: 0.92, Val F1: 0.9184595725930823, Epoch Time: 0.32895588874816895\n",
            "Epoch 38, Loss: 0.20840320600704712, Train Accuracy: 0.9410714285714286, Val Loss: 0.2124050814997066, Val Accuracy: 0.93, Train Precision: 0.9444971846805387, Train Recall: 0.9410714285714286, Train F1: 0.940236356262157, Val Precision: 0.9331548567775166, Val Recall: 0.93, Val F1: 0.9290423815232368, Epoch Time: 0.3236277103424072\n",
            "Epoch 39, Loss: 0.2067220536145297, Train Accuracy: 0.9417857142857143, Val Loss: 0.21052079444581812, Val Accuracy: 0.9271428571428572, Train Precision: 0.9448784349871021, Train Recall: 0.9417857142857143, Train F1: 0.9410037004909587, Val Precision: 0.9317263646033092, Val Recall: 0.9271428571428572, Val F1: 0.925930369778321, Epoch Time: 0.34174323081970215\n",
            "Epoch 40, Loss: 0.20501951331442053, Train Accuracy: 0.9435714285714286, Val Loss: 0.21121018447659232, Val Accuracy: 0.9271428571428572, Train Precision: 0.946664216964582, Train Recall: 0.9435714285714286, Train F1: 0.942820274800439, Val Precision: 0.9323061738078897, Val Recall: 0.9271428571428572, Val F1: 0.9258553750027078, Epoch Time: 0.3452773094177246\n",
            "Epoch 41, Loss: 0.20435500923882832, Train Accuracy: 0.9428571428571428, Val Loss: 0.20888931913809342, Val Accuracy: 0.93, Train Precision: 0.9457002824790555, Train Recall: 0.9428571428571428, Train F1: 0.9421241296955135, Val Precision: 0.9336358130158471, Val Recall: 0.93, Val F1: 0.9289747375005194, Epoch Time: 0.32054781913757324\n",
            "Total Training Time: 14.901396036148071\n",
            "\n",
            " Training on Trigonometry using DCRBase has been completed!\n"
          ]
        },
        {
          "data": {
            "application/vnd.jupyter.widget-view+json": {
              "model_id": "df7d8d9a5fe34f8995a52f83709a0953",
              "version_major": 2,
              "version_minor": 0
            },
            "text/plain": [
              "VBox(children=(Label(value='0.001 MB of 0.001 MB uploaded\\r'), FloatProgress(value=1.0, max=1.0)))"
            ]
          },
          "metadata": {},
          "output_type": "display_data"
        },
        {
          "data": {
            "text/html": [
              "<style>\n",
              "    table.wandb td:nth-child(1) { padding: 0 10px; text-align: left ; width: auto;} td:nth-child(2) {text-align: left ; width: 100%}\n",
              "    .wandb-row { display: flex; flex-direction: row; flex-wrap: wrap; justify-content: flex-start; width: 100% }\n",
              "    .wandb-col { display: flex; flex-direction: column; flex-basis: 100%; flex: 1; padding: 10px; }\n",
              "    </style>\n",
              "<div class=\"wandb-row\"><div class=\"wandb-col\"><h3>Run history:</h3><br/><table class=\"wandb\"><tr><td>convergence_time</td><td>▁</td></tr><tr><td>epoch</td><td>▁▁▁▂▂▂▂▂▂▃▃▃▃▃▃▄▄▄▄▄▅▅▅▅▅▅▆▆▆▆▆▆▇▇▇▇▇▇██</td></tr><tr><td>epoch_time</td><td>▂▂▁▂▃▁▂▂▁▂▂▁▂▇▆▅▇▆▅▆███▄▂▂▂▁▂▂▂▁▃▁▁▂▂▂▂▁</td></tr><tr><td>learning_rate</td><td>▁▁▁▁▁▁▁▁▁▁▁▁▁▁▁▁▁▁▁▁▁▁▁▁▁▁▁▁▁▁▁▁▁▁▁▁▁▁▁▁</td></tr><tr><td>loss</td><td>█▇▆▅▄▃▃▃▂▂▂▂▂▂▂▂▂▂▁▁▁▁▁▁▁▁▁▁▁▁▁▁▁▁▁▁▁▁▁▁</td></tr><tr><td>total_training_time</td><td>▁</td></tr><tr><td>train_accuracy</td><td>▁▄▆▇▇▇▇▇▇▇▇▇▇▇▇▇▇▇▇▇▇█▇█████████████████</td></tr><tr><td>train_concept_accuracy</td><td>▁▃███▇▆▇▇▇▇▇▇▇▇▆▇▆▆▆▆▆▆▆▆▆▆▅▅▅▅▅▅▅▅▅▅▅▅▅</td></tr><tr><td>train_concept_loss</td><td>█▇▆▅▄▃▃▃▂▂▂▂▂▂▂▂▁▂▂▁▂▁▂▁▁▁▂▁▁▁▂▁▁▁▁▁▁▁▁▁</td></tr><tr><td>train_f1</td><td>▁▅▆▇▇▇▇▇▇▇▇▇▇▇▇▇▇▇▇▇▇█▇█████████████████</td></tr><tr><td>train_precision</td><td>▁▅▆▇▇▇▇▇▇▇▇▇▇▇▇▇▇▇█▇████████████████████</td></tr><tr><td>train_recall</td><td>▁▄▆▇▇▇▇▇▇▇▇▇▇▇▇▇▇▇▇▇▇█▇█████████████████</td></tr><tr><td>train_task_accuracy</td><td>▁▄▆▇▇▇▇▇▇▇▇▇▇▇▇▇▇▇▇▇▇█▇█████████████████</td></tr><tr><td>train_task_loss</td><td>██▇▆▆▆▅▄▅▄▄▅▂▂▂▄▂▄▃▂▁▂▃▂▂▄▄▃▂▃▃▂▃▃▃▂▂▂▁▂</td></tr><tr><td>val_accuracy</td><td>▁▃▅▆▆▆▆▅▆▆▅▆▆▆▆▆▆▇▆▇▇▆▇▇▇▇▇▇▇▇▇█▇█▇▇▇███</td></tr><tr><td>val_concept_accuracy</td><td>▁▄█▇▇▆▆▇▆▆▆▆▆▇▆▆▆▆▆▆▅▅▅▅▆▅▅▅▅▅▅▅▅▅▅▅▅▅▅▅</td></tr><tr><td>val_concept_loss</td><td>█▇▅▄▃▃▃▂▂▂▂▂▂▂▂▁▂▂▁▁▁▁▁▁▁▂▁▁▁▂▁▁▁▂▁▁▁▁▁▁</td></tr><tr><td>val_f1</td><td>▁▃▅▆▅▆▆▅▅▅▅▆▆▆▆▆▆▇▆▇▇▆▇▇▇▇▇▇▇▇▇█▇█▇▇▇███</td></tr><tr><td>val_learning_rate</td><td>▁▁▁▁▁▁▁▁▁▁▁▁▁▁▁▁▁▁▁▁▁▁▁▁▁▁▁▁▁▁▁▁▁▁▁▁▁▁▁▁</td></tr><tr><td>val_loss</td><td>█▇▅▄▄▃▃▃▂▂▂▂▂▂▂▂▂▂▁▁▁▁▁▁▁▁▁▁▁▁▁▁▁▁▁▁▁▁▁▁</td></tr><tr><td>val_precision</td><td>▁▃▅▆▅▆▆▅▆▆▆▆▆▆▆▇▇▇▇▇▇▇▇▇▇▇▇▇▇█▇█▇█▇█████</td></tr><tr><td>val_recall</td><td>▁▃▅▆▆▆▆▅▆▆▅▆▆▆▆▆▆▇▆▇▇▆▇▇▇▇▇▇▇▇▇█▇█▇▇▇███</td></tr><tr><td>val_task_accuracy</td><td>▁▃▅▆▆▆▆▅▆▆▅▆▆▆▆▆▆▇▆▇▇▆▇▇▇▇▇▇▇▇▇█▇█▇▇▇███</td></tr><tr><td>val_task_loss</td><td>█▇▇▆▆▄▅▅▄▃▃▃▄▄▃▂▃▃▂▂▃▃▂▂▁▃▂▂▁▃▂▂▂▃▂▂▁▂▁▂</td></tr></table><br/></div><div class=\"wandb-col\"><h3>Run summary:</h3><br/><table class=\"wandb\"><tr><td>convergence_time</td><td>6.54324</td></tr><tr><td>epoch</td><td>41</td></tr><tr><td>epoch_time</td><td>0.32055</td></tr><tr><td>learning_rate</td><td>0.0005</td></tr><tr><td>loss</td><td>0.20436</td></tr><tr><td>total_training_time</td><td>14.9014</td></tr><tr><td>train_accuracy</td><td>0.94286</td></tr><tr><td>train_concept_accuracy</td><td>0.55286</td></tr><tr><td>train_concept_loss</td><td>0.08645</td></tr><tr><td>train_f1</td><td>0.94212</td></tr><tr><td>train_precision</td><td>0.9457</td></tr><tr><td>train_recall</td><td>0.94286</td></tr><tr><td>train_task_accuracy</td><td>0.94286</td></tr><tr><td>train_task_loss</td><td>0.26878</td></tr><tr><td>val_accuracy</td><td>0.93</td></tr><tr><td>val_concept_accuracy</td><td>0.56857</td></tr><tr><td>val_concept_loss</td><td>0.07126</td></tr><tr><td>val_f1</td><td>0.92897</td></tr><tr><td>val_learning_rate</td><td>0.0005</td></tr><tr><td>val_loss</td><td>0.20889</td></tr><tr><td>val_precision</td><td>0.93364</td></tr><tr><td>val_recall</td><td>0.93</td></tr><tr><td>val_task_accuracy</td><td>0.93</td></tr><tr><td>val_task_loss</td><td>0.24979</td></tr></table><br/></div></div>"
            ],
            "text/plain": [
              "<IPython.core.display.HTML object>"
            ]
          },
          "metadata": {},
          "output_type": "display_data"
        },
        {
          "data": {
            "text/html": [
              " View run <strong style=\"color:#cdcd00\">DCRBase_Trigonometry</strong> at: <a href='https://wandb.ai/alih999954-politecnico-di-torino/pytorch_explain/runs/rgn66b89' target=\"_blank\">https://wandb.ai/alih999954-politecnico-di-torino/pytorch_explain/runs/rgn66b89</a><br/> View project at: <a href='https://wandb.ai/alih999954-politecnico-di-torino/pytorch_explain' target=\"_blank\">https://wandb.ai/alih999954-politecnico-di-torino/pytorch_explain</a><br/>Synced 5 W&B file(s), 0 media file(s), 0 artifact file(s) and 0 other file(s)"
            ],
            "text/plain": [
              "<IPython.core.display.HTML object>"
            ]
          },
          "metadata": {},
          "output_type": "display_data"
        },
        {
          "data": {
            "text/html": [
              "Find logs at: <code>./wandb/run-20240723_091558-rgn66b89/logs</code>"
            ],
            "text/plain": [
              "<IPython.core.display.HTML object>"
            ]
          },
          "metadata": {},
          "output_type": "display_data"
        },
        {
          "data": {
            "text/html": [
              "The new W&B backend becomes opt-out in version 0.18.0; try it out with `wandb.require(\"core\")`! See https://wandb.me/wandb-core for more information."
            ],
            "text/plain": [
              "<IPython.core.display.HTML object>"
            ]
          },
          "metadata": {},
          "output_type": "display_data"
        },
        {
          "name": "stdout",
          "output_type": "stream",
          "text": [
            "The following dataset has been loaded successfully: Dot\n"
          ]
        },
        {
          "data": {
            "text/html": [
              "Tracking run with wandb version 0.17.5"
            ],
            "text/plain": [
              "<IPython.core.display.HTML object>"
            ]
          },
          "metadata": {},
          "output_type": "display_data"
        },
        {
          "data": {
            "text/html": [
              "Run data is saved locally in <code>/content/pytorch_explain/wandb/run-20240723_091620-urtzewa5</code>"
            ],
            "text/plain": [
              "<IPython.core.display.HTML object>"
            ]
          },
          "metadata": {},
          "output_type": "display_data"
        },
        {
          "data": {
            "text/html": [
              "Syncing run <strong><a href='https://wandb.ai/alih999954-politecnico-di-torino/pytorch_explain/runs/urtzewa5' target=\"_blank\">DCRBase_Dot</a></strong> to <a href='https://wandb.ai/alih999954-politecnico-di-torino/pytorch_explain' target=\"_blank\">Weights & Biases</a> (<a href='https://wandb.me/run' target=\"_blank\">docs</a>)<br/>"
            ],
            "text/plain": [
              "<IPython.core.display.HTML object>"
            ]
          },
          "metadata": {},
          "output_type": "display_data"
        },
        {
          "data": {
            "text/html": [
              " View project at <a href='https://wandb.ai/alih999954-politecnico-di-torino/pytorch_explain' target=\"_blank\">https://wandb.ai/alih999954-politecnico-di-torino/pytorch_explain</a>"
            ],
            "text/plain": [
              "<IPython.core.display.HTML object>"
            ]
          },
          "metadata": {},
          "output_type": "display_data"
        },
        {
          "data": {
            "text/html": [
              " View run at <a href='https://wandb.ai/alih999954-politecnico-di-torino/pytorch_explain/runs/urtzewa5' target=\"_blank\">https://wandb.ai/alih999954-politecnico-di-torino/pytorch_explain/runs/urtzewa5</a>"
            ],
            "text/plain": [
              "<IPython.core.display.HTML object>"
            ]
          },
          "metadata": {},
          "output_type": "display_data"
        },
        {
          "name": "stdout",
          "output_type": "stream",
          "text": [
            "-------------------------- Training Dot using DCRBase ----------------------\n",
            "Epoch 1, Loss: 1.0647607093507594, Train Accuracy: 0.5492857142857143, Val Loss: 1.0129291469400579, Val Accuracy: 0.5142857142857142, Train Precision: 0.5532212383883176, Train Recall: 0.5492857142857143, Train F1: 0.546675971764316, Val Precision: 0.5142697168453046, Val Recall: 0.5142857142857142, Val F1: 0.5096598639455782, Epoch Time: 0.3051440715789795\n",
            "Epoch 2, Loss: 0.9714498817920685, Train Accuracy: 0.5128571428571429, Val Loss: 0.9213082736188715, Val Accuracy: 0.5085714285714286, Train Precision: 0.51267055438883, Train Recall: 0.5128571428571429, Train F1: 0.5127377021618414, Val Precision: 0.5106658595641645, Val Recall: 0.5085714285714286, Val F1: 0.4951992225461613, Epoch Time: 0.2969224452972412\n",
            "Epoch 3, Loss: 0.8671358837322756, Train Accuracy: 0.6414285714285715, Val Loss: 0.8069654378024015, Val Accuracy: 0.6471428571428571, Train Precision: 0.6511439391417629, Train Recall: 0.6414285714285715, Train F1: 0.6324612526505814, Val Precision: 0.655072268907563, Val Recall: 0.6471428571428571, Val F1: 0.6430505759871866, Epoch Time: 0.2903730869293213\n",
            "Epoch 4, Loss: 0.7473111870613965, Train Accuracy: 0.6789285714285714, Val Loss: 0.6872425837950273, Val Accuracy: 0.6642857142857143, Train Precision: 0.6798417285418671, Train Recall: 0.6789285714285714, Train F1: 0.677697432520551, Val Precision: 0.6657531338562619, Val Recall: 0.6642857142857143, Val F1: 0.6633475982152178, Epoch Time: 0.2846412658691406\n",
            "Epoch 5, Loss: 0.6283256018703635, Train Accuracy: 0.7285714285714285, Val Loss: 0.5787173021923412, Val Accuracy: 0.74, Train Precision: 0.7293071787698012, Train Recall: 0.7285714285714285, Train F1: 0.7286046658083296, Val Precision: 0.7410323089046492, Val Recall: 0.74, Val F1: 0.7396428571428572, Epoch Time: 0.31487059593200684\n",
            "Epoch 6, Loss: 0.5312828143889253, Train Accuracy: 0.7532142857142857, Val Loss: 0.49775954539125616, Val Accuracy: 0.7414285714285714, Train Precision: 0.7534616995469128, Train Recall: 0.7532142857142857, Train F1: 0.753257202006462, Val Precision: 0.7414567459636916, Val Recall: 0.7414285714285714, Val F1: 0.7414048211468194, Epoch Time: 0.3048527240753174\n",
            "Epoch 7, Loss: 0.46195148541168735, Train Accuracy: 0.7635714285714286, Val Loss: 0.4390943808989091, Val Accuracy: 0.7557142857142857, Train Precision: 0.7636619857964089, Train Recall: 0.7635714285714286, Train F1: 0.7635976174323956, Val Precision: 0.755919347330769, Val Recall: 0.7557142857142857, Val F1: 0.7556918501672827, Epoch Time: 0.2942028045654297\n",
            "Epoch 8, Loss: 0.4129707549105991, Train Accuracy: 0.7678571428571429, Val Loss: 0.39588055285540497, Val Accuracy: 0.7657142857142857, Train Precision: 0.7679932007640907, Train Recall: 0.7678571428571429, Train F1: 0.7676596455800343, Val Precision: 0.7658153368136712, Val Recall: 0.7657142857142857, Val F1: 0.7657085480581184, Epoch Time: 0.32803869247436523\n",
            "Epoch 9, Loss: 0.37805560434406454, Train Accuracy: 0.7714285714285715, Val Loss: 0.36502795056863263, Val Accuracy: 0.7714285714285715, Train Precision: 0.7714130266770727, Train Recall: 0.7714285714285715, Train F1: 0.771343556183049, Val Precision: 0.7720565149136577, Val Recall: 0.7714285714285715, Val F1: 0.7713389824181568, Epoch Time: 0.2927887439727783\n",
            "Epoch 10, Loss: 0.3526940460909497, Train Accuracy: 0.77, Val Loss: 0.34016475081443787, Val Accuracy: 0.7842857142857143, Train Precision: 0.7701219102412799, Train Recall: 0.77, Train F1: 0.7698148035486146, Val Precision: 0.7847241298402037, Val Recall: 0.7842857142857143, Val F1: 0.7842341984812067, Epoch Time: 0.2854471206665039\n",
            "Epoch 11, Loss: 0.33426372097297147, Train Accuracy: 0.7792857142857142, Val Loss: 0.3222560665824197, Val Accuracy: 0.7842857142857143, Train Precision: 0.7793907659410613, Train Recall: 0.7792857142857142, Train F1: 0.7791274228851229, Val Precision: 0.7847241298402037, Val Recall: 0.7842857142857143, Val F1: 0.7842341984812067, Epoch Time: 0.329845666885376\n",
            "Epoch 12, Loss: 0.3195408775725148, Train Accuracy: 0.7821428571428571, Val Loss: 0.30624599890275434, Val Accuracy: 0.7857142857142857, Train Precision: 0.7824930696273782, Train Recall: 0.7821428571428571, Train F1: 0.7818817574033157, Val Precision: 0.7858915972973981, Val Recall: 0.7857142857142857, Val F1: 0.785700291088222, Epoch Time: 0.29806017875671387\n",
            "Epoch 13, Loss: 0.30585550449111243, Train Accuracy: 0.7910714285714285, Val Loss: 0.2929963632063432, Val Accuracy: 0.7971428571428572, Train Precision: 0.7913242005370941, Train Recall: 0.7910714285714285, Train F1: 0.7908689452516016, Val Precision: 0.7976652671595298, Val Recall: 0.7971428571428572, Val F1: 0.7970848861283644, Epoch Time: 0.2849612236022949\n",
            "Epoch 14, Loss: 0.2935579324310476, Train Accuracy: 0.7985714285714286, Val Loss: 0.2810098054734143, Val Accuracy: 0.8057142857142857, Train Precision: 0.798805758277436, Train Recall: 0.7985714285714286, Train F1: 0.7983906781564487, Val Precision: 0.8062484646675041, Val Recall: 0.8057142857142857, Val F1: 0.8056587641792787, Epoch Time: 0.3009910583496094\n",
            "Epoch 15, Loss: 0.2819063318046657, Train Accuracy: 0.8046428571428571, Val Loss: 0.26955014060844074, Val Accuracy: 0.8271428571428572, Train Precision: 0.8048797214148145, Train Recall: 0.8046428571428571, Train F1: 0.8044721303762963, Val Precision: 0.827964132371411, Val Recall: 0.8271428571428572, Val F1: 0.8270648681454856, Epoch Time: 0.32148146629333496\n",
            "Epoch 16, Loss: 0.27020931616425514, Train Accuracy: 0.8185714285714286, Val Loss: 0.2577046183022586, Val Accuracy: 0.8357142857142857, Train Precision: 0.8187318798923304, Train Recall: 0.8185714285714286, Train F1: 0.8184490171451939, Val Precision: 0.8363720444648418, Val Recall: 0.8357142857142857, Val F1: 0.8356589513503772, Epoch Time: 0.29149627685546875\n",
            "Epoch 17, Loss: 0.25850090621547267, Train Accuracy: 0.8271428571428572, Val Loss: 0.24647127904675223, Val Accuracy: 0.8457142857142858, Train Precision: 0.8271585964660136, Train Recall: 0.8271428571428572, Train F1: 0.8270898741105638, Val Precision: 0.8463033863713846, Val Recall: 0.8457142857142858, Val F1: 0.8456701950835447, Epoch Time: 0.2813451290130615\n",
            "Epoch 18, Loss: 0.24575213850899177, Train Accuracy: 0.8446428571428571, Val Loss: 0.23415865139527756, Val Accuracy: 0.8585714285714285, Train Precision: 0.844918519893551, Train Recall: 0.8446428571428571, Train F1: 0.8445212419978774, Val Precision: 0.8585908494444932, Val Recall: 0.8585714285714285, Val F1: 0.8585653667407558, Epoch Time: 0.32573938369750977\n",
            "Epoch 19, Loss: 0.23371529511430048, Train Accuracy: 0.8589285714285714, Val Loss: 0.2224195572462949, Val Accuracy: 0.8742857142857143, Train Precision: 0.858951935627948, Train Recall: 0.8589285714285714, Train F1: 0.8588918740068826, Val Precision: 0.8743428123600537, Val Recall: 0.8742857142857143, Val F1: 0.8742857142857143, Epoch Time: 0.2936840057373047\n",
            "Epoch 20, Loss: 0.22097809240221977, Train Accuracy: 0.8717857142857143, Val Loss: 0.21076882833784277, Val Accuracy: 0.8871428571428571, Train Precision: 0.8719105731336858, Train Recall: 0.8717857142857143, Train F1: 0.871726800160148, Val Precision: 0.8872849102555275, Val Recall: 0.8871428571428571, Val F1: 0.8871251180685141, Epoch Time: 0.274155855178833\n",
            "Epoch 21, Loss: 0.20889685201373967, Train Accuracy: 0.8875, Val Loss: 0.1990497044541619, Val Accuracy: 0.8971428571428571, Train Precision: 0.8876032530627544, Train Recall: 0.8875, Train F1: 0.8874562442720789, Val Precision: 0.8971880249356078, Val Recall: 0.8971428571428571, Val F1: 0.8971361390642278, Epoch Time: 0.31656336784362793\n",
            "Epoch 22, Loss: 0.19695218076760118, Train Accuracy: 0.8982142857142857, Val Loss: 0.18820309774442154, Val Accuracy: 0.9014285714285715, Train Precision: 0.8983708189568901, Train Recall: 0.8982142857142857, Train F1: 0.8981675154474712, Val Precision: 0.9014302391895846, Val Recall: 0.9014285714285715, Val F1: 0.9014275655463472, Epoch Time: 0.3044013977050781\n",
            "Convergence achieved at epoch 22 with validation accuracy 0.9014285714285715\n",
            "Epoch 23, Loss: 0.18582806228236717, Train Accuracy: 0.9128571428571428, Val Loss: 0.1793533915823156, Val Accuracy: 0.91, Train Precision: 0.9129220434033355, Train Recall: 0.9128571428571428, Train F1: 0.912833149179173, Val Precision: 0.910004816365848, Val Recall: 0.91, Val F1: 0.910000551030529, Epoch Time: 0.28124046325683594\n",
            "Epoch 24, Loss: 0.17456943236968733, Train Accuracy: 0.9239285714285714, Val Loss: 0.17057440904053775, Val Accuracy: 0.9285714285714286, Train Precision: 0.924027080859148, Train Recall: 0.9239285714285714, Train F1: 0.9239040394633009, Val Precision: 0.9285830919023825, Val Recall: 0.9285714285714286, Val F1: 0.9285696791717643, Epoch Time: 0.29409074783325195\n",
            "Epoch 25, Loss: 0.1663057062436234, Train Accuracy: 0.9271428571428572, Val Loss: 0.16202359985221515, Val Accuracy: 0.9242857142857143, Train Precision: 0.9272346640189081, Train Recall: 0.9271428571428572, Train F1: 0.9271205254515599, Val Precision: 0.9243661546251152, Val Recall: 0.9242857142857143, Val F1: 0.9242787597833226, Epoch Time: 0.31102514266967773\n",
            "Epoch 26, Loss: 0.15690477192401886, Train Accuracy: 0.9375, Val Loss: 0.15381030331958423, Val Accuracy: 0.9342857142857143, Train Precision: 0.9375320931886566, Train Recall: 0.9375, Train F1: 0.9374891067976263, Val Precision: 0.9343467308553516, Val Recall: 0.9342857142857143, Val F1: 0.9342857142857143, Epoch Time: 0.2876322269439697\n",
            "Epoch 27, Loss: 0.15055310387503018, Train Accuracy: 0.9353571428571429, Val Loss: 0.14785151386802847, Val Accuracy: 0.9385714285714286, Train Precision: 0.9355321746197927, Train Recall: 0.9353571428571429, Train F1: 0.9353297533239914, Val Precision: 0.9386066591797252, Val Recall: 0.9385714285714286, Val F1: 0.9385718046654905, Epoch Time: 0.2894937992095947\n",
            "Epoch 28, Loss: 0.1431790759617632, Train Accuracy: 0.9421428571428572, Val Loss: 0.14186282659118826, Val Accuracy: 0.9428571428571428, Train Precision: 0.9422107725416772, Train Recall: 0.9421428571428572, Train F1: 0.9421286713711279, Val Precision: 0.9430960468849156, Val Recall: 0.9428571428571428, Val F1: 0.9428534109568594, Epoch Time: 0.31096768379211426\n",
            "Epoch 29, Loss: 0.13710501163520597, Train Accuracy: 0.945, Val Loss: 0.13559724661436948, Val Accuracy: 0.9457142857142857, Train Precision: 0.9450544544740972, Train Recall: 0.945, Train F1: 0.9449881167090868, Val Precision: 0.9457142857142857, Val Recall: 0.9457142857142857, Val F1: 0.9457142857142857, Epoch Time: 0.3052699565887451\n",
            "Epoch 30, Loss: 0.13179493102837692, Train Accuracy: 0.9478571428571428, Val Loss: 0.1310348226265474, Val Accuracy: 0.95, Train Precision: 0.9479456582060344, Train Recall: 0.9478571428571428, Train F1: 0.9478427859842592, Val Precision: 0.95000448983257, Val Recall: 0.95, Val F1: 0.9500003061280716, Epoch Time: 0.2772648334503174\n",
            "Epoch 31, Loss: 0.12703834321688523, Train Accuracy: 0.95, Val Loss: 0.12538022006099875, Val Accuracy: 0.9471428571428572, Train Precision: 0.9502330654138292, Train Recall: 0.95, Train F1: 0.9499761110898196, Val Precision: 0.9471782976654036, Val Recall: 0.9471428571428572, Val F1: 0.9471431807586779, Epoch Time: 0.3159458637237549\n",
            "Epoch 32, Loss: 0.12251672334969044, Train Accuracy: 0.9492857142857143, Val Loss: 0.12208155745809729, Val Accuracy: 0.9571428571428572, Train Precision: 0.9495481296578749, Train Recall: 0.9492857142857143, Train F1: 0.9492595908555731, Val Precision: 0.9572053664726078, Val Recall: 0.9571428571428572, Val F1: 0.9571428571428572, Epoch Time: 0.3874638080596924\n",
            "Epoch 33, Loss: 0.11859817159446803, Train Accuracy: 0.9546428571428571, Val Loss: 0.11695811491120946, Val Accuracy: 0.9557142857142857, Train Precision: 0.9547099981405037, Train Recall: 0.9546428571428571, Train F1: 0.9546324025515888, Val Precision: 0.9560222456329471, Val Recall: 0.9557142857142857, Val F1: 0.9557102184513787, Epoch Time: 0.3987135887145996\n",
            "Epoch 34, Loss: 0.11505948735231702, Train Accuracy: 0.9532142857142857, Val Loss: 0.11580910330468958, Val Accuracy: 0.95, Train Precision: 0.9533159376989244, Train Recall: 0.9532142857142857, Train F1: 0.9532006805592408, Val Precision: 0.950002857352785, Val Recall: 0.95, Val F1: 0.9499994897698861, Epoch Time: 0.42798566818237305\n",
            "Epoch 35, Loss: 0.11142977157777006, Train Accuracy: 0.9564285714285714, Val Loss: 0.11170789463953539, Val Accuracy: 0.9571428571428572, Train Precision: 0.9564889128728415, Train Recall: 0.9564285714285714, Train F1: 0.956419157392913, Val Precision: 0.9571563866067637, Val Recall: 0.9571428571428572, Val F1: 0.9571418075030586, Epoch Time: 0.398313045501709\n",
            "Epoch 36, Loss: 0.10845977779139172, Train Accuracy: 0.9560714285714286, Val Loss: 0.10965947671370073, Val Accuracy: 0.9542857142857143, Train Precision: 0.956139360238331, Train Recall: 0.9560714285714286, Train F1: 0.9560613032586256, Val Precision: 0.954829131652661, Val Recall: 0.9542857142857143, Val F1: 0.9542767568475415, Epoch Time: 0.4243042469024658\n",
            "Epoch 37, Loss: 0.10610949764536186, Train Accuracy: 0.9582142857142857, Val Loss: 0.10751048204573718, Val Accuracy: 0.9614285714285714, Train Precision: 0.958283403385072, Train Recall: 0.9582142857142857, Train F1: 0.9582046543191804, Val Precision: 0.9614317086853029, Val Recall: 0.9614285714285714, Val F1: 0.9614281778224836, Epoch Time: 0.42926573753356934\n",
            "Epoch 38, Loss: 0.1028551095249978, Train Accuracy: 0.9614285714285714, Val Loss: 0.10272866555235603, Val Accuracy: 0.9571428571428572, Train Precision: 0.9614535303776683, Train Recall: 0.9614285714285714, Train F1: 0.9614233709565018, Val Precision: 0.9572053664726078, Val Recall: 0.9571428571428572, Val F1: 0.9571428571428572, Epoch Time: 0.3970010280609131\n",
            "Epoch 39, Loss: 0.10051195001737638, Train Accuracy: 0.9596428571428571, Val Loss: 0.10214429890567606, Val Accuracy: 0.96, Train Precision: 0.9596839446358144, Train Recall: 0.9596428571428571, Train F1: 0.9596358232464673, Val Precision: 0.960013716077202, Val Recall: 0.96, Val F1: 0.9599990203361879, Epoch Time: 0.435131311416626\n",
            "Epoch 40, Loss: 0.09770635388452899, Train Accuracy: 0.9610714285714286, Val Loss: 0.10024486143480647, Val Accuracy: 0.9571428571428572, Train Precision: 0.9610776786512304, Train Recall: 0.9610714285714286, Train F1: 0.9610685411490494, Val Precision: 0.9573873604837807, Val Recall: 0.9571428571428572, Val F1: 0.9571400582176446, Epoch Time: 0.4304826259613037\n",
            "Epoch 41, Loss: 0.09599862535568801, Train Accuracy: 0.96, Val Loss: 0.09593769162893295, Val Accuracy: 0.9628571428571429, Train Precision: 0.9600477445015134, Train Recall: 0.96, Train F1: 0.9599924816792006, Val Precision: 0.962873469387755, Val Recall: 0.9628571428571429, Val F1: 0.962857446066615, Epoch Time: 0.4359548091888428\n",
            "Total Training Time: 13.546696186065674\n",
            "\n",
            " Training on Dot using DCRBase has been completed!\n"
          ]
        },
        {
          "data": {
            "application/vnd.jupyter.widget-view+json": {
              "model_id": "899f47ec211d480da0a6f0e673bf72d3",
              "version_major": 2,
              "version_minor": 0
            },
            "text/plain": [
              "VBox(children=(Label(value='0.001 MB of 0.012 MB uploaded\\r'), FloatProgress(value=0.11634864165588615, max=1.…"
            ]
          },
          "metadata": {},
          "output_type": "display_data"
        },
        {
          "data": {
            "text/html": [
              "<style>\n",
              "    table.wandb td:nth-child(1) { padding: 0 10px; text-align: left ; width: auto;} td:nth-child(2) {text-align: left ; width: 100%}\n",
              "    .wandb-row { display: flex; flex-direction: row; flex-wrap: wrap; justify-content: flex-start; width: 100% }\n",
              "    .wandb-col { display: flex; flex-direction: column; flex-basis: 100%; flex: 1; padding: 10px; }\n",
              "    </style>\n",
              "<div class=\"wandb-row\"><div class=\"wandb-col\"><h3>Run history:</h3><br/><table class=\"wandb\"><tr><td>convergence_time</td><td>▁</td></tr><tr><td>epoch</td><td>▁▁▁▂▂▂▂▂▂▃▃▃▃▃▃▄▄▄▄▄▅▅▅▅▅▅▆▆▆▆▆▆▇▇▇▇▇▇██</td></tr><tr><td>epoch_time</td><td>▂▂▂▁▃▂▂▃▂▁▃▂▁▂▃▂▁▃▂▁▃▂▁▂▃▂▂▃▂▁▃▆▆█▆▇█▆██</td></tr><tr><td>learning_rate</td><td>▁▁▁▁▁▁▁▁▁▁▁▁▁▁▁▁▁▁▁▁▁▁▁▁▁▁▁▁▁▁▁▁▁▁▁▁▁▁▁▁</td></tr><tr><td>loss</td><td>█▇▇▆▅▄▄▃▃▃▃▃▃▂▂▂▂▂▂▂▂▂▂▂▂▁▁▁▁▁▁▁▁▁▁▁▁▁▁▁</td></tr><tr><td>total_training_time</td><td>▁</td></tr><tr><td>train_accuracy</td><td>▂▁▃▄▄▅▅▅▅▅▅▅▅▅▆▆▆▆▆▇▇▇▇▇▇███████████████</td></tr><tr><td>train_concept_accuracy</td><td>▁▆██▇▇███▇▇▇▇▇▇▇▇▆▇▆▆▆▆▆▆▆▆▆▆▆▆▆▆▇▆▇▆▇▇▇</td></tr><tr><td>train_concept_loss</td><td>█▇▆▅▄▄▃▂▂▂▂▂▂▁▂▁▁▁▂▁▁▁▁▁▁▁▁▁▁▁▁▁▁▁▁▁▁▁▁▁</td></tr><tr><td>train_f1</td><td>▂▁▃▄▄▅▅▅▅▅▅▅▅▅▆▆▆▆▆▇▇▇▇▇▇███████████████</td></tr><tr><td>train_precision</td><td>▂▁▃▄▄▅▅▅▅▅▅▅▅▅▆▆▆▆▆▇▇▇▇▇▇███████████████</td></tr><tr><td>train_recall</td><td>▂▁▃▄▄▅▅▅▅▅▅▅▅▅▆▆▆▆▆▇▇▇▇▇▇███████████████</td></tr><tr><td>train_task_accuracy</td><td>▂▁▃▄▄▅▅▅▅▅▅▅▅▅▆▆▆▆▆▇▇▇▇▇▇███████████████</td></tr><tr><td>train_task_loss</td><td>███▇▇▇▆▆▆▆▆▅▆▅▄▄▅▄▄▃▃▃▃▂▃▂▂▂▂▂▂▂▂▁▂▁▁▂▁▁</td></tr><tr><td>val_accuracy</td><td>▁▁▃▃▅▅▅▅▅▅▅▅▅▆▆▆▆▆▇▇▇▇▇▇▇███████████████</td></tr><tr><td>val_concept_accuracy</td><td>▁▇█▇▇███▇▇▇▇▇▇▇▆▆▆▆▆▆▇▆▆▆▆▆▆▇▇▇▇▇▇▇▇▇▇▇▇</td></tr><tr><td>val_concept_loss</td><td>█▇▆▅▄▃▃▂▂▂▂▂▂▂▂▂▂▁▁▁▁▁▁▁▁▁▁▁▁▁▁▁▁▁▁▁▁▁▁▁</td></tr><tr><td>val_f1</td><td>▁▁▃▄▅▅▅▅▅▅▅▅▆▆▆▆▆▆▇▇▇▇▇▇▇███████████████</td></tr><tr><td>val_learning_rate</td><td>▁▁▁▁▁▁▁▁▁▁▁▁▁▁▁▁▁▁▁▁▁▁▁▁▁▁▁▁▁▁▁▁▁▁▁▁▁▁▁▁</td></tr><tr><td>val_loss</td><td>█▇▆▆▅▄▄▃▃▃▃▃▃▂▂▂▂▂▂▂▂▂▂▂▂▁▁▁▁▁▁▁▁▁▁▁▁▁▁▁</td></tr><tr><td>val_precision</td><td>▁▁▃▃▅▅▅▅▅▅▅▅▅▆▆▆▆▆▇▇▇▇▇▇▇███████████████</td></tr><tr><td>val_recall</td><td>▁▁▃▃▅▅▅▅▅▅▅▅▅▆▆▆▆▆▇▇▇▇▇▇▇███████████████</td></tr><tr><td>val_task_accuracy</td><td>▁▁▃▃▅▅▅▅▅▅▅▅▅▆▆▆▆▆▇▇▇▇▇▇▇███████████████</td></tr><tr><td>val_task_loss</td><td>████▇▆▅▆▅▅▄▆▅▅▃▅▅▄▄▃▄▃▄▂▂▂▂▂▂▂▁▂▂▂▁▂▁▁▁▁</td></tr></table><br/></div><div class=\"wandb-col\"><h3>Run summary:</h3><br/><table class=\"wandb\"><tr><td>convergence_time</td><td>6.6662</td></tr><tr><td>epoch</td><td>41</td></tr><tr><td>epoch_time</td><td>0.43595</td></tr><tr><td>learning_rate</td><td>0.0005</td></tr><tr><td>loss</td><td>0.096</td></tr><tr><td>total_training_time</td><td>13.5467</td></tr><tr><td>train_accuracy</td><td>0.96</td></tr><tr><td>train_concept_accuracy</td><td>0.74429</td></tr><tr><td>train_concept_loss</td><td>0.03281</td></tr><tr><td>train_f1</td><td>0.95999</td></tr><tr><td>train_precision</td><td>0.96005</td></tr><tr><td>train_recall</td><td>0.96</td></tr><tr><td>train_task_accuracy</td><td>0.96</td></tr><tr><td>train_task_loss</td><td>0.09802</td></tr><tr><td>val_accuracy</td><td>0.96286</td></tr><tr><td>val_concept_accuracy</td><td>0.76143</td></tr><tr><td>val_concept_loss</td><td>0.02335</td></tr><tr><td>val_f1</td><td>0.96286</td></tr><tr><td>val_learning_rate</td><td>0.0005</td></tr><tr><td>val_loss</td><td>0.09594</td></tr><tr><td>val_precision</td><td>0.96287</td></tr><tr><td>val_recall</td><td>0.96286</td></tr><tr><td>val_task_accuracy</td><td>0.96286</td></tr><tr><td>val_task_loss</td><td>0.13606</td></tr></table><br/></div></div>"
            ],
            "text/plain": [
              "<IPython.core.display.HTML object>"
            ]
          },
          "metadata": {},
          "output_type": "display_data"
        },
        {
          "data": {
            "text/html": [
              " View run <strong style=\"color:#cdcd00\">DCRBase_Dot</strong> at: <a href='https://wandb.ai/alih999954-politecnico-di-torino/pytorch_explain/runs/urtzewa5' target=\"_blank\">https://wandb.ai/alih999954-politecnico-di-torino/pytorch_explain/runs/urtzewa5</a><br/> View project at: <a href='https://wandb.ai/alih999954-politecnico-di-torino/pytorch_explain' target=\"_blank\">https://wandb.ai/alih999954-politecnico-di-torino/pytorch_explain</a><br/>Synced 5 W&B file(s), 0 media file(s), 0 artifact file(s) and 0 other file(s)"
            ],
            "text/plain": [
              "<IPython.core.display.HTML object>"
            ]
          },
          "metadata": {},
          "output_type": "display_data"
        },
        {
          "data": {
            "text/html": [
              "Find logs at: <code>./wandb/run-20240723_091620-urtzewa5/logs</code>"
            ],
            "text/plain": [
              "<IPython.core.display.HTML object>"
            ]
          },
          "metadata": {},
          "output_type": "display_data"
        },
        {
          "data": {
            "text/html": [
              "The new W&B backend becomes opt-out in version 0.18.0; try it out with `wandb.require(\"core\")`! See https://wandb.me/wandb-core for more information."
            ],
            "text/plain": [
              "<IPython.core.display.HTML object>"
            ]
          },
          "metadata": {},
          "output_type": "display_data"
        },
        {
          "name": "stdout",
          "output_type": "stream",
          "text": [
            "===========================================================\n",
            "Training on LLR1 ... \n",
            "--------------------------------\n",
            "The following dataset has been loaded successfully: XOR\n"
          ]
        },
        {
          "data": {
            "text/html": [
              "Tracking run with wandb version 0.17.5"
            ],
            "text/plain": [
              "<IPython.core.display.HTML object>"
            ]
          },
          "metadata": {},
          "output_type": "display_data"
        },
        {
          "data": {
            "text/html": [
              "Run data is saved locally in <code>/content/pytorch_explain/wandb/run-20240723_091640-4fnnk94d</code>"
            ],
            "text/plain": [
              "<IPython.core.display.HTML object>"
            ]
          },
          "metadata": {},
          "output_type": "display_data"
        },
        {
          "data": {
            "text/html": [
              "Syncing run <strong><a href='https://wandb.ai/alih999954-politecnico-di-torino/pytorch_explain/runs/4fnnk94d' target=\"_blank\">LLR1_XOR</a></strong> to <a href='https://wandb.ai/alih999954-politecnico-di-torino/pytorch_explain' target=\"_blank\">Weights & Biases</a> (<a href='https://wandb.me/run' target=\"_blank\">docs</a>)<br/>"
            ],
            "text/plain": [
              "<IPython.core.display.HTML object>"
            ]
          },
          "metadata": {},
          "output_type": "display_data"
        },
        {
          "data": {
            "text/html": [
              " View project at <a href='https://wandb.ai/alih999954-politecnico-di-torino/pytorch_explain' target=\"_blank\">https://wandb.ai/alih999954-politecnico-di-torino/pytorch_explain</a>"
            ],
            "text/plain": [
              "<IPython.core.display.HTML object>"
            ]
          },
          "metadata": {},
          "output_type": "display_data"
        },
        {
          "data": {
            "text/html": [
              " View run at <a href='https://wandb.ai/alih999954-politecnico-di-torino/pytorch_explain/runs/4fnnk94d' target=\"_blank\">https://wandb.ai/alih999954-politecnico-di-torino/pytorch_explain/runs/4fnnk94d</a>"
            ],
            "text/plain": [
              "<IPython.core.display.HTML object>"
            ]
          },
          "metadata": {},
          "output_type": "display_data"
        },
        {
          "name": "stdout",
          "output_type": "stream",
          "text": [
            "-------------------------- Training XOR using LLR1 ----------------------\n",
            "Epoch 1, Loss: 1.0867823199792341, Train Accuracy: 0.44785714285714284, Val Loss: 1.0760117335753008, Val Accuracy: 0.4857142857142857, Train Precision: 0.4287976714317761, Train Recall: 0.44785714285714284, Train F1: 0.409320015715605, Val Precision: 0.4606690869118732, Val Recall: 0.4857142857142857, Val F1: 0.422344390114973, Epoch Time: 0.25629425048828125\n",
            "Epoch 2, Loss: 1.0737389759583906, Train Accuracy: 0.5107142857142857, Val Loss: 1.06346641887318, Val Accuracy: 0.5128571428571429, Train Precision: 0.5561287477954144, Train Recall: 0.5107142857142857, Train F1: 0.38307105472218334, Val Precision: 0.2630224489795918, Val Recall: 0.5128571428571429, Val F1: 0.3477161742884123, Epoch Time: 0.2920675277709961\n",
            "Epoch 3, Loss: 1.0610808337276632, Train Accuracy: 0.5010714285714286, Val Loss: 1.050393982367082, Val Accuracy: 0.5128571428571429, Train Precision: 0.25107257653061227, Train Recall: 0.5010714285714286, Train F1: 0.33452448931035655, Val Precision: 0.2630224489795918, Val Recall: 0.5128571428571429, Val F1: 0.3477161742884123, Epoch Time: 0.2767031192779541\n",
            "Epoch 4, Loss: 1.04584463076158, Train Accuracy: 0.5025, Val Loss: 1.0320536765185269, Val Accuracy: 0.51, Train Precision: 0.7503603361945638, Train Recall: 0.5025, Train F1: 0.3376921453546178, Val Precision: 0.47555190058479535, Val Recall: 0.51, Val F1: 0.36330306619292013, Epoch Time: 0.27101564407348633\n",
            "Epoch 5, Loss: 1.0238274241035634, Train Accuracy: 0.48214285714285715, Val Loss: 1.0077304731715808, Val Accuracy: 0.5014285714285714, Train Precision: 0.47208285444177095, Train Recall: 0.48214285714285715, Train F1: 0.4341753563800494, Val Precision: 0.48394788710186065, Val Recall: 0.5014285714285714, Val F1: 0.4250904451973765, Epoch Time: 0.2814500331878662\n",
            "Epoch 6, Loss: 0.9971798211336136, Train Accuracy: 0.5003571428571428, Val Loss: 0.9791431589560076, Val Accuracy: 0.5128571428571429, Train Precision: 0.49990364140607557, Train Recall: 0.5003571428571428, Train F1: 0.47842903891163796, Val Precision: 0.2630224489795918, Val Recall: 0.5128571428571429, Val F1: 0.3477161742884123, Epoch Time: 0.3016812801361084\n",
            "Epoch 7, Loss: 0.9685732654549859, Train Accuracy: 0.5235714285714286, Val Loss: 0.949219980023124, Val Accuracy: 0.61, Train Precision: 0.6506097724905064, Train Recall: 0.5235714285714286, Train F1: 0.3947835090883123, Val Precision: 0.6853875121477163, Val Recall: 0.61, Val F1: 0.5585780121261285, Epoch Time: 0.27332496643066406\n",
            "Epoch 8, Loss: 0.9387657642364502, Train Accuracy: 0.6621428571428571, Val Loss: 0.9177253842353821, Val Accuracy: 0.6828571428571428, Train Precision: 0.6809648066573682, Train Recall: 0.6621428571428571, Train F1: 0.6528934620253639, Val Precision: 0.7134687930538898, Val Recall: 0.6828571428571428, Val F1: 0.6681953879682715, Epoch Time: 0.28708505630493164\n",
            "Epoch 9, Loss: 0.9067077568986199, Train Accuracy: 0.7635714285714286, Val Loss: 0.8805918964472684, Val Accuracy: 0.8585714285714285, Train Precision: 0.7641346867131259, Train Recall: 0.7635714285714286, Train F1: 0.763428029087455, Val Precision: 0.8656087383406971, Val Recall: 0.8585714285714285, Val F1: 0.8581773498713389, Epoch Time: 0.2667827606201172\n",
            "Epoch 10, Loss: 0.8610935455018823, Train Accuracy: 0.8514285714285714, Val Loss: 0.8221512165936556, Val Accuracy: 0.8757142857142857, Train Precision: 0.859248620615794, Train Recall: 0.8514285714285714, Train F1: 0.8506438095238095, Val Precision: 0.8849597131576826, Val Recall: 0.8757142857142857, Val F1: 0.8752425962866349, Epoch Time: 0.2640247344970703\n",
            "Epoch 11, Loss: 0.8039277615872297, Train Accuracy: 0.8607142857142858, Val Loss: 0.7666207985444502, Val Accuracy: 0.8685714285714285, Train Precision: 0.87149338035801, Train Recall: 0.8607142857142858, Train F1: 0.8597265351163027, Val Precision: 0.86896886621815, Val Recall: 0.8685714285714285, Val F1: 0.8685928891003839, Epoch Time: 0.26370954513549805\n",
            "Epoch 12, Loss: 0.7576588432897221, Train Accuracy: 0.8660714285714286, Val Loss: 0.7246657284823331, Val Accuracy: 0.8914285714285715, Train Precision: 0.8698502457404642, Train Recall: 0.8660714285714286, Train F1: 0.8657455012266578, Val Precision: 0.8928676605346622, Val Recall: 0.8914285714285715, Val F1: 0.8914197083824591, Epoch Time: 0.28835248947143555\n",
            "Epoch 13, Loss: 0.7224610610441728, Train Accuracy: 0.8792857142857143, Val Loss: 0.694310025735335, Val Accuracy: 0.9, Train Precision: 0.8820204459022888, Train Recall: 0.8792857142857143, Train F1: 0.8790818983843537, Val Precision: 0.9001616445289856, Val Recall: 0.9, Val F1: 0.9000146981970212, Epoch Time: 0.2711350917816162\n",
            "Convergence achieved at epoch 13 with validation accuracy 0.9\n",
            "Epoch 14, Loss: 0.6908243244344537, Train Accuracy: 0.8971428571428571, Val Loss: 0.6643934195691888, Val Accuracy: 0.9185714285714286, Train Precision: 0.8990336965810574, Train Recall: 0.8971428571428571, Train F1: 0.8970293871401392, Val Precision: 0.9189020408163264, Val Recall: 0.9185714285714286, Val F1: 0.9185848914383223, Epoch Time: 0.30922651290893555\n",
            "Epoch 15, Loss: 0.6646991263736378, Train Accuracy: 0.9117857142857143, Val Loss: 0.6410446546294473, Val Accuracy: 0.9257142857142857, Train Precision: 0.9137029257247332, Train Recall: 0.9117857142857143, Train F1: 0.9116904839151173, Val Precision: 0.9262802514936957, Val Recall: 0.9257142857142857, Val F1: 0.9257252019681914, Epoch Time: 0.39438414573669434\n",
            "Epoch 16, Loss: 0.6417436057871039, Train Accuracy: 0.9292857142857143, Val Loss: 0.6219053647734902, Val Accuracy: 0.9414285714285714, Train Precision: 0.9308454558491825, Train Recall: 0.9292857142857143, Train F1: 0.9292265714508919, Val Precision: 0.9434370094191523, Val Recall: 0.9414285714285714, Val F1: 0.9414148243715059, Epoch Time: 0.37874841690063477\n",
            "Epoch 17, Loss: 0.6233933256431059, Train Accuracy: 0.9439285714285715, Val Loss: 0.6068408001552928, Val Accuracy: 0.9642857142857143, Train Precision: 0.9452818446551984, Train Recall: 0.9439285714285715, Train F1: 0.943889446463144, Val Precision: 0.9644898025824751, Val Recall: 0.9642857142857143, Val F1: 0.9642913279168355, Epoch Time: 0.3615992069244385\n",
            "Epoch 18, Loss: 0.6081618842753497, Train Accuracy: 0.9539285714285715, Val Loss: 0.5948732657866045, Val Accuracy: 0.9657142857142857, Train Precision: 0.9553109975333418, Train Recall: 0.9539285714285715, Train F1: 0.9538964241639847, Val Precision: 0.9664948531770332, Val Recall: 0.9657142857142857, Val F1: 0.9657182042095834, Epoch Time: 0.43578600883483887\n",
            "Epoch 19, Loss: 0.5968737900257111, Train Accuracy: 0.9617857142857142, Val Loss: 0.5857265158133074, Val Accuracy: 0.9685714285714285, Train Precision: 0.962502625342017, Train Recall: 0.9617857142857142, Train F1: 0.9617725741008183, Val Precision: 0.9688347076885757, Val Recall: 0.9685714285714285, Val F1: 0.9685765608141602, Epoch Time: 0.37135744094848633\n",
            "Epoch 20, Loss: 0.5888759751211513, Train Accuracy: 0.9653571428571428, Val Loss: 0.5795076543634589, Val Accuracy: 0.9785714285714285, Train Precision: 0.9658407541276944, Train Recall: 0.9653571428571428, Train F1: 0.9653493864780948, Val Precision: 0.9792522171992144, Val Recall: 0.9785714285714285, Val F1: 0.9785742712820625, Epoch Time: 0.38308286666870117\n",
            "Epoch 21, Loss: 0.5800070302052931, Train Accuracy: 0.9764285714285714, Val Loss: 0.5704507719386708, Val Accuracy: 0.9814285714285714, Train Precision: 0.976745072353247, Train Recall: 0.9764285714285714, Train F1: 0.9764253239712285, Val Precision: 0.9816307004776832, Val Recall: 0.9814285714285714, Val F1: 0.9814314905167544, Epoch Time: 0.357985258102417\n",
            "Epoch 22, Loss: 0.5735947747122158, Train Accuracy: 0.9792857142857143, Val Loss: 0.5659760453484275, Val Accuracy: 0.9785714285714285, Train Precision: 0.9795372391200218, Train Recall: 0.9792857142857143, Train F1: 0.979283515845426, Val Precision: 0.9786613683935113, Val Recall: 0.9785714285714285, Val F1: 0.9785663939816076, Epoch Time: 0.3533668518066406\n",
            "Epoch 23, Loss: 0.5701830942522396, Train Accuracy: 0.9810714285714286, Val Loss: 0.5623338764364069, Val Accuracy: 0.9842857142857143, Train Precision: 0.9811428617351531, Train Recall: 0.9810714285714286, Train F1: 0.981070977079402, Val Precision: 0.9846163265306122, Val Recall: 0.9842857142857143, Val F1: 0.984288312382834, Epoch Time: 0.43294477462768555\n",
            "Epoch 24, Loss: 0.5663159448992122, Train Accuracy: 0.9814285714285714, Val Loss: 0.5599770708517595, Val Accuracy: 0.9828571428571429, Train Precision: 0.9815707666878108, Train Recall: 0.9814285714285714, Train F1: 0.9814275480626641, Val Precision: 0.9829252617152189, Val Recall: 0.9828571428571429, Val F1: 0.9828591028248034, Epoch Time: 0.4107367992401123\n",
            "Epoch 25, Loss: 0.5642059987241571, Train Accuracy: 0.9839285714285714, Val Loss: 0.5583017793568698, Val Accuracy: 0.9771428571428571, Train Precision: 0.9841983837330553, Train Recall: 0.9839285714285714, Train F1: 0.9839267447736622, Val Precision: 0.9772119091359752, Val Recall: 0.9771428571428571, Val F1: 0.9771454704330712, Epoch Time: 0.4390404224395752\n",
            "Epoch 26, Loss: 0.56192278184674, Train Accuracy: 0.9825, Val Loss: 0.5566780079494823, Val Accuracy: 0.9828571428571429, Train Precision: 0.982589389226348, Train Recall: 0.9825, Train F1: 0.9824994486488292, Val Precision: 0.9831194890220679, Val Recall: 0.9828571428571429, Val F1: 0.9828599422622692, Epoch Time: 0.38931775093078613\n",
            "Epoch 27, Loss: 0.55883243273605, Train Accuracy: 0.9867857142857143, Val Loss: 0.553212891925465, Val Accuracy: 0.9857142857142858, Train Precision: 0.9869175888665325, Train Recall: 0.9867857142857143, Train F1: 0.9867850552326302, Val Precision: 0.9859764452887662, Val Recall: 0.9857142857142858, Val F1: 0.9857166185518911, Epoch Time: 0.25548744201660156\n",
            "Epoch 28, Loss: 0.5569169609384104, Train Accuracy: 0.9871428571428571, Val Loss: 0.5509331659837202, Val Accuracy: 0.9885714285714285, Train Precision: 0.9872865221205384, Train Recall: 0.9871428571428571, Train F1: 0.9871421486587675, Val Precision: 0.9885890682803733, Val Recall: 0.9885714285714285, Val F1: 0.9885721753172503, Epoch Time: 0.25867772102355957\n",
            "Epoch 29, Loss: 0.5554671693931926, Train Accuracy: 0.9857142857142858, Val Loss: 0.5492881699041887, Val Accuracy: 0.9857142857142858, Train Precision: 0.9858347306387991, Train Recall: 0.9857142857142858, Train F1: 0.9857136442939246, Val Precision: 0.9858633345656883, Val Recall: 0.9857142857142858, Val F1: 0.9857163854567174, Epoch Time: 0.2834181785583496\n",
            "Epoch 30, Loss: 0.554003276608207, Train Accuracy: 0.9857142857142858, Val Loss: 0.5478254935958169, Val Accuracy: 0.9871428571428571, Train Precision: 0.9858347306387991, Train Recall: 0.9857142857142858, Train F1: 0.9857136442939246, Val Precision: 0.9872470106882765, Val Recall: 0.9871428571428571, Val F1: 0.9871445632706557, Epoch Time: 0.2834599018096924\n",
            "Epoch 31, Loss: 0.552341113036329, Train Accuracy: 0.9896428571428572, Val Loss: 0.5490790984847329, Val Accuracy: 0.9828571428571429, Train Precision: 0.9897533779636459, Train Recall: 0.9896428571428572, Train F1: 0.98964244099571, Val Precision: 0.9829917340888512, Val Recall: 0.9828571428571429, Val F1: 0.9828520990271946, Epoch Time: 0.256885290145874\n",
            "Epoch 32, Loss: 0.5511153936386108, Train Accuracy: 0.9867857142857143, Val Loss: 0.549459614536979, Val Accuracy: 0.98, Train Precision: 0.9868060138568143, Train Recall: 0.9867857142857143, Train F1: 0.9867856687772801, Val Precision: 0.9805819203043489, Val Recall: 0.98, Val F1: 0.9800029389914362, Epoch Time: 0.3040008544921875\n",
            "Epoch 33, Loss: 0.5505682080984116, Train Accuracy: 0.9892857142857143, Val Loss: 0.5478345372460105, Val Accuracy: 0.9785714285714285, Train Precision: 0.9893498889153488, Train Recall: 0.9892857142857143, Train F1: 0.989285495624033, Val Precision: 0.9786769817165623, Val Recall: 0.9785714285714285, Val F1: 0.9785742721177595, Epoch Time: 0.2627854347229004\n",
            "Epoch 34, Loss: 0.5482806075703014, Train Accuracy: 0.9896428571428572, Val Loss: 0.5462037162347273, Val Accuracy: 0.9842857142857143, Train Precision: 0.9897333543856457, Train Recall: 0.9896428571428572, Train F1: 0.9896425308329806, Val Precision: 0.984324769494942, Val Recall: 0.9842857142857143, Val F1: 0.984287158097377, Epoch Time: 0.26335620880126953\n",
            "Epoch 35, Loss: 0.5481628389521078, Train Accuracy: 0.9892857142857143, Val Loss: 0.5433525280518965, Val Accuracy: 0.9871428571428571, Train Precision: 0.989321860094364, Train Recall: 0.9892857142857143, Train F1: 0.989285615888761, Val Precision: 0.9871814924035984, Val Recall: 0.9871428571428571, Val F1: 0.9871440384433084, Epoch Time: 0.2698020935058594\n",
            "Epoch 36, Loss: 0.5473869429393248, Train Accuracy: 0.9907142857142858, Val Loss: 0.5431679324670271, Val Accuracy: 0.9885714285714285, Train Precision: 0.9907635591643302, Train Recall: 0.9907142857142858, Train F1: 0.9907141530601415, Val Precision: 0.9886386142944624, Val Recall: 0.9885714285714285, Val F1: 0.9885727352165357, Epoch Time: 0.290848970413208\n",
            "Epoch 37, Loss: 0.5457423681562598, Train Accuracy: 0.9925, Val Loss: 0.5414619879289106, Val Accuracy: 0.9928571428571429, Train Precision: 0.9925426169702535, Train Recall: 0.9925, Train F1: 0.9924999129458846, Val Precision: 0.9928949382209115, Val Recall: 0.9928571428571429, Val F1: 0.9928577991351715, Epoch Time: 0.27156901359558105\n",
            "Epoch 38, Loss: 0.5448889949105002, Train Accuracy: 0.9935714285714285, Val Loss: 0.5406632911075245, Val Accuracy: 0.9942857142857143, Train Precision: 0.9936209265251288, Train Recall: 0.9935714285714285, Train F1: 0.9935713367339444, Val Precision: 0.9942857142857143, Val Recall: 0.9942857142857143, Val F1: 0.9942857142857143, Epoch Time: 0.26920652389526367\n",
            "Epoch 39, Loss: 0.5449762276627801, Train Accuracy: 0.9903571428571428, Val Loss: 0.5437081889672712, Val Accuracy: 0.9771428571428571, Train Precision: 0.990369505202958, Train Recall: 0.9903571428571428, Train F1: 0.990357134247448, Val Precision: 0.977161803496909, Val Recall: 0.9771428571428571, Val F1: 0.9771443506345004, Epoch Time: 0.2850973606109619\n",
            "Epoch 40, Loss: 0.5432328649542548, Train Accuracy: 0.9932142857142857, Val Loss: 0.5396664386445825, Val Accuracy: 0.9914285714285714, Train Precision: 0.9932448493944992, Train Recall: 0.9932142857142857, Train F1: 0.9932142381102709, Val Precision: 0.9914433732211293, Val Recall: 0.9914285714285714, Val F1: 0.9914278711484592, Epoch Time: 0.28763580322265625\n",
            "Epoch 41, Loss: 0.5428078635172411, Train Accuracy: 0.9921428571428571, Val Loss: 0.540753570469943, Val Accuracy: 0.9885714285714285, Train Precision: 0.992146922742599, Train Recall: 0.9921428571428571, Train F1: 0.9921428651603539, Val Precision: 0.9886319669001082, Val Recall: 0.9885714285714285, Val F1: 0.9885693740639441, Epoch Time: 0.2705118656158447\n",
            "Total Training Time: 12.82045865058899\n",
            "\n",
            " Training on XOR using LLR1 has been completed!\n"
          ]
        },
        {
          "data": {
            "application/vnd.jupyter.widget-view+json": {
              "model_id": "ca8aee0451034294854058582f198972",
              "version_major": 2,
              "version_minor": 0
            },
            "text/plain": [
              "VBox(children=(Label(value='0.001 MB of 0.001 MB uploaded\\r'), FloatProgress(value=1.0, max=1.0)))"
            ]
          },
          "metadata": {},
          "output_type": "display_data"
        },
        {
          "data": {
            "text/html": [
              "<style>\n",
              "    table.wandb td:nth-child(1) { padding: 0 10px; text-align: left ; width: auto;} td:nth-child(2) {text-align: left ; width: 100%}\n",
              "    .wandb-row { display: flex; flex-direction: row; flex-wrap: wrap; justify-content: flex-start; width: 100% }\n",
              "    .wandb-col { display: flex; flex-direction: column; flex-basis: 100%; flex: 1; padding: 10px; }\n",
              "    </style>\n",
              "<div class=\"wandb-row\"><div class=\"wandb-col\"><h3>Run history:</h3><br/><table class=\"wandb\"><tr><td>convergence_time</td><td>▁</td></tr><tr><td>epoch</td><td>▁▁▁▂▂▂▂▂▂▃▃▃▃▃▃▄▄▄▄▄▅▅▅▅▅▅▆▆▆▆▆▆▇▇▇▇▇▇██</td></tr><tr><td>epoch_time</td><td>▁▂▂▂▂▃▂▂▁▁▁▂▂▃▆▆▅█▅▆▅▅█▇█▆▁▁▂▂▁▃▁▁▂▂▂▂▂▂</td></tr><tr><td>learning_rate</td><td>▁▁▁▁▁▁▁▁▁▁▁▁▁▁▁▁▁▁▁▁▁▁▁▁▁▁▁▁▁▁▁▁▁▁▁▁▁▁▁▁</td></tr><tr><td>loss</td><td>███▇▇▇▆▆▆▅▄▄▃▃▃▂▂▂▂▂▁▁▁▁▁▁▁▁▁▁▁▁▁▁▁▁▁▁▁▁</td></tr><tr><td>total_training_time</td><td>▁</td></tr><tr><td>train_accuracy</td><td>▁▂▂▂▁▂▂▄▅▆▆▆▇▇▇▇▇▇██████████████████████</td></tr><tr><td>train_concept_accuracy</td><td>▁▂▅▆▇▇██████████████████████████████████</td></tr><tr><td>train_concept_loss</td><td>▇█▆█▆▆▅▄▅▄▅▅▃▂▃▁▂▃▂▂▃▂▃▁▂▂▂▁▂▂▁▂▂▃▄▂▁▁▂▂</td></tr><tr><td>train_f1</td><td>▂▂▁▁▂▃▂▄▆▆▇▇▇▇▇▇▇███████████████████████</td></tr><tr><td>train_precision</td><td>▃▄▁▆▃▃▅▅▆▇▇▇▇▇▇▇████████████████████████</td></tr><tr><td>train_recall</td><td>▁▂▂▂▁▂▂▄▅▆▆▆▇▇▇▇▇▇██████████████████████</td></tr><tr><td>train_task_accuracy</td><td>▁▂▂▂▁▂▂▄▅▆▆▆▇▇▇▇▇▇██████████████████████</td></tr><tr><td>train_task_loss</td><td>████████▇▇▆▅▄▃▃▂▃▂▂▂▂▂▂▂▁▂▂▂▂▁▁▁▁▁▂▁▁▁▁▂</td></tr><tr><td>val_accuracy</td><td>▁▁▁▁▁▁▃▄▆▆▆▇▇▇▇▇████████████████████████</td></tr><tr><td>val_concept_accuracy</td><td>▁▄▆▆▇▇█▇████████▇███████████████████████</td></tr><tr><td>val_concept_loss</td><td>▇█▇▇▅▆▆▄▃▄▄▃▂▄▄▃▂▃▂▃▂▃▂▃▂▂▂▃▂▂▂▁▃▁▂▁▃▃▂▂</td></tr><tr><td>val_f1</td><td>▂▁▁▁▂▁▃▄▇▇▇▇▇▇▇▇████████████████████████</td></tr><tr><td>val_learning_rate</td><td>▁▁▁▁▁▁▁▁▁▁▁▁▁▁▁▁▁▁▁▁▁▁▁▁▁▁▁▁▁▁▁▁▁▁▁▁▁▁▁▁</td></tr><tr><td>val_loss</td><td>███▇▇▇▆▆▅▅▄▃▃▃▂▂▂▂▂▂▁▁▁▁▁▁▁▁▁▁▁▁▁▁▁▁▁▁▁▁</td></tr><tr><td>val_precision</td><td>▃▁▁▃▃▁▅▅▇▇▇▇▇▇▇█████████████████████████</td></tr><tr><td>val_recall</td><td>▁▁▁▁▁▁▃▄▆▆▆▇▇▇▇▇████████████████████████</td></tr><tr><td>val_task_accuracy</td><td>▁▁▁▁▁▁▃▄▆▆▆▇▇▇▇▇████████████████████████</td></tr><tr><td>val_task_loss</td><td>████████▇▆▅▄▃▄▃▂▂▃▁▂▁▂▁▁▁▁▁▁▁▁▁▁▁▁▁▁▁▁▁▁</td></tr></table><br/></div><div class=\"wandb-col\"><h3>Run summary:</h3><br/><table class=\"wandb\"><tr><td>convergence_time</td><td>3.617</td></tr><tr><td>epoch</td><td>41</td></tr><tr><td>epoch_time</td><td>0.27051</td></tr><tr><td>learning_rate</td><td>0.0005</td></tr><tr><td>loss</td><td>0.54281</td></tr><tr><td>total_training_time</td><td>12.82046</td></tr><tr><td>train_accuracy</td><td>0.99214</td></tr><tr><td>train_concept_accuracy</td><td>0.74786</td></tr><tr><td>train_concept_loss</td><td>0.52721</td></tr><tr><td>train_f1</td><td>0.99214</td></tr><tr><td>train_precision</td><td>0.99215</td></tr><tr><td>train_recall</td><td>0.99214</td></tr><tr><td>train_task_accuracy</td><td>0.99214</td></tr><tr><td>train_task_loss</td><td>0.05436</td></tr><tr><td>val_accuracy</td><td>0.98857</td></tr><tr><td>val_concept_accuracy</td><td>0.74714</td></tr><tr><td>val_concept_loss</td><td>0.53452</td></tr><tr><td>val_f1</td><td>0.98857</td></tr><tr><td>val_learning_rate</td><td>0.0005</td></tr><tr><td>val_loss</td><td>0.54075</td></tr><tr><td>val_precision</td><td>0.98863</td></tr><tr><td>val_recall</td><td>0.98857</td></tr><tr><td>val_task_accuracy</td><td>0.98857</td></tr><tr><td>val_task_loss</td><td>0.04665</td></tr></table><br/></div></div>"
            ],
            "text/plain": [
              "<IPython.core.display.HTML object>"
            ]
          },
          "metadata": {},
          "output_type": "display_data"
        },
        {
          "data": {
            "text/html": [
              " View run <strong style=\"color:#cdcd00\">LLR1_XOR</strong> at: <a href='https://wandb.ai/alih999954-politecnico-di-torino/pytorch_explain/runs/4fnnk94d' target=\"_blank\">https://wandb.ai/alih999954-politecnico-di-torino/pytorch_explain/runs/4fnnk94d</a><br/> View project at: <a href='https://wandb.ai/alih999954-politecnico-di-torino/pytorch_explain' target=\"_blank\">https://wandb.ai/alih999954-politecnico-di-torino/pytorch_explain</a><br/>Synced 5 W&B file(s), 0 media file(s), 0 artifact file(s) and 0 other file(s)"
            ],
            "text/plain": [
              "<IPython.core.display.HTML object>"
            ]
          },
          "metadata": {},
          "output_type": "display_data"
        },
        {
          "data": {
            "text/html": [
              "Find logs at: <code>./wandb/run-20240723_091640-4fnnk94d/logs</code>"
            ],
            "text/plain": [
              "<IPython.core.display.HTML object>"
            ]
          },
          "metadata": {},
          "output_type": "display_data"
        },
        {
          "data": {
            "text/html": [
              "The new W&B backend becomes opt-out in version 0.18.0; try it out with `wandb.require(\"core\")`! See https://wandb.me/wandb-core for more information."
            ],
            "text/plain": [
              "<IPython.core.display.HTML object>"
            ]
          },
          "metadata": {},
          "output_type": "display_data"
        },
        {
          "name": "stdout",
          "output_type": "stream",
          "text": [
            "The following dataset has been loaded successfully: XNOR\n"
          ]
        },
        {
          "data": {
            "text/html": [
              "Tracking run with wandb version 0.17.5"
            ],
            "text/plain": [
              "<IPython.core.display.HTML object>"
            ]
          },
          "metadata": {},
          "output_type": "display_data"
        },
        {
          "data": {
            "text/html": [
              "Run data is saved locally in <code>/content/pytorch_explain/wandb/run-20240723_091700-5rjjo5vp</code>"
            ],
            "text/plain": [
              "<IPython.core.display.HTML object>"
            ]
          },
          "metadata": {},
          "output_type": "display_data"
        },
        {
          "data": {
            "text/html": [
              "Syncing run <strong><a href='https://wandb.ai/alih999954-politecnico-di-torino/pytorch_explain/runs/5rjjo5vp' target=\"_blank\">LLR1_XNOR</a></strong> to <a href='https://wandb.ai/alih999954-politecnico-di-torino/pytorch_explain' target=\"_blank\">Weights & Biases</a> (<a href='https://wandb.me/run' target=\"_blank\">docs</a>)<br/>"
            ],
            "text/plain": [
              "<IPython.core.display.HTML object>"
            ]
          },
          "metadata": {},
          "output_type": "display_data"
        },
        {
          "data": {
            "text/html": [
              " View project at <a href='https://wandb.ai/alih999954-politecnico-di-torino/pytorch_explain' target=\"_blank\">https://wandb.ai/alih999954-politecnico-di-torino/pytorch_explain</a>"
            ],
            "text/plain": [
              "<IPython.core.display.HTML object>"
            ]
          },
          "metadata": {},
          "output_type": "display_data"
        },
        {
          "data": {
            "text/html": [
              " View run at <a href='https://wandb.ai/alih999954-politecnico-di-torino/pytorch_explain/runs/5rjjo5vp' target=\"_blank\">https://wandb.ai/alih999954-politecnico-di-torino/pytorch_explain/runs/5rjjo5vp</a>"
            ],
            "text/plain": [
              "<IPython.core.display.HTML object>"
            ]
          },
          "metadata": {},
          "output_type": "display_data"
        },
        {
          "name": "stdout",
          "output_type": "stream",
          "text": [
            "-------------------------- Training XNOR using LLR1 ----------------------\n",
            "Epoch 1, Loss: 1.0767670951106332, Train Accuracy: 0.48892857142857143, Val Loss: 1.0617602413350886, Val Accuracy: 0.5271428571428571, Train Precision: 0.2390511479591837, Train Recall: 0.48892857142857143, Train F1: 0.3211049240996471, Val Precision: 0.2778795918367347, Val Recall: 0.5271428571428571, Val F1: 0.36392088734464784, Epoch Time: 0.36129140853881836\n",
            "Epoch 2, Loss: 1.0603158338503405, Train Accuracy: 0.5514285714285714, Val Loss: 1.0479580922560259, Val Accuracy: 0.42714285714285716, Train Precision: 0.6365702040128371, Train Recall: 0.5514285714285714, Train F1: 0.4798972915926795, Val Precision: 0.42977879665379665, Val Recall: 0.42714285714285716, Val F1: 0.41711970506912444, Epoch Time: 0.40888214111328125\n",
            "Epoch 3, Loss: 1.0479966754263097, Train Accuracy: 0.5067857142857143, Val Loss: 1.039899630980058, Val Accuracy: 0.47285714285714286, Train Precision: 0.4689255428386829, Train Recall: 0.5067857142857143, Train F1: 0.3645478258158197, Val Precision: 0.22359387755102042, Val Recall: 0.47285714285714286, Val F1: 0.30361923236802, Epoch Time: 0.4533061981201172\n",
            "Epoch 4, Loss: 1.0388951301574707, Train Accuracy: 0.5110714285714286, Val Loss: 1.031296199018305, Val Accuracy: 0.47285714285714286, Train Precision: 0.2611940051020408, Train Recall: 0.5110714285714286, Train F1: 0.3457070263699902, Val Precision: 0.22359387755102042, Val Recall: 0.47285714285714286, Val F1: 0.30361923236802, Epoch Time: 0.4437711238861084\n",
            "Epoch 5, Loss: 1.0288976620544086, Train Accuracy: 0.5110714285714286, Val Loss: 1.0201811682094226, Val Accuracy: 0.47285714285714286, Train Precision: 0.2611940051020408, Train Recall: 0.5110714285714286, Train F1: 0.3457070263699902, Val Precision: 0.22359387755102042, Val Recall: 0.47285714285714286, Val F1: 0.30361923236802, Epoch Time: 0.48865365982055664\n",
            "Epoch 6, Loss: 1.0152491005984219, Train Accuracy: 0.5110714285714286, Val Loss: 1.003403907472437, Val Accuracy: 0.47285714285714286, Train Precision: 0.2611940051020408, Train Recall: 0.5110714285714286, Train F1: 0.3457070263699902, Val Precision: 0.22359387755102042, Val Recall: 0.47285714285714286, Val F1: 0.30361923236802, Epoch Time: 0.33446526527404785\n",
            "Epoch 7, Loss: 0.9947030530734495, Train Accuracy: 0.5110714285714286, Val Loss: 0.9794541218064048, Val Accuracy: 0.47285714285714286, Train Precision: 0.2611940051020408, Train Recall: 0.5110714285714286, Train F1: 0.3457070263699902, Val Precision: 0.22359387755102042, Val Recall: 0.47285714285714286, Val F1: 0.30361923236802, Epoch Time: 0.274630069732666\n",
            "Epoch 8, Loss: 0.9634406241503629, Train Accuracy: 0.53, Val Loss: 0.9426271156831221, Val Accuracy: 0.5628571428571428, Train Precision: 0.7551619949035311, Train Recall: 0.53, Train F1: 0.3865386435814416, Val Precision: 0.7728504148912313, Val Recall: 0.5628571428571428, Val F1: 0.477129574970484, Epoch Time: 0.275864839553833\n",
            "Epoch 9, Loss: 0.9215644232251428, Train Accuracy: 0.7239285714285715, Val Loss: 0.8983033299446106, Val Accuracy: 0.8171428571428572, Train Precision: 0.770833010137554, Train Recall: 0.7239285714285715, Train F1: 0.7094594517879612, Val Precision: 0.8199685623030037, Val Recall: 0.8171428571428572, Val F1: 0.8172473682675764, Epoch Time: 0.26746249198913574\n",
            "Epoch 10, Loss: 0.8710924834012985, Train Accuracy: 0.8214285714285714, Val Loss: 0.842666441744024, Val Accuracy: 0.8357142857142857, Train Precision: 0.8218180097073062, Train Recall: 0.8214285714285714, Train F1: 0.8212697520226655, Val Precision: 0.8356623018995167, Val Recall: 0.8357142857142857, Val F1: 0.8356729046849644, Epoch Time: 0.27724385261535645\n",
            "Epoch 11, Loss: 0.8162718970667232, Train Accuracy: 0.8439285714285715, Val Loss: 0.7933456410061229, Val Accuracy: 0.8371428571428572, Train Precision: 0.8451019060518086, Train Recall: 0.8439285714285715, Train F1: 0.8439091616169496, Val Precision: 0.8371032041881385, Val Recall: 0.8371428571428572, Val F1: 0.837116181116181, Epoch Time: 0.27956175804138184\n",
            "Epoch 12, Loss: 0.7750493856993589, Train Accuracy: 0.8464285714285714, Val Loss: 0.7590327696366743, Val Accuracy: 0.85, Train Precision: 0.847520659664889, Train Recall: 0.8464285714285714, Train F1: 0.8464144677501353, Val Precision: 0.8500904605263158, Val Recall: 0.85, Val F1: 0.8498341875188423, Epoch Time: 0.2688884735107422\n",
            "Epoch 13, Loss: 0.7503073025833477, Train Accuracy: 0.8567857142857143, Val Loss: 0.7366155982017517, Val Accuracy: 0.8585714285714285, Train Precision: 0.8580407605499464, Train Recall: 0.8567857142857143, Train F1: 0.8567646151470272, Val Precision: 0.8587827107529764, Val Recall: 0.8585714285714285, Val F1: 0.8583790458565334, Epoch Time: 0.27448534965515137\n",
            "Epoch 14, Loss: 0.728582726283507, Train Accuracy: 0.8682142857142857, Val Loss: 0.7155423326925798, Val Accuracy: 0.87, Train Precision: 0.8696835130856916, Train Recall: 0.8682142857142857, Train F1: 0.8681849852778708, Val Precision: 0.8707157018239492, Val Recall: 0.87, Val F1: 0.8697107556019401, Epoch Time: 0.2549314498901367\n",
            "Epoch 15, Loss: 0.709970010952516, Train Accuracy: 0.8764285714285714, Val Loss: 0.6949942274527117, Val Accuracy: 0.8814285714285715, Train Precision: 0.8781632009999099, Train Recall: 0.8764285714285714, Train F1: 0.8763888480684804, Val Precision: 0.8824285714285715, Val Recall: 0.8814285714285715, Val F1: 0.8811266099429974, Epoch Time: 0.2834770679473877\n",
            "Epoch 16, Loss: 0.6914402490312402, Train Accuracy: 0.8875, Val Loss: 0.6754047653891824, Val Accuracy: 0.8885714285714286, Train Precision: 0.8891538706828886, Train Recall: 0.8875, Train F1: 0.8874687873714423, Val Precision: 0.8892961693184592, Val Recall: 0.8885714285714286, Val F1: 0.8883407275953858, Epoch Time: 0.2654738426208496\n",
            "Epoch 17, Loss: 0.6703793054277246, Train Accuracy: 0.9017857142857143, Val Loss: 0.6500602472912181, Val Accuracy: 0.9057142857142857, Train Precision: 0.9031894416410196, Train Recall: 0.9017857142857143, Train F1: 0.9017688894581519, Val Precision: 0.9065332809697176, Val Recall: 0.9057142857142857, Val F1: 0.9055190771960958, Epoch Time: 0.27141785621643066\n",
            "Convergence achieved at epoch 17 with validation accuracy 0.9057142857142857\n",
            "Epoch 18, Loss: 0.6484833562915976, Train Accuracy: 0.9196428571428571, Val Loss: 0.6310942010446028, Val Accuracy: 0.9214285714285714, Train Precision: 0.9208777057515029, Train Recall: 0.9196428571428571, Train F1: 0.9196346265584676, Val Precision: 0.9227064870613259, Val Recall: 0.9214285714285714, Val F1: 0.9212284764682512, Epoch Time: 0.27410459518432617\n",
            "Epoch 19, Loss: 0.6314554891803048, Train Accuracy: 0.9282142857142858, Val Loss: 0.6127784468910911, Val Accuracy: 0.9371428571428572, Train Precision: 0.9292717976492911, Train Recall: 0.9282142857142858, Train F1: 0.9282112183302335, Val Precision: 0.938676579960815, Val Recall: 0.9371428571428572, Val F1: 0.9369722744360901, Epoch Time: 0.27529430389404297\n",
            "Epoch 20, Loss: 0.6158001937649467, Train Accuracy: 0.9425, Val Loss: 0.5974854881113226, Val Accuracy: 0.9557142857142857, Train Precision: 0.943770635919266, Train Recall: 0.9425, Train F1: 0.9424941105596144, Val Precision: 0.9564552723779385, Val Recall: 0.9557142857142857, Val F1: 0.9556420201288025, Epoch Time: 0.26964330673217773\n",
            "Epoch 21, Loss: 0.6005227945067666, Train Accuracy: 0.9571428571428572, Val Loss: 0.58293386481025, Val Accuracy: 0.9642857142857143, Train Precision: 0.9583340876845173, Train Recall: 0.9571428571428572, Train F1: 0.9571397958933776, Val Precision: 0.964353086466042, Val Recall: 0.9642857142857143, Val F1: 0.9642699843754435, Epoch Time: 0.27935338020324707\n",
            "Epoch 22, Loss: 0.5895442122762854, Train Accuracy: 0.9678571428571429, Val Loss: 0.5744007121432911, Val Accuracy: 0.97, Train Precision: 0.968259418957037, Train Recall: 0.9678571428571429, Train F1: 0.9678607509516077, Val Precision: 0.9713121200105735, Val Recall: 0.97, Val F1: 0.9699332512927554, Epoch Time: 0.2637505531311035\n",
            "Epoch 23, Loss: 0.5828644213351336, Train Accuracy: 0.9735714285714285, Val Loss: 0.5695293979211287, Val Accuracy: 0.97, Train Precision: 0.9740152263773133, Train Recall: 0.9735714285714285, Train F1: 0.97357426034856, Val Precision: 0.9710407247285567, Val Recall: 0.97, Val F1: 0.9699423995071617, Epoch Time: 0.2672302722930908\n",
            "Epoch 24, Loss: 0.5784801867875186, Train Accuracy: 0.9742857142857143, Val Loss: 0.564403626051816, Val Accuracy: 0.9742857142857143, Train Precision: 0.9746891711924247, Train Recall: 0.9742857142857143, Train F1: 0.9742886007612861, Val Precision: 0.9749950404587957, Val Recall: 0.9742857142857143, Val F1: 0.9742472982100643, Epoch Time: 0.277543306350708\n",
            "Epoch 25, Loss: 0.5744610266251997, Train Accuracy: 0.9764285714285714, Val Loss: 0.5616719018329274, Val Accuracy: 0.9728571428571429, Train Precision: 0.9767937489253556, Train Recall: 0.9764285714285714, Train F1: 0.9764313136125453, Val Precision: 0.973281015037594, Val Recall: 0.9728571428571429, Val F1: 0.9728271386938858, Epoch Time: 0.2794532775878906\n",
            "Epoch 26, Loss: 0.5703972307118502, Train Accuracy: 0.9785714285714285, Val Loss: 0.5577275590463118, Val Accuracy: 0.98, Train Precision: 0.9789368968918101, Train Recall: 0.9785714285714285, Train F1: 0.9785739214659503, Val Precision: 0.9805311875200553, Val Recall: 0.98, Val F1: 0.9799753846153846, Epoch Time: 0.2778782844543457\n",
            "Epoch 27, Loss: 0.5678348202597011, Train Accuracy: 0.9778571428571429, Val Loss: 0.5548347451470115, Val Accuracy: 0.9828571428571429, Train Precision: 0.978058092759464, Train Recall: 0.9778571428571429, Train F1: 0.9778598320291686, Val Precision: 0.9828571428571429, Val Recall: 0.9828571428571429, Val F1: 0.9828571428571429, Epoch Time: 0.2746572494506836\n",
            "Epoch 28, Loss: 0.5654850432818587, Train Accuracy: 0.9828571428571429, Val Loss: 0.553712703964927, Val Accuracy: 0.9742857142857143, Train Precision: 0.9830578784727657, Train Recall: 0.9828571428571429, Train F1: 0.9828592247967759, Val Precision: 0.9749950404587957, Val Recall: 0.9742857142857143, Val F1: 0.9742472982100643, Epoch Time: 0.26401638984680176\n",
            "Epoch 29, Loss: 0.5637497441335158, Train Accuracy: 0.9835714285714285, Val Loss: 0.5513009645722129, Val Accuracy: 0.98, Train Precision: 0.9837449694146975, Train Recall: 0.9835714285714285, Train F1: 0.9835733902659711, Val Precision: 0.9803633105647753, Val Recall: 0.98, Val F1: 0.9799803156064434, Epoch Time: 0.2708868980407715\n",
            "Epoch 30, Loss: 0.5615305589003996, Train Accuracy: 0.9864285714285714, Val Loss: 0.5496361093087629, Val Accuracy: 0.9857142857142858, Train Precision: 0.9864955470471283, Train Recall: 0.9864285714285714, Train F1: 0.9864298458250065, Val Precision: 0.9858443956043956, Val Recall: 0.9857142857142858, Val F1: 0.9857065583904687, Epoch Time: 0.26496076583862305\n",
            "Epoch 31, Loss: 0.5592884949662469, Train Accuracy: 0.9835714285714285, Val Loss: 0.5494841879064386, Val Accuracy: 0.9742857142857143, Train Precision: 0.9837721335746658, Train Recall: 0.9835714285714285, Train F1: 0.9835734237635768, Val Precision: 0.9752224283652855, Val Recall: 0.9742857142857143, Val F1: 0.9742401017366321, Epoch Time: 0.2586021423339844\n",
            "Epoch 32, Loss: 0.5579406097531319, Train Accuracy: 0.9832142857142857, Val Loss: 0.5481141426346519, Val Accuracy: 0.9771428571428571, Train Precision: 0.9833083370848236, Train Recall: 0.9832142857142857, Train F1: 0.9832160353525067, Val Precision: 0.9778630554774397, Val Recall: 0.9771428571428571, Val F1: 0.977108709520057, Epoch Time: 0.28829526901245117\n",
            "Epoch 33, Loss: 0.5572320805354551, Train Accuracy: 0.9860714285714286, Val Loss: 0.5446611805395647, Val Accuracy: 0.9871428571428571, Train Precision: 0.9861468519300911, Train Recall: 0.9860714285714286, Train F1: 0.986072788024239, Val Precision: 0.9872327257729641, Val Recall: 0.9871428571428571, Val F1: 0.9871371943751599, Epoch Time: 0.28148984909057617\n",
            "Epoch 34, Loss: 0.5552236701954495, Train Accuracy: 0.9892857142857143, Val Loss: 0.5443556742234663, Val Accuracy: 0.9814285714285714, Train Precision: 0.9893889641000432, Train Recall: 0.9892857142857143, Train F1: 0.9892868625032469, Val Precision: 0.981875704887218, Val Recall: 0.9814285714285714, Val F1: 0.9814080422642376, Epoch Time: 0.25995945930480957\n",
            "Epoch 35, Loss: 0.5546455545858904, Train Accuracy: 0.9857142857142858, Val Loss: 0.5452103777365251, Val Accuracy: 0.9771428571428571, Train Precision: 0.9858392034131439, Train Recall: 0.9857142857142858, Train F1: 0.9857158895401396, Val Precision: 0.9778630554774397, Val Recall: 0.9771428571428571, Val F1: 0.977108709520057, Epoch Time: 0.26719021797180176\n",
            "Epoch 36, Loss: 0.5528938959945332, Train Accuracy: 0.9892857142857143, Val Loss: 0.5417958064512773, Val Accuracy: 0.9885714285714285, Train Precision: 0.9893889641000432, Train Recall: 0.9892857142857143, Train F1: 0.9892868625032469, Val Precision: 0.9887050549450549, Val Recall: 0.9885714285714285, Val F1: 0.988565246712375, Epoch Time: 0.26735782623291016\n",
            "Epoch 37, Loss: 0.5519948459484361, Train Accuracy: 0.9882142857142857, Val Loss: 0.5414716601371765, Val Accuracy: 0.9828571428571429, Train Precision: 0.9882894488428435, Train Recall: 0.9882142857142857, Train F1: 0.98821543602051, Val Precision: 0.9833970753655792, Val Recall: 0.9828571428571429, Val F1: 0.9828360439560438, Epoch Time: 0.26871562004089355\n",
            "Epoch 38, Loss: 0.5507367889989506, Train Accuracy: 0.9896428571428572, Val Loss: 0.5399463068355214, Val Accuracy: 0.9885714285714285, Train Precision: 0.9897015309871378, Train Recall: 0.9896428571428572, Train F1: 0.9896437887555672, Val Precision: 0.9888139446760137, Val Recall: 0.9885714285714285, Val F1: 0.988562808255358, Epoch Time: 0.25969505310058594\n",
            "Epoch 39, Loss: 0.5499728471040726, Train Accuracy: 0.9889285714285714, Val Loss: 0.5383589376102794, Val Accuracy: 0.9957142857142857, Train Precision: 0.989003647813761, Train Recall: 0.9889285714285714, Train F1: 0.988929652019267, Val Precision: 0.9957176787176788, Val Recall: 0.9957142857142857, Val F1: 0.9957139435442903, Epoch Time: 0.2668774127960205\n",
            "Epoch 40, Loss: 0.5489608455788005, Train Accuracy: 0.9910714285714286, Val Loss: 0.5381324833089655, Val Accuracy: 0.9928571428571429, Train Precision: 0.9911462447265136, Train Recall: 0.9910714285714286, Train F1: 0.9910723000155378, Val Precision: 0.9928901596043611, Val Recall: 0.9928571428571429, Val F1: 0.9928553436819548, Epoch Time: 0.2747809886932373\n",
            "Epoch 41, Loss: 0.5479836213317785, Train Accuracy: 0.9907142857142858, Val Loss: 0.5381096384742043, Val Accuracy: 0.9871428571428571, Train Precision: 0.9907521075492548, Train Recall: 0.9907142857142858, Train F1: 0.990714996582365, Val Precision: 0.9874489795918369, Val Recall: 0.9871428571428571, Val F1: 0.9871317077542283, Epoch Time: 0.26369738578796387\n",
            "Total Training Time: 12.069175720214844\n",
            "\n",
            " Training on XNOR using LLR1 has been completed!\n"
          ]
        },
        {
          "data": {
            "application/vnd.jupyter.widget-view+json": {
              "model_id": "d877d79361a74b849ce77a603a8f1174",
              "version_major": 2,
              "version_minor": 0
            },
            "text/plain": [
              "VBox(children=(Label(value='0.001 MB of 0.001 MB uploaded\\r'), FloatProgress(value=1.0, max=1.0)))"
            ]
          },
          "metadata": {},
          "output_type": "display_data"
        },
        {
          "data": {
            "text/html": [
              "<style>\n",
              "    table.wandb td:nth-child(1) { padding: 0 10px; text-align: left ; width: auto;} td:nth-child(2) {text-align: left ; width: 100%}\n",
              "    .wandb-row { display: flex; flex-direction: row; flex-wrap: wrap; justify-content: flex-start; width: 100% }\n",
              "    .wandb-col { display: flex; flex-direction: column; flex-basis: 100%; flex: 1; padding: 10px; }\n",
              "    </style>\n",
              "<div class=\"wandb-row\"><div class=\"wandb-col\"><h3>Run history:</h3><br/><table class=\"wandb\"><tr><td>convergence_time</td><td>▁</td></tr><tr><td>epoch</td><td>▁▁▁▂▂▂▂▂▂▃▃▃▃▃▃▄▄▄▄▄▅▅▅▅▅▅▆▆▆▆▆▆▇▇▇▇▇▇██</td></tr><tr><td>epoch_time</td><td>▄▆▇▇█▃▂▂▁▂▂▁▂▁▂▁▁▂▂▁▂▁▁▂▂▂▂▁▁▁▁▂▂▁▁▁▁▁▁▁</td></tr><tr><td>learning_rate</td><td>▁▁▁▁▁▁▁▁▁▁▁▁▁▁▁▁▁▁▁▁▁▁▁▁▁▁▁▁▁▁▁▁▁▁▁▁▁▁▁▁</td></tr><tr><td>loss</td><td>███▇▇▇▇▆▆▅▅▄▄▃▃▃▃▂▂▂▂▂▁▁▁▁▁▁▁▁▁▁▁▁▁▁▁▁▁▁</td></tr><tr><td>total_training_time</td><td>▁</td></tr><tr><td>train_accuracy</td><td>▁▂▁▁▁▁▁▂▄▆▆▆▆▆▆▇▇▇▇▇████████████████████</td></tr><tr><td>train_concept_accuracy</td><td>▁▆▇▇▆▆▆▇▇███████████████████████████████</td></tr><tr><td>train_concept_loss</td><td>█▇▇▆▆▅▆▄▅▃▄▄▃▃▃▄▂▂▂▂▃▂▂▂▂▃▂▃▂▂▃▂▃▂▂▂▁▂▂▁</td></tr><tr><td>train_f1</td><td>▁▃▁▁▁▁▁▂▅▆▆▆▇▇▇▇▇▇▇▇████████████████████</td></tr><tr><td>train_precision</td><td>▁▅▃▁▁▁▁▆▆▆▇▇▇▇▇▇▇▇▇█████████████████████</td></tr><tr><td>train_recall</td><td>▁▂▁▁▁▁▁▂▄▆▆▆▆▆▆▇▇▇▇▇████████████████████</td></tr><tr><td>train_task_accuracy</td><td>▁▂▁▁▁▁▁▂▄▆▆▆▆▆▆▇▇▇▇▇████████████████████</td></tr><tr><td>train_task_loss</td><td>████████▇▆▆▄▄▄▄▃▃▂▂▂▂▂▁▁▂▂▁▂▁▂▁▁▁▁▁▁▁▁▁▁</td></tr><tr><td>val_accuracy</td><td>▂▁▂▂▂▂▂▃▆▆▆▆▆▆▇▇▇▇▇█████████████████████</td></tr><tr><td>val_concept_accuracy</td><td>▁▆▇▆▅▄▅▆▇█▇▇████████████████████████████</td></tr><tr><td>val_concept_loss</td><td>███▇▇▆▆▄▄▄▄▃▄▃▃▂▃▃▂▂▃▂▂▂▂▂▁▂▂▂▁▂▁▂▁▂▁▂▁▂</td></tr><tr><td>val_f1</td><td>▂▂▁▁▁▁▁▃▆▆▆▇▇▇▇▇▇▇▇█████████████████████</td></tr><tr><td>val_learning_rate</td><td>▁▁▁▁▁▁▁▁▁▁▁▁▁▁▁▁▁▁▁▁▁▁▁▁▁▁▁▁▁▁▁▁▁▁▁▁▁▁▁▁</td></tr><tr><td>val_loss</td><td>████▇▇▇▆▆▅▄▄▄▃▃▃▂▂▂▂▂▁▁▁▁▁▁▁▁▁▁▁▁▁▁▁▁▁▁▁</td></tr><tr><td>val_precision</td><td>▁▃▁▁▁▁▁▆▆▇▇▇▇▇▇▇▇▇▇█████████████████████</td></tr><tr><td>val_recall</td><td>▂▁▂▂▂▂▂▃▆▆▆▆▆▆▇▇▇▇▇█████████████████████</td></tr><tr><td>val_task_accuracy</td><td>▂▁▂▂▂▂▂▃▆▆▆▆▆▆▇▇▇▇▇█████████████████████</td></tr><tr><td>val_task_loss</td><td>████████▇▆▅▅▄▅▃▃▃▃▂▂▁▂▂▁▂▁▂▁▂▁▁▂▁▁▁▂▁▁▁▁</td></tr></table><br/></div><div class=\"wandb-col\"><h3>Run summary:</h3><br/><table class=\"wandb\"><tr><td>convergence_time</td><td>5.52567</td></tr><tr><td>epoch</td><td>41</td></tr><tr><td>epoch_time</td><td>0.2637</td></tr><tr><td>learning_rate</td><td>0.0005</td></tr><tr><td>loss</td><td>0.54798</td></tr><tr><td>total_training_time</td><td>12.06918</td></tr><tr><td>train_accuracy</td><td>0.99071</td></tr><tr><td>train_concept_accuracy</td><td>0.76036</td></tr><tr><td>train_concept_loss</td><td>0.52727</td></tr><tr><td>train_f1</td><td>0.99071</td></tr><tr><td>train_precision</td><td>0.99075</td></tr><tr><td>train_recall</td><td>0.99071</td></tr><tr><td>train_task_accuracy</td><td>0.99071</td></tr><tr><td>train_task_loss</td><td>0.04167</td></tr><tr><td>val_accuracy</td><td>0.98714</td></tr><tr><td>val_concept_accuracy</td><td>0.72714</td></tr><tr><td>val_concept_loss</td><td>0.51409</td></tr><tr><td>val_f1</td><td>0.98713</td></tr><tr><td>val_learning_rate</td><td>0.0005</td></tr><tr><td>val_loss</td><td>0.53811</td></tr><tr><td>val_precision</td><td>0.98745</td></tr><tr><td>val_recall</td><td>0.98714</td></tr><tr><td>val_task_accuracy</td><td>0.98714</td></tr><tr><td>val_task_loss</td><td>0.02025</td></tr></table><br/></div></div>"
            ],
            "text/plain": [
              "<IPython.core.display.HTML object>"
            ]
          },
          "metadata": {},
          "output_type": "display_data"
        },
        {
          "data": {
            "text/html": [
              " View run <strong style=\"color:#cdcd00\">LLR1_XNOR</strong> at: <a href='https://wandb.ai/alih999954-politecnico-di-torino/pytorch_explain/runs/5rjjo5vp' target=\"_blank\">https://wandb.ai/alih999954-politecnico-di-torino/pytorch_explain/runs/5rjjo5vp</a><br/> View project at: <a href='https://wandb.ai/alih999954-politecnico-di-torino/pytorch_explain' target=\"_blank\">https://wandb.ai/alih999954-politecnico-di-torino/pytorch_explain</a><br/>Synced 5 W&B file(s), 0 media file(s), 0 artifact file(s) and 0 other file(s)"
            ],
            "text/plain": [
              "<IPython.core.display.HTML object>"
            ]
          },
          "metadata": {},
          "output_type": "display_data"
        },
        {
          "data": {
            "text/html": [
              "Find logs at: <code>./wandb/run-20240723_091700-5rjjo5vp/logs</code>"
            ],
            "text/plain": [
              "<IPython.core.display.HTML object>"
            ]
          },
          "metadata": {},
          "output_type": "display_data"
        },
        {
          "data": {
            "text/html": [
              "The new W&B backend becomes opt-out in version 0.18.0; try it out with `wandb.require(\"core\")`! See https://wandb.me/wandb-core for more information."
            ],
            "text/plain": [
              "<IPython.core.display.HTML object>"
            ]
          },
          "metadata": {},
          "output_type": "display_data"
        },
        {
          "name": "stdout",
          "output_type": "stream",
          "text": [
            "The following dataset has been loaded successfully: IsBinEven\n"
          ]
        },
        {
          "data": {
            "text/html": [
              "Tracking run with wandb version 0.17.5"
            ],
            "text/plain": [
              "<IPython.core.display.HTML object>"
            ]
          },
          "metadata": {},
          "output_type": "display_data"
        },
        {
          "data": {
            "text/html": [
              "Run data is saved locally in <code>/content/pytorch_explain/wandb/run-20240723_091720-on1unsqk</code>"
            ],
            "text/plain": [
              "<IPython.core.display.HTML object>"
            ]
          },
          "metadata": {},
          "output_type": "display_data"
        },
        {
          "data": {
            "text/html": [
              "Syncing run <strong><a href='https://wandb.ai/alih999954-politecnico-di-torino/pytorch_explain/runs/on1unsqk' target=\"_blank\">LLR1_IsBinEven</a></strong> to <a href='https://wandb.ai/alih999954-politecnico-di-torino/pytorch_explain' target=\"_blank\">Weights & Biases</a> (<a href='https://wandb.me/run' target=\"_blank\">docs</a>)<br/>"
            ],
            "text/plain": [
              "<IPython.core.display.HTML object>"
            ]
          },
          "metadata": {},
          "output_type": "display_data"
        },
        {
          "data": {
            "text/html": [
              " View project at <a href='https://wandb.ai/alih999954-politecnico-di-torino/pytorch_explain' target=\"_blank\">https://wandb.ai/alih999954-politecnico-di-torino/pytorch_explain</a>"
            ],
            "text/plain": [
              "<IPython.core.display.HTML object>"
            ]
          },
          "metadata": {},
          "output_type": "display_data"
        },
        {
          "data": {
            "text/html": [
              " View run at <a href='https://wandb.ai/alih999954-politecnico-di-torino/pytorch_explain/runs/on1unsqk' target=\"_blank\">https://wandb.ai/alih999954-politecnico-di-torino/pytorch_explain/runs/on1unsqk</a>"
            ],
            "text/plain": [
              "<IPython.core.display.HTML object>"
            ]
          },
          "metadata": {},
          "output_type": "display_data"
        },
        {
          "name": "stdout",
          "output_type": "stream",
          "text": [
            "-------------------------- Training IsBinEven using LLR1 ----------------------\n",
            "Epoch 1, Loss: 1.127017926086079, Train Accuracy: 0.5021428571428571, Val Loss: 1.1052432602102107, Val Accuracy: 0.52, Train Precision: 0.25214744897959185, Train Recall: 0.5021428571428571, Train F1: 0.33571700292099715, Val Precision: 0.27040000000000003, Val Recall: 0.52, Val F1: 0.35578947368421054, Epoch Time: 0.33426499366760254\n",
            "Epoch 2, Loss: 1.089910704981197, Train Accuracy: 0.5021428571428571, Val Loss: 1.0665809024464001, Val Accuracy: 0.52, Train Precision: 0.25214744897959185, Train Recall: 0.5021428571428571, Train F1: 0.33571700292099715, Val Precision: 0.27040000000000003, Val Recall: 0.52, Val F1: 0.35578947368421054, Epoch Time: 0.35646891593933105\n",
            "Epoch 3, Loss: 1.0540718084031886, Train Accuracy: 0.6171428571428571, Val Loss: 1.0394865599545566, Val Accuracy: 0.8771428571428571, Train Precision: 0.779769890826028, Train Recall: 0.6171428571428571, Train F1: 0.5509712641709765, Val Precision: 0.8960875512995895, Val Recall: 0.8771428571428571, Val F1: 0.8750211795373086, Epoch Time: 0.317028284072876\n",
            "Epoch 4, Loss: 1.035082540728829, Train Accuracy: 0.9092857142857143, Val Loss: 1.0263781981034712, Val Accuracy: 0.8914285714285715, Train Precision: 0.9094197259909551, Train Recall: 0.9092857142857143, Train F1: 0.9092742803284543, Val Precision: 0.8935686274509804, Val Recall: 0.8914285714285715, Val F1: 0.8914498432601883, Epoch Time: 0.3219950199127197\n",
            "Epoch 5, Loss: 1.0204482647505673, Train Accuracy: 0.8625, Val Loss: 1.0093314051628113, Val Accuracy: 0.8457142857142858, Train Precision: 0.8748286458440299, Train Recall: 0.8625, Train F1: 0.8614226580872919, Val Precision: 0.8603104094193204, Val Recall: 0.8457142857142858, Val F1: 0.8448550368550369, Epoch Time: 0.3889322280883789\n",
            "Epoch 6, Loss: 0.9984181943264875, Train Accuracy: 0.8578571428571429, Val Loss: 0.9813001480969515, Val Accuracy: 0.84, Train Precision: 0.8621887233077401, Train Recall: 0.8578571428571429, Train F1: 0.8574703595724006, Val Precision: 0.8505643475664377, Val Recall: 0.84, Val F1: 0.8394307912492334, Epoch Time: 0.3097569942474365\n",
            "Epoch 7, Loss: 0.9600343108177185, Train Accuracy: 0.8532142857142857, Val Loss: 0.930906209078702, Val Accuracy: 0.8571428571428571, Train Precision: 0.8568946472023939, Train Recall: 0.8532142857142857, Train F1: 0.8528730147388461, Val Precision: 0.8606600314300681, Val Recall: 0.8571428571428571, Val F1: 0.857105538140021, Epoch Time: 0.3343632221221924\n",
            "Epoch 8, Loss: 0.8941515697674318, Train Accuracy: 0.8721428571428571, Val Loss: 0.8536867499351501, Val Accuracy: 0.8642857142857143, Train Precision: 0.8743288644688645, Train Recall: 0.8721428571428571, Train F1: 0.8719801778053501, Val Precision: 0.8656542151459481, Val Recall: 0.8642857142857143, Val F1: 0.8643330836321923, Epoch Time: 0.34237051010131836\n",
            "Epoch 9, Loss: 0.8149697306481275, Train Accuracy: 0.8875, Val Loss: 0.781756953759627, Val Accuracy: 0.8928571428571429, Train Precision: 0.8883077228528311, Train Recall: 0.8875, Train F1: 0.8874538797884349, Val Precision: 0.8928480883254958, Val Recall: 0.8928571428571429, Val F1: 0.8928507908471478, Epoch Time: 0.30750322341918945\n",
            "Epoch 10, Loss: 0.7529770759018984, Train Accuracy: 0.9117857142857143, Val Loss: 0.7325777248902754, Val Accuracy: 0.91, Train Precision: 0.9120235073584585, Train Recall: 0.9117857142857143, Train F1: 0.9117779163343244, Val Precision: 0.9139960209269767, Val Recall: 0.91, Val F1: 0.9099696923312414, Epoch Time: 0.3316357135772705\n",
            "Convergence achieved at epoch 10 with validation accuracy 0.91\n",
            "Epoch 11, Loss: 0.7108361721038818, Train Accuracy: 0.9314285714285714, Val Loss: 0.6980698217045177, Val Accuracy: 0.9342857142857143, Train Precision: 0.9315604182965522, Train Recall: 0.9314285714285714, Train F1: 0.9314260524318669, Val Precision: 0.9381665793609221, Val Recall: 0.9342857142857143, Val F1: 0.9342685475444096, Epoch Time: 0.34728002548217773\n",
            "Epoch 12, Loss: 0.680594111030752, Train Accuracy: 0.9532142857142857, Val Loss: 0.6649632128802213, Val Accuracy: 0.9671428571428572, Train Precision: 0.9532684634270236, Train Recall: 0.9532142857142857, Train F1: 0.9532140171735256, Val Precision: 0.9676456229437265, Val Recall: 0.9671428571428572, Val F1: 0.9671554039014849, Epoch Time: 0.3192315101623535\n",
            "Epoch 13, Loss: 0.6562681821259585, Train Accuracy: 0.9639285714285715, Val Loss: 0.644384427504106, Val Accuracy: 0.9742857142857143, Train Precision: 0.9639409426083526, Train Recall: 0.9639285714285715, Train F1: 0.9639287324622481, Val Precision: 0.975593220338983, Val Recall: 0.9742857142857143, Val F1: 0.9742951622780158, Epoch Time: 0.3758268356323242\n",
            "Epoch 14, Loss: 0.638238175348802, Train Accuracy: 0.9753571428571428, Val Loss: 0.62514498017051, Val Accuracy: 0.9814285714285714, Train Precision: 0.9753590993884369, Train Recall: 0.9753571428571428, Train F1: 0.9753570014081125, Val Precision: 0.9817660747091244, Val Recall: 0.9814285714285714, Val F1: 0.9814350572564685, Epoch Time: 0.47268104553222656\n",
            "Epoch 15, Loss: 0.624795363707976, Train Accuracy: 0.9821428571428571, Val Loss: 0.6114647117528048, Val Accuracy: 0.9871428571428571, Train Precision: 0.9821439504462428, Train Recall: 0.9821428571428571, Train F1: 0.9821429026973739, Val Precision: 0.9871483107307224, Val Recall: 0.9871428571428571, Val F1: 0.9871435666532453, Epoch Time: 0.425274133682251\n",
            "Epoch 16, Loss: 0.6129087372259661, Train Accuracy: 0.9828571428571429, Val Loss: 0.5997507951476357, Val Accuracy: 0.9928571428571429, Train Precision: 0.982858023352366, Train Recall: 0.9828571428571429, Train F1: 0.9828570816311224, Val Precision: 0.9929618768328444, Val Recall: 0.9928571428571429, Val F1: 0.99285882105375, Epoch Time: 0.4853360652923584\n",
            "Epoch 17, Loss: 0.6030671718445691, Train Accuracy: 0.9871428571428571, Val Loss: 0.591458412733945, Val Accuracy: 0.9942857142857143, Train Precision: 0.9871791201995838, Train Recall: 0.9871428571428571, Train F1: 0.9871428571428571, Val Precision: 0.9943529411764706, Val Recall: 0.9942857142857143, Val F1: 0.9942868351368138, Epoch Time: 0.4590601921081543\n",
            "Epoch 18, Loss: 0.5951757634227927, Train Accuracy: 0.99, Val Loss: 0.584950631315058, Val Accuracy: 0.9928571428571429, Train Precision: 0.9900010612331529, Train Recall: 0.99, Train F1: 0.9900000255105295, Val Precision: 0.9929618768328444, Val Recall: 0.9928571428571429, Val F1: 0.99285882105375, Epoch Time: 0.43037867546081543\n",
            "Epoch 19, Loss: 0.5878681269558993, Train Accuracy: 0.9925, Val Loss: 0.5768971388990228, Val Accuracy: 0.9985714285714286, Train Precision: 0.9925063966869371, Train Recall: 0.9925, Train F1: 0.992500033482352, Val Precision: 0.9985753424657534, Val Recall: 0.9985714285714286, Val F1: 0.9985713438779619, Epoch Time: 0.4255061149597168\n",
            "Epoch 20, Loss: 0.5840901461514559, Train Accuracy: 0.9889285714285714, Val Loss: 0.5752710916779258, Val Accuracy: 0.9885714285714285, Train Precision: 0.988928786995185, Train Recall: 0.9889285714285714, Train F1: 0.9889285530699395, Val Precision: 0.9888372093023255, Val Recall: 0.9885714285714285, Val F1: 0.9885751633986927, Epoch Time: 0.48149752616882324\n",
            "Epoch 21, Loss: 0.5778239098462191, Train Accuracy: 0.9946428571428572, Val Loss: 0.5672974965789102, Val Accuracy: 0.9985714285714286, Train Precision: 0.9946451776710055, Train Recall: 0.9946428571428572, Train F1: 0.9946428755923917, Val Precision: 0.9985753424657534, Val Recall: 0.9985714285714286, Val F1: 0.9985713438779619, Epoch Time: 0.48316264152526855\n",
            "Epoch 22, Loss: 0.5744810145009648, Train Accuracy: 0.9914285714285714, Val Loss: 0.5644331791184165, Val Accuracy: 1.0, Train Precision: 0.9914444097470972, Train Recall: 0.9914285714285714, Train F1: 0.9914283964925324, Val Precision: 1.0, Val Recall: 1.0, Val F1: 1.0, Epoch Time: 0.467160701751709\n",
            "Epoch 23, Loss: 0.5699804032390768, Train Accuracy: 0.9960714285714286, Val Loss: 0.5633145354010842, Val Accuracy: 0.9928571428571429, Train Precision: 0.996071669648884, Train Recall: 0.9960714285714286, Train F1: 0.9960714220570753, Val Precision: 0.9929618768328444, Val Recall: 0.9928571428571429, Val F1: 0.99285882105375, Epoch Time: 0.4883735179901123\n",
            "Epoch 24, Loss: 0.5675070949576118, Train Accuracy: 0.9917857142857143, Val Loss: 0.5583258704705671, Val Accuracy: 1.0, Train Precision: 0.9917859400566646, Train Recall: 0.9917857142857143, Train F1: 0.9917857006647939, Val Precision: 1.0, Val Recall: 1.0, Val F1: 1.0, Epoch Time: 0.3447411060333252\n",
            "Epoch 25, Loss: 0.5638626136563041, Train Accuracy: 0.9964285714285714, Val Loss: 0.5626675974239003, Val Accuracy: 0.9871428571428571, Train Precision: 0.9964285714285714, Train Recall: 0.9964285714285714, Train F1: 0.9964285714285714, Val Precision: 0.9874782608695652, Val Recall: 0.9871428571428571, Val F1: 0.9871473473314013, Epoch Time: 0.34170007705688477\n",
            "Epoch 26, Loss: 0.561350556937131, Train Accuracy: 0.9946428571428572, Val Loss: 0.5531521439552307, Val Accuracy: 0.9957142857142857, Train Precision: 0.9946431259145071, Train Recall: 0.9946428571428572, Train F1: 0.9946428646593726, Val Precision: 0.99574931880109, Val Recall: 0.9957142857142857, Val F1: 0.9957134707047904, Epoch Time: 0.33728599548339844\n",
            "Epoch 27, Loss: 0.5600899146361784, Train Accuracy: 0.9939285714285714, Val Loss: 0.5529420863498341, Val Accuracy: 0.9971428571428571, Train Precision: 0.9939347789910935, Train Recall: 0.9939285714285714, Train F1: 0.9939285056007076, Val Precision: 0.9971597633136093, Val Recall: 0.9971428571428571, Val F1: 0.997143160768734, Epoch Time: 0.32941269874572754\n",
            "Epoch 28, Loss: 0.5581450069492514, Train Accuracy: 0.9939285714285714, Val Loss: 0.5490524064410817, Val Accuracy: 0.9985714285714286, Train Precision: 0.993928842022402, Train Recall: 0.9939285714285714, Train F1: 0.9939285799472889, Val Precision: 0.9985753424657534, Val Recall: 0.9985714285714286, Val F1: 0.9985713438779619, Epoch Time: 0.3300931453704834\n",
            "Epoch 29, Loss: 0.5562099800868467, Train Accuracy: 0.9957142857142857, Val Loss: 0.547860633243214, Val Accuracy: 0.9985714285714286, Train Precision: 0.995715323623633, Train Recall: 0.9957142857142857, Train F1: 0.9957142966473695, Val Precision: 0.9985756676557863, Val Recall: 0.9985714285714286, Val F1: 0.9985715074059162, Epoch Time: 0.32911109924316406\n",
            "Epoch 30, Loss: 0.5538974824276838, Train Accuracy: 0.9957142857142857, Val Loss: 0.5487984418869019, Val Accuracy: 0.9957142857142857, Train Precision: 0.9957182800871766, Train Recall: 0.9957142857142857, Train F1: 0.9957142507277206, Val Precision: 0.9957522123893805, Val Recall: 0.9957142857142857, Val F1: 0.9957149425287356, Epoch Time: 0.3221402168273926\n",
            "Epoch 31, Loss: 0.5526080998507413, Train Accuracy: 0.9957142857142857, Val Loss: 0.5444937673482028, Val Accuracy: 0.9985714285714286, Train Precision: 0.9957152711692044, Train Recall: 0.9957142857142857, Train F1: 0.9957142704077806, Val Precision: 0.9985753424657534, Val Recall: 0.9985714285714286, Val F1: 0.9985713438779619, Epoch Time: 0.3339231014251709\n",
            "Epoch 32, Loss: 0.5513346262953498, Train Accuracy: 0.9953571428571428, Val Loss: 0.5443727645007047, Val Accuracy: 0.9985714285714286, Train Precision: 0.995357409806612, Train Recall: 0.9953571428571428, Train F1: 0.9953571493714561, Val Precision: 0.9985756676557863, Val Recall: 0.9985714285714286, Val F1: 0.9985715074059162, Epoch Time: 0.3287694454193115\n",
            "Epoch 33, Loss: 0.5496689893982627, Train Accuracy: 0.9971428571428571, Val Loss: 0.5419669530608437, Val Accuracy: 0.9985714285714286, Train Precision: 0.9971438892212531, Train Recall: 0.9971428571428571, Train F1: 0.9971428644315798, Val Precision: 0.9985753424657534, Val Recall: 0.9985714285714286, Val F1: 0.9985713438779619, Epoch Time: 0.3252098560333252\n",
            "Epoch 34, Loss: 0.5489862683144483, Train Accuracy: 0.995, Val Loss: 0.5418870232322, Val Accuracy: 0.9985714285714286, Train Precision: 0.9950039797948875, Train Recall: 0.995, Train F1: 0.9949999591823406, Val Precision: 0.9985756676557863, Val Recall: 0.9985714285714286, Val F1: 0.9985715074059162, Epoch Time: 0.31990861892700195\n",
            "Epoch 35, Loss: 0.5480875399979678, Train Accuracy: 0.9939285714285714, Val Loss: 0.5409444191239097, Val Accuracy: 0.9985714285714286, Train Precision: 0.9939307838013421, Train Recall: 0.9939285714285714, Train F1: 0.9939285365788104, Val Precision: 0.9985756676557863, Val Recall: 0.9985714285714286, Val F1: 0.9985715074059162, Epoch Time: 0.3075571060180664\n",
            "Epoch 36, Loss: 0.548033822666515, Train Accuracy: 0.9917857142857143, Val Loss: 0.5394661968404596, Val Accuracy: 0.9971428571428571, Train Precision: 0.9917878971383147, Train Recall: 0.9917857142857143, Train F1: 0.9917856671360376, Val Precision: 0.9971428571428571, Val Recall: 0.9971428571428571, Val F1: 0.9971428571428571, Epoch Time: 0.34797191619873047\n",
            "Epoch 37, Loss: 0.5473306341604753, Train Accuracy: 0.9921428571428571, Val Loss: 0.542046844959259, Val Accuracy: 0.9942857142857143, Train Precision: 0.9921469708538764, Train Recall: 0.9921428571428571, Train F1: 0.9921428892130898, Val Precision: 0.9943529411764706, Val Recall: 0.9942857142857143, Val F1: 0.9942868351368138, Epoch Time: 0.33438587188720703\n",
            "Epoch 38, Loss: 0.5452065210450779, Train Accuracy: 0.9967857142857143, Val Loss: 0.5376299782232805, Val Accuracy: 0.9985714285714286, Train Precision: 0.9967859579142538, Train Recall: 0.9967857142857143, Train F1: 0.9967857089557889, Val Precision: 0.9985753424657534, Val Recall: 0.9985714285714286, Val F1: 0.9985713438779619, Epoch Time: 0.3125913143157959\n",
            "Epoch 39, Loss: 0.5442036796699871, Train Accuracy: 0.9957142857142857, Val Loss: 0.5368500080975619, Val Accuracy: 0.9971428571428571, Train Precision: 0.9957152711692044, Train Recall: 0.9957142857142857, Train F1: 0.9957142704077806, Val Precision: 0.9971584699453552, Val Recall: 0.9971428571428571, Val F1: 0.9971425066448578, Epoch Time: 0.35067129135131836\n",
            "Epoch 40, Loss: 0.5450617467815225, Train Accuracy: 0.9917857142857143, Val Loss: 0.535982224074277, Val Accuracy: 1.0, Train Precision: 0.9917921127948096, Train Recall: 0.9917857142857143, Train F1: 0.991785750956862, Val Precision: 1.0, Val Recall: 1.0, Val F1: 1.0, Epoch Time: 0.3233060836791992\n",
            "Epoch 41, Loss: 0.5431692410599102, Train Accuracy: 0.9953571428571428, Val Loss: 0.5355914831161499, Val Accuracy: 0.9985714285714286, Train Precision: 0.9953633905096037, Train Recall: 0.9953571428571428, Train F1: 0.9953570925181882, Val Precision: 0.9985756676557863, Val Recall: 0.9985714285714286, Val F1: 0.9985715074059162, Epoch Time: 0.3125743865966797\n",
            "Total Training Time: 15.01350212097168\n",
            "\n",
            " Training on IsBinEven using LLR1 has been completed!\n"
          ]
        },
        {
          "data": {
            "application/vnd.jupyter.widget-view+json": {
              "model_id": "e2dc8ae7f3494ae1bd44102fcacca659",
              "version_major": 2,
              "version_minor": 0
            },
            "text/plain": [
              "VBox(children=(Label(value='0.001 MB of 0.001 MB uploaded\\r'), FloatProgress(value=1.0, max=1.0)))"
            ]
          },
          "metadata": {},
          "output_type": "display_data"
        },
        {
          "data": {
            "text/html": [
              "<style>\n",
              "    table.wandb td:nth-child(1) { padding: 0 10px; text-align: left ; width: auto;} td:nth-child(2) {text-align: left ; width: 100%}\n",
              "    .wandb-row { display: flex; flex-direction: row; flex-wrap: wrap; justify-content: flex-start; width: 100% }\n",
              "    .wandb-col { display: flex; flex-direction: column; flex-basis: 100%; flex: 1; padding: 10px; }\n",
              "    </style>\n",
              "<div class=\"wandb-row\"><div class=\"wandb-col\"><h3>Run history:</h3><br/><table class=\"wandb\"><tr><td>convergence_time</td><td>▁</td></tr><tr><td>epoch</td><td>▁▁▁▂▂▂▂▂▂▃▃▃▃▃▃▄▄▄▄▄▅▅▅▅▅▅▆▆▆▆▆▆▇▇▇▇▇▇██</td></tr><tr><td>epoch_time</td><td>▂▃▁▂▄▁▂▂▁▂▃▁▄▇▆█▇▆▆██▇█▂▂▂▂▂▂▂▂▂▂▁▁▃▂▁▃▁</td></tr><tr><td>learning_rate</td><td>▁▁▁▁▁▁▁▁▁▁▁▁▁▁▁▁▁▁▁▁▁▁▁▁▁▁▁▁▁▁▁▁▁▁▁▁▁▁▁▁</td></tr><tr><td>loss</td><td>██▇▇▇▆▆▅▄▄▃▃▂▂▂▂▂▂▂▁▁▁▁▁▁▁▁▁▁▁▁▁▁▁▁▁▁▁▁▁</td></tr><tr><td>total_training_time</td><td>▁</td></tr><tr><td>train_accuracy</td><td>▁▁▃▇▆▆▆▆▆▇▇▇████████████████████████████</td></tr><tr><td>train_concept_accuracy</td><td>▂▁▃▃▂▂▂▂▂▃▄▄▅▅▅▅▅▅▆▆▆▆▇▇▇▇▇▇▇▇▇▇▇███████</td></tr><tr><td>train_concept_loss</td><td>██▇▇█▇▇▇▆▅▅▄▃▃▃▄▃▄▃▂▃▃▂▃▂▂▂▃▂▂▂▂▂▂▁▂▂▂▂▂</td></tr><tr><td>train_f1</td><td>▁▁▃▇▇▇▆▇▇▇▇█████████████████████████████</td></tr><tr><td>train_precision</td><td>▁▁▆▇▇▇▇▇▇▇▇█████████████████████████████</td></tr><tr><td>train_recall</td><td>▁▁▃▇▆▆▆▆▆▇▇▇████████████████████████████</td></tr><tr><td>train_task_accuracy</td><td>▁▁▃▇▆▆▆▆▆▇▇▇████████████████████████████</td></tr><tr><td>train_task_loss</td><td>██▇▇▇▇▆▅▄▃▂▂▂▁▂▁▂▁▁▁▁▁▁▁▁▁▁▁▁▁▁▁▁▁▁▁▁▁▁▁</td></tr><tr><td>val_accuracy</td><td>▁▁▆▆▆▆▆▆▆▇▇█████████████████████████████</td></tr><tr><td>val_concept_accuracy</td><td>▁▃▄▄▃▃▃▃▃▄▄▆▅▆▆▆▆▆▇▇▇▇▇▇▇▇▇█████████████</td></tr><tr><td>val_concept_loss</td><td>██▇▇▇▇▆▆▅▅▄▄▄▄▃▃▃▃▃▃▂▃▂▂▂▂▂▂▂▂▂▂▂▁▁▁▂▁▂▁</td></tr><tr><td>val_f1</td><td>▁▁▇▇▆▆▆▇▇▇▇█████████████████████████████</td></tr><tr><td>val_learning_rate</td><td>▁▁▁▁▁▁▁▁▁▁▁▁▁▁▁▁▁▁▁▁▁▁▁▁▁▁▁▁▁▁▁▁▁▁▁▁▁▁▁▁</td></tr><tr><td>val_loss</td><td>██▇▇▇▆▆▅▄▃▃▃▂▂▂▂▂▂▂▁▁▁▁▁▁▁▁▁▁▁▁▁▁▁▁▁▁▁▁▁</td></tr><tr><td>val_precision</td><td>▁▁▇▇▇▇▇▇▇▇▇█████████████████████████████</td></tr><tr><td>val_recall</td><td>▁▁▆▆▆▆▆▆▆▇▇█████████████████████████████</td></tr><tr><td>val_task_accuracy</td><td>▁▁▆▆▆▆▆▆▆▇▇█████████████████████████████</td></tr><tr><td>val_task_loss</td><td>██▇▇▇▇▆▅▄▃▃▂▂▂▂▁▁▁▁▁▁▁▁▁▁▁▁▁▁▁▁▁▁▁▁▁▁▁▁▁</td></tr></table><br/></div><div class=\"wandb-col\"><h3>Run summary:</h3><br/><table class=\"wandb\"><tr><td>convergence_time</td><td>3.35886</td></tr><tr><td>epoch</td><td>41</td></tr><tr><td>epoch_time</td><td>0.31257</td></tr><tr><td>learning_rate</td><td>0.0005</td></tr><tr><td>loss</td><td>0.54317</td></tr><tr><td>total_training_time</td><td>15.0135</td></tr><tr><td>train_accuracy</td><td>0.99536</td></tr><tr><td>train_concept_accuracy</td><td>0.55714</td></tr><tr><td>train_concept_loss</td><td>0.56188</td></tr><tr><td>train_f1</td><td>0.99536</td></tr><tr><td>train_precision</td><td>0.99536</td></tr><tr><td>train_recall</td><td>0.99536</td></tr><tr><td>train_task_accuracy</td><td>0.99536</td></tr><tr><td>train_task_loss</td><td>0.04305</td></tr><tr><td>val_accuracy</td><td>0.99857</td></tr><tr><td>val_concept_accuracy</td><td>0.54714</td></tr><tr><td>val_concept_loss</td><td>0.53476</td></tr><tr><td>val_f1</td><td>0.99857</td></tr><tr><td>val_learning_rate</td><td>0.0005</td></tr><tr><td>val_loss</td><td>0.53559</td></tr><tr><td>val_precision</td><td>0.99858</td></tr><tr><td>val_recall</td><td>0.99857</td></tr><tr><td>val_task_accuracy</td><td>0.99857</td></tr><tr><td>val_task_loss</td><td>0.00697</td></tr></table><br/></div></div>"
            ],
            "text/plain": [
              "<IPython.core.display.HTML object>"
            ]
          },
          "metadata": {},
          "output_type": "display_data"
        },
        {
          "data": {
            "text/html": [
              " View run <strong style=\"color:#cdcd00\">LLR1_IsBinEven</strong> at: <a href='https://wandb.ai/alih999954-politecnico-di-torino/pytorch_explain/runs/on1unsqk' target=\"_blank\">https://wandb.ai/alih999954-politecnico-di-torino/pytorch_explain/runs/on1unsqk</a><br/> View project at: <a href='https://wandb.ai/alih999954-politecnico-di-torino/pytorch_explain' target=\"_blank\">https://wandb.ai/alih999954-politecnico-di-torino/pytorch_explain</a><br/>Synced 5 W&B file(s), 0 media file(s), 0 artifact file(s) and 0 other file(s)"
            ],
            "text/plain": [
              "<IPython.core.display.HTML object>"
            ]
          },
          "metadata": {},
          "output_type": "display_data"
        },
        {
          "data": {
            "text/html": [
              "Find logs at: <code>./wandb/run-20240723_091720-on1unsqk/logs</code>"
            ],
            "text/plain": [
              "<IPython.core.display.HTML object>"
            ]
          },
          "metadata": {},
          "output_type": "display_data"
        },
        {
          "data": {
            "text/html": [
              "The new W&B backend becomes opt-out in version 0.18.0; try it out with `wandb.require(\"core\")`! See https://wandb.me/wandb-core for more information."
            ],
            "text/plain": [
              "<IPython.core.display.HTML object>"
            ]
          },
          "metadata": {},
          "output_type": "display_data"
        },
        {
          "name": "stdout",
          "output_type": "stream",
          "text": [
            "The following dataset has been loaded successfully: Trigonometry\n"
          ]
        },
        {
          "data": {
            "text/html": [
              "Tracking run with wandb version 0.17.5"
            ],
            "text/plain": [
              "<IPython.core.display.HTML object>"
            ]
          },
          "metadata": {},
          "output_type": "display_data"
        },
        {
          "data": {
            "text/html": [
              "Run data is saved locally in <code>/content/pytorch_explain/wandb/run-20240723_091742-lchix0ey</code>"
            ],
            "text/plain": [
              "<IPython.core.display.HTML object>"
            ]
          },
          "metadata": {},
          "output_type": "display_data"
        },
        {
          "data": {
            "text/html": [
              "Syncing run <strong><a href='https://wandb.ai/alih999954-politecnico-di-torino/pytorch_explain/runs/lchix0ey' target=\"_blank\">LLR1_Trigonometry</a></strong> to <a href='https://wandb.ai/alih999954-politecnico-di-torino/pytorch_explain' target=\"_blank\">Weights & Biases</a> (<a href='https://wandb.me/run' target=\"_blank\">docs</a>)<br/>"
            ],
            "text/plain": [
              "<IPython.core.display.HTML object>"
            ]
          },
          "metadata": {},
          "output_type": "display_data"
        },
        {
          "data": {
            "text/html": [
              " View project at <a href='https://wandb.ai/alih999954-politecnico-di-torino/pytorch_explain' target=\"_blank\">https://wandb.ai/alih999954-politecnico-di-torino/pytorch_explain</a>"
            ],
            "text/plain": [
              "<IPython.core.display.HTML object>"
            ]
          },
          "metadata": {},
          "output_type": "display_data"
        },
        {
          "data": {
            "text/html": [
              " View run at <a href='https://wandb.ai/alih999954-politecnico-di-torino/pytorch_explain/runs/lchix0ey' target=\"_blank\">https://wandb.ai/alih999954-politecnico-di-torino/pytorch_explain/runs/lchix0ey</a>"
            ],
            "text/plain": [
              "<IPython.core.display.HTML object>"
            ]
          },
          "metadata": {},
          "output_type": "display_data"
        },
        {
          "name": "stdout",
          "output_type": "stream",
          "text": [
            "-------------------------- Training Trigonometry using LLR1 ----------------------\n",
            "Epoch 1, Loss: 1.1045652438293805, Train Accuracy: 0.6075, Val Loss: 1.0590358972549438, Val Accuracy: 0.5785714285714286, Train Precision: 0.4820896739130435, Train Recall: 0.6075, Train F1: 0.47086737513690125, Val Precision: 0.3347448979591837, Val Recall: 0.5785714285714286, Val F1: 0.42411118293471234, Epoch Time: 0.30114221572875977\n",
            "Epoch 2, Loss: 1.0384912815960972, Train Accuracy: 0.6139285714285714, Val Loss: 1.0183833187276667, Val Accuracy: 0.5785714285714286, Train Precision: 0.3769082908163265, Train Recall: 0.6139285714285714, Train F1: 0.4670693579489773, Val Precision: 0.3347448979591837, Val Recall: 0.5785714285714286, Val F1: 0.42411118293471234, Epoch Time: 0.2981853485107422\n",
            "Epoch 3, Loss: 0.9907256026159633, Train Accuracy: 0.6475, Val Loss: 0.9579563736915588, Val Accuracy: 0.7942857142857143, Train Precision: 0.7760726164079823, Train Recall: 0.6475, Train F1: 0.5387627118644068, Val Precision: 0.8482435597189696, Val Recall: 0.7942857142857143, Val F1: 0.7766018396528591, Epoch Time: 0.3017547130584717\n",
            "Epoch 4, Loss: 0.9032017426057295, Train Accuracy: 0.8689285714285714, Val Loss: 0.8431361046704379, Val Accuracy: 0.9042857142857142, Train Precision: 0.8758230685131195, Train Recall: 0.8689285714285714, Train F1: 0.8649997996826982, Val Precision: 0.9056912442396313, Val Recall: 0.9042857142857142, Val F1: 0.9045692900581409, Epoch Time: 0.2969956398010254\n",
            "Convergence achieved at epoch 4 with validation accuracy 0.9042857142857142\n",
            "Epoch 5, Loss: 0.7844905690713362, Train Accuracy: 0.9142857142857143, Val Loss: 0.7255876768719066, Val Accuracy: 0.9242857142857143, Train Precision: 0.9191007850823858, Train Recall: 0.9142857142857143, Train F1: 0.9149893894033501, Val Precision: 0.9265483725135625, Val Recall: 0.9242857142857143, Val F1: 0.9245792553858244, Epoch Time: 0.31368231773376465\n",
            "Epoch 6, Loss: 0.6975108114155856, Train Accuracy: 0.9389285714285714, Val Loss: 0.6697850173169916, Val Accuracy: 0.9285714285714286, Train Precision: 0.9412706635017306, Train Recall: 0.9389285714285714, Train F1: 0.9392945011442895, Val Precision: 0.9309917788103456, Val Recall: 0.9285714285714286, Val F1: 0.9288581760961574, Epoch Time: 0.34069108963012695\n",
            "Epoch 7, Loss: 0.6552574539726431, Train Accuracy: 0.9507142857142857, Val Loss: 0.6446250406178561, Val Accuracy: 0.9328571428571428, Train Precision: 0.952143741160297, Train Recall: 0.9507142857142857, Train F1: 0.9509487075201045, Val Precision: 0.9334244702665754, Val Recall: 0.9328571428571428, Val F1: 0.9329843479099731, Epoch Time: 0.30346226692199707\n",
            "Epoch 8, Loss: 0.631534759293903, Train Accuracy: 0.9589285714285715, Val Loss: 0.6271862279285084, Val Accuracy: 0.9342857142857143, Train Precision: 0.9593799089029387, Train Recall: 0.9589285714285715, Train F1: 0.9590320092651635, Val Precision: 0.934757142500864, Val Recall: 0.9342857142857143, Val F1: 0.9343975226768245, Epoch Time: 0.29165077209472656\n",
            "Epoch 9, Loss: 0.6163772520693865, Train Accuracy: 0.9621428571428572, Val Loss: 0.6175386038693514, Val Accuracy: 0.9457142857142857, Train Precision: 0.9624397263330111, Train Recall: 0.9621428571428572, Train F1: 0.9622176075861294, Val Precision: 0.9456791617201172, Val Recall: 0.9457142857142857, Val F1: 0.9456888173988807, Epoch Time: 0.2953684329986572\n",
            "Epoch 10, Loss: 0.6052868176590313, Train Accuracy: 0.9628571428571429, Val Loss: 0.6112067970362577, Val Accuracy: 0.9457142857142857, Train Precision: 0.9629690732732135, Train Recall: 0.9628571428571429, Train F1: 0.9628946042558599, Val Precision: 0.9456738599959431, Val Recall: 0.9457142857142857, Val F1: 0.9456623903722879, Epoch Time: 0.31563401222229004\n",
            "Epoch 11, Loss: 0.5976985015652396, Train Accuracy: 0.9621428571428572, Val Loss: 0.6027188030156222, Val Accuracy: 0.9471428571428572, Train Precision: 0.96225619794465, Train Recall: 0.9621428571428572, Train F1: 0.9621810389530878, Val Precision: 0.947357142857143, Val Recall: 0.9471428571428572, Val F1: 0.9472007933608225, Epoch Time: 0.2994234561920166\n",
            "Epoch 12, Loss: 0.5901588851755316, Train Accuracy: 0.9657142857142857, Val Loss: 0.5955482775514777, Val Accuracy: 0.95, Train Precision: 0.9657979227580181, Train Recall: 0.9657142857142857, Train F1: 0.9657432039778269, Val Precision: 0.9501026745467295, Val Recall: 0.95, Val F1: 0.9500335387450868, Epoch Time: 0.29042696952819824\n",
            "Epoch 13, Loss: 0.5848747315731916, Train Accuracy: 0.965, Val Loss: 0.5913494662805037, Val Accuracy: 0.95, Train Precision: 0.9651593413093201, Train Recall: 0.965, Train F1: 0.9650467348153444, Val Precision: 0.9499647461724418, Val Recall: 0.95, Val F1: 0.9499644826090509, Epoch Time: 0.2880678176879883\n",
            "Epoch 14, Loss: 0.5799834484403784, Train Accuracy: 0.9685714285714285, Val Loss: 0.5814256397160616, Val Accuracy: 0.9485714285714286, Train Precision: 0.9687215019388122, Train Recall: 0.9685714285714285, Train F1: 0.9686133945280644, Val Precision: 0.9485390359110496, Val Recall: 0.9485714285714286, Val F1: 0.9485473006936763, Epoch Time: 0.3158254623413086\n",
            "Epoch 15, Loss: 0.5776828053322706, Train Accuracy: 0.9664285714285714, Val Loss: 0.5800458843057806, Val Accuracy: 0.9514285714285714, Train Precision: 0.9665110247123866, Train Recall: 0.9664285714285714, Train F1: 0.9664568872282888, Val Precision: 0.9514285714285714, Val Recall: 0.9514285714285714, Val F1: 0.9514285714285714, Epoch Time: 0.29643678665161133\n",
            "Epoch 16, Loss: 0.5731207457455721, Train Accuracy: 0.9675, Val Loss: 0.576406408439983, Val Accuracy: 0.9528571428571428, Train Precision: 0.9675512601360639, Train Recall: 0.9675, Train F1: 0.967519289922827, Val Precision: 0.9535482043917398, Val Recall: 0.9528571428571428, Val F1: 0.9529640538907529, Epoch Time: 0.30197644233703613\n",
            "Epoch 17, Loss: 0.5715320150960576, Train Accuracy: 0.9685714285714285, Val Loss: 0.5728539770299738, Val Accuracy: 0.9542857142857143, Train Precision: 0.9686720759017224, Train Recall: 0.9685714285714285, Train F1: 0.9686031266780353, Val Precision: 0.9542963943842887, Val Recall: 0.9542857142857143, Val F1: 0.9542189478531139, Epoch Time: 0.32726097106933594\n",
            "Epoch 18, Loss: 0.5671353746544231, Train Accuracy: 0.9728571428571429, Val Loss: 0.572571564804424, Val Accuracy: 0.9528571428571428, Train Precision: 0.9729105602082596, Train Recall: 0.9728571428571429, Train F1: 0.9728755222958178, Val Precision: 0.9533556903622694, Val Recall: 0.9528571428571428, Val F1: 0.9529464570431726, Epoch Time: 0.30077528953552246\n",
            "Epoch 19, Loss: 0.5658769309520721, Train Accuracy: 0.9742857142857143, Val Loss: 0.5676059343598105, Val Accuracy: 0.9571428571428572, Train Precision: 0.9744209589459996, Train Recall: 0.9742857142857143, Train F1: 0.9743200500684163, Val Precision: 0.9571250928723264, Val Recall: 0.9571428571428572, Val F1: 0.9571018871360167, Epoch Time: 0.30381345748901367\n",
            "Epoch 20, Loss: 0.5630363280122931, Train Accuracy: 0.9746428571428571, Val Loss: 0.567552468993447, Val Accuracy: 0.9557142857142857, Train Precision: 0.9746274511042137, Train Recall: 0.9746428571428571, Train F1: 0.9746318798784062, Val Precision: 0.956041917249445, Val Recall: 0.9557142857142857, Val F1: 0.9557808910531427, Epoch Time: 0.3119678497314453\n",
            "Epoch 21, Loss: 0.5621240789240057, Train Accuracy: 0.9742857142857143, Val Loss: 0.5665168382904746, Val Accuracy: 0.96, Train Precision: 0.9743551462104397, Train Recall: 0.9742857142857143, Train F1: 0.9743074029833702, Val Precision: 0.9603375956478634, Val Recall: 0.96, Val F1: 0.9598767458894248, Epoch Time: 0.2984285354614258\n",
            "Epoch 22, Loss: 0.5598478859121149, Train Accuracy: 0.9746428571428571, Val Loss: 0.5600170601497997, Val Accuracy: 0.9557142857142857, Train Precision: 0.974647463997445, Train Recall: 0.9746428571428571, Train F1: 0.9746450298625372, Val Precision: 0.9557384647731182, Val Recall: 0.9557142857142857, Val F1: 0.9557243818260427, Epoch Time: 0.29282116889953613\n",
            "Epoch 23, Loss: 0.5582710341973738, Train Accuracy: 0.9746428571428571, Val Loss: 0.5604985193772749, Val Accuracy: 0.9585714285714285, Train Precision: 0.9748166730328496, Train Recall: 0.9746428571428571, Train F1: 0.9746828506786089, Val Precision: 0.9592395503040471, Val Recall: 0.9585714285714285, Val F1: 0.958665380691874, Epoch Time: 0.2922213077545166\n",
            "Epoch 24, Loss: 0.5562895590608771, Train Accuracy: 0.9764285714285714, Val Loss: 0.5587929595600475, Val Accuracy: 0.9628571428571429, Train Precision: 0.9764488318039527, Train Recall: 0.9764285714285714, Train F1: 0.9764366081036511, Val Precision: 0.9629870617293365, Val Recall: 0.9628571428571429, Val F1: 0.9628900370835854, Epoch Time: 0.32378315925598145\n",
            "Epoch 25, Loss: 0.555317913944071, Train Accuracy: 0.9782142857142857, Val Loss: 0.5591931126334451, Val Accuracy: 0.96, Train Precision: 0.9782529831441923, Train Recall: 0.9782142857142857, Train F1: 0.9782272163218949, Val Precision: 0.9601347801065897, Val Recall: 0.96, Val F1: 0.9600354245515537, Epoch Time: 0.3019387722015381\n",
            "Epoch 26, Loss: 0.5531698898835615, Train Accuracy: 0.9785714285714285, Val Loss: 0.555842399597168, Val Accuracy: 0.9628571428571429, Train Precision: 0.9785902379384934, Train Recall: 0.9785714285714285, Train F1: 0.9785787346396829, Val Precision: 0.9628571428571429, Val Recall: 0.9628571428571429, Val F1: 0.9628571428571429, Epoch Time: 0.29244470596313477\n",
            "Epoch 27, Loss: 0.5523769679394636, Train Accuracy: 0.9789285714285715, Val Loss: 0.5557570565830577, Val Accuracy: 0.9657142857142857, Train Precision: 0.9789417293960653, Train Recall: 0.9789285714285715, Train F1: 0.9789339690735759, Val Precision: 0.9660908123576858, Val Recall: 0.9657142857142857, Val F1: 0.9656086393337929, Epoch Time: 0.3204951286315918\n",
            "Epoch 28, Loss: 0.5527009097012606, Train Accuracy: 0.9796428571428571, Val Loss: 0.5537273938005621, Val Accuracy: 0.9642857142857143, Train Precision: 0.9796950575981238, Train Recall: 0.9796428571428571, Train F1: 0.9796583375604073, Val Precision: 0.9643060227837456, Val Recall: 0.9642857142857143, Val F1: 0.9642938563113249, Epoch Time: 0.29463624954223633\n",
            "Epoch 29, Loss: 0.5496606813235716, Train Accuracy: 0.98, Val Loss: 0.5543186393651095, Val Accuracy: 0.97, Train Precision: 0.9800438796336995, Train Recall: 0.98, Train F1: 0.9800135427442866, Val Precision: 0.9700967502696871, Val Recall: 0.97, Val F1: 0.9699484160558963, Epoch Time: 0.29209327697753906\n",
            "Epoch 30, Loss: 0.5500030314380472, Train Accuracy: 0.9832142857142857, Val Loss: 0.5520585883747448, Val Accuracy: 0.9657142857142857, Train Precision: 0.9832174262449843, Train Recall: 0.9832142857142857, Train F1: 0.9832157239935106, Val Precision: 0.9659480928234206, Val Recall: 0.9657142857142857, Val F1: 0.9657589330433166, Epoch Time: 0.3264496326446533\n",
            "Epoch 31, Loss: 0.5468531738628041, Train Accuracy: 0.9839285714285714, Val Loss: 0.5496418530290778, Val Accuracy: 0.9657142857142857, Train Precision: 0.9839743567634683, Train Recall: 0.9839285714285714, Train F1: 0.9839407928108478, Val Precision: 0.9658393433520832, Val Recall: 0.9657142857142857, Val F1: 0.9657446496156173, Epoch Time: 0.4387967586517334\n",
            "Epoch 32, Loss: 0.5467094494537874, Train Accuracy: 0.9832142857142857, Val Loss: 0.5505693771622397, Val Accuracy: 0.9671428571428572, Train Precision: 0.9832252595190788, Train Recall: 0.9832142857142857, Train F1: 0.9832185855331876, Val Precision: 0.9672232080250712, Val Recall: 0.9671428571428572, Val F1: 0.9671648968896284, Epoch Time: 0.41429924964904785\n",
            "Epoch 33, Loss: 0.5460559319366108, Train Accuracy: 0.9828571428571429, Val Loss: 0.5479611754417419, Val Accuracy: 0.9714285714285714, Train Precision: 0.9828571428571429, Train Recall: 0.9828571428571429, Train F1: 0.9828571428571429, Val Precision: 0.9714705843738102, Val Recall: 0.9714285714285714, Val F1: 0.9714414732979089, Epoch Time: 0.4929070472717285\n",
            "Epoch 34, Loss: 0.5441051030700857, Train Accuracy: 0.9860714285714286, Val Loss: 0.5472239851951599, Val Accuracy: 0.9742857142857143, Train Precision: 0.9860898919770853, Train Recall: 0.9860714285714286, Train F1: 0.9860773543794198, Val Precision: 0.9743019421869017, Val Recall: 0.9742857142857143, Val F1: 0.9742611322816103, Epoch Time: 0.4070115089416504\n",
            "Epoch 35, Loss: 0.5436793321912939, Train Accuracy: 0.9860714285714286, Val Loss: 0.5478558702902361, Val Accuracy: 0.9657142857142857, Train Precision: 0.9860740803274974, Train Recall: 0.9860714285714286, Train F1: 0.9860726220371683, Val Precision: 0.9662573740847241, Val Recall: 0.9657142857142857, Val F1: 0.9657857142857142, Epoch Time: 0.42096495628356934\n",
            "Epoch 36, Loss: 0.5439067577773874, Train Accuracy: 0.9821428571428571, Val Loss: 0.5464763424613259, Val Accuracy: 0.9714285714285714, Train Precision: 0.9821428571428571, Train Recall: 0.9821428571428571, Train F1: 0.9821428571428571, Val Precision: 0.9714705843738102, Val Recall: 0.9714285714285714, Val F1: 0.9714414732979089, Epoch Time: 0.38543105125427246\n",
            "Epoch 37, Loss: 0.5414102334867824, Train Accuracy: 0.9857142857142858, Val Loss: 0.54630892385136, Val Accuracy: 0.97, Train Precision: 0.9857159057955166, Train Recall: 0.9857142857142858, Train F1: 0.9857018099419276, Val Precision: 0.9704395933014355, Val Recall: 0.97, Val F1: 0.9700568363002008, Epoch Time: 0.39760446548461914\n",
            "Epoch 38, Loss: 0.5411711795763536, Train Accuracy: 0.9896428571428572, Val Loss: 0.5471524054353888, Val Accuracy: 0.9714285714285714, Train Precision: 0.9896398915917332, Train Recall: 0.9896428571428572, Train F1: 0.9896401762347018, Val Precision: 0.9716483900781855, Val Recall: 0.9714285714285714, Val F1: 0.9714657775360971, Epoch Time: 0.44200682640075684\n",
            "Epoch 39, Loss: 0.5405403172427957, Train Accuracy: 0.9882142857142857, Val Loss: 0.5451040972362865, Val Accuracy: 0.9742857142857143, Train Precision: 0.9882227113292611, Train Recall: 0.9882142857142857, Train F1: 0.9882173047360678, Val Precision: 0.9744985387055679, Val Recall: 0.9742857142857143, Val F1: 0.9743191997824873, Epoch Time: 0.4189643859863281\n",
            "Epoch 40, Loss: 0.5402176610448144, Train Accuracy: 0.9878571428571429, Val Loss: 0.5429915189743042, Val Accuracy: 0.9728571428571429, Train Precision: 0.9878790567166406, Train Recall: 0.9878571428571429, Train F1: 0.9878633313181285, Val Precision: 0.9729300525178517, Val Recall: 0.9728571428571429, Val F1: 0.9728753496044756, Epoch Time: 0.42949390411376953\n",
            "Epoch 41, Loss: 0.539581607688557, Train Accuracy: 0.9871428571428571, Val Loss: 0.5432494987141002, Val Accuracy: 0.9742857142857143, Train Precision: 0.9871541687443589, Train Recall: 0.9871428571428571, Train F1: 0.9871293369926334, Val Precision: 0.9743961882203236, Val Recall: 0.9742857142857143, Val F1: 0.9743084872117131, Epoch Time: 0.4496114253997803\n",
            "Total Training Time: 13.909708976745605\n",
            "\n",
            " Training on Trigonometry using LLR1 has been completed!\n"
          ]
        },
        {
          "data": {
            "application/vnd.jupyter.widget-view+json": {
              "model_id": "467f78759d484d85915c741668086279",
              "version_major": 2,
              "version_minor": 0
            },
            "text/plain": [
              "VBox(children=(Label(value='0.001 MB of 0.001 MB uploaded\\r'), FloatProgress(value=1.0, max=1.0)))"
            ]
          },
          "metadata": {},
          "output_type": "display_data"
        },
        {
          "data": {
            "text/html": [
              "<style>\n",
              "    table.wandb td:nth-child(1) { padding: 0 10px; text-align: left ; width: auto;} td:nth-child(2) {text-align: left ; width: 100%}\n",
              "    .wandb-row { display: flex; flex-direction: row; flex-wrap: wrap; justify-content: flex-start; width: 100% }\n",
              "    .wandb-col { display: flex; flex-direction: column; flex-basis: 100%; flex: 1; padding: 10px; }\n",
              "    </style>\n",
              "<div class=\"wandb-row\"><div class=\"wandb-col\"><h3>Run history:</h3><br/><table class=\"wandb\"><tr><td>convergence_time</td><td>▁</td></tr><tr><td>epoch</td><td>▁▁▁▂▂▂▂▂▂▃▃▃▃▃▃▄▄▄▄▄▅▅▅▅▅▅▆▆▆▆▆▆▇▇▇▇▇▇██</td></tr><tr><td>epoch_time</td><td>▁▁▁▁▂▃▂▁▁▂▁▁▁▂▁▁▂▁▂▂▁▁▁▂▁▁▂▁▁▂▆▅█▅▆▄▅▆▅▇</td></tr><tr><td>learning_rate</td><td>▁▁▁▁▁▁▁▁▁▁▁▁▁▁▁▁▁▁▁▁▁▁▁▁▁▁▁▁▁▁▁▁▁▁▁▁▁▁▁▁</td></tr><tr><td>loss</td><td>█▇▇▆▄▃▂▂▂▂▂▂▂▂▁▁▁▁▁▁▁▁▁▁▁▁▁▁▁▁▁▁▁▁▁▁▁▁▁▁</td></tr><tr><td>total_training_time</td><td>▁</td></tr><tr><td>train_accuracy</td><td>▁▁▂▆▇▇▇▇▇█▇█████████████████████████████</td></tr><tr><td>train_concept_accuracy</td><td>▁▅▇██▇▇▇▆▆▆▆▆▆▆▆▆▆▆▆▆▆▅▆▆▅▆▆▅▆▅▆▅▆▅▅▆▆▆▅</td></tr><tr><td>train_concept_loss</td><td>█▇▇▆▄▄▄▃▃▃▃▃▃▃▂▂▂▃▁▂▃▂▁▂▂▂▂▂▂▂▂▂▂▂▂▁▂▂▂▂</td></tr><tr><td>train_f1</td><td>▁▁▂▆▇▇▇█████████████████████████████████</td></tr><tr><td>train_precision</td><td>▂▁▆▇▇▇██████████████████████████████████</td></tr><tr><td>train_recall</td><td>▁▁▂▆▇▇▇▇▇█▇█████████████████████████████</td></tr><tr><td>train_task_accuracy</td><td>▁▁▂▆▇▇▇▇▇█▇█████████████████████████████</td></tr><tr><td>train_task_loss</td><td>██▇▆▅▃▂▃▂▂▂▂▂▁▂▂▂▁▂▁▁▁▂▂▁▁▂▁▂▁▁▁▁▁▁▁▁▁▁▁</td></tr><tr><td>val_accuracy</td><td>▁▁▅▇▇▇▇▇▇▇██████████████████████████████</td></tr><tr><td>val_concept_accuracy</td><td>▁▅▇█▇▆▆▅▅▅▅▄▄▄▄▄▄▄▄▄▄▄▄▄▄▄▄▄▄▄▄▄▄▄▄▄▄▄▄▄</td></tr><tr><td>val_concept_loss</td><td>▇█▇▆▃▄▃▄▂▃▃▃▃▃▃▃▃▂▂▂▂▂▂▂▂▂▃▂▂▂▃▁▂▂▃▁▂▂▃▂</td></tr><tr><td>val_f1</td><td>▁▁▅▇▇▇▇▇████████████████████████████████</td></tr><tr><td>val_learning_rate</td><td>▁▁▁▁▁▁▁▁▁▁▁▁▁▁▁▁▁▁▁▁▁▁▁▁▁▁▁▁▁▁▁▁▁▁▁▁▁▁▁▁</td></tr><tr><td>val_loss</td><td>█▇▇▅▃▃▂▂▂▂▂▂▂▂▁▁▁▁▁▁▁▁▁▁▁▁▁▁▁▁▁▁▁▁▁▁▁▁▁▁</td></tr><tr><td>val_precision</td><td>▁▁▇▇▇███████████████████████████████████</td></tr><tr><td>val_recall</td><td>▁▁▅▇▇▇▇▇▇▇██████████████████████████████</td></tr><tr><td>val_task_accuracy</td><td>▁▁▅▇▇▇▇▇▇▇██████████████████████████████</td></tr><tr><td>val_task_loss</td><td>█▇▇▅▃▃▃▂▂▂▂▃▂▂▂▂▂▂▂▁▂▁▂▁▁▂▂▁▁▂▂▂▁▂▁▂▁▂▂▂</td></tr></table><br/></div><div class=\"wandb-col\"><h3>Run summary:</h3><br/><table class=\"wandb\"><tr><td>convergence_time</td><td>1.20499</td></tr><tr><td>epoch</td><td>41</td></tr><tr><td>epoch_time</td><td>0.44961</td></tr><tr><td>learning_rate</td><td>0.0005</td></tr><tr><td>loss</td><td>0.53958</td></tr><tr><td>total_training_time</td><td>13.90971</td></tr><tr><td>train_accuracy</td><td>0.98714</td></tr><tr><td>train_concept_accuracy</td><td>0.63679</td></tr><tr><td>train_concept_loss</td><td>0.52159</td></tr><tr><td>train_f1</td><td>0.98713</td></tr><tr><td>train_precision</td><td>0.98715</td></tr><tr><td>train_recall</td><td>0.98714</td></tr><tr><td>train_task_accuracy</td><td>0.98714</td></tr><tr><td>train_task_loss</td><td>0.01823</td></tr><tr><td>val_accuracy</td><td>0.97429</td></tr><tr><td>val_concept_accuracy</td><td>0.64</td></tr><tr><td>val_concept_loss</td><td>0.50179</td></tr><tr><td>val_f1</td><td>0.97431</td></tr><tr><td>val_learning_rate</td><td>0.0005</td></tr><tr><td>val_loss</td><td>0.54325</td></tr><tr><td>val_precision</td><td>0.9744</td></tr><tr><td>val_recall</td><td>0.97429</td></tr><tr><td>val_task_accuracy</td><td>0.97429</td></tr><tr><td>val_task_loss</td><td>0.02876</td></tr></table><br/></div></div>"
            ],
            "text/plain": [
              "<IPython.core.display.HTML object>"
            ]
          },
          "metadata": {},
          "output_type": "display_data"
        },
        {
          "data": {
            "text/html": [
              " View run <strong style=\"color:#cdcd00\">LLR1_Trigonometry</strong> at: <a href='https://wandb.ai/alih999954-politecnico-di-torino/pytorch_explain/runs/lchix0ey' target=\"_blank\">https://wandb.ai/alih999954-politecnico-di-torino/pytorch_explain/runs/lchix0ey</a><br/> View project at: <a href='https://wandb.ai/alih999954-politecnico-di-torino/pytorch_explain' target=\"_blank\">https://wandb.ai/alih999954-politecnico-di-torino/pytorch_explain</a><br/>Synced 5 W&B file(s), 0 media file(s), 0 artifact file(s) and 0 other file(s)"
            ],
            "text/plain": [
              "<IPython.core.display.HTML object>"
            ]
          },
          "metadata": {},
          "output_type": "display_data"
        },
        {
          "data": {
            "text/html": [
              "Find logs at: <code>./wandb/run-20240723_091742-lchix0ey/logs</code>"
            ],
            "text/plain": [
              "<IPython.core.display.HTML object>"
            ]
          },
          "metadata": {},
          "output_type": "display_data"
        },
        {
          "data": {
            "text/html": [
              "The new W&B backend becomes opt-out in version 0.18.0; try it out with `wandb.require(\"core\")`! See https://wandb.me/wandb-core for more information."
            ],
            "text/plain": [
              "<IPython.core.display.HTML object>"
            ]
          },
          "metadata": {},
          "output_type": "display_data"
        },
        {
          "name": "stdout",
          "output_type": "stream",
          "text": [
            "The following dataset has been loaded successfully: Dot\n"
          ]
        },
        {
          "data": {
            "text/html": [
              "Tracking run with wandb version 0.17.5"
            ],
            "text/plain": [
              "<IPython.core.display.HTML object>"
            ]
          },
          "metadata": {},
          "output_type": "display_data"
        },
        {
          "data": {
            "text/html": [
              "Run data is saved locally in <code>/content/pytorch_explain/wandb/run-20240723_091805-l7tx9rhi</code>"
            ],
            "text/plain": [
              "<IPython.core.display.HTML object>"
            ]
          },
          "metadata": {},
          "output_type": "display_data"
        },
        {
          "data": {
            "text/html": [
              "Syncing run <strong><a href='https://wandb.ai/alih999954-politecnico-di-torino/pytorch_explain/runs/l7tx9rhi' target=\"_blank\">LLR1_Dot</a></strong> to <a href='https://wandb.ai/alih999954-politecnico-di-torino/pytorch_explain' target=\"_blank\">Weights & Biases</a> (<a href='https://wandb.me/run' target=\"_blank\">docs</a>)<br/>"
            ],
            "text/plain": [
              "<IPython.core.display.HTML object>"
            ]
          },
          "metadata": {},
          "output_type": "display_data"
        },
        {
          "data": {
            "text/html": [
              " View project at <a href='https://wandb.ai/alih999954-politecnico-di-torino/pytorch_explain' target=\"_blank\">https://wandb.ai/alih999954-politecnico-di-torino/pytorch_explain</a>"
            ],
            "text/plain": [
              "<IPython.core.display.HTML object>"
            ]
          },
          "metadata": {},
          "output_type": "display_data"
        },
        {
          "data": {
            "text/html": [
              " View run at <a href='https://wandb.ai/alih999954-politecnico-di-torino/pytorch_explain/runs/l7tx9rhi' target=\"_blank\">https://wandb.ai/alih999954-politecnico-di-torino/pytorch_explain/runs/l7tx9rhi</a>"
            ],
            "text/plain": [
              "<IPython.core.display.HTML object>"
            ]
          },
          "metadata": {},
          "output_type": "display_data"
        },
        {
          "name": "stdout",
          "output_type": "stream",
          "text": [
            "-------------------------- Training Dot using LLR1 ----------------------\n",
            "Epoch 1, Loss: 1.0562793477015062, Train Accuracy: 0.5142857142857142, Val Loss: 1.038515643639998, Val Accuracy: 0.54, Train Precision: 0.7162239770279971, Train Recall: 0.5142857142857142, Train F1: 0.35459770941498525, Val Precision: 0.7356556717618665, Val Recall: 0.54, Val F1: 0.40884466884466886, Epoch Time: 0.27113771438598633\n",
            "Epoch 2, Loss: 1.0221417302435094, Train Accuracy: 0.5678571428571428, Val Loss: 1.0039093060926958, Val Accuracy: 0.5885714285714285, Train Precision: 0.6628217261250907, Train Recall: 0.5678571428571428, Train F1: 0.4851494572128818, Val Precision: 0.6568742163876392, Val Recall: 0.5885714285714285, Val F1: 0.5301163985350466, Epoch Time: 0.27390503883361816\n",
            "Epoch 3, Loss: 0.9858959737149152, Train Accuracy: 0.6096428571428572, Val Loss: 0.9649622331966053, Val Accuracy: 0.6242857142857143, Train Precision: 0.6456171154157448, Train Recall: 0.6096428571428572, Train F1: 0.5788956554190304, Val Precision: 0.6479075036827129, Val Recall: 0.6242857142857143, Val F1: 0.6043258294296056, Epoch Time: 0.2667081356048584\n",
            "Epoch 4, Loss: 0.9462058774449609, Train Accuracy: 0.6385714285714286, Val Loss: 0.9234020384875211, Val Accuracy: 0.6628571428571428, Train Precision: 0.6455632713509956, Train Recall: 0.6385714285714286, Train F1: 0.6321670027947317, Val Precision: 0.6692297564186965, Val Recall: 0.6628571428571428, Val F1: 0.6579617604617606, Epoch Time: 0.2744121551513672\n",
            "Epoch 5, Loss: 0.9056611210107803, Train Accuracy: 0.685, Val Loss: 0.8801402178677645, Val Accuracy: 0.7185714285714285, Train Precision: 0.6909347604419848, Train Recall: 0.685, Train F1: 0.6814148836963926, Val Precision: 0.7195499323636629, Val Recall: 0.7185714285714285, Val F1: 0.717818799265185, Epoch Time: 0.26777195930480957\n",
            "Epoch 6, Loss: 0.8648867729035291, Train Accuracy: 0.7457142857142857, Val Loss: 0.8403354287147522, Val Accuracy: 0.74, Train Precision: 0.7475643731532292, Train Recall: 0.7457142857142857, Train F1: 0.7448633575013943, Val Precision: 0.7437961194329948, Val Recall: 0.74, Val F1: 0.7383562185122987, Epoch Time: 0.4220921993255615\n",
            "Epoch 7, Loss: 0.8287782967090607, Train Accuracy: 0.7685714285714286, Val Loss: 0.8054084073413502, Val Accuracy: 0.7542857142857143, Train Precision: 0.7699899166733684, Train Recall: 0.7685714285714286, Train F1: 0.767997234704459, Val Precision: 0.7626423883745458, Val Recall: 0.7542857142857143, Val F1: 0.7515340657157755, Epoch Time: 0.35862135887145996\n",
            "Epoch 8, Loss: 0.7952836535193704, Train Accuracy: 0.7853571428571429, Val Loss: 0.7759997248649597, Val Accuracy: 0.7757142857142857, Train Precision: 0.786651998572834, Train Recall: 0.7853571428571429, Train F1: 0.7848927839096583, Val Precision: 0.7805282495384884, Val Recall: 0.7757142857142857, Val F1: 0.774243748943147, Epoch Time: 0.39524078369140625\n",
            "Epoch 9, Loss: 0.7673525783148679, Train Accuracy: 0.7982142857142858, Val Loss: 0.7539780031551014, Val Accuracy: 0.7871428571428571, Train Precision: 0.8001146403729178, Train Recall: 0.7982142857142858, Train F1: 0.7976608439515508, Val Precision: 0.7926882982669033, Val Recall: 0.7871428571428571, Val F1: 0.7856447801535761, Epoch Time: 0.38321733474731445\n",
            "Epoch 10, Loss: 0.7441121353344484, Train Accuracy: 0.8103571428571429, Val Loss: 0.735050618648529, Val Accuracy: 0.8142857142857143, Train Precision: 0.8128305048552826, Train Recall: 0.8103571428571429, Train F1: 0.8097463173728157, Val Precision: 0.8172204922578167, Val Recall: 0.8142857142857143, Val F1: 0.8135722728807835, Epoch Time: 0.3769388198852539\n",
            "Epoch 11, Loss: 0.7223409224640239, Train Accuracy: 0.8314285714285714, Val Loss: 0.7156269116835161, Val Accuracy: 0.8357142857142857, Train Precision: 0.8328909414205276, Train Recall: 0.8314285714285714, Train F1: 0.8310921042665089, Val Precision: 0.8383812621713946, Val Recall: 0.8357142857142857, Val F1: 0.8351694732761962, Epoch Time: 0.3948252201080322\n",
            "Epoch 12, Loss: 0.7008506276390769, Train Accuracy: 0.8553571428571428, Val Loss: 0.6956832679835233, Val Accuracy: 0.86, Train Precision: 0.8566181612291149, Train Recall: 0.8553571428571428, Train F1: 0.855118413858594, Val Precision: 0.8620698986832118, Val Recall: 0.86, Val F1: 0.8596466037241017, Epoch Time: 0.33544111251831055\n",
            "Epoch 13, Loss: 0.6781304180622101, Train Accuracy: 0.88, Val Loss: 0.6752766370773315, Val Accuracy: 0.8942857142857142, Train Precision: 0.8809398049647208, Train Recall: 0.88, Train F1: 0.87985243701346, Val Precision: 0.8948220373908808, Val Recall: 0.8942857142857142, Val F1: 0.894194935303911, Epoch Time: 0.41960978507995605\n",
            "Epoch 14, Loss: 0.657905562357469, Train Accuracy: 0.9075, Val Loss: 0.6585032506422563, Val Accuracy: 0.9057142857142857, Train Precision: 0.9076831525564606, Train Recall: 0.9075, Train F1: 0.9074653128498832, Val Precision: 0.9066818642350557, Val Recall: 0.9057142857142857, Val F1: 0.9055962463046932, Epoch Time: 0.3948698043823242\n",
            "Convergence achieved at epoch 14 with validation accuracy 0.9057142857142857\n",
            "Epoch 15, Loss: 0.6392382274974476, Train Accuracy: 0.9221428571428572, Val Loss: 0.6413610252467069, Val Accuracy: 0.9257142857142857, Train Precision: 0.922328153751789, Train Recall: 0.9221428571428572, Train F1: 0.9221148644783828, Val Precision: 0.9261579501579503, Val Recall: 0.9257142857142857, Val F1: 0.9256632653061224, Epoch Time: 0.39208483695983887\n",
            "Epoch 16, Loss: 0.6246099187569185, Train Accuracy: 0.9364285714285714, Val Loss: 0.6285870346156034, Val Accuracy: 0.9357142857142857, Train Precision: 0.9365351791451063, Train Recall: 0.9364285714285714, Train F1: 0.9364129901960785, Val Precision: 0.9360996195201486, Val Recall: 0.9357142857142857, Val F1: 0.935675262642935, Epoch Time: 0.37822985649108887\n",
            "Epoch 17, Loss: 0.6125067309899763, Train Accuracy: 0.9471428571428572, Val Loss: 0.6189321171153676, Val Accuracy: 0.9357142857142857, Train Precision: 0.9471666666666666, Train Recall: 0.9471428571428572, Train F1: 0.947137352438479, Val Precision: 0.9364548013169406, Val Recall: 0.9357142857142857, Val F1: 0.9356531600021383, Epoch Time: 0.3659071922302246\n",
            "Epoch 18, Loss: 0.6035594046115875, Train Accuracy: 0.9542857142857143, Val Loss: 0.6100663542747498, Val Accuracy: 0.94, Train Precision: 0.9543220326865609, Train Recall: 0.9542857142857143, Train F1: 0.9542799964263379, Val Precision: 0.9404717444717445, Val Recall: 0.94, Val F1: 0.9399587912087911, Epoch Time: 0.44881176948547363\n",
            "Epoch 19, Loss: 0.595643242651766, Train Accuracy: 0.9585714285714285, Val Loss: 0.6022295572540977, Val Accuracy: 0.9485714285714286, Train Precision: 0.9585816744132857, Train Recall: 0.9585714285714285, Train F1: 0.9585687216178248, Val Precision: 0.9489049053356283, Val Recall: 0.9485714285714286, Val F1: 0.9485441022425107, Epoch Time: 0.3361544609069824\n",
            "Epoch 20, Loss: 0.5905898890712045, Train Accuracy: 0.9603571428571429, Val Loss: 0.5965290828184648, Val Accuracy: 0.95, Train Precision: 0.9603601848169722, Train Recall: 0.9603571428571429, Train F1: 0.9603555998963283, Val Precision: 0.9501574320179923, Val Recall: 0.95, Val F1: 0.9499835536732514, Epoch Time: 0.2634270191192627\n",
            "Epoch 21, Loss: 0.584921193393794, Train Accuracy: 0.9632142857142857, Val Loss: 0.5957354361360724, Val Accuracy: 0.9471428571428572, Train Precision: 0.963217990430622, Train Recall: 0.9632142857142857, Train F1: 0.9632150320184873, Val Precision: 0.9486907081033287, Val Recall: 0.9471428571428572, Val F1: 0.947058805987691, Epoch Time: 0.2740182876586914\n",
            "Epoch 22, Loss: 0.5810578113252466, Train Accuracy: 0.9657142857142857, Val Loss: 0.5905876809900458, Val Accuracy: 0.9542857142857143, Train Precision: 0.9657426470588236, Train Recall: 0.9657142857142857, Train F1: 0.9657107150952294, Val Precision: 0.9551915713301494, Val Recall: 0.9542857142857143, Val F1: 0.9542378474900316, Epoch Time: 0.2821168899536133\n",
            "Epoch 23, Loss: 0.5768771374767477, Train Accuracy: 0.9703571428571428, Val Loss: 0.5874930186705156, Val Accuracy: 0.9571428571428572, Train Precision: 0.9703610271217017, Train Recall: 0.9703571428571428, Train F1: 0.9703559891116689, Val Precision: 0.9578378479637331, Val Recall: 0.9571428571428572, Val F1: 0.9571060548529369, Epoch Time: 0.2642645835876465\n",
            "Epoch 24, Loss: 0.5750298215584322, Train Accuracy: 0.9664285714285714, Val Loss: 0.5835419188846241, Val Accuracy: 0.96, Train Precision: 0.9664571078431373, Train Recall: 0.9664285714285714, Train F1: 0.9664250751974123, Val Precision: 0.9607022029897718, Val Recall: 0.96, Val F1: 0.9599656511960744, Epoch Time: 0.25949740409851074\n",
            "Epoch 25, Loss: 0.5707899250767448, Train Accuracy: 0.9710714285714286, Val Loss: 0.5771413553844799, Val Accuracy: 0.9657142857142857, Train Precision: 0.971072352311516, Train Recall: 0.9710714285714286, Train F1: 0.9710707751745384, Val Precision: 0.9658379120879123, Val Recall: 0.9657142857142857, Val F1: 0.9657050404306061, Epoch Time: 0.29532504081726074\n",
            "Epoch 26, Loss: 0.5679133873094212, Train Accuracy: 0.9728571428571429, Val Loss: 0.5757469209757718, Val Accuracy: 0.9642857142857143, Train Precision: 0.9728594531020287, Train Recall: 0.9728571428571429, Train F1: 0.97285631157164, Val Precision: 0.9643689194538938, Val Recall: 0.9642857142857143, Val F1: 0.9642780543305302, Epoch Time: 0.271024227142334\n",
            "Epoch 27, Loss: 0.5663309747522528, Train Accuracy: 0.9739285714285715, Val Loss: 0.5726157914508473, Val Accuracy: 0.9671428571428572, Train Precision: 0.9739291859063905, Train Recall: 0.9739285714285715, Train F1: 0.9739287543982212, Val Precision: 0.9673150100768173, Val Recall: 0.9671428571428572, Val F1: 0.967132049556708, Epoch Time: 0.2629256248474121\n",
            "Epoch 28, Loss: 0.5641861612146551, Train Accuracy: 0.9757142857142858, Val Loss: 0.5739466060291637, Val Accuracy: 0.9628571428571429, Train Precision: 0.9757159510116753, Train Recall: 0.9757142857142858, Train F1: 0.9757146203868683, Val Precision: 0.9633738153738154, Val Recall: 0.9628571428571429, Val F1: 0.9628316326530613, Epoch Time: 0.2857489585876465\n",
            "Epoch 29, Loss: 0.5624295513738286, Train Accuracy: 0.9728571428571429, Val Loss: 0.5708157528530468, Val Accuracy: 0.9614285714285714, Train Precision: 0.9729127546392764, Train Recall: 0.9728571428571429, Train F1: 0.9728531518800186, Val Precision: 0.9615102584673666, Val Recall: 0.9614285714285714, Val F1: 0.9614202986769724, Epoch Time: 0.2973206043243408\n",
            "Epoch 30, Loss: 0.5600176372311332, Train Accuracy: 0.9767857142857143, Val Loss: 0.5663750009103254, Val Accuracy: 0.9685714285714285, Train Precision: 0.9767953185026355, Train Recall: 0.9767857142857143, Train F1: 0.9767844078207448, Val Precision: 0.9686408487172669, Val Recall: 0.9685714285714285, Val F1: 0.9685745081936616, Epoch Time: 0.27503466606140137\n",
            "Epoch 31, Loss: 0.5584332699125464, Train Accuracy: 0.9753571428571428, Val Loss: 0.5657253644683145, Val Accuracy: 0.9728571428571429, Train Precision: 0.9753614482740666, Train Recall: 0.9753571428571428, Train F1: 0.9753561837193391, Val Precision: 0.9728592317018949, Val Recall: 0.9728571428571429, Val F1: 0.9728562006104474, Epoch Time: 0.26331090927124023\n",
            "Epoch 32, Loss: 0.5572155023163016, Train Accuracy: 0.9775, Val Loss: 0.5651263377883218, Val Accuracy: 0.97, Train Precision: 0.9775044859107944, Train Recall: 0.9775, Train F1: 0.9774991242654837, Val Precision: 0.9701746064199551, Val Recall: 0.97, Val F1: 0.9699901322039507, Epoch Time: 0.29589414596557617\n",
            "Epoch 33, Loss: 0.5554701767184518, Train Accuracy: 0.9796428571428571, Val Loss: 0.5620069070295854, Val Accuracy: 0.97, Train Precision: 0.9796504311622883, Train Recall: 0.9796428571428571, Train F1: 0.9796435194890549, Val Precision: 0.9700404164115126, Val Recall: 0.97, Val F1: 0.9700023885789181, Epoch Time: 0.2818443775177002\n",
            "Epoch 34, Loss: 0.5552473176609386, Train Accuracy: 0.9764285714285714, Val Loss: 0.5628855661912398, Val Accuracy: 0.9714285714285714, Train Precision: 0.9764285714285714, Train Recall: 0.9764285714285714, Train F1: 0.9764285714285714, Val Precision: 0.9714477024151704, Val Recall: 0.9714285714285714, Val F1: 0.9714302047349552, Epoch Time: 0.26141905784606934\n",
            "Epoch 35, Loss: 0.5535881492224607, Train Accuracy: 0.98, Val Loss: 0.5622759678147056, Val Accuracy: 0.9685714285714285, Train Precision: 0.9800015515555366, Train Recall: 0.98, Train F1: 0.9800002756127151, Val Precision: 0.9688002916882861, Val Recall: 0.9685714285714285, Val F1: 0.968559099209333, Epoch Time: 0.25667595863342285\n",
            "Epoch 36, Loss: 0.551970743320205, Train Accuracy: 0.9825, Val Loss: 0.5601724115285006, Val Accuracy: 0.9714285714285714, Train Precision: 0.9825074063356894, Train Recall: 0.9825, Train F1: 0.9825005693853279, Val Precision: 0.9714402427637723, Val Recall: 0.9714285714285714, Val F1: 0.9714264709142955, Epoch Time: 0.29111146926879883\n",
            "Epoch 37, Loss: 0.5514134724031795, Train Accuracy: 0.9807142857142858, Val Loss: 0.5606634183363481, Val Accuracy: 0.9657142857142857, Train Precision: 0.9807158183128467, Train Recall: 0.9807142857142858, Train F1: 0.9807145514836896, Val Precision: 0.9658379120879123, Val Recall: 0.9657142857142857, Val F1: 0.9657050404306061, Epoch Time: 0.2730987071990967\n",
            "Epoch 38, Loss: 0.5504501936110583, Train Accuracy: 0.9807142857142858, Val Loss: 0.556606877933849, Val Accuracy: 0.9742857142857143, Train Precision: 0.9807193134308857, Train Recall: 0.9807142857142858, Train F1: 0.9807147975526253, Val Precision: 0.9743045653066557, Val Recall: 0.9742857142857143, Val F1: 0.9742871842614595, Epoch Time: 0.24758100509643555\n",
            "Epoch 39, Loss: 0.5489475591616197, Train Accuracy: 0.9821428571428571, Val Loss: 0.5570691823959351, Val Accuracy: 0.9671428571428572, Train Precision: 0.9821428571428571, Train Recall: 0.9821428571428571, Train F1: 0.9821428571428571, Val Precision: 0.9671707680939658, Val Recall: 0.9671428571428572, Val F1: 0.9671390321674306, Epoch Time: 0.2894752025604248\n",
            "Epoch 40, Loss: 0.5483409017324448, Train Accuracy: 0.9810714285714286, Val Loss: 0.5577833652496338, Val Accuracy: 0.97, Train Precision: 0.9810714035971557, Train Recall: 0.9810714285714286, Train F1: 0.9810712908959337, Val Precision: 0.9700286813914152, Val Recall: 0.97, Val F1: 0.9699965076311322, Epoch Time: 0.29347777366638184\n",
            "Epoch 41, Loss: 0.5471420816399835, Train Accuracy: 0.9839285714285714, Val Loss: 0.5552804415876215, Val Accuracy: 0.9685714285714285, Train Precision: 0.9839358939223903, Train Recall: 0.9839285714285714, Train F1: 0.9839290943334643, Val Precision: 0.9685714285714285, Val Recall: 0.9685714285714285, Val F1: 0.9685714285714285, Epoch Time: 0.2684812545776367\n",
            "Total Training Time: 12.895659685134888\n",
            "\n",
            " Training on Dot using LLR1 has been completed!\n"
          ]
        },
        {
          "data": {
            "application/vnd.jupyter.widget-view+json": {
              "model_id": "c06ad07d981c491db2317cfbab597596",
              "version_major": 2,
              "version_minor": 0
            },
            "text/plain": [
              "VBox(children=(Label(value='0.001 MB of 0.001 MB uploaded\\r'), FloatProgress(value=1.0, max=1.0)))"
            ]
          },
          "metadata": {},
          "output_type": "display_data"
        },
        {
          "data": {
            "text/html": [
              "<style>\n",
              "    table.wandb td:nth-child(1) { padding: 0 10px; text-align: left ; width: auto;} td:nth-child(2) {text-align: left ; width: 100%}\n",
              "    .wandb-row { display: flex; flex-direction: row; flex-wrap: wrap; justify-content: flex-start; width: 100% }\n",
              "    .wandb-col { display: flex; flex-direction: column; flex-basis: 100%; flex: 1; padding: 10px; }\n",
              "    </style>\n",
              "<div class=\"wandb-row\"><div class=\"wandb-col\"><h3>Run history:</h3><br/><table class=\"wandb\"><tr><td>convergence_time</td><td>▁</td></tr><tr><td>epoch</td><td>▁▁▁▂▂▂▂▂▂▃▃▃▃▃▃▄▄▄▄▄▅▅▅▅▅▅▆▆▆▆▆▆▇▇▇▇▇▇██</td></tr><tr><td>epoch_time</td><td>▂▂▂▂▂▇▅▆▆▅▆▄▇▆▆▆▅█▄▂▂▂▂▁▃▂▂▂▃▂▂▃▂▁▁▃▂▁▂▂</td></tr><tr><td>learning_rate</td><td>▁▁▁▁▁▁▁▁▁▁▁▁▁▁▁▁▁▁▁▁▁▁▁▁▁▁▁▁▁▁▁▁▁▁▁▁▁▁▁▁</td></tr><tr><td>loss</td><td>██▇▆▆▅▅▄▄▄▃▃▃▃▂▂▂▂▂▂▂▁▁▁▁▁▁▁▁▁▁▁▁▁▁▁▁▁▁▁</td></tr><tr><td>total_training_time</td><td>▁</td></tr><tr><td>train_accuracy</td><td>▁▂▂▃▄▄▅▅▅▅▆▆▆▇▇▇▇███████████████████████</td></tr><tr><td>train_concept_accuracy</td><td>▇██▇▅▃▁▁▁▂▂▂▃▂▂▂▂▂▂▂▂▂▂▂▂▂▃▂▂▃▂▂▃▃▃▃▃▃▃▃</td></tr><tr><td>train_concept_loss</td><td>█▆▅▅▄▃▃▃▂▂▁▃▃▂▃▂▂▂▂▂▃▂▃▃▂▂▃▂▃▁▁▂▂▁▂▁▂▃▂▁</td></tr><tr><td>train_f1</td><td>▁▂▃▄▅▅▆▆▆▆▆▇▇▇▇▇████████████████████████</td></tr><tr><td>train_precision</td><td>▂▁▁▁▂▃▄▄▄▄▅▅▆▆▇▇▇▇▇█████████████████████</td></tr><tr><td>train_recall</td><td>▁▂▂▃▄▄▅▅▅▅▆▆▆▇▇▇▇███████████████████████</td></tr><tr><td>train_task_accuracy</td><td>▁▂▂▃▄▄▅▅▅▅▆▆▆▇▇▇▇███████████████████████</td></tr><tr><td>train_task_loss</td><td>████▇▇▆▆▅▆▄▄▃▃▃▂▂▂▂▂▂▂▂▂▁▂▂▁▁▁▁▁▁▂▁▂▁▁▁▁</td></tr><tr><td>val_accuracy</td><td>▁▂▂▃▄▄▄▅▅▅▆▆▇▇▇▇▇▇██████████████████████</td></tr><tr><td>val_concept_accuracy</td><td>██▇▆▄▂▁▁▁▁▂▂▂▁▂▁▁▁▁▁▁▁▁▁▁▁▁▁▂▂▁▁▂▂▂▂▂▂▂▂</td></tr><tr><td>val_concept_loss</td><td>█▆▆▅▄▃▂▃▃▃▂▄▂▁▂▄▂▁▃▂▂▁▃▁▁▃▂▁▁▃▂▃▂▃▂▂▂▁▃▂</td></tr><tr><td>val_f1</td><td>▁▃▃▄▅▅▅▆▆▆▆▇▇▇▇█████████████████████████</td></tr><tr><td>val_learning_rate</td><td>▁▁▁▁▁▁▁▁▁▁▁▁▁▁▁▁▁▁▁▁▁▁▁▁▁▁▁▁▁▁▁▁▁▁▁▁▁▁▁▁</td></tr><tr><td>val_loss</td><td>█▇▇▆▆▅▅▄▄▄▃▃▃▂▂▂▂▂▂▂▂▂▁▁▁▁▁▁▁▁▁▁▁▁▁▁▁▁▁▁</td></tr><tr><td>val_precision</td><td>▃▁▁▁▃▃▃▄▄▅▅▆▆▇▇▇▇▇▇▇▇███████████████████</td></tr><tr><td>val_recall</td><td>▁▂▂▃▄▄▄▅▅▅▆▆▇▇▇▇▇▇██████████████████████</td></tr><tr><td>val_task_accuracy</td><td>▁▂▂▃▄▄▄▅▅▅▆▆▇▇▇▇▇▇██████████████████████</td></tr><tr><td>val_task_loss</td><td>████▇▇▅▆▅▅▄▄▄▂▃▂▃▁▂▂▃▁▂▁▂▁▂▁▁▁▁▁▁▁▁▁▁▁▁▁</td></tr></table><br/></div><div class=\"wandb-col\"><h3>Run summary:</h3><br/><table class=\"wandb\"><tr><td>convergence_time</td><td>4.87004</td></tr><tr><td>epoch</td><td>41</td></tr><tr><td>epoch_time</td><td>0.26848</td></tr><tr><td>learning_rate</td><td>0.0005</td></tr><tr><td>loss</td><td>0.54714</td></tr><tr><td>total_training_time</td><td>12.89566</td></tr><tr><td>train_accuracy</td><td>0.98393</td></tr><tr><td>train_concept_accuracy</td><td>0.75393</td></tr><tr><td>train_concept_loss</td><td>0.53125</td></tr><tr><td>train_f1</td><td>0.98393</td></tr><tr><td>train_precision</td><td>0.98394</td></tr><tr><td>train_recall</td><td>0.98393</td></tr><tr><td>train_task_accuracy</td><td>0.98393</td></tr><tr><td>train_task_loss</td><td>0.04268</td></tr><tr><td>val_accuracy</td><td>0.96857</td></tr><tr><td>val_concept_accuracy</td><td>0.72143</td></tr><tr><td>val_concept_loss</td><td>0.49715</td></tr><tr><td>val_f1</td><td>0.96857</td></tr><tr><td>val_learning_rate</td><td>0.0005</td></tr><tr><td>val_loss</td><td>0.55528</td></tr><tr><td>val_precision</td><td>0.96857</td></tr><tr><td>val_recall</td><td>0.96857</td></tr><tr><td>val_task_accuracy</td><td>0.96857</td></tr><tr><td>val_task_loss</td><td>0.0608</td></tr></table><br/></div></div>"
            ],
            "text/plain": [
              "<IPython.core.display.HTML object>"
            ]
          },
          "metadata": {},
          "output_type": "display_data"
        },
        {
          "data": {
            "text/html": [
              " View run <strong style=\"color:#cdcd00\">LLR1_Dot</strong> at: <a href='https://wandb.ai/alih999954-politecnico-di-torino/pytorch_explain/runs/l7tx9rhi' target=\"_blank\">https://wandb.ai/alih999954-politecnico-di-torino/pytorch_explain/runs/l7tx9rhi</a><br/> View project at: <a href='https://wandb.ai/alih999954-politecnico-di-torino/pytorch_explain' target=\"_blank\">https://wandb.ai/alih999954-politecnico-di-torino/pytorch_explain</a><br/>Synced 5 W&B file(s), 0 media file(s), 0 artifact file(s) and 0 other file(s)"
            ],
            "text/plain": [
              "<IPython.core.display.HTML object>"
            ]
          },
          "metadata": {},
          "output_type": "display_data"
        },
        {
          "data": {
            "text/html": [
              "Find logs at: <code>./wandb/run-20240723_091805-l7tx9rhi/logs</code>"
            ],
            "text/plain": [
              "<IPython.core.display.HTML object>"
            ]
          },
          "metadata": {},
          "output_type": "display_data"
        },
        {
          "data": {
            "text/html": [
              "The new W&B backend becomes opt-out in version 0.18.0; try it out with `wandb.require(\"core\")`! See https://wandb.me/wandb-core for more information."
            ],
            "text/plain": [
              "<IPython.core.display.HTML object>"
            ]
          },
          "metadata": {},
          "output_type": "display_data"
        },
        {
          "name": "stdout",
          "output_type": "stream",
          "text": [
            "===========================================================\n",
            "Training on LLR2 ... \n",
            "--------------------------------\n",
            "The following dataset has been loaded successfully: XOR\n"
          ]
        },
        {
          "data": {
            "text/html": [
              "Tracking run with wandb version 0.17.5"
            ],
            "text/plain": [
              "<IPython.core.display.HTML object>"
            ]
          },
          "metadata": {},
          "output_type": "display_data"
        },
        {
          "data": {
            "text/html": [
              "Run data is saved locally in <code>/content/pytorch_explain/wandb/run-20240723_091825-uouzz64i</code>"
            ],
            "text/plain": [
              "<IPython.core.display.HTML object>"
            ]
          },
          "metadata": {},
          "output_type": "display_data"
        },
        {
          "data": {
            "text/html": [
              "Syncing run <strong><a href='https://wandb.ai/alih999954-politecnico-di-torino/pytorch_explain/runs/uouzz64i' target=\"_blank\">LLR2_XOR</a></strong> to <a href='https://wandb.ai/alih999954-politecnico-di-torino/pytorch_explain' target=\"_blank\">Weights & Biases</a> (<a href='https://wandb.me/run' target=\"_blank\">docs</a>)<br/>"
            ],
            "text/plain": [
              "<IPython.core.display.HTML object>"
            ]
          },
          "metadata": {},
          "output_type": "display_data"
        },
        {
          "data": {
            "text/html": [
              " View project at <a href='https://wandb.ai/alih999954-politecnico-di-torino/pytorch_explain' target=\"_blank\">https://wandb.ai/alih999954-politecnico-di-torino/pytorch_explain</a>"
            ],
            "text/plain": [
              "<IPython.core.display.HTML object>"
            ]
          },
          "metadata": {},
          "output_type": "display_data"
        },
        {
          "data": {
            "text/html": [
              " View run at <a href='https://wandb.ai/alih999954-politecnico-di-torino/pytorch_explain/runs/uouzz64i' target=\"_blank\">https://wandb.ai/alih999954-politecnico-di-torino/pytorch_explain/runs/uouzz64i</a>"
            ],
            "text/plain": [
              "<IPython.core.display.HTML object>"
            ]
          },
          "metadata": {},
          "output_type": "display_data"
        },
        {
          "name": "stdout",
          "output_type": "stream",
          "text": [
            "-------------------------- Training XOR using LLR2 ----------------------\n",
            "Epoch 1, Loss: 1.120077829469334, Train Accuracy: 0.5139285714285714, Val Loss: 1.1224551417610862, Val Accuracy: 0.4614285714285714, Train Precision: 0.2641225765306122, Train Recall: 0.5139285714285714, Train F1: 0.3489234320762983, Val Precision: 0.2129163265306122, Val Recall: 0.4614285714285714, Val F1: 0.29138109202625334, Epoch Time: 0.31279754638671875\n",
            "Epoch 2, Loss: 1.0934011773629622, Train Accuracy: 0.5139285714285714, Val Loss: 1.089286576617848, Val Accuracy: 0.4614285714285714, Train Precision: 0.2641225765306122, Train Recall: 0.5139285714285714, Train F1: 0.3489234320762983, Val Precision: 0.2129163265306122, Val Recall: 0.4614285714285714, Val F1: 0.29138109202625334, Epoch Time: 0.2969703674316406\n",
            "Epoch 3, Loss: 1.0576325411146337, Train Accuracy: 0.5139285714285714, Val Loss: 1.0546899383718318, Val Accuracy: 0.4614285714285714, Train Precision: 0.2641225765306122, Train Recall: 0.5139285714285714, Train F1: 0.3489234320762983, Val Precision: 0.2129163265306122, Val Recall: 0.4614285714285714, Val F1: 0.29138109202625334, Epoch Time: 0.3078033924102783\n",
            "Epoch 4, Loss: 1.0340249728072772, Train Accuracy: 0.5139285714285714, Val Loss: 1.0365465120835737, Val Accuracy: 0.4614285714285714, Train Precision: 0.2641225765306122, Train Recall: 0.5139285714285714, Train F1: 0.3489234320762983, Val Precision: 0.2129163265306122, Val Recall: 0.4614285714285714, Val F1: 0.29138109202625334, Epoch Time: 0.31630754470825195\n",
            "Epoch 5, Loss: 1.0158050818876787, Train Accuracy: 0.5139285714285714, Val Loss: 1.016846407543529, Val Accuracy: 0.4614285714285714, Train Precision: 0.2641225765306122, Train Recall: 0.5139285714285714, Train F1: 0.3489234320762983, Val Precision: 0.2129163265306122, Val Recall: 0.4614285714285714, Val F1: 0.29138109202625334, Epoch Time: 0.32097458839416504\n",
            "Epoch 6, Loss: 0.9919111105528745, Train Accuracy: 0.57, Val Loss: 0.9916668154976584, Val Accuracy: 0.49142857142857144, Train Precision: 0.6569795391490383, Train Recall: 0.57, Train F1: 0.4883133524625605, Val Precision: 0.7580727961287608, Val Recall: 0.49142857142857144, Val F1: 0.3543220522343683, Epoch Time: 0.3098628520965576\n",
            "Epoch 7, Loss: 0.9621536853638563, Train Accuracy: 0.6457142857142857, Val Loss: 0.9596121257001703, Val Accuracy: 0.7114285714285714, Train Precision: 0.7127498430661013, Train Recall: 0.6457142857142857, Train F1: 0.6099519544783498, Val Precision: 0.7463825275391269, Val Recall: 0.7114285714285714, Val F1: 0.7067224786645597, Epoch Time: 0.3046538829803467\n",
            "Epoch 8, Loss: 0.9250157597390088, Train Accuracy: 0.7939285714285714, Val Loss: 0.9200703555887396, Val Accuracy: 0.78, Train Precision: 0.7942100501641718, Train Recall: 0.7939285714285714, Train F1: 0.7937156029895697, Val Precision: 0.7940593780779512, Val Recall: 0.78, Val F1: 0.7795724003887269, Epoch Time: 0.29074716567993164\n",
            "Epoch 9, Loss: 0.8775895603678443, Train Accuracy: 0.8282142857142857, Val Loss: 0.868428577076305, Val Accuracy: 0.8514285714285714, Train Precision: 0.8285094511211141, Train Recall: 0.8282142857142857, Train F1: 0.8282468326139267, Val Precision: 0.8525420099613649, Val Recall: 0.8514285714285714, Val F1: 0.85078955453149, Epoch Time: 0.29503297805786133\n",
            "Epoch 10, Loss: 0.8218140398914163, Train Accuracy: 0.8525, Val Loss: 0.8149425116452303, Val Accuracy: 0.8557142857142858, Train Precision: 0.8556890106749756, Train Recall: 0.8525, Train F1: 0.8523894379168824, Val Precision: 0.8558931884442089, Val Recall: 0.8557142857142858, Val F1: 0.8554065286826257, Epoch Time: 0.29753565788269043\n",
            "Epoch 11, Loss: 0.773687024008144, Train Accuracy: 0.8603571428571428, Val Loss: 0.7786479050462897, Val Accuracy: 0.8614285714285714, Train Precision: 0.8632078894018839, Train Recall: 0.8603571428571428, Train F1: 0.8602758528062104, Val Precision: 0.8614498602771798, Val Recall: 0.8614285714285714, Val F1: 0.8612246116294288, Epoch Time: 0.30681824684143066\n",
            "Epoch 12, Loss: 0.741682383147153, Train Accuracy: 0.8667857142857143, Val Loss: 0.7465404163707386, Val Accuracy: 0.8671428571428571, Train Precision: 0.8696664862475445, Train Recall: 0.8667857142857143, Train F1: 0.866708166487766, Val Precision: 0.8675171219079849, Val Recall: 0.8671428571428571, Val F1: 0.8668121929600527, Epoch Time: 0.3043556213378906\n",
            "Epoch 13, Loss: 0.7154836763035167, Train Accuracy: 0.8735714285714286, Val Loss: 0.7225733291019093, Val Accuracy: 0.8814285714285715, Train Precision: 0.8766281476630993, Train Recall: 0.8735714285714286, Train F1: 0.8734901347701193, Val Precision: 0.8814457561513765, Val Recall: 0.8814285714285715, Val F1: 0.8812902469184064, Epoch Time: 0.30253076553344727\n",
            "Epoch 14, Loss: 0.6930876889012076, Train Accuracy: 0.8821428571428571, Val Loss: 0.6980825500054793, Val Accuracy: 0.89, Train Precision: 0.8835130421545059, Train Recall: 0.8821428571428571, Train F1: 0.8821428571428571, Val Precision: 0.8914149053390763, Val Recall: 0.89, Val F1: 0.8895509127478766, Epoch Time: 0.30619359016418457\n",
            "Epoch 15, Loss: 0.6734985113143921, Train Accuracy: 0.8960714285714285, Val Loss: 0.6791890155185353, Val Accuracy: 0.9071428571428571, Train Precision: 0.8982607376522476, Train Recall: 0.8960714285714285, Train F1: 0.89604386739101, Val Precision: 0.9072287807568822, Val Recall: 0.9071428571428571, Val F1: 0.9070345307192339, Epoch Time: 0.2899956703186035\n",
            "Convergence achieved at epoch 15 with validation accuracy 0.9071428571428571\n",
            "Epoch 16, Loss: 0.6521921997720544, Train Accuracy: 0.9178571428571428, Val Loss: 0.6558051163500006, Val Accuracy: 0.9214285714285714, Train Precision: 0.9190167675506787, Train Recall: 0.9178571428571428, Train F1: 0.9178630102519787, Val Precision: 0.9215526833154964, Val Recall: 0.9214285714285714, Val F1: 0.9213369106085827, Epoch Time: 0.30173397064208984\n",
            "Epoch 17, Loss: 0.6324991895393892, Train Accuracy: 0.9317857142857143, Val Loss: 0.6341542601585388, Val Accuracy: 0.9385714285714286, Train Precision: 0.9325268679407689, Train Recall: 0.9317857142857143, Train F1: 0.931796721542636, Val Precision: 0.9387413663858336, Val Recall: 0.9385714285714286, Val F1: 0.9384997664758009, Epoch Time: 0.29552268981933594\n",
            "Epoch 18, Loss: 0.6161959591236982, Train Accuracy: 0.9496428571428571, Val Loss: 0.6216316656632856, Val Accuracy: 0.9514285714285714, Train Precision: 0.950242798466394, Train Recall: 0.9496428571428571, Train F1: 0.9496519853541869, Val Precision: 0.95158029272315, Val Recall: 0.9514285714285714, Val F1: 0.9513790164944115, Epoch Time: 0.3099789619445801\n",
            "Epoch 19, Loss: 0.6059931259263646, Train Accuracy: 0.9592857142857143, Val Loss: 0.6090967059135437, Val Accuracy: 0.9557142857142857, Train Precision: 0.959654871179599, Train Recall: 0.9592857142857143, Train F1: 0.9592936094829848, Val Precision: 0.9564149880731514, Val Recall: 0.9557142857142857, Val F1: 0.9556198256352614, Epoch Time: 0.32550644874572754\n",
            "Epoch 20, Loss: 0.5964977416125211, Train Accuracy: 0.9628571428571429, Val Loss: 0.6048904278061606, Val Accuracy: 0.9657142857142857, Train Precision: 0.9630918610120405, Train Recall: 0.9628571428571429, Train F1: 0.9628639670200455, Val Precision: 0.9658989898989898, Val Recall: 0.9657142857142857, Val F1: 0.965679305760761, Epoch Time: 0.31464171409606934\n",
            "Epoch 21, Loss: 0.5899752554568377, Train Accuracy: 0.965, Val Loss: 0.5969419370998036, Val Accuracy: 0.97, Train Precision: 0.9652652311205738, Train Recall: 0.965, Train F1: 0.9650065732026654, Val Precision: 0.9712815656565656, Val Recall: 0.97, Val F1: 0.9699141479477831, Epoch Time: 0.30018019676208496\n",
            "Epoch 22, Loss: 0.5841394513845444, Train Accuracy: 0.9685714285714285, Val Loss: 0.5932870669798418, Val Accuracy: 0.9685714285714285, Train Precision: 0.968805359521782, Train Recall: 0.9685714285714285, Train F1: 0.9685772028631155, Val Precision: 0.968668430843522, Val Recall: 0.9685714285714285, Val F1: 0.9685481672932331, Epoch Time: 0.28990745544433594\n",
            "Epoch 23, Loss: 0.5804385651241649, Train Accuracy: 0.9667857142857142, Val Loss: 0.5881218530915, Val Accuracy: 0.9742857142857143, Train Precision: 0.9669269178598254, Train Recall: 0.9667857142857142, Train F1: 0.9667910755470974, Val Precision: 0.9743253018137623, Val Recall: 0.9742857142857143, Val F1: 0.9742734551961983, Epoch Time: 0.29263734817504883\n",
            "Epoch 24, Loss: 0.5761947645382448, Train Accuracy: 0.9721428571428572, Val Loss: 0.5850355191664263, Val Accuracy: 0.9757142857142858, Train Precision: 0.9724750058983507, Train Recall: 0.9721428571428572, Train F1: 0.9721482308009098, Val Precision: 0.9757655354389385, Val Recall: 0.9757142857142858, Val F1: 0.9757219092717524, Epoch Time: 0.32478833198547363\n",
            "Epoch 25, Loss: 0.5729622651230205, Train Accuracy: 0.9710714285714286, Val Loss: 0.5799671303142201, Val Accuracy: 0.9828571428571429, Train Precision: 0.9712118273757039, Train Recall: 0.9710714285714286, Train F1: 0.9710760980571493, Val Precision: 0.983081426509998, Val Recall: 0.9828571428571429, Val F1: 0.9828396528803806, Epoch Time: 0.3229985237121582\n",
            "Epoch 26, Loss: 0.5699732357805426, Train Accuracy: 0.9717857142857143, Val Loss: 0.5776298425414346, Val Accuracy: 0.9857142857142858, Train Precision: 0.971864842061582, Train Recall: 0.9717857142857143, Train F1: 0.9717894479728745, Val Precision: 0.9857239145010703, Val Recall: 0.9857142857142858, Val F1: 0.9857109993755957, Epoch Time: 0.33815455436706543\n",
            "Epoch 27, Loss: 0.567016218196262, Train Accuracy: 0.9757142857142858, Val Loss: 0.5748630436983976, Val Accuracy: 0.9771428571428571, Train Precision: 0.9757550501472961, Train Recall: 0.9757142857142858, Train F1: 0.975716740430926, Val Precision: 0.9778453956508733, Val Recall: 0.9771428571428571, Val F1: 0.9770980259192285, Epoch Time: 0.46822118759155273\n",
            "Epoch 28, Loss: 0.5640743984417482, Train Accuracy: 0.9789285714285715, Val Loss: 0.5711337978189642, Val Accuracy: 0.9885714285714285, Train Precision: 0.9790247681742631, Train Recall: 0.9789285714285715, Train F1: 0.9789315856586689, Val Precision: 0.9887010473280251, Val Recall: 0.9885714285714285, Val F1: 0.9885629699248122, Epoch Time: 0.49188780784606934\n",
            "Epoch 29, Loss: 0.5615574040196158, Train Accuracy: 0.9803571428571428, Val Loss: 0.5733332471414045, Val Accuracy: 0.9728571428571429, Train Precision: 0.9804957979934406, Train Recall: 0.9803571428571428, Train F1: 0.9803603134955954, Val Precision: 0.972910079815529, Val Recall: 0.9728571428571429, Val F1: 0.9728656633037231, Epoch Time: 0.49468231201171875\n",
            "Epoch 30, Loss: 0.5596936209635301, Train Accuracy: 0.9810714285714286, Val Loss: 0.5686397064815868, Val Accuracy: 0.98, Train Precision: 0.9811178210298187, Train Recall: 0.9810714285714286, Train F1: 0.9810734698044729, Val Precision: 0.9800806749145289, Val Recall: 0.98, Val F1: 0.9800082051282051, Epoch Time: 0.500943660736084\n",
            "Epoch 31, Loss: 0.5578808655793016, Train Accuracy: 0.9842857142857143, Val Loss: 0.5680355321277272, Val Accuracy: 0.98, Train Precision: 0.9843539892727609, Train Recall: 0.9842857142857143, Train F1: 0.9842877035992793, Val Precision: 0.9801681154195921, Val Recall: 0.98, Val F1: 0.980011810636134, Epoch Time: 0.524848222732544\n",
            "Epoch 32, Loss: 0.5566587908701464, Train Accuracy: 0.9792857142857143, Val Loss: 0.5667800578204069, Val Accuracy: 0.9814285714285714, Train Precision: 0.9793143016249028, Train Recall: 0.9792857142857143, Train F1: 0.9792875119932251, Val Precision: 0.981428407111637, Val Recall: 0.9814285714285714, Val F1: 0.9814264739316333, Epoch Time: 0.4270646572113037\n",
            "Epoch 33, Loss: 0.5537960434501822, Train Accuracy: 0.9857142857142858, Val Loss: 0.5620812665332447, Val Accuracy: 0.9914285714285714, Train Precision: 0.9857249184441181, Train Recall: 0.9857142857142858, Train F1: 0.9857150734071392, Val Precision: 0.9915628496829542, Val Recall: 0.9914285714285714, Val F1: 0.9914222274436091, Epoch Time: 0.49742794036865234\n",
            "Epoch 34, Loss: 0.5511503720825369, Train Accuracy: 0.9885714285714285, Val Loss: 0.5622888261621649, Val Accuracy: 0.9857142857142858, Train Precision: 0.9885817725110679, Train Recall: 0.9885714285714285, Train F1: 0.9885720587257112, Val Precision: 0.9857239145010703, Val Recall: 0.9857142857142858, Val F1: 0.9857109993755957, Epoch Time: 0.513585090637207\n",
            "Epoch 35, Loss: 0.5505434423685074, Train Accuracy: 0.985, Val Loss: 0.5586181824857538, Val Accuracy: 0.9928571428571429, Train Precision: 0.9850277414952028, Train Recall: 0.985, Train F1: 0.9850013017881977, Val Precision: 0.9929506357516827, Val Recall: 0.9928571428571429, Val F1: 0.9928528117973958, Epoch Time: 0.5039079189300537\n",
            "Epoch 36, Loss: 0.5493984723632986, Train Accuracy: 0.9857142857142858, Val Loss: 0.5576347383585843, Val Accuracy: 0.9971428571428571, Train Precision: 0.9857822924073457, Train Recall: 0.9857142857142858, Train F1: 0.985716094181163, Val Precision: 0.9971428571428571, Val Recall: 0.9971428571428571, Val F1: 0.9971428571428571, Epoch Time: 0.5124218463897705\n",
            "Epoch 37, Loss: 0.5476754632863131, Train Accuracy: 0.9885714285714285, Val Loss: 0.557177792895924, Val Accuracy: 0.9914285714285714, Train Precision: 0.988579045770685, Train Recall: 0.9885714285714285, Train F1: 0.9885706932157309, Val Precision: 0.9914285714285714, Val Recall: 0.9914285714285714, Val F1: 0.9914285714285714, Epoch Time: 0.4927055835723877\n",
            "Epoch 38, Loss: 0.5470591918988661, Train Accuracy: 0.9885714285714285, Val Loss: 0.5570675839077343, Val Accuracy: 0.9957142857142857, Train Precision: 0.9885763295937513, Train Recall: 0.9885714285714285, Train F1: 0.9885718603599, Val Precision: 0.9957537248028046, Val Recall: 0.9957142857142857, Val F1: 0.9957156310479562, Epoch Time: 0.5316860675811768\n",
            "Epoch 39, Loss: 0.5457846346226606, Train Accuracy: 0.99, Val Loss: 0.5545232025059786, Val Accuracy: 0.9957142857142857, Train Precision: 0.9900176004663511, Train Recall: 0.99, Train F1: 0.9900007147324221, Val Precision: 0.9957174077360413, Val Recall: 0.9957142857142857, Val F1: 0.9957138016765308, Epoch Time: 0.5320756435394287\n",
            "Epoch 40, Loss: 0.5443704819137399, Train Accuracy: 0.9871428571428571, Val Loss: 0.5530601468953219, Val Accuracy: 0.9971428571428571, Train Precision: 0.9871533454775931, Train Recall: 0.9871428571428571, Train F1: 0.9871435660664253, Val Precision: 0.9971579344138711, Val Recall: 0.9971428571428571, Val F1: 0.9971421998751191, Epoch Time: 0.5254573822021484\n",
            "Epoch 41, Loss: 0.5447590296918695, Train Accuracy: 0.9903571428571428, Val Loss: 0.5553913495757363, Val Accuracy: 0.9928571428571429, Train Precision: 0.9903575852384542, Train Recall: 0.9903571428571428, Train F1: 0.9903572376354516, Val Precision: 0.9929660278745646, Val Recall: 0.9928571428571429, Val F1: 0.9928607318718865, Epoch Time: 0.45282840728759766\n",
            "Total Training Time: 15.561159133911133\n",
            "\n",
            " Training on XOR using LLR2 has been completed!\n"
          ]
        },
        {
          "data": {
            "application/vnd.jupyter.widget-view+json": {
              "model_id": "5d79b3aac20748d3866b35de4b4ee36c",
              "version_major": 2,
              "version_minor": 0
            },
            "text/plain": [
              "VBox(children=(Label(value='0.014 MB of 0.024 MB uploaded (0.009 MB deduped)\\r'), FloatProgress(value=0.566802…"
            ]
          },
          "metadata": {},
          "output_type": "display_data"
        },
        {
          "data": {
            "text/html": [
              "W&B sync reduced upload amount by 23.3%"
            ],
            "text/plain": [
              "<IPython.core.display.HTML object>"
            ]
          },
          "metadata": {},
          "output_type": "display_data"
        },
        {
          "data": {
            "text/html": [
              "<style>\n",
              "    table.wandb td:nth-child(1) { padding: 0 10px; text-align: left ; width: auto;} td:nth-child(2) {text-align: left ; width: 100%}\n",
              "    .wandb-row { display: flex; flex-direction: row; flex-wrap: wrap; justify-content: flex-start; width: 100% }\n",
              "    .wandb-col { display: flex; flex-direction: column; flex-basis: 100%; flex: 1; padding: 10px; }\n",
              "    </style>\n",
              "<div class=\"wandb-row\"><div class=\"wandb-col\"><h3>Run history:</h3><br/><table class=\"wandb\"><tr><td>convergence_time</td><td>▁</td></tr><tr><td>epoch</td><td>▁▁▁▂▂▂▂▂▂▃▃▃▃▃▃▄▄▄▄▄▅▅▅▅▅▅▆▆▆▆▆▆▇▇▇▇▇▇██</td></tr><tr><td>epoch_time</td><td>▂▁▂▂▂▂▁▁▁▁▁▁▁▁▁▁▁▂▂▂▁▁▁▂▂▂▆▇▇▇█▅▇▇▇▇▇██▆</td></tr><tr><td>learning_rate</td><td>▁▁▁▁▁▁▁▁▁▁▁▁▁▁▁▁▁▁▁▁▁▁▁▁▁▁▁▁▁▁▁▁▁▁▁▁▁▁▁▁</td></tr><tr><td>loss</td><td>██▇▇▇▆▆▆▅▄▄▃▃▃▃▂▂▂▂▂▂▁▁▁▁▁▁▁▁▁▁▁▁▁▁▁▁▁▁▁</td></tr><tr><td>total_training_time</td><td>▁</td></tr><tr><td>train_accuracy</td><td>▁▁▁▁▁▂▃▅▆▆▆▆▆▆▇▇▇▇██████████████████████</td></tr><tr><td>train_concept_accuracy</td><td>▄▅█▄▁▁▂▃▄▄▅▅▄▅▄▄▄▅▅▅▅▅▅▅▅▅▅▄▅▄▄▄▄▄▄▄▄▄▄▄</td></tr><tr><td>train_concept_loss</td><td>▇█▆▇▇▆▅▄▄▃▃▄▃▂▃▃▁▂▁▃▂▃▂▂▂▂▂▃▂▂▁▁▃▃▁▂▂▂▃▂</td></tr><tr><td>train_f1</td><td>▁▁▁▁▁▃▄▆▆▆▇▇▇▇▇▇▇███████████████████████</td></tr><tr><td>train_precision</td><td>▁▁▁▁▁▅▅▆▆▇▇▇▇▇▇▇▇███████████████████████</td></tr><tr><td>train_recall</td><td>▁▁▁▁▁▂▃▅▆▆▆▆▆▆▇▇▇▇██████████████████████</td></tr><tr><td>train_task_accuracy</td><td>▁▁▁▁▁▂▃▅▆▆▆▆▆▆▇▇▇▇██████████████████████</td></tr><tr><td>train_task_loss</td><td>██▇▇▇▇▇▇▆▅▅▄▄▃▄▃▂▂▁▂▂▂▁▂▁▂▁▁▁▁▁▂▁▁▁▁▁▁▁▁</td></tr><tr><td>val_accuracy</td><td>▁▁▁▁▁▁▄▅▆▆▆▆▆▇▇▇▇▇▇█████████████████████</td></tr><tr><td>val_concept_accuracy</td><td>▅█▆▂▁▂▃▄▄▄▄▄▄▄▄▄▄▄▄▄▄▄▄▄▄▄▄▄▄▄▄▄▄▄▄▄▄▄▄▄</td></tr><tr><td>val_concept_loss</td><td>█▇█▆▆▅▅▄▃▃▄▃▃▂▃▂▂▁▁▂▂▁▁▂▁▃▂▂▁▂▂▁▁▂▁▁▁▂▂▁</td></tr><tr><td>val_f1</td><td>▁▁▁▁▁▂▅▆▇▇▇▇▇▇▇▇▇███████████████████████</td></tr><tr><td>val_learning_rate</td><td>▁▁▁▁▁▁▁▁▁▁▁▁▁▁▁▁▁▁▁▁▁▁▁▁▁▁▁▁▁▁▁▁▁▁▁▁▁▁▁▁</td></tr><tr><td>val_loss</td><td>██▇▇▇▆▆▆▅▄▄▃▃▃▃▂▂▂▂▂▂▁▁▁▁▁▁▁▁▁▁▁▁▁▁▁▁▁▁▁</td></tr><tr><td>val_precision</td><td>▁▁▁▁▁▆▆▆▇▇▇▇▇▇▇▇▇███████████████████████</td></tr><tr><td>val_recall</td><td>▁▁▁▁▁▁▄▅▆▆▆▆▆▇▇▇▇▇▇█████████████████████</td></tr><tr><td>val_task_accuracy</td><td>▁▁▁▁▁▁▄▅▆▆▆▆▆▇▇▇▇▇▇█████████████████████</td></tr><tr><td>val_task_loss</td><td>██▇▇▇▇▇▇▆▅▄▄▄▃▃▃▃▂▂▂▂▂▂▂▂▂▂▂▁▂▁▁▁▁▁▁▁▁▁▂</td></tr></table><br/></div><div class=\"wandb-col\"><h3>Run summary:</h3><br/><table class=\"wandb\"><tr><td>convergence_time</td><td>4.59233</td></tr><tr><td>epoch</td><td>41</td></tr><tr><td>epoch_time</td><td>0.45283</td></tr><tr><td>learning_rate</td><td>0.0005</td></tr><tr><td>loss</td><td>0.54476</td></tr><tr><td>total_training_time</td><td>15.56116</td></tr><tr><td>train_accuracy</td><td>0.99036</td></tr><tr><td>train_concept_accuracy</td><td>0.74464</td></tr><tr><td>train_concept_loss</td><td>0.50751</td></tr><tr><td>train_f1</td><td>0.99036</td></tr><tr><td>train_precision</td><td>0.99036</td></tr><tr><td>train_recall</td><td>0.99036</td></tr><tr><td>train_task_accuracy</td><td>0.99036</td></tr><tr><td>train_task_loss</td><td>0.04511</td></tr><tr><td>val_accuracy</td><td>0.99286</td></tr><tr><td>val_concept_accuracy</td><td>0.73143</td></tr><tr><td>val_concept_loss</td><td>0.54489</td></tr><tr><td>val_f1</td><td>0.99286</td></tr><tr><td>val_learning_rate</td><td>0.0005</td></tr><tr><td>val_loss</td><td>0.55539</td></tr><tr><td>val_precision</td><td>0.99297</td></tr><tr><td>val_recall</td><td>0.99286</td></tr><tr><td>val_task_accuracy</td><td>0.99286</td></tr><tr><td>val_task_loss</td><td>0.06378</td></tr></table><br/></div></div>"
            ],
            "text/plain": [
              "<IPython.core.display.HTML object>"
            ]
          },
          "metadata": {},
          "output_type": "display_data"
        },
        {
          "data": {
            "text/html": [
              " View run <strong style=\"color:#cdcd00\">LLR2_XOR</strong> at: <a href='https://wandb.ai/alih999954-politecnico-di-torino/pytorch_explain/runs/uouzz64i' target=\"_blank\">https://wandb.ai/alih999954-politecnico-di-torino/pytorch_explain/runs/uouzz64i</a><br/> View project at: <a href='https://wandb.ai/alih999954-politecnico-di-torino/pytorch_explain' target=\"_blank\">https://wandb.ai/alih999954-politecnico-di-torino/pytorch_explain</a><br/>Synced 5 W&B file(s), 0 media file(s), 2 artifact file(s) and 0 other file(s)"
            ],
            "text/plain": [
              "<IPython.core.display.HTML object>"
            ]
          },
          "metadata": {},
          "output_type": "display_data"
        },
        {
          "data": {
            "text/html": [
              "Find logs at: <code>./wandb/run-20240723_091825-uouzz64i/logs</code>"
            ],
            "text/plain": [
              "<IPython.core.display.HTML object>"
            ]
          },
          "metadata": {},
          "output_type": "display_data"
        },
        {
          "data": {
            "text/html": [
              "The new W&B backend becomes opt-out in version 0.18.0; try it out with `wandb.require(\"core\")`! See https://wandb.me/wandb-core for more information."
            ],
            "text/plain": [
              "<IPython.core.display.HTML object>"
            ]
          },
          "metadata": {},
          "output_type": "display_data"
        },
        {
          "name": "stdout",
          "output_type": "stream",
          "text": [
            "The following dataset has been loaded successfully: XNOR\n"
          ]
        },
        {
          "data": {
            "text/html": [
              "Tracking run with wandb version 0.17.5"
            ],
            "text/plain": [
              "<IPython.core.display.HTML object>"
            ]
          },
          "metadata": {},
          "output_type": "display_data"
        },
        {
          "data": {
            "text/html": [
              "Run data is saved locally in <code>/content/pytorch_explain/wandb/run-20240723_091849-hpq7mon8</code>"
            ],
            "text/plain": [
              "<IPython.core.display.HTML object>"
            ]
          },
          "metadata": {},
          "output_type": "display_data"
        },
        {
          "data": {
            "text/html": [
              "Syncing run <strong><a href='https://wandb.ai/alih999954-politecnico-di-torino/pytorch_explain/runs/hpq7mon8' target=\"_blank\">LLR2_XNOR</a></strong> to <a href='https://wandb.ai/alih999954-politecnico-di-torino/pytorch_explain' target=\"_blank\">Weights & Biases</a> (<a href='https://wandb.me/run' target=\"_blank\">docs</a>)<br/>"
            ],
            "text/plain": [
              "<IPython.core.display.HTML object>"
            ]
          },
          "metadata": {},
          "output_type": "display_data"
        },
        {
          "data": {
            "text/html": [
              " View project at <a href='https://wandb.ai/alih999954-politecnico-di-torino/pytorch_explain' target=\"_blank\">https://wandb.ai/alih999954-politecnico-di-torino/pytorch_explain</a>"
            ],
            "text/plain": [
              "<IPython.core.display.HTML object>"
            ]
          },
          "metadata": {},
          "output_type": "display_data"
        },
        {
          "data": {
            "text/html": [
              " View run at <a href='https://wandb.ai/alih999954-politecnico-di-torino/pytorch_explain/runs/hpq7mon8' target=\"_blank\">https://wandb.ai/alih999954-politecnico-di-torino/pytorch_explain/runs/hpq7mon8</a>"
            ],
            "text/plain": [
              "<IPython.core.display.HTML object>"
            ]
          },
          "metadata": {},
          "output_type": "display_data"
        },
        {
          "name": "stdout",
          "output_type": "stream",
          "text": [
            "-------------------------- Training XNOR using LLR2 ----------------------\n",
            "Epoch 1, Loss: 1.1316345740448346, Train Accuracy: 0.4992857142857143, Val Loss: 1.1172700253399936, Val Accuracy: 0.4857142857142857, Train Precision: 0.2492862244897959, Train Recall: 0.4992857142857143, Train F1: 0.33253998502688353, Val Precision: 0.23591836734693877, Val Recall: 0.4857142857142857, Val F1: 0.3175824175824176, Epoch Time: 0.290330171585083\n",
            "Epoch 2, Loss: 1.1057612110267987, Train Accuracy: 0.4992857142857143, Val Loss: 1.0832103057341143, Val Accuracy: 0.4857142857142857, Train Precision: 0.2492862244897959, Train Recall: 0.4992857142857143, Train F1: 0.33253998502688353, Val Precision: 0.23591836734693877, Val Recall: 0.4857142857142857, Val F1: 0.3175824175824176, Epoch Time: 0.3268916606903076\n",
            "Epoch 3, Loss: 1.0650280497290872, Train Accuracy: 0.4992857142857143, Val Loss: 1.0429004322398792, Val Accuracy: 0.4857142857142857, Train Precision: 0.2492862244897959, Train Recall: 0.4992857142857143, Train F1: 0.33253998502688353, Val Precision: 0.23591836734693877, Val Recall: 0.4857142857142857, Val F1: 0.3175824175824176, Epoch Time: 0.3031949996948242\n",
            "Epoch 4, Loss: 1.0347183455120434, Train Accuracy: 0.5375, Val Loss: 1.0201947363940151, Val Accuracy: 0.6, Train Precision: 0.6458590829402232, Train Recall: 0.5375, Train F1: 0.43287757641577723, Val Precision: 0.6231482528553659, Val Recall: 0.6, Val F1: 0.5863181508834724, Epoch Time: 0.29145383834838867\n",
            "Epoch 5, Loss: 1.0127944255417043, Train Accuracy: 0.6307142857142857, Val Loss: 0.9960967681624673, Val Accuracy: 0.6542857142857142, Train Precision: 0.6338026609521902, Train Recall: 0.6307142857142857, Train F1: 0.6286655304876534, Val Precision: 0.6787512141919871, Val Recall: 0.6542857142857142, Val F1: 0.6380763148290824, Epoch Time: 0.3967897891998291\n",
            "Epoch 6, Loss: 0.9854617010463368, Train Accuracy: 0.68, Val Loss: 0.9629921642216769, Val Accuracy: 0.5942857142857143, Train Precision: 0.7244405672000429, Train Recall: 0.68, Train F1: 0.6631580033136276, Val Precision: 0.7309222423146473, Val Recall: 0.5942857142857143, Val F1: 0.5146697388632873, Epoch Time: 0.4075767993927002\n",
            "Epoch 7, Loss: 0.9501644291661002, Train Accuracy: 0.6757142857142857, Val Loss: 0.9246845787221735, Val Accuracy: 0.7414285714285714, Train Precision: 0.7387033080687422, Train Recall: 0.6757142857142857, Train F1: 0.6526077078164498, Val Precision: 0.7642887995830253, Val Recall: 0.7414285714285714, Val F1: 0.7340136269756357, Epoch Time: 0.41167378425598145\n",
            "Epoch 8, Loss: 0.9106780588626862, Train Accuracy: 0.7896428571428571, Val Loss: 0.8814646059816534, Val Accuracy: 0.8171428571428572, Train Precision: 0.7934909890389528, Train Recall: 0.7896428571428571, Train F1: 0.7889276007198831, Val Precision: 0.8185194265158623, Val Recall: 0.8171428571428572, Val F1: 0.8166946007071939, Epoch Time: 0.43933701515197754\n",
            "Epoch 9, Loss: 0.8673431900414553, Train Accuracy: 0.8332142857142857, Val Loss: 0.8377914537083019, Val Accuracy: 0.8357142857142857, Train Precision: 0.8334286203624651, Train Recall: 0.8332142857142857, Train F1: 0.8331912009331027, Val Precision: 0.836959248856095, Val Recall: 0.8357142857142857, Val F1: 0.8357206559896769, Epoch Time: 0.40967607498168945\n",
            "Epoch 10, Loss: 0.8246367980133403, Train Accuracy: 0.8371428571428572, Val Loss: 0.7969017841599204, Val Accuracy: 0.84, Train Precision: 0.8386850328590988, Train Recall: 0.8371428571428572, Train F1: 0.8369669392393381, Val Precision: 0.8440898345153665, Val Recall: 0.84, Val F1: 0.8398118200529257, Epoch Time: 0.4239969253540039\n",
            "Epoch 11, Loss: 0.7890767888589338, Train Accuracy: 0.8471428571428572, Val Loss: 0.762924541126598, Val Accuracy: 0.8671428571428571, Train Precision: 0.849644568600996, Train Recall: 0.8471428571428572, Train F1: 0.8468801468790429, Val Precision: 0.871214652014652, Val Recall: 0.8671428571428571, Val F1: 0.8670004448106637, Epoch Time: 0.44093775749206543\n",
            "Epoch 12, Loss: 0.7621343298391863, Train Accuracy: 0.85, Val Loss: 0.7419785477898337, Val Accuracy: 0.8685714285714285, Train Precision: 0.8517381729602047, Train Recall: 0.85, Train F1: 0.8498235511349269, Val Precision: 0.8733543659009498, Val Recall: 0.8685714285714285, Val F1: 0.8683878436237139, Epoch Time: 0.4269700050354004\n",
            "Epoch 13, Loss: 0.7421492825854908, Train Accuracy: 0.8578571428571429, Val Loss: 0.7250191623514349, Val Accuracy: 0.8614285714285714, Train Precision: 0.8600147917933039, Train Recall: 0.8578571428571429, Train F1: 0.857653220127593, Val Precision: 0.8627094533644988, Val Recall: 0.8614285714285714, Val F1: 0.8614339446173797, Epoch Time: 0.42374372482299805\n",
            "Epoch 14, Loss: 0.726677343249321, Train Accuracy: 0.8603571428571428, Val Loss: 0.7082310644063082, Val Accuracy: 0.8757142857142857, Train Precision: 0.8614613641555119, Train Recall: 0.8603571428571428, Train F1: 0.8602569558167427, Val Precision: 0.876773566569485, Val Recall: 0.8757142857142857, Val F1: 0.8757272218119458, Epoch Time: 0.4724540710449219\n",
            "Epoch 15, Loss: 0.709994684566151, Train Accuracy: 0.8707142857142857, Val Loss: 0.6928434697064486, Val Accuracy: 0.8742857142857143, Train Precision: 0.8724780153209645, Train Recall: 0.8707142857142857, Train F1: 0.8705684839930691, Val Precision: 0.8752323714957632, Val Recall: 0.8742857142857143, Val F1: 0.8743021346469623, Epoch Time: 0.48530006408691406\n",
            "Epoch 16, Loss: 0.6923244311050936, Train Accuracy: 0.88, Val Loss: 0.6729845729741183, Val Accuracy: 0.8971428571428571, Train Precision: 0.881882853252846, Train Recall: 0.88, Train F1: 0.8798588409079418, Val Precision: 0.8988987637946414, Val Recall: 0.8971428571428571, Val F1: 0.8971336209158559, Epoch Time: 0.3712904453277588\n",
            "Epoch 17, Loss: 0.6737274866212498, Train Accuracy: 0.8921428571428571, Val Loss: 0.654575299132954, Val Accuracy: 0.9014285714285715, Train Precision: 0.8937078120148421, Train Recall: 0.8921428571428571, Train F1: 0.89204107165837, Val Precision: 0.9036819814820223, Val Recall: 0.9014285714285715, Val F1: 0.9014034243729636, Epoch Time: 0.316788911819458\n",
            "Convergence achieved at epoch 17 with validation accuracy 0.9014285714285715\n",
            "Epoch 18, Loss: 0.6551729251037944, Train Accuracy: 0.91, Val Loss: 0.6406344175338745, Val Accuracy: 0.9157142857142857, Train Precision: 0.9118650334915677, Train Recall: 0.91, Train F1: 0.9099027822112131, Val Precision: 0.9180115080176419, Val Recall: 0.9157142857142857, Val F1: 0.9156927831594907, Epoch Time: 0.33907389640808105\n",
            "Epoch 19, Loss: 0.6384269188750874, Train Accuracy: 0.9239285714285714, Val Loss: 0.6195065162398599, Val Accuracy: 0.93, Train Precision: 0.9251543577264043, Train Recall: 0.9239285714285714, Train F1: 0.9238768697722969, Val Precision: 0.9316696492045204, Val Recall: 0.93, Val F1: 0.9299969999938775, Epoch Time: 0.3583855628967285\n",
            "Epoch 20, Loss: 0.6222926784645427, Train Accuracy: 0.9371428571428572, Val Loss: 0.6056080677292563, Val Accuracy: 0.9428571428571428, Train Precision: 0.9382427990466139, Train Recall: 0.9371428571428572, Train F1: 0.9371057957347585, Val Precision: 0.9447116844056921, Val Recall: 0.9428571428571428, Val F1: 0.9428520116199199, Epoch Time: 0.32885241508483887\n",
            "Epoch 21, Loss: 0.610173677856272, Train Accuracy: 0.9457142857142857, Val Loss: 0.5948980559002269, Val Accuracy: 0.9557142857142857, Train Precision: 0.9467719248931371, Train Recall: 0.9457142857142857, Train F1: 0.9456841358517335, Val Precision: 0.9571268698953128, Val Recall: 0.9557142857142857, Val F1: 0.9557160029189564, Epoch Time: 0.3027362823486328\n",
            "Epoch 22, Loss: 0.5991946309804916, Train Accuracy: 0.955, Val Loss: 0.5848295038396661, Val Accuracy: 0.9642857142857143, Train Precision: 0.9558968513596402, Train Recall: 0.955, Train F1: 0.9549793508336993, Val Precision: 0.9647763888451566, Val Recall: 0.9642857142857143, Val F1: 0.9642929312221583, Epoch Time: 0.31313490867614746\n",
            "Epoch 23, Loss: 0.5911164622415196, Train Accuracy: 0.9607142857142857, Val Loss: 0.5771164677359841, Val Accuracy: 0.9657142857142857, Train Precision: 0.9612583716472916, Train Recall: 0.9607142857142857, Train F1: 0.9607037000098858, Val Precision: 0.966498714700929, Val Recall: 0.9657142857142857, Val F1: 0.965720163697158, Epoch Time: 0.3090333938598633\n",
            "Epoch 24, Loss: 0.5847804871472445, Train Accuracy: 0.9660714285714286, Val Loss: 0.5725038810209795, Val Accuracy: 0.9871428571428571, Train Precision: 0.966472887159591, Train Recall: 0.9660714285714286, Train F1: 0.966064862419398, Val Precision: 0.9871755436362937, Val Recall: 0.9871428571428571, Val F1: 0.9871410446905217, Epoch Time: 0.2995259761810303\n",
            "Epoch 25, Loss: 0.5797127431089227, Train Accuracy: 0.9696428571428571, Val Loss: 0.5682146115736528, Val Accuracy: 0.9842857142857143, Train Precision: 0.9699722403032508, Train Recall: 0.9696428571428571, Train F1: 0.9696381286708246, Val Precision: 0.984378304173847, Val Recall: 0.9842857142857143, Val F1: 0.9842817004196314, Epoch Time: 0.30675578117370605\n",
            "Epoch 26, Loss: 0.5758282149379904, Train Accuracy: 0.9739285714285715, Val Loss: 0.5623445294120095, Val Accuracy: 0.9871428571428571, Train Precision: 0.9741928994631696, Train Recall: 0.9739285714285715, Train F1: 0.9739253886436398, Val Precision: 0.9871818115001104, Val Recall: 0.9871428571428571, Val F1: 0.9871441961250031, Epoch Time: 0.31146240234375\n",
            "Epoch 27, Loss: 0.5726012723012404, Train Accuracy: 0.9742857142857143, Val Loss: 0.5604530681263317, Val Accuracy: 0.9742857142857143, Train Precision: 0.9745664848807307, Train Recall: 0.9742857142857143, Train F1: 0.9742823684205729, Val Precision: 0.9750740621515579, Val Recall: 0.9742857142857143, Val F1: 0.9742901227728683, Epoch Time: 0.31325817108154297\n",
            "Epoch 28, Loss: 0.5698603269728747, Train Accuracy: 0.9728571428571429, Val Loss: 0.5571592341769825, Val Accuracy: 0.9828571428571429, Train Precision: 0.9729968041670931, Train Recall: 0.9728571428571429, Train F1: 0.9728554809647723, Val Precision: 0.9831206150171666, Val Recall: 0.9828571428571429, Val F1: 0.9828605024450334, Epoch Time: 0.3107273578643799\n",
            "Epoch 29, Loss: 0.5677084746685895, Train Accuracy: 0.9775, Val Loss: 0.5556753657080911, Val Accuracy: 0.98, Train Precision: 0.9776079395235551, Train Recall: 0.9775, Train F1: 0.9774989754086599, Val Precision: 0.9800189486752262, Val Recall: 0.98, Val F1: 0.9800014703599931, Epoch Time: 0.31571435928344727\n",
            "Epoch 30, Loss: 0.5646400085904382, Train Accuracy: 0.975, Val Loss: 0.5526181947101246, Val Accuracy: 0.99, Train Precision: 0.9752490939717218, Train Recall: 0.975, Train F1: 0.9749971425714, Val Precision: 0.9900031868212683, Val Recall: 0.99, Val F1: 0.9899995710425096, Epoch Time: 0.2966001033782959\n",
            "Epoch 31, Loss: 0.5622716342861002, Train Accuracy: 0.9839285714285714, Val Loss: 0.5502620231021534, Val Accuracy: 0.99, Train Precision: 0.9840378198666765, Train Recall: 0.9839285714285714, Train F1: 0.9839278395776142, Val Precision: 0.9902017291066282, Val Recall: 0.99, Val F1: 0.9900018577836028, Epoch Time: 0.3102834224700928\n",
            "Epoch 32, Loss: 0.5601112558083101, Train Accuracy: 0.9842857142857143, Val Loss: 0.5488315116275441, Val Accuracy: 0.9914285714285714, Train Precision: 0.9843492308414514, Train Recall: 0.9842857142857143, Train F1: 0.9842853294389956, Val Precision: 0.9914955765426109, Val Recall: 0.9914285714285714, Val F1: 0.9914296915473041, Epoch Time: 0.3072941303253174\n",
            "Epoch 33, Loss: 0.5587104206735437, Train Accuracy: 0.9817857142857143, Val Loss: 0.547362051226876, Val Accuracy: 0.9971428571428571, Train Precision: 0.9818748176207032, Train Recall: 0.9817857142857143, Train F1: 0.9817850521402537, Val Precision: 0.99715864246251, Val Recall: 0.9971428571428571, Val F1: 0.9971426003294216, Epoch Time: 0.30484533309936523\n",
            "Epoch 34, Loss: 0.558181643486023, Train Accuracy: 0.9803571428571428, Val Loss: 0.5458976572210138, Val Accuracy: 0.9957142857142857, Train Precision: 0.9804460107346732, Train Recall: 0.9803571428571428, Train F1: 0.9803564287787049, Val Precision: 0.9957517700957935, Val Recall: 0.9957142857142857, Val F1: 0.9957147320416677, Epoch Time: 0.28897571563720703\n",
            "Epoch 35, Loss: 0.5550095696340908, Train Accuracy: 0.9885714285714285, Val Loss: 0.5460317730903625, Val Accuracy: 0.9957142857142857, Train Precision: 0.9886524129099078, Train Recall: 0.9885714285714285, Train F1: 0.9885710612153061, Val Precision: 0.995717986162425, Val Recall: 0.9957142857142857, Val F1: 0.9957141018753614, Epoch Time: 0.3416757583618164\n",
            "Epoch 36, Loss: 0.55543613569303, Train Accuracy: 0.9828571428571429, Val Loss: 0.5454470406879078, Val Accuracy: 0.9842857142857143, Train Precision: 0.9829204961312459, Train Recall: 0.9828571428571429, Train F1: 0.9828567230243588, Val Precision: 0.9842883874801116, Val Recall: 0.9842857142857143, Val F1: 0.9842850402096581, Epoch Time: 0.32354187965393066\n",
            "Epoch 37, Loss: 0.5537210486151956, Train Accuracy: 0.9864285714285714, Val Loss: 0.5430276393890381, Val Accuracy: 0.99, Train Precision: 0.9864644770505785, Train Recall: 0.9864285714285714, Train F1: 0.9864284052464568, Val Precision: 0.9902017291066282, Val Recall: 0.99, Val F1: 0.9900018577836028, Epoch Time: 0.293414831161499\n",
            "Epoch 38, Loss: 0.5524410429325971, Train Accuracy: 0.985, Val Loss: 0.5412736318328164, Val Accuracy: 0.9942857142857143, Train Precision: 0.9850804594885862, Train Recall: 0.985, Train F1: 0.984999517845089, Val Precision: 0.9942857142857143, Val Recall: 0.9942857142857143, Val F1: 0.9942857142857143, Epoch Time: 0.31426024436950684\n",
            "Epoch 39, Loss: 0.5511326749216426, Train Accuracy: 0.9889285714285714, Val Loss: 0.540791554884477, Val Accuracy: 0.9957142857142857, Train Precision: 0.9889708785228942, Train Recall: 0.9889285714285714, Train F1: 0.988928406202739, Val Precision: 0.995749704840614, Val Recall: 0.9957142857142857, Val F1: 0.995713681563507, Epoch Time: 0.30257225036621094\n",
            "Epoch 40, Loss: 0.5510485124858943, Train Accuracy: 0.9839285714285714, Val Loss: 0.5393533327362754, Val Accuracy: 0.9914285714285714, Train Precision: 0.9839843752562629, Train Recall: 0.9839285714285714, Train F1: 0.9839282331853773, Val Precision: 0.9914955765426109, Val Recall: 0.9914285714285714, Val F1: 0.9914296915473041, Epoch Time: 0.2984158992767334\n",
            "Epoch 41, Loss: 0.5495464652776718, Train Accuracy: 0.9882142857142857, Val Loss: 0.5395639918067239, Val Accuracy: 0.9928571428571429, Train Precision: 0.9883244067620909, Train Recall: 0.9882142857142857, Train F1: 0.9882137490235837, Val Precision: 0.9928617523190261, Val Recall: 0.9928571428571429, Val F1: 0.9928574200292751, Epoch Time: 0.298586368560791\n",
            "Total Training Time: 14.221201419830322\n",
            "\n",
            " Training on XNOR using LLR2 has been completed!\n"
          ]
        },
        {
          "data": {
            "application/vnd.jupyter.widget-view+json": {
              "model_id": "720231c486324ad2bb3cc23b1e493a51",
              "version_major": 2,
              "version_minor": 0
            },
            "text/plain": [
              "VBox(children=(Label(value='0.001 MB of 0.001 MB uploaded\\r'), FloatProgress(value=1.0, max=1.0)))"
            ]
          },
          "metadata": {},
          "output_type": "display_data"
        },
        {
          "data": {
            "text/html": [
              "<style>\n",
              "    table.wandb td:nth-child(1) { padding: 0 10px; text-align: left ; width: auto;} td:nth-child(2) {text-align: left ; width: 100%}\n",
              "    .wandb-row { display: flex; flex-direction: row; flex-wrap: wrap; justify-content: flex-start; width: 100% }\n",
              "    .wandb-col { display: flex; flex-direction: column; flex-basis: 100%; flex: 1; padding: 10px; }\n",
              "    </style>\n",
              "<div class=\"wandb-row\"><div class=\"wandb-col\"><h3>Run history:</h3><br/><table class=\"wandb\"><tr><td>convergence_time</td><td>▁</td></tr><tr><td>epoch</td><td>▁▁▁▂▂▂▂▂▂▃▃▃▃▃▃▄▄▄▄▄▅▅▅▅▅▅▆▆▆▆▆▆▇▇▇▇▇▇██</td></tr><tr><td>epoch_time</td><td>▁▂▂▁▅▅▅▆▅▆▆▆▆██▄▂▃▃▂▁▂▂▁▂▂▂▂▂▁▂▂▂▁▃▂▁▂▁▁</td></tr><tr><td>learning_rate</td><td>▁▁▁▁▁▁▁▁▁▁▁▁▁▁▁▁▁▁▁▁▁▁▁▁▁▁▁▁▁▁▁▁▁▁▁▁▁▁▁▁</td></tr><tr><td>loss</td><td>██▇▇▇▆▆▅▅▄▄▄▃▃▃▃▂▂▂▂▂▂▁▁▁▁▁▁▁▁▁▁▁▁▁▁▁▁▁▁</td></tr><tr><td>total_training_time</td><td>▁</td></tr><tr><td>train_accuracy</td><td>▁▁▁▂▃▄▄▅▆▆▆▆▆▆▆▆▇▇▇▇▇███████████████████</td></tr><tr><td>train_concept_accuracy</td><td>▃██▄▃▃▄▃▃▃▂▃▃▂▂▂▂▂▁▁▁▁▁▁▁▁▁▂▂▂▂▂▂▂▂▂▂▂▂▂</td></tr><tr><td>train_concept_loss</td><td>█▇▇▆▆▅▅▄▄▄▃▃▄▃▂▃▂▁▂▂▂▃▃▂▃▃▂▂▂▂▂▂▂▁▁▂▂▂▁▃</td></tr><tr><td>train_f1</td><td>▁▁▁▂▄▅▄▆▆▆▆▇▇▇▇▇▇▇▇▇████████████████████</td></tr><tr><td>train_precision</td><td>▁▁▁▅▅▅▆▆▇▇▇▇▇▇▇▇▇▇▇█████████████████████</td></tr><tr><td>train_recall</td><td>▁▁▁▂▃▄▄▅▆▆▆▆▆▆▆▆▇▇▇▇▇███████████████████</td></tr><tr><td>train_task_accuracy</td><td>▁▁▁▂▃▄▄▅▆▆▆▆▆▆▆▆▇▇▇▇▇███████████████████</td></tr><tr><td>train_task_loss</td><td>███▇▇▇▇▆▆▅▅▄▃▃▃▄▄▃▃▂▂▂▂▂▂▂▂▂▁▁▁▁▁▁▁▁▁▁▁▁</td></tr><tr><td>val_accuracy</td><td>▁▁▁▃▃▂▄▆▆▆▆▆▆▆▆▇▇▇▇▇▇███████████████████</td></tr><tr><td>val_concept_accuracy</td><td>▃█▅▄▃▃▃▃▃▂▃▃▂▃▂▂▂▁▂▂▂▂▂▂▂▂▂▂▂▂▂▂▂▂▂▂▂▂▂▂</td></tr><tr><td>val_concept_loss</td><td>██▇▇▆▆▅▅▄▄▄▃▄▄▃▃▃▃▂▁▃▃▂▁▂▂▃▁▂▂▃▁▂▂▂▁▂▂▂▂</td></tr><tr><td>val_f1</td><td>▁▁▁▄▄▃▅▆▆▆▇▇▇▇▇▇▇▇▇▇████████████████████</td></tr><tr><td>val_learning_rate</td><td>▁▁▁▁▁▁▁▁▁▁▁▁▁▁▁▁▁▁▁▁▁▁▁▁▁▁▁▁▁▁▁▁▁▁▁▁▁▁▁▁</td></tr><tr><td>val_loss</td><td>██▇▇▇▆▆▅▅▄▄▃▃▃▃▃▂▂▂▂▂▂▁▁▁▁▁▁▁▁▁▁▁▁▁▁▁▁▁▁</td></tr><tr><td>val_precision</td><td>▁▁▁▅▅▆▆▆▇▇▇▇▇▇▇▇▇▇▇█████████████████████</td></tr><tr><td>val_recall</td><td>▁▁▁▃▃▂▄▆▆▆▆▆▆▆▆▇▇▇▇▇▇███████████████████</td></tr><tr><td>val_task_accuracy</td><td>▁▁▁▃▃▂▄▆▆▆▆▆▆▆▆▇▇▇▇▇▇███████████████████</td></tr><tr><td>val_task_loss</td><td>██▇▇▇▇▇▆▆▅▄▃▄▄▄▃▃▃▃▂▂▂▂▂▂▁▂▁▂▁▂▁▁▁▂▁▁▁▁▁</td></tr></table><br/></div><div class=\"wandb-col\"><h3>Run summary:</h3><br/><table class=\"wandb\"><tr><td>convergence_time</td><td>6.69263</td></tr><tr><td>epoch</td><td>41</td></tr><tr><td>epoch_time</td><td>0.29859</td></tr><tr><td>learning_rate</td><td>0.0005</td></tr><tr><td>loss</td><td>0.54955</td></tr><tr><td>total_training_time</td><td>14.2212</td></tr><tr><td>train_accuracy</td><td>0.98821</td></tr><tr><td>train_concept_accuracy</td><td>0.72571</td></tr><tr><td>train_concept_loss</td><td>0.52527</td></tr><tr><td>train_f1</td><td>0.98821</td></tr><tr><td>train_precision</td><td>0.98832</td></tr><tr><td>train_recall</td><td>0.98821</td></tr><tr><td>train_task_accuracy</td><td>0.98821</td></tr><tr><td>train_task_loss</td><td>0.03776</td></tr><tr><td>val_accuracy</td><td>0.99286</td></tr><tr><td>val_concept_accuracy</td><td>0.72857</td></tr><tr><td>val_concept_loss</td><td>0.48687</td></tr><tr><td>val_f1</td><td>0.99286</td></tr><tr><td>val_learning_rate</td><td>0.0005</td></tr><tr><td>val_loss</td><td>0.53956</td></tr><tr><td>val_precision</td><td>0.99286</td></tr><tr><td>val_recall</td><td>0.99286</td></tr><tr><td>val_task_accuracy</td><td>0.99286</td></tr><tr><td>val_task_loss</td><td>0.03098</td></tr></table><br/></div></div>"
            ],
            "text/plain": [
              "<IPython.core.display.HTML object>"
            ]
          },
          "metadata": {},
          "output_type": "display_data"
        },
        {
          "data": {
            "text/html": [
              " View run <strong style=\"color:#cdcd00\">LLR2_XNOR</strong> at: <a href='https://wandb.ai/alih999954-politecnico-di-torino/pytorch_explain/runs/hpq7mon8' target=\"_blank\">https://wandb.ai/alih999954-politecnico-di-torino/pytorch_explain/runs/hpq7mon8</a><br/> View project at: <a href='https://wandb.ai/alih999954-politecnico-di-torino/pytorch_explain' target=\"_blank\">https://wandb.ai/alih999954-politecnico-di-torino/pytorch_explain</a><br/>Synced 5 W&B file(s), 0 media file(s), 0 artifact file(s) and 0 other file(s)"
            ],
            "text/plain": [
              "<IPython.core.display.HTML object>"
            ]
          },
          "metadata": {},
          "output_type": "display_data"
        },
        {
          "data": {
            "text/html": [
              "Find logs at: <code>./wandb/run-20240723_091849-hpq7mon8/logs</code>"
            ],
            "text/plain": [
              "<IPython.core.display.HTML object>"
            ]
          },
          "metadata": {},
          "output_type": "display_data"
        },
        {
          "data": {
            "text/html": [
              "The new W&B backend becomes opt-out in version 0.18.0; try it out with `wandb.require(\"core\")`! See https://wandb.me/wandb-core for more information."
            ],
            "text/plain": [
              "<IPython.core.display.HTML object>"
            ]
          },
          "metadata": {},
          "output_type": "display_data"
        },
        {
          "name": "stdout",
          "output_type": "stream",
          "text": [
            "The following dataset has been loaded successfully: IsBinEven\n"
          ]
        },
        {
          "data": {
            "text/html": [
              "Tracking run with wandb version 0.17.5"
            ],
            "text/plain": [
              "<IPython.core.display.HTML object>"
            ]
          },
          "metadata": {},
          "output_type": "display_data"
        },
        {
          "data": {
            "text/html": [
              "Run data is saved locally in <code>/content/pytorch_explain/wandb/run-20240723_091913-a2uold1u</code>"
            ],
            "text/plain": [
              "<IPython.core.display.HTML object>"
            ]
          },
          "metadata": {},
          "output_type": "display_data"
        },
        {
          "data": {
            "text/html": [
              "Syncing run <strong><a href='https://wandb.ai/alih999954-politecnico-di-torino/pytorch_explain/runs/a2uold1u' target=\"_blank\">LLR2_IsBinEven</a></strong> to <a href='https://wandb.ai/alih999954-politecnico-di-torino/pytorch_explain' target=\"_blank\">Weights & Biases</a> (<a href='https://wandb.me/run' target=\"_blank\">docs</a>)<br/>"
            ],
            "text/plain": [
              "<IPython.core.display.HTML object>"
            ]
          },
          "metadata": {},
          "output_type": "display_data"
        },
        {
          "data": {
            "text/html": [
              " View project at <a href='https://wandb.ai/alih999954-politecnico-di-torino/pytorch_explain' target=\"_blank\">https://wandb.ai/alih999954-politecnico-di-torino/pytorch_explain</a>"
            ],
            "text/plain": [
              "<IPython.core.display.HTML object>"
            ]
          },
          "metadata": {},
          "output_type": "display_data"
        },
        {
          "data": {
            "text/html": [
              " View run at <a href='https://wandb.ai/alih999954-politecnico-di-torino/pytorch_explain/runs/a2uold1u' target=\"_blank\">https://wandb.ai/alih999954-politecnico-di-torino/pytorch_explain/runs/a2uold1u</a>"
            ],
            "text/plain": [
              "<IPython.core.display.HTML object>"
            ]
          },
          "metadata": {},
          "output_type": "display_data"
        },
        {
          "name": "stdout",
          "output_type": "stream",
          "text": [
            "-------------------------- Training IsBinEven using LLR2 ----------------------\n",
            "Epoch 1, Loss: 1.3158762915567919, Train Accuracy: 0.485, Val Loss: 1.2837038473649458, Val Accuracy: 0.5314285714285715, Train Precision: 0.235225, Train Recall: 0.485, Train F1: 0.3168013468013468, Val Precision: 0.28241632653061227, Val Recall: 0.5314285714285715, Val F1: 0.36882729211087417, Epoch Time: 0.3786458969116211\n",
            "Epoch 2, Loss: 1.249566601081328, Train Accuracy: 0.485, Val Loss: 1.1856052442030474, Val Accuracy: 0.5314285714285715, Train Precision: 0.235225, Train Recall: 0.485, Train F1: 0.3168013468013468, Val Precision: 0.28241632653061227, Val Recall: 0.5314285714285715, Val F1: 0.36882729211087417, Epoch Time: 0.35160207748413086\n",
            "Epoch 3, Loss: 1.1206750517541713, Train Accuracy: 0.485, Val Loss: 1.0544093738902698, Val Accuracy: 0.5314285714285715, Train Precision: 0.235225, Train Recall: 0.485, Train F1: 0.3168013468013468, Val Precision: 0.28241632653061227, Val Recall: 0.5314285714285715, Val F1: 0.36882729211087417, Epoch Time: 0.36188316345214844\n",
            "Epoch 4, Loss: 1.0527520450678738, Train Accuracy: 0.485, Val Loss: 1.0432893471284346, Val Accuracy: 0.5314285714285715, Train Precision: 0.235225, Train Recall: 0.485, Train F1: 0.3168013468013468, Val Precision: 0.28241632653061227, Val Recall: 0.5314285714285715, Val F1: 0.36882729211087417, Epoch Time: 0.44290757179260254\n",
            "Epoch 5, Loss: 1.0416862802072004, Train Accuracy: 0.5225, Val Loss: 1.034144488247958, Val Accuracy: 0.7357142857142858, Train Precision: 0.7593896103896103, Train Recall: 0.5225, Train F1: 0.39491813784102714, Val Precision: 0.8234932033854835, Val Recall: 0.7357142857142858, Val F1: 0.7101258181345667, Epoch Time: 0.3581075668334961\n",
            "Epoch 6, Loss: 1.0292368179017848, Train Accuracy: 0.8771428571428571, Val Loss: 1.0176993283358486, Val Accuracy: 0.8557142857142858, Train Precision: 0.889296875, Train Recall: 0.8771428571428571, Train F1: 0.8765417638511199, Val Precision: 0.8865237088492902, Val Recall: 0.8557142857142858, Val F1: 0.8512085779778087, Epoch Time: 0.3757662773132324\n",
            "Epoch 7, Loss: 1.0081306425007908, Train Accuracy: 0.8867857142857143, Val Loss: 0.9881181391802701, Val Accuracy: 0.8742857142857143, Train Precision: 0.9073876970119816, Train Recall: 0.8867857142857143, Train F1: 0.885759506583513, Val Precision: 0.8983354037267081, Val Recall: 0.8742857142857143, Val F1: 0.871195635350565, Epoch Time: 0.35155677795410156\n",
            "Epoch 8, Loss: 0.9730526479807767, Train Accuracy: 0.9246428571428571, Val Loss: 0.9435897469520569, Val Accuracy: 0.9128571428571428, Train Precision: 0.9338391079014575, Train Recall: 0.9246428571428571, Train F1: 0.9244164191788442, Val Precision: 0.9251336192675684, Val Recall: 0.9128571428571428, Val F1: 0.911691841954173, Epoch Time: 0.3465909957885742\n",
            "Convergence achieved at epoch 8 with validation accuracy 0.9128571428571428\n",
            "Epoch 9, Loss: 0.9206918030977249, Train Accuracy: 0.93, Val Loss: 0.8787980567325245, Val Accuracy: 0.9485714285714286, Train Precision: 0.9386498397435897, Train Recall: 0.93, Train F1: 0.92980916976456, Val Precision: 0.9525934117489361, Val Recall: 0.9485714285714286, Val F1: 0.9482895850873765, Epoch Time: 0.3797495365142822\n",
            "Epoch 10, Loss: 0.8426191292025826, Train Accuracy: 0.9628571428571429, Val Loss: 0.7871944199908864, Val Accuracy: 0.9685714285714285, Train Precision: 0.9640704853369919, Train Recall: 0.9628571428571429, Train F1: 0.96286178583036, Val Precision: 0.9686102668017562, Val Recall: 0.9685714285714285, Val F1: 0.9685590555240502, Epoch Time: 0.3649728298187256\n",
            "Epoch 11, Loss: 0.7578115842559121, Train Accuracy: 0.9792857142857143, Val Loss: 0.7131795666434548, Val Accuracy: 0.9857142857142858, Train Precision: 0.9795834966039706, Train Recall: 0.9792857142857143, Train F1: 0.9792902073365232, Val Precision: 0.9857881837910648, Val Recall: 0.9857142857142858, Val F1: 0.9857189657189656, Epoch Time: 0.36603832244873047\n",
            "Epoch 12, Loss: 0.6986436369744214, Train Accuracy: 0.9828571428571429, Val Loss: 0.6700382286852057, Val Accuracy: 0.98, Train Precision: 0.9828758594354629, Train Recall: 0.9828571428571429, Train F1: 0.9828584732833783, Val Precision: 0.9807253886010363, Val Recall: 0.98, Val F1: 0.9799666280340953, Epoch Time: 0.36295533180236816\n",
            "Epoch 13, Loss: 0.661976077339866, Train Accuracy: 0.9882142857142857, Val Loss: 0.6415518955750898, Val Accuracy: 0.9957142857142857, Train Precision: 0.9882472196827118, Train Recall: 0.9882142857142857, Train F1: 0.9882154936691022, Val Precision: 0.9957531290461803, Val Recall: 0.9957142857142857, Val F1: 0.9957153652193983, Epoch Time: 0.3594534397125244\n",
            "Epoch 14, Loss: 0.6393884135918184, Train Accuracy: 0.9885714285714285, Val Loss: 0.6253323500806635, Val Accuracy: 0.9857142857142858, Train Precision: 0.9885714285714285, Train Recall: 0.9885714285714285, Train F1: 0.9885714285714285, Val Precision: 0.9860882572924456, Val Recall: 0.9857142857142858, Val F1: 0.9856984480236322, Epoch Time: 0.3826601505279541\n",
            "Epoch 15, Loss: 0.6236115937883203, Train Accuracy: 0.9917857142857143, Val Loss: 0.6109320738098838, Val Accuracy: 0.9971428571428571, Train Precision: 0.9917885027105217, Train Recall: 0.9917857142857143, Train F1: 0.991785969099906, Val Precision: 0.9971601731601731, Val Recall: 0.9971428571428571, Val F1: 0.9971433487084115, Epoch Time: 0.4641425609588623\n",
            "Epoch 16, Loss: 0.6120410385456952, Train Accuracy: 0.9875, Val Loss: 0.6009030396288092, Val Accuracy: 0.9928571428571429, Train Precision: 0.9875386118882459, Train Recall: 0.9875, Train F1: 0.9874979870612577, Val Precision: 0.9929518757104964, Val Recall: 0.9928571428571429, Val F1: 0.992853553842399, Epoch Time: 0.47467565536499023\n",
            "Epoch 17, Loss: 0.6032345836812799, Train Accuracy: 0.99, Val Loss: 0.5933229002085599, Val Accuracy: 0.9928571428571429, Train Precision: 0.99, Train Recall: 0.99, Train F1: 0.99, Val Precision: 0.9929518757104964, Val Recall: 0.9928571428571429, Val F1: 0.992853553842399, Epoch Time: 0.5229606628417969\n",
            "Epoch 18, Loss: 0.5953042005950754, Train Accuracy: 0.9878571428571429, Val Loss: 0.5856321670792319, Val Accuracy: 0.9971428571428571, Train Precision: 0.9878710089399744, Train Recall: 0.9878571428571429, Train F1: 0.9878560016834501, Val Precision: 0.9971581359816654, Val Recall: 0.9971428571428571, Val F1: 0.9971423183731027, Epoch Time: 0.5018777847290039\n",
            "Epoch 19, Loss: 0.5882449732585386, Train Accuracy: 0.9917857142857143, Val Loss: 0.5806141875006936, Val Accuracy: 0.9942857142857143, Train Precision: 0.9917967903538979, Train Recall: 0.9917857142857143, Train F1: 0.9917850461693021, Val Precision: 0.9943465045592704, Val Recall: 0.9942857142857143, Val F1: 0.9942834646407364, Epoch Time: 0.4935572147369385\n",
            "Epoch 20, Loss: 0.5833291939713738, Train Accuracy: 0.9896428571428572, Val Loss: 0.5775070461359891, Val Accuracy: 0.9828571428571429, Train Precision: 0.9896428850481909, Train Recall: 0.9896428571428572, Train F1: 0.9896427447488279, Val Precision: 0.9833928571428572, Val Recall: 0.9828571428571429, Val F1: 0.9828334812185744, Epoch Time: 0.4635586738586426\n",
            "Epoch 21, Loss: 0.5796802761879835, Train Accuracy: 0.9878571428571429, Val Loss: 0.5698895671150901, Val Accuracy: 0.9985714285714286, Train Precision: 0.987858660130719, Train Recall: 0.9878571428571429, Train F1: 0.9878573970839277, Val Precision: 0.9985752585216392, Val Recall: 0.9985714285714286, Val F1: 0.9985712968316586, Epoch Time: 0.5251002311706543\n",
            "Epoch 22, Loss: 0.5754289437424053, Train Accuracy: 0.9882142857142857, Val Loss: 0.5661820498379794, Val Accuracy: 0.9957142857142857, Train Precision: 0.9882147877848297, Train Recall: 0.9882142857142857, Train F1: 0.9882144105962496, Val Precision: 0.9957531290461803, Val Recall: 0.9957142857142857, Val F1: 0.9957153652193983, Epoch Time: 0.5227046012878418\n",
            "Epoch 23, Loss: 0.5706073099916632, Train Accuracy: 0.9917857142857143, Val Loss: 0.5640705661340193, Val Accuracy: 0.9957142857142857, Train Precision: 0.9918044788006942, Train Recall: 0.9917857142857143, Train F1: 0.9917848363583753, Val Precision: 0.9957485714285714, Val Recall: 0.9957142857142857, Val F1: 0.995713046893327, Epoch Time: 0.538140058517456\n",
            "Epoch 24, Loss: 0.5679561793804169, Train Accuracy: 0.9903571428571428, Val Loss: 0.5604953603311018, Val Accuracy: 0.9971428571428571, Train Precision: 0.9903571864478276, Train Recall: 0.9903571428571428, Train F1: 0.990357038214426, Val Precision: 0.9971581359816654, Val Recall: 0.9971428571428571, Val F1: 0.9971423183731027, Epoch Time: 0.5764720439910889\n",
            "Epoch 25, Loss: 0.5644792182879015, Train Accuracy: 0.9925, Val Loss: 0.5570026744495739, Val Accuracy: 0.9971428571428571, Train Precision: 0.9925004123434434, Train Recall: 0.9925, Train F1: 0.9925000794703406, Val Precision: 0.9971601731601731, Val Recall: 0.9971428571428571, Val F1: 0.9971433487084115, Epoch Time: 0.36853575706481934\n",
            "Epoch 26, Loss: 0.5619550062851473, Train Accuracy: 0.9925, Val Loss: 0.5583871657198126, Val Accuracy: 0.9871428571428571, Train Precision: 0.9925000906467377, Train Recall: 0.9925, Train F1: 0.9924999186112203, Val Precision: 0.9874465691788525, Val Recall: 0.9871428571428571, Val F1: 0.9871302689440956, Epoch Time: 0.34525537490844727\n",
            "Epoch 27, Loss: 0.5595476532524283, Train Accuracy: 0.9925, Val Loss: 0.5527691732753407, Val Accuracy: 0.9971428571428571, Train Precision: 0.9925017811769814, Train Recall: 0.9925, Train F1: 0.9924997500775941, Val Precision: 0.9971601731601731, Val Recall: 0.9971428571428571, Val F1: 0.9971433487084115, Epoch Time: 0.3597300052642822\n",
            "Epoch 28, Loss: 0.5576202720403671, Train Accuracy: 0.9932142857142857, Val Loss: 0.5511188344521956, Val Accuracy: 0.9957142857142857, Train Precision: 0.9932256120890949, Train Recall: 0.9932142857142857, Train F1: 0.9932137337920323, Val Precision: 0.9957191194422369, Val Recall: 0.9957142857142857, Val F1: 0.9957146632321322, Epoch Time: 0.36706972122192383\n",
            "Epoch 29, Loss: 0.5559236339547418, Train Accuracy: 0.9925, Val Loss: 0.5501369617202065, Val Accuracy: 0.9942857142857143, Train Precision: 0.9925054844975791, Train Recall: 0.9925, Train F1: 0.9924995738679347, Val Precision: 0.9942998683020337, Val Recall: 0.9942857142857143, Val F1: 0.9942846367462055, Epoch Time: 0.3635072708129883\n",
            "Epoch 30, Loss: 0.5541458441452547, Train Accuracy: 0.9921428571428571, Val Loss: 0.5477743473919955, Val Accuracy: 0.9971428571428571, Train Precision: 0.9921441993464052, Train Recall: 0.9921428571428571, Train F1: 0.9921430216425413, Val Precision: 0.9971601731601731, Val Recall: 0.9971428571428571, Val F1: 0.9971433487084115, Epoch Time: 0.3489670753479004\n",
            "Epoch 31, Loss: 0.5528449361974542, Train Accuracy: 0.9939285714285714, Val Loss: 0.5459237369624051, Val Accuracy: 0.9971428571428571, Train Precision: 0.9939342274022099, Train Recall: 0.9939285714285714, Train F1: 0.9939282264645187, Val Precision: 0.9971601731601731, Val Recall: 0.9971428571428571, Val F1: 0.9971433487084115, Epoch Time: 0.36777448654174805\n",
            "Epoch 32, Loss: 0.5510551523078572, Train Accuracy: 0.9953571428571428, Val Loss: 0.5455531640486284, Val Accuracy: 0.9957142857142857, Train Precision: 0.9953629703068408, Train Recall: 0.9953571428571428, Train F1: 0.9953568790611024, Val Precision: 0.9957175768947419, Val Recall: 0.9957142857142857, Val F1: 0.9957138904949756, Epoch Time: 0.3474156856536865\n",
            "Epoch 33, Loss: 0.5496468394994736, Train Accuracy: 0.9942857142857143, Val Loss: 0.544239109212702, Val Accuracy: 0.9957142857142857, Train Precision: 0.9942869689542483, Train Recall: 0.9942857142857143, Train F1: 0.9942858339218482, Val Precision: 0.9957175768947419, Val Recall: 0.9957142857142857, Val F1: 0.9957138904949756, Epoch Time: 0.3522629737854004\n",
            "Epoch 34, Loss: 0.548961961811239, Train Accuracy: 0.995, Val Loss: 0.5437065362930298, Val Accuracy: 0.9928571428571429, Train Precision: 0.9950036161488629, Train Recall: 0.995, Train F1: 0.9949997752882437, Val Precision: 0.992964392964393, Val Recall: 0.9928571428571429, Val F1: 0.9928599942737705, Epoch Time: 0.37463951110839844\n",
            "Epoch 35, Loss: 0.5483333780006929, Train Accuracy: 0.9935714285714285, Val Loss: 0.5421049161390825, Val Accuracy: 0.9928571428571429, Train Precision: 0.9935721610733868, Train Recall: 0.9935714285714285, Train F1: 0.9935712874032697, Val Precision: 0.992964392964393, Val Recall: 0.9928571428571429, Val F1: 0.9928599942737705, Epoch Time: 0.35102319717407227\n",
            "Epoch 36, Loss: 0.5468611459840428, Train Accuracy: 0.9932142857142857, Val Loss: 0.5408079840920188, Val Accuracy: 0.9971428571428571, Train Precision: 0.9932256120890949, Train Recall: 0.9932142857142857, Train F1: 0.9932137337920323, Val Precision: 0.9971601731601731, Val Recall: 0.9971428571428571, Val F1: 0.9971433487084115, Epoch Time: 0.37189435958862305\n",
            "Epoch 37, Loss: 0.5455981398170645, Train Accuracy: 0.9935714285714285, Val Loss: 0.5399450605565851, Val Accuracy: 0.9971428571428571, Train Precision: 0.9935714285714285, Train Recall: 0.9935714285714285, Train F1: 0.9935714285714285, Val Precision: 0.9971601731601731, Val Recall: 0.9971428571428571, Val F1: 0.9971433487084115, Epoch Time: 0.356229305267334\n",
            "Epoch 38, Loss: 0.5450176271525297, Train Accuracy: 0.9939285714285714, Val Loss: 0.5397509878331964, Val Accuracy: 0.9957142857142857, Train Precision: 0.9939286934460111, Train Recall: 0.9939285714285714, Train F1: 0.9939285055424164, Val Precision: 0.9957191194422369, Val Recall: 0.9957142857142857, Val F1: 0.9957146632321322, Epoch Time: 0.3622581958770752\n",
            "Epoch 39, Loss: 0.5442603921348398, Train Accuracy: 0.9942857142857143, Val Loss: 0.5468475656075911, Val Accuracy: 0.9842857142857143, Train Precision: 0.994294068129066, Train Recall: 0.9942857142857143, Train F1: 0.9942853202926493, Val Precision: 0.9847370384185005, Val Recall: 0.9842857142857143, Val F1: 0.9842661914295981, Epoch Time: 0.3675873279571533\n",
            "Epoch 40, Loss: 0.5442539697343652, Train Accuracy: 0.9935714285714285, Val Loss: 0.5374805547974326, Val Accuracy: 0.9971428571428571, Train Precision: 0.9935714285714285, Train Recall: 0.9935714285714285, Train F1: 0.9935714285714285, Val Precision: 0.9971601731601731, Val Recall: 0.9971428571428571, Val F1: 0.9971433487084115, Epoch Time: 0.3613545894622803\n",
            "Epoch 41, Loss: 0.542514977130023, Train Accuracy: 0.9960714285714286, Val Loss: 0.5372698740525679, Val Accuracy: 0.9957142857142857, Train Precision: 0.9960715976449211, Train Recall: 0.9960714285714286, Train F1: 0.9960713859392106, Val Precision: 0.9957531290461803, Val Recall: 0.9957142857142857, Val F1: 0.9957153652193983, Epoch Time: 0.3521230220794678\n",
            "Total Training Time: 16.470693111419678\n",
            "\n",
            " Training on IsBinEven using LLR2 has been completed!\n"
          ]
        },
        {
          "data": {
            "application/vnd.jupyter.widget-view+json": {
              "model_id": "bc1320cb745a4e90b5fb18cd1d3b0f6f",
              "version_major": 2,
              "version_minor": 0
            },
            "text/plain": [
              "VBox(children=(Label(value='0.001 MB of 0.001 MB uploaded\\r'), FloatProgress(value=1.0, max=1.0)))"
            ]
          },
          "metadata": {},
          "output_type": "display_data"
        },
        {
          "data": {
            "text/html": [
              "<style>\n",
              "    table.wandb td:nth-child(1) { padding: 0 10px; text-align: left ; width: auto;} td:nth-child(2) {text-align: left ; width: 100%}\n",
              "    .wandb-row { display: flex; flex-direction: row; flex-wrap: wrap; justify-content: flex-start; width: 100% }\n",
              "    .wandb-col { display: flex; flex-direction: column; flex-basis: 100%; flex: 1; padding: 10px; }\n",
              "    </style>\n",
              "<div class=\"wandb-row\"><div class=\"wandb-col\"><h3>Run history:</h3><br/><table class=\"wandb\"><tr><td>convergence_time</td><td>▁</td></tr><tr><td>epoch</td><td>▁▁▁▂▂▂▂▂▂▃▃▃▃▃▃▄▄▄▄▄▅▅▅▅▅▅▆▆▆▆▆▆▇▇▇▇▇▇██</td></tr><tr><td>epoch_time</td><td>▂▁▂▄▁▂▁▁▂▂▂▂▁▂▅▅▆▆▅▅▆▆▇█▂▁▁▂▂▁▂▁▁▂▁▂▁▂▂▁</td></tr><tr><td>learning_rate</td><td>▁▁▁▁▁▁▁▁▁▁▁▁▁▁▁▁▁▁▁▁▁▁▁▁▁▁▁▁▁▁▁▁▁▁▁▁▁▁▁▁</td></tr><tr><td>loss</td><td>█▇▆▆▆▅▅▅▄▄▃▂▂▂▂▂▂▁▁▁▁▁▁▁▁▁▁▁▁▁▁▁▁▁▁▁▁▁▁▁</td></tr><tr><td>total_training_time</td><td>▁</td></tr><tr><td>train_accuracy</td><td>▁▁▁▁▂▆▇▇▇███████████████████████████████</td></tr><tr><td>train_concept_accuracy</td><td>▁▁▃▆███▇▇▇▆▆▆▆▆▆▆▆▆▆▆▆▆▆▆▆▆▆▆▆▆▆▆▆▆▆▆▆▆▆</td></tr><tr><td>train_concept_loss</td><td>██▇▇▆▆▆▆▅▄▄▄▄▃▃▃▃▂▂▂▂▂▁▂▂▃▂▂▂▂▁▂▂▁▁▁▁▁▂▂</td></tr><tr><td>train_f1</td><td>▁▁▁▁▂▇▇▇▇███████████████████████████████</td></tr><tr><td>train_precision</td><td>▁▁▁▁▆▇▇▇▇███████████████████████████████</td></tr><tr><td>train_recall</td><td>▁▁▁▁▂▆▇▇▇███████████████████████████████</td></tr><tr><td>train_task_accuracy</td><td>▁▁▁▁▂▆▇▇▇███████████████████████████████</td></tr><tr><td>train_task_loss</td><td>██▆▅▅▅▅▅▄▄▂▂▂▁▁▁▁▁▁▁▁▁▁▁▁▁▁▁▁▁▁▁▁▁▁▁▁▁▁▁</td></tr><tr><td>val_accuracy</td><td>▁▁▁▁▄▆▆▇▇███████████████████████████████</td></tr><tr><td>val_concept_accuracy</td><td>▁▁▄▇███▇▇▆▆▅▆▆▆▆▆▆▆▆▆▆▆▆▆▆▆▆▆▆▆▆▆▆▆▆▆▆▆▆</td></tr><tr><td>val_concept_loss</td><td>██▇▇▇▇▆▆▆▄▄▄▄▃▃▃▃▃▃▃▃▃▂▃▂▂▂▂▂▂▂▂▁▂▂▂▁▂▂▂</td></tr><tr><td>val_f1</td><td>▁▁▁▁▅▆▇▇▇███████████████████████████████</td></tr><tr><td>val_learning_rate</td><td>▁▁▁▁▁▁▁▁▁▁▁▁▁▁▁▁▁▁▁▁▁▁▁▁▁▁▁▁▁▁▁▁▁▁▁▁▁▁▁▁</td></tr><tr><td>val_loss</td><td>█▇▆▆▆▆▅▅▄▃▃▂▂▂▂▂▂▁▁▁▁▁▁▁▁▁▁▁▁▁▁▁▁▁▁▁▁▁▁▁</td></tr><tr><td>val_precision</td><td>▁▁▁▁▆▇▇▇████████████████████████████████</td></tr><tr><td>val_recall</td><td>▁▁▁▁▄▆▆▇▇███████████████████████████████</td></tr><tr><td>val_task_accuracy</td><td>▁▁▁▁▄▆▆▇▇███████████████████████████████</td></tr><tr><td>val_task_loss</td><td>█▇▅▅▅▅▅▄▄▃▂▂▁▁▁▁▁▁▁▁▁▁▁▁▁▁▁▁▁▁▁▁▁▁▁▁▁▁▁▁</td></tr></table><br/></div><div class=\"wandb-col\"><h3>Run summary:</h3><br/><table class=\"wandb\"><tr><td>convergence_time</td><td>2.98083</td></tr><tr><td>epoch</td><td>41</td></tr><tr><td>epoch_time</td><td>0.35212</td></tr><tr><td>learning_rate</td><td>0.0005</td></tr><tr><td>loss</td><td>0.54251</td></tr><tr><td>total_training_time</td><td>16.47069</td></tr><tr><td>train_accuracy</td><td>0.99607</td></tr><tr><td>train_concept_accuracy</td><td>0.51321</td></tr><tr><td>train_concept_loss</td><td>0.5642</td></tr><tr><td>train_f1</td><td>0.99607</td></tr><tr><td>train_precision</td><td>0.99607</td></tr><tr><td>train_recall</td><td>0.99607</td></tr><tr><td>train_task_accuracy</td><td>0.99607</td></tr><tr><td>train_task_loss</td><td>0.01531</td></tr><tr><td>val_accuracy</td><td>0.99571</td></tr><tr><td>val_concept_accuracy</td><td>0.50429</td></tr><tr><td>val_concept_loss</td><td>0.54196</td></tr><tr><td>val_f1</td><td>0.99572</td></tr><tr><td>val_learning_rate</td><td>0.0005</td></tr><tr><td>val_loss</td><td>0.53727</td></tr><tr><td>val_precision</td><td>0.99575</td></tr><tr><td>val_recall</td><td>0.99571</td></tr><tr><td>val_task_accuracy</td><td>0.99571</td></tr><tr><td>val_task_loss</td><td>0.02609</td></tr></table><br/></div></div>"
            ],
            "text/plain": [
              "<IPython.core.display.HTML object>"
            ]
          },
          "metadata": {},
          "output_type": "display_data"
        },
        {
          "data": {
            "text/html": [
              " View run <strong style=\"color:#cdcd00\">LLR2_IsBinEven</strong> at: <a href='https://wandb.ai/alih999954-politecnico-di-torino/pytorch_explain/runs/a2uold1u' target=\"_blank\">https://wandb.ai/alih999954-politecnico-di-torino/pytorch_explain/runs/a2uold1u</a><br/> View project at: <a href='https://wandb.ai/alih999954-politecnico-di-torino/pytorch_explain' target=\"_blank\">https://wandb.ai/alih999954-politecnico-di-torino/pytorch_explain</a><br/>Synced 5 W&B file(s), 0 media file(s), 0 artifact file(s) and 0 other file(s)"
            ],
            "text/plain": [
              "<IPython.core.display.HTML object>"
            ]
          },
          "metadata": {},
          "output_type": "display_data"
        },
        {
          "data": {
            "text/html": [
              "Find logs at: <code>./wandb/run-20240723_091913-a2uold1u/logs</code>"
            ],
            "text/plain": [
              "<IPython.core.display.HTML object>"
            ]
          },
          "metadata": {},
          "output_type": "display_data"
        },
        {
          "data": {
            "text/html": [
              "The new W&B backend becomes opt-out in version 0.18.0; try it out with `wandb.require(\"core\")`! See https://wandb.me/wandb-core for more information."
            ],
            "text/plain": [
              "<IPython.core.display.HTML object>"
            ]
          },
          "metadata": {},
          "output_type": "display_data"
        },
        {
          "name": "stdout",
          "output_type": "stream",
          "text": [
            "The following dataset has been loaded successfully: Trigonometry\n"
          ]
        },
        {
          "data": {
            "text/html": [
              "Tracking run with wandb version 0.17.5"
            ],
            "text/plain": [
              "<IPython.core.display.HTML object>"
            ]
          },
          "metadata": {},
          "output_type": "display_data"
        },
        {
          "data": {
            "text/html": [
              "Run data is saved locally in <code>/content/pytorch_explain/wandb/run-20240723_091938-m1h3esmj</code>"
            ],
            "text/plain": [
              "<IPython.core.display.HTML object>"
            ]
          },
          "metadata": {},
          "output_type": "display_data"
        },
        {
          "data": {
            "text/html": [
              "Syncing run <strong><a href='https://wandb.ai/alih999954-politecnico-di-torino/pytorch_explain/runs/m1h3esmj' target=\"_blank\">LLR2_Trigonometry</a></strong> to <a href='https://wandb.ai/alih999954-politecnico-di-torino/pytorch_explain' target=\"_blank\">Weights & Biases</a> (<a href='https://wandb.me/run' target=\"_blank\">docs</a>)<br/>"
            ],
            "text/plain": [
              "<IPython.core.display.HTML object>"
            ]
          },
          "metadata": {},
          "output_type": "display_data"
        },
        {
          "data": {
            "text/html": [
              " View project at <a href='https://wandb.ai/alih999954-politecnico-di-torino/pytorch_explain' target=\"_blank\">https://wandb.ai/alih999954-politecnico-di-torino/pytorch_explain</a>"
            ],
            "text/plain": [
              "<IPython.core.display.HTML object>"
            ]
          },
          "metadata": {},
          "output_type": "display_data"
        },
        {
          "data": {
            "text/html": [
              " View run at <a href='https://wandb.ai/alih999954-politecnico-di-torino/pytorch_explain/runs/m1h3esmj' target=\"_blank\">https://wandb.ai/alih999954-politecnico-di-torino/pytorch_explain/runs/m1h3esmj</a>"
            ],
            "text/plain": [
              "<IPython.core.display.HTML object>"
            ]
          },
          "metadata": {},
          "output_type": "display_data"
        },
        {
          "name": "stdout",
          "output_type": "stream",
          "text": [
            "-------------------------- Training Trigonometry using LLR2 ----------------------\n",
            "Epoch 1, Loss: 1.1432519880208103, Train Accuracy: 0.39357142857142857, Val Loss: 1.100565498525446, Val Accuracy: 0.44571428571428573, Train Precision: 0.1548984693877551, Train Recall: 0.39357142857142857, Train F1: 0.2223043128066193, Val Precision: 0.7705826499784203, Val Recall: 0.44571428571428573, Val F1: 0.3288495221253842, Epoch Time: 0.3200874328613281\n",
            "Epoch 2, Loss: 1.0641399947079746, Train Accuracy: 0.65, Val Loss: 1.0395771156657825, Val Accuracy: 0.6085714285714285, Train Precision: 0.6391533857226792, Train Recall: 0.65, Train F1: 0.6201635119523683, Val Precision: 0.37035918367346937, Val Recall: 0.6085714285714285, Val F1: 0.46048211113930476, Epoch Time: 0.36556053161621094\n",
            "Epoch 3, Loss: 1.009549082680182, Train Accuracy: 0.6175, Val Loss: 0.9796562357382341, Val Accuracy: 0.74, Train Precision: 0.7654442036836404, Train Recall: 0.6175, Train F1: 0.48256933902457383, Val Precision: 0.8178289473684212, Val Recall: 0.74, Val F1: 0.6982372028622466, Epoch Time: 0.3174307346343994\n",
            "Epoch 4, Loss: 0.9367185519500212, Train Accuracy: 0.8267857142857142, Val Loss: 0.8832098787481134, Val Accuracy: 0.8728571428571429, Train Precision: 0.8380722241201727, Train Recall: 0.8267857142857142, Train F1: 0.8193702175457052, Val Precision: 0.8747837099631608, Val Recall: 0.8728571428571429, Val F1: 0.8734116024988654, Epoch Time: 0.31781864166259766\n",
            "Epoch 5, Loss: 0.833896288817579, Train Accuracy: 0.8617857142857143, Val Loss: 0.7741087187420238, Val Accuracy: 0.8871428571428571, Train Precision: 0.8653034562371829, Train Recall: 0.8617857142857143, Train F1: 0.8626231115744329, Val Precision: 0.8924380280437554, Val Recall: 0.8871428571428571, Val F1: 0.8880333991182003, Epoch Time: 0.37477946281433105\n",
            "Epoch 6, Loss: 0.7460545125332746, Train Accuracy: 0.895, Val Loss: 0.7080604759129611, Val Accuracy: 0.91, Train Precision: 0.8969002710413994, Train Recall: 0.895, Train F1: 0.8954730781201369, Val Precision: 0.9173504718032542, Val Recall: 0.91, Val F1: 0.9108311069482076, Epoch Time: 0.3193533420562744\n",
            "Convergence achieved at epoch 6 with validation accuracy 0.91\n",
            "Epoch 7, Loss: 0.6926314248280092, Train Accuracy: 0.925, Val Loss: 0.6655304865403608, Val Accuracy: 0.9442857142857143, Train Precision: 0.9266644587254965, Train Recall: 0.925, Train F1: 0.925337912942955, Val Precision: 0.945662039826665, Val Recall: 0.9442857142857143, Val F1: 0.9445286797466939, Epoch Time: 0.3256795406341553\n",
            "Epoch 8, Loss: 0.6612889482216402, Train Accuracy: 0.9357142857142857, Val Loss: 0.6445518081838434, Val Accuracy: 0.9357142857142857, Train Precision: 0.9360913528305954, Train Recall: 0.9357142857142857, Train F1: 0.9358317535566653, Val Precision: 0.9390042571545336, Val Recall: 0.9357142857142857, Val F1: 0.9361450087229889, Epoch Time: 0.35252928733825684\n",
            "Epoch 9, Loss: 0.6419230266050859, Train Accuracy: 0.9442857142857143, Val Loss: 0.6322476809675043, Val Accuracy: 0.9342857142857143, Train Precision: 0.9442131475477684, Train Recall: 0.9442857142857143, Train F1: 0.9442313002100192, Val Precision: 0.9387770562770562, Val Recall: 0.9342857142857143, Val F1: 0.9347919365255764, Epoch Time: 0.32915520668029785\n",
            "Epoch 10, Loss: 0.6279681744900617, Train Accuracy: 0.9467857142857142, Val Loss: 0.6171194206584584, Val Accuracy: 0.9514285714285714, Train Precision: 0.9470314899765945, Train Recall: 0.9467857142857142, Train F1: 0.9468634261142403, Val Precision: 0.9528972726180464, Val Recall: 0.9514285714285714, Val F1: 0.9516527295026734, Epoch Time: 0.33289098739624023\n",
            "Epoch 11, Loss: 0.6160036501559344, Train Accuracy: 0.9553571428571429, Val Loss: 0.6049154888499867, Val Accuracy: 0.9642857142857143, Train Precision: 0.9554644256512594, Train Recall: 0.9553571428571429, Train F1: 0.9553954577953365, Val Precision: 0.9645000747981363, Val Recall: 0.9642857142857143, Val F1: 0.9643417572071196, Epoch Time: 0.3549196720123291\n",
            "Epoch 12, Loss: 0.6057322987101295, Train Accuracy: 0.9596428571428571, Val Loss: 0.5982704650272023, Val Accuracy: 0.9671428571428572, Train Precision: 0.9596643289037875, Train Recall: 0.9596428571428571, Train F1: 0.959652444748612, Val Precision: 0.9672426746257302, Val Recall: 0.9671428571428572, Val F1: 0.9671742534110347, Epoch Time: 0.3097865581512451\n",
            "Epoch 13, Loss: 0.5968947884711352, Train Accuracy: 0.9607142857142857, Val Loss: 0.5920911052010276, Val Accuracy: 0.97, Train Precision: 0.9607277750107426, Train Recall: 0.9607142857142857, Train F1: 0.9607205192398999, Val Precision: 0.9704964791417748, Val Recall: 0.97, Val F1: 0.9700822274896657, Epoch Time: 0.3536415100097656\n",
            "Epoch 14, Loss: 0.5910419794646177, Train Accuracy: 0.9621428571428572, Val Loss: 0.5881120941855691, Val Accuracy: 0.9671428571428572, Train Precision: 0.9622503671440528, Train Recall: 0.9621428571428572, Train F1: 0.9621782358384634, Val Precision: 0.9678530060089984, Val Recall: 0.9671428571428572, Val F1: 0.9672512582680431, Epoch Time: 0.3703155517578125\n",
            "Epoch 15, Loss: 0.5851606862111525, Train Accuracy: 0.9660714285714286, Val Loss: 0.581764817237854, Val Accuracy: 0.97, Train Precision: 0.966183312834921, Train Recall: 0.9660714285714286, Train F1: 0.9661057140163848, Val Precision: 0.9701970900484425, Val Recall: 0.97, Val F1: 0.9700470760539806, Epoch Time: 0.3337280750274658\n",
            "Epoch 16, Loss: 0.5810899802229621, Train Accuracy: 0.9696428571428571, Val Loss: 0.5829774412241849, Val Accuracy: 0.9657142857142857, Train Precision: 0.9696212647273186, Train Recall: 0.9696428571428571, Train F1: 0.9696257181917242, Val Precision: 0.9667910117121282, Val Recall: 0.9657142857142857, Val F1: 0.9658549357962465, Epoch Time: 0.3321549892425537\n",
            "Epoch 17, Loss: 0.5764373608610847, Train Accuracy: 0.9714285714285714, Val Loss: 0.5796826427633112, Val Accuracy: 0.9742857142857143, Train Precision: 0.971414383531276, Train Recall: 0.9714285714285714, Train F1: 0.9714194041252865, Val Precision: 0.974530612244898, Val Recall: 0.9742857142857143, Val F1: 0.9743337759099339, Epoch Time: 0.3484928607940674\n",
            "Epoch 18, Loss: 0.5719402635639365, Train Accuracy: 0.9732142857142857, Val Loss: 0.5729253129525618, Val Accuracy: 0.9728571428571429, Train Precision: 0.9731967774455623, Train Recall: 0.9732142857142857, Train F1: 0.9731991631103449, Val Precision: 0.9729462799790781, Val Recall: 0.9728571428571429, Val F1: 0.9728830789047678, Epoch Time: 0.36603426933288574\n",
            "Epoch 19, Loss: 0.5691732127558101, Train Accuracy: 0.9728571428571429, Val Loss: 0.5730824849822305, Val Accuracy: 0.9714285714285714, Train Precision: 0.9728438783962663, Train Recall: 0.9728571428571429, Train F1: 0.9728484339190222, Val Precision: 0.972011395294846, Val Recall: 0.9714285714285714, Val F1: 0.971514923748469, Epoch Time: 0.3202040195465088\n",
            "Epoch 20, Loss: 0.5658093311569907, Train Accuracy: 0.9767857142857143, Val Loss: 0.5688789486885071, Val Accuracy: 0.9757142857142858, Train Precision: 0.9767769079795164, Train Recall: 0.9767857142857143, Train F1: 0.9767801381646367, Val Precision: 0.9758941052987488, Val Recall: 0.9757142857142858, Val F1: 0.9757523949008412, Epoch Time: 0.3293123245239258\n",
            "Epoch 21, Loss: 0.562306437980045, Train Accuracy: 0.9785714285714285, Val Loss: 0.5663314461708069, Val Accuracy: 0.9757142857142858, Train Precision: 0.9785656226126814, Train Recall: 0.9785714285714285, Train F1: 0.9785680033889832, Val Precision: 0.9760220002353873, Val Recall: 0.9757142857142858, Val F1: 0.9757668471514626, Epoch Time: 0.3233771324157715\n",
            "Epoch 22, Loss: 0.5590888099236921, Train Accuracy: 0.9778571428571429, Val Loss: 0.5651043382557955, Val Accuracy: 0.9785714285714285, Train Precision: 0.9778511077158136, Train Recall: 0.9778571428571429, Train F1: 0.9778536035019493, Val Precision: 0.9786498853324263, Val Recall: 0.9785714285714285, Val F1: 0.9785919043985009, Epoch Time: 0.4130895137786865\n",
            "Epoch 23, Loss: 0.5558770475062457, Train Accuracy: 0.9825, Val Loss: 0.5666628371585499, Val Accuracy: 0.9757142857142858, Train Precision: 0.9825005457171528, Train Recall: 0.9825, Train F1: 0.9824843610115224, Val Precision: 0.9763726182927197, Val Recall: 0.9757142857142858, Val F1: 0.9757944082850756, Epoch Time: 0.45745348930358887\n",
            "Epoch 24, Loss: 0.5533963699232448, Train Accuracy: 0.9832142857142857, Val Loss: 0.5613197088241577, Val Accuracy: 0.9785714285714285, Train Precision: 0.9832073643892484, Train Recall: 0.9832142857142857, Train F1: 0.9832075411726248, Val Precision: 0.978867422252367, Val Recall: 0.9785714285714285, Val F1: 0.9786178063101141, Epoch Time: 0.4672079086303711\n",
            "Epoch 25, Loss: 0.551102649081837, Train Accuracy: 0.9839285714285714, Val Loss: 0.5634961995211515, Val Accuracy: 0.9785714285714285, Train Precision: 0.983923315600293, Train Recall: 0.9839285714285714, Train F1: 0.983919497866207, Val Precision: 0.9790241103432248, Val Recall: 0.9785714285714285, Val F1: 0.9786301624926181, Epoch Time: 0.47040796279907227\n",
            "Epoch 26, Loss: 0.5489653227004138, Train Accuracy: 0.9853571428571428, Val Loss: 0.5579558881846342, Val Accuracy: 0.9814285714285714, Train Precision: 0.9853550696098645, Train Recall: 0.9853571428571428, Train F1: 0.9853559747300078, Val Precision: 0.9814447669977081, Val Recall: 0.9814285714285714, Val F1: 0.9814345737652935, Epoch Time: 0.4251368045806885\n",
            "Epoch 27, Loss: 0.5474760735576804, Train Accuracy: 0.9835714285714285, Val Loss: 0.562290679324757, Val Accuracy: 0.9771428571428571, Train Precision: 0.983565021515957, Train Recall: 0.9835714285714285, Train F1: 0.983563492865889, Val Precision: 0.9776937587060827, Val Recall: 0.9771428571428571, Val F1: 0.9772119389987753, Epoch Time: 0.4269545078277588\n",
            "Epoch 28, Loss: 0.5457965216853402, Train Accuracy: 0.9846428571428572, Val Loss: 0.5567800294269215, Val Accuracy: 0.9857142857142858, Train Precision: 0.9846406697228305, Train Recall: 0.9846428571428572, Train F1: 0.9846416320339106, Val Precision: 0.9858175477221474, Val Recall: 0.9857142857142858, Val F1: 0.9857323528262822, Epoch Time: 0.4257619380950928\n",
            "Epoch 29, Loss: 0.5436012975194238, Train Accuracy: 0.9882142857142857, Val Loss: 0.5576002543622797, Val Accuracy: 0.9814285714285714, Train Precision: 0.9882164228958101, Train Recall: 0.9882142857142857, Train F1: 0.9882152224660115, Val Precision: 0.9815911205490548, Val Recall: 0.9814285714285714, Val F1: 0.9814577137477022, Epoch Time: 0.46050310134887695\n",
            "Epoch 30, Loss: 0.5418440252542496, Train Accuracy: 0.9860714285714286, Val Loss: 0.562048771164634, Val Accuracy: 0.9771428571428571, Train Precision: 0.9860686232312392, Train Recall: 0.9860714285714286, Train F1: 0.9860635648173792, Val Precision: 0.9781359801202033, Val Recall: 0.9771428571428571, Val F1: 0.9772366238641643, Epoch Time: 0.49121713638305664\n",
            "Epoch 31, Loss: 0.5423832440918143, Train Accuracy: 0.9871428571428571, Val Loss: 0.5565994598648765, Val Accuracy: 0.9857142857142858, Train Precision: 0.9871428571428571, Train Recall: 0.9871428571428571, Train F1: 0.9871428571428571, Val Precision: 0.9858175477221474, Val Recall: 0.9857142857142858, Val F1: 0.9857323528262822, Epoch Time: 0.49133801460266113\n",
            "Epoch 32, Loss: 0.5398710654540495, Train Accuracy: 0.9871428571428571, Val Loss: 0.5586480335755781, Val Accuracy: 0.9814285714285714, Train Precision: 0.9871388270461684, Train Recall: 0.9871428571428571, Train F1: 0.9871387318563789, Val Precision: 0.9818666540770412, Val Recall: 0.9814285714285714, Val F1: 0.981479474160269, Epoch Time: 0.5013725757598877\n",
            "Epoch 33, Loss: 0.5392669303850695, Train Accuracy: 0.9867857142857143, Val Loss: 0.5526852878657255, Val Accuracy: 0.9828571428571429, Train Precision: 0.9867838693839323, Train Recall: 0.9867857142857143, Train F1: 0.9867846601222022, Val Precision: 0.9828959139028868, Val Recall: 0.9828571428571429, Val F1: 0.9828681436210848, Epoch Time: 0.3451094627380371\n",
            "Epoch 34, Loss: 0.5378249870105223, Train Accuracy: 0.9896428571428572, Val Loss: 0.552466094493866, Val Accuracy: 0.9871428571428571, Train Precision: 0.9896414689320678, Train Recall: 0.9896428571428572, Train F1: 0.9896420309065911, Val Precision: 0.9872881357993609, Val Recall: 0.9871428571428571, Val F1: 0.9871630325945632, Epoch Time: 0.33455991744995117\n",
            "Epoch 35, Loss: 0.5370801809159192, Train Accuracy: 0.9903571428571428, Val Loss: 0.5530633384531195, Val Accuracy: 0.9842857142857143, Train Precision: 0.9903589400281793, Train Recall: 0.9903571428571428, Train F1: 0.9903579092903729, Val Precision: 0.9845582662863259, Val Recall: 0.9842857142857143, Val F1: 0.984319724627417, Epoch Time: 0.3292546272277832\n",
            "Epoch 36, Loss: 0.5364500690590251, Train Accuracy: 0.9892857142857143, Val Loss: 0.5497580712491815, Val Accuracy: 0.9871428571428571, Train Precision: 0.9892901700261729, Train Recall: 0.9892857142857143, Train F1: 0.9892874143381544, Val Precision: 0.9872052933624484, Val Recall: 0.9871428571428571, Val F1: 0.9871551426391004, Epoch Time: 0.3162045478820801\n",
            "Epoch 37, Loss: 0.5358218117193743, Train Accuracy: 0.9882142857142857, Val Loss: 0.553747686472806, Val Accuracy: 0.9785714285714285, Train Precision: 0.9882109998988979, Train Recall: 0.9882142857142857, Train F1: 0.9882114547605079, Val Precision: 0.9792124890539601, Val Recall: 0.9785714285714285, Val F1: 0.9786421249574196, Epoch Time: 0.34430646896362305\n",
            "Epoch 38, Loss: 0.5351264896717939, Train Accuracy: 0.9892857142857143, Val Loss: 0.5470159866593101, Val Accuracy: 0.9828571428571429, Train Precision: 0.989328790860338, Train Recall: 0.9892857142857143, Train F1: 0.9892940895065856, Val Precision: 0.9828959139028868, Val Recall: 0.9828571428571429, Val F1: 0.9828681436210848, Epoch Time: 0.33487963676452637\n",
            "Epoch 39, Loss: 0.5343932455236261, Train Accuracy: 0.9882142857142857, Val Loss: 0.5523181069980968, Val Accuracy: 0.9828571428571429, Train Precision: 0.9882126691580001, Train Recall: 0.9882142857142857, Train F1: 0.9882133455143968, Val Precision: 0.9830714285714285, Val Recall: 0.9828571428571429, Val F1: 0.9828891839399557, Epoch Time: 0.3259131908416748\n",
            "Epoch 40, Loss: 0.5345330102877184, Train Accuracy: 0.9882142857142857, Val Loss: 0.5513116392222318, Val Accuracy: 0.9828571428571429, Train Precision: 0.9882301681439452, Train Recall: 0.9882142857142857, Train F1: 0.9882189350390987, Val Precision: 0.9832077291875724, Val Recall: 0.9828571428571429, Val F1: 0.9828992269961957, Epoch Time: 0.329120397567749\n",
            "Epoch 41, Loss: 0.5338750258088112, Train Accuracy: 0.9878571428571429, Val Loss: 0.5531051104718988, Val Accuracy: 0.98, Train Precision: 0.9878543162719633, Train Recall: 0.9878571428571429, Train F1: 0.9878552019204238, Val Precision: 0.980534940411701, Val Recall: 0.98, Val F1: 0.9800604466239282, Epoch Time: 0.31747865676879883\n",
            "Total Training Time: 15.173036098480225\n",
            "\n",
            " Training on Trigonometry using LLR2 has been completed!\n"
          ]
        },
        {
          "data": {
            "application/vnd.jupyter.widget-view+json": {
              "model_id": "eb5aaf622647426f92019ec9b4c765f0",
              "version_major": 2,
              "version_minor": 0
            },
            "text/plain": [
              "VBox(children=(Label(value='0.001 MB of 0.026 MB uploaded\\r'), FloatProgress(value=0.052955256858773704, max=1…"
            ]
          },
          "metadata": {},
          "output_type": "display_data"
        },
        {
          "data": {
            "text/html": [
              "<style>\n",
              "    table.wandb td:nth-child(1) { padding: 0 10px; text-align: left ; width: auto;} td:nth-child(2) {text-align: left ; width: 100%}\n",
              "    .wandb-row { display: flex; flex-direction: row; flex-wrap: wrap; justify-content: flex-start; width: 100% }\n",
              "    .wandb-col { display: flex; flex-direction: column; flex-basis: 100%; flex: 1; padding: 10px; }\n",
              "    </style>\n",
              "<div class=\"wandb-row\"><div class=\"wandb-col\"><h3>Run history:</h3><br/><table class=\"wandb\"><tr><td>convergence_time</td><td>▁</td></tr><tr><td>epoch</td><td>▁▁▁▂▂▂▂▂▂▃▃▃▃▃▃▄▄▄▄▄▅▅▅▅▅▅▆▆▆▆▆▆▇▇▇▇▇▇██</td></tr><tr><td>epoch_time</td><td>▁▃▁▁▃▁▂▃▂▂▃▁▃▃▂▂▂▃▁▂▁▅▆▇▇▅▅▅▇███▂▂▂▁▂▂▂▁</td></tr><tr><td>learning_rate</td><td>▁▁▁▁▁▁▁▁▁▁▁▁▁▁▁▁▁▁▁▁▁▁▁▁▁▁▁▁▁▁▁▁▁▁▁▁▁▁▁▁</td></tr><tr><td>loss</td><td>█▇▆▆▄▃▃▂▂▂▂▂▂▂▂▂▁▁▁▁▁▁▁▁▁▁▁▁▁▁▁▁▁▁▁▁▁▁▁▁</td></tr><tr><td>total_training_time</td><td>▁</td></tr><tr><td>train_accuracy</td><td>▁▄▄▆▆▇▇▇▇▇██████████████████████████████</td></tr><tr><td>train_concept_accuracy</td><td>▁▃▅█▆▄▃▃▃▅▄▄▄▄▄▄▄▄▄▄▄▄▄▄▃▃▃▃▃▄▃▄▃▃▃▃▃▃▃▄</td></tr><tr><td>train_concept_loss</td><td>███▆▄▄▄▃▂▃▃▃▂▂▂▂▂▂▂▁▂▂▂▁▁▁▃▂▂▂▂▁▂▂▂▁▂▁▂▂</td></tr><tr><td>train_f1</td><td>▁▅▃▆▇▇▇█████████████████████████████████</td></tr><tr><td>train_precision</td><td>▁▅▆▇▇▇▇█████████████████████████████████</td></tr><tr><td>train_recall</td><td>▁▄▄▆▆▇▇▇▇▇██████████████████████████████</td></tr><tr><td>train_task_accuracy</td><td>▁▄▄▆▆▇▇▇▇▇██████████████████████████████</td></tr><tr><td>train_task_loss</td><td>█▇▇▆▅▃▂▂▂▃▂▂▂▂▂▂▂▂▂▁▂▂▁▁▁▁▁▁▁▁▁▁▁▁▂▁▁▁▁▁</td></tr><tr><td>val_accuracy</td><td>▁▃▅▇▇▇▇▇▇███████████████████████████████</td></tr><tr><td>val_concept_accuracy</td><td>▁▄██▅▃▃▄▄▅▆▅▄▄▄▄▃▄▄▄▄▃▄▄▃▄▃▃▃▄▃▃▃▃▃▃▄▃▃▄</td></tr><tr><td>val_concept_loss</td><td>█▇▇▄▄▄▃▂▃▃▃▃▂▃▂▂▁▃▃▂▁▃▃▂▂▃▁▂▂▂▁▂▂▂▁▂▂▂▂▁</td></tr><tr><td>val_f1</td><td>▁▂▅▇▇▇█▇▇███████████████████████████████</td></tr><tr><td>val_learning_rate</td><td>▁▁▁▁▁▁▁▁▁▁▁▁▁▁▁▁▁▁▁▁▁▁▁▁▁▁▁▁▁▁▁▁▁▁▁▁▁▁▁▁</td></tr><tr><td>val_loss</td><td>█▇▆▅▄▃▂▂▂▂▂▂▂▂▁▁▁▁▁▁▁▁▁▁▁▁▁▁▁▁▁▁▁▁▁▁▁▁▁▁</td></tr><tr><td>val_precision</td><td>▆▁▆▇▇▇█▇▇███████████████████████████████</td></tr><tr><td>val_recall</td><td>▁▃▅▇▇▇▇▇▇███████████████████████████████</td></tr><tr><td>val_task_accuracy</td><td>▁▃▅▇▇▇▇▇▇███████████████████████████████</td></tr><tr><td>val_task_loss</td><td>█▇▇▆▄▃▂▂▂▂▂▂▂▂▁▂▂▂▁▂▁▂▁▁▁▁▁▁▁▁▁▁▂▁▁▁▂▁▁▁</td></tr></table><br/></div><div class=\"wandb-col\"><h3>Run summary:</h3><br/><table class=\"wandb\"><tr><td>convergence_time</td><td>2.02285</td></tr><tr><td>epoch</td><td>41</td></tr><tr><td>epoch_time</td><td>0.31748</td></tr><tr><td>learning_rate</td><td>0.0005</td></tr><tr><td>loss</td><td>0.53388</td></tr><tr><td>total_training_time</td><td>15.17304</td></tr><tr><td>train_accuracy</td><td>0.98786</td></tr><tr><td>train_concept_accuracy</td><td>0.69893</td></tr><tr><td>train_concept_loss</td><td>0.48181</td></tr><tr><td>train_f1</td><td>0.98786</td></tr><tr><td>train_precision</td><td>0.98785</td></tr><tr><td>train_recall</td><td>0.98786</td></tr><tr><td>train_task_accuracy</td><td>0.98786</td></tr><tr><td>train_task_loss</td><td>0.03335</td></tr><tr><td>val_accuracy</td><td>0.98</td></tr><tr><td>val_concept_accuracy</td><td>0.70143</td></tr><tr><td>val_concept_loss</td><td>0.50909</td></tr><tr><td>val_f1</td><td>0.98006</td></tr><tr><td>val_learning_rate</td><td>0.0005</td></tr><tr><td>val_loss</td><td>0.55311</td></tr><tr><td>val_precision</td><td>0.98053</td></tr><tr><td>val_recall</td><td>0.98</td></tr><tr><td>val_task_accuracy</td><td>0.98</td></tr><tr><td>val_task_loss</td><td>0.07618</td></tr></table><br/></div></div>"
            ],
            "text/plain": [
              "<IPython.core.display.HTML object>"
            ]
          },
          "metadata": {},
          "output_type": "display_data"
        },
        {
          "data": {
            "text/html": [
              " View run <strong style=\"color:#cdcd00\">LLR2_Trigonometry</strong> at: <a href='https://wandb.ai/alih999954-politecnico-di-torino/pytorch_explain/runs/m1h3esmj' target=\"_blank\">https://wandb.ai/alih999954-politecnico-di-torino/pytorch_explain/runs/m1h3esmj</a><br/> View project at: <a href='https://wandb.ai/alih999954-politecnico-di-torino/pytorch_explain' target=\"_blank\">https://wandb.ai/alih999954-politecnico-di-torino/pytorch_explain</a><br/>Synced 5 W&B file(s), 0 media file(s), 0 artifact file(s) and 0 other file(s)"
            ],
            "text/plain": [
              "<IPython.core.display.HTML object>"
            ]
          },
          "metadata": {},
          "output_type": "display_data"
        },
        {
          "data": {
            "text/html": [
              "Find logs at: <code>./wandb/run-20240723_091938-m1h3esmj/logs</code>"
            ],
            "text/plain": [
              "<IPython.core.display.HTML object>"
            ]
          },
          "metadata": {},
          "output_type": "display_data"
        },
        {
          "data": {
            "text/html": [
              "The new W&B backend becomes opt-out in version 0.18.0; try it out with `wandb.require(\"core\")`! See https://wandb.me/wandb-core for more information."
            ],
            "text/plain": [
              "<IPython.core.display.HTML object>"
            ]
          },
          "metadata": {},
          "output_type": "display_data"
        },
        {
          "name": "stdout",
          "output_type": "stream",
          "text": [
            "The following dataset has been loaded successfully: Dot\n"
          ]
        },
        {
          "data": {
            "text/html": [
              "Tracking run with wandb version 0.17.5"
            ],
            "text/plain": [
              "<IPython.core.display.HTML object>"
            ]
          },
          "metadata": {},
          "output_type": "display_data"
        },
        {
          "data": {
            "text/html": [
              "Run data is saved locally in <code>/content/pytorch_explain/wandb/run-20240723_092005-pa24k0v3</code>"
            ],
            "text/plain": [
              "<IPython.core.display.HTML object>"
            ]
          },
          "metadata": {},
          "output_type": "display_data"
        },
        {
          "data": {
            "text/html": [
              "Syncing run <strong><a href='https://wandb.ai/alih999954-politecnico-di-torino/pytorch_explain/runs/pa24k0v3' target=\"_blank\">LLR2_Dot</a></strong> to <a href='https://wandb.ai/alih999954-politecnico-di-torino/pytorch_explain' target=\"_blank\">Weights & Biases</a> (<a href='https://wandb.me/run' target=\"_blank\">docs</a>)<br/>"
            ],
            "text/plain": [
              "<IPython.core.display.HTML object>"
            ]
          },
          "metadata": {},
          "output_type": "display_data"
        },
        {
          "data": {
            "text/html": [
              " View project at <a href='https://wandb.ai/alih999954-politecnico-di-torino/pytorch_explain' target=\"_blank\">https://wandb.ai/alih999954-politecnico-di-torino/pytorch_explain</a>"
            ],
            "text/plain": [
              "<IPython.core.display.HTML object>"
            ]
          },
          "metadata": {},
          "output_type": "display_data"
        },
        {
          "data": {
            "text/html": [
              " View run at <a href='https://wandb.ai/alih999954-politecnico-di-torino/pytorch_explain/runs/pa24k0v3' target=\"_blank\">https://wandb.ai/alih999954-politecnico-di-torino/pytorch_explain/runs/pa24k0v3</a>"
            ],
            "text/plain": [
              "<IPython.core.display.HTML object>"
            ]
          },
          "metadata": {},
          "output_type": "display_data"
        },
        {
          "name": "stdout",
          "output_type": "stream",
          "text": [
            "-------------------------- Training Dot using LLR2 ----------------------\n",
            "Epoch 1, Loss: 1.1257635978135196, Train Accuracy: 0.4853571428571429, Val Loss: 1.1196441650390625, Val Accuracy: 0.5071428571428571, Train Precision: 0.235571556122449, Train Recall: 0.4853571428571429, Train F1: 0.31719180434857286, Val Precision: 0.2571938775510204, Val Recall: 0.5071428571428571, Val F1: 0.3412999322951929, Epoch Time: 0.3057565689086914\n",
            "Epoch 2, Loss: 1.0855651064352556, Train Accuracy: 0.4853571428571429, Val Loss: 1.067568919875405, Val Accuracy: 0.5071428571428571, Train Precision: 0.235571556122449, Train Recall: 0.4853571428571429, Train F1: 0.31719180434857286, Val Precision: 0.2571938775510204, Val Recall: 0.5071428571428571, Val F1: 0.3412999322951929, Epoch Time: 0.2976851463317871\n",
            "Epoch 3, Loss: 1.0285326960411938, Train Accuracy: 0.48714285714285716, Val Loss: 1.0057718428698452, Val Accuracy: 0.5571428571428572, Train Precision: 0.750635829286992, Train Recall: 0.48714285714285716, Train F1: 0.3211326743912044, Val Precision: 0.7635875402792697, Val Recall: 0.5571428571428572, Val F1: 0.4438006781660032, Epoch Time: 0.2947123050689697\n",
            "Epoch 4, Loss: 0.9739177037369121, Train Accuracy: 0.7142857142857143, Val Loss: 0.9576614390720021, Val Accuracy: 0.7242857142857143, Train Precision: 0.7210019211285836, Train Recall: 0.7142857142857143, Train F1: 0.7131766061774107, Val Precision: 0.7494907826674239, Val Recall: 0.7242857142857143, Val F1: 0.718089881189138, Epoch Time: 0.28920674324035645\n",
            "Epoch 5, Loss: 0.925680245865475, Train Accuracy: 0.7746428571428572, Val Loss: 0.9076899290084839, Val Accuracy: 0.7828571428571428, Train Precision: 0.7883013392857141, Train Recall: 0.7746428571428572, Train F1: 0.7708888900484839, Val Precision: 0.7938336863298346, Val Recall: 0.7828571428571428, Val F1: 0.7812087153702061, Epoch Time: 0.29932212829589844\n",
            "Epoch 6, Loss: 0.8708285296505148, Train Accuracy: 0.8132142857142857, Val Loss: 0.8513016104698181, Val Accuracy: 0.8085714285714286, Train Precision: 0.8170022445888935, Train Recall: 0.8132142857142857, Train F1: 0.8122356945595057, Val Precision: 0.8129581529581531, Val Recall: 0.8085714285714286, Val F1: 0.8081017612524461, Epoch Time: 0.32105374336242676\n",
            "Epoch 7, Loss: 0.8122248500585556, Train Accuracy: 0.8217857142857142, Val Loss: 0.7973562695763328, Val Accuracy: 0.8128571428571428, Train Precision: 0.8238391792977215, Train Recall: 0.8217857142857142, Train F1: 0.8212094527287991, Val Precision: 0.8139259549973836, Val Recall: 0.8128571428571428, Val F1: 0.8127918230214732, Epoch Time: 0.28128600120544434\n",
            "Epoch 8, Loss: 0.7633909447626634, Train Accuracy: 0.8339285714285715, Val Loss: 0.7618552934039723, Val Accuracy: 0.8257142857142857, Train Precision: 0.8367846581982035, Train Recall: 0.8339285714285715, Train F1: 0.8332737846100396, Val Precision: 0.8258277016572135, Val Recall: 0.8257142857142857, Val F1: 0.8256630331659536, Epoch Time: 0.3005943298339844\n",
            "Epoch 9, Loss: 0.7321407673033801, Train Accuracy: 0.8421428571428572, Val Loss: 0.7368556477806785, Val Accuracy: 0.8442857142857143, Train Precision: 0.8431048629287781, Train Recall: 0.8421428571428572, Train F1: 0.8418611066432696, Val Precision: 0.8444679243170622, Val Recall: 0.8442857142857143, Val F1: 0.8442923878776782, Epoch Time: 0.29318904876708984\n",
            "Epoch 10, Loss: 0.708011192354289, Train Accuracy: 0.86, Val Loss: 0.7169213620099154, Val Accuracy: 0.8628571428571429, Train Precision: 0.8615596981422274, Train Recall: 0.86, Train F1: 0.8596736210489317, Val Precision: 0.8632094013355495, Val Recall: 0.8628571428571429, Val F1: 0.8628571428571429, Epoch Time: 0.2855699062347412\n",
            "Epoch 11, Loss: 0.6881226694042032, Train Accuracy: 0.8767857142857143, Val Loss: 0.6987554105845365, Val Accuracy: 0.8771428571428571, Train Precision: 0.8775768489763056, Train Recall: 0.8767857142857143, Train F1: 0.8766144789241974, Val Precision: 0.8776465688316145, Val Recall: 0.8771428571428571, Val F1: 0.877136839601023, Epoch Time: 0.30800604820251465\n",
            "Epoch 12, Loss: 0.6716225905851885, Train Accuracy: 0.8853571428571428, Val Loss: 0.6832196712493896, Val Accuracy: 0.8914285714285715, Train Precision: 0.8862896196687933, Train Recall: 0.8853571428571428, Train F1: 0.8851844161756596, Val Precision: 0.8917924940950047, Val Recall: 0.8914285714285715, Val F1: 0.8914285714285715, Epoch Time: 0.2906336784362793\n",
            "Epoch 13, Loss: 0.6578214723955501, Train Accuracy: 0.9014285714285715, Val Loss: 0.672478898005052, Val Accuracy: 0.8942857142857142, Train Precision: 0.9018029942143003, Train Recall: 0.9014285714285715, Train F1: 0.9013499471345848, Val Precision: 0.8950433806601726, Val Recall: 0.8942857142857142, Val F1: 0.8941958410261619, Epoch Time: 0.28562426567077637\n",
            "Epoch 14, Loss: 0.6440115151080218, Train Accuracy: 0.9157142857142857, Val Loss: 0.657812004739588, Val Accuracy: 0.9042857142857142, Train Precision: 0.915875493698355, Train Recall: 0.9157142857142857, Train F1: 0.9156750019365192, Val Precision: 0.9043271383788624, Val Recall: 0.9042857142857142, Val F1: 0.9042898167367756, Epoch Time: 0.2745473384857178\n",
            "Convergence achieved at epoch 14 with validation accuracy 0.9042857142857142\n",
            "Epoch 15, Loss: 0.6321917542002418, Train Accuracy: 0.925, Val Loss: 0.648229263045571, Val Accuracy: 0.9171428571428571, Train Precision: 0.9252543046506759, Train Recall: 0.925, Train F1: 0.9249562972807198, Val Precision: 0.9187260161638298, Val Recall: 0.9171428571428571, Val F1: 0.9170235641129917, Epoch Time: 0.30826473236083984\n",
            "Epoch 16, Loss: 0.6218685724518516, Train Accuracy: 0.9396428571428571, Val Loss: 0.6380352973937988, Val Accuracy: 0.9228571428571428, Train Precision: 0.9396561283671818, Train Recall: 0.9396428571428571, Train F1: 0.9396349727615873, Val Precision: 0.9236934597202991, Val Recall: 0.9228571428571428, Val F1: 0.9227915596677397, Epoch Time: 0.28217363357543945\n",
            "Epoch 17, Loss: 0.6127078871835362, Train Accuracy: 0.9467857142857142, Val Loss: 0.6287479509006847, Val Accuracy: 0.9385714285714286, Train Precision: 0.9467858474469668, Train Recall: 0.9467857142857142, Train F1: 0.9467827588540884, Val Precision: 0.9385961411909662, Val Recall: 0.9385714285714286, Val F1: 0.9385665376717394, Epoch Time: 0.2768576145172119\n",
            "Epoch 18, Loss: 0.6048647354949604, Train Accuracy: 0.9507142857142857, Val Loss: 0.6229814453558489, Val Accuracy: 0.9342857142857143, Train Precision: 0.95074497082779, Train Recall: 0.9507142857142857, Train F1: 0.9507058267911435, Val Precision: 0.9351534913443499, Val Recall: 0.9342857142857143, Val F1: 0.934229847124371, Epoch Time: 0.3018918037414551\n",
            "Epoch 19, Loss: 0.5982208373871717, Train Accuracy: 0.9517857142857142, Val Loss: 0.6160738468170166, Val Accuracy: 0.9485714285714286, Train Precision: 0.9517864348157793, Train Recall: 0.9517857142857142, Train F1: 0.9517830365456506, Val Precision: 0.9486907767789291, Val Recall: 0.9485714285714286, Val F1: 0.9485613475028353, Epoch Time: 0.30380821228027344\n",
            "Epoch 20, Loss: 0.5923485918478533, Train Accuracy: 0.96, Val Loss: 0.6123303662646901, Val Accuracy: 0.9428571428571428, Train Precision: 0.9600467714083191, Train Recall: 0.96, Train F1: 0.9599919901879801, Val Precision: 0.9435350590018633, Val Recall: 0.9428571428571428, Val F1: 0.9428179130686569, Epoch Time: 0.28171658515930176\n",
            "Epoch 21, Loss: 0.5881829735907641, Train Accuracy: 0.9607142857142857, Val Loss: 0.6072396039962769, Val Accuracy: 0.9442857142857143, Train Precision: 0.960738307021207, Train Recall: 0.9607142857142857, Train F1: 0.9607086270043272, Val Precision: 0.9452992113446479, Val Recall: 0.9442857142857143, Val F1: 0.9442334470204504, Epoch Time: 0.27541470527648926\n",
            "Epoch 22, Loss: 0.5832437642595985, Train Accuracy: 0.9646428571428571, Val Loss: 0.6045932878147472, Val Accuracy: 0.9457142857142857, Train Precision: 0.9646634343648439, Train Recall: 0.9646428571428571, Train F1: 0.9646382384816398, Val Precision: 0.9474368164130095, Val Recall: 0.9457142857142857, Val F1: 0.9456361282119601, Epoch Time: 0.30959534645080566\n",
            "Epoch 23, Loss: 0.5802175958048214, Train Accuracy: 0.9646428571428571, Val Loss: 0.6003464135256681, Val Accuracy: 0.9528571428571428, Train Precision: 0.964692555593666, Train Recall: 0.9646428571428571, Train F1: 0.9646469049271229, Val Precision: 0.9534584767641997, Val Recall: 0.9528571428571428, Val F1: 0.9528283450033667, Epoch Time: 0.28054165840148926\n",
            "Epoch 24, Loss: 0.5761449418284676, Train Accuracy: 0.9685714285714285, Val Loss: 0.5962606993588534, Val Accuracy: 0.9557142857142857, Train Precision: 0.9685980031002158, Train Recall: 0.9685714285714285, Train F1: 0.9685669016034616, Val Precision: 0.9557161988129458, Val Recall: 0.9557142857142857, Val F1: 0.95571329129963, Epoch Time: 0.27734947204589844\n",
            "Epoch 25, Loss: 0.572578648274595, Train Accuracy: 0.9707142857142858, Val Loss: 0.5934825431216847, Val Accuracy: 0.96, Train Precision: 0.9707164732719333, Train Recall: 0.9707142857142858, Train F1: 0.9707148838702149, Val Precision: 0.9602275792726293, Val Recall: 0.96, Val F1: 0.959988237120055, Epoch Time: 0.3083009719848633\n",
            "Epoch 26, Loss: 0.5697883787480268, Train Accuracy: 0.9703571428571428, Val Loss: 0.5914484804326837, Val Accuracy: 0.9585714285714285, Train Precision: 0.970358003618114, Train Recall: 0.9703571428571428, Train F1: 0.970357449372765, Val Precision: 0.9587432223535072, Val Recall: 0.9585714285714285, Val F1: 0.9585613614093677, Epoch Time: 0.41835951805114746\n",
            "Epoch 27, Loss: 0.5675439279187809, Train Accuracy: 0.9739285714285715, Val Loss: 0.5898113738406788, Val Accuracy: 0.96, Train Precision: 0.9739282675836823, Train Recall: 0.9739285714285715, Train F1: 0.9739282951745301, Val Precision: 0.9600117598059632, Val Recall: 0.96, Val F1: 0.9599980402403973, Epoch Time: 0.3895423412322998\n",
            "Epoch 28, Loss: 0.5657183243469759, Train Accuracy: 0.9725, Val Loss: 0.5883723930879072, Val Accuracy: 0.9614285714285714, Train Precision: 0.9725089089520418, Train Recall: 0.9725, Train F1: 0.9725013514684766, Val Precision: 0.9618679502821056, Val Recall: 0.9614285714285714, Val F1: 0.961410371375054, Epoch Time: 0.4061605930328369\n",
            "Epoch 29, Loss: 0.5631898221644488, Train Accuracy: 0.975, Val Loss: 0.5865229097279635, Val Accuracy: 0.9628571428571429, Train Precision: 0.974999923397123, Train Recall: 0.975, Train F1: 0.9749994638031371, Val Precision: 0.963220492449689, Val Recall: 0.9628571428571429, Val F1: 0.9628419701213818, Epoch Time: 0.4368612766265869\n",
            "Epoch 30, Loss: 0.5614186755635522, Train Accuracy: 0.9742857142857143, Val Loss: 0.5871093923395331, Val Accuracy: 0.9542857142857143, Train Precision: 0.9742877596047019, Train Recall: 0.9742857142857143, Train F1: 0.9742862394957982, Val Precision: 0.9547985509838373, Val Recall: 0.9542857142857143, Val F1: 0.9542610601959018, Epoch Time: 0.43549203872680664\n",
            "Epoch 31, Loss: 0.5596984177827835, Train Accuracy: 0.9775, Val Loss: 0.5833066918633201, Val Accuracy: 0.96, Train Precision: 0.9775084494645441, Train Recall: 0.9775, Train F1: 0.9775011057469354, Val Precision: 0.9602275792726293, Val Recall: 0.96, Val F1: 0.959988237120055, Epoch Time: 0.4201338291168213\n",
            "Epoch 32, Loss: 0.5583254478194497, Train Accuracy: 0.9771428571428571, Val Loss: 0.5831266424872659, Val Accuracy: 0.9571428571428572, Train Precision: 0.9771448417005179, Train Recall: 0.9771428571428571, Train F1: 0.9771418532803942, Val Precision: 0.9571956033902302, Val Recall: 0.9571428571428572, Val F1: 0.9571379572237058, Epoch Time: 0.39493322372436523\n",
            "Epoch 33, Loss: 0.5559318092736331, Train Accuracy: 0.9757142857142858, Val Loss: 0.5801408561793241, Val Accuracy: 0.9614285714285714, Train Precision: 0.9757260787992494, Train Recall: 0.9757142857142858, Train F1: 0.9757156992921607, Val Precision: 0.9614307644928889, Val Recall: 0.9614285714285714, Val F1: 0.9614277053254842, Epoch Time: 0.4130082130432129\n",
            "Epoch 34, Loss: 0.555443671616641, Train Accuracy: 0.9771428571428571, Val Loss: 0.5802838585593484, Val Accuracy: 0.9585714285714285, Train Precision: 0.9771448417005179, Train Recall: 0.9771428571428571, Train F1: 0.9771418532803942, Val Precision: 0.9586566293183939, Val Recall: 0.9585714285714285, Val F1: 0.958565084550486, Epoch Time: 0.5045874118804932\n",
            "Epoch 35, Loss: 0.5543492206118323, Train Accuracy: 0.9764285714285714, Val Loss: 0.5811258500272577, Val Accuracy: 0.9628571428571429, Train Precision: 0.9764344370415574, Train Recall: 0.9764285714285714, Train F1: 0.9764295102037273, Val Precision: 0.9638035704044767, Val Recall: 0.9628571428571429, Val F1: 0.9628255657659487, Epoch Time: 0.4584176540374756\n",
            "Epoch 36, Loss: 0.5524788959459825, Train Accuracy: 0.98, Val Loss: 0.5785601139068604, Val Accuracy: 0.9585714285714285, Train Precision: 0.9800018177371317, Train Recall: 0.98, Train F1: 0.9800004084967321, Val Precision: 0.9586000616065303, Val Recall: 0.9585714285714285, Val F1: 0.9585681300576847, Epoch Time: 0.4562654495239258\n",
            "Epoch 37, Loss: 0.5514498840678822, Train Accuracy: 0.9792857142857143, Val Loss: 0.577115920456973, Val Accuracy: 0.9642857142857143, Train Precision: 0.9792857142857143, Train Recall: 0.9792857142857143, Train F1: 0.9792857142857143, Val Precision: 0.96437324929972, Val Recall: 0.9642857142857143, Val F1: 0.9642802453021432, Epoch Time: 0.30246400833129883\n",
            "Epoch 38, Loss: 0.5502210266210816, Train Accuracy: 0.9814285714285714, Val Loss: 0.5790127461606805, Val Accuracy: 0.9585714285714285, Train Precision: 0.9814570329052735, Train Recall: 0.9814285714285714, Train F1: 0.9814302780964207, Val Precision: 0.9590066938722087, Val Recall: 0.9585714285714285, Val F1: 0.9585518803657986, Epoch Time: 0.2929234504699707\n",
            "Epoch 39, Loss: 0.5500530844384973, Train Accuracy: 0.9792857142857143, Val Loss: 0.5745361989194696, Val Accuracy: 0.9628571428571429, Train Precision: 0.9792857142857143, Train Recall: 0.9792857142857143, Train F1: 0.9792857142857143, Val Precision: 0.9629115695159365, Val Recall: 0.9628571428571429, Val F1: 0.9628528962605449, Epoch Time: 0.27915263175964355\n",
            "Epoch 40, Loss: 0.5481991408900782, Train Accuracy: 0.9807142857142858, Val Loss: 0.5743447596376593, Val Accuracy: 0.9628571428571429, Train Precision: 0.9807142857142858, Train Recall: 0.9807142857142858, Train F1: 0.9807142857142858, Val Precision: 0.9628692293243829, Val Recall: 0.9628571428571429, Val F1: 0.9628553230803689, Epoch Time: 0.3015143871307373\n",
            "Epoch 41, Loss: 0.5470755127343264, Train Accuracy: 0.9821428571428571, Val Loss: 0.5757502100684426, Val Accuracy: 0.9614285714285714, Train Precision: 0.9821482909673718, Train Recall: 0.9821428571428571, Train F1: 0.982143568336157, Val Precision: 0.9617199764521193, Val Recall: 0.9614285714285714, Val F1: 0.9614151008629389, Epoch Time: 0.29189443588256836\n",
            "Total Training Time: 13.617248058319092\n",
            "\n",
            " Training on Dot using LLR2 has been completed!\n"
          ]
        },
        {
          "data": {
            "application/vnd.jupyter.widget-view+json": {
              "model_id": "65904edb8a694bd990e84852ee27ef06",
              "version_major": 2,
              "version_minor": 0
            },
            "text/plain": [
              "VBox(children=(Label(value='0.001 MB of 0.011 MB uploaded\\r'), FloatProgress(value=0.12272921108742005, max=1.…"
            ]
          },
          "metadata": {},
          "output_type": "display_data"
        },
        {
          "data": {
            "text/html": [
              "<style>\n",
              "    table.wandb td:nth-child(1) { padding: 0 10px; text-align: left ; width: auto;} td:nth-child(2) {text-align: left ; width: 100%}\n",
              "    .wandb-row { display: flex; flex-direction: row; flex-wrap: wrap; justify-content: flex-start; width: 100% }\n",
              "    .wandb-col { display: flex; flex-direction: column; flex-basis: 100%; flex: 1; padding: 10px; }\n",
              "    </style>\n",
              "<div class=\"wandb-row\"><div class=\"wandb-col\"><h3>Run history:</h3><br/><table class=\"wandb\"><tr><td>convergence_time</td><td>▁</td></tr><tr><td>epoch</td><td>▁▁▁▂▂▂▂▂▂▃▃▃▃▃▃▄▄▄▄▄▅▅▅▅▅▅▆▆▆▆▆▆▇▇▇▇▇▇██</td></tr><tr><td>epoch_time</td><td>▂▂▂▁▂▂▁▂▂▁▂▁▁▁▂▁▁▂▂▁▁▂▁▁▂▅▄▅▆▆▅▅▅█▇▇▂▂▁▂</td></tr><tr><td>learning_rate</td><td>▁▁▁▁▁▁▁▁▁▁▁▁▁▁▁▁▁▁▁▁▁▁▁▁▁▁▁▁▁▁▁▁▁▁▁▁▁▁▁▁</td></tr><tr><td>loss</td><td>██▇▆▆▅▄▄▃▃▃▃▂▂▂▂▂▂▂▂▁▁▁▁▁▁▁▁▁▁▁▁▁▁▁▁▁▁▁▁</td></tr><tr><td>total_training_time</td><td>▁</td></tr><tr><td>train_accuracy</td><td>▁▁▁▄▅▆▆▆▆▆▇▇▇▇▇▇████████████████████████</td></tr><tr><td>train_concept_accuracy</td><td>▁▄▅▇▇██████████████▇▇███▇███████████████</td></tr><tr><td>train_concept_loss</td><td>▇█▆▆▄▃▃▃▂▃▃▂▂▃▃▃▂▂▃▃▂▁▂▂▂▃▂▂▃▂▂▂▂▃▂▂▁▂▂▂</td></tr><tr><td>train_f1</td><td>▁▁▁▅▆▆▆▆▇▇▇▇▇▇▇█████████████████████████</td></tr><tr><td>train_precision</td><td>▁▁▆▆▆▆▇▇▇▇▇▇▇▇▇█████████████████████████</td></tr><tr><td>train_recall</td><td>▁▁▁▄▅▆▆▆▆▆▇▇▇▇▇▇████████████████████████</td></tr><tr><td>train_task_accuracy</td><td>▁▁▁▄▅▆▆▆▆▆▇▇▇▇▇▇████████████████████████</td></tr><tr><td>train_task_loss</td><td>██▇▇▆▆▅▅▄▄▃▃▃▂▃▂▂▂▂▁▂▂▁▂▂▂▂▁▁▂▂▁▂▁▁▁▁▁▁▂</td></tr><tr><td>val_accuracy</td><td>▁▁▂▄▅▆▆▆▆▆▇▇▇▇▇▇████████████████████████</td></tr><tr><td>val_concept_accuracy</td><td>▁▄▆▇██████████▇█▇█▇██▇██████████████████</td></tr><tr><td>val_concept_loss</td><td>██▅▅▄▄▄▃▂▃▃▁▂▂▃▁▂▂▂▁▂▂▂▁▂▁▂▁▂▁▂▂▃▁▂▂▃▃▁▂</td></tr><tr><td>val_f1</td><td>▁▁▂▅▆▆▆▆▇▇▇▇▇▇▇█████████████████████████</td></tr><tr><td>val_learning_rate</td><td>▁▁▁▁▁▁▁▁▁▁▁▁▁▁▁▁▁▁▁▁▁▁▁▁▁▁▁▁▁▁▁▁▁▁▁▁▁▁▁▁</td></tr><tr><td>val_loss</td><td>█▇▇▆▅▅▄▃▃▃▃▂▂▂▂▂▂▂▂▁▁▁▁▁▁▁▁▁▁▁▁▁▁▁▁▁▁▁▁▁</td></tr><tr><td>val_precision</td><td>▁▁▆▆▆▇▇▇▇▇▇▇▇▇██████████████████████████</td></tr><tr><td>val_recall</td><td>▁▁▂▄▅▆▆▆▆▆▇▇▇▇▇▇████████████████████████</td></tr><tr><td>val_task_accuracy</td><td>▁▁▂▄▅▆▆▆▆▆▇▇▇▇▇▇████████████████████████</td></tr><tr><td>val_task_loss</td><td>█▇▇▇▆▆▅▄▄▃▄▃▄▂▃▃▃▂▁▂▂▁▁▁▁▁▂▁▁▁▂▁▁▁▂▁▂▁▂▂</td></tr></table><br/></div><div class=\"wandb-col\"><h3>Run summary:</h3><br/><table class=\"wandb\"><tr><td>convergence_time</td><td>4.15127</td></tr><tr><td>epoch</td><td>41</td></tr><tr><td>epoch_time</td><td>0.29189</td></tr><tr><td>learning_rate</td><td>0.0005</td></tr><tr><td>loss</td><td>0.54708</td></tr><tr><td>total_training_time</td><td>13.61725</td></tr><tr><td>train_accuracy</td><td>0.98214</td></tr><tr><td>train_concept_accuracy</td><td>0.72179</td></tr><tr><td>train_concept_loss</td><td>0.5164</td></tr><tr><td>train_f1</td><td>0.98214</td></tr><tr><td>train_precision</td><td>0.98215</td></tr><tr><td>train_recall</td><td>0.98214</td></tr><tr><td>train_task_accuracy</td><td>0.98214</td></tr><tr><td>train_task_loss</td><td>0.03697</td></tr><tr><td>val_accuracy</td><td>0.96143</td></tr><tr><td>val_concept_accuracy</td><td>0.75286</td></tr><tr><td>val_concept_loss</td><td>0.50853</td></tr><tr><td>val_f1</td><td>0.96142</td></tr><tr><td>val_learning_rate</td><td>0.0005</td></tr><tr><td>val_loss</td><td>0.57575</td></tr><tr><td>val_precision</td><td>0.96172</td></tr><tr><td>val_recall</td><td>0.96143</td></tr><tr><td>val_task_accuracy</td><td>0.96143</td></tr><tr><td>val_task_loss</td><td>0.06519</td></tr></table><br/></div></div>"
            ],
            "text/plain": [
              "<IPython.core.display.HTML object>"
            ]
          },
          "metadata": {},
          "output_type": "display_data"
        },
        {
          "data": {
            "text/html": [
              " View run <strong style=\"color:#cdcd00\">LLR2_Dot</strong> at: <a href='https://wandb.ai/alih999954-politecnico-di-torino/pytorch_explain/runs/pa24k0v3' target=\"_blank\">https://wandb.ai/alih999954-politecnico-di-torino/pytorch_explain/runs/pa24k0v3</a><br/> View project at: <a href='https://wandb.ai/alih999954-politecnico-di-torino/pytorch_explain' target=\"_blank\">https://wandb.ai/alih999954-politecnico-di-torino/pytorch_explain</a><br/>Synced 5 W&B file(s), 0 media file(s), 0 artifact file(s) and 0 other file(s)"
            ],
            "text/plain": [
              "<IPython.core.display.HTML object>"
            ]
          },
          "metadata": {},
          "output_type": "display_data"
        },
        {
          "data": {
            "text/html": [
              "Find logs at: <code>./wandb/run-20240723_092005-pa24k0v3/logs</code>"
            ],
            "text/plain": [
              "<IPython.core.display.HTML object>"
            ]
          },
          "metadata": {},
          "output_type": "display_data"
        },
        {
          "data": {
            "text/html": [
              "The new W&B backend becomes opt-out in version 0.18.0; try it out with `wandb.require(\"core\")`! See https://wandb.me/wandb-core for more information."
            ],
            "text/plain": [
              "<IPython.core.display.HTML object>"
            ]
          },
          "metadata": {},
          "output_type": "display_data"
        },
        {
          "name": "stdout",
          "output_type": "stream",
          "text": [
            "===========================================================\n",
            "Training on LLR3 ... \n",
            "--------------------------------\n",
            "The following dataset has been loaded successfully: XOR\n"
          ]
        },
        {
          "data": {
            "text/html": [
              "Tracking run with wandb version 0.17.5"
            ],
            "text/plain": [
              "<IPython.core.display.HTML object>"
            ]
          },
          "metadata": {},
          "output_type": "display_data"
        },
        {
          "data": {
            "text/html": [
              "Run data is saved locally in <code>/content/pytorch_explain/wandb/run-20240723_092027-jw3go8q5</code>"
            ],
            "text/plain": [
              "<IPython.core.display.HTML object>"
            ]
          },
          "metadata": {},
          "output_type": "display_data"
        },
        {
          "data": {
            "text/html": [
              "Syncing run <strong><a href='https://wandb.ai/alih999954-politecnico-di-torino/pytorch_explain/runs/jw3go8q5' target=\"_blank\">LLR3_XOR</a></strong> to <a href='https://wandb.ai/alih999954-politecnico-di-torino/pytorch_explain' target=\"_blank\">Weights & Biases</a> (<a href='https://wandb.me/run' target=\"_blank\">docs</a>)<br/>"
            ],
            "text/plain": [
              "<IPython.core.display.HTML object>"
            ]
          },
          "metadata": {},
          "output_type": "display_data"
        },
        {
          "data": {
            "text/html": [
              " View project at <a href='https://wandb.ai/alih999954-politecnico-di-torino/pytorch_explain' target=\"_blank\">https://wandb.ai/alih999954-politecnico-di-torino/pytorch_explain</a>"
            ],
            "text/plain": [
              "<IPython.core.display.HTML object>"
            ]
          },
          "metadata": {},
          "output_type": "display_data"
        },
        {
          "data": {
            "text/html": [
              " View run at <a href='https://wandb.ai/alih999954-politecnico-di-torino/pytorch_explain/runs/jw3go8q5' target=\"_blank\">https://wandb.ai/alih999954-politecnico-di-torino/pytorch_explain/runs/jw3go8q5</a>"
            ],
            "text/plain": [
              "<IPython.core.display.HTML object>"
            ]
          },
          "metadata": {},
          "output_type": "display_data"
        },
        {
          "name": "stdout",
          "output_type": "stream",
          "text": [
            "-------------------------- Training XOR using LLR3 ----------------------\n",
            "Epoch 1, Loss: 1.0685490315610713, Train Accuracy: 0.4975, Val Loss: 1.0641127608039163, Val Accuracy: 0.46285714285714286, Train Precision: 0.24750625, Train Recall: 0.4975, Train F1: 0.33055926544240405, Val Precision: 0.23517778245318746, Val Recall: 0.46285714285714286, Val F1: 0.31188616071428577, Epoch Time: 0.30971598625183105\n",
            "Epoch 2, Loss: 1.059847512028434, Train Accuracy: 0.5396428571428571, Val Loss: 1.0550726110284978, Val Accuracy: 0.6514285714285715, Train Precision: 0.5538103672050847, Train Recall: 0.5396428571428571, Train F1: 0.5036006859500068, Val Precision: 0.6802329605906909, Val Recall: 0.6514285714285715, Val F1: 0.6348508634222919, Epoch Time: 0.3052806854248047\n",
            "Epoch 3, Loss: 1.0492621876976707, Train Accuracy: 0.5785714285714286, Val Loss: 1.0430228926918723, Val Accuracy: 0.6771428571428572, Train Precision: 0.580036605398973, Train Recall: 0.5785714285714286, Train F1: 0.5771059531907466, Val Precision: 0.7369697485222532, Val Recall: 0.6771428571428572, Val F1: 0.6533796352155726, Epoch Time: 0.3225266933441162\n",
            "Epoch 4, Loss: 1.0362618430094286, Train Accuracy: 0.6864285714285714, Val Loss: 1.029565074227073, Val Accuracy: 0.7314285714285714, Train Precision: 0.7498586219392246, Train Recall: 0.6864285714285714, Train F1: 0.6645271629613719, Val Precision: 0.7875749386512596, Val Recall: 0.7314285714285714, Val F1: 0.7163890732097912, Epoch Time: 0.4375483989715576\n",
            "Epoch 5, Loss: 1.0213057398796082, Train Accuracy: 0.68, Val Loss: 1.0131053707816384, Val Accuracy: 0.7114285714285714, Train Precision: 0.6980793155539241, Train Recall: 0.68, Train F1: 0.6720812030814809, Val Precision: 0.7476241520297688, Val Recall: 0.7114285714285714, Val F1: 0.6992031182752436, Epoch Time: 0.5192070007324219\n",
            "Epoch 6, Loss: 1.0008571418848904, Train Accuracy: 0.6939285714285715, Val Loss: 0.9895147952166471, Val Accuracy: 0.69, Train Precision: 0.723215506397206, Train Recall: 0.6939285714285715, Train F1: 0.6830735685367265, Val Precision: 0.709890502916254, Val Recall: 0.69, Val F1: 0.681241125128587, Epoch Time: 0.4537343978881836\n",
            "Epoch 7, Loss: 0.9736500653353605, Train Accuracy: 0.7092857142857143, Val Loss: 0.9591602357951078, Val Accuracy: 0.7271428571428571, Train Precision: 0.7486460847684269, Train Recall: 0.7092857142857143, Train F1: 0.6968435464689281, Val Precision: 0.7603599843378671, Val Recall: 0.7271428571428571, Val F1: 0.7170683046864792, Epoch Time: 0.435605525970459\n",
            "Epoch 8, Loss: 0.9399361813610251, Train Accuracy: 0.75, Val Loss: 0.9223606207154014, Val Accuracy: 0.79, Train Precision: 0.761945440084011, Train Recall: 0.75, Train F1: 0.7469176284058799, Val Precision: 0.7974362864077671, Val Recall: 0.79, Val F1: 0.7883481527709979, Epoch Time: 0.40926027297973633\n",
            "Epoch 9, Loss: 0.8962377458810806, Train Accuracy: 0.8114285714285714, Val Loss: 0.8715719092975963, Val Accuracy: 0.83, Train Precision: 0.8179206489107503, Train Recall: 0.8114285714285714, Train F1: 0.810372830969607, Val Precision: 0.8310480693459418, Val Recall: 0.83, Val F1: 0.8297736990301388, Epoch Time: 0.3768455982208252\n",
            "Epoch 10, Loss: 0.8394388407468796, Train Accuracy: 0.8578571428571429, Val Loss: 0.8082010637630116, Val Accuracy: 0.8885714285714286, Train Precision: 0.858501641719445, Train Recall: 0.8578571428571429, Train F1: 0.8578108624782854, Val Precision: 0.8889341848190593, Val Recall: 0.8885714285714286, Val F1: 0.8885714285714286, Epoch Time: 0.43642115592956543\n",
            "Epoch 11, Loss: 0.7714507186954672, Train Accuracy: 0.8935714285714286, Val Loss: 0.7351359074765985, Val Accuracy: 0.9157142857142857, Train Precision: 0.8945275980573323, Train Recall: 0.8935714285714286, Train F1: 0.8935215623566113, Val Precision: 0.9167547390985555, Val Recall: 0.9157142857142857, Val F1: 0.9156938142793871, Epoch Time: 0.44669032096862793\n",
            "Convergence achieved at epoch 11 with validation accuracy 0.9157142857142857\n",
            "Epoch 12, Loss: 0.702996851368384, Train Accuracy: 0.9221428571428572, Val Loss: 0.6738020290027965, Val Accuracy: 0.9285714285714286, Train Precision: 0.9241626465937085, Train Recall: 0.9221428571428572, Train F1: 0.9220646151112256, Val Precision: 0.9310210635840044, Val Recall: 0.9285714285714286, Val F1: 0.9285107554734136, Epoch Time: 0.46535372734069824\n",
            "Epoch 13, Loss: 0.651746006174521, Train Accuracy: 0.9417857142857143, Val Loss: 0.6309559345245361, Val Accuracy: 0.96, Train Precision: 0.9430722224267865, Train Recall: 0.9417857142857143, Train F1: 0.9417517274461514, Val Precision: 0.9605605507509126, Val Recall: 0.96, Val F1: 0.959998040800333, Epoch Time: 0.4667661190032959\n",
            "Epoch 14, Loss: 0.6192737899043343, Train Accuracy: 0.9610714285714286, Val Loss: 0.607184269211509, Val Accuracy: 0.9728571428571429, Train Precision: 0.9615544028355586, Train Recall: 0.9610714285714286, Train F1: 0.9610645010185561, Val Precision: 0.9729591836734693, Val Recall: 0.9728571428571429, Val F1: 0.9728585277674515, Epoch Time: 0.357008695602417\n",
            "Epoch 15, Loss: 0.5999537015503104, Train Accuracy: 0.9764285714285714, Val Loss: 0.5934883789582686, Val Accuracy: 0.9814285714285714, Train Precision: 0.9764773940777091, Train Recall: 0.9764285714285714, Train F1: 0.9764285714285713, Val Precision: 0.9819125853895255, Val Recall: 0.9814285714285714, Val F1: 0.9814281545180997, Epoch Time: 0.33187103271484375\n",
            "Epoch 16, Loss: 0.5896043316884474, Train Accuracy: 0.9757142857142858, Val Loss: 0.5863902785561301, Val Accuracy: 0.9828571428571429, Train Precision: 0.9757142857142858, Train Recall: 0.9757142857142858, Train F1: 0.9757142857142858, Val Precision: 0.9832450273096357, Val Recall: 0.9828571428571429, Val F1: 0.9828501400560224, Epoch Time: 0.3218111991882324\n",
            "Epoch 17, Loss: 0.5803307078101418, Train Accuracy: 0.9832142857142857, Val Loss: 0.5766920013861223, Val Accuracy: 0.9842857142857143, Train Precision: 0.9832447764879713, Train Recall: 0.9832142857142857, Train F1: 0.9832143563685213, Val Precision: 0.9843814192343604, Val Recall: 0.9842857142857143, Val F1: 0.9842833079329429, Epoch Time: 0.31061220169067383\n",
            "Epoch 18, Loss: 0.5741990249265324, Train Accuracy: 0.9853571428571428, Val Loss: 0.5711687478152189, Val Accuracy: 0.9871428571428571, Train Precision: 0.9853573381987983, Train Recall: 0.9853571428571428, Train F1: 0.9853571148406683, Val Precision: 0.9871463100526336, Val Recall: 0.9871428571428571, Val F1: 0.9871425684418279, Epoch Time: 0.3061079978942871\n",
            "Epoch 19, Loss: 0.5694456046277826, Train Accuracy: 0.9853571428571428, Val Loss: 0.5674727017229254, Val Accuracy: 0.9885714285714285, Train Precision: 0.9853595284451301, Train Recall: 0.9853571428571428, Train F1: 0.9853572044925695, Val Precision: 0.9885883161095217, Val Recall: 0.9885714285714285, Val F1: 0.9885718017980191, Epoch Time: 0.33121752738952637\n",
            "Epoch 20, Loss: 0.565488185394894, Train Accuracy: 0.9864285714285714, Val Loss: 0.5640065670013428, Val Accuracy: 0.9871428571428571, Train Precision: 0.9864538740228909, Train Recall: 0.9864285714285714, Train F1: 0.9864286406706954, Val Precision: 0.9871473591886053, Val Recall: 0.9871428571428571, Val F1: 0.9871430933335044, Epoch Time: 0.3030672073364258\n",
            "Epoch 21, Loss: 0.5628660348328677, Train Accuracy: 0.9882142857142857, Val Loss: 0.5606314106421038, Val Accuracy: 0.9885714285714285, Train Precision: 0.9882145769003919, Train Recall: 0.9882142857142857, Train F1: 0.9882143052573454, Val Precision: 0.9885864549901593, Val Recall: 0.9885714285714285, Val F1: 0.9885708686401136, Epoch Time: 0.3234713077545166\n",
            "Epoch 22, Loss: 0.5595276897603815, Train Accuracy: 0.9875, Val Loss: 0.5582878698002208, Val Accuracy: 0.9871428571428571, Train Precision: 0.9875021046992194, Train Recall: 0.9875, Train F1: 0.987499918683227, Val Precision: 0.9871770907716217, Val Recall: 0.9871428571428571, Val F1: 0.987141833466178, Epoch Time: 0.31586503982543945\n",
            "Epoch 23, Loss: 0.5570832436734979, Train Accuracy: 0.9910714285714286, Val Loss: 0.55616356567903, Val Accuracy: 0.9871428571428571, Train Precision: 0.9910716472374608, Train Recall: 0.9910714285714286, Train F1: 0.9910714114882124, Val Precision: 0.9871463100526336, Val Recall: 0.9871428571428571, Val F1: 0.9871425684418279, Epoch Time: 0.29534316062927246\n",
            "Epoch 24, Loss: 0.5552080287174745, Train Accuracy: 0.9885714285714285, Val Loss: 0.5538361126726324, Val Accuracy: 0.99, Train Precision: 0.9885755801939906, Train Recall: 0.9885714285714285, Train F1: 0.9885714868812101, Val Precision: 0.9900035928926052, Val Recall: 0.99, Val F1: 0.9899997754547551, Epoch Time: 0.30474853515625\n",
            "Epoch 25, Loss: 0.5530454157428308, Train Accuracy: 0.9896428571428572, Val Loss: 0.5523469231345437, Val Accuracy: 0.9914285714285714, Train Precision: 0.9896492875495665, Train Recall: 0.9896428571428572, Train F1: 0.9896429165913576, Val Precision: 0.9914941579698026, Val Recall: 0.9914285714285714, Val F1: 0.9914289912844908, Epoch Time: 0.3120396137237549\n",
            "Epoch 26, Loss: 0.5507175583731044, Train Accuracy: 0.9935714285714285, Val Loss: 0.5508461486209523, Val Accuracy: 0.9914285714285714, Train Precision: 0.9935755495816053, Train Recall: 0.9935714285714285, Train F1: 0.9935714613706809, Val Precision: 0.9914453190146914, Val Recall: 0.9914285714285714, Val F1: 0.9914288513485144, Epoch Time: 0.3043532371520996\n",
            "Epoch 27, Loss: 0.54962642761794, Train Accuracy: 0.9921428571428571, Val Loss: 0.5504910891706293, Val Accuracy: 0.9842857142857143, Train Precision: 0.9921682472011351, Train Recall: 0.9921428571428571, Train F1: 0.9921428972304024, Val Precision: 0.98429030963811, Val Recall: 0.9842857142857143, Val F1: 0.984286002963172, Epoch Time: 0.3119790554046631\n",
            "Epoch 28, Loss: 0.5487104153091257, Train Accuracy: 0.9903571428571428, Val Loss: 0.5477431795813821, Val Accuracy: 0.9942857142857143, Train Precision: 0.9903635696195298, Train Recall: 0.9903571428571428, Train F1: 0.9903571982057467, Val Precision: 0.9943023219198611, Val Recall: 0.9942857142857143, Val F1: 0.9942859008990096, Epoch Time: 0.3238198757171631\n",
            "Epoch 29, Loss: 0.5471262268044732, Train Accuracy: 0.9910714285714286, Val Loss: 0.5481168736111034, Val Accuracy: 0.9871428571428571, Train Precision: 0.9911020957313936, Train Recall: 0.9910714285714286, Train F1: 0.9910714661534687, Val Precision: 0.9871770907716217, Val Recall: 0.9871428571428571, Val F1: 0.987141833466178, Epoch Time: 0.3101787567138672\n",
            "Epoch 30, Loss: 0.5462918240915645, Train Accuracy: 0.9921428571428571, Val Loss: 0.5455935380675576, Val Accuracy: 0.9914285714285714, Train Precision: 0.9921428571428571, Train Recall: 0.9921428571428571, Train F1: 0.9921428571428571, Val Precision: 0.9914285714285714, Val Recall: 0.9914285714285714, Val F1: 0.9914285714285714, Epoch Time: 0.30851006507873535\n",
            "Epoch 31, Loss: 0.5448602559891614, Train Accuracy: 0.9910714285714286, Val Loss: 0.546584123914892, Val Accuracy: 0.9828571428571429, Train Precision: 0.9910778516894932, Train Recall: 0.9910714285714286, Train F1: 0.9910714798201359, Val Precision: 0.98287151595332, Val Recall: 0.9828571428571429, Val F1: 0.9828563029601702, Epoch Time: 0.3511016368865967\n",
            "Epoch 32, Loss: 0.5439260303974152, Train Accuracy: 0.9935714285714285, Val Loss: 0.5436537049033425, Val Accuracy: 0.9942857142857143, Train Precision: 0.9935806319288939, Train Recall: 0.9935714285714285, Train F1: 0.9935714679303503, Val Precision: 0.9943023219198611, Val Recall: 0.9942857142857143, Val F1: 0.9942859008990096, Epoch Time: 0.3100299835205078\n",
            "Epoch 33, Loss: 0.543838307261467, Train Accuracy: 0.99, Val Loss: 0.5439405928958546, Val Accuracy: 0.99, Train Precision: 0.9900009286098048, Train Recall: 0.99, Train F1: 0.9899999591823406, Val Precision: 0.9901988636363636, Val Recall: 0.99, Val F1: 0.9900004285793005, Epoch Time: 0.3119997978210449\n",
            "Epoch 34, Loss: 0.5423325577920134, Train Accuracy: 0.9928571428571429, Val Loss: 0.5424144593152133, Val Accuracy: 0.99, Train Precision: 0.9928734402415512, Train Recall: 0.9928571428571429, Train F1: 0.992857186589122, Val Precision: 0.990034793688131, Val Recall: 0.99, Val F1: 0.9899992038070273, Epoch Time: 0.3257873058319092\n",
            "Epoch 35, Loss: 0.5417060892690312, Train Accuracy: 0.9935714285714285, Val Loss: 0.5410372777418657, Val Accuracy: 0.9928571428571429, Train Precision: 0.9935755495816053, Train Recall: 0.9935714285714285, Train F1: 0.9935714613706809, Val Precision: 0.9928614582895959, Val Recall: 0.9928571428571429, Val F1: 0.992857274074169, Epoch Time: 0.31019163131713867\n",
            "Epoch 36, Loss: 0.5408219451254065, Train Accuracy: 0.9925, Val Loss: 0.5431373281912371, Val Accuracy: 0.9828571428571429, Train Precision: 0.9925002244971264, Train Recall: 0.9925, Train F1: 0.9924999856500984, Val Precision: 0.9832450273096357, Val Recall: 0.9828571428571429, Val F1: 0.9828501400560224, Epoch Time: 0.3035907745361328\n",
            "Epoch 37, Loss: 0.5400002368471839, Train Accuracy: 0.9946428571428572, Val Loss: 0.5407989512790333, Val Accuracy: 0.99, Train Precision: 0.9946451858790682, Train Recall: 0.9946428571428572, Train F1: 0.9946428796924033, Val Precision: 0.990037225705329, Val Recall: 0.99, Val F1: 0.99000042861429, Epoch Time: 0.2971832752227783\n",
            "Epoch 38, Loss: 0.5402635674584996, Train Accuracy: 0.9925, Val Loss: 0.5420015941966664, Val Accuracy: 0.9842857142857143, Train Precision: 0.9925064158294201, Train Recall: 0.9925, Train F1: 0.9925000430489143, Val Precision: 0.9842890272126618, Val Recall: 0.9842857142857143, Val F1: 0.9842853614289009, Epoch Time: 0.33881521224975586\n",
            "Epoch 39, Loss: 0.5390135598453608, Train Accuracy: 0.9957142857142857, Val Loss: 0.5412352816625075, Val Accuracy: 0.9828571428571429, Train Precision: 0.9957234825119808, Train Recall: 0.9957142857142857, Train F1: 0.995714311953567, Val Precision: 0.98287151595332, Val Recall: 0.9828571428571429, Val F1: 0.9828563029601702, Epoch Time: 0.3100605010986328\n",
            "Epoch 40, Loss: 0.5378492474555969, Train Accuracy: 0.9953571428571428, Val Loss: 0.5386717563325708, Val Accuracy: 0.9928571428571429, Train Precision: 0.9953573790164575, Train Recall: 0.9953571428571428, Train F1: 0.9953571339738704, Val Precision: 0.9928614582895959, Val Recall: 0.9928571428571429, Val F1: 0.992857274074169, Epoch Time: 0.3214242458343506\n",
            "Epoch 41, Loss: 0.5377269617535851, Train Accuracy: 0.9917857142857143, Val Loss: 0.5401594530452382, Val Accuracy: 0.9828571428571429, Train Precision: 0.9917880605147796, Train Recall: 0.9917857142857143, Train F1: 0.9917857488616852, Val Precision: 0.9832450273096357, Val Recall: 0.9828571428571429, Val F1: 0.9828501400560224, Epoch Time: 0.3249380588531494\n",
            "Total Training Time: 14.33457636833191\n",
            "\n",
            " Training on XOR using LLR3 has been completed!\n"
          ]
        },
        {
          "data": {
            "application/vnd.jupyter.widget-view+json": {
              "model_id": "1a6b08ee1ee74c55ab5968c19aa77491",
              "version_major": 2,
              "version_minor": 0
            },
            "text/plain": [
              "VBox(children=(Label(value='0.001 MB of 0.001 MB uploaded\\r'), FloatProgress(value=1.0, max=1.0)))"
            ]
          },
          "metadata": {},
          "output_type": "display_data"
        },
        {
          "data": {
            "text/html": [
              "<style>\n",
              "    table.wandb td:nth-child(1) { padding: 0 10px; text-align: left ; width: auto;} td:nth-child(2) {text-align: left ; width: 100%}\n",
              "    .wandb-row { display: flex; flex-direction: row; flex-wrap: wrap; justify-content: flex-start; width: 100% }\n",
              "    .wandb-col { display: flex; flex-direction: column; flex-basis: 100%; flex: 1; padding: 10px; }\n",
              "    </style>\n",
              "<div class=\"wandb-row\"><div class=\"wandb-col\"><h3>Run history:</h3><br/><table class=\"wandb\"><tr><td>convergence_time</td><td>▁</td></tr><tr><td>epoch</td><td>▁▁▁▂▂▂▂▂▂▃▃▃▃▃▃▄▄▄▄▄▅▅▅▅▅▅▆▆▆▆▆▆▇▇▇▇▇▇██</td></tr><tr><td>epoch_time</td><td>▁▁▂▅█▆▅▅▄▅▆▆▆▃▂▂▁▁▂▁▂▂▁▁▂▁▂▂▁▁▃▁▂▂▁▁▁▂▁▂</td></tr><tr><td>learning_rate</td><td>▁▁▁▁▁▁▁▁▁▁▁▁▁▁▁▁▁▁▁▁▁▁▁▁▁▁▁▁▁▁▁▁▁▁▁▁▁▁▁▁</td></tr><tr><td>loss</td><td>████▇▇▇▆▆▅▄▃▃▂▂▂▂▁▁▁▁▁▁▁▁▁▁▁▁▁▁▁▁▁▁▁▁▁▁▁</td></tr><tr><td>total_training_time</td><td>▁</td></tr><tr><td>train_accuracy</td><td>▁▂▂▄▄▄▄▅▅▆▇▇▇███████████████████████████</td></tr><tr><td>train_concept_accuracy</td><td>▁▁▃▅▆▆▆▇████████████████████████████████</td></tr><tr><td>train_concept_loss</td><td>█▇▇▇▇▆▅▅▅▄▄▄▃▃▂▄▂▂▃▂▃▃▂▃▃▃▃▃▂▃▄▃▃▂▃▁▂▂▂▂</td></tr><tr><td>train_f1</td><td>▁▃▄▅▅▅▅▅▆▇▇▇▇███████████████████████████</td></tr><tr><td>train_precision</td><td>▁▄▄▆▅▅▆▆▆▇▇▇████████████████████████████</td></tr><tr><td>train_recall</td><td>▁▂▂▄▄▄▄▅▅▆▇▇▇███████████████████████████</td></tr><tr><td>train_task_accuracy</td><td>▁▂▂▄▄▄▄▅▅▆▇▇▇███████████████████████████</td></tr><tr><td>train_task_loss</td><td>███████▇▇▆▅▄▃▂▂▂▂▁▂▁▁▁▁▁▁▁▁▁▁▁▁▂▁▁▁▁▁▁▁▁</td></tr><tr><td>val_accuracy</td><td>▁▃▄▅▄▄▄▅▆▇▇▇████████████████████████████</td></tr><tr><td>val_concept_accuracy</td><td>▁▂▄▅▆▆▇▇████████████████████████████████</td></tr><tr><td>val_concept_loss</td><td>█▇▇▆▆▆▆▄▄▄▄▂▃▃▃▂▂▂▂▃▂▂▂▂▁▂▁▂▁▂▁▂▂▂▁▂▂▃▁▂</td></tr><tr><td>val_f1</td><td>▁▄▅▅▅▅▅▆▆▇▇▇████████████████████████████</td></tr><tr><td>val_learning_rate</td><td>▁▁▁▁▁▁▁▁▁▁▁▁▁▁▁▁▁▁▁▁▁▁▁▁▁▁▁▁▁▁▁▁▁▁▁▁▁▁▁▁</td></tr><tr><td>val_loss</td><td>████▇▇▇▆▅▅▄▃▂▂▂▂▁▁▁▁▁▁▁▁▁▁▁▁▁▁▁▁▁▁▁▁▁▁▁▁</td></tr><tr><td>val_precision</td><td>▁▅▆▆▆▅▆▆▆▇▇▇████████████████████████████</td></tr><tr><td>val_recall</td><td>▁▃▄▅▄▄▄▅▆▇▇▇████████████████████████████</td></tr><tr><td>val_task_accuracy</td><td>▁▃▄▅▄▄▄▅▆▇▇▇████████████████████████████</td></tr><tr><td>val_task_loss</td><td>██████▇▇▆▆▄▃▃▂▂▂▂▂▁▁▂▁▁▁▁▁▁▁▁▁▁▁▁▁▁▁▁▂▁▁</td></tr></table><br/></div><div class=\"wandb-col\"><h3>Run summary:</h3><br/><table class=\"wandb\"><tr><td>convergence_time</td><td>4.47716</td></tr><tr><td>epoch</td><td>41</td></tr><tr><td>epoch_time</td><td>0.32494</td></tr><tr><td>learning_rate</td><td>0.0005</td></tr><tr><td>loss</td><td>0.53773</td></tr><tr><td>total_training_time</td><td>14.33458</td></tr><tr><td>train_accuracy</td><td>0.99179</td></tr><tr><td>train_concept_accuracy</td><td>0.74429</td></tr><tr><td>train_concept_loss</td><td>0.51043</td></tr><tr><td>train_f1</td><td>0.99179</td></tr><tr><td>train_precision</td><td>0.99179</td></tr><tr><td>train_recall</td><td>0.99179</td></tr><tr><td>train_task_accuracy</td><td>0.99179</td></tr><tr><td>train_task_loss</td><td>0.01759</td></tr><tr><td>val_accuracy</td><td>0.98286</td></tr><tr><td>val_concept_accuracy</td><td>0.73571</td></tr><tr><td>val_concept_loss</td><td>0.53866</td></tr><tr><td>val_f1</td><td>0.98285</td></tr><tr><td>val_learning_rate</td><td>0.0005</td></tr><tr><td>val_loss</td><td>0.54016</td></tr><tr><td>val_precision</td><td>0.98325</td></tr><tr><td>val_recall</td><td>0.98286</td></tr><tr><td>val_task_accuracy</td><td>0.98286</td></tr><tr><td>val_task_loss</td><td>0.05052</td></tr></table><br/></div></div>"
            ],
            "text/plain": [
              "<IPython.core.display.HTML object>"
            ]
          },
          "metadata": {},
          "output_type": "display_data"
        },
        {
          "data": {
            "text/html": [
              " View run <strong style=\"color:#cdcd00\">LLR3_XOR</strong> at: <a href='https://wandb.ai/alih999954-politecnico-di-torino/pytorch_explain/runs/jw3go8q5' target=\"_blank\">https://wandb.ai/alih999954-politecnico-di-torino/pytorch_explain/runs/jw3go8q5</a><br/> View project at: <a href='https://wandb.ai/alih999954-politecnico-di-torino/pytorch_explain' target=\"_blank\">https://wandb.ai/alih999954-politecnico-di-torino/pytorch_explain</a><br/>Synced 5 W&B file(s), 0 media file(s), 0 artifact file(s) and 0 other file(s)"
            ],
            "text/plain": [
              "<IPython.core.display.HTML object>"
            ]
          },
          "metadata": {},
          "output_type": "display_data"
        },
        {
          "data": {
            "text/html": [
              "Find logs at: <code>./wandb/run-20240723_092027-jw3go8q5/logs</code>"
            ],
            "text/plain": [
              "<IPython.core.display.HTML object>"
            ]
          },
          "metadata": {},
          "output_type": "display_data"
        },
        {
          "data": {
            "text/html": [
              "The new W&B backend becomes opt-out in version 0.18.0; try it out with `wandb.require(\"core\")`! See https://wandb.me/wandb-core for more information."
            ],
            "text/plain": [
              "<IPython.core.display.HTML object>"
            ]
          },
          "metadata": {},
          "output_type": "display_data"
        },
        {
          "name": "stdout",
          "output_type": "stream",
          "text": [
            "The following dataset has been loaded successfully: XNOR\n"
          ]
        },
        {
          "data": {
            "text/html": [
              "Tracking run with wandb version 0.17.5"
            ],
            "text/plain": [
              "<IPython.core.display.HTML object>"
            ]
          },
          "metadata": {},
          "output_type": "display_data"
        },
        {
          "data": {
            "text/html": [
              "Run data is saved locally in <code>/content/pytorch_explain/wandb/run-20240723_092050-mn6jih9d</code>"
            ],
            "text/plain": [
              "<IPython.core.display.HTML object>"
            ]
          },
          "metadata": {},
          "output_type": "display_data"
        },
        {
          "data": {
            "text/html": [
              "Syncing run <strong><a href='https://wandb.ai/alih999954-politecnico-di-torino/pytorch_explain/runs/mn6jih9d' target=\"_blank\">LLR3_XNOR</a></strong> to <a href='https://wandb.ai/alih999954-politecnico-di-torino/pytorch_explain' target=\"_blank\">Weights & Biases</a> (<a href='https://wandb.me/run' target=\"_blank\">docs</a>)<br/>"
            ],
            "text/plain": [
              "<IPython.core.display.HTML object>"
            ]
          },
          "metadata": {},
          "output_type": "display_data"
        },
        {
          "data": {
            "text/html": [
              " View project at <a href='https://wandb.ai/alih999954-politecnico-di-torino/pytorch_explain' target=\"_blank\">https://wandb.ai/alih999954-politecnico-di-torino/pytorch_explain</a>"
            ],
            "text/plain": [
              "<IPython.core.display.HTML object>"
            ]
          },
          "metadata": {},
          "output_type": "display_data"
        },
        {
          "data": {
            "text/html": [
              " View run at <a href='https://wandb.ai/alih999954-politecnico-di-torino/pytorch_explain/runs/mn6jih9d' target=\"_blank\">https://wandb.ai/alih999954-politecnico-di-torino/pytorch_explain/runs/mn6jih9d</a>"
            ],
            "text/plain": [
              "<IPython.core.display.HTML object>"
            ]
          },
          "metadata": {},
          "output_type": "display_data"
        },
        {
          "name": "stdout",
          "output_type": "stream",
          "text": [
            "-------------------------- Training XNOR using LLR3 ----------------------\n",
            "Epoch 1, Loss: 1.0689470036463304, Train Accuracy: 0.4967857142857143, Val Loss: 1.0532141382044011, Val Accuracy: 0.4957142857142857, Train Precision: 0.24679604591836735, Train Recall: 0.4967857142857143, Train F1: 0.32976804035859153, Val Precision: 0.2457326530612245, Val Recall: 0.4957142857142857, Val F1: 0.32858234411243004, Epoch Time: 0.29227423667907715\n",
            "Epoch 2, Loss: 1.0581723641265521, Train Accuracy: 0.5432142857142858, Val Loss: 1.0441479357806118, Val Accuracy: 0.5485714285714286, Train Precision: 0.6058710689570004, Train Recall: 0.5432142857142858, Train F1: 0.468019348132482, Val Precision: 0.5592344418947153, Val Recall: 0.5485714285714286, Val F1: 0.531170581179384, Epoch Time: 0.32696056365966797\n",
            "Epoch 3, Loss: 1.046123512766578, Train Accuracy: 0.595, Val Loss: 1.0312260822816328, Val Accuracy: 0.5214285714285715, Train Precision: 0.6161915611814345, Train Recall: 0.595, Train F1: 0.5771972529550601, Val Precision: 0.5221427030691482, Val Recall: 0.5214285714285715, Val F1: 0.5101909476809867, Epoch Time: 0.31186795234680176\n",
            "Epoch 4, Loss: 1.02925966815515, Train Accuracy: 0.5842857142857143, Val Loss: 1.010841586373069, Val Accuracy: 0.5771428571428572, Train Precision: 0.6143537641575658, Train Recall: 0.5842857142857143, Train F1: 0.5529250625705452, Val Precision: 0.6098921062290946, Val Recall: 0.5771428571428572, Val F1: 0.539872356069829, Epoch Time: 0.31122851371765137\n",
            "Epoch 5, Loss: 1.0038638561964035, Train Accuracy: 0.6107142857142858, Val Loss: 0.9801521626385775, Val Accuracy: 0.64, Train Precision: 0.624695668365658, Train Recall: 0.6107142857142858, Train F1: 0.598353566723132, Val Precision: 0.6422579003995029, Val Recall: 0.64, Val F1: 0.6380842729385485, Epoch Time: 0.35599470138549805\n",
            "Epoch 6, Loss: 0.966558266769756, Train Accuracy: 0.6875, Val Loss: 0.9319271770390597, Val Accuracy: 0.7428571428571429, Train Precision: 0.692508780206118, Train Recall: 0.6875, Train F1: 0.6851500013051308, Val Precision: 0.7488931539142009, Val Recall: 0.7428571428571429, Val F1: 0.7410206952971005, Epoch Time: 0.31621789932250977\n",
            "Epoch 7, Loss: 0.9107415486465801, Train Accuracy: 0.7903571428571429, Val Loss: 0.8648488359017805, Val Accuracy: 0.82, Train Precision: 0.7908587576471041, Train Recall: 0.7903571428571429, Train F1: 0.7903027171271544, Val Precision: 0.8253243281271986, Val Recall: 0.82, Val F1: 0.8193839805467542, Epoch Time: 0.30152058601379395\n",
            "Epoch 8, Loss: 0.8448905524882403, Train Accuracy: 0.8307142857142857, Val Loss: 0.7969092293219133, Val Accuracy: 0.85, Train Precision: 0.8353234594044011, Train Recall: 0.8307142857142857, Train F1: 0.8302092385457981, Val Precision: 0.8521923493323711, Val Recall: 0.85, Val F1: 0.8498262722164233, Epoch Time: 0.30201053619384766\n",
            "Epoch 9, Loss: 0.7975422089750116, Train Accuracy: 0.8389285714285715, Val Loss: 0.7628130912780762, Val Accuracy: 0.8557142857142858, Train Precision: 0.8413969349082645, Train Recall: 0.8389285714285715, Train F1: 0.8386903028536423, Val Precision: 0.8579370052538583, Val Recall: 0.8557142857142858, Val F1: 0.8555471761319882, Epoch Time: 0.3051435947418213\n",
            "Epoch 10, Loss: 0.7774542272090912, Train Accuracy: 0.8421428571428572, Val Loss: 0.7431623068722811, Val Accuracy: 0.8571428571428571, Train Precision: 0.8441909096854675, Train Recall: 0.8421428571428572, Train F1: 0.8419548536571984, Val Precision: 0.857763878723357, Val Recall: 0.8571428571428571, Val F1: 0.8571101998161859, Epoch Time: 0.3086273670196533\n",
            "Epoch 11, Loss: 0.762670095671307, Train Accuracy: 0.8457142857142858, Val Loss: 0.7278285243294456, Val Accuracy: 0.8614285714285714, Train Precision: 0.8471471163317189, Train Recall: 0.8457142857142858, Train F1: 0.8455929854118007, Val Precision: 0.8616981783567881, Val Recall: 0.8614285714285714, Val F1: 0.8614209357198105, Epoch Time: 0.3021969795227051\n",
            "Epoch 12, Loss: 0.7489372410557487, Train Accuracy: 0.8553571428571428, Val Loss: 0.7140193581581116, Val Accuracy: 0.8728571428571429, Train Precision: 0.85660377827303, Train Recall: 0.8553571428571428, Train F1: 0.8552629481685305, Val Precision: 0.8748451725300663, Val Recall: 0.8728571428571429, Val F1: 0.872733801258245, Epoch Time: 0.31938791275024414\n",
            "Epoch 13, Loss: 0.7345918877558275, Train Accuracy: 0.8642857142857143, Val Loss: 0.6997379660606384, Val Accuracy: 0.8857142857142857, Train Precision: 0.8659219170997304, Train Recall: 0.8642857142857143, Train F1: 0.864167782059437, Val Precision: 0.8876018974430397, Val Recall: 0.8857142857142857, Val F1: 0.8856134610290418, Epoch Time: 0.3079667091369629\n",
            "Epoch 14, Loss: 0.7193117385560815, Train Accuracy: 0.8725, Val Loss: 0.6865090998736295, Val Accuracy: 0.8914285714285715, Train Precision: 0.8737354483146643, Train Recall: 0.8725, Train F1: 0.8724215925696366, Val Precision: 0.8914285714285715, Val Recall: 0.8914285714285715, Val F1: 0.8914285714285715, Epoch Time: 0.30828237533569336\n",
            "Epoch 15, Loss: 0.7040395140647888, Train Accuracy: 0.8807142857142857, Val Loss: 0.669460491700606, Val Accuracy: 0.9042857142857142, Train Precision: 0.8821349444926675, Train Recall: 0.8807142857142857, Train F1: 0.8806298867803882, Val Precision: 0.9055242442515438, Val Recall: 0.9042857142857142, Val F1: 0.9042374498259895, Epoch Time: 0.39984560012817383\n",
            "Convergence achieved at epoch 15 with validation accuracy 0.9042857142857142\n",
            "Epoch 16, Loss: 0.6858963708985936, Train Accuracy: 0.8921428571428571, Val Loss: 0.6524763215671886, Val Accuracy: 0.9228571428571428, Train Precision: 0.893887971914697, Train Recall: 0.8921428571428571, Train F1: 0.8920491320577629, Val Precision: 0.9229199305417072, Val Recall: 0.9228571428571428, Val F1: 0.922858402342643, Epoch Time: 0.4195442199707031\n",
            "Epoch 17, Loss: 0.6670802520080046, Train Accuracy: 0.9042857142857142, Val Loss: 0.6354105039076372, Val Accuracy: 0.9271428571428572, Train Precision: 0.9057125806410827, Train Recall: 0.9042857142857142, Train F1: 0.9042216108240807, Val Precision: 0.9273262280321163, Val Recall: 0.9271428571428572, Val F1: 0.9271418163244065, Epoch Time: 0.42587709426879883\n",
            "Epoch 18, Loss: 0.6479198634624481, Train Accuracy: 0.9196428571428571, Val Loss: 0.6183106465773149, Val Accuracy: 0.9428571428571428, Train Precision: 0.920517180881644, Train Recall: 0.9196428571428571, Train F1: 0.91961379191874, Val Precision: 0.9435860260805718, Val Recall: 0.9428571428571428, Val F1: 0.9428440799264743, Epoch Time: 0.46806931495666504\n",
            "Epoch 19, Loss: 0.6316156509247693, Train Accuracy: 0.9392857142857143, Val Loss: 0.604626476764679, Val Accuracy: 0.9528571428571428, Train Precision: 0.940223020952527, Train Recall: 0.9392857142857143, Train F1: 0.9392629092968751, Val Precision: 0.9533173949772008, Val Recall: 0.9528571428571428, Val F1: 0.9528518510419628, Epoch Time: 0.4486989974975586\n",
            "Epoch 20, Loss: 0.6175375675613229, Train Accuracy: 0.9482142857142857, Val Loss: 0.595797988501462, Val Accuracy: 0.9628571428571429, Train Precision: 0.9491974914965986, Train Recall: 0.9482142857142857, Train F1: 0.9481941007722346, Val Precision: 0.9631062899133933, Val Recall: 0.9628571428571429, Val F1: 0.9628559300192538, Epoch Time: 0.39110755920410156\n",
            "Epoch 21, Loss: 0.6083225458860397, Train Accuracy: 0.9582142857142857, Val Loss: 0.589519430290569, Val Accuracy: 0.9685714285714285, Train Precision: 0.9593426373514035, Train Recall: 0.9582142857142857, Train F1: 0.9581955238867239, Val Precision: 0.9685851923133001, Val Recall: 0.9685714285714285, Val F1: 0.9685704021983046, Epoch Time: 0.4335911273956299\n",
            "Epoch 22, Loss: 0.5995497500354593, Train Accuracy: 0.9664285714285714, Val Loss: 0.5809718912298029, Val Accuracy: 0.9757142857142858, Train Precision: 0.9668156854311878, Train Recall: 0.9664285714285714, Train F1: 0.9664248029743527, Val Precision: 0.9757510204081632, Val Recall: 0.9757142857142858, Val F1: 0.9757147317866187, Epoch Time: 0.4485325813293457\n",
            "Epoch 23, Loss: 0.5920967744155363, Train Accuracy: 0.9685714285714285, Val Loss: 0.5746296969327059, Val Accuracy: 0.9842857142857143, Train Precision: 0.969084291163427, Train Recall: 0.9685714285714285, Train F1: 0.9685662647897443, Val Precision: 0.9844821481056416, Val Recall: 0.9842857142857143, Val F1: 0.9842854897954603, Epoch Time: 0.45244622230529785\n",
            "Epoch 24, Loss: 0.5871125080368735, Train Accuracy: 0.9685714285714285, Val Loss: 0.5708604942668568, Val Accuracy: 0.9757142857142858, Train Precision: 0.9688865720245657, Train Recall: 0.9685714285714285, Train F1: 0.9685688307964331, Val Precision: 0.9758143472906403, Val Recall: 0.9757142857142858, Val F1: 0.9757145335282025, Epoch Time: 0.4702274799346924\n",
            "Epoch 25, Loss: 0.5813348374583505, Train Accuracy: 0.9742857142857143, Val Loss: 0.5673869360576976, Val Accuracy: 0.9828571428571429, Train Precision: 0.9746397758280102, Train Recall: 0.9742857142857143, Train F1: 0.9742832214471585, Val Precision: 0.9828571428571429, Val Recall: 0.9828571428571429, Val F1: 0.9828571428571429, Epoch Time: 0.4569120407104492\n",
            "Epoch 26, Loss: 0.5774066163734957, Train Accuracy: 0.9778571428571429, Val Loss: 0.5620381940494884, Val Accuracy: 0.99, Train Precision: 0.978110120756353, Train Recall: 0.9778571428571429, Train F1: 0.977855877519387, Val Precision: 0.9901012277951933, Val Recall: 0.99, Val F1: 0.9900001020410246, Epoch Time: 0.32945847511291504\n",
            "Epoch 27, Loss: 0.5740162797949531, Train Accuracy: 0.9803571428571428, Val Loss: 0.5600184202194214, Val Accuracy: 0.9885714285714285, Train Precision: 0.9804295067360801, Train Recall: 0.9803571428571428, Train F1: 0.9803571854500783, Val Precision: 0.9888289738430583, Val Recall: 0.9885714285714285, Val F1: 0.9885710553905395, Epoch Time: 0.3053913116455078\n",
            "Epoch 28, Loss: 0.5712740434841677, Train Accuracy: 0.9814285714285714, Val Loss: 0.5584493658759377, Val Accuracy: 0.9842857142857143, Train Precision: 0.9815968571750776, Train Recall: 0.9814285714285714, Train F1: 0.9814280787131789, Val Precision: 0.9842900526197941, Val Recall: 0.9842857142857143, Val F1: 0.9842858746437501, Epoch Time: 0.2935657501220703\n",
            "Epoch 29, Loss: 0.569395821202885, Train Accuracy: 0.9821428571428571, Val Loss: 0.5577055974440142, Val Accuracy: 0.9857142857142858, Train Precision: 0.9822428997621062, Train Recall: 0.9821428571428571, Train F1: 0.9821427660349389, Val Precision: 0.9859708978508734, Val Recall: 0.9857142857142858, Val F1: 0.9857138192381746, Epoch Time: 0.3356006145477295\n",
            "Epoch 30, Loss: 0.5662902878089384, Train Accuracy: 0.9842857142857143, Val Loss: 0.5530166680162604, Val Accuracy: 0.9914285714285714, Train Precision: 0.9843859974445943, Train Recall: 0.9842857142857143, Train F1: 0.9842856341107462, Val Precision: 0.9915742614326184, Val Recall: 0.9914285714285714, Val F1: 0.9914285714285715, Epoch Time: 0.30435681343078613\n",
            "Epoch 31, Loss: 0.5644726319746538, Train Accuracy: 0.9853571428571428, Val Loss: 0.5511785583062605, Val Accuracy: 0.9928571428571429, Train Precision: 0.9855136137314727, Train Recall: 0.9853571428571428, Train F1: 0.9853568160056102, Val Precision: 0.9928928384784799, Val Recall: 0.9928571428571429, Val F1: 0.992856749206064, Epoch Time: 0.3063628673553467\n",
            "Epoch 32, Loss: 0.5635646879673004, Train Accuracy: 0.9817857142857143, Val Loss: 0.5510416735302318, Val Accuracy: 0.9828571428571429, Train Precision: 0.9818163772491664, Train Recall: 0.9817857142857143, Train F1: 0.9817858931771385, Val Precision: 0.982918555177173, Val Recall: 0.9828571428571429, Val F1: 0.9828557431545798, Epoch Time: 0.3146207332611084\n",
            "Epoch 33, Loss: 0.560755114663731, Train Accuracy: 0.9842857142857143, Val Loss: 0.5473302548581903, Val Accuracy: 0.9957142857142857, Train Precision: 0.9843351536918291, Train Recall: 0.9842857142857143, Train F1: 0.9842858265308413, Val Precision: 0.9957184374533512, Val Recall: 0.9957142857142857, Val F1: 0.9957143294482954, Epoch Time: 0.31111598014831543\n",
            "Epoch 34, Loss: 0.5594013468785719, Train Accuracy: 0.9885714285714285, Val Loss: 0.5466085564006459, Val Accuracy: 0.9971428571428571, Train Precision: 0.988716284850484, Train Recall: 0.9885714285714285, Train F1: 0.9885712186579282, Val Precision: 0.9971589537223339, Val Recall: 0.9971428571428571, Val F1: 0.9971427638362096, Epoch Time: 0.3014059066772461\n",
            "Epoch 35, Loss: 0.5584257610819556, Train Accuracy: 0.9835714285714285, Val Loss: 0.5458855412223123, Val Accuracy: 0.9928571428571429, Train Precision: 0.9835968549692409, Train Recall: 0.9835714285714285, Train F1: 0.983571596211281, Val Precision: 0.9928938775510203, Val Recall: 0.9928571428571429, Val F1: 0.9928572740548878, Epoch Time: 0.3363373279571533\n",
            "Epoch 36, Loss: 0.5575604682618921, Train Accuracy: 0.9835714285714285, Val Loss: 0.5470095114274458, Val Accuracy: 0.9828571428571429, Train Precision: 0.9836208424670138, Train Recall: 0.9835714285714285, Train F1: 0.9835715459186066, Val Precision: 0.982918555177173, Val Recall: 0.9828571428571429, Val F1: 0.9828557431545798, Epoch Time: 0.31725144386291504\n",
            "Epoch 37, Loss: 0.5557073747569864, Train Accuracy: 0.9853571428571428, Val Loss: 0.5476353385231711, Val Accuracy: 0.98, Train Precision: 0.9853878459081404, Train Recall: 0.9853571428571428, Train F1: 0.9853572866718173, Val Precision: 0.9802471012183462, Val Recall: 0.98, Val F1: 0.9799954267421254, Epoch Time: 0.29993748664855957\n",
            "Epoch 38, Loss: 0.5547320964661512, Train Accuracy: 0.9853571428571428, Val Loss: 0.5421326214616949, Val Accuracy: 0.9971428571428571, Train Precision: 0.9853998669668441, Train Recall: 0.9853571428571428, Train F1: 0.985357264258769, Val Precision: 0.9971428571428571, Val Recall: 0.9971428571428571, Val F1: 0.9971428571428571, Epoch Time: 0.3181276321411133\n",
            "Epoch 39, Loss: 0.5539542436599731, Train Accuracy: 0.9878571428571429, Val Loss: 0.5411298654296182, Val Accuracy: 0.9957142857142857, Train Precision: 0.987906709815905, Train Recall: 0.9878571428571429, Train F1: 0.9878572295920139, Val Precision: 0.9957510204081632, Val Recall: 0.9957142857142857, Val F1: 0.9957143644329327, Epoch Time: 0.31452345848083496\n",
            "Epoch 40, Loss: 0.5529860759323294, Train Accuracy: 0.9875, Val Loss: 0.541644957932559, Val Accuracy: 0.9914285714285714, Train Precision: 0.9875065051551442, Train Recall: 0.9875, Train F1: 0.9875001036374382, Val Precision: 0.9915742614326184, Val Recall: 0.9914285714285714, Val F1: 0.9914285714285715, Epoch Time: 0.30712008476257324\n",
            "Epoch 41, Loss: 0.5525777509266679, Train Accuracy: 0.9832142857142857, Val Loss: 0.543871895833449, Val Accuracy: 0.9885714285714285, Train Precision: 0.983244964712756, Train Recall: 0.9832142857142857, Train F1: 0.9832144505750099, Val Precision: 0.9887166987195561, Val Recall: 0.9885714285714285, Val F1: 0.9885714285714285, Epoch Time: 0.2958199977874756\n",
            "Total Training Time: 14.25980544090271\n",
            "\n",
            " Training on XNOR using LLR3 has been completed!\n"
          ]
        },
        {
          "data": {
            "application/vnd.jupyter.widget-view+json": {
              "model_id": "d89f0e3a934147c8b67077328c6f82f8",
              "version_major": 2,
              "version_minor": 0
            },
            "text/plain": [
              "VBox(children=(Label(value='0.001 MB of 0.001 MB uploaded\\r'), FloatProgress(value=1.0, max=1.0)))"
            ]
          },
          "metadata": {},
          "output_type": "display_data"
        },
        {
          "data": {
            "text/html": [
              "<style>\n",
              "    table.wandb td:nth-child(1) { padding: 0 10px; text-align: left ; width: auto;} td:nth-child(2) {text-align: left ; width: 100%}\n",
              "    .wandb-row { display: flex; flex-direction: row; flex-wrap: wrap; justify-content: flex-start; width: 100% }\n",
              "    .wandb-col { display: flex; flex-direction: column; flex-basis: 100%; flex: 1; padding: 10px; }\n",
              "    </style>\n",
              "<div class=\"wandb-row\"><div class=\"wandb-col\"><h3>Run history:</h3><br/><table class=\"wandb\"><tr><td>convergence_time</td><td>▁</td></tr><tr><td>epoch</td><td>▁▁▁▂▂▂▂▂▂▃▃▃▃▃▃▄▄▄▄▄▅▅▅▅▅▅▆▆▆▆▆▆▇▇▇▇▇▇██</td></tr><tr><td>epoch_time</td><td>▁▂▂▂▄▂▁▁▂▂▁▂▂▂▅▆▆█▇▅▇▇▇█▇▂▂▁▃▁▂▂▂▁▃▂▁▂▂▁</td></tr><tr><td>learning_rate</td><td>▁▁▁▁▁▁▁▁▁▁▁▁▁▁▁▁▁▁▁▁▁▁▁▁▁▁▁▁▁▁▁▁▁▁▁▁▁▁▁▁</td></tr><tr><td>loss</td><td>███▇▇▇▆▅▄▄▄▄▃▃▃▃▃▂▂▂▂▂▂▁▁▁▁▁▁▁▁▁▁▁▁▁▁▁▁▁</td></tr><tr><td>total_training_time</td><td>▁</td></tr><tr><td>train_accuracy</td><td>▁▂▂▂▃▄▅▆▆▆▆▆▆▆▆▇▇▇▇▇████████████████████</td></tr><tr><td>train_concept_accuracy</td><td>▇▃▁▂▅▇▇█████████▇▇▇▇▇▇▇▇▇▇▇▇▇▇▇▇▇▇▇▇▇▇▇▇</td></tr><tr><td>train_concept_loss</td><td>███▇▇▆▅▄▄▄▄▄▄▃▃▂▃▃▃▂▂▃▂▃▂▃▂▂▂▂▂▂▁▁▂▃▁▁▂▃</td></tr><tr><td>train_f1</td><td>▁▂▄▃▄▅▆▆▆▆▆▇▇▇▇▇▇▇▇█████████████████████</td></tr><tr><td>train_precision</td><td>▁▄▄▄▅▅▆▇▇▇▇▇▇▇▇▇▇▇██████████████████████</td></tr><tr><td>train_recall</td><td>▁▂▂▂▃▄▅▆▆▆▆▆▆▆▆▇▇▇▇▇████████████████████</td></tr><tr><td>train_task_accuracy</td><td>▁▂▂▂▃▄▅▆▆▆▆▆▆▆▆▇▇▇▇▇████████████████████</td></tr><tr><td>train_task_loss</td><td>█████▇▇▆▅▅▄▄▄▃▄▃▄▃▂▂▂▂▂▂▂▁▁▂▁▁▁▁▁▁▁▁▁▁▁▁</td></tr><tr><td>val_accuracy</td><td>▁▂▁▂▃▄▆▆▆▆▆▆▆▇▇▇▇▇▇█████████████████████</td></tr><tr><td>val_concept_accuracy</td><td>▃▃▁▅▇█▇▇▆████▇██▆▇▇▆▆▆▆▆▆▆▆▆▆▆▇▆▆▆▇▆▆▆▆▇</td></tr><tr><td>val_concept_loss</td><td>▇██▇▆▇▄▄▄▅▃▄▄▆▂▃▃▅▃▂▃▄▃▂▂▃▂▂▂▂▂▁▃▂▂▁▃▁▃▂</td></tr><tr><td>val_f1</td><td>▁▃▃▃▄▅▆▆▇▇▇▇▇▇▇▇▇▇██████████████████████</td></tr><tr><td>val_learning_rate</td><td>▁▁▁▁▁▁▁▁▁▁▁▁▁▁▁▁▁▁▁▁▁▁▁▁▁▁▁▁▁▁▁▁▁▁▁▁▁▁▁▁</td></tr><tr><td>val_loss</td><td>███▇▇▆▅▄▄▄▄▃▃▃▃▃▂▂▂▂▂▂▁▁▁▁▁▁▁▁▁▁▁▁▁▁▁▁▁▁</td></tr><tr><td>val_precision</td><td>▁▄▄▄▅▆▆▇▇▇▇▇▇▇▇▇▇███████████████████████</td></tr><tr><td>val_recall</td><td>▁▂▁▂▃▄▆▆▆▆▆▆▆▇▇▇▇▇▇█████████████████████</td></tr><tr><td>val_task_accuracy</td><td>▁▂▁▂▃▄▆▆▆▆▆▆▆▇▇▇▇▇▇█████████████████████</td></tr><tr><td>val_task_loss</td><td>█████▇▆▅▅▅▄▄▅▄▃▃▄▃▂▂▃▂▂▂▁▂▁▁▁▁▁▁▁▁▁▁▁▁▂▁</td></tr></table><br/></div><div class=\"wandb-col\"><h3>Run summary:</h3><br/><table class=\"wandb\"><tr><td>convergence_time</td><td>4.79389</td></tr><tr><td>epoch</td><td>41</td></tr><tr><td>epoch_time</td><td>0.29582</td></tr><tr><td>learning_rate</td><td>0.0005</td></tr><tr><td>loss</td><td>0.55258</td></tr><tr><td>total_training_time</td><td>14.25981</td></tr><tr><td>train_accuracy</td><td>0.98321</td></tr><tr><td>train_concept_accuracy</td><td>0.76321</td></tr><tr><td>train_concept_loss</td><td>0.53019</td></tr><tr><td>train_f1</td><td>0.98321</td></tr><tr><td>train_precision</td><td>0.98324</td></tr><tr><td>train_recall</td><td>0.98321</td></tr><tr><td>train_task_accuracy</td><td>0.98321</td></tr><tr><td>train_task_loss</td><td>0.04883</td></tr><tr><td>val_accuracy</td><td>0.98857</td></tr><tr><td>val_concept_accuracy</td><td>0.75143</td></tr><tr><td>val_concept_loss</td><td>0.50768</td></tr><tr><td>val_f1</td><td>0.98857</td></tr><tr><td>val_learning_rate</td><td>0.0005</td></tr><tr><td>val_loss</td><td>0.54387</td></tr><tr><td>val_precision</td><td>0.98872</td></tr><tr><td>val_recall</td><td>0.98857</td></tr><tr><td>val_task_accuracy</td><td>0.98857</td></tr><tr><td>val_task_loss</td><td>0.03796</td></tr></table><br/></div></div>"
            ],
            "text/plain": [
              "<IPython.core.display.HTML object>"
            ]
          },
          "metadata": {},
          "output_type": "display_data"
        },
        {
          "data": {
            "text/html": [
              " View run <strong style=\"color:#cdcd00\">LLR3_XNOR</strong> at: <a href='https://wandb.ai/alih999954-politecnico-di-torino/pytorch_explain/runs/mn6jih9d' target=\"_blank\">https://wandb.ai/alih999954-politecnico-di-torino/pytorch_explain/runs/mn6jih9d</a><br/> View project at: <a href='https://wandb.ai/alih999954-politecnico-di-torino/pytorch_explain' target=\"_blank\">https://wandb.ai/alih999954-politecnico-di-torino/pytorch_explain</a><br/>Synced 5 W&B file(s), 0 media file(s), 0 artifact file(s) and 0 other file(s)"
            ],
            "text/plain": [
              "<IPython.core.display.HTML object>"
            ]
          },
          "metadata": {},
          "output_type": "display_data"
        },
        {
          "data": {
            "text/html": [
              "Find logs at: <code>./wandb/run-20240723_092050-mn6jih9d/logs</code>"
            ],
            "text/plain": [
              "<IPython.core.display.HTML object>"
            ]
          },
          "metadata": {},
          "output_type": "display_data"
        },
        {
          "data": {
            "text/html": [
              "The new W&B backend becomes opt-out in version 0.18.0; try it out with `wandb.require(\"core\")`! See https://wandb.me/wandb-core for more information."
            ],
            "text/plain": [
              "<IPython.core.display.HTML object>"
            ]
          },
          "metadata": {},
          "output_type": "display_data"
        },
        {
          "name": "stdout",
          "output_type": "stream",
          "text": [
            "The following dataset has been loaded successfully: IsBinEven\n"
          ]
        },
        {
          "data": {
            "text/html": [
              "Tracking run with wandb version 0.17.5"
            ],
            "text/plain": [
              "<IPython.core.display.HTML object>"
            ]
          },
          "metadata": {},
          "output_type": "display_data"
        },
        {
          "data": {
            "text/html": [
              "Run data is saved locally in <code>/content/pytorch_explain/wandb/run-20240723_092113-b0twqtz7</code>"
            ],
            "text/plain": [
              "<IPython.core.display.HTML object>"
            ]
          },
          "metadata": {},
          "output_type": "display_data"
        },
        {
          "data": {
            "text/html": [
              "Syncing run <strong><a href='https://wandb.ai/alih999954-politecnico-di-torino/pytorch_explain/runs/b0twqtz7' target=\"_blank\">LLR3_IsBinEven</a></strong> to <a href='https://wandb.ai/alih999954-politecnico-di-torino/pytorch_explain' target=\"_blank\">Weights & Biases</a> (<a href='https://wandb.me/run' target=\"_blank\">docs</a>)<br/>"
            ],
            "text/plain": [
              "<IPython.core.display.HTML object>"
            ]
          },
          "metadata": {},
          "output_type": "display_data"
        },
        {
          "data": {
            "text/html": [
              " View project at <a href='https://wandb.ai/alih999954-politecnico-di-torino/pytorch_explain' target=\"_blank\">https://wandb.ai/alih999954-politecnico-di-torino/pytorch_explain</a>"
            ],
            "text/plain": [
              "<IPython.core.display.HTML object>"
            ]
          },
          "metadata": {},
          "output_type": "display_data"
        },
        {
          "data": {
            "text/html": [
              " View run at <a href='https://wandb.ai/alih999954-politecnico-di-torino/pytorch_explain/runs/b0twqtz7' target=\"_blank\">https://wandb.ai/alih999954-politecnico-di-torino/pytorch_explain/runs/b0twqtz7</a>"
            ],
            "text/plain": [
              "<IPython.core.display.HTML object>"
            ]
          },
          "metadata": {},
          "output_type": "display_data"
        },
        {
          "name": "stdout",
          "output_type": "stream",
          "text": [
            "-------------------------- Training IsBinEven using LLR3 ----------------------\n",
            "Epoch 1, Loss: 1.0666635578328914, Train Accuracy: 0.5082142857142857, Val Loss: 1.0678334561261265, Val Accuracy: 0.4957142857142857, Train Precision: 0.25828176020408167, Train Recall: 0.5082142857142857, Train F1: 0.3425000845708873, Val Precision: 0.2457326530612245, Val Recall: 0.4957142857142857, Val F1: 0.32858234411243004, Epoch Time: 0.3753206729888916\n",
            "Epoch 2, Loss: 1.059000925584273, Train Accuracy: 0.5153571428571428, Val Loss: 1.0593418208035557, Val Accuracy: 0.5442857142857143, Train Precision: 0.7519256166495375, Train Recall: 0.5153571428571428, Train F1: 0.35821106761596405, Val Precision: 0.7625632775632776, Val Recall: 0.5442857142857143, Val F1: 0.42821911678267427, Epoch Time: 0.3666844367980957\n",
            "Epoch 3, Loss: 1.0484899986873975, Train Accuracy: 0.6946428571428571, Val Loss: 1.0445225672288374, Val Accuracy: 0.8957142857142857, Train Precision: 0.7906442575705127, Train Recall: 0.6946428571428571, Train F1: 0.6649319622629946, Val Precision: 0.898768271549126, Val Recall: 0.8957142857142857, Val F1: 0.8954694880770385, Epoch Time: 0.4394407272338867\n",
            "Epoch 4, Loss: 1.0251543792811306, Train Accuracy: 0.8789285714285714, Val Loss: 1.0094622752883218, Val Accuracy: 0.8642857142857143, Train Precision: 0.8935339196863804, Train Recall: 0.8789285714285714, Train F1: 0.8780116267499024, Val Precision: 0.8904998190154441, Val Recall: 0.8642857142857143, Val F1: 0.8617930542067698, Epoch Time: 0.3780360221862793\n",
            "Epoch 5, Loss: 0.9711672717874701, Train Accuracy: 0.8892857142857142, Val Loss: 0.9325197013941678, Val Accuracy: 0.9557142857142857, Train Precision: 0.9057766372293385, Train Recall: 0.8892857142857142, Train F1: 0.8883539515818092, Val Precision: 0.9557169216270813, Val Recall: 0.9557142857142857, Val F1: 0.955713652997953, Epoch Time: 0.37471532821655273\n",
            "Convergence achieved at epoch 5 with validation accuracy 0.9557142857142857\n",
            "Epoch 6, Loss: 0.8674954514611851, Train Accuracy: 0.9678571428571429, Val Loss: 0.8155259652571245, Val Accuracy: 0.9857142857142858, Train Precision: 0.9684729878029708, Train Recall: 0.9678571428571429, Train F1: 0.967856322884624, Val Precision: 0.9857294491587205, Val Recall: 0.9857142857142858, Val F1: 0.9857138191810476, Epoch Time: 0.3698422908782959\n",
            "Epoch 7, Loss: 0.7620922828262503, Train Accuracy: 0.9825, Val Loss: 0.7285274754871022, Val Accuracy: 0.9885714285714285, Train Precision: 0.9825071823097288, Train Recall: 0.9825, Train F1: 0.98250045768742, Val Precision: 0.9885868252996238, Val Recall: 0.9885714285714285, Val F1: 0.988571055344838, Epoch Time: 0.35923337936401367\n",
            "Epoch 8, Loss: 0.6975462761792269, Train Accuracy: 0.9839285714285714, Val Loss: 0.6827530806714838, Val Accuracy: 0.99, Train Precision: 0.9839393544411792, Train Recall: 0.9839285714285714, Train F1: 0.9839278106330261, Val Precision: 0.9900988271423438, Val Recall: 0.99, Val F1: 0.9899988772737759, Epoch Time: 0.3973264694213867\n",
            "Epoch 9, Loss: 0.6626932241699912, Train Accuracy: 0.9853571428571428, Val Loss: 0.6571587811816822, Val Accuracy: 0.9842857142857143, Train Precision: 0.9853624766233023, Train Recall: 0.9853571428571428, Train F1: 0.9853566664326847, Val Precision: 0.9847685554668795, Val Recall: 0.9842857142857143, Val F1: 0.9842839503473209, Epoch Time: 0.360623836517334\n",
            "Epoch 10, Loss: 0.6400170868093317, Train Accuracy: 0.9892857142857143, Val Loss: 0.6374810067090121, Val Accuracy: 0.9871428571428571, Train Precision: 0.9893329156217495, Train Recall: 0.9892857142857143, Train F1: 0.9892845657991645, Val Precision: 0.9873356676003735, Val Recall: 0.9871428571428571, Val F1: 0.9871404685639391, Epoch Time: 0.354907751083374\n",
            "Epoch 11, Loss: 0.6246644583615389, Train Accuracy: 0.9878571428571429, Val Loss: 0.6238305297764865, Val Accuracy: 0.9857142857142858, Train Precision: 0.9878719401998342, Train Recall: 0.9878571428571429, Train F1: 0.9878564735119774, Val Precision: 0.9861078315623769, Val Recall: 0.9857142857142858, Val F1: 0.9857096185529, Epoch Time: 0.37793564796447754\n",
            "Epoch 12, Loss: 0.6103908338330009, Train Accuracy: 0.9921428571428571, Val Loss: 0.6101789366115223, Val Accuracy: 0.9928571428571429, Train Precision: 0.9921513469372755, Train Recall: 0.9921428571428571, Train F1: 0.9921425443527606, Val Precision: 0.9928928384784799, Val Recall: 0.9928571428571429, Val F1: 0.992856749206064, Epoch Time: 0.35707640647888184\n",
            "Epoch 13, Loss: 0.5987075851722197, Train Accuracy: 0.9935714285714285, Val Loss: 0.6017052314498208, Val Accuracy: 0.98, Train Precision: 0.9935751573635587, Train Recall: 0.9935714285714285, Train F1: 0.9935712645249487, Val Precision: 0.9805704996773377, Val Recall: 0.98, Val F1: 0.979997061008564, Epoch Time: 0.3720061779022217\n",
            "Epoch 14, Loss: 0.5899502228606831, Train Accuracy: 0.9939285714285714, Val Loss: 0.5927132368087769, Val Accuracy: 0.9871428571428571, Train Precision: 0.9939345176846249, Train Recall: 0.9939285714285714, Train F1: 0.9939283738867228, Val Precision: 0.987339944109318, Val Recall: 0.9871428571428571, Val F1: 0.9871426734690129, Epoch Time: 0.3710815906524658\n",
            "Epoch 15, Loss: 0.5831926045092669, Train Accuracy: 0.9928571428571429, Val Loss: 0.5858983993530273, Val Accuracy: 0.9942857142857143, Train Precision: 0.9928571428571429, Train Recall: 0.9928571428571429, Train F1: 0.9928571428571429, Val Precision: 0.9943015775814307, Val Recall: 0.9942857142857143, Val F1: 0.9942855276724191, Epoch Time: 0.36904263496398926\n",
            "Epoch 16, Loss: 0.577446615154093, Train Accuracy: 0.9932142857142857, Val Loss: 0.580385451967066, Val Accuracy: 0.9957142857142857, Train Precision: 0.9932163122878822, Train Recall: 0.9932142857142857, Train F1: 0.993214158443166, Val Precision: 0.9957504012841092, Val Recall: 0.9957142857142857, Val F1: 0.9957140495236383, Epoch Time: 0.36762213706970215\n",
            "Epoch 17, Loss: 0.572552657940171, Train Accuracy: 0.9957142857142857, Val Loss: 0.5774294896559282, Val Accuracy: 0.9842857142857143, Train Precision: 0.9957181326261508, Train Recall: 0.9957142857142857, Train F1: 0.9957141763499657, Val Precision: 0.9844821481056416, Val Recall: 0.9842857142857143, Val F1: 0.9842854897954603, Epoch Time: 0.373974084854126\n",
            "Epoch 18, Loss: 0.5682652673938058, Train Accuracy: 0.9942857142857143, Val Loss: 0.5720583254640753, Val Accuracy: 0.9928571428571429, Train Precision: 0.9942943943950294, Train Recall: 0.9942857142857143, Train F1: 0.9942854868020079, Val Precision: 0.9928609917563576, Val Recall: 0.9928571428571429, Val F1: 0.9928570408061215, Epoch Time: 0.356614351272583\n",
            "Epoch 19, Loss: 0.565203458070755, Train Accuracy: 0.9932142857142857, Val Loss: 0.5692000009796836, Val Accuracy: 0.9928571428571429, Train Precision: 0.9932260640819036, Train Recall: 0.9932142857142857, Train F1: 0.9932139644895, Val Precision: 0.9928609917563576, Val Recall: 0.9928571428571429, Val F1: 0.9928570408061215, Epoch Time: 0.3758409023284912\n",
            "Epoch 20, Loss: 0.5624860660596327, Train Accuracy: 0.9932142857142857, Val Loss: 0.5659794373945757, Val Accuracy: 0.9957142857142857, Train Precision: 0.9932146170643306, Train Recall: 0.9932142857142857, Train F1: 0.9932143246729636, Val Precision: 0.9957504012841092, Val Recall: 0.9957142857142857, Val F1: 0.9957140495236383, Epoch Time: 0.3628685474395752\n",
            "Epoch 21, Loss: 0.559604368426583, Train Accuracy: 0.9935714285714285, Val Loss: 0.5680347843603655, Val Accuracy: 0.9842857142857143, Train Precision: 0.9935725869953392, Train Recall: 0.9935714285714285, Train F1: 0.9935715007466859, Val Precision: 0.9847685554668795, Val Recall: 0.9842857142857143, Val F1: 0.9842839503473209, Epoch Time: 0.37110257148742676\n",
            "Epoch 22, Loss: 0.5575356944040819, Train Accuracy: 0.9939285714285714, Val Loss: 0.5617028691551902, Val Accuracy: 0.9928571428571429, Train Precision: 0.9939345176846249, Train Recall: 0.9939285714285714, Train F1: 0.9939283738867228, Val Precision: 0.9928938775510203, Val Recall: 0.9928571428571429, Val F1: 0.9928572740548878, Epoch Time: 0.4987494945526123\n",
            "Epoch 23, Loss: 0.5547103637998755, Train Accuracy: 0.9957142857142857, Val Loss: 0.5646181594241749, Val Accuracy: 0.9842857142857143, Train Precision: 0.9957142857142857, Train Recall: 0.9957142857142857, Train F1: 0.9957142857142857, Val Precision: 0.9847685554668795, Val Recall: 0.9842857142857143, Val F1: 0.9842839503473209, Epoch Time: 0.4944024085998535\n",
            "Epoch 24, Loss: 0.5535708123987372, Train Accuracy: 0.9921428571428571, Val Loss: 0.5587189631028608, Val Accuracy: 0.9928571428571429, Train Precision: 0.9921779300838535, Train Recall: 0.9921428571428571, Train F1: 0.992142159321569, Val Precision: 0.9929569034317638, Val Recall: 0.9928571428571429, Val F1: 0.9928563409098398, Epoch Time: 0.5264458656311035\n",
            "Epoch 25, Loss: 0.5515641868114471, Train Accuracy: 0.9953571428571428, Val Loss: 0.5583559545603666, Val Accuracy: 0.9885714285714285, Train Precision: 0.9953631911948453, Train Recall: 0.9953571428571428, Train F1: 0.9953569917957293, Val Precision: 0.9888289738430583, Val Recall: 0.9885714285714285, Val F1: 0.9885710553905395, Epoch Time: 0.49904346466064453\n",
            "Epoch 26, Loss: 0.5514495088295503, Train Accuracy: 0.9925, Val Loss: 0.5557448267936707, Val Accuracy: 0.9914285714285714, Train Precision: 0.9925019981381332, Train Recall: 0.9925, Train F1: 0.9924998593319206, Val Precision: 0.9914285714285714, Val Recall: 0.9914285714285714, Val F1: 0.9914285714285714, Epoch Time: 0.5058395862579346\n",
            "Epoch 27, Loss: 0.5487207932905718, Train Accuracy: 0.9957142857142857, Val Loss: 0.561973436312242, Val Accuracy: 0.9828571428571429, Train Precision: 0.9957181326261508, Train Recall: 0.9957142857142857, Train F1: 0.9957141763499657, Val Precision: 0.9834301631516116, Val Recall: 0.9828571428571429, Val F1: 0.9828546237216262, Epoch Time: 0.4991288185119629\n",
            "Epoch 28, Loss: 0.5476299632679332, Train Accuracy: 0.9932142857142857, Val Loss: 0.553186990998008, Val Accuracy: 0.9942857142857143, Train Precision: 0.9932144577765127, Train Recall: 0.9932142857142857, Train F1: 0.9932142450231559, Val Precision: 0.9943497398959584, Val Recall: 0.9942857142857143, Val F1: 0.9942852477181932, Epoch Time: 0.5624945163726807\n",
            "Epoch 29, Loss: 0.5465535074472427, Train Accuracy: 0.9953571428571428, Val Loss: 0.5527175285599448, Val Accuracy: 0.99, Train Precision: 0.9953573411661504, Train Recall: 0.9953571428571428, Train F1: 0.9953571150158433, Val Precision: 0.9901977401129943, Val Recall: 0.99, Val F1: 0.9899998571425657, Epoch Time: 0.5615901947021484\n",
            "Epoch 30, Loss: 0.5450195331465114, Train Accuracy: 0.9964285714285714, Val Loss: 0.5517875552177429, Val Accuracy: 0.99, Train Precision: 0.9964295010252905, Train Recall: 0.9964285714285714, Train F1: 0.9964285276839375, Val Precision: 0.9901944444444445, Val Recall: 0.99, Val F1: 0.9899981422163971, Epoch Time: 0.5733528137207031\n",
            "Epoch 31, Loss: 0.5438111803748391, Train Accuracy: 0.9960714285714286, Val Loss: 0.5508311553434893, Val Accuracy: 0.9914285714285714, Train Precision: 0.9960735688868785, Train Recall: 0.9960714285714286, Train F1: 0.9960713548881488, Val Precision: 0.9915742614326184, Val Recall: 0.9914285714285714, Val F1: 0.9914285714285715, Epoch Time: 0.38324642181396484\n",
            "Epoch 32, Loss: 0.5443937372077595, Train Accuracy: 0.9939285714285714, Val Loss: 0.5499216914176941, Val Accuracy: 0.9885714285714285, Train Precision: 0.9939287522397252, Train Recall: 0.9939285714285714, Train F1: 0.9939285350207183, Val Precision: 0.9885879418257643, Val Recall: 0.9885714285714285, Val F1: 0.9885716151664429, Epoch Time: 0.34960412979125977\n",
            "Epoch 33, Loss: 0.5436839190396395, Train Accuracy: 0.9932142857142857, Val Loss: 0.5487441366369074, Val Accuracy: 0.9957142857142857, Train Precision: 0.9932339621749907, Train Recall: 0.9932142857142857, Train F1: 0.9932138571141469, Val Precision: 0.9957184374533512, Val Recall: 0.9957142857142857, Val F1: 0.9957143294482954, Epoch Time: 0.37621045112609863\n",
            "Epoch 34, Loss: 0.5418067276477814, Train Accuracy: 0.995, Val Loss: 0.5474792231212963, Val Accuracy: 0.9942857142857143, Train Precision: 0.995, Train Recall: 0.995, Train F1: 0.995, Val Precision: 0.9942857142857143, Val Recall: 0.9942857142857143, Val F1: 0.9942857142857143, Epoch Time: 0.36058688163757324\n",
            "Epoch 35, Loss: 0.5403352962298826, Train Accuracy: 0.9967857142857143, Val Loss: 0.546331524848938, Val Accuracy: 0.9971428571428571, Train Precision: 0.9967859300925753, Train Recall: 0.9967857142857143, Train F1: 0.9967856950109685, Val Precision: 0.9971428571428571, Val Recall: 0.9971428571428571, Val F1: 0.9971428571428571, Epoch Time: 0.3691720962524414\n",
            "Epoch 36, Loss: 0.5402887991883538, Train Accuracy: 0.9971428571428571, Val Loss: 0.5472945083271373, Val Accuracy: 0.9914285714285714, Train Precision: 0.9971438049669629, Train Recall: 0.9971428571428571, Train F1: 0.99714282214715, Val Precision: 0.9915742614326184, Val Recall: 0.9914285714285714, Val F1: 0.9914285714285715, Epoch Time: 0.3801887035369873\n",
            "Epoch 37, Loss: 0.5393170064145868, Train Accuracy: 0.995, Val Loss: 0.5449890169230375, Val Accuracy: 0.9971428571428571, Train Precision: 0.9950008931419457, Train Recall: 0.995, Train F1: 0.9949999387575125, Val Precision: 0.9971589537223339, Val Recall: 0.9971428571428571, Val F1: 0.9971427638362096, Epoch Time: 0.36786842346191406\n",
            "Epoch 38, Loss: 0.5386336486447941, Train Accuracy: 0.9960714285714286, Val Loss: 0.5452659780328925, Val Accuracy: 0.9928571428571429, Train Precision: 0.9960735688868785, Train Recall: 0.9960714285714286, Train F1: 0.9960713548881488, Val Precision: 0.9929569034317638, Val Recall: 0.9928571428571429, Val F1: 0.9928563409098398, Epoch Time: 0.3660249710083008\n",
            "Epoch 39, Loss: 0.5393232635476373, Train Accuracy: 0.9942857142857143, Val Loss: 0.550350470976396, Val Accuracy: 0.9828571428571429, Train Precision: 0.9942894824510894, Train Recall: 0.9942857142857143, Train F1: 0.9942855684666211, Val Precision: 0.9834207436399216, Val Recall: 0.9828571428571429, Val F1: 0.9828495810057496, Epoch Time: 0.36817431449890137\n",
            "Epoch 40, Loss: 0.5399081056768243, Train Accuracy: 0.9935714285714285, Val Loss: 0.5454975095662203, Val Accuracy: 0.99, Train Precision: 0.9935800452424447, Train Recall: 0.9935714285714285, Train F1: 0.9935711726522587, Val Precision: 0.9901944444444445, Val Recall: 0.99, Val F1: 0.9899981422163971, Epoch Time: 0.36101341247558594\n",
            "Epoch 41, Loss: 0.5373008671132001, Train Accuracy: 0.9957142857142857, Val Loss: 0.5426590225913308, Val Accuracy: 0.9971428571428571, Train Precision: 0.9957142857142857, Train Recall: 0.9957142857142857, Train F1: 0.9957142857142857, Val Precision: 0.9971428571428571, Val Recall: 0.9971428571428571, Val F1: 0.9971428571428571, Epoch Time: 0.3702521324157715\n",
            "Total Training Time: 16.686516523361206\n",
            "\n",
            " Training on IsBinEven using LLR3 has been completed!\n"
          ]
        },
        {
          "data": {
            "application/vnd.jupyter.widget-view+json": {
              "model_id": "e1f61b924cdd4151a092f8b3a37ffcac",
              "version_major": 2,
              "version_minor": 0
            },
            "text/plain": [
              "VBox(children=(Label(value='0.001 MB of 0.001 MB uploaded\\r'), FloatProgress(value=1.0, max=1.0)))"
            ]
          },
          "metadata": {},
          "output_type": "display_data"
        },
        {
          "data": {
            "text/html": [
              "<style>\n",
              "    table.wandb td:nth-child(1) { padding: 0 10px; text-align: left ; width: auto;} td:nth-child(2) {text-align: left ; width: 100%}\n",
              "    .wandb-row { display: flex; flex-direction: row; flex-wrap: wrap; justify-content: flex-start; width: 100% }\n",
              "    .wandb-col { display: flex; flex-direction: column; flex-basis: 100%; flex: 1; padding: 10px; }\n",
              "    </style>\n",
              "<div class=\"wandb-row\"><div class=\"wandb-col\"><h3>Run history:</h3><br/><table class=\"wandb\"><tr><td>convergence_time</td><td>▁</td></tr><tr><td>epoch</td><td>▁▁▁▂▂▂▂▂▂▃▃▃▃▃▃▄▄▄▄▄▅▅▅▅▅▅▆▆▆▆▆▆▇▇▇▇▇▇██</td></tr><tr><td>epoch_time</td><td>▂▂▄▂▂▂▁▂▁▁▂▁▂▂▂▂▂▁▂▁▂▆▆▇▆▆▆███▂▁▂▁▂▂▂▂▂▂</td></tr><tr><td>learning_rate</td><td>▁▁▁▁▁▁▁▁▁▁▁▁▁▁▁▁▁▁▁▁▁▁▁▁▁▁▁▁▁▁▁▁▁▁▁▁▁▁▁▁</td></tr><tr><td>loss</td><td>███▇▇▅▄▃▃▂▂▂▂▂▂▂▁▁▁▁▁▁▁▁▁▁▁▁▁▁▁▁▁▁▁▁▁▁▁▁</td></tr><tr><td>total_training_time</td><td>▁</td></tr><tr><td>train_accuracy</td><td>▁▁▄▆▆███████████████████████████████████</td></tr><tr><td>train_concept_accuracy</td><td>▂▁▃▆██▅▃▂▂▂▂▂▂▂▂▂▂▂▂▂▂▂▂▂▂▂▂▂▂▂▂▂▂▂▂▂▂▂▂</td></tr><tr><td>train_concept_loss</td><td>██▇▇▇▇▆▅▄▄▄▃▄▃▃▃▃▂▃▃▃▃▁▂▂▂▂▂▂▁▂▂▂▁▂▂▂▂▁▂</td></tr><tr><td>train_f1</td><td>▁▁▄▇▇███████████████████████████████████</td></tr><tr><td>train_precision</td><td>▁▆▆▇▇███████████████████████████████████</td></tr><tr><td>train_recall</td><td>▁▁▄▆▆███████████████████████████████████</td></tr><tr><td>train_task_accuracy</td><td>▁▁▄▆▆███████████████████████████████████</td></tr><tr><td>train_task_loss</td><td>████▇▅▃▂▂▁▂▁▁▁▂▁▁▁▁▁▁▁▁▁▁▁▁▁▁▁▁▁▁▁▁▁▁▁▁▁</td></tr><tr><td>val_accuracy</td><td>▁▂▇▆▇███████████████████████████████████</td></tr><tr><td>val_concept_accuracy</td><td>▅▁▅▇█▇▅▃▄▃▃▄▃▄▃▂▃▃▃▃▃▃▃▃▃▃▃▃▃▃▃▃▃▃▃▃▃▃▃▃</td></tr><tr><td>val_concept_loss</td><td>█▇▇▆▇▅▅▄▅▄▃▃▄▂▃▂▃▁▂▂▃▁▂▂▂▂▂▂▂▂▂▃▁▂▂▃▁▂▁▂</td></tr><tr><td>val_f1</td><td>▁▂▇▇████████████████████████████████████</td></tr><tr><td>val_learning_rate</td><td>▁▁▁▁▁▁▁▁▁▁▁▁▁▁▁▁▁▁▁▁▁▁▁▁▁▁▁▁▁▁▁▁▁▁▁▁▁▁▁▁</td></tr><tr><td>val_loss</td><td>███▇▆▅▃▃▃▂▂▂▂▂▂▂▁▁▁▁▁▁▁▁▁▁▁▁▁▁▁▁▁▁▁▁▁▁▁▁</td></tr><tr><td>val_precision</td><td>▁▆▇▇████████████████████████████████████</td></tr><tr><td>val_recall</td><td>▁▂▇▆▇███████████████████████████████████</td></tr><tr><td>val_task_accuracy</td><td>▁▂▇▆▇███████████████████████████████████</td></tr><tr><td>val_task_loss</td><td>███▇▆▄▃▂▂▂▂▁▁▁▁▁▁▁▁▁▁▁▁▁▁▁▁▁▁▁▁▁▁▁▁▁▁▁▁▁</td></tr></table><br/></div><div class=\"wandb-col\"><h3>Run summary:</h3><br/><table class=\"wandb\"><tr><td>convergence_time</td><td>1.94254</td></tr><tr><td>epoch</td><td>41</td></tr><tr><td>epoch_time</td><td>0.37025</td></tr><tr><td>learning_rate</td><td>0.0005</td></tr><tr><td>loss</td><td>0.5373</td></tr><tr><td>total_training_time</td><td>16.68652</td></tr><tr><td>train_accuracy</td><td>0.99571</td></tr><tr><td>train_concept_accuracy</td><td>0.52607</td></tr><tr><td>train_concept_loss</td><td>0.54762</td></tr><tr><td>train_f1</td><td>0.99571</td></tr><tr><td>train_precision</td><td>0.99571</td></tr><tr><td>train_recall</td><td>0.99571</td></tr><tr><td>train_task_accuracy</td><td>0.99571</td></tr><tr><td>train_task_loss</td><td>0.01834</td></tr><tr><td>val_accuracy</td><td>0.99714</td></tr><tr><td>val_concept_accuracy</td><td>0.53286</td></tr><tr><td>val_concept_loss</td><td>0.53137</td></tr><tr><td>val_f1</td><td>0.99714</td></tr><tr><td>val_learning_rate</td><td>0.0005</td></tr><tr><td>val_loss</td><td>0.54266</td></tr><tr><td>val_precision</td><td>0.99714</td></tr><tr><td>val_recall</td><td>0.99714</td></tr><tr><td>val_task_accuracy</td><td>0.99714</td></tr><tr><td>val_task_loss</td><td>0.00253</td></tr></table><br/></div></div>"
            ],
            "text/plain": [
              "<IPython.core.display.HTML object>"
            ]
          },
          "metadata": {},
          "output_type": "display_data"
        },
        {
          "data": {
            "text/html": [
              " View run <strong style=\"color:#cdcd00\">LLR3_IsBinEven</strong> at: <a href='https://wandb.ai/alih999954-politecnico-di-torino/pytorch_explain/runs/b0twqtz7' target=\"_blank\">https://wandb.ai/alih999954-politecnico-di-torino/pytorch_explain/runs/b0twqtz7</a><br/> View project at: <a href='https://wandb.ai/alih999954-politecnico-di-torino/pytorch_explain' target=\"_blank\">https://wandb.ai/alih999954-politecnico-di-torino/pytorch_explain</a><br/>Synced 5 W&B file(s), 0 media file(s), 0 artifact file(s) and 0 other file(s)"
            ],
            "text/plain": [
              "<IPython.core.display.HTML object>"
            ]
          },
          "metadata": {},
          "output_type": "display_data"
        },
        {
          "data": {
            "text/html": [
              "Find logs at: <code>./wandb/run-20240723_092113-b0twqtz7/logs</code>"
            ],
            "text/plain": [
              "<IPython.core.display.HTML object>"
            ]
          },
          "metadata": {},
          "output_type": "display_data"
        },
        {
          "data": {
            "text/html": [
              "The new W&B backend becomes opt-out in version 0.18.0; try it out with `wandb.require(\"core\")`! See https://wandb.me/wandb-core for more information."
            ],
            "text/plain": [
              "<IPython.core.display.HTML object>"
            ]
          },
          "metadata": {},
          "output_type": "display_data"
        },
        {
          "name": "stdout",
          "output_type": "stream",
          "text": [
            "The following dataset has been loaded successfully: Trigonometry\n"
          ]
        },
        {
          "data": {
            "text/html": [
              "Tracking run with wandb version 0.17.5"
            ],
            "text/plain": [
              "<IPython.core.display.HTML object>"
            ]
          },
          "metadata": {},
          "output_type": "display_data"
        },
        {
          "data": {
            "text/html": [
              "Run data is saved locally in <code>/content/pytorch_explain/wandb/run-20240723_092139-25pr46cc</code>"
            ],
            "text/plain": [
              "<IPython.core.display.HTML object>"
            ]
          },
          "metadata": {},
          "output_type": "display_data"
        },
        {
          "data": {
            "text/html": [
              "Syncing run <strong><a href='https://wandb.ai/alih999954-politecnico-di-torino/pytorch_explain/runs/25pr46cc' target=\"_blank\">LLR3_Trigonometry</a></strong> to <a href='https://wandb.ai/alih999954-politecnico-di-torino/pytorch_explain' target=\"_blank\">Weights & Biases</a> (<a href='https://wandb.me/run' target=\"_blank\">docs</a>)<br/>"
            ],
            "text/plain": [
              "<IPython.core.display.HTML object>"
            ]
          },
          "metadata": {},
          "output_type": "display_data"
        },
        {
          "data": {
            "text/html": [
              " View project at <a href='https://wandb.ai/alih999954-politecnico-di-torino/pytorch_explain' target=\"_blank\">https://wandb.ai/alih999954-politecnico-di-torino/pytorch_explain</a>"
            ],
            "text/plain": [
              "<IPython.core.display.HTML object>"
            ]
          },
          "metadata": {},
          "output_type": "display_data"
        },
        {
          "data": {
            "text/html": [
              " View run at <a href='https://wandb.ai/alih999954-politecnico-di-torino/pytorch_explain/runs/25pr46cc' target=\"_blank\">https://wandb.ai/alih999954-politecnico-di-torino/pytorch_explain/runs/25pr46cc</a>"
            ],
            "text/plain": [
              "<IPython.core.display.HTML object>"
            ]
          },
          "metadata": {},
          "output_type": "display_data"
        },
        {
          "name": "stdout",
          "output_type": "stream",
          "text": [
            "-------------------------- Training Trigonometry using LLR3 ----------------------\n",
            "Epoch 1, Loss: 1.0619423443620855, Train Accuracy: 0.6110714285714286, Val Loss: 1.0362199436534534, Val Accuracy: 0.59, Train Precision: 0.3734082908163266, Train Recall: 0.6110714285714286, Train F1: 0.4635527440858853, Val Precision: 0.34809999999999997, Val Recall: 0.59, Val F1: 0.43786163522012583, Epoch Time: 0.40245580673217773\n",
            "Epoch 2, Loss: 1.0120272460308941, Train Accuracy: 0.6110714285714286, Val Loss: 0.9791820862076499, Val Accuracy: 0.6, Train Precision: 0.3734082908163266, Train Recall: 0.6110714285714286, Train F1: 0.4635527440858853, Val Precision: 0.7616161616161616, Val Recall: 0.6, Val F1: 0.4601567209162145, Epoch Time: 0.40648365020751953\n",
            "Epoch 3, Loss: 0.9346235963431272, Train Accuracy: 0.7828571428571428, Val Loss: 0.8663977763869546, Val Accuracy: 0.9285714285714286, Train Precision: 0.8377691969465634, Train Recall: 0.7828571428571428, Train F1: 0.757627606370479, Val Precision: 0.9315993315117914, Val Recall: 0.9285714285714286, Val F1: 0.9277347114556416, Epoch Time: 0.338531494140625\n",
            "Convergence achieved at epoch 3 with validation accuracy 0.9285714285714286\n",
            "Epoch 4, Loss: 0.8179330649701032, Train Accuracy: 0.9142857142857143, Val Loss: 0.7439619627865878, Val Accuracy: 0.9457142857142857, Train Precision: 0.9143151971864364, Train Recall: 0.9142857142857143, Train F1: 0.9142999701087583, Val Precision: 0.9471177394817567, Val Recall: 0.9457142857142857, Val F1: 0.9459142079933041, Epoch Time: 0.41023731231689453\n",
            "Epoch 5, Loss: 0.7253638221458956, Train Accuracy: 0.9310714285714285, Val Loss: 0.6746903603727167, Val Accuracy: 0.9514285714285714, Train Precision: 0.9333712282001843, Train Recall: 0.9310714285714285, Train F1: 0.9314633132306716, Val Precision: 0.9530998132392613, Val Recall: 0.9514285714285714, Val F1: 0.9516259700294354, Epoch Time: 0.38448286056518555\n",
            "Epoch 6, Loss: 0.6730474179441278, Train Accuracy: 0.9457142857142857, Val Loss: 0.6402121673930775, Val Accuracy: 0.96, Train Precision: 0.9465064498939831, Train Recall: 0.9457142857142857, Train F1: 0.9458905211212905, Val Precision: 0.9602656581496172, Val Recall: 0.96, Val F1: 0.9600605550883093, Epoch Time: 0.35530900955200195\n",
            "Epoch 7, Loss: 0.6442094120112333, Train Accuracy: 0.955, Val Loss: 0.6183705655011263, Val Accuracy: 0.9614285714285714, Train Precision: 0.9553981997020072, Train Recall: 0.955, Train F1: 0.9550999630834852, Val Precision: 0.9628794524189261, Val Recall: 0.9614285714285714, Val F1: 0.96157805901878, Epoch Time: 0.3571751117706299\n",
            "Epoch 8, Loss: 0.6270426078276201, Train Accuracy: 0.95, Val Loss: 0.6064745350317522, Val Accuracy: 0.9614285714285714, Train Precision: 0.9503771074237203, Train Recall: 0.95, Train F1: 0.9501035166813097, Val Precision: 0.9614761904761905, Val Recall: 0.9614285714285714, Val F1: 0.9613525410164067, Epoch Time: 0.3385634422302246\n",
            "Epoch 9, Loss: 0.6152524121782996, Train Accuracy: 0.9567857142857142, Val Loss: 0.5946176160465587, Val Accuracy: 0.9685714285714285, Train Precision: 0.9569482725155278, Train Recall: 0.9567857142857142, Train F1: 0.9568383761856906, Val Precision: 0.9686918839765365, Val Recall: 0.9685714285714285, Val F1: 0.9685000550796111, Epoch Time: 0.3694305419921875\n",
            "Epoch 10, Loss: 0.605923055247827, Train Accuracy: 0.9571428571428572, Val Loss: 0.5869291966611688, Val Accuracy: 0.97, Train Precision: 0.9571753526749129, Train Recall: 0.9571428571428572, Train F1: 0.9571570622618641, Val Precision: 0.9700832632464257, Val Recall: 0.97, Val F1: 0.9700233115940962, Epoch Time: 0.34155702590942383\n",
            "Epoch 11, Loss: 0.599437958814881, Train Accuracy: 0.9596428571428571, Val Loss: 0.5796163353053007, Val Accuracy: 0.9728571428571429, Train Precision: 0.9597986402056722, Train Recall: 0.9596428571428571, Train F1: 0.9596920372643225, Val Precision: 0.9728755393743258, Val Recall: 0.9728571428571429, Val F1: 0.9728642951251647, Epoch Time: 0.3511016368865967\n",
            "Epoch 12, Loss: 0.5938226838003505, Train Accuracy: 0.96, Val Loss: 0.5749913616613909, Val Accuracy: 0.9714285714285714, Train Precision: 0.9600306150177595, Train Recall: 0.96, Train F1: 0.9600132581110731, Val Precision: 0.971562843204863, Val Recall: 0.9714285714285714, Val F1: 0.9713636864360101, Epoch Time: 0.3528909683227539\n",
            "Epoch 13, Loss: 0.5883898829871957, Train Accuracy: 0.9617857142857142, Val Loss: 0.5712885368954052, Val Accuracy: 0.9742857142857143, Train Precision: 0.9618423757263778, Train Recall: 0.9617857142857142, Train F1: 0.9618077616538003, Val Precision: 0.9742951080831449, Val Recall: 0.9742857142857143, Val F1: 0.9742574508560558, Epoch Time: 0.34120726585388184\n",
            "Epoch 14, Loss: 0.584811660376462, Train Accuracy: 0.9646428571428571, Val Loss: 0.5685432282361117, Val Accuracy: 0.9742857142857143, Train Precision: 0.9647159527157745, Train Recall: 0.9646428571428571, Train F1: 0.9646689904923131, Val Precision: 0.9743481768997527, Val Recall: 0.9742857142857143, Val F1: 0.974242619176598, Epoch Time: 0.3374159336090088\n",
            "Epoch 15, Loss: 0.5800468704917214, Train Accuracy: 0.9678571428571429, Val Loss: 0.5639987208626487, Val Accuracy: 0.98, Train Precision: 0.9678474107804098, Train Recall: 0.9678571428571429, Train F1: 0.9678517588402183, Val Precision: 0.9800373803450104, Val Recall: 0.98, Val F1: 0.9800104503775621, Epoch Time: 0.4256772994995117\n",
            "Epoch 16, Loss: 0.577216081998565, Train Accuracy: 0.9678571428571429, Val Loss: 0.5595629540356722, Val Accuracy: 0.9828571428571429, Train Precision: 0.9678982903971857, Train Recall: 0.9678571428571429, Train F1: 0.9678730666289214, Val Precision: 0.9828552103149439, Val Recall: 0.9828571428571429, Val F1: 0.9828478767609202, Epoch Time: 0.3548140525817871\n",
            "Epoch 17, Loss: 0.5728327225555073, Train Accuracy: 0.9710714285714286, Val Loss: 0.5569263859228655, Val Accuracy: 0.9814285714285714, Train Precision: 0.971088172658723, Train Recall: 0.9710714285714286, Train F1: 0.9710786327442884, Val Precision: 0.9814227559879733, Val Recall: 0.9814285714285714, Val F1: 0.9814235941849154, Epoch Time: 0.34786152839660645\n",
            "Epoch 18, Loss: 0.5691250887784091, Train Accuracy: 0.9714285714285714, Val Loss: 0.5533675334670327, Val Accuracy: 0.9842857142857143, Train Precision: 0.9714200400376946, Train Recall: 0.9714285714285714, Train F1: 0.9714237856357496, Val Precision: 0.9842814431944867, Val Recall: 0.9842857142857143, Val F1: 0.9842815027718513, Epoch Time: 0.362929105758667\n",
            "Epoch 19, Loss: 0.5656209019097415, Train Accuracy: 0.975, Val Loss: 0.5542209581895308, Val Accuracy: 0.98, Train Precision: 0.9749926692949796, Train Recall: 0.975, Train F1: 0.9749958124312809, Val Precision: 0.9801757208898425, Val Recall: 0.98, Val F1: 0.9799545805052071, Epoch Time: 0.336148738861084\n",
            "Epoch 20, Loss: 0.5633742673830553, Train Accuracy: 0.9778571428571429, Val Loss: 0.5486268617890098, Val Accuracy: 0.9814285714285714, Train Precision: 0.9778439537187011, Train Recall: 0.9778571428571429, Train F1: 0.9778421491045398, Val Precision: 0.9814945332211942, Val Recall: 0.9814285714285714, Val F1: 0.9814430024153927, Epoch Time: 0.3549504280090332\n",
            "Epoch 21, Loss: 0.5601252886382017, Train Accuracy: 0.9771428571428571, Val Loss: 0.5475650104609403, Val Accuracy: 0.9828571428571429, Train Precision: 0.9771291576886918, Train Recall: 0.9771428571428571, Train F1: 0.9771312898374408, Val Precision: 0.9828860021523419, Val Recall: 0.9828571428571429, Val F1: 0.9828383005707039, Epoch Time: 0.3599882125854492\n",
            "Epoch 22, Loss: 0.5580040785399351, Train Accuracy: 0.9803571428571428, Val Loss: 0.5442590767687018, Val Accuracy: 0.9857142857142858, Train Precision: 0.9804023104882507, Train Recall: 0.9803571428571428, Train F1: 0.9803214280953375, Val Precision: 0.9857457968159354, Val Recall: 0.9857142857142858, Val F1: 0.9857217502696871, Epoch Time: 0.3628718852996826\n",
            "Epoch 23, Loss: 0.5551241582090204, Train Accuracy: 0.9803571428571428, Val Loss: 0.5434284914623607, Val Accuracy: 0.9871428571428571, Train Precision: 0.9803468005857917, Train Recall: 0.9803571428571428, Train F1: 0.980345524999917, Val Precision: 0.9872001682085787, Val Recall: 0.9871428571428571, Val F1: 0.9871528478260413, Epoch Time: 0.3948853015899658\n",
            "Epoch 24, Loss: 0.5528155443343249, Train Accuracy: 0.9832142857142857, Val Loss: 0.5427231626077131, Val Accuracy: 0.9828571428571429, Train Precision: 0.983214848657233, Train Recall: 0.9832142857142857, Train F1: 0.9831985747259199, Val Precision: 0.9828552103149439, Val Recall: 0.9828571428571429, Val F1: 0.9828478767609202, Epoch Time: 0.3595566749572754\n",
            "Epoch 25, Loss: 0.5523340106010437, Train Accuracy: 0.98, Val Loss: 0.5418535470962524, Val Accuracy: 0.9842857142857143, Train Precision: 0.9799897537399656, Train Recall: 0.98, Train F1: 0.9799864572557133, Val Precision: 0.9842814431944867, Val Recall: 0.9842857142857143, Val F1: 0.9842815027718513, Epoch Time: 0.37673449516296387\n",
            "Epoch 26, Loss: 0.5499636070294813, Train Accuracy: 0.9835714285714285, Val Loss: 0.5410498489033092, Val Accuracy: 0.9785714285714285, Train Precision: 0.9835643045786923, Train Recall: 0.9835714285714285, Train F1: 0.9835631145706605, Val Precision: 0.9787285119527263, Val Recall: 0.9785714285714285, Val F1: 0.9785987011921516, Epoch Time: 0.4002869129180908\n",
            "Epoch 27, Loss: 0.5483813407746229, Train Accuracy: 0.9828571428571429, Val Loss: 0.5400839773091403, Val Accuracy: 0.9814285714285714, Train Precision: 0.9828492882575811, Train Recall: 0.9828571428571429, Train F1: 0.9828484673780804, Val Precision: 0.9815786999731398, Val Recall: 0.9814285714285714, Val F1: 0.9814522076998647, Epoch Time: 0.5279741287231445\n",
            "Epoch 28, Loss: 0.5475291081450202, Train Accuracy: 0.9839285714285714, Val Loss: 0.5392120101235129, Val Accuracy: 0.9814285714285714, Train Precision: 0.983937631765719, Train Recall: 0.9839285714285714, Train F1: 0.983910731754404, Val Precision: 0.9814945332211942, Val Recall: 0.9814285714285714, Val F1: 0.9814430024153927, Epoch Time: 0.5686507225036621\n",
            "Epoch 29, Loss: 0.546996146440506, Train Accuracy: 0.9825, Val Loss: 0.5394668850031766, Val Accuracy: 0.9785714285714285, Train Precision: 0.9824973371357888, Train Recall: 0.9825, Train F1: 0.9824985369446144, Val Precision: 0.9785640687814602, Val Recall: 0.9785714285714285, Val F1: 0.9785656855979793, Epoch Time: 0.4969334602355957\n",
            "Epoch 30, Loss: 0.5452145717360757, Train Accuracy: 0.9828571428571429, Val Loss: 0.5370226556604559, Val Accuracy: 0.9785714285714285, Train Precision: 0.9828508204349847, Train Recall: 0.9828571428571429, Train F1: 0.9828455347906115, Val Precision: 0.978641715727502, Val Recall: 0.9785714285714285, Val F1: 0.9785880797100686, Epoch Time: 0.6475958824157715\n",
            "Epoch 31, Loss: 0.5433438284830614, Train Accuracy: 0.9875, Val Loss: 0.5368930263952776, Val Accuracy: 0.9785714285714285, Train Precision: 0.9875171695891806, Train Recall: 0.9875, Train F1: 0.9874861246978698, Val Precision: 0.9787285119527263, Val Recall: 0.9785714285714285, Val F1: 0.9785987011921516, Epoch Time: 0.4598088264465332\n",
            "Epoch 32, Loss: 0.5447497245940295, Train Accuracy: 0.9825, Val Loss: 0.5366553447463296, Val Accuracy: 0.9785714285714285, Train Precision: 0.982493561311784, Train Recall: 0.9825, Train F1: 0.9824955952680594, Val Precision: 0.9787285119527263, Val Recall: 0.9785714285714285, Val F1: 0.9785987011921516, Epoch Time: 0.5139954090118408\n",
            "Epoch 33, Loss: 0.5434079400517724, Train Accuracy: 0.9842857142857143, Val Loss: 0.5375465967438438, Val Accuracy: 0.9785714285714285, Train Precision: 0.9842916913304445, Train Recall: 0.9842857142857143, Train F1: 0.9842696409355546, Val Precision: 0.978573605092091, Val Recall: 0.9785714285714285, Val F1: 0.9785539094006874, Epoch Time: 0.49431347846984863\n",
            "Epoch 34, Loss: 0.5406301021575928, Train Accuracy: 0.9896428571428572, Val Loss: 0.5360922325741161, Val Accuracy: 0.98, Train Precision: 0.9896400332375836, Train Recall: 0.9896428571428572, Train F1: 0.9896402502606882, Val Precision: 0.9801068736924358, Val Recall: 0.98, Val F1: 0.9800205423517624, Epoch Time: 0.48964953422546387\n",
            "Epoch 35, Loss: 0.5395827279849486, Train Accuracy: 0.9864285714285714, Val Loss: 0.5336808020418341, Val Accuracy: 0.9785714285714285, Train Precision: 0.9864271538037588, Train Recall: 0.9864285714285714, Train F1: 0.986419381709234, Val Precision: 0.978641715727502, Val Recall: 0.9785714285714285, Val F1: 0.9785880797100686, Epoch Time: 0.5049962997436523\n",
            "Epoch 36, Loss: 0.5386392000046644, Train Accuracy: 0.99, Val Loss: 0.5339740406383168, Val Accuracy: 0.9785714285714285, Train Precision: 0.9900283114256825, Train Recall: 0.99, Train F1: 0.989988025021572, Val Precision: 0.9787285119527263, Val Recall: 0.9785714285714285, Val F1: 0.9785987011921516, Epoch Time: 0.4649639129638672\n",
            "Epoch 37, Loss: 0.5384245108474385, Train Accuracy: 0.9846428571428572, Val Loss: 0.5352153561332009, Val Accuracy: 0.9814285714285714, Train Precision: 0.984637502889524, Train Recall: 0.9846428571428572, Train F1: 0.9846389917658481, Val Precision: 0.9816948158573775, Val Recall: 0.9814285714285714, Val F1: 0.9814610824249378, Epoch Time: 0.33924102783203125\n",
            "Epoch 38, Loss: 0.5378107726573944, Train Accuracy: 0.9896428571428572, Val Loss: 0.5322927344929088, Val Accuracy: 0.9814285714285714, Train Precision: 0.9896400332375836, Train Recall: 0.9896428571428572, Train F1: 0.9896402502606882, Val Precision: 0.9814424892125134, Val Recall: 0.9814285714285714, Val F1: 0.9814334650856391, Epoch Time: 0.35817956924438477\n",
            "Epoch 39, Loss: 0.5377008603377775, Train Accuracy: 0.9871428571428571, Val Loss: 0.5325050787492231, Val Accuracy: 0.9814285714285714, Train Precision: 0.9871548019942267, Train Recall: 0.9871428571428571, Train F1: 0.9871297062199993, Val Precision: 0.9814945332211942, Val Recall: 0.9814285714285714, Val F1: 0.9814430024153927, Epoch Time: 0.34592676162719727\n",
            "Epoch 40, Loss: 0.5390418456359343, Train Accuracy: 0.9853571428571428, Val Loss: 0.5345380089499734, Val Accuracy: 0.98, Train Precision: 0.9853549585722138, Train Recall: 0.9853571428571428, Train F1: 0.9853559186679425, Val Precision: 0.98008255548289, Val Recall: 0.98, Val F1: 0.9799664815817984, Epoch Time: 0.3581407070159912\n",
            "Epoch 41, Loss: 0.5356616662307219, Train Accuracy: 0.9907142857142858, Val Loss: 0.5318775122815912, Val Accuracy: 0.9814285714285714, Train Precision: 0.9907144677898038, Train Recall: 0.9907142857142858, Train F1: 0.9907095864964605, Val Precision: 0.9815786999731398, Val Recall: 0.9814285714285714, Val F1: 0.9814522076998647, Epoch Time: 0.3494081497192383\n",
            "Total Training Time: 16.528902769088745\n",
            "\n",
            " Training on Trigonometry using LLR3 has been completed!\n"
          ]
        },
        {
          "data": {
            "application/vnd.jupyter.widget-view+json": {
              "model_id": "35ea46ca931942f4b2a5c4f3cfb6e27e",
              "version_major": 2,
              "version_minor": 0
            },
            "text/plain": [
              "VBox(children=(Label(value='0.001 MB of 0.001 MB uploaded\\r'), FloatProgress(value=1.0, max=1.0)))"
            ]
          },
          "metadata": {},
          "output_type": "display_data"
        },
        {
          "data": {
            "text/html": [
              "<style>\n",
              "    table.wandb td:nth-child(1) { padding: 0 10px; text-align: left ; width: auto;} td:nth-child(2) {text-align: left ; width: 100%}\n",
              "    .wandb-row { display: flex; flex-direction: row; flex-wrap: wrap; justify-content: flex-start; width: 100% }\n",
              "    .wandb-col { display: flex; flex-direction: column; flex-basis: 100%; flex: 1; padding: 10px; }\n",
              "    </style>\n",
              "<div class=\"wandb-row\"><div class=\"wandb-col\"><h3>Run history:</h3><br/><table class=\"wandb\"><tr><td>convergence_time</td><td>▁</td></tr><tr><td>epoch</td><td>▁▁▁▂▂▂▂▂▂▃▃▃▃▃▃▄▄▄▄▄▅▅▅▅▅▅▆▆▆▆▆▆▇▇▇▇▇▇██</td></tr><tr><td>epoch_time</td><td>▂▃▁▃▂▁▁▁▂▁▁▁▁▁▃▁▁▂▁▁▂▂▂▂▂▂▅▆▅█▄▅▅▄▅▄▁▁▁▁</td></tr><tr><td>learning_rate</td><td>▁▁▁▁▁▁▁▁▁▁▁▁▁▁▁▁▁▁▁▁▁▁▁▁▁▁▁▁▁▁▁▁▁▁▁▁▁▁▁▁</td></tr><tr><td>loss</td><td>█▇▆▅▄▃▂▂▂▂▂▂▂▂▂▂▁▁▁▁▁▁▁▁▁▁▁▁▁▁▁▁▁▁▁▁▁▁▁▁</td></tr><tr><td>total_training_time</td><td>▁</td></tr><tr><td>train_accuracy</td><td>▁▁▄▇▇▇▇▇▇▇▇▇▇███████████████████████████</td></tr><tr><td>train_concept_accuracy</td><td>▁▃▄▅▆▆▇▇████████████████████████████████</td></tr><tr><td>train_concept_loss</td><td>█▇▆▅▃▄▄▃▂▂▃▂▂▂▂▂▂▁▂▂▁▂▁▁▂▁▂▂▂▂▃▁▂▁▁▁▁▂▁▂</td></tr><tr><td>train_f1</td><td>▁▁▅▇▇▇█▇████████████████████████████████</td></tr><tr><td>train_precision</td><td>▁▁▆▇▇▇██████████████████████████████████</td></tr><tr><td>train_recall</td><td>▁▁▄▇▇▇▇▇▇▇▇▇▇███████████████████████████</td></tr><tr><td>train_task_accuracy</td><td>▁▁▄▇▇▇▇▇▇▇▇▇▇███████████████████████████</td></tr><tr><td>train_task_loss</td><td>█▇▇▅▃▂▂▂▂▃▂▂▂▂▂▂▁▂▂▂▁▂▁▂▂▂▁▂▁▁▁▁▁▃▁▁▁▁▁▂</td></tr><tr><td>val_accuracy</td><td>▁▁▇▇▇███████████████████████████████████</td></tr><tr><td>val_concept_accuracy</td><td>▁▂▄▅▅▇▇█▇█▇▇▇█▇▇██████▇███▇█████▇██▇▇▇▇█</td></tr><tr><td>val_concept_loss</td><td>█▇▆▅▅▃▃▃▃▂▂▂▂▂▂▂▂▂▁▂▁▂▁▂▂▂▂▂▂▂▂▂▁▂▂▂▁▁▂▁</td></tr><tr><td>val_f1</td><td>▁▁▇▇████████████████████████████████████</td></tr><tr><td>val_learning_rate</td><td>▁▁▁▁▁▁▁▁▁▁▁▁▁▁▁▁▁▁▁▁▁▁▁▁▁▁▁▁▁▁▁▁▁▁▁▁▁▁▁▁</td></tr><tr><td>val_loss</td><td>█▇▆▄▃▃▂▂▂▂▂▂▂▂▁▁▁▁▁▁▁▁▁▁▁▁▁▁▁▁▁▁▁▁▁▁▁▁▁▁</td></tr><tr><td>val_precision</td><td>▁▆▇█████████████████████████████████████</td></tr><tr><td>val_recall</td><td>▁▁▇▇▇███████████████████████████████████</td></tr><tr><td>val_task_accuracy</td><td>▁▁▇▇▇███████████████████████████████████</td></tr><tr><td>val_task_loss</td><td>█▇▅▃▂▂▂▂▂▂▂▂▁▂▂▂▁▁▂▁▁▁▂▁▁▂▁▁▁▂▁▁▁▁▁▁▁▁▁▁</td></tr></table><br/></div><div class=\"wandb-col\"><h3>Run summary:</h3><br/><table class=\"wandb\"><tr><td>convergence_time</td><td>1.15295</td></tr><tr><td>epoch</td><td>41</td></tr><tr><td>epoch_time</td><td>0.34941</td></tr><tr><td>learning_rate</td><td>0.0005</td></tr><tr><td>loss</td><td>0.53566</td></tr><tr><td>total_training_time</td><td>16.5289</td></tr><tr><td>train_accuracy</td><td>0.99071</td></tr><tr><td>train_concept_accuracy</td><td>0.63107</td></tr><tr><td>train_concept_loss</td><td>0.50298</td></tr><tr><td>train_f1</td><td>0.99071</td></tr><tr><td>train_precision</td><td>0.99071</td></tr><tr><td>train_recall</td><td>0.99071</td></tr><tr><td>train_task_accuracy</td><td>0.99071</td></tr><tr><td>train_task_loss</td><td>0.02357</td></tr><tr><td>val_accuracy</td><td>0.98143</td></tr><tr><td>val_concept_accuracy</td><td>0.64714</td></tr><tr><td>val_concept_loss</td><td>0.51035</td></tr><tr><td>val_f1</td><td>0.98145</td></tr><tr><td>val_learning_rate</td><td>0.0005</td></tr><tr><td>val_loss</td><td>0.53188</td></tr><tr><td>val_precision</td><td>0.98158</td></tr><tr><td>val_recall</td><td>0.98143</td></tr><tr><td>val_task_accuracy</td><td>0.98143</td></tr><tr><td>val_task_loss</td><td>0.02732</td></tr></table><br/></div></div>"
            ],
            "text/plain": [
              "<IPython.core.display.HTML object>"
            ]
          },
          "metadata": {},
          "output_type": "display_data"
        },
        {
          "data": {
            "text/html": [
              " View run <strong style=\"color:#cdcd00\">LLR3_Trigonometry</strong> at: <a href='https://wandb.ai/alih999954-politecnico-di-torino/pytorch_explain/runs/25pr46cc' target=\"_blank\">https://wandb.ai/alih999954-politecnico-di-torino/pytorch_explain/runs/25pr46cc</a><br/> View project at: <a href='https://wandb.ai/alih999954-politecnico-di-torino/pytorch_explain' target=\"_blank\">https://wandb.ai/alih999954-politecnico-di-torino/pytorch_explain</a><br/>Synced 5 W&B file(s), 0 media file(s), 0 artifact file(s) and 0 other file(s)"
            ],
            "text/plain": [
              "<IPython.core.display.HTML object>"
            ]
          },
          "metadata": {},
          "output_type": "display_data"
        },
        {
          "data": {
            "text/html": [
              "Find logs at: <code>./wandb/run-20240723_092139-25pr46cc/logs</code>"
            ],
            "text/plain": [
              "<IPython.core.display.HTML object>"
            ]
          },
          "metadata": {},
          "output_type": "display_data"
        },
        {
          "data": {
            "text/html": [
              "The new W&B backend becomes opt-out in version 0.18.0; try it out with `wandb.require(\"core\")`! See https://wandb.me/wandb-core for more information."
            ],
            "text/plain": [
              "<IPython.core.display.HTML object>"
            ]
          },
          "metadata": {},
          "output_type": "display_data"
        },
        {
          "name": "stdout",
          "output_type": "stream",
          "text": [
            "The following dataset has been loaded successfully: Dot\n"
          ]
        },
        {
          "data": {
            "text/html": [
              "Tracking run with wandb version 0.17.5"
            ],
            "text/plain": [
              "<IPython.core.display.HTML object>"
            ]
          },
          "metadata": {},
          "output_type": "display_data"
        },
        {
          "data": {
            "text/html": [
              "Run data is saved locally in <code>/content/pytorch_explain/wandb/run-20240723_092206-8dlfsjji</code>"
            ],
            "text/plain": [
              "<IPython.core.display.HTML object>"
            ]
          },
          "metadata": {},
          "output_type": "display_data"
        },
        {
          "data": {
            "text/html": [
              "Syncing run <strong><a href='https://wandb.ai/alih999954-politecnico-di-torino/pytorch_explain/runs/8dlfsjji' target=\"_blank\">LLR3_Dot</a></strong> to <a href='https://wandb.ai/alih999954-politecnico-di-torino/pytorch_explain' target=\"_blank\">Weights & Biases</a> (<a href='https://wandb.me/run' target=\"_blank\">docs</a>)<br/>"
            ],
            "text/plain": [
              "<IPython.core.display.HTML object>"
            ]
          },
          "metadata": {},
          "output_type": "display_data"
        },
        {
          "data": {
            "text/html": [
              " View project at <a href='https://wandb.ai/alih999954-politecnico-di-torino/pytorch_explain' target=\"_blank\">https://wandb.ai/alih999954-politecnico-di-torino/pytorch_explain</a>"
            ],
            "text/plain": [
              "<IPython.core.display.HTML object>"
            ]
          },
          "metadata": {},
          "output_type": "display_data"
        },
        {
          "data": {
            "text/html": [
              " View run at <a href='https://wandb.ai/alih999954-politecnico-di-torino/pytorch_explain/runs/8dlfsjji' target=\"_blank\">https://wandb.ai/alih999954-politecnico-di-torino/pytorch_explain/runs/8dlfsjji</a>"
            ],
            "text/plain": [
              "<IPython.core.display.HTML object>"
            ]
          },
          "metadata": {},
          "output_type": "display_data"
        },
        {
          "name": "stdout",
          "output_type": "stream",
          "text": [
            "-------------------------- Training Dot using LLR3 ----------------------\n",
            "Epoch 1, Loss: 1.0569172203540802, Train Accuracy: 0.5489285714285714, Val Loss: 1.0513964999805798, Val Accuracy: 0.5371428571428571, Train Precision: 0.5516040222892902, Train Recall: 0.5489285714285714, Train F1: 0.5267915455626404, Val Precision: 0.5674869831222138, Val Recall: 0.5371428571428571, Val F1: 0.4945535714285714, Epoch Time: 0.4829239845275879\n",
            "Epoch 2, Loss: 1.0260874046520754, Train Accuracy: 0.5942857142857143, Val Loss: 1.015939398245378, Val Accuracy: 0.5828571428571429, Train Precision: 0.6221100300199979, Train Recall: 0.5942857142857143, Train F1: 0.5601181953129132, Val Precision: 0.6088142857142859, Val Recall: 0.5828571428571429, Val F1: 0.5629373897031548, Epoch Time: 0.39142680168151855\n",
            "Epoch 3, Loss: 0.98495975272222, Train Accuracy: 0.6467857142857143, Val Loss: 0.9698037721894004, Val Accuracy: 0.6328571428571429, Train Precision: 0.6692026027802425, Train Recall: 0.6467857142857143, Train F1: 0.6300515597773108, Val Precision: 0.6602141392931027, Val Recall: 0.6328571428571429, Val F1: 0.6200539201499737, Epoch Time: 0.38204503059387207\n",
            "Epoch 4, Loss: 0.9291415363550186, Train Accuracy: 0.6996428571428571, Val Loss: 0.910066696730527, Val Accuracy: 0.7028571428571428, Train Precision: 0.7102600366660656, Train Recall: 0.6996428571428571, Train F1: 0.6937795722961297, Val Precision: 0.7168306187489903, Val Recall: 0.7028571428571428, Val F1: 0.699360307414105, Epoch Time: 0.3121199607849121\n",
            "Epoch 5, Loss: 0.8617897250435569, Train Accuracy: 0.7621428571428571, Val Loss: 0.844588740305467, Val Accuracy: 0.77, Train Precision: 0.7704571891808426, Train Recall: 0.7621428571428571, Train F1: 0.7592782493708143, Val Precision: 0.7756448639846586, Val Recall: 0.77, Val F1: 0.769314758127675, Epoch Time: 0.3550224304199219\n",
            "Epoch 6, Loss: 0.7990598231554031, Train Accuracy: 0.8167857142857143, Val Loss: 0.7901902578093789, Val Accuracy: 0.8257142857142857, Train Precision: 0.820098179745831, Train Recall: 0.8167857142857143, Train F1: 0.815898834767847, Val Precision: 0.8288157962571531, Val Recall: 0.8257142857142857, Val F1: 0.8255320797337852, Epoch Time: 0.32741475105285645\n",
            "Epoch 7, Loss: 0.7496273043480787, Train Accuracy: 0.8632142857142857, Val Loss: 0.745348805730993, Val Accuracy: 0.88, Train Precision: 0.8650284788943802, Train Recall: 0.8632142857142857, Train F1: 0.862848476553327, Val Precision: 0.8803885841170322, Val Recall: 0.88, Val F1: 0.8800146949571805, Epoch Time: 0.3122982978820801\n",
            "Epoch 8, Loss: 0.7106947695667093, Train Accuracy: 0.9007142857142857, Val Loss: 0.7122297232801263, Val Accuracy: 0.8885714285714286, Train Precision: 0.9016757266563955, Train Recall: 0.9007142857142857, Train F1: 0.9005619598491247, Val Precision: 0.8885930983593543, Val Recall: 0.8885714285714286, Val F1: 0.8885532212885154, Epoch Time: 0.3437964916229248\n",
            "Epoch 9, Loss: 0.681013515049761, Train Accuracy: 0.9139285714285714, Val Loss: 0.6859252019362017, Val Accuracy: 0.9042857142857142, Train Precision: 0.9142053780608915, Train Recall: 0.9139285714285714, Train F1: 0.9138703826396235, Val Precision: 0.9042827618962042, Val Recall: 0.9042857142857142, Val F1: 0.9042823916263146, Epoch Time: 0.32012486457824707\n",
            "Convergence achieved at epoch 9 with validation accuracy 0.9042857142857142\n",
            "Epoch 10, Loss: 0.6572921980511058, Train Accuracy: 0.9260714285714285, Val Loss: 0.6653787602077831, Val Accuracy: 0.92, Train Precision: 0.9262293389373657, Train Recall: 0.9260714285714285, Train F1: 0.9260365795922967, Val Precision: 0.9203951149425288, Val Recall: 0.92, Val F1: 0.9200097966381203, Epoch Time: 0.325817346572876\n",
            "Epoch 11, Loss: 0.6391238136724993, Train Accuracy: 0.9332142857142857, Val Loss: 0.6504740064794367, Val Accuracy: 0.93, Train Precision: 0.93329691537696, Train Recall: 0.9332142857142857, Train F1: 0.9331925035322914, Val Precision: 0.9301106203721089, Val Recall: 0.93, Val F1: 0.9300078590835695, Epoch Time: 0.3160684108734131\n",
            "Epoch 12, Loss: 0.6246115876869722, Train Accuracy: 0.9421428571428572, Val Loss: 0.6371148228645325, Val Accuracy: 0.9357142857142857, Train Precision: 0.9422236445604911, Train Recall: 0.9421428571428572, Train F1: 0.9421249705722935, Val Precision: 0.935782309588622, Val Recall: 0.9357142857142857, Val F1: 0.9357004977949542, Epoch Time: 0.3271336555480957\n",
            "Epoch 13, Loss: 0.6131320663473823, Train Accuracy: 0.9489285714285715, Val Loss: 0.627832678231326, Val Accuracy: 0.9328571428571428, Train Precision: 0.9489276530234407, Train Recall: 0.9489285714285715, Train F1: 0.9489279910772825, Val Precision: 0.9331044785540699, Val Recall: 0.9328571428571428, Val F1: 0.9328262725779967, Epoch Time: 0.3160054683685303\n",
            "Epoch 14, Loss: 0.6037604117935355, Train Accuracy: 0.95, Val Loss: 0.617622126232494, Val Accuracy: 0.9414285714285714, Train Precision: 0.9500293360645514, Train Recall: 0.95, Train F1: 0.9499908807555332, Val Precision: 0.9421852501238583, Val Recall: 0.9414285714285714, Val F1: 0.9413728791130594, Epoch Time: 0.3095080852508545\n",
            "Epoch 15, Loss: 0.5956774245608937, Train Accuracy: 0.9571428571428572, Val Loss: 0.6114450909874656, Val Accuracy: 0.9414285714285714, Train Precision: 0.9571570366856281, Train Recall: 0.9571428571428572, Train F1: 0.957145548955872, Val Precision: 0.9419898573640616, Val Recall: 0.9414285714285714, Val F1: 0.9413834298108736, Epoch Time: 0.33941197395324707\n",
            "Epoch 16, Loss: 0.5893035571683537, Train Accuracy: 0.9621428571428572, Val Loss: 0.6049791682850231, Val Accuracy: 0.9457142857142857, Train Precision: 0.9621564546241503, Train Recall: 0.9621428571428572, Train F1: 0.9621452349110203, Val Precision: 0.945919215433302, Val Recall: 0.9457142857142857, Val F1: 0.9456929895433934, Epoch Time: 0.3278191089630127\n",
            "Epoch 17, Loss: 0.5839546634392305, Train Accuracy: 0.9642857142857143, Val Loss: 0.5991482843052257, Val Accuracy: 0.9528571428571428, Train Precision: 0.9642857142857143, Train Recall: 0.9642857142857143, Train F1: 0.9642857142857143, Val Precision: 0.9528639210786355, Val Recall: 0.9528571428571428, Val F1: 0.9528585866688055, Epoch Time: 0.3085298538208008\n",
            "Epoch 18, Loss: 0.5800250348719683, Train Accuracy: 0.9646428571428571, Val Loss: 0.5957324288108132, Val Accuracy: 0.9542857142857143, Train Precision: 0.9646600413393698, Train Recall: 0.9646428571428571, Train F1: 0.9646454163636541, Val Precision: 0.9543065250662585, Val Recall: 0.9542857142857143, Val F1: 0.9542883275759284, Epoch Time: 0.3391287326812744\n",
            "Epoch 19, Loss: 0.5762024860490452, Train Accuracy: 0.9653571428571428, Val Loss: 0.5926594463261691, Val Accuracy: 0.9528571428571428, Train Precision: 0.96535694638936, Train Recall: 0.9653571428571428, Train F1: 0.9653559352678512, Val Precision: 0.9532718109226841, Val Recall: 0.9528571428571428, Val F1: 0.9528285259381521, Epoch Time: 0.32533860206604004\n",
            "Epoch 20, Loss: 0.5736395418643951, Train Accuracy: 0.965, Val Loss: 0.5892711932008917, Val Accuracy: 0.9542857142857143, Train Precision: 0.965021483593233, Train Recall: 0.965, Train F1: 0.9650028594771243, Val Precision: 0.9544996190289211, Val Recall: 0.9542857142857143, Val F1: 0.9542677806681206, Epoch Time: 0.3094017505645752\n",
            "Epoch 21, Loss: 0.5710626271638003, Train Accuracy: 0.9657142857142857, Val Loss: 0.5856835733760487, Val Accuracy: 0.9642857142857143, Train Precision: 0.9657457620048209, Train Recall: 0.9657142857142857, Train F1: 0.9657176994421254, Val Precision: 0.9642918391846534, Val Recall: 0.9642857142857143, Val F1: 0.9642868080824285, Epoch Time: 0.3277449607849121\n",
            "Epoch 22, Loss: 0.5687126137993552, Train Accuracy: 0.9682142857142857, Val Loss: 0.5835347283970226, Val Accuracy: 0.9628571428571429, Train Precision: 0.9682272319286744, Train Recall: 0.9682142857142857, Train F1: 0.9682107420572909, Val Precision: 0.9630800226245401, Val Recall: 0.9628571428571429, Val F1: 0.962842571792848, Epoch Time: 0.3216283321380615\n",
            "Epoch 23, Loss: 0.5656743239272725, Train Accuracy: 0.97, Val Loss: 0.5837669318372553, Val Accuracy: 0.96, Train Precision: 0.9700126828132563, Train Recall: 0.97, Train F1: 0.9700018842691105, Val Precision: 0.9603503143006811, Val Recall: 0.96, Val F1: 0.9599787461886194, Epoch Time: 0.310849666595459\n",
            "Epoch 24, Loss: 0.5634900534694846, Train Accuracy: 0.9707142857142858, Val Loss: 0.5799531719901345, Val Accuracy: 0.9657142857142857, Train Precision: 0.9707268853759022, Train Recall: 0.9707142857142858, Train F1: 0.9707161251198457, Val Precision: 0.9657662184819005, Val Recall: 0.9657142857142857, Val F1: 0.9657086834733892, Epoch Time: 0.3424224853515625\n",
            "Epoch 25, Loss: 0.5626455504785884, Train Accuracy: 0.9728571428571429, Val Loss: 0.5801388892260465, Val Accuracy: 0.9585714285714285, Train Precision: 0.9728571428571429, Train Recall: 0.9728571428571429, Train F1: 0.9728571428571429, Val Precision: 0.9586515974808393, Val Recall: 0.9585714285714285, Val F1: 0.9585625430234149, Epoch Time: 0.37420177459716797\n",
            "Epoch 26, Loss: 0.560073581608859, Train Accuracy: 0.9764285714285714, Val Loss: 0.5780124501748518, Val Accuracy: 0.9628571428571429, Train Precision: 0.9764285714285714, Train Recall: 0.9764285714285714, Train F1: 0.9764285714285714, Val Precision: 0.9632592551127034, Val Recall: 0.9628571428571429, Val F1: 0.9628616912962701, Epoch Time: 0.31380558013916016\n",
            "Epoch 27, Loss: 0.5588349009102042, Train Accuracy: 0.9735714285714285, Val Loss: 0.5772499387914484, Val Accuracy: 0.9671428571428572, Train Precision: 0.9735729230395613, Train Recall: 0.9735714285714285, Train F1: 0.9735701867059395, Val Precision: 0.9671836234800105, Val Recall: 0.9671428571428572, Val F1: 0.9671454732054816, Epoch Time: 0.32795095443725586\n",
            "Epoch 28, Loss: 0.5584186017513275, Train Accuracy: 0.9721428571428572, Val Loss: 0.5746381174434315, Val Accuracy: 0.9571428571428572, Train Precision: 0.9721450734232239, Train Recall: 0.9721428571428572, Train F1: 0.9721434688715455, Val Precision: 0.9572605965463108, Val Recall: 0.9571428571428572, Val F1: 0.9571313005382576, Epoch Time: 0.3200724124908447\n",
            "Epoch 29, Loss: 0.5556495013562116, Train Accuracy: 0.9764285714285714, Val Loss: 0.5741029165007852, Val Accuracy: 0.9685714285714285, Train Precision: 0.9764405058770704, Train Recall: 0.9764285714285714, Train F1: 0.9764300519257296, Val Precision: 0.9686970172684458, Val Recall: 0.9685714285714285, Val F1: 0.9685629537280556, Epoch Time: 0.30838513374328613\n",
            "Epoch 30, Loss: 0.5549474372105165, Train Accuracy: 0.9764285714285714, Val Loss: 0.5723387815735557, Val Accuracy: 0.96, Train Precision: 0.9764341543513956, Train Recall: 0.9764285714285714, Train F1: 0.9764268738155839, Val Precision: 0.9601197017268446, Val Recall: 0.96, Val F1: 0.959989213835707, Epoch Time: 0.30521488189697266\n",
            "Epoch 31, Loss: 0.5538139140064066, Train Accuracy: 0.9732142857142857, Val Loss: 0.5711142800071023, Val Accuracy: 0.96, Train Precision: 0.9732392694413601, Train Recall: 0.9732142857142857, Train F1: 0.9732167168131819, Val Precision: 0.9602198880926669, Val Recall: 0.96, Val F1: 0.9599843080846056, Epoch Time: 0.33695435523986816\n",
            "Epoch 32, Loss: 0.5524736087430607, Train Accuracy: 0.9789285714285715, Val Loss: 0.5718126351183112, Val Accuracy: 0.9728571428571429, Train Precision: 0.9789321927924627, Train Recall: 0.9789285714285715, Train F1: 0.9789292574197158, Val Precision: 0.9729449024134754, Val Recall: 0.9728571428571429, Val F1: 0.9728513212912029, Epoch Time: 0.3430471420288086\n",
            "Epoch 33, Loss: 0.5517663549293171, Train Accuracy: 0.9796428571428571, Val Loss: 0.5713123733347113, Val Accuracy: 0.9642857142857143, Train Precision: 0.9796516609176623, Train Recall: 0.9796428571428571, Train F1: 0.979641128430915, Val Precision: 0.9647199385243743, Val Recall: 0.9642857142857143, Val F1: 0.9642640348016305, Epoch Time: 0.45725536346435547\n",
            "Epoch 34, Loss: 0.550970268520442, Train Accuracy: 0.9803571428571428, Val Loss: 0.5689164996147156, Val Accuracy: 0.9642857142857143, Train Precision: 0.9803606744939337, Train Recall: 0.9803571428571428, Train F1: 0.9803577823404132, Val Precision: 0.9643128547965161, Val Recall: 0.9642857142857143, Val F1: 0.9642815567037288, Epoch Time: 0.4090251922607422\n",
            "Epoch 35, Loss: 0.5492072118954225, Train Accuracy: 0.9828571428571429, Val Loss: 0.5674126961014487, Val Accuracy: 0.9642857142857143, Train Precision: 0.9828595480167941, Train Recall: 0.9828571428571429, Train F1: 0.9828563373227716, Val Precision: 0.9643689194538938, Val Recall: 0.9642857142857143, Val F1: 0.9642780543305302, Epoch Time: 0.45420408248901367\n",
            "Epoch 36, Loss: 0.5498423156413165, Train Accuracy: 0.9796428571428571, Val Loss: 0.5696443481878801, Val Accuracy: 0.9628571428571429, Train Precision: 0.9796512665477358, Train Recall: 0.9796428571428571, Train F1: 0.9796439356689097, Val Precision: 0.9633738153738154, Val Recall: 0.9628571428571429, Val F1: 0.9628316326530613, Epoch Time: 0.4606180191040039\n",
            "Epoch 37, Loss: 0.5484373786232688, Train Accuracy: 0.9807142857142858, Val Loss: 0.5669640898704529, Val Accuracy: 0.9685714285714285, Train Precision: 0.9807142857142858, Train Recall: 0.9807142857142858, Train F1: 0.9807142857142858, Val Precision: 0.9688002916882861, Val Recall: 0.9685714285714285, Val F1: 0.968559099209333, Epoch Time: 0.4516124725341797\n",
            "Epoch 38, Loss: 0.5462719364599748, Train Accuracy: 0.9839285714285714, Val Loss: 0.5645784302191301, Val Accuracy: 0.9685714285714285, Train Precision: 0.9839318787476109, Train Recall: 0.9839285714285714, Train F1: 0.9839290946421559, Val Precision: 0.9685714285714285, Val Recall: 0.9685714285714285, Val F1: 0.9685714285714285, Epoch Time: 0.47535109519958496\n",
            "Epoch 39, Loss: 0.5468160753900354, Train Accuracy: 0.9828571428571429, Val Loss: 0.5632641640576449, Val Accuracy: 0.97, Train Precision: 0.9828595480167941, Train Recall: 0.9828571428571429, Train F1: 0.9828563373227716, Val Precision: 0.9700286813914152, Val Recall: 0.97, Val F1: 0.9699965076311322, Epoch Time: 0.48172998428344727\n",
            "Epoch 40, Loss: 0.545119820670648, Train Accuracy: 0.9835714285714285, Val Loss: 0.5633827285333113, Val Accuracy: 0.9657142857142857, Train Precision: 0.9835768557422969, Train Recall: 0.9835714285714285, Train F1: 0.9835721332873056, Val Precision: 0.9657662184819005, Val Recall: 0.9657142857142857, Val F1: 0.9657086834733892, Epoch Time: 0.48116374015808105\n",
            "Epoch 41, Loss: 0.5441966117783026, Train Accuracy: 0.9846428571428572, Val Loss: 0.5622768456285651, Val Accuracy: 0.9714285714285714, Train Precision: 0.9846507687124257, Train Recall: 0.9846428571428572, Train F1: 0.984643670767774, Val Precision: 0.9714285714285714, Val Recall: 0.9714285714285714, Val F1: 0.9714285714285714, Epoch Time: 0.46753644943237305\n",
            "Total Training Time: 14.939434289932251\n",
            "\n",
            " Training on Dot using LLR3 has been completed!\n"
          ]
        },
        {
          "data": {
            "application/vnd.jupyter.widget-view+json": {
              "model_id": "8515f10a1515479c8aaf9cb7b1d2e3f3",
              "version_major": 2,
              "version_minor": 0
            },
            "text/plain": [
              "VBox(children=(Label(value='0.001 MB of 0.001 MB uploaded\\r'), FloatProgress(value=1.0, max=1.0)))"
            ]
          },
          "metadata": {},
          "output_type": "display_data"
        },
        {
          "data": {
            "text/html": [
              "<style>\n",
              "    table.wandb td:nth-child(1) { padding: 0 10px; text-align: left ; width: auto;} td:nth-child(2) {text-align: left ; width: 100%}\n",
              "    .wandb-row { display: flex; flex-direction: row; flex-wrap: wrap; justify-content: flex-start; width: 100% }\n",
              "    .wandb-col { display: flex; flex-direction: column; flex-basis: 100%; flex: 1; padding: 10px; }\n",
              "    </style>\n",
              "<div class=\"wandb-row\"><div class=\"wandb-col\"><h3>Run history:</h3><br/><table class=\"wandb\"><tr><td>convergence_time</td><td>▁</td></tr><tr><td>epoch</td><td>▁▁▁▂▂▂▂▂▂▃▃▃▃▃▃▄▄▄▄▄▅▅▅▅▅▅▆▆▆▆▆▆▇▇▇▇▇▇██</td></tr><tr><td>epoch_time</td><td>█▄▄▁▃▂▁▃▂▂▁▂▁▁▂▂▁▂▂▁▂▂▁▂▄▁▂▂▁▁▂▂▇▅▇▇▇██▇</td></tr><tr><td>learning_rate</td><td>▁▁▁▁▁▁▁▁▁▁▁▁▁▁▁▁▁▁▁▁▁▁▁▁▁▁▁▁▁▁▁▁▁▁▁▁▁▁▁▁</td></tr><tr><td>loss</td><td>██▇▆▅▄▄▃▃▃▂▂▂▂▂▂▂▁▁▁▁▁▁▁▁▁▁▁▁▁▁▁▁▁▁▁▁▁▁▁</td></tr><tr><td>total_training_time</td><td>▁</td></tr><tr><td>train_accuracy</td><td>▁▂▃▃▄▅▆▇▇▇▇▇▇▇██████████████████████████</td></tr><tr><td>train_concept_accuracy</td><td>▁▆▇▆▅▅▅▆▇▇▇▇▇▇▇▇▇▇▇█▇█▇█▇▇▇██▇██████████</td></tr><tr><td>train_concept_loss</td><td>██▆▇▆▄▄▃▃▃▃▃▄▃▃▃▂▃▃▃▂▃▃▃▂▂▂▃▂▃▃▃▃▃▂▂▁▂▂▁</td></tr><tr><td>train_f1</td><td>▁▂▃▄▅▅▆▇▇▇▇▇▇▇██████████████████████████</td></tr><tr><td>train_precision</td><td>▁▂▃▄▅▅▆▇▇▇▇▇▇▇██████████████████████████</td></tr><tr><td>train_recall</td><td>▁▂▃▃▄▅▆▇▇▇▇▇▇▇██████████████████████████</td></tr><tr><td>train_task_accuracy</td><td>▁▂▃▃▄▅▆▇▇▇▇▇▇▇██████████████████████████</td></tr><tr><td>train_task_loss</td><td>████▇▆▅▄▄▃▃▃▂▂▂▂▂▂▂▂▂▂▂▂▁▂▁▁▂▁▁▂▂▁▂▂▂▂▁▂</td></tr><tr><td>val_accuracy</td><td>▁▂▃▄▅▆▇▇▇▇▇▇▇▇▇█████████████████████████</td></tr><tr><td>val_concept_accuracy</td><td>▂▅▄▂▂▁▁▃▄▄▄▄▅▅▅▅▆▆▅▆▆▅▇▆▇▆▇▆▇█▇██▇▇▇▇▇▆▇</td></tr><tr><td>val_concept_loss</td><td>█▇▇▅▄▄▃▃▂▃▃▃▁▂▂▃▁▂▃▂▁▂▃▂▁▃▂▂▁▃▂▁▂▃▂▁▂▂▂▁</td></tr><tr><td>val_f1</td><td>▁▂▃▄▅▆▇▇▇▇▇▇▇███████████████████████████</td></tr><tr><td>val_learning_rate</td><td>▁▁▁▁▁▁▁▁▁▁▁▁▁▁▁▁▁▁▁▁▁▁▁▁▁▁▁▁▁▁▁▁▁▁▁▁▁▁▁▁</td></tr><tr><td>val_loss</td><td>█▇▇▆▅▄▄▃▃▂▂▂▂▂▂▂▂▁▁▁▁▁▁▁▁▁▁▁▁▁▁▁▁▁▁▁▁▁▁▁</td></tr><tr><td>val_precision</td><td>▁▂▃▄▅▆▆▇▇▇▇▇▇▇▇█████████████████████████</td></tr><tr><td>val_recall</td><td>▁▂▃▄▅▆▇▇▇▇▇▇▇▇▇█████████████████████████</td></tr><tr><td>val_task_accuracy</td><td>▁▂▃▄▅▆▇▇▇▇▇▇▇▇▇█████████████████████████</td></tr><tr><td>val_task_loss</td><td>██▇▇▆▆▄▃▃▄▃▃▂▂▂▂▂▂▂▃▂▂▂▃▁▂▁▂▁▂▁▁▂▂▁▁▁▁▂▁</td></tr></table><br/></div><div class=\"wandb-col\"><h3>Run summary:</h3><br/><table class=\"wandb\"><tr><td>convergence_time</td><td>3.24913</td></tr><tr><td>epoch</td><td>41</td></tr><tr><td>epoch_time</td><td>0.46754</td></tr><tr><td>learning_rate</td><td>0.0005</td></tr><tr><td>loss</td><td>0.5442</td></tr><tr><td>total_training_time</td><td>14.93943</td></tr><tr><td>train_accuracy</td><td>0.98464</td></tr><tr><td>train_concept_accuracy</td><td>0.71857</td></tr><tr><td>train_concept_loss</td><td>0.52849</td></tr><tr><td>train_f1</td><td>0.98464</td></tr><tr><td>train_precision</td><td>0.98465</td></tr><tr><td>train_recall</td><td>0.98464</td></tr><tr><td>train_task_accuracy</td><td>0.98464</td></tr><tr><td>train_task_loss</td><td>0.04716</td></tr><tr><td>val_accuracy</td><td>0.97143</td></tr><tr><td>val_concept_accuracy</td><td>0.74286</td></tr><tr><td>val_concept_loss</td><td>0.53332</td></tr><tr><td>val_f1</td><td>0.97143</td></tr><tr><td>val_learning_rate</td><td>0.0005</td></tr><tr><td>val_loss</td><td>0.56228</td></tr><tr><td>val_precision</td><td>0.97143</td></tr><tr><td>val_recall</td><td>0.97143</td></tr><tr><td>val_task_accuracy</td><td>0.97143</td></tr><tr><td>val_task_loss</td><td>0.15615</td></tr></table><br/></div></div>"
            ],
            "text/plain": [
              "<IPython.core.display.HTML object>"
            ]
          },
          "metadata": {},
          "output_type": "display_data"
        },
        {
          "data": {
            "text/html": [
              " View run <strong style=\"color:#cdcd00\">LLR3_Dot</strong> at: <a href='https://wandb.ai/alih999954-politecnico-di-torino/pytorch_explain/runs/8dlfsjji' target=\"_blank\">https://wandb.ai/alih999954-politecnico-di-torino/pytorch_explain/runs/8dlfsjji</a><br/> View project at: <a href='https://wandb.ai/alih999954-politecnico-di-torino/pytorch_explain' target=\"_blank\">https://wandb.ai/alih999954-politecnico-di-torino/pytorch_explain</a><br/>Synced 5 W&B file(s), 0 media file(s), 0 artifact file(s) and 0 other file(s)"
            ],
            "text/plain": [
              "<IPython.core.display.HTML object>"
            ]
          },
          "metadata": {},
          "output_type": "display_data"
        },
        {
          "data": {
            "text/html": [
              "Find logs at: <code>./wandb/run-20240723_092206-8dlfsjji/logs</code>"
            ],
            "text/plain": [
              "<IPython.core.display.HTML object>"
            ]
          },
          "metadata": {},
          "output_type": "display_data"
        },
        {
          "data": {
            "text/html": [
              "The new W&B backend becomes opt-out in version 0.18.0; try it out with `wandb.require(\"core\")`! See https://wandb.me/wandb-core for more information."
            ],
            "text/plain": [
              "<IPython.core.display.HTML object>"
            ]
          },
          "metadata": {},
          "output_type": "display_data"
        },
        {
          "name": "stdout",
          "output_type": "stream",
          "text": [
            "===========================================================\n",
            "*********** ALL TRAINING ARE DONE - Check WandB ***********\n"
          ]
        }
      ],
      "source": [
        "import time\n",
        "from sklearn.metrics import precision_score, recall_score, f1_score\n",
        "\n",
        "print(\"===========================================================\")\n",
        "print(\"Training Started!\")\n",
        "\n",
        "# Define target accuracy for convergence time\n",
        "target_accuracy = 0.9  # for example\n",
        "\n",
        "# Iterate over models\n",
        "for model_name in models:\n",
        "    if model_name == 'DCRBase':\n",
        "        print(f\"Training on {model_name} ... \")\n",
        "        print(f\"--------------------------------\")\n",
        "\n",
        "        for dataset_name, dataset in zip(dataset_names, datasets):\n",
        "            x, c, y = dataset\n",
        "            x_train, x_test, c_train, c_test, y_train, y_test = train_test_split(\n",
        "                x, c, y, test_size=0.3, random_state=42)\n",
        "            print(f\"The following dataset has been loaded successfully: {dataset_name}\")\n",
        "\n",
        "            y_train = F.one_hot(y_train.long().ravel()).float()\n",
        "            y_test = F.one_hot(y_test.long().ravel()).float()\n",
        "\n",
        "            embedding_size = 16\n",
        "            concept_encoder = torch.nn.Sequential(\n",
        "                torch.nn.Linear(x.shape[1], 16),\n",
        "                torch.nn.LeakyReLU(),\n",
        "                te.nn.ConceptEmbedding(16, c.shape[1], embedding_size),\n",
        "            )\n",
        "\n",
        "            task_predictor = ConceptReasoningLayer(embedding_size, y_train.shape[1])\n",
        "            model = torch.nn.Sequential(concept_encoder, task_predictor)\n",
        "\n",
        "            num_val_samples = int(len(x_train) * 0.2)\n",
        "            num_train_samples = len(x_train) - num_val_samples\n",
        "            train_dataset, val_dataset = random_split(\n",
        "                list(zip(x_train, c_train, y_train)), [num_train_samples, num_val_samples])\n",
        "\n",
        "            train_loader = DataLoader(train_dataset, batch_size=64, shuffle=True)\n",
        "            val_loader = DataLoader(val_dataset, batch_size=64, shuffle=False)\n",
        "\n",
        "            wandb.init(project=\"pytorch_explain\", entity=\"alih999954-politecnico-di-torino\",\n",
        "                       name=f\"{model_name}_{dataset_name}\")\n",
        "\n",
        "            config = {\n",
        "                'lr': 0.0005,\n",
        "                'task_loss_weight': 0.5,\n",
        "                'loss_function': 'bce',\n",
        "                'loss_function2': 'bceL',\n",
        "                'loss_function3': 'cross_entropy'\n",
        "            }\n",
        "            wandb.config.update(config)\n",
        "\n",
        "            loss_form = get_loss_function(wandb.config.loss_function)\n",
        "            optimizer = torch.optim.AdamW(model.parameters(), lr=wandb.config.lr)\n",
        "            scheduler = ReduceLROnPlateau(optimizer, mode='min', factor=0.0001, patience=7)\n",
        "\n",
        "            print(f'-------------------------- Training {dataset_name} using {model_name} ----------------------')\n",
        "\n",
        "            # Initialize timers and convergence flag\n",
        "            total_start_time = time.time()\n",
        "            convergence_time = None\n",
        "\n",
        "            for epoch in range(41):\n",
        "                epoch_start_time = time.time()\n",
        "                model.train()\n",
        "                train_losses, train_correct = 0, 0\n",
        "                all_y_true_train, all_y_pred_train = [], []\n",
        "                all_c_true_train, all_c_pred_train = [], []\n",
        "\n",
        "                for x_batch, c_batch, y_batch in train_loader:\n",
        "                    optimizer.zero_grad()\n",
        "                    c_emb, c_pred = concept_encoder(x_batch)\n",
        "                    y_pred = task_predictor(c_emb, c_pred)\n",
        "\n",
        "                    concept_loss = loss_form(c_pred, c_batch)\n",
        "                    task_loss = loss_form(y_pred, y_batch)\n",
        "                    loss = concept_loss + 0.5 * task_loss\n",
        "\n",
        "                    loss.backward()\n",
        "                    optimizer.step()\n",
        "\n",
        "                    train_losses += loss.item()\n",
        "                    train_correct += (y_pred.argmax(1) == y_batch.argmax(1)).sum().item()\n",
        "                    all_y_true_train.append(y_batch.cpu().numpy())\n",
        "                    all_y_pred_train.append(y_pred.detach().cpu().numpy())\n",
        "                    all_c_true_train.append(c_batch.cpu().numpy())\n",
        "                    all_c_pred_train.append(c_pred.detach().cpu().numpy())\n",
        "\n",
        "                    wandb.log({\n",
        "                        'train_concept_loss': concept_loss.item(),\n",
        "                        'train_task_loss': task_loss.item(),\n",
        "                        'learning_rate': optimizer.param_groups[0]['lr']\n",
        "                    })\n",
        "\n",
        "                all_y_true_train = np.concatenate(all_y_true_train, axis=0)\n",
        "                all_y_pred_train = np.concatenate(all_y_pred_train, axis=0)\n",
        "                all_c_true_train = np.concatenate(all_c_true_train, axis=0)\n",
        "                all_c_pred_train = np.concatenate(all_c_pred_train, axis=0)\n",
        "                train_precision = precision_score(all_y_true_train.argmax(1), all_y_pred_train.argmax(1), average='weighted')\n",
        "                train_recall = recall_score(all_y_true_train.argmax(1), all_y_pred_train.argmax(1), average='weighted')\n",
        "                train_f1 = f1_score(all_y_true_train.argmax(1), all_y_pred_train.argmax(1), average='weighted')\n",
        "                train_concept_accuracy = accuracy_score(all_c_true_train.argmax(1), all_c_pred_train.argmax(1))\n",
        "                train_task_accuracy = accuracy_score(all_y_true_train.argmax(1), all_y_pred_train.argmax(1))\n",
        "\n",
        "                model.eval()\n",
        "                val_losses, val_correct = 0, 0\n",
        "                all_y_true_val, all_y_pred_val = [], []\n",
        "                all_c_true_val, all_c_pred_val = [], []\n",
        "\n",
        "                with torch.no_grad():\n",
        "                    for x_batch, c_batch, y_batch in val_loader:\n",
        "                        c_emb, c_pred = concept_encoder(x_batch)\n",
        "                        y_pred = task_predictor(c_emb, c_pred)\n",
        "\n",
        "                        val_concept_loss = loss_form(c_pred, c_batch)\n",
        "                        val_task_loss = loss_form(y_pred, y_batch)\n",
        "                        val_loss = val_concept_loss + 0.5 * val_task_loss\n",
        "\n",
        "                        val_losses += val_loss.item()\n",
        "                        val_correct += (y_pred.argmax(1) == y_batch.argmax(1)).sum().item()\n",
        "                        all_y_true_val.append(y_batch.cpu().numpy())\n",
        "                        all_y_pred_val.append(y_pred.detach().cpu().numpy())\n",
        "                        all_c_true_val.append(c_batch.cpu().numpy())\n",
        "                        all_c_pred_val.append(c_pred.detach().cpu().numpy())\n",
        "\n",
        "                        wandb.log({\n",
        "                            'val_concept_loss': val_concept_loss.item(),\n",
        "                            'val_task_loss': val_task_loss.item(),\n",
        "                            'val_learning_rate': optimizer.param_groups[0]['lr']\n",
        "                        })\n",
        "\n",
        "                all_y_true_val = np.concatenate(all_y_true_val, axis=0)\n",
        "                all_y_pred_val = np.concatenate(all_y_pred_val, axis=0)\n",
        "                all_c_true_val = np.concatenate(all_c_true_val, axis=0)\n",
        "                all_c_pred_val = np.concatenate(all_c_pred_val, axis=0)\n",
        "                val_precision = precision_score(all_y_true_val.argmax(1), all_y_pred_val.argmax(1), average='weighted')\n",
        "                val_recall = recall_score(all_y_true_val.argmax(1), all_y_pred_val.argmax(1), average='weighted')\n",
        "                val_f1 = f1_score(all_y_true_val.argmax(1), all_y_pred_val.argmax(1), average='weighted')\n",
        "                val_concept_accuracy = accuracy_score(all_c_true_val.argmax(1), all_c_pred_val.argmax(1))\n",
        "                val_task_accuracy = accuracy_score(all_y_true_val.argmax(1), all_y_pred_val.argmax(1))\n",
        "\n",
        "                scheduler.step(val_losses / len(val_loader))\n",
        "\n",
        "                epoch_end_time = time.time()\n",
        "                epoch_time = epoch_end_time - epoch_start_time\n",
        "\n",
        "                print(f\"Epoch {epoch+1}, Loss: {train_losses/len(train_loader)}, Train Accuracy: {train_correct/len(train_dataset)}, Val Loss: {val_losses/len(val_loader)}, Val Accuracy: {val_correct/len(val_dataset)}, Train Precision: {train_precision}, Train Recall: {train_recall}, Train F1: {train_f1}, Val Precision: {val_precision}, Val Recall: {val_recall}, Val F1: {val_f1}, Epoch Time: {epoch_time}\")\n",
        "\n",
        "                wandb.log({\n",
        "                    'epoch': epoch + 1,\n",
        "                    'loss': train_losses / len(train_loader),\n",
        "                    'train_accuracy': train_correct / len(train_dataset),\n",
        "                    'val_loss': val_losses / len(val_loader),\n",
        "                    'val_accuracy': val_correct / len(val_dataset),\n",
        "                    'train_precision': train_precision,\n",
        "                    'train_recall': train_recall,\n",
        "                    'train_f1': train_f1,\n",
        "                    'val_precision': val_precision,\n",
        "                    'val_recall': val_recall,\n",
        "                    'val_f1': val_f1,\n",
        "                    'train_concept_accuracy': train_concept_accuracy,\n",
        "                    'train_task_accuracy': train_task_accuracy,\n",
        "                    'val_concept_accuracy': val_concept_accuracy,\n",
        "                    'val_task_accuracy': val_task_accuracy,\n",
        "                    'epoch_time': epoch_time\n",
        "                })\n",
        "\n",
        "                # Check for convergence\n",
        "                if val_correct / len(val_dataset) >= target_accuracy and convergence_time is None:\n",
        "                    convergence_time = time.time() - total_start_time\n",
        "                    wandb.log({'convergence_time': convergence_time})\n",
        "                    print(f\"Convergence achieved at epoch {epoch+1} with validation accuracy {val_correct/len(val_dataset)}\")\n",
        "\n",
        "            total_training_time = time.time() - total_start_time\n",
        "            wandb.log({'total_training_time': total_training_time})\n",
        "            print(f\"Total Training Time: {total_training_time}\")\n",
        "\n",
        "            print(f\"\\n Training on {dataset_name} using {model_name} has been completed!\")\n",
        "            torch.save(model, f'model_{model_name}_{dataset_name}.pth')\n",
        "            torch.save(model.state_dict(), f'model_state_dict_{model_name}_{dataset_name}.pth')\n",
        "            wandb.finish()\n",
        "\n",
        "        print(f\"===========================================================\")\n",
        "\n",
        "    if model_name == 'LLR1':\n",
        "        print(f\"Training on {model_name} ... \")\n",
        "        print(f\"--------------------------------\")\n",
        "\n",
        "        for dataset_name, dataset in zip(dataset_names, datasets):\n",
        "            x, c, y = dataset\n",
        "            x_train, x_test, c_train, c_test, y_train, y_test = train_test_split(\n",
        "                x, c, y, test_size=0.3, random_state=42)\n",
        "            print(f\"The following dataset has been loaded successfully: {dataset_name}\")\n",
        "\n",
        "            y_train = F.one_hot(y_train.long().ravel()).float()\n",
        "            y_test = F.one_hot(y_test.long().ravel()).float()\n",
        "\n",
        "            embedding_size = 16\n",
        "            concept_encoder = torch.nn.Sequential(\n",
        "                torch.nn.Linear(x.shape[1], 16),\n",
        "                torch.nn.LeakyReLU(),\n",
        "                te.nn.ConceptEmbedding(16, c.shape[1], embedding_size),\n",
        "            )\n",
        "\n",
        "            task_predictor = IntpLinearLayer1(embedding_size, y_train.shape[1], bias=isBias)\n",
        "            model = torch.nn.Sequential(concept_encoder, task_predictor)\n",
        "\n",
        "            num_val_samples = int(len(x_train) * 0.2)\n",
        "            num_train_samples = len(x_train) - num_val_samples\n",
        "            train_dataset, val_dataset = random_split(\n",
        "                list(zip(x_train, c_train, y_train)), [num_train_samples, num_val_samples])\n",
        "\n",
        "            train_loader = DataLoader(train_dataset, batch_size=64, shuffle=True)\n",
        "            val_loader = DataLoader(val_dataset, batch_size=64, shuffle=False)\n",
        "\n",
        "            wandb.init(project=\"pytorch_explain\", entity=\"alih999954-politecnico-di-torino\",\n",
        "                       name=f\"{model_name}_{dataset_name}\")\n",
        "\n",
        "            config = {\n",
        "                'lr': 0.0005,\n",
        "                'task_loss_weight': 0.5,\n",
        "                'loss_function': 'bce',\n",
        "                'loss_function2': 'bceL',\n",
        "                'loss_function3': 'cross_entropy',\n",
        "            }\n",
        "            wandb.config.update(config)\n",
        "\n",
        "            c_loss = get_loss_function(wandb.config.loss_function2)\n",
        "            y_loss = get_loss_function(wandb.config.loss_function2)\n",
        "\n",
        "            optimizer = torch.optim.AdamW(model.parameters(), lr=wandb.config.lr)\n",
        "            scheduler = ReduceLROnPlateau(optimizer, mode='min', factor=0.0001, patience=7)\n",
        "\n",
        "            print(f'-------------------------- Training {dataset_name} using {model_name} ----------------------')\n",
        "\n",
        "            # Initialize timers and convergence flag\n",
        "            total_start_time = time.time()\n",
        "            convergence_time = None\n",
        "\n",
        "            for epoch in range(41):\n",
        "                epoch_start_time = time.time()\n",
        "                model.train()\n",
        "                train_losses, train_correct = 0, 0\n",
        "                all_y_true_train, all_y_pred_train = [], []\n",
        "                all_c_true_train, all_c_pred_train = [], []\n",
        "\n",
        "                for x_batch, c_batch, y_batch in train_loader:\n",
        "                    optimizer.zero_grad()\n",
        "                    c_emb, c_pred = concept_encoder(x_batch)\n",
        "                    y_pred = task_predictor(c_emb, c_pred)\n",
        "\n",
        "                    concept_loss = c_loss(c_pred, c_batch)\n",
        "                    task_loss = y_loss(y_pred, y_batch)\n",
        "                    loss = concept_loss + 0.5 * task_loss\n",
        "\n",
        "                    loss.backward()\n",
        "                    optimizer.step()\n",
        "\n",
        "                    train_losses += loss.item()\n",
        "                    train_correct += (y_pred.argmax(1) == y_batch.argmax(1)).sum().item()\n",
        "                    all_y_true_train.append(y_batch.cpu().numpy())\n",
        "                    all_y_pred_train.append(y_pred.detach().cpu().numpy())\n",
        "                    all_c_true_train.append(c_batch.cpu().numpy())\n",
        "                    all_c_pred_train.append(c_pred.detach().cpu().numpy())\n",
        "\n",
        "                    wandb.log({\n",
        "                        'train_concept_loss': concept_loss.item(),\n",
        "                        'train_task_loss': task_loss.item(),\n",
        "                        'learning_rate': optimizer.param_groups[0]['lr']\n",
        "                    })\n",
        "\n",
        "                all_y_true_train = np.concatenate(all_y_true_train, axis=0)\n",
        "                all_y_pred_train = np.concatenate(all_y_pred_train, axis=0)\n",
        "                all_c_true_train = np.concatenate(all_c_true_train, axis=0)\n",
        "                all_c_pred_train = np.concatenate(all_c_pred_train, axis=0)\n",
        "                train_precision = precision_score(all_y_true_train.argmax(1), all_y_pred_train.argmax(1), average='weighted')\n",
        "                train_recall = recall_score(all_y_true_train.argmax(1), all_y_pred_train.argmax(1), average='weighted')\n",
        "                train_f1 = f1_score(all_y_true_train.argmax(1), all_y_pred_train.argmax(1), average='weighted')\n",
        "                train_concept_accuracy = accuracy_score(all_c_true_train.argmax(1), all_c_pred_train.argmax(1))\n",
        "                train_task_accuracy = accuracy_score(all_y_true_train.argmax(1), all_y_pred_train.argmax(1))\n",
        "\n",
        "                model.eval()\n",
        "                val_losses, val_correct = 0, 0\n",
        "                all_y_true_val, all_y_pred_val = [], []\n",
        "                all_c_true_val, all_c_pred_val = [], []\n",
        "\n",
        "                with torch.no_grad():\n",
        "                    for x_batch, c_batch, y_batch in val_loader:\n",
        "                        c_emb, c_pred = concept_encoder(x_batch)\n",
        "                        y_pred = task_predictor(c_emb, c_pred)\n",
        "\n",
        "                        val_concept_loss = c_loss(c_pred, c_batch)\n",
        "                        val_task_loss = y_loss(y_pred, y_batch)\n",
        "                        val_loss = val_concept_loss + 0.5 * val_task_loss\n",
        "\n",
        "                        val_losses += val_loss.item()\n",
        "                        val_correct += (y_pred.argmax(1) == y_batch.argmax(1)).sum().item()\n",
        "                        all_y_true_val.append(y_batch.cpu().numpy())\n",
        "                        all_y_pred_val.append(y_pred.detach().cpu().numpy())\n",
        "                        all_c_true_val.append(c_batch.cpu().numpy())\n",
        "                        all_c_pred_val.append(c_pred.detach().cpu().numpy())\n",
        "\n",
        "                        wandb.log({\n",
        "                            'val_concept_loss': val_concept_loss.item(),\n",
        "                            'val_task_loss': val_task_loss.item(),\n",
        "                            'val_learning_rate': optimizer.param_groups[0]['lr']\n",
        "                        })\n",
        "\n",
        "                all_y_true_val = np.concatenate(all_y_true_val, axis=0)\n",
        "                all_y_pred_val = np.concatenate(all_y_pred_val, axis=0)\n",
        "                all_c_true_val = np.concatenate(all_c_true_val, axis=0)\n",
        "                all_c_pred_val = np.concatenate(all_c_pred_val, axis=0)\n",
        "                val_precision = precision_score(all_y_true_val.argmax(1), all_y_pred_val.argmax(1), average='weighted')\n",
        "                val_recall = recall_score(all_y_true_val.argmax(1), all_y_pred_val.argmax(1), average='weighted')\n",
        "                val_f1 = f1_score(all_y_true_val.argmax(1), all_y_pred_val.argmax(1), average='weighted')\n",
        "                val_concept_accuracy = accuracy_score(all_c_true_val.argmax(1), all_c_pred_val.argmax(1))\n",
        "                val_task_accuracy = accuracy_score(all_y_true_val.argmax(1), all_y_pred_val.argmax(1))\n",
        "\n",
        "                scheduler.step(val_losses / len(val_loader))\n",
        "\n",
        "                epoch_end_time = time.time()\n",
        "                epoch_time = epoch_end_time - epoch_start_time\n",
        "\n",
        "                print(f\"Epoch {epoch+1}, Loss: {train_losses/len(train_loader)}, Train Accuracy: {train_correct/len(train_dataset)}, Val Loss: {val_losses/len(val_loader)}, Val Accuracy: {val_correct/len(val_dataset)}, Train Precision: {train_precision}, Train Recall: {train_recall}, Train F1: {train_f1}, Val Precision: {val_precision}, Val Recall: {val_recall}, Val F1: {val_f1}, Epoch Time: {epoch_time}\")\n",
        "\n",
        "                wandb.log({\n",
        "                    'epoch': epoch + 1,\n",
        "                    'loss': train_losses / len(train_loader),\n",
        "                    'train_accuracy': train_correct / len(train_dataset),\n",
        "                    'val_loss': val_losses / len(val_loader),\n",
        "                    'val_accuracy': val_correct / len(val_dataset),\n",
        "                    'train_precision': train_precision,\n",
        "                    'train_recall': train_recall,\n",
        "                    'train_f1': train_f1,\n",
        "                    'val_precision': val_precision,\n",
        "                    'val_recall': val_recall,\n",
        "                    'val_f1': val_f1,\n",
        "                    'train_concept_accuracy': train_concept_accuracy,\n",
        "                    'train_task_accuracy': train_task_accuracy,\n",
        "                    'val_concept_accuracy': val_concept_accuracy,\n",
        "                    'val_task_accuracy': val_task_accuracy,\n",
        "                    'epoch_time': epoch_time\n",
        "                })\n",
        "\n",
        "                # Check for convergence\n",
        "                if val_correct / len(val_dataset) >= target_accuracy and convergence_time is None:\n",
        "                    convergence_time = time.time() - total_start_time\n",
        "                    wandb.log({'convergence_time': convergence_time})\n",
        "                    print(f\"Convergence achieved at epoch {epoch+1} with validation accuracy {val_correct/len(val_dataset)}\")\n",
        "\n",
        "            total_training_time = time.time() - total_start_time\n",
        "            wandb.log({'total_training_time': total_training_time})\n",
        "            print(f\"Total Training Time: {total_training_time}\")\n",
        "\n",
        "            print(f\"\\n Training on {dataset_name} using {model_name} has been completed!\")\n",
        "            torch.save(model, f'model_{model_name}_{dataset_name}.pth')\n",
        "            torch.save(model.state_dict(), f'model_state_dict_{model_name}_{dataset_name}.pth')\n",
        "            wandb.finish()\n",
        "\n",
        "        print(f\"===========================================================\")\n",
        "\n",
        "    if model_name == 'LLR2':\n",
        "        print(f\"Training on {model_name} ... \")\n",
        "        print(f\"--------------------------------\")\n",
        "\n",
        "        for dataset_name, dataset in zip(dataset_names, datasets):\n",
        "            x, c, y = dataset\n",
        "            x_train, x_test, c_train, c_test, y_train, y_test = train_test_split(\n",
        "                x, c, y, test_size=0.3, random_state=42)\n",
        "            print(f\"The following dataset has been loaded successfully: {dataset_name}\")\n",
        "\n",
        "            y_train = F.one_hot(y_train.long().ravel()).float()\n",
        "            y_test = F.one_hot(y_test.long().ravel()).float()\n",
        "\n",
        "            embedding_size = 16\n",
        "            concept_encoder = torch.nn.Sequential(\n",
        "                torch.nn.Linear(x.shape[1], 16),\n",
        "                torch.nn.LeakyReLU(),\n",
        "                te.nn.ConceptEmbedding(16, c.shape[1], embedding_size),\n",
        "            )\n",
        "\n",
        "            task_predictor = IntpLinearLayer2(embedding_size, y_train.shape[1], bias=isBias)\n",
        "            model = torch.nn.Sequential(concept_encoder, task_predictor)\n",
        "\n",
        "            num_val_samples = int(len(x_train) * 0.2)\n",
        "            num_train_samples = len(x_train) - num_val_samples\n",
        "            train_dataset, val_dataset = random_split(\n",
        "                list(zip(x_train, c_train, y_train)), [num_train_samples, num_val_samples])\n",
        "\n",
        "            train_loader = DataLoader(train_dataset, batch_size=64, shuffle=True)\n",
        "            val_loader = DataLoader(val_dataset, batch_size=64, shuffle=False)\n",
        "\n",
        "            wandb.init(project=\"pytorch_explain\", entity=\"alih999954-politecnico-di-torino\",\n",
        "                       name=f\"{model_name}_{dataset_name}\")\n",
        "\n",
        "            config = {\n",
        "                'lr': 0.0005,\n",
        "                'task_loss_weight': 0.5,\n",
        "                'loss_function': 'bce',\n",
        "                'loss_function2': 'bceL',\n",
        "            }\n",
        "            wandb.config.update(config)\n",
        "\n",
        "            c_loss = get_loss_function(wandb.config.loss_function2)\n",
        "            y_loss = get_loss_function(wandb.config.loss_function2)\n",
        "\n",
        "            optimizer = torch.optim.AdamW(model.parameters(), lr=wandb.config.lr)\n",
        "            scheduler = ReduceLROnPlateau(optimizer, mode='min', factor=0.0001, patience=7)\n",
        "\n",
        "            print(f'-------------------------- Training {dataset_name} using {model_name} ----------------------')\n",
        "\n",
        "            # Initialize timers and convergence flag\n",
        "            total_start_time = time.time()\n",
        "            convergence_time = None\n",
        "\n",
        "            for epoch in range(41):\n",
        "                epoch_start_time = time.time()\n",
        "                model.train()\n",
        "                train_losses, train_correct = 0, 0\n",
        "                all_y_true_train, all_y_pred_train = [], []\n",
        "                all_c_true_train, all_c_pred_train = [], []\n",
        "\n",
        "                for x_batch, c_batch, y_batch in train_loader:\n",
        "                    optimizer.zero_grad()\n",
        "                    c_emb, c_pred = concept_encoder(x_batch)\n",
        "                    y_pred = task_predictor(c_emb, c_pred)\n",
        "\n",
        "                    concept_loss = c_loss(c_pred, c_batch)\n",
        "                    task_loss = y_loss(y_pred, y_batch)\n",
        "                    loss = concept_loss + 0.5 * task_loss\n",
        "\n",
        "                    loss.backward()\n",
        "                    optimizer.step()\n",
        "\n",
        "                    train_losses += loss.item()\n",
        "                    train_correct += (y_pred.argmax(1) == y_batch.argmax(1)).sum().item()\n",
        "                    all_y_true_train.append(y_batch.cpu().numpy())\n",
        "                    all_y_pred_train.append(y_pred.detach().cpu().numpy())\n",
        "                    all_c_true_train.append(c_batch.cpu().numpy())\n",
        "                    all_c_pred_train.append(c_pred.detach().cpu().numpy())\n",
        "\n",
        "                    wandb.log({\n",
        "                        'train_concept_loss': concept_loss.item(),\n",
        "                        'train_task_loss': task_loss.item(),\n",
        "                        'learning_rate': optimizer.param_groups[0]['lr']\n",
        "                    })\n",
        "\n",
        "                all_y_true_train = np.concatenate(all_y_true_train, axis=0)\n",
        "                all_y_pred_train = np.concatenate(all_y_pred_train, axis=0)\n",
        "                all_c_true_train = np.concatenate(all_c_true_train, axis=0)\n",
        "                all_c_pred_train = np.concatenate(all_c_pred_train, axis=0)\n",
        "                train_precision = precision_score(all_y_true_train.argmax(1), all_y_pred_train.argmax(1), average='weighted')\n",
        "                train_recall = recall_score(all_y_true_train.argmax(1), all_y_pred_train.argmax(1), average='weighted')\n",
        "                train_f1 = f1_score(all_y_true_train.argmax(1), all_y_pred_train.argmax(1), average='weighted')\n",
        "                train_concept_accuracy = accuracy_score(all_c_true_train.argmax(1), all_c_pred_train.argmax(1))\n",
        "                train_task_accuracy = accuracy_score(all_y_true_train.argmax(1), all_y_pred_train.argmax(1))\n",
        "\n",
        "                model.eval()\n",
        "                val_losses, val_correct = 0, 0\n",
        "                all_y_true_val, all_y_pred_val = [], []\n",
        "                all_c_true_val, all_c_pred_val = [], []\n",
        "\n",
        "                with torch.no_grad():\n",
        "                    for x_batch, c_batch, y_batch in val_loader:\n",
        "                        c_emb, c_pred = concept_encoder(x_batch)\n",
        "                        y_pred = task_predictor(c_emb, c_pred)\n",
        "\n",
        "                        val_concept_loss = c_loss(c_pred, c_batch)\n",
        "                        val_task_loss = y_loss(y_pred, y_batch)\n",
        "                        val_loss = val_concept_loss + 0.5 * val_task_loss\n",
        "\n",
        "                        val_losses += val_loss.item()\n",
        "                        val_correct += (y_pred.argmax(1) == y_batch.argmax(1)).sum().item()\n",
        "                        all_y_true_val.append(y_batch.cpu().numpy())\n",
        "                        all_y_pred_val.append(y_pred.detach().cpu().numpy())\n",
        "                        all_c_true_val.append(c_batch.cpu().numpy())\n",
        "                        all_c_pred_val.append(c_pred.detach().cpu().numpy())\n",
        "\n",
        "                        wandb.log({\n",
        "                            'val_concept_loss': val_concept_loss.item(),\n",
        "                            'val_task_loss': val_task_loss.item(),\n",
        "                            'val_learning_rate': optimizer.param_groups[0]['lr']\n",
        "                        })\n",
        "\n",
        "                all_y_true_val = np.concatenate(all_y_true_val, axis=0)\n",
        "                all_y_pred_val = np.concatenate(all_y_pred_val, axis=0)\n",
        "                all_c_true_val = np.concatenate(all_c_true_val, axis=0)\n",
        "                all_c_pred_val = np.concatenate(all_c_pred_val, axis=0)\n",
        "                val_precision = precision_score(all_y_true_val.argmax(1), all_y_pred_val.argmax(1), average='weighted')\n",
        "                val_recall = recall_score(all_y_true_val.argmax(1), all_y_pred_val.argmax(1), average='weighted')\n",
        "                val_f1 = f1_score(all_y_true_val.argmax(1), all_y_pred_val.argmax(1), average='weighted')\n",
        "                val_concept_accuracy = accuracy_score(all_c_true_val.argmax(1), all_c_pred_val.argmax(1))\n",
        "                val_task_accuracy = accuracy_score(all_y_true_val.argmax(1), all_y_pred_val.argmax(1))\n",
        "\n",
        "                scheduler.step(val_losses / len(val_loader))\n",
        "\n",
        "                epoch_end_time = time.time()\n",
        "                epoch_time = epoch_end_time - epoch_start_time\n",
        "\n",
        "                print(f\"Epoch {epoch+1}, Loss: {train_losses/len(train_loader)}, Train Accuracy: {train_correct/len(train_dataset)}, Val Loss: {val_losses/len(val_loader)}, Val Accuracy: {val_correct/len(val_dataset)}, Train Precision: {train_precision}, Train Recall: {train_recall}, Train F1: {train_f1}, Val Precision: {val_precision}, Val Recall: {val_recall}, Val F1: {val_f1}, Epoch Time: {epoch_time}\")\n",
        "\n",
        "                wandb.log({\n",
        "                    'epoch': epoch + 1,\n",
        "                    'loss': train_losses / len(train_loader),\n",
        "                    'train_accuracy': train_correct / len(train_dataset),\n",
        "                    'val_loss': val_losses / len(val_loader),\n",
        "                    'val_accuracy': val_correct / len(val_dataset),\n",
        "                    'train_precision': train_precision,\n",
        "                    'train_recall': train_recall,\n",
        "                    'train_f1': train_f1,\n",
        "                    'val_precision': val_precision,\n",
        "                    'val_recall': val_recall,\n",
        "                    'val_f1': val_f1,\n",
        "                    'train_concept_accuracy': train_concept_accuracy,\n",
        "                    'train_task_accuracy': train_task_accuracy,\n",
        "                    'val_concept_accuracy': val_concept_accuracy,\n",
        "                    'val_task_accuracy': val_task_accuracy,\n",
        "                    'epoch_time': epoch_time\n",
        "                })\n",
        "\n",
        "                # Check for convergence\n",
        "                if val_correct / len(val_dataset) >= target_accuracy and convergence_time is None:\n",
        "                    convergence_time = time.time() - total_start_time\n",
        "                    wandb.log({'convergence_time': convergence_time})\n",
        "                    print(f\"Convergence achieved at epoch {epoch+1} with validation accuracy {val_correct/len(val_dataset)}\")\n",
        "\n",
        "            total_training_time = time.time() - total_start_time\n",
        "            wandb.log({'total_training_time': total_training_time})\n",
        "            print(f\"Total Training Time: {total_training_time}\")\n",
        "\n",
        "            print(f\"\\n Training on {dataset_name} using {model_name} has been completed!\")\n",
        "            torch.save(model, f'model_{model_name}_{dataset_name}.pth')\n",
        "            torch.save(model.state_dict(), f'model_state_dict_{model_name}_{dataset_name}.pth')\n",
        "            wandb.finish()\n",
        "\n",
        "        print(f\"===========================================================\")\n",
        "\n",
        "\n",
        "    if model_name == 'LLR3':\n",
        "        print(f\"Training on {model_name} ... \")\n",
        "        print(f\"--------------------------------\")\n",
        "\n",
        "        for dataset_name, dataset in zip(dataset_names, datasets):\n",
        "            x, c, y = dataset\n",
        "            x_train, x_test, c_train, c_test, y_train, y_test = train_test_split(\n",
        "                x, c, y, test_size=0.3, random_state=42)\n",
        "            print(f\"The following dataset has been loaded successfully: {dataset_name}\")\n",
        "\n",
        "            y_train = F.one_hot(y_train.long().ravel()).float()\n",
        "            y_test = F.one_hot(y_test.long().ravel()).float()\n",
        "\n",
        "            embedding_size = 16\n",
        "            concept_encoder = torch.nn.Sequential(\n",
        "                torch.nn.Linear(x.shape[1], 16),\n",
        "                torch.nn.LeakyReLU(),\n",
        "                te.nn.ConceptEmbedding(16, c.shape[1], embedding_size),\n",
        "            )\n",
        "\n",
        "            task_predictor = IntpLinearLayer3(embedding_size, y_train.shape[1], bias=isBias)\n",
        "            model = torch.nn.Sequential(concept_encoder, task_predictor)\n",
        "\n",
        "            num_val_samples = int(len(x_train) * 0.2)\n",
        "            num_train_samples = len(x_train) - num_val_samples\n",
        "            train_dataset, val_dataset = random_split(\n",
        "                list(zip(x_train, c_train, y_train)), [num_train_samples, num_val_samples])\n",
        "\n",
        "            train_loader = DataLoader(train_dataset, batch_size=64, shuffle=True)\n",
        "            val_loader = DataLoader(val_dataset, batch_size=64, shuffle=False)\n",
        "\n",
        "            wandb.init(project=\"pytorch_explain\", entity=\"alih999954-politecnico-di-torino\",\n",
        "                       name=f\"{model_name}_{dataset_name}\")\n",
        "\n",
        "            config = {\n",
        "                'lr': 0.0005,\n",
        "                'task_loss_weight': 0.5,\n",
        "                'loss_function': 'bce',\n",
        "                'loss_function2': 'bceL',\n",
        "            }\n",
        "            wandb.config.update(config)\n",
        "\n",
        "            c_loss = get_loss_function(wandb.config.loss_function2)\n",
        "            y_loss = get_loss_function(wandb.config.loss_function2)\n",
        "\n",
        "            optimizer = torch.optim.AdamW(model.parameters(), lr=wandb.config.lr)\n",
        "            scheduler = ReduceLROnPlateau(optimizer, mode='min', factor=0.0001, patience=7)\n",
        "\n",
        "            print(f'-------------------------- Training {dataset_name} using {model_name} ----------------------')\n",
        "\n",
        "            # Initialize timers and convergence flag\n",
        "            total_start_time = time.time()\n",
        "            convergence_time = None\n",
        "\n",
        "            for epoch in range(41):\n",
        "                epoch_start_time = time.time()\n",
        "                model.train()\n",
        "                train_losses, train_correct = 0, 0\n",
        "                all_y_true_train, all_y_pred_train = [], []\n",
        "                all_c_true_train, all_c_pred_train = [], []\n",
        "\n",
        "                for x_batch, c_batch, y_batch in train_loader:\n",
        "                    optimizer.zero_grad()\n",
        "                    c_emb, c_pred = concept_encoder(x_batch)\n",
        "                    y_pred = task_predictor(c_emb, c_pred)\n",
        "\n",
        "                    concept_loss = c_loss(c_pred, c_batch)\n",
        "                    task_loss = y_loss(y_pred, y_batch)\n",
        "                    loss = concept_loss + 0.5 * task_loss\n",
        "\n",
        "                    loss.backward()\n",
        "                    optimizer.step()\n",
        "\n",
        "                    train_losses += loss.item()\n",
        "                    train_correct += (y_pred.argmax(1) == y_batch.argmax(1)).sum().item()\n",
        "                    all_y_true_train.append(y_batch.cpu().numpy())\n",
        "                    all_y_pred_train.append(y_pred.detach().cpu().numpy())\n",
        "                    all_c_true_train.append(c_batch.cpu().numpy())\n",
        "                    all_c_pred_train.append(c_pred.detach().cpu().numpy())\n",
        "\n",
        "                    wandb.log({\n",
        "                        'train_concept_loss': concept_loss.item(),\n",
        "                        'train_task_loss': task_loss.item(),\n",
        "                        'learning_rate': optimizer.param_groups[0]['lr']\n",
        "                    })\n",
        "\n",
        "                all_y_true_train = np.concatenate(all_y_true_train, axis=0)\n",
        "                all_y_pred_train = np.concatenate(all_y_pred_train, axis=0)\n",
        "                all_c_true_train = np.concatenate(all_c_true_train, axis=0)\n",
        "                all_c_pred_train = np.concatenate(all_c_pred_train, axis=0)\n",
        "                train_precision = precision_score(all_y_true_train.argmax(1), all_y_pred_train.argmax(1), average='weighted')\n",
        "                train_recall = recall_score(all_y_true_train.argmax(1), all_y_pred_train.argmax(1), average='weighted')\n",
        "                train_f1 = f1_score(all_y_true_train.argmax(1), all_y_pred_train.argmax(1), average='weighted')\n",
        "                train_concept_accuracy = accuracy_score(all_c_true_train.argmax(1), all_c_pred_train.argmax(1))\n",
        "                train_task_accuracy = accuracy_score(all_y_true_train.argmax(1), all_y_pred_train.argmax(1))\n",
        "\n",
        "                model.eval()\n",
        "                val_losses, val_correct = 0, 0\n",
        "                all_y_true_val, all_y_pred_val = [], []\n",
        "                all_c_true_val, all_c_pred_val = [], []\n",
        "\n",
        "                with torch.no_grad():\n",
        "                    for x_batch, c_batch, y_batch in val_loader:\n",
        "                        c_emb, c_pred = concept_encoder(x_batch)\n",
        "                        y_pred = task_predictor(c_emb, c_pred)\n",
        "\n",
        "                        val_concept_loss = c_loss(c_pred, c_batch)\n",
        "                        val_task_loss = y_loss(y_pred, y_batch)\n",
        "                        val_loss = val_concept_loss + 0.5 * val_task_loss\n",
        "\n",
        "                        val_losses += val_loss.item()\n",
        "                        val_correct += (y_pred.argmax(1) == y_batch.argmax(1)).sum().item()\n",
        "                        all_y_true_val.append(y_batch.cpu().numpy())\n",
        "                        all_y_pred_val.append(y_pred.detach().cpu().numpy())\n",
        "                        all_c_true_val.append(c_batch.cpu().numpy())\n",
        "                        all_c_pred_val.append(c_pred.detach().cpu().numpy())\n",
        "\n",
        "                        wandb.log({\n",
        "                            'val_concept_loss': val_concept_loss.item(),\n",
        "                            'val_task_loss': val_task_loss.item(),\n",
        "                            'val_learning_rate': optimizer.param_groups[0]['lr']\n",
        "                        })\n",
        "\n",
        "                all_y_true_val = np.concatenate(all_y_true_val, axis=0)\n",
        "                all_y_pred_val = np.concatenate(all_y_pred_val, axis=0)\n",
        "                all_c_true_val = np.concatenate(all_c_true_val, axis=0)\n",
        "                all_c_pred_val = np.concatenate(all_c_pred_val, axis=0)\n",
        "                val_precision = precision_score(all_y_true_val.argmax(1), all_y_pred_val.argmax(1), average='weighted')\n",
        "                val_recall = recall_score(all_y_true_val.argmax(1), all_y_pred_val.argmax(1), average='weighted')\n",
        "                val_f1 = f1_score(all_y_true_val.argmax(1), all_y_pred_val.argmax(1), average='weighted')\n",
        "                val_concept_accuracy = accuracy_score(all_c_true_val.argmax(1), all_c_pred_val.argmax(1))\n",
        "                val_task_accuracy = accuracy_score(all_y_true_val.argmax(1), all_y_pred_val.argmax(1))\n",
        "\n",
        "                scheduler.step(val_losses / len(val_loader))\n",
        "\n",
        "                epoch_end_time = time.time()\n",
        "                epoch_time = epoch_end_time - epoch_start_time\n",
        "\n",
        "                print(f\"Epoch {epoch+1}, Loss: {train_losses/len(train_loader)}, Train Accuracy: {train_correct/len(train_dataset)}, Val Loss: {val_losses/len(val_loader)}, Val Accuracy: {val_correct/len(val_dataset)}, Train Precision: {train_precision}, Train Recall: {train_recall}, Train F1: {train_f1}, Val Precision: {val_precision}, Val Recall: {val_recall}, Val F1: {val_f1}, Epoch Time: {epoch_time}\")\n",
        "\n",
        "                wandb.log({\n",
        "                    'epoch': epoch + 1,\n",
        "                    'loss': train_losses / len(train_loader),\n",
        "                    'train_accuracy': train_correct / len(train_dataset),\n",
        "                    'val_loss': val_losses / len(val_loader),\n",
        "                    'val_accuracy': val_correct / len(val_dataset),\n",
        "                    'train_precision': train_precision,\n",
        "                    'train_recall': train_recall,\n",
        "                    'train_f1': train_f1,\n",
        "                    'val_precision': val_precision,\n",
        "                    'val_recall': val_recall,\n",
        "                    'val_f1': val_f1,\n",
        "                    'train_concept_accuracy': train_concept_accuracy,\n",
        "                    'train_task_accuracy': train_task_accuracy,\n",
        "                    'val_concept_accuracy': val_concept_accuracy,\n",
        "                    'val_task_accuracy': val_task_accuracy,\n",
        "                    'epoch_time': epoch_time\n",
        "                })\n",
        "\n",
        "                # Check for convergence\n",
        "                if val_correct / len(val_dataset) >= target_accuracy and convergence_time is None:\n",
        "                    convergence_time = time.time() - total_start_time\n",
        "                    wandb.log({'convergence_time': convergence_time})\n",
        "                    print(f\"Convergence achieved at epoch {epoch+1} with validation accuracy {val_correct/len(val_dataset)}\")\n",
        "\n",
        "            total_training_time = time.time() - total_start_time\n",
        "            wandb.log({'total_training_time': total_training_time})\n",
        "            print(f\"Total Training Time: {total_training_time}\")\n",
        "\n",
        "            print(f\"\\n Training on {dataset_name} using {model_name} has been completed!\")\n",
        "            torch.save(model, f'model_{model_name}_{dataset_name}.pth')\n",
        "            torch.save(model.state_dict(), f'model_state_dict_{model_name}_{dataset_name}.pth')\n",
        "            wandb.finish()\n",
        "\n",
        "        print(f\"===========================================================\")\n",
        "\n",
        "\n",
        "print(f\"*********** ALL TRAINING ARE DONE - Check WandB ***********\")\n"
      ]
    },
    {
      "cell_type": "code",
      "execution_count": null,
      "metadata": {
        "id": "FZ3eNUpQz7Nr"
      },
      "outputs": [],
      "source": []
    }
  ],
  "metadata": {
    "accelerator": "GPU",
    "colab": {
      "gpuType": "T4",
      "provenance": []
    },
    "kernelspec": {
      "display_name": "Python 3",
      "name": "python3"
    },
    "language_info": {
      "codemirror_mode": {
        "name": "ipython",
        "version": 3
      },
      "file_extension": ".py",
      "mimetype": "text/x-python",
      "name": "python",
      "nbconvert_exporter": "python",
      "pygments_lexer": "ipython3",
      "version": "3.11.4"
    },
    "widgets": {
      "application/vnd.jupyter.widget-state+json": {
        "0160100f536a4cd988f8895a732c3af5": {
          "model_module": "@jupyter-widgets/base",
          "model_module_version": "1.2.0",
          "model_name": "LayoutModel",
          "state": {
            "_model_module": "@jupyter-widgets/base",
            "_model_module_version": "1.2.0",
            "_model_name": "LayoutModel",
            "_view_count": null,
            "_view_module": "@jupyter-widgets/base",
            "_view_module_version": "1.2.0",
            "_view_name": "LayoutView",
            "align_content": null,
            "align_items": null,
            "align_self": null,
            "border": null,
            "bottom": null,
            "display": null,
            "flex": null,
            "flex_flow": null,
            "grid_area": null,
            "grid_auto_columns": null,
            "grid_auto_flow": null,
            "grid_auto_rows": null,
            "grid_column": null,
            "grid_gap": null,
            "grid_row": null,
            "grid_template_areas": null,
            "grid_template_columns": null,
            "grid_template_rows": null,
            "height": null,
            "justify_content": null,
            "justify_items": null,
            "left": null,
            "margin": null,
            "max_height": null,
            "max_width": null,
            "min_height": null,
            "min_width": null,
            "object_fit": null,
            "object_position": null,
            "order": null,
            "overflow": null,
            "overflow_x": null,
            "overflow_y": null,
            "padding": null,
            "right": null,
            "top": null,
            "visibility": null,
            "width": null
          }
        },
        "02c0585a74344e69b69a4d6be2b14acd": {
          "model_module": "@jupyter-widgets/base",
          "model_module_version": "1.2.0",
          "model_name": "LayoutModel",
          "state": {
            "_model_module": "@jupyter-widgets/base",
            "_model_module_version": "1.2.0",
            "_model_name": "LayoutModel",
            "_view_count": null,
            "_view_module": "@jupyter-widgets/base",
            "_view_module_version": "1.2.0",
            "_view_name": "LayoutView",
            "align_content": null,
            "align_items": null,
            "align_self": null,
            "border": null,
            "bottom": null,
            "display": null,
            "flex": null,
            "flex_flow": null,
            "grid_area": null,
            "grid_auto_columns": null,
            "grid_auto_flow": null,
            "grid_auto_rows": null,
            "grid_column": null,
            "grid_gap": null,
            "grid_row": null,
            "grid_template_areas": null,
            "grid_template_columns": null,
            "grid_template_rows": null,
            "height": null,
            "justify_content": null,
            "justify_items": null,
            "left": null,
            "margin": null,
            "max_height": null,
            "max_width": null,
            "min_height": null,
            "min_width": null,
            "object_fit": null,
            "object_position": null,
            "order": null,
            "overflow": null,
            "overflow_x": null,
            "overflow_y": null,
            "padding": null,
            "right": null,
            "top": null,
            "visibility": null,
            "width": null
          }
        },
        "043338038c7247d8a7b28a811f067e9e": {
          "model_module": "@jupyter-widgets/controls",
          "model_module_version": "1.5.0",
          "model_name": "ProgressStyleModel",
          "state": {
            "_model_module": "@jupyter-widgets/controls",
            "_model_module_version": "1.5.0",
            "_model_name": "ProgressStyleModel",
            "_view_count": null,
            "_view_module": "@jupyter-widgets/base",
            "_view_module_version": "1.2.0",
            "_view_name": "StyleView",
            "bar_color": null,
            "description_width": ""
          }
        },
        "047a313dccd84828baa5756743972186": {
          "model_module": "@jupyter-widgets/controls",
          "model_module_version": "1.5.0",
          "model_name": "ProgressStyleModel",
          "state": {
            "_model_module": "@jupyter-widgets/controls",
            "_model_module_version": "1.5.0",
            "_model_name": "ProgressStyleModel",
            "_view_count": null,
            "_view_module": "@jupyter-widgets/base",
            "_view_module_version": "1.2.0",
            "_view_name": "StyleView",
            "bar_color": null,
            "description_width": ""
          }
        },
        "053a2ff0320d4f3ca72379a9348e6b18": {
          "model_module": "@jupyter-widgets/controls",
          "model_module_version": "1.5.0",
          "model_name": "ProgressStyleModel",
          "state": {
            "_model_module": "@jupyter-widgets/controls",
            "_model_module_version": "1.5.0",
            "_model_name": "ProgressStyleModel",
            "_view_count": null,
            "_view_module": "@jupyter-widgets/base",
            "_view_module_version": "1.2.0",
            "_view_name": "StyleView",
            "bar_color": null,
            "description_width": ""
          }
        },
        "0649b0a177f34bb586ad5649f5724178": {
          "model_module": "@jupyter-widgets/base",
          "model_module_version": "1.2.0",
          "model_name": "LayoutModel",
          "state": {
            "_model_module": "@jupyter-widgets/base",
            "_model_module_version": "1.2.0",
            "_model_name": "LayoutModel",
            "_view_count": null,
            "_view_module": "@jupyter-widgets/base",
            "_view_module_version": "1.2.0",
            "_view_name": "LayoutView",
            "align_content": null,
            "align_items": null,
            "align_self": null,
            "border": null,
            "bottom": null,
            "display": null,
            "flex": null,
            "flex_flow": null,
            "grid_area": null,
            "grid_auto_columns": null,
            "grid_auto_flow": null,
            "grid_auto_rows": null,
            "grid_column": null,
            "grid_gap": null,
            "grid_row": null,
            "grid_template_areas": null,
            "grid_template_columns": null,
            "grid_template_rows": null,
            "height": null,
            "justify_content": null,
            "justify_items": null,
            "left": null,
            "margin": null,
            "max_height": null,
            "max_width": null,
            "min_height": null,
            "min_width": null,
            "object_fit": null,
            "object_position": null,
            "order": null,
            "overflow": null,
            "overflow_x": null,
            "overflow_y": null,
            "padding": null,
            "right": null,
            "top": null,
            "visibility": null,
            "width": null
          }
        },
        "07d08e6e757146468692f9b0ad2e9145": {
          "model_module": "@jupyter-widgets/base",
          "model_module_version": "1.2.0",
          "model_name": "LayoutModel",
          "state": {
            "_model_module": "@jupyter-widgets/base",
            "_model_module_version": "1.2.0",
            "_model_name": "LayoutModel",
            "_view_count": null,
            "_view_module": "@jupyter-widgets/base",
            "_view_module_version": "1.2.0",
            "_view_name": "LayoutView",
            "align_content": null,
            "align_items": null,
            "align_self": null,
            "border": null,
            "bottom": null,
            "display": null,
            "flex": null,
            "flex_flow": null,
            "grid_area": null,
            "grid_auto_columns": null,
            "grid_auto_flow": null,
            "grid_auto_rows": null,
            "grid_column": null,
            "grid_gap": null,
            "grid_row": null,
            "grid_template_areas": null,
            "grid_template_columns": null,
            "grid_template_rows": null,
            "height": null,
            "justify_content": null,
            "justify_items": null,
            "left": null,
            "margin": null,
            "max_height": null,
            "max_width": null,
            "min_height": null,
            "min_width": null,
            "object_fit": null,
            "object_position": null,
            "order": null,
            "overflow": null,
            "overflow_x": null,
            "overflow_y": null,
            "padding": null,
            "right": null,
            "top": null,
            "visibility": null,
            "width": null
          }
        },
        "086ff6a569364a69a61ec4172d706a83": {
          "model_module": "@jupyter-widgets/base",
          "model_module_version": "1.2.0",
          "model_name": "LayoutModel",
          "state": {
            "_model_module": "@jupyter-widgets/base",
            "_model_module_version": "1.2.0",
            "_model_name": "LayoutModel",
            "_view_count": null,
            "_view_module": "@jupyter-widgets/base",
            "_view_module_version": "1.2.0",
            "_view_name": "LayoutView",
            "align_content": null,
            "align_items": null,
            "align_self": null,
            "border": null,
            "bottom": null,
            "display": null,
            "flex": null,
            "flex_flow": null,
            "grid_area": null,
            "grid_auto_columns": null,
            "grid_auto_flow": null,
            "grid_auto_rows": null,
            "grid_column": null,
            "grid_gap": null,
            "grid_row": null,
            "grid_template_areas": null,
            "grid_template_columns": null,
            "grid_template_rows": null,
            "height": null,
            "justify_content": null,
            "justify_items": null,
            "left": null,
            "margin": null,
            "max_height": null,
            "max_width": null,
            "min_height": null,
            "min_width": null,
            "object_fit": null,
            "object_position": null,
            "order": null,
            "overflow": null,
            "overflow_x": null,
            "overflow_y": null,
            "padding": null,
            "right": null,
            "top": null,
            "visibility": null,
            "width": null
          }
        },
        "0a281a8fd9dd4b80999617c9bb0a36d0": {
          "model_module": "@jupyter-widgets/base",
          "model_module_version": "1.2.0",
          "model_name": "LayoutModel",
          "state": {
            "_model_module": "@jupyter-widgets/base",
            "_model_module_version": "1.2.0",
            "_model_name": "LayoutModel",
            "_view_count": null,
            "_view_module": "@jupyter-widgets/base",
            "_view_module_version": "1.2.0",
            "_view_name": "LayoutView",
            "align_content": null,
            "align_items": null,
            "align_self": null,
            "border": null,
            "bottom": null,
            "display": null,
            "flex": null,
            "flex_flow": null,
            "grid_area": null,
            "grid_auto_columns": null,
            "grid_auto_flow": null,
            "grid_auto_rows": null,
            "grid_column": null,
            "grid_gap": null,
            "grid_row": null,
            "grid_template_areas": null,
            "grid_template_columns": null,
            "grid_template_rows": null,
            "height": null,
            "justify_content": null,
            "justify_items": null,
            "left": null,
            "margin": null,
            "max_height": null,
            "max_width": null,
            "min_height": null,
            "min_width": null,
            "object_fit": null,
            "object_position": null,
            "order": null,
            "overflow": null,
            "overflow_x": null,
            "overflow_y": null,
            "padding": null,
            "right": null,
            "top": null,
            "visibility": null,
            "width": null
          }
        },
        "0b13cf19ad6b4797abf7d2628b08b0a3": {
          "model_module": "@jupyter-widgets/controls",
          "model_module_version": "1.5.0",
          "model_name": "VBoxModel",
          "state": {
            "_dom_classes": [],
            "_model_module": "@jupyter-widgets/controls",
            "_model_module_version": "1.5.0",
            "_model_name": "VBoxModel",
            "_view_count": null,
            "_view_module": "@jupyter-widgets/controls",
            "_view_module_version": "1.5.0",
            "_view_name": "VBoxView",
            "box_style": "",
            "children": [
              "IPY_MODEL_7a8740d80f414ae3acfbdf71df87e1d4",
              "IPY_MODEL_ec14f15f0a93440aaad8f01da390529a"
            ],
            "layout": "IPY_MODEL_71546fcf9f2a48eead45d3adac7c577f"
          }
        },
        "0b2f5f62653943d19e6e7e826d96a0ff": {
          "model_module": "@jupyter-widgets/base",
          "model_module_version": "1.2.0",
          "model_name": "LayoutModel",
          "state": {
            "_model_module": "@jupyter-widgets/base",
            "_model_module_version": "1.2.0",
            "_model_name": "LayoutModel",
            "_view_count": null,
            "_view_module": "@jupyter-widgets/base",
            "_view_module_version": "1.2.0",
            "_view_name": "LayoutView",
            "align_content": null,
            "align_items": null,
            "align_self": null,
            "border": null,
            "bottom": null,
            "display": null,
            "flex": null,
            "flex_flow": null,
            "grid_area": null,
            "grid_auto_columns": null,
            "grid_auto_flow": null,
            "grid_auto_rows": null,
            "grid_column": null,
            "grid_gap": null,
            "grid_row": null,
            "grid_template_areas": null,
            "grid_template_columns": null,
            "grid_template_rows": null,
            "height": null,
            "justify_content": null,
            "justify_items": null,
            "left": null,
            "margin": null,
            "max_height": null,
            "max_width": null,
            "min_height": null,
            "min_width": null,
            "object_fit": null,
            "object_position": null,
            "order": null,
            "overflow": null,
            "overflow_x": null,
            "overflow_y": null,
            "padding": null,
            "right": null,
            "top": null,
            "visibility": null,
            "width": null
          }
        },
        "0d3fed5ff1b149799b0bbd45607d912e": {
          "model_module": "@jupyter-widgets/base",
          "model_module_version": "1.2.0",
          "model_name": "LayoutModel",
          "state": {
            "_model_module": "@jupyter-widgets/base",
            "_model_module_version": "1.2.0",
            "_model_name": "LayoutModel",
            "_view_count": null,
            "_view_module": "@jupyter-widgets/base",
            "_view_module_version": "1.2.0",
            "_view_name": "LayoutView",
            "align_content": null,
            "align_items": null,
            "align_self": null,
            "border": null,
            "bottom": null,
            "display": null,
            "flex": null,
            "flex_flow": null,
            "grid_area": null,
            "grid_auto_columns": null,
            "grid_auto_flow": null,
            "grid_auto_rows": null,
            "grid_column": null,
            "grid_gap": null,
            "grid_row": null,
            "grid_template_areas": null,
            "grid_template_columns": null,
            "grid_template_rows": null,
            "height": null,
            "justify_content": null,
            "justify_items": null,
            "left": null,
            "margin": null,
            "max_height": null,
            "max_width": null,
            "min_height": null,
            "min_width": null,
            "object_fit": null,
            "object_position": null,
            "order": null,
            "overflow": null,
            "overflow_x": null,
            "overflow_y": null,
            "padding": null,
            "right": null,
            "top": null,
            "visibility": null,
            "width": null
          }
        },
        "0f6f630216d54330aea06c4440ad096e": {
          "model_module": "@jupyter-widgets/controls",
          "model_module_version": "1.5.0",
          "model_name": "LabelModel",
          "state": {
            "_dom_classes": [],
            "_model_module": "@jupyter-widgets/controls",
            "_model_module_version": "1.5.0",
            "_model_name": "LabelModel",
            "_view_count": null,
            "_view_module": "@jupyter-widgets/controls",
            "_view_module_version": "1.5.0",
            "_view_name": "LabelView",
            "description": "",
            "description_tooltip": null,
            "layout": "IPY_MODEL_b75ac532d07e43ea94d7be614220d263",
            "placeholder": "​",
            "style": "IPY_MODEL_3e6f330342c341bdaa452204181106dc",
            "value": "0.042 MB of 0.042 MB uploaded\r"
          }
        },
        "11b319740543423695e43c732681c056": {
          "model_module": "@jupyter-widgets/controls",
          "model_module_version": "1.5.0",
          "model_name": "FloatProgressModel",
          "state": {
            "_dom_classes": [],
            "_model_module": "@jupyter-widgets/controls",
            "_model_module_version": "1.5.0",
            "_model_name": "FloatProgressModel",
            "_view_count": null,
            "_view_module": "@jupyter-widgets/controls",
            "_view_module_version": "1.5.0",
            "_view_name": "ProgressView",
            "bar_style": "",
            "description": "",
            "description_tooltip": null,
            "layout": "IPY_MODEL_2ee48c04f35640e69b589a57033ea9c7",
            "max": 1,
            "min": 0,
            "orientation": "horizontal",
            "style": "IPY_MODEL_9d9090bcd1884fbca7cf5b5643d04583",
            "value": 1
          }
        },
        "129386bbf218422abe6c18f31c27123f": {
          "model_module": "@jupyter-widgets/base",
          "model_module_version": "1.2.0",
          "model_name": "LayoutModel",
          "state": {
            "_model_module": "@jupyter-widgets/base",
            "_model_module_version": "1.2.0",
            "_model_name": "LayoutModel",
            "_view_count": null,
            "_view_module": "@jupyter-widgets/base",
            "_view_module_version": "1.2.0",
            "_view_name": "LayoutView",
            "align_content": null,
            "align_items": null,
            "align_self": null,
            "border": null,
            "bottom": null,
            "display": null,
            "flex": null,
            "flex_flow": null,
            "grid_area": null,
            "grid_auto_columns": null,
            "grid_auto_flow": null,
            "grid_auto_rows": null,
            "grid_column": null,
            "grid_gap": null,
            "grid_row": null,
            "grid_template_areas": null,
            "grid_template_columns": null,
            "grid_template_rows": null,
            "height": null,
            "justify_content": null,
            "justify_items": null,
            "left": null,
            "margin": null,
            "max_height": null,
            "max_width": null,
            "min_height": null,
            "min_width": null,
            "object_fit": null,
            "object_position": null,
            "order": null,
            "overflow": null,
            "overflow_x": null,
            "overflow_y": null,
            "padding": null,
            "right": null,
            "top": null,
            "visibility": null,
            "width": null
          }
        },
        "12d1b1ebdcf642afbdf12bdbc2b93fdb": {
          "model_module": "@jupyter-widgets/controls",
          "model_module_version": "1.5.0",
          "model_name": "LabelModel",
          "state": {
            "_dom_classes": [],
            "_model_module": "@jupyter-widgets/controls",
            "_model_module_version": "1.5.0",
            "_model_name": "LabelModel",
            "_view_count": null,
            "_view_module": "@jupyter-widgets/controls",
            "_view_module_version": "1.5.0",
            "_view_name": "LabelView",
            "description": "",
            "description_tooltip": null,
            "layout": "IPY_MODEL_d0fe940b74124074a959f2cc97c2ca4f",
            "placeholder": "​",
            "style": "IPY_MODEL_a914027dfaef4d36a5ecc3ec9b05f265",
            "value": "0.026 MB of 0.026 MB uploaded\r"
          }
        },
        "1332921721014763b2b0015774fd054f": {
          "model_module": "@jupyter-widgets/controls",
          "model_module_version": "1.5.0",
          "model_name": "DescriptionStyleModel",
          "state": {
            "_model_module": "@jupyter-widgets/controls",
            "_model_module_version": "1.5.0",
            "_model_name": "DescriptionStyleModel",
            "_view_count": null,
            "_view_module": "@jupyter-widgets/base",
            "_view_module_version": "1.2.0",
            "_view_name": "StyleView",
            "description_width": ""
          }
        },
        "13867975107e445c8969250d08dedf01": {
          "model_module": "@jupyter-widgets/base",
          "model_module_version": "1.2.0",
          "model_name": "LayoutModel",
          "state": {
            "_model_module": "@jupyter-widgets/base",
            "_model_module_version": "1.2.0",
            "_model_name": "LayoutModel",
            "_view_count": null,
            "_view_module": "@jupyter-widgets/base",
            "_view_module_version": "1.2.0",
            "_view_name": "LayoutView",
            "align_content": null,
            "align_items": null,
            "align_self": null,
            "border": null,
            "bottom": null,
            "display": null,
            "flex": null,
            "flex_flow": null,
            "grid_area": null,
            "grid_auto_columns": null,
            "grid_auto_flow": null,
            "grid_auto_rows": null,
            "grid_column": null,
            "grid_gap": null,
            "grid_row": null,
            "grid_template_areas": null,
            "grid_template_columns": null,
            "grid_template_rows": null,
            "height": null,
            "justify_content": null,
            "justify_items": null,
            "left": null,
            "margin": null,
            "max_height": null,
            "max_width": null,
            "min_height": null,
            "min_width": null,
            "object_fit": null,
            "object_position": null,
            "order": null,
            "overflow": null,
            "overflow_x": null,
            "overflow_y": null,
            "padding": null,
            "right": null,
            "top": null,
            "visibility": null,
            "width": null
          }
        },
        "14d92e3abf1241d0a8bef517893ef808": {
          "model_module": "@jupyter-widgets/base",
          "model_module_version": "1.2.0",
          "model_name": "LayoutModel",
          "state": {
            "_model_module": "@jupyter-widgets/base",
            "_model_module_version": "1.2.0",
            "_model_name": "LayoutModel",
            "_view_count": null,
            "_view_module": "@jupyter-widgets/base",
            "_view_module_version": "1.2.0",
            "_view_name": "LayoutView",
            "align_content": null,
            "align_items": null,
            "align_self": null,
            "border": null,
            "bottom": null,
            "display": null,
            "flex": null,
            "flex_flow": null,
            "grid_area": null,
            "grid_auto_columns": null,
            "grid_auto_flow": null,
            "grid_auto_rows": null,
            "grid_column": null,
            "grid_gap": null,
            "grid_row": null,
            "grid_template_areas": null,
            "grid_template_columns": null,
            "grid_template_rows": null,
            "height": null,
            "justify_content": null,
            "justify_items": null,
            "left": null,
            "margin": null,
            "max_height": null,
            "max_width": null,
            "min_height": null,
            "min_width": null,
            "object_fit": null,
            "object_position": null,
            "order": null,
            "overflow": null,
            "overflow_x": null,
            "overflow_y": null,
            "padding": null,
            "right": null,
            "top": null,
            "visibility": null,
            "width": null
          }
        },
        "16e809bcf0964f3986f6f5c2f167820c": {
          "model_module": "@jupyter-widgets/controls",
          "model_module_version": "1.5.0",
          "model_name": "FloatProgressModel",
          "state": {
            "_dom_classes": [],
            "_model_module": "@jupyter-widgets/controls",
            "_model_module_version": "1.5.0",
            "_model_name": "FloatProgressModel",
            "_view_count": null,
            "_view_module": "@jupyter-widgets/controls",
            "_view_module_version": "1.5.0",
            "_view_name": "ProgressView",
            "bar_style": "",
            "description": "",
            "description_tooltip": null,
            "layout": "IPY_MODEL_4212e74a88e8473d94fde7e280d97c43",
            "max": 1,
            "min": 0,
            "orientation": "horizontal",
            "style": "IPY_MODEL_043338038c7247d8a7b28a811f067e9e",
            "value": 1
          }
        },
        "16fc5385fb1c412f918b2ba92347552e": {
          "model_module": "@jupyter-widgets/base",
          "model_module_version": "1.2.0",
          "model_name": "LayoutModel",
          "state": {
            "_model_module": "@jupyter-widgets/base",
            "_model_module_version": "1.2.0",
            "_model_name": "LayoutModel",
            "_view_count": null,
            "_view_module": "@jupyter-widgets/base",
            "_view_module_version": "1.2.0",
            "_view_name": "LayoutView",
            "align_content": null,
            "align_items": null,
            "align_self": null,
            "border": null,
            "bottom": null,
            "display": null,
            "flex": null,
            "flex_flow": null,
            "grid_area": null,
            "grid_auto_columns": null,
            "grid_auto_flow": null,
            "grid_auto_rows": null,
            "grid_column": null,
            "grid_gap": null,
            "grid_row": null,
            "grid_template_areas": null,
            "grid_template_columns": null,
            "grid_template_rows": null,
            "height": null,
            "justify_content": null,
            "justify_items": null,
            "left": null,
            "margin": null,
            "max_height": null,
            "max_width": null,
            "min_height": null,
            "min_width": null,
            "object_fit": null,
            "object_position": null,
            "order": null,
            "overflow": null,
            "overflow_x": null,
            "overflow_y": null,
            "padding": null,
            "right": null,
            "top": null,
            "visibility": null,
            "width": null
          }
        },
        "17ec248b374d41fbb2fa700da90a76c9": {
          "model_module": "@jupyter-widgets/base",
          "model_module_version": "1.2.0",
          "model_name": "LayoutModel",
          "state": {
            "_model_module": "@jupyter-widgets/base",
            "_model_module_version": "1.2.0",
            "_model_name": "LayoutModel",
            "_view_count": null,
            "_view_module": "@jupyter-widgets/base",
            "_view_module_version": "1.2.0",
            "_view_name": "LayoutView",
            "align_content": null,
            "align_items": null,
            "align_self": null,
            "border": null,
            "bottom": null,
            "display": null,
            "flex": null,
            "flex_flow": null,
            "grid_area": null,
            "grid_auto_columns": null,
            "grid_auto_flow": null,
            "grid_auto_rows": null,
            "grid_column": null,
            "grid_gap": null,
            "grid_row": null,
            "grid_template_areas": null,
            "grid_template_columns": null,
            "grid_template_rows": null,
            "height": null,
            "justify_content": null,
            "justify_items": null,
            "left": null,
            "margin": null,
            "max_height": null,
            "max_width": null,
            "min_height": null,
            "min_width": null,
            "object_fit": null,
            "object_position": null,
            "order": null,
            "overflow": null,
            "overflow_x": null,
            "overflow_y": null,
            "padding": null,
            "right": null,
            "top": null,
            "visibility": null,
            "width": null
          }
        },
        "18f359d8aeb940469a7df8202ad20303": {
          "model_module": "@jupyter-widgets/base",
          "model_module_version": "1.2.0",
          "model_name": "LayoutModel",
          "state": {
            "_model_module": "@jupyter-widgets/base",
            "_model_module_version": "1.2.0",
            "_model_name": "LayoutModel",
            "_view_count": null,
            "_view_module": "@jupyter-widgets/base",
            "_view_module_version": "1.2.0",
            "_view_name": "LayoutView",
            "align_content": null,
            "align_items": null,
            "align_self": null,
            "border": null,
            "bottom": null,
            "display": null,
            "flex": null,
            "flex_flow": null,
            "grid_area": null,
            "grid_auto_columns": null,
            "grid_auto_flow": null,
            "grid_auto_rows": null,
            "grid_column": null,
            "grid_gap": null,
            "grid_row": null,
            "grid_template_areas": null,
            "grid_template_columns": null,
            "grid_template_rows": null,
            "height": null,
            "justify_content": null,
            "justify_items": null,
            "left": null,
            "margin": null,
            "max_height": null,
            "max_width": null,
            "min_height": null,
            "min_width": null,
            "object_fit": null,
            "object_position": null,
            "order": null,
            "overflow": null,
            "overflow_x": null,
            "overflow_y": null,
            "padding": null,
            "right": null,
            "top": null,
            "visibility": null,
            "width": null
          }
        },
        "1990e23e7cd84417809d319791a983d4": {
          "model_module": "@jupyter-widgets/controls",
          "model_module_version": "1.5.0",
          "model_name": "FloatProgressModel",
          "state": {
            "_dom_classes": [],
            "_model_module": "@jupyter-widgets/controls",
            "_model_module_version": "1.5.0",
            "_model_name": "FloatProgressModel",
            "_view_count": null,
            "_view_module": "@jupyter-widgets/controls",
            "_view_module_version": "1.5.0",
            "_view_name": "ProgressView",
            "bar_style": "",
            "description": "",
            "description_tooltip": null,
            "layout": "IPY_MODEL_13867975107e445c8969250d08dedf01",
            "max": 1,
            "min": 0,
            "orientation": "horizontal",
            "style": "IPY_MODEL_5ac1dfc1b1c04fca9b0e6d7f8332dfbe",
            "value": 1
          }
        },
        "1a6b08ee1ee74c55ab5968c19aa77491": {
          "model_module": "@jupyter-widgets/controls",
          "model_module_version": "1.5.0",
          "model_name": "VBoxModel",
          "state": {
            "_dom_classes": [],
            "_model_module": "@jupyter-widgets/controls",
            "_model_module_version": "1.5.0",
            "_model_name": "VBoxModel",
            "_view_count": null,
            "_view_module": "@jupyter-widgets/controls",
            "_view_module_version": "1.5.0",
            "_view_name": "VBoxView",
            "box_style": "",
            "children": [
              "IPY_MODEL_bd6e23540f984589976c2d5df2d8a001",
              "IPY_MODEL_84b557a0258e4f86a9a5432ac45abae3"
            ],
            "layout": "IPY_MODEL_2368cae724564ab5a78dd4020c8666dd"
          }
        },
        "1b0ae065375f4595aa68b96826be55cf": {
          "model_module": "@jupyter-widgets/controls",
          "model_module_version": "1.5.0",
          "model_name": "DescriptionStyleModel",
          "state": {
            "_model_module": "@jupyter-widgets/controls",
            "_model_module_version": "1.5.0",
            "_model_name": "DescriptionStyleModel",
            "_view_count": null,
            "_view_module": "@jupyter-widgets/base",
            "_view_module_version": "1.2.0",
            "_view_name": "StyleView",
            "description_width": ""
          }
        },
        "1ce6d0ba002a494a801a866a0d7d79eb": {
          "model_module": "@jupyter-widgets/controls",
          "model_module_version": "1.5.0",
          "model_name": "DescriptionStyleModel",
          "state": {
            "_model_module": "@jupyter-widgets/controls",
            "_model_module_version": "1.5.0",
            "_model_name": "DescriptionStyleModel",
            "_view_count": null,
            "_view_module": "@jupyter-widgets/base",
            "_view_module_version": "1.2.0",
            "_view_name": "StyleView",
            "description_width": ""
          }
        },
        "2368cae724564ab5a78dd4020c8666dd": {
          "model_module": "@jupyter-widgets/base",
          "model_module_version": "1.2.0",
          "model_name": "LayoutModel",
          "state": {
            "_model_module": "@jupyter-widgets/base",
            "_model_module_version": "1.2.0",
            "_model_name": "LayoutModel",
            "_view_count": null,
            "_view_module": "@jupyter-widgets/base",
            "_view_module_version": "1.2.0",
            "_view_name": "LayoutView",
            "align_content": null,
            "align_items": null,
            "align_self": null,
            "border": null,
            "bottom": null,
            "display": null,
            "flex": null,
            "flex_flow": null,
            "grid_area": null,
            "grid_auto_columns": null,
            "grid_auto_flow": null,
            "grid_auto_rows": null,
            "grid_column": null,
            "grid_gap": null,
            "grid_row": null,
            "grid_template_areas": null,
            "grid_template_columns": null,
            "grid_template_rows": null,
            "height": null,
            "justify_content": null,
            "justify_items": null,
            "left": null,
            "margin": null,
            "max_height": null,
            "max_width": null,
            "min_height": null,
            "min_width": null,
            "object_fit": null,
            "object_position": null,
            "order": null,
            "overflow": null,
            "overflow_x": null,
            "overflow_y": null,
            "padding": null,
            "right": null,
            "top": null,
            "visibility": null,
            "width": null
          }
        },
        "243379f8455f4ea0907399f7934c06dd": {
          "model_module": "@jupyter-widgets/controls",
          "model_module_version": "1.5.0",
          "model_name": "DescriptionStyleModel",
          "state": {
            "_model_module": "@jupyter-widgets/controls",
            "_model_module_version": "1.5.0",
            "_model_name": "DescriptionStyleModel",
            "_view_count": null,
            "_view_module": "@jupyter-widgets/base",
            "_view_module_version": "1.2.0",
            "_view_name": "StyleView",
            "description_width": ""
          }
        },
        "24ab42139cfa46029969042fe1e3ac69": {
          "model_module": "@jupyter-widgets/controls",
          "model_module_version": "1.5.0",
          "model_name": "ProgressStyleModel",
          "state": {
            "_model_module": "@jupyter-widgets/controls",
            "_model_module_version": "1.5.0",
            "_model_name": "ProgressStyleModel",
            "_view_count": null,
            "_view_module": "@jupyter-widgets/base",
            "_view_module_version": "1.2.0",
            "_view_name": "StyleView",
            "bar_color": null,
            "description_width": ""
          }
        },
        "286c368204d440b79c6f3106a0919410": {
          "model_module": "@jupyter-widgets/base",
          "model_module_version": "1.2.0",
          "model_name": "LayoutModel",
          "state": {
            "_model_module": "@jupyter-widgets/base",
            "_model_module_version": "1.2.0",
            "_model_name": "LayoutModel",
            "_view_count": null,
            "_view_module": "@jupyter-widgets/base",
            "_view_module_version": "1.2.0",
            "_view_name": "LayoutView",
            "align_content": null,
            "align_items": null,
            "align_self": null,
            "border": null,
            "bottom": null,
            "display": null,
            "flex": null,
            "flex_flow": null,
            "grid_area": null,
            "grid_auto_columns": null,
            "grid_auto_flow": null,
            "grid_auto_rows": null,
            "grid_column": null,
            "grid_gap": null,
            "grid_row": null,
            "grid_template_areas": null,
            "grid_template_columns": null,
            "grid_template_rows": null,
            "height": null,
            "justify_content": null,
            "justify_items": null,
            "left": null,
            "margin": null,
            "max_height": null,
            "max_width": null,
            "min_height": null,
            "min_width": null,
            "object_fit": null,
            "object_position": null,
            "order": null,
            "overflow": null,
            "overflow_x": null,
            "overflow_y": null,
            "padding": null,
            "right": null,
            "top": null,
            "visibility": null,
            "width": null
          }
        },
        "287f6d730208457e917fe3b44e3d7d52": {
          "model_module": "@jupyter-widgets/base",
          "model_module_version": "1.2.0",
          "model_name": "LayoutModel",
          "state": {
            "_model_module": "@jupyter-widgets/base",
            "_model_module_version": "1.2.0",
            "_model_name": "LayoutModel",
            "_view_count": null,
            "_view_module": "@jupyter-widgets/base",
            "_view_module_version": "1.2.0",
            "_view_name": "LayoutView",
            "align_content": null,
            "align_items": null,
            "align_self": null,
            "border": null,
            "bottom": null,
            "display": null,
            "flex": null,
            "flex_flow": null,
            "grid_area": null,
            "grid_auto_columns": null,
            "grid_auto_flow": null,
            "grid_auto_rows": null,
            "grid_column": null,
            "grid_gap": null,
            "grid_row": null,
            "grid_template_areas": null,
            "grid_template_columns": null,
            "grid_template_rows": null,
            "height": null,
            "justify_content": null,
            "justify_items": null,
            "left": null,
            "margin": null,
            "max_height": null,
            "max_width": null,
            "min_height": null,
            "min_width": null,
            "object_fit": null,
            "object_position": null,
            "order": null,
            "overflow": null,
            "overflow_x": null,
            "overflow_y": null,
            "padding": null,
            "right": null,
            "top": null,
            "visibility": null,
            "width": null
          }
        },
        "2b418a3baa6248bc839bc54e78250f67": {
          "model_module": "@jupyter-widgets/controls",
          "model_module_version": "1.5.0",
          "model_name": "FloatProgressModel",
          "state": {
            "_dom_classes": [],
            "_model_module": "@jupyter-widgets/controls",
            "_model_module_version": "1.5.0",
            "_model_name": "FloatProgressModel",
            "_view_count": null,
            "_view_module": "@jupyter-widgets/controls",
            "_view_module_version": "1.5.0",
            "_view_name": "ProgressView",
            "bar_style": "",
            "description": "",
            "description_tooltip": null,
            "layout": "IPY_MODEL_0649b0a177f34bb586ad5649f5724178",
            "max": 1,
            "min": 0,
            "orientation": "horizontal",
            "style": "IPY_MODEL_053a2ff0320d4f3ca72379a9348e6b18",
            "value": 1
          }
        },
        "2ee48c04f35640e69b589a57033ea9c7": {
          "model_module": "@jupyter-widgets/base",
          "model_module_version": "1.2.0",
          "model_name": "LayoutModel",
          "state": {
            "_model_module": "@jupyter-widgets/base",
            "_model_module_version": "1.2.0",
            "_model_name": "LayoutModel",
            "_view_count": null,
            "_view_module": "@jupyter-widgets/base",
            "_view_module_version": "1.2.0",
            "_view_name": "LayoutView",
            "align_content": null,
            "align_items": null,
            "align_self": null,
            "border": null,
            "bottom": null,
            "display": null,
            "flex": null,
            "flex_flow": null,
            "grid_area": null,
            "grid_auto_columns": null,
            "grid_auto_flow": null,
            "grid_auto_rows": null,
            "grid_column": null,
            "grid_gap": null,
            "grid_row": null,
            "grid_template_areas": null,
            "grid_template_columns": null,
            "grid_template_rows": null,
            "height": null,
            "justify_content": null,
            "justify_items": null,
            "left": null,
            "margin": null,
            "max_height": null,
            "max_width": null,
            "min_height": null,
            "min_width": null,
            "object_fit": null,
            "object_position": null,
            "order": null,
            "overflow": null,
            "overflow_x": null,
            "overflow_y": null,
            "padding": null,
            "right": null,
            "top": null,
            "visibility": null,
            "width": null
          }
        },
        "2f0e5e5175914b92840776356f13cfc0": {
          "model_module": "@jupyter-widgets/base",
          "model_module_version": "1.2.0",
          "model_name": "LayoutModel",
          "state": {
            "_model_module": "@jupyter-widgets/base",
            "_model_module_version": "1.2.0",
            "_model_name": "LayoutModel",
            "_view_count": null,
            "_view_module": "@jupyter-widgets/base",
            "_view_module_version": "1.2.0",
            "_view_name": "LayoutView",
            "align_content": null,
            "align_items": null,
            "align_self": null,
            "border": null,
            "bottom": null,
            "display": null,
            "flex": null,
            "flex_flow": null,
            "grid_area": null,
            "grid_auto_columns": null,
            "grid_auto_flow": null,
            "grid_auto_rows": null,
            "grid_column": null,
            "grid_gap": null,
            "grid_row": null,
            "grid_template_areas": null,
            "grid_template_columns": null,
            "grid_template_rows": null,
            "height": null,
            "justify_content": null,
            "justify_items": null,
            "left": null,
            "margin": null,
            "max_height": null,
            "max_width": null,
            "min_height": null,
            "min_width": null,
            "object_fit": null,
            "object_position": null,
            "order": null,
            "overflow": null,
            "overflow_x": null,
            "overflow_y": null,
            "padding": null,
            "right": null,
            "top": null,
            "visibility": null,
            "width": null
          }
        },
        "30e5801c99f847a4b87e127f6eea2600": {
          "model_module": "@jupyter-widgets/controls",
          "model_module_version": "1.5.0",
          "model_name": "DescriptionStyleModel",
          "state": {
            "_model_module": "@jupyter-widgets/controls",
            "_model_module_version": "1.5.0",
            "_model_name": "DescriptionStyleModel",
            "_view_count": null,
            "_view_module": "@jupyter-widgets/base",
            "_view_module_version": "1.2.0",
            "_view_name": "StyleView",
            "description_width": ""
          }
        },
        "319fa890723a4446ad8e9b290d8eb100": {
          "model_module": "@jupyter-widgets/base",
          "model_module_version": "1.2.0",
          "model_name": "LayoutModel",
          "state": {
            "_model_module": "@jupyter-widgets/base",
            "_model_module_version": "1.2.0",
            "_model_name": "LayoutModel",
            "_view_count": null,
            "_view_module": "@jupyter-widgets/base",
            "_view_module_version": "1.2.0",
            "_view_name": "LayoutView",
            "align_content": null,
            "align_items": null,
            "align_self": null,
            "border": null,
            "bottom": null,
            "display": null,
            "flex": null,
            "flex_flow": null,
            "grid_area": null,
            "grid_auto_columns": null,
            "grid_auto_flow": null,
            "grid_auto_rows": null,
            "grid_column": null,
            "grid_gap": null,
            "grid_row": null,
            "grid_template_areas": null,
            "grid_template_columns": null,
            "grid_template_rows": null,
            "height": null,
            "justify_content": null,
            "justify_items": null,
            "left": null,
            "margin": null,
            "max_height": null,
            "max_width": null,
            "min_height": null,
            "min_width": null,
            "object_fit": null,
            "object_position": null,
            "order": null,
            "overflow": null,
            "overflow_x": null,
            "overflow_y": null,
            "padding": null,
            "right": null,
            "top": null,
            "visibility": null,
            "width": null
          }
        },
        "3309db329ca6470ab0c3dbe30789c55e": {
          "model_module": "@jupyter-widgets/controls",
          "model_module_version": "1.5.0",
          "model_name": "DescriptionStyleModel",
          "state": {
            "_model_module": "@jupyter-widgets/controls",
            "_model_module_version": "1.5.0",
            "_model_name": "DescriptionStyleModel",
            "_view_count": null,
            "_view_module": "@jupyter-widgets/base",
            "_view_module_version": "1.2.0",
            "_view_name": "StyleView",
            "description_width": ""
          }
        },
        "339c4454c04b4cba84dbae11ea7f82bf": {
          "model_module": "@jupyter-widgets/base",
          "model_module_version": "1.2.0",
          "model_name": "LayoutModel",
          "state": {
            "_model_module": "@jupyter-widgets/base",
            "_model_module_version": "1.2.0",
            "_model_name": "LayoutModel",
            "_view_count": null,
            "_view_module": "@jupyter-widgets/base",
            "_view_module_version": "1.2.0",
            "_view_name": "LayoutView",
            "align_content": null,
            "align_items": null,
            "align_self": null,
            "border": null,
            "bottom": null,
            "display": null,
            "flex": null,
            "flex_flow": null,
            "grid_area": null,
            "grid_auto_columns": null,
            "grid_auto_flow": null,
            "grid_auto_rows": null,
            "grid_column": null,
            "grid_gap": null,
            "grid_row": null,
            "grid_template_areas": null,
            "grid_template_columns": null,
            "grid_template_rows": null,
            "height": null,
            "justify_content": null,
            "justify_items": null,
            "left": null,
            "margin": null,
            "max_height": null,
            "max_width": null,
            "min_height": null,
            "min_width": null,
            "object_fit": null,
            "object_position": null,
            "order": null,
            "overflow": null,
            "overflow_x": null,
            "overflow_y": null,
            "padding": null,
            "right": null,
            "top": null,
            "visibility": null,
            "width": null
          }
        },
        "35383f9c25534292b24c3d273ce6c284": {
          "model_module": "@jupyter-widgets/controls",
          "model_module_version": "1.5.0",
          "model_name": "LabelModel",
          "state": {
            "_dom_classes": [],
            "_model_module": "@jupyter-widgets/controls",
            "_model_module_version": "1.5.0",
            "_model_name": "LabelModel",
            "_view_count": null,
            "_view_module": "@jupyter-widgets/controls",
            "_view_module_version": "1.5.0",
            "_view_name": "LabelView",
            "description": "",
            "description_tooltip": null,
            "layout": "IPY_MODEL_6522ba1200e94a77831dfed8b289a54f",
            "placeholder": "​",
            "style": "IPY_MODEL_3a47fff8ea6a410f959936a0953989f6",
            "value": "0.026 MB of 0.026 MB uploaded\r"
          }
        },
        "3555ba402a47450c84e65d03b6d8fb18": {
          "model_module": "@jupyter-widgets/controls",
          "model_module_version": "1.5.0",
          "model_name": "LabelModel",
          "state": {
            "_dom_classes": [],
            "_model_module": "@jupyter-widgets/controls",
            "_model_module_version": "1.5.0",
            "_model_name": "LabelModel",
            "_view_count": null,
            "_view_module": "@jupyter-widgets/controls",
            "_view_module_version": "1.5.0",
            "_view_name": "LabelView",
            "description": "",
            "description_tooltip": null,
            "layout": "IPY_MODEL_e8a2ce1a4fd24fd5a3b906686acdb45c",
            "placeholder": "​",
            "style": "IPY_MODEL_94beb06623fc4365b86455166d67564b",
            "value": "0.026 MB of 0.026 MB uploaded\r"
          }
        },
        "35ea46ca931942f4b2a5c4f3cfb6e27e": {
          "model_module": "@jupyter-widgets/controls",
          "model_module_version": "1.5.0",
          "model_name": "VBoxModel",
          "state": {
            "_dom_classes": [],
            "_model_module": "@jupyter-widgets/controls",
            "_model_module_version": "1.5.0",
            "_model_name": "VBoxModel",
            "_view_count": null,
            "_view_module": "@jupyter-widgets/controls",
            "_view_module_version": "1.5.0",
            "_view_name": "VBoxView",
            "box_style": "",
            "children": [
              "IPY_MODEL_e64a6aa177ed4ff6a2e1c8b003dd99d4",
              "IPY_MODEL_11b319740543423695e43c732681c056"
            ],
            "layout": "IPY_MODEL_6686c5e65e4048198e61e57e697f2e0a"
          }
        },
        "372dff97adc648699c6443ff5f2b6d6c": {
          "model_module": "@jupyter-widgets/controls",
          "model_module_version": "1.5.0",
          "model_name": "DescriptionStyleModel",
          "state": {
            "_model_module": "@jupyter-widgets/controls",
            "_model_module_version": "1.5.0",
            "_model_name": "DescriptionStyleModel",
            "_view_count": null,
            "_view_module": "@jupyter-widgets/base",
            "_view_module_version": "1.2.0",
            "_view_name": "StyleView",
            "description_width": ""
          }
        },
        "3764378a2e7147d9a216fd4d460a6d62": {
          "model_module": "@jupyter-widgets/base",
          "model_module_version": "1.2.0",
          "model_name": "LayoutModel",
          "state": {
            "_model_module": "@jupyter-widgets/base",
            "_model_module_version": "1.2.0",
            "_model_name": "LayoutModel",
            "_view_count": null,
            "_view_module": "@jupyter-widgets/base",
            "_view_module_version": "1.2.0",
            "_view_name": "LayoutView",
            "align_content": null,
            "align_items": null,
            "align_self": null,
            "border": null,
            "bottom": null,
            "display": null,
            "flex": null,
            "flex_flow": null,
            "grid_area": null,
            "grid_auto_columns": null,
            "grid_auto_flow": null,
            "grid_auto_rows": null,
            "grid_column": null,
            "grid_gap": null,
            "grid_row": null,
            "grid_template_areas": null,
            "grid_template_columns": null,
            "grid_template_rows": null,
            "height": null,
            "justify_content": null,
            "justify_items": null,
            "left": null,
            "margin": null,
            "max_height": null,
            "max_width": null,
            "min_height": null,
            "min_width": null,
            "object_fit": null,
            "object_position": null,
            "order": null,
            "overflow": null,
            "overflow_x": null,
            "overflow_y": null,
            "padding": null,
            "right": null,
            "top": null,
            "visibility": null,
            "width": null
          }
        },
        "37778ce2f725487f9adc55f4646ca90c": {
          "model_module": "@jupyter-widgets/base",
          "model_module_version": "1.2.0",
          "model_name": "LayoutModel",
          "state": {
            "_model_module": "@jupyter-widgets/base",
            "_model_module_version": "1.2.0",
            "_model_name": "LayoutModel",
            "_view_count": null,
            "_view_module": "@jupyter-widgets/base",
            "_view_module_version": "1.2.0",
            "_view_name": "LayoutView",
            "align_content": null,
            "align_items": null,
            "align_self": null,
            "border": null,
            "bottom": null,
            "display": null,
            "flex": null,
            "flex_flow": null,
            "grid_area": null,
            "grid_auto_columns": null,
            "grid_auto_flow": null,
            "grid_auto_rows": null,
            "grid_column": null,
            "grid_gap": null,
            "grid_row": null,
            "grid_template_areas": null,
            "grid_template_columns": null,
            "grid_template_rows": null,
            "height": null,
            "justify_content": null,
            "justify_items": null,
            "left": null,
            "margin": null,
            "max_height": null,
            "max_width": null,
            "min_height": null,
            "min_width": null,
            "object_fit": null,
            "object_position": null,
            "order": null,
            "overflow": null,
            "overflow_x": null,
            "overflow_y": null,
            "padding": null,
            "right": null,
            "top": null,
            "visibility": null,
            "width": null
          }
        },
        "37c8d9e398c54eab8ad85567690ff095": {
          "model_module": "@jupyter-widgets/base",
          "model_module_version": "1.2.0",
          "model_name": "LayoutModel",
          "state": {
            "_model_module": "@jupyter-widgets/base",
            "_model_module_version": "1.2.0",
            "_model_name": "LayoutModel",
            "_view_count": null,
            "_view_module": "@jupyter-widgets/base",
            "_view_module_version": "1.2.0",
            "_view_name": "LayoutView",
            "align_content": null,
            "align_items": null,
            "align_self": null,
            "border": null,
            "bottom": null,
            "display": null,
            "flex": null,
            "flex_flow": null,
            "grid_area": null,
            "grid_auto_columns": null,
            "grid_auto_flow": null,
            "grid_auto_rows": null,
            "grid_column": null,
            "grid_gap": null,
            "grid_row": null,
            "grid_template_areas": null,
            "grid_template_columns": null,
            "grid_template_rows": null,
            "height": null,
            "justify_content": null,
            "justify_items": null,
            "left": null,
            "margin": null,
            "max_height": null,
            "max_width": null,
            "min_height": null,
            "min_width": null,
            "object_fit": null,
            "object_position": null,
            "order": null,
            "overflow": null,
            "overflow_x": null,
            "overflow_y": null,
            "padding": null,
            "right": null,
            "top": null,
            "visibility": null,
            "width": null
          }
        },
        "3962e11114de40cbb45280a20dc7552a": {
          "model_module": "@jupyter-widgets/controls",
          "model_module_version": "1.5.0",
          "model_name": "LabelModel",
          "state": {
            "_dom_classes": [],
            "_model_module": "@jupyter-widgets/controls",
            "_model_module_version": "1.5.0",
            "_model_name": "LabelModel",
            "_view_count": null,
            "_view_module": "@jupyter-widgets/controls",
            "_view_module_version": "1.5.0",
            "_view_name": "LabelView",
            "description": "",
            "description_tooltip": null,
            "layout": "IPY_MODEL_2f0e5e5175914b92840776356f13cfc0",
            "placeholder": "​",
            "style": "IPY_MODEL_913a678a80db43b0a11e4844826cef6c",
            "value": "0.026 MB of 0.026 MB uploaded\r"
          }
        },
        "3a47fff8ea6a410f959936a0953989f6": {
          "model_module": "@jupyter-widgets/controls",
          "model_module_version": "1.5.0",
          "model_name": "DescriptionStyleModel",
          "state": {
            "_model_module": "@jupyter-widgets/controls",
            "_model_module_version": "1.5.0",
            "_model_name": "DescriptionStyleModel",
            "_view_count": null,
            "_view_module": "@jupyter-widgets/base",
            "_view_module_version": "1.2.0",
            "_view_name": "StyleView",
            "description_width": ""
          }
        },
        "3df9250e069e45dfa28e7673003c12f4": {
          "model_module": "@jupyter-widgets/controls",
          "model_module_version": "1.5.0",
          "model_name": "DescriptionStyleModel",
          "state": {
            "_model_module": "@jupyter-widgets/controls",
            "_model_module_version": "1.5.0",
            "_model_name": "DescriptionStyleModel",
            "_view_count": null,
            "_view_module": "@jupyter-widgets/base",
            "_view_module_version": "1.2.0",
            "_view_name": "StyleView",
            "description_width": ""
          }
        },
        "3e6f330342c341bdaa452204181106dc": {
          "model_module": "@jupyter-widgets/controls",
          "model_module_version": "1.5.0",
          "model_name": "DescriptionStyleModel",
          "state": {
            "_model_module": "@jupyter-widgets/controls",
            "_model_module_version": "1.5.0",
            "_model_name": "DescriptionStyleModel",
            "_view_count": null,
            "_view_module": "@jupyter-widgets/base",
            "_view_module_version": "1.2.0",
            "_view_name": "StyleView",
            "description_width": ""
          }
        },
        "3eeeac4498484762bce146fb2e27d211": {
          "model_module": "@jupyter-widgets/controls",
          "model_module_version": "1.5.0",
          "model_name": "FloatProgressModel",
          "state": {
            "_dom_classes": [],
            "_model_module": "@jupyter-widgets/controls",
            "_model_module_version": "1.5.0",
            "_model_name": "FloatProgressModel",
            "_view_count": null,
            "_view_module": "@jupyter-widgets/controls",
            "_view_module_version": "1.5.0",
            "_view_name": "ProgressView",
            "bar_style": "",
            "description": "",
            "description_tooltip": null,
            "layout": "IPY_MODEL_fa9944f222334a0eb95a957881232bf9",
            "max": 1,
            "min": 0,
            "orientation": "horizontal",
            "style": "IPY_MODEL_baa9e7de1286475aa017d10254e227cb",
            "value": 1
          }
        },
        "40c02f9b80114520b66107164e66dbef": {
          "model_module": "@jupyter-widgets/base",
          "model_module_version": "1.2.0",
          "model_name": "LayoutModel",
          "state": {
            "_model_module": "@jupyter-widgets/base",
            "_model_module_version": "1.2.0",
            "_model_name": "LayoutModel",
            "_view_count": null,
            "_view_module": "@jupyter-widgets/base",
            "_view_module_version": "1.2.0",
            "_view_name": "LayoutView",
            "align_content": null,
            "align_items": null,
            "align_self": null,
            "border": null,
            "bottom": null,
            "display": null,
            "flex": null,
            "flex_flow": null,
            "grid_area": null,
            "grid_auto_columns": null,
            "grid_auto_flow": null,
            "grid_auto_rows": null,
            "grid_column": null,
            "grid_gap": null,
            "grid_row": null,
            "grid_template_areas": null,
            "grid_template_columns": null,
            "grid_template_rows": null,
            "height": null,
            "justify_content": null,
            "justify_items": null,
            "left": null,
            "margin": null,
            "max_height": null,
            "max_width": null,
            "min_height": null,
            "min_width": null,
            "object_fit": null,
            "object_position": null,
            "order": null,
            "overflow": null,
            "overflow_x": null,
            "overflow_y": null,
            "padding": null,
            "right": null,
            "top": null,
            "visibility": null,
            "width": null
          }
        },
        "40fc14e4f35744b3b18f0af686a3a767": {
          "model_module": "@jupyter-widgets/base",
          "model_module_version": "1.2.0",
          "model_name": "LayoutModel",
          "state": {
            "_model_module": "@jupyter-widgets/base",
            "_model_module_version": "1.2.0",
            "_model_name": "LayoutModel",
            "_view_count": null,
            "_view_module": "@jupyter-widgets/base",
            "_view_module_version": "1.2.0",
            "_view_name": "LayoutView",
            "align_content": null,
            "align_items": null,
            "align_self": null,
            "border": null,
            "bottom": null,
            "display": null,
            "flex": null,
            "flex_flow": null,
            "grid_area": null,
            "grid_auto_columns": null,
            "grid_auto_flow": null,
            "grid_auto_rows": null,
            "grid_column": null,
            "grid_gap": null,
            "grid_row": null,
            "grid_template_areas": null,
            "grid_template_columns": null,
            "grid_template_rows": null,
            "height": null,
            "justify_content": null,
            "justify_items": null,
            "left": null,
            "margin": null,
            "max_height": null,
            "max_width": null,
            "min_height": null,
            "min_width": null,
            "object_fit": null,
            "object_position": null,
            "order": null,
            "overflow": null,
            "overflow_x": null,
            "overflow_y": null,
            "padding": null,
            "right": null,
            "top": null,
            "visibility": null,
            "width": null
          }
        },
        "4212e74a88e8473d94fde7e280d97c43": {
          "model_module": "@jupyter-widgets/base",
          "model_module_version": "1.2.0",
          "model_name": "LayoutModel",
          "state": {
            "_model_module": "@jupyter-widgets/base",
            "_model_module_version": "1.2.0",
            "_model_name": "LayoutModel",
            "_view_count": null,
            "_view_module": "@jupyter-widgets/base",
            "_view_module_version": "1.2.0",
            "_view_name": "LayoutView",
            "align_content": null,
            "align_items": null,
            "align_self": null,
            "border": null,
            "bottom": null,
            "display": null,
            "flex": null,
            "flex_flow": null,
            "grid_area": null,
            "grid_auto_columns": null,
            "grid_auto_flow": null,
            "grid_auto_rows": null,
            "grid_column": null,
            "grid_gap": null,
            "grid_row": null,
            "grid_template_areas": null,
            "grid_template_columns": null,
            "grid_template_rows": null,
            "height": null,
            "justify_content": null,
            "justify_items": null,
            "left": null,
            "margin": null,
            "max_height": null,
            "max_width": null,
            "min_height": null,
            "min_width": null,
            "object_fit": null,
            "object_position": null,
            "order": null,
            "overflow": null,
            "overflow_x": null,
            "overflow_y": null,
            "padding": null,
            "right": null,
            "top": null,
            "visibility": null,
            "width": null
          }
        },
        "466a4672551d427c9c195362a1139667": {
          "model_module": "@jupyter-widgets/base",
          "model_module_version": "1.2.0",
          "model_name": "LayoutModel",
          "state": {
            "_model_module": "@jupyter-widgets/base",
            "_model_module_version": "1.2.0",
            "_model_name": "LayoutModel",
            "_view_count": null,
            "_view_module": "@jupyter-widgets/base",
            "_view_module_version": "1.2.0",
            "_view_name": "LayoutView",
            "align_content": null,
            "align_items": null,
            "align_self": null,
            "border": null,
            "bottom": null,
            "display": null,
            "flex": null,
            "flex_flow": null,
            "grid_area": null,
            "grid_auto_columns": null,
            "grid_auto_flow": null,
            "grid_auto_rows": null,
            "grid_column": null,
            "grid_gap": null,
            "grid_row": null,
            "grid_template_areas": null,
            "grid_template_columns": null,
            "grid_template_rows": null,
            "height": null,
            "justify_content": null,
            "justify_items": null,
            "left": null,
            "margin": null,
            "max_height": null,
            "max_width": null,
            "min_height": null,
            "min_width": null,
            "object_fit": null,
            "object_position": null,
            "order": null,
            "overflow": null,
            "overflow_x": null,
            "overflow_y": null,
            "padding": null,
            "right": null,
            "top": null,
            "visibility": null,
            "width": null
          }
        },
        "467f78759d484d85915c741668086279": {
          "model_module": "@jupyter-widgets/controls",
          "model_module_version": "1.5.0",
          "model_name": "VBoxModel",
          "state": {
            "_dom_classes": [],
            "_model_module": "@jupyter-widgets/controls",
            "_model_module_version": "1.5.0",
            "_model_name": "VBoxModel",
            "_view_count": null,
            "_view_module": "@jupyter-widgets/controls",
            "_view_module_version": "1.5.0",
            "_view_name": "VBoxView",
            "box_style": "",
            "children": [
              "IPY_MODEL_c4666eced7ec40f28648f6a9c7c9cf5e",
              "IPY_MODEL_b83ea12e073a454b9af86c4b4e33d448"
            ],
            "layout": "IPY_MODEL_765e0d07bb0c4f9dabbca1f82765f08d"
          }
        },
        "478674398c7a400784dd8bebf4a87016": {
          "model_module": "@jupyter-widgets/controls",
          "model_module_version": "1.5.0",
          "model_name": "ProgressStyleModel",
          "state": {
            "_model_module": "@jupyter-widgets/controls",
            "_model_module_version": "1.5.0",
            "_model_name": "ProgressStyleModel",
            "_view_count": null,
            "_view_module": "@jupyter-widgets/base",
            "_view_module_version": "1.2.0",
            "_view_name": "StyleView",
            "bar_color": null,
            "description_width": ""
          }
        },
        "4a27e51672cc4599ae2209ca28439689": {
          "model_module": "@jupyter-widgets/controls",
          "model_module_version": "1.5.0",
          "model_name": "FloatProgressModel",
          "state": {
            "_dom_classes": [],
            "_model_module": "@jupyter-widgets/controls",
            "_model_module_version": "1.5.0",
            "_model_name": "FloatProgressModel",
            "_view_count": null,
            "_view_module": "@jupyter-widgets/controls",
            "_view_module_version": "1.5.0",
            "_view_name": "ProgressView",
            "bar_style": "",
            "description": "",
            "description_tooltip": null,
            "layout": "IPY_MODEL_37778ce2f725487f9adc55f4646ca90c",
            "max": 1,
            "min": 0,
            "orientation": "horizontal",
            "style": "IPY_MODEL_88d2e823b3a94fd2af00b06c51676443",
            "value": 1
          }
        },
        "4ba0015c827b44ab9ce238aa380fd2d8": {
          "model_module": "@jupyter-widgets/controls",
          "model_module_version": "1.5.0",
          "model_name": "FloatProgressModel",
          "state": {
            "_dom_classes": [],
            "_model_module": "@jupyter-widgets/controls",
            "_model_module_version": "1.5.0",
            "_model_name": "FloatProgressModel",
            "_view_count": null,
            "_view_module": "@jupyter-widgets/controls",
            "_view_module_version": "1.5.0",
            "_view_name": "ProgressView",
            "bar_style": "",
            "description": "",
            "description_tooltip": null,
            "layout": "IPY_MODEL_8f3b25f1095a48f6bbeed95721b7a348",
            "max": 1,
            "min": 0,
            "orientation": "horizontal",
            "style": "IPY_MODEL_e7061e1aff984323a3f3080ec80fe259",
            "value": 1
          }
        },
        "4c7d2c8f50eb4c7f953acfab407aaaf1": {
          "model_module": "@jupyter-widgets/base",
          "model_module_version": "1.2.0",
          "model_name": "LayoutModel",
          "state": {
            "_model_module": "@jupyter-widgets/base",
            "_model_module_version": "1.2.0",
            "_model_name": "LayoutModel",
            "_view_count": null,
            "_view_module": "@jupyter-widgets/base",
            "_view_module_version": "1.2.0",
            "_view_name": "LayoutView",
            "align_content": null,
            "align_items": null,
            "align_self": null,
            "border": null,
            "bottom": null,
            "display": null,
            "flex": null,
            "flex_flow": null,
            "grid_area": null,
            "grid_auto_columns": null,
            "grid_auto_flow": null,
            "grid_auto_rows": null,
            "grid_column": null,
            "grid_gap": null,
            "grid_row": null,
            "grid_template_areas": null,
            "grid_template_columns": null,
            "grid_template_rows": null,
            "height": null,
            "justify_content": null,
            "justify_items": null,
            "left": null,
            "margin": null,
            "max_height": null,
            "max_width": null,
            "min_height": null,
            "min_width": null,
            "object_fit": null,
            "object_position": null,
            "order": null,
            "overflow": null,
            "overflow_x": null,
            "overflow_y": null,
            "padding": null,
            "right": null,
            "top": null,
            "visibility": null,
            "width": null
          }
        },
        "4d089ccb37dd4a3e8a8e5a0924253311": {
          "model_module": "@jupyter-widgets/base",
          "model_module_version": "1.2.0",
          "model_name": "LayoutModel",
          "state": {
            "_model_module": "@jupyter-widgets/base",
            "_model_module_version": "1.2.0",
            "_model_name": "LayoutModel",
            "_view_count": null,
            "_view_module": "@jupyter-widgets/base",
            "_view_module_version": "1.2.0",
            "_view_name": "LayoutView",
            "align_content": null,
            "align_items": null,
            "align_self": null,
            "border": null,
            "bottom": null,
            "display": null,
            "flex": null,
            "flex_flow": null,
            "grid_area": null,
            "grid_auto_columns": null,
            "grid_auto_flow": null,
            "grid_auto_rows": null,
            "grid_column": null,
            "grid_gap": null,
            "grid_row": null,
            "grid_template_areas": null,
            "grid_template_columns": null,
            "grid_template_rows": null,
            "height": null,
            "justify_content": null,
            "justify_items": null,
            "left": null,
            "margin": null,
            "max_height": null,
            "max_width": null,
            "min_height": null,
            "min_width": null,
            "object_fit": null,
            "object_position": null,
            "order": null,
            "overflow": null,
            "overflow_x": null,
            "overflow_y": null,
            "padding": null,
            "right": null,
            "top": null,
            "visibility": null,
            "width": null
          }
        },
        "4d79b9fcb9524e99b48bfc3ff74ad7a9": {
          "model_module": "@jupyter-widgets/base",
          "model_module_version": "1.2.0",
          "model_name": "LayoutModel",
          "state": {
            "_model_module": "@jupyter-widgets/base",
            "_model_module_version": "1.2.0",
            "_model_name": "LayoutModel",
            "_view_count": null,
            "_view_module": "@jupyter-widgets/base",
            "_view_module_version": "1.2.0",
            "_view_name": "LayoutView",
            "align_content": null,
            "align_items": null,
            "align_self": null,
            "border": null,
            "bottom": null,
            "display": null,
            "flex": null,
            "flex_flow": null,
            "grid_area": null,
            "grid_auto_columns": null,
            "grid_auto_flow": null,
            "grid_auto_rows": null,
            "grid_column": null,
            "grid_gap": null,
            "grid_row": null,
            "grid_template_areas": null,
            "grid_template_columns": null,
            "grid_template_rows": null,
            "height": null,
            "justify_content": null,
            "justify_items": null,
            "left": null,
            "margin": null,
            "max_height": null,
            "max_width": null,
            "min_height": null,
            "min_width": null,
            "object_fit": null,
            "object_position": null,
            "order": null,
            "overflow": null,
            "overflow_x": null,
            "overflow_y": null,
            "padding": null,
            "right": null,
            "top": null,
            "visibility": null,
            "width": null
          }
        },
        "4f7524918ad04010b76990813d5097b5": {
          "model_module": "@jupyter-widgets/controls",
          "model_module_version": "1.5.0",
          "model_name": "FloatProgressModel",
          "state": {
            "_dom_classes": [],
            "_model_module": "@jupyter-widgets/controls",
            "_model_module_version": "1.5.0",
            "_model_name": "FloatProgressModel",
            "_view_count": null,
            "_view_module": "@jupyter-widgets/controls",
            "_view_module_version": "1.5.0",
            "_view_name": "ProgressView",
            "bar_style": "",
            "description": "",
            "description_tooltip": null,
            "layout": "IPY_MODEL_d801a1da40e34db1b629962e23f71e5a",
            "max": 1,
            "min": 0,
            "orientation": "horizontal",
            "style": "IPY_MODEL_047a313dccd84828baa5756743972186",
            "value": 1
          }
        },
        "5416b1ef163c4df8b6df92d065bc1a0a": {
          "model_module": "@jupyter-widgets/base",
          "model_module_version": "1.2.0",
          "model_name": "LayoutModel",
          "state": {
            "_model_module": "@jupyter-widgets/base",
            "_model_module_version": "1.2.0",
            "_model_name": "LayoutModel",
            "_view_count": null,
            "_view_module": "@jupyter-widgets/base",
            "_view_module_version": "1.2.0",
            "_view_name": "LayoutView",
            "align_content": null,
            "align_items": null,
            "align_self": null,
            "border": null,
            "bottom": null,
            "display": null,
            "flex": null,
            "flex_flow": null,
            "grid_area": null,
            "grid_auto_columns": null,
            "grid_auto_flow": null,
            "grid_auto_rows": null,
            "grid_column": null,
            "grid_gap": null,
            "grid_row": null,
            "grid_template_areas": null,
            "grid_template_columns": null,
            "grid_template_rows": null,
            "height": null,
            "justify_content": null,
            "justify_items": null,
            "left": null,
            "margin": null,
            "max_height": null,
            "max_width": null,
            "min_height": null,
            "min_width": null,
            "object_fit": null,
            "object_position": null,
            "order": null,
            "overflow": null,
            "overflow_x": null,
            "overflow_y": null,
            "padding": null,
            "right": null,
            "top": null,
            "visibility": null,
            "width": null
          }
        },
        "57adb0ec32b04d89a3c0ea201db50fcc": {
          "model_module": "@jupyter-widgets/base",
          "model_module_version": "1.2.0",
          "model_name": "LayoutModel",
          "state": {
            "_model_module": "@jupyter-widgets/base",
            "_model_module_version": "1.2.0",
            "_model_name": "LayoutModel",
            "_view_count": null,
            "_view_module": "@jupyter-widgets/base",
            "_view_module_version": "1.2.0",
            "_view_name": "LayoutView",
            "align_content": null,
            "align_items": null,
            "align_self": null,
            "border": null,
            "bottom": null,
            "display": null,
            "flex": null,
            "flex_flow": null,
            "grid_area": null,
            "grid_auto_columns": null,
            "grid_auto_flow": null,
            "grid_auto_rows": null,
            "grid_column": null,
            "grid_gap": null,
            "grid_row": null,
            "grid_template_areas": null,
            "grid_template_columns": null,
            "grid_template_rows": null,
            "height": null,
            "justify_content": null,
            "justify_items": null,
            "left": null,
            "margin": null,
            "max_height": null,
            "max_width": null,
            "min_height": null,
            "min_width": null,
            "object_fit": null,
            "object_position": null,
            "order": null,
            "overflow": null,
            "overflow_x": null,
            "overflow_y": null,
            "padding": null,
            "right": null,
            "top": null,
            "visibility": null,
            "width": null
          }
        },
        "5ac1dfc1b1c04fca9b0e6d7f8332dfbe": {
          "model_module": "@jupyter-widgets/controls",
          "model_module_version": "1.5.0",
          "model_name": "ProgressStyleModel",
          "state": {
            "_model_module": "@jupyter-widgets/controls",
            "_model_module_version": "1.5.0",
            "_model_name": "ProgressStyleModel",
            "_view_count": null,
            "_view_module": "@jupyter-widgets/base",
            "_view_module_version": "1.2.0",
            "_view_name": "StyleView",
            "bar_color": null,
            "description_width": ""
          }
        },
        "5c2803ec3caa4502a23d45a524889a58": {
          "model_module": "@jupyter-widgets/controls",
          "model_module_version": "1.5.0",
          "model_name": "DescriptionStyleModel",
          "state": {
            "_model_module": "@jupyter-widgets/controls",
            "_model_module_version": "1.5.0",
            "_model_name": "DescriptionStyleModel",
            "_view_count": null,
            "_view_module": "@jupyter-widgets/base",
            "_view_module_version": "1.2.0",
            "_view_name": "StyleView",
            "description_width": ""
          }
        },
        "5c6f9610942e463dba5c1ed02c761103": {
          "model_module": "@jupyter-widgets/controls",
          "model_module_version": "1.5.0",
          "model_name": "ProgressStyleModel",
          "state": {
            "_model_module": "@jupyter-widgets/controls",
            "_model_module_version": "1.5.0",
            "_model_name": "ProgressStyleModel",
            "_view_count": null,
            "_view_module": "@jupyter-widgets/base",
            "_view_module_version": "1.2.0",
            "_view_name": "StyleView",
            "bar_color": null,
            "description_width": ""
          }
        },
        "5d79b3aac20748d3866b35de4b4ee36c": {
          "model_module": "@jupyter-widgets/controls",
          "model_module_version": "1.5.0",
          "model_name": "VBoxModel",
          "state": {
            "_dom_classes": [],
            "_model_module": "@jupyter-widgets/controls",
            "_model_module_version": "1.5.0",
            "_model_name": "VBoxModel",
            "_view_count": null,
            "_view_module": "@jupyter-widgets/controls",
            "_view_module_version": "1.5.0",
            "_view_name": "VBoxView",
            "box_style": "",
            "children": [
              "IPY_MODEL_7273866fa85647d6b1d4454400551060",
              "IPY_MODEL_4f7524918ad04010b76990813d5097b5"
            ],
            "layout": "IPY_MODEL_e9ffdaf4d1a64022889719c83b1ee1b7"
          }
        },
        "5db69eefc00e4a7fbf78df2761a5268d": {
          "model_module": "@jupyter-widgets/controls",
          "model_module_version": "1.5.0",
          "model_name": "VBoxModel",
          "state": {
            "_dom_classes": [],
            "_model_module": "@jupyter-widgets/controls",
            "_model_module_version": "1.5.0",
            "_model_name": "VBoxModel",
            "_view_count": null,
            "_view_module": "@jupyter-widgets/controls",
            "_view_module_version": "1.5.0",
            "_view_name": "VBoxView",
            "box_style": "",
            "children": [
              "IPY_MODEL_dc9aed60b0b24d2786ae1f226f42a9e6",
              "IPY_MODEL_3eeeac4498484762bce146fb2e27d211"
            ],
            "layout": "IPY_MODEL_c4e078c96235406f877187fec32e9d22"
          }
        },
        "5edab74e5a1a4f0bb74b6f6bb8a14837": {
          "model_module": "@jupyter-widgets/base",
          "model_module_version": "1.2.0",
          "model_name": "LayoutModel",
          "state": {
            "_model_module": "@jupyter-widgets/base",
            "_model_module_version": "1.2.0",
            "_model_name": "LayoutModel",
            "_view_count": null,
            "_view_module": "@jupyter-widgets/base",
            "_view_module_version": "1.2.0",
            "_view_name": "LayoutView",
            "align_content": null,
            "align_items": null,
            "align_self": null,
            "border": null,
            "bottom": null,
            "display": null,
            "flex": null,
            "flex_flow": null,
            "grid_area": null,
            "grid_auto_columns": null,
            "grid_auto_flow": null,
            "grid_auto_rows": null,
            "grid_column": null,
            "grid_gap": null,
            "grid_row": null,
            "grid_template_areas": null,
            "grid_template_columns": null,
            "grid_template_rows": null,
            "height": null,
            "justify_content": null,
            "justify_items": null,
            "left": null,
            "margin": null,
            "max_height": null,
            "max_width": null,
            "min_height": null,
            "min_width": null,
            "object_fit": null,
            "object_position": null,
            "order": null,
            "overflow": null,
            "overflow_x": null,
            "overflow_y": null,
            "padding": null,
            "right": null,
            "top": null,
            "visibility": null,
            "width": null
          }
        },
        "5f64703b925e4726ae304b9231dedb82": {
          "model_module": "@jupyter-widgets/controls",
          "model_module_version": "1.5.0",
          "model_name": "ProgressStyleModel",
          "state": {
            "_model_module": "@jupyter-widgets/controls",
            "_model_module_version": "1.5.0",
            "_model_name": "ProgressStyleModel",
            "_view_count": null,
            "_view_module": "@jupyter-widgets/base",
            "_view_module_version": "1.2.0",
            "_view_name": "StyleView",
            "bar_color": null,
            "description_width": ""
          }
        },
        "6378e4333220453484dbcbae3f6c6900": {
          "model_module": "@jupyter-widgets/base",
          "model_module_version": "1.2.0",
          "model_name": "LayoutModel",
          "state": {
            "_model_module": "@jupyter-widgets/base",
            "_model_module_version": "1.2.0",
            "_model_name": "LayoutModel",
            "_view_count": null,
            "_view_module": "@jupyter-widgets/base",
            "_view_module_version": "1.2.0",
            "_view_name": "LayoutView",
            "align_content": null,
            "align_items": null,
            "align_self": null,
            "border": null,
            "bottom": null,
            "display": null,
            "flex": null,
            "flex_flow": null,
            "grid_area": null,
            "grid_auto_columns": null,
            "grid_auto_flow": null,
            "grid_auto_rows": null,
            "grid_column": null,
            "grid_gap": null,
            "grid_row": null,
            "grid_template_areas": null,
            "grid_template_columns": null,
            "grid_template_rows": null,
            "height": null,
            "justify_content": null,
            "justify_items": null,
            "left": null,
            "margin": null,
            "max_height": null,
            "max_width": null,
            "min_height": null,
            "min_width": null,
            "object_fit": null,
            "object_position": null,
            "order": null,
            "overflow": null,
            "overflow_x": null,
            "overflow_y": null,
            "padding": null,
            "right": null,
            "top": null,
            "visibility": null,
            "width": null
          }
        },
        "637c2525eab04b6c95ec70096a3647f5": {
          "model_module": "@jupyter-widgets/controls",
          "model_module_version": "1.5.0",
          "model_name": "LabelModel",
          "state": {
            "_dom_classes": [],
            "_model_module": "@jupyter-widgets/controls",
            "_model_module_version": "1.5.0",
            "_model_name": "LabelModel",
            "_view_count": null,
            "_view_module": "@jupyter-widgets/controls",
            "_view_module_version": "1.5.0",
            "_view_name": "LabelView",
            "description": "",
            "description_tooltip": null,
            "layout": "IPY_MODEL_3764378a2e7147d9a216fd4d460a6d62",
            "placeholder": "​",
            "style": "IPY_MODEL_5c2803ec3caa4502a23d45a524889a58",
            "value": "0.026 MB of 0.026 MB uploaded\r"
          }
        },
        "64bec12d8fdf45568c3ae2738417bb86": {
          "model_module": "@jupyter-widgets/controls",
          "model_module_version": "1.5.0",
          "model_name": "FloatProgressModel",
          "state": {
            "_dom_classes": [],
            "_model_module": "@jupyter-widgets/controls",
            "_model_module_version": "1.5.0",
            "_model_name": "FloatProgressModel",
            "_view_count": null,
            "_view_module": "@jupyter-widgets/controls",
            "_view_module_version": "1.5.0",
            "_view_name": "ProgressView",
            "bar_style": "",
            "description": "",
            "description_tooltip": null,
            "layout": "IPY_MODEL_b4900c2b1c8348eeb69d7bd0a71c7668",
            "max": 1,
            "min": 0,
            "orientation": "horizontal",
            "style": "IPY_MODEL_8f57e942ab604addb82ff307826b641c",
            "value": 1
          }
        },
        "6522ba1200e94a77831dfed8b289a54f": {
          "model_module": "@jupyter-widgets/base",
          "model_module_version": "1.2.0",
          "model_name": "LayoutModel",
          "state": {
            "_model_module": "@jupyter-widgets/base",
            "_model_module_version": "1.2.0",
            "_model_name": "LayoutModel",
            "_view_count": null,
            "_view_module": "@jupyter-widgets/base",
            "_view_module_version": "1.2.0",
            "_view_name": "LayoutView",
            "align_content": null,
            "align_items": null,
            "align_self": null,
            "border": null,
            "bottom": null,
            "display": null,
            "flex": null,
            "flex_flow": null,
            "grid_area": null,
            "grid_auto_columns": null,
            "grid_auto_flow": null,
            "grid_auto_rows": null,
            "grid_column": null,
            "grid_gap": null,
            "grid_row": null,
            "grid_template_areas": null,
            "grid_template_columns": null,
            "grid_template_rows": null,
            "height": null,
            "justify_content": null,
            "justify_items": null,
            "left": null,
            "margin": null,
            "max_height": null,
            "max_width": null,
            "min_height": null,
            "min_width": null,
            "object_fit": null,
            "object_position": null,
            "order": null,
            "overflow": null,
            "overflow_x": null,
            "overflow_y": null,
            "padding": null,
            "right": null,
            "top": null,
            "visibility": null,
            "width": null
          }
        },
        "65904edb8a694bd990e84852ee27ef06": {
          "model_module": "@jupyter-widgets/controls",
          "model_module_version": "1.5.0",
          "model_name": "VBoxModel",
          "state": {
            "_dom_classes": [],
            "_model_module": "@jupyter-widgets/controls",
            "_model_module_version": "1.5.0",
            "_model_name": "VBoxModel",
            "_view_count": null,
            "_view_module": "@jupyter-widgets/controls",
            "_view_module_version": "1.5.0",
            "_view_name": "VBoxView",
            "box_style": "",
            "children": [
              "IPY_MODEL_ae6552a0b47d4c1ebcacded20431bc3e",
              "IPY_MODEL_bdac3cec6f154d71a15738db92f299fd"
            ],
            "layout": "IPY_MODEL_75f985741cd9459f920b02e8ddae0246"
          }
        },
        "6686c5e65e4048198e61e57e697f2e0a": {
          "model_module": "@jupyter-widgets/base",
          "model_module_version": "1.2.0",
          "model_name": "LayoutModel",
          "state": {
            "_model_module": "@jupyter-widgets/base",
            "_model_module_version": "1.2.0",
            "_model_name": "LayoutModel",
            "_view_count": null,
            "_view_module": "@jupyter-widgets/base",
            "_view_module_version": "1.2.0",
            "_view_name": "LayoutView",
            "align_content": null,
            "align_items": null,
            "align_self": null,
            "border": null,
            "bottom": null,
            "display": null,
            "flex": null,
            "flex_flow": null,
            "grid_area": null,
            "grid_auto_columns": null,
            "grid_auto_flow": null,
            "grid_auto_rows": null,
            "grid_column": null,
            "grid_gap": null,
            "grid_row": null,
            "grid_template_areas": null,
            "grid_template_columns": null,
            "grid_template_rows": null,
            "height": null,
            "justify_content": null,
            "justify_items": null,
            "left": null,
            "margin": null,
            "max_height": null,
            "max_width": null,
            "min_height": null,
            "min_width": null,
            "object_fit": null,
            "object_position": null,
            "order": null,
            "overflow": null,
            "overflow_x": null,
            "overflow_y": null,
            "padding": null,
            "right": null,
            "top": null,
            "visibility": null,
            "width": null
          }
        },
        "683dc9f419d34a22bb00108274a8db7c": {
          "model_module": "@jupyter-widgets/controls",
          "model_module_version": "1.5.0",
          "model_name": "ProgressStyleModel",
          "state": {
            "_model_module": "@jupyter-widgets/controls",
            "_model_module_version": "1.5.0",
            "_model_name": "ProgressStyleModel",
            "_view_count": null,
            "_view_module": "@jupyter-widgets/base",
            "_view_module_version": "1.2.0",
            "_view_name": "StyleView",
            "bar_color": null,
            "description_width": ""
          }
        },
        "68f782f0fb26402c9e8aa3c03e3c9c22": {
          "model_module": "@jupyter-widgets/controls",
          "model_module_version": "1.5.0",
          "model_name": "DescriptionStyleModel",
          "state": {
            "_model_module": "@jupyter-widgets/controls",
            "_model_module_version": "1.5.0",
            "_model_name": "DescriptionStyleModel",
            "_view_count": null,
            "_view_module": "@jupyter-widgets/base",
            "_view_module_version": "1.2.0",
            "_view_name": "StyleView",
            "description_width": ""
          }
        },
        "696d922dd48e43649164d81227b9a82d": {
          "model_module": "@jupyter-widgets/controls",
          "model_module_version": "1.5.0",
          "model_name": "FloatProgressModel",
          "state": {
            "_dom_classes": [],
            "_model_module": "@jupyter-widgets/controls",
            "_model_module_version": "1.5.0",
            "_model_name": "FloatProgressModel",
            "_view_count": null,
            "_view_module": "@jupyter-widgets/controls",
            "_view_module_version": "1.5.0",
            "_view_name": "ProgressView",
            "bar_style": "",
            "description": "",
            "description_tooltip": null,
            "layout": "IPY_MODEL_9682795621514121bd3bb9fa9088987c",
            "max": 1,
            "min": 0,
            "orientation": "horizontal",
            "style": "IPY_MODEL_478674398c7a400784dd8bebf4a87016",
            "value": 1
          }
        },
        "6c295e532727421b8ec21db82906fffa": {
          "model_module": "@jupyter-widgets/controls",
          "model_module_version": "1.5.0",
          "model_name": "LabelModel",
          "state": {
            "_dom_classes": [],
            "_model_module": "@jupyter-widgets/controls",
            "_model_module_version": "1.5.0",
            "_model_name": "LabelModel",
            "_view_count": null,
            "_view_module": "@jupyter-widgets/controls",
            "_view_module_version": "1.5.0",
            "_view_name": "LabelView",
            "description": "",
            "description_tooltip": null,
            "layout": "IPY_MODEL_17ec248b374d41fbb2fa700da90a76c9",
            "placeholder": "​",
            "style": "IPY_MODEL_7633ba08efe7429287ec3c370f787fa3",
            "value": "0.026 MB of 0.026 MB uploaded\r"
          }
        },
        "6ea25a7912c946f7bcfede7437922c17": {
          "model_module": "@jupyter-widgets/controls",
          "model_module_version": "1.5.0",
          "model_name": "VBoxModel",
          "state": {
            "_dom_classes": [],
            "_model_module": "@jupyter-widgets/controls",
            "_model_module_version": "1.5.0",
            "_model_name": "VBoxModel",
            "_view_count": null,
            "_view_module": "@jupyter-widgets/controls",
            "_view_module_version": "1.5.0",
            "_view_name": "VBoxView",
            "box_style": "",
            "children": [
              "IPY_MODEL_35383f9c25534292b24c3d273ce6c284",
              "IPY_MODEL_16e809bcf0964f3986f6f5c2f167820c"
            ],
            "layout": "IPY_MODEL_943a0e1d9e00461086a8712759a6a23c"
          }
        },
        "71546fcf9f2a48eead45d3adac7c577f": {
          "model_module": "@jupyter-widgets/base",
          "model_module_version": "1.2.0",
          "model_name": "LayoutModel",
          "state": {
            "_model_module": "@jupyter-widgets/base",
            "_model_module_version": "1.2.0",
            "_model_name": "LayoutModel",
            "_view_count": null,
            "_view_module": "@jupyter-widgets/base",
            "_view_module_version": "1.2.0",
            "_view_name": "LayoutView",
            "align_content": null,
            "align_items": null,
            "align_self": null,
            "border": null,
            "bottom": null,
            "display": null,
            "flex": null,
            "flex_flow": null,
            "grid_area": null,
            "grid_auto_columns": null,
            "grid_auto_flow": null,
            "grid_auto_rows": null,
            "grid_column": null,
            "grid_gap": null,
            "grid_row": null,
            "grid_template_areas": null,
            "grid_template_columns": null,
            "grid_template_rows": null,
            "height": null,
            "justify_content": null,
            "justify_items": null,
            "left": null,
            "margin": null,
            "max_height": null,
            "max_width": null,
            "min_height": null,
            "min_width": null,
            "object_fit": null,
            "object_position": null,
            "order": null,
            "overflow": null,
            "overflow_x": null,
            "overflow_y": null,
            "padding": null,
            "right": null,
            "top": null,
            "visibility": null,
            "width": null
          }
        },
        "720231c486324ad2bb3cc23b1e493a51": {
          "model_module": "@jupyter-widgets/controls",
          "model_module_version": "1.5.0",
          "model_name": "VBoxModel",
          "state": {
            "_dom_classes": [],
            "_model_module": "@jupyter-widgets/controls",
            "_model_module_version": "1.5.0",
            "_model_name": "VBoxModel",
            "_view_count": null,
            "_view_module": "@jupyter-widgets/controls",
            "_view_module_version": "1.5.0",
            "_view_name": "VBoxView",
            "box_style": "",
            "children": [
              "IPY_MODEL_cb240378208243278e181ae5e5bf96ed",
              "IPY_MODEL_c3c68aa39181481696fe147b43e20936"
            ],
            "layout": "IPY_MODEL_0b2f5f62653943d19e6e7e826d96a0ff"
          }
        },
        "7273866fa85647d6b1d4454400551060": {
          "model_module": "@jupyter-widgets/controls",
          "model_module_version": "1.5.0",
          "model_name": "LabelModel",
          "state": {
            "_dom_classes": [],
            "_model_module": "@jupyter-widgets/controls",
            "_model_module_version": "1.5.0",
            "_model_name": "LabelModel",
            "_view_count": null,
            "_view_module": "@jupyter-widgets/controls",
            "_view_module_version": "1.5.0",
            "_view_name": "LabelView",
            "description": "",
            "description_tooltip": null,
            "layout": "IPY_MODEL_fa1b1c6fe1af426e88e7b83154e80f2a",
            "placeholder": "​",
            "style": "IPY_MODEL_1ce6d0ba002a494a801a866a0d7d79eb",
            "value": "0.038 MB of 0.038 MB uploaded (0.009 MB deduped)\r"
          }
        },
        "75f985741cd9459f920b02e8ddae0246": {
          "model_module": "@jupyter-widgets/base",
          "model_module_version": "1.2.0",
          "model_name": "LayoutModel",
          "state": {
            "_model_module": "@jupyter-widgets/base",
            "_model_module_version": "1.2.0",
            "_model_name": "LayoutModel",
            "_view_count": null,
            "_view_module": "@jupyter-widgets/base",
            "_view_module_version": "1.2.0",
            "_view_name": "LayoutView",
            "align_content": null,
            "align_items": null,
            "align_self": null,
            "border": null,
            "bottom": null,
            "display": null,
            "flex": null,
            "flex_flow": null,
            "grid_area": null,
            "grid_auto_columns": null,
            "grid_auto_flow": null,
            "grid_auto_rows": null,
            "grid_column": null,
            "grid_gap": null,
            "grid_row": null,
            "grid_template_areas": null,
            "grid_template_columns": null,
            "grid_template_rows": null,
            "height": null,
            "justify_content": null,
            "justify_items": null,
            "left": null,
            "margin": null,
            "max_height": null,
            "max_width": null,
            "min_height": null,
            "min_width": null,
            "object_fit": null,
            "object_position": null,
            "order": null,
            "overflow": null,
            "overflow_x": null,
            "overflow_y": null,
            "padding": null,
            "right": null,
            "top": null,
            "visibility": null,
            "width": null
          }
        },
        "7633ba08efe7429287ec3c370f787fa3": {
          "model_module": "@jupyter-widgets/controls",
          "model_module_version": "1.5.0",
          "model_name": "DescriptionStyleModel",
          "state": {
            "_model_module": "@jupyter-widgets/controls",
            "_model_module_version": "1.5.0",
            "_model_name": "DescriptionStyleModel",
            "_view_count": null,
            "_view_module": "@jupyter-widgets/base",
            "_view_module_version": "1.2.0",
            "_view_name": "StyleView",
            "description_width": ""
          }
        },
        "765e0d07bb0c4f9dabbca1f82765f08d": {
          "model_module": "@jupyter-widgets/base",
          "model_module_version": "1.2.0",
          "model_name": "LayoutModel",
          "state": {
            "_model_module": "@jupyter-widgets/base",
            "_model_module_version": "1.2.0",
            "_model_name": "LayoutModel",
            "_view_count": null,
            "_view_module": "@jupyter-widgets/base",
            "_view_module_version": "1.2.0",
            "_view_name": "LayoutView",
            "align_content": null,
            "align_items": null,
            "align_self": null,
            "border": null,
            "bottom": null,
            "display": null,
            "flex": null,
            "flex_flow": null,
            "grid_area": null,
            "grid_auto_columns": null,
            "grid_auto_flow": null,
            "grid_auto_rows": null,
            "grid_column": null,
            "grid_gap": null,
            "grid_row": null,
            "grid_template_areas": null,
            "grid_template_columns": null,
            "grid_template_rows": null,
            "height": null,
            "justify_content": null,
            "justify_items": null,
            "left": null,
            "margin": null,
            "max_height": null,
            "max_width": null,
            "min_height": null,
            "min_width": null,
            "object_fit": null,
            "object_position": null,
            "order": null,
            "overflow": null,
            "overflow_x": null,
            "overflow_y": null,
            "padding": null,
            "right": null,
            "top": null,
            "visibility": null,
            "width": null
          }
        },
        "7786005832984784abad80a6a1eb2bb3": {
          "model_module": "@jupyter-widgets/controls",
          "model_module_version": "1.5.0",
          "model_name": "LabelModel",
          "state": {
            "_dom_classes": [],
            "_model_module": "@jupyter-widgets/controls",
            "_model_module_version": "1.5.0",
            "_model_name": "LabelModel",
            "_view_count": null,
            "_view_module": "@jupyter-widgets/controls",
            "_view_module_version": "1.5.0",
            "_view_name": "LabelView",
            "description": "",
            "description_tooltip": null,
            "layout": "IPY_MODEL_319fa890723a4446ad8e9b290d8eb100",
            "placeholder": "​",
            "style": "IPY_MODEL_82dd6d051f1c4ee380743e667f8a089f",
            "value": "0.026 MB of 0.026 MB uploaded\r"
          }
        },
        "77a4a4c452fb458ebe5f363b8ab5007c": {
          "model_module": "@jupyter-widgets/base",
          "model_module_version": "1.2.0",
          "model_name": "LayoutModel",
          "state": {
            "_model_module": "@jupyter-widgets/base",
            "_model_module_version": "1.2.0",
            "_model_name": "LayoutModel",
            "_view_count": null,
            "_view_module": "@jupyter-widgets/base",
            "_view_module_version": "1.2.0",
            "_view_name": "LayoutView",
            "align_content": null,
            "align_items": null,
            "align_self": null,
            "border": null,
            "bottom": null,
            "display": null,
            "flex": null,
            "flex_flow": null,
            "grid_area": null,
            "grid_auto_columns": null,
            "grid_auto_flow": null,
            "grid_auto_rows": null,
            "grid_column": null,
            "grid_gap": null,
            "grid_row": null,
            "grid_template_areas": null,
            "grid_template_columns": null,
            "grid_template_rows": null,
            "height": null,
            "justify_content": null,
            "justify_items": null,
            "left": null,
            "margin": null,
            "max_height": null,
            "max_width": null,
            "min_height": null,
            "min_width": null,
            "object_fit": null,
            "object_position": null,
            "order": null,
            "overflow": null,
            "overflow_x": null,
            "overflow_y": null,
            "padding": null,
            "right": null,
            "top": null,
            "visibility": null,
            "width": null
          }
        },
        "7a8740d80f414ae3acfbdf71df87e1d4": {
          "model_module": "@jupyter-widgets/controls",
          "model_module_version": "1.5.0",
          "model_name": "LabelModel",
          "state": {
            "_dom_classes": [],
            "_model_module": "@jupyter-widgets/controls",
            "_model_module_version": "1.5.0",
            "_model_name": "LabelModel",
            "_view_count": null,
            "_view_module": "@jupyter-widgets/controls",
            "_view_module_version": "1.5.0",
            "_view_name": "LabelView",
            "description": "",
            "description_tooltip": null,
            "layout": "IPY_MODEL_02c0585a74344e69b69a4d6be2b14acd",
            "placeholder": "​",
            "style": "IPY_MODEL_30e5801c99f847a4b87e127f6eea2600",
            "value": "0.011 MB of 0.011 MB uploaded\r"
          }
        },
        "7ba33eafa00b463eac43834b0a28aaa7": {
          "model_module": "@jupyter-widgets/base",
          "model_module_version": "1.2.0",
          "model_name": "LayoutModel",
          "state": {
            "_model_module": "@jupyter-widgets/base",
            "_model_module_version": "1.2.0",
            "_model_name": "LayoutModel",
            "_view_count": null,
            "_view_module": "@jupyter-widgets/base",
            "_view_module_version": "1.2.0",
            "_view_name": "LayoutView",
            "align_content": null,
            "align_items": null,
            "align_self": null,
            "border": null,
            "bottom": null,
            "display": null,
            "flex": null,
            "flex_flow": null,
            "grid_area": null,
            "grid_auto_columns": null,
            "grid_auto_flow": null,
            "grid_auto_rows": null,
            "grid_column": null,
            "grid_gap": null,
            "grid_row": null,
            "grid_template_areas": null,
            "grid_template_columns": null,
            "grid_template_rows": null,
            "height": null,
            "justify_content": null,
            "justify_items": null,
            "left": null,
            "margin": null,
            "max_height": null,
            "max_width": null,
            "min_height": null,
            "min_width": null,
            "object_fit": null,
            "object_position": null,
            "order": null,
            "overflow": null,
            "overflow_x": null,
            "overflow_y": null,
            "padding": null,
            "right": null,
            "top": null,
            "visibility": null,
            "width": null
          }
        },
        "7db06c7a1ef84628b9975a6dd7189856": {
          "model_module": "@jupyter-widgets/controls",
          "model_module_version": "1.5.0",
          "model_name": "LabelModel",
          "state": {
            "_dom_classes": [],
            "_model_module": "@jupyter-widgets/controls",
            "_model_module_version": "1.5.0",
            "_model_name": "LabelModel",
            "_view_count": null,
            "_view_module": "@jupyter-widgets/controls",
            "_view_module_version": "1.5.0",
            "_view_name": "LabelView",
            "description": "",
            "description_tooltip": null,
            "layout": "IPY_MODEL_0d3fed5ff1b149799b0bbd45607d912e",
            "placeholder": "​",
            "style": "IPY_MODEL_3309db329ca6470ab0c3dbe30789c55e",
            "value": "0.026 MB of 0.026 MB uploaded\r"
          }
        },
        "81bbe031d07e4121aa23f4c9b149ff54": {
          "model_module": "@jupyter-widgets/base",
          "model_module_version": "1.2.0",
          "model_name": "LayoutModel",
          "state": {
            "_model_module": "@jupyter-widgets/base",
            "_model_module_version": "1.2.0",
            "_model_name": "LayoutModel",
            "_view_count": null,
            "_view_module": "@jupyter-widgets/base",
            "_view_module_version": "1.2.0",
            "_view_name": "LayoutView",
            "align_content": null,
            "align_items": null,
            "align_self": null,
            "border": null,
            "bottom": null,
            "display": null,
            "flex": null,
            "flex_flow": null,
            "grid_area": null,
            "grid_auto_columns": null,
            "grid_auto_flow": null,
            "grid_auto_rows": null,
            "grid_column": null,
            "grid_gap": null,
            "grid_row": null,
            "grid_template_areas": null,
            "grid_template_columns": null,
            "grid_template_rows": null,
            "height": null,
            "justify_content": null,
            "justify_items": null,
            "left": null,
            "margin": null,
            "max_height": null,
            "max_width": null,
            "min_height": null,
            "min_width": null,
            "object_fit": null,
            "object_position": null,
            "order": null,
            "overflow": null,
            "overflow_x": null,
            "overflow_y": null,
            "padding": null,
            "right": null,
            "top": null,
            "visibility": null,
            "width": null
          }
        },
        "82dd6d051f1c4ee380743e667f8a089f": {
          "model_module": "@jupyter-widgets/controls",
          "model_module_version": "1.5.0",
          "model_name": "DescriptionStyleModel",
          "state": {
            "_model_module": "@jupyter-widgets/controls",
            "_model_module_version": "1.5.0",
            "_model_name": "DescriptionStyleModel",
            "_view_count": null,
            "_view_module": "@jupyter-widgets/base",
            "_view_module_version": "1.2.0",
            "_view_name": "StyleView",
            "description_width": ""
          }
        },
        "836fe2428718499fbd720008ccd06eab": {
          "model_module": "@jupyter-widgets/base",
          "model_module_version": "1.2.0",
          "model_name": "LayoutModel",
          "state": {
            "_model_module": "@jupyter-widgets/base",
            "_model_module_version": "1.2.0",
            "_model_name": "LayoutModel",
            "_view_count": null,
            "_view_module": "@jupyter-widgets/base",
            "_view_module_version": "1.2.0",
            "_view_name": "LayoutView",
            "align_content": null,
            "align_items": null,
            "align_self": null,
            "border": null,
            "bottom": null,
            "display": null,
            "flex": null,
            "flex_flow": null,
            "grid_area": null,
            "grid_auto_columns": null,
            "grid_auto_flow": null,
            "grid_auto_rows": null,
            "grid_column": null,
            "grid_gap": null,
            "grid_row": null,
            "grid_template_areas": null,
            "grid_template_columns": null,
            "grid_template_rows": null,
            "height": null,
            "justify_content": null,
            "justify_items": null,
            "left": null,
            "margin": null,
            "max_height": null,
            "max_width": null,
            "min_height": null,
            "min_width": null,
            "object_fit": null,
            "object_position": null,
            "order": null,
            "overflow": null,
            "overflow_x": null,
            "overflow_y": null,
            "padding": null,
            "right": null,
            "top": null,
            "visibility": null,
            "width": null
          }
        },
        "84b557a0258e4f86a9a5432ac45abae3": {
          "model_module": "@jupyter-widgets/controls",
          "model_module_version": "1.5.0",
          "model_name": "FloatProgressModel",
          "state": {
            "_dom_classes": [],
            "_model_module": "@jupyter-widgets/controls",
            "_model_module_version": "1.5.0",
            "_model_name": "FloatProgressModel",
            "_view_count": null,
            "_view_module": "@jupyter-widgets/controls",
            "_view_module_version": "1.5.0",
            "_view_name": "ProgressView",
            "bar_style": "",
            "description": "",
            "description_tooltip": null,
            "layout": "IPY_MODEL_466a4672551d427c9c195362a1139667",
            "max": 1,
            "min": 0,
            "orientation": "horizontal",
            "style": "IPY_MODEL_eee1367ea4574be899dd8c678c05f197",
            "value": 1
          }
        },
        "84ecbeb5954540e4bff7966c6e68c1eb": {
          "model_module": "@jupyter-widgets/controls",
          "model_module_version": "1.5.0",
          "model_name": "FloatProgressModel",
          "state": {
            "_dom_classes": [],
            "_model_module": "@jupyter-widgets/controls",
            "_model_module_version": "1.5.0",
            "_model_name": "FloatProgressModel",
            "_view_count": null,
            "_view_module": "@jupyter-widgets/controls",
            "_view_module_version": "1.5.0",
            "_view_name": "ProgressView",
            "bar_style": "",
            "description": "",
            "description_tooltip": null,
            "layout": "IPY_MODEL_77a4a4c452fb458ebe5f363b8ab5007c",
            "max": 1,
            "min": 0,
            "orientation": "horizontal",
            "style": "IPY_MODEL_5f64703b925e4726ae304b9231dedb82",
            "value": 1
          }
        },
        "8515f10a1515479c8aaf9cb7b1d2e3f3": {
          "model_module": "@jupyter-widgets/controls",
          "model_module_version": "1.5.0",
          "model_name": "VBoxModel",
          "state": {
            "_dom_classes": [],
            "_model_module": "@jupyter-widgets/controls",
            "_model_module_version": "1.5.0",
            "_model_name": "VBoxModel",
            "_view_count": null,
            "_view_module": "@jupyter-widgets/controls",
            "_view_module_version": "1.5.0",
            "_view_name": "VBoxView",
            "box_style": "",
            "children": [
              "IPY_MODEL_6c295e532727421b8ec21db82906fffa",
              "IPY_MODEL_696d922dd48e43649164d81227b9a82d"
            ],
            "layout": "IPY_MODEL_4d79b9fcb9524e99b48bfc3ff74ad7a9"
          }
        },
        "88d2e823b3a94fd2af00b06c51676443": {
          "model_module": "@jupyter-widgets/controls",
          "model_module_version": "1.5.0",
          "model_name": "ProgressStyleModel",
          "state": {
            "_model_module": "@jupyter-widgets/controls",
            "_model_module_version": "1.5.0",
            "_model_name": "ProgressStyleModel",
            "_view_count": null,
            "_view_module": "@jupyter-widgets/base",
            "_view_module_version": "1.2.0",
            "_view_name": "StyleView",
            "bar_color": null,
            "description_width": ""
          }
        },
        "899f47ec211d480da0a6f0e673bf72d3": {
          "model_module": "@jupyter-widgets/controls",
          "model_module_version": "1.5.0",
          "model_name": "VBoxModel",
          "state": {
            "_dom_classes": [],
            "_model_module": "@jupyter-widgets/controls",
            "_model_module_version": "1.5.0",
            "_model_name": "VBoxModel",
            "_view_count": null,
            "_view_module": "@jupyter-widgets/controls",
            "_view_module_version": "1.5.0",
            "_view_name": "VBoxView",
            "box_style": "",
            "children": [
              "IPY_MODEL_baa6d488d9b64a1c99eb26bd317f70b8",
              "IPY_MODEL_a7981b41852a49f1b704ec38ba5b6f47"
            ],
            "layout": "IPY_MODEL_7ba33eafa00b463eac43834b0a28aaa7"
          }
        },
        "8c4d1175101e48f1b4124d6b028de764": {
          "model_module": "@jupyter-widgets/controls",
          "model_module_version": "1.5.0",
          "model_name": "VBoxModel",
          "state": {
            "_dom_classes": [],
            "_model_module": "@jupyter-widgets/controls",
            "_model_module_version": "1.5.0",
            "_model_name": "VBoxModel",
            "_view_count": null,
            "_view_module": "@jupyter-widgets/controls",
            "_view_module_version": "1.5.0",
            "_view_name": "VBoxView",
            "box_style": "",
            "children": [
              "IPY_MODEL_12d1b1ebdcf642afbdf12bdbc2b93fdb",
              "IPY_MODEL_ddb8593ff3624430abca09a4cd5d43ab"
            ],
            "layout": "IPY_MODEL_129386bbf218422abe6c18f31c27123f"
          }
        },
        "8ec199aff1054c40a16ed6c0483601cd": {
          "model_module": "@jupyter-widgets/controls",
          "model_module_version": "1.5.0",
          "model_name": "DescriptionStyleModel",
          "state": {
            "_model_module": "@jupyter-widgets/controls",
            "_model_module_version": "1.5.0",
            "_model_name": "DescriptionStyleModel",
            "_view_count": null,
            "_view_module": "@jupyter-widgets/base",
            "_view_module_version": "1.2.0",
            "_view_name": "StyleView",
            "description_width": ""
          }
        },
        "8f3b25f1095a48f6bbeed95721b7a348": {
          "model_module": "@jupyter-widgets/base",
          "model_module_version": "1.2.0",
          "model_name": "LayoutModel",
          "state": {
            "_model_module": "@jupyter-widgets/base",
            "_model_module_version": "1.2.0",
            "_model_name": "LayoutModel",
            "_view_count": null,
            "_view_module": "@jupyter-widgets/base",
            "_view_module_version": "1.2.0",
            "_view_name": "LayoutView",
            "align_content": null,
            "align_items": null,
            "align_self": null,
            "border": null,
            "bottom": null,
            "display": null,
            "flex": null,
            "flex_flow": null,
            "grid_area": null,
            "grid_auto_columns": null,
            "grid_auto_flow": null,
            "grid_auto_rows": null,
            "grid_column": null,
            "grid_gap": null,
            "grid_row": null,
            "grid_template_areas": null,
            "grid_template_columns": null,
            "grid_template_rows": null,
            "height": null,
            "justify_content": null,
            "justify_items": null,
            "left": null,
            "margin": null,
            "max_height": null,
            "max_width": null,
            "min_height": null,
            "min_width": null,
            "object_fit": null,
            "object_position": null,
            "order": null,
            "overflow": null,
            "overflow_x": null,
            "overflow_y": null,
            "padding": null,
            "right": null,
            "top": null,
            "visibility": null,
            "width": null
          }
        },
        "8f57e942ab604addb82ff307826b641c": {
          "model_module": "@jupyter-widgets/controls",
          "model_module_version": "1.5.0",
          "model_name": "ProgressStyleModel",
          "state": {
            "_model_module": "@jupyter-widgets/controls",
            "_model_module_version": "1.5.0",
            "_model_name": "ProgressStyleModel",
            "_view_count": null,
            "_view_module": "@jupyter-widgets/base",
            "_view_module_version": "1.2.0",
            "_view_name": "StyleView",
            "bar_color": null,
            "description_width": ""
          }
        },
        "913a678a80db43b0a11e4844826cef6c": {
          "model_module": "@jupyter-widgets/controls",
          "model_module_version": "1.5.0",
          "model_name": "DescriptionStyleModel",
          "state": {
            "_model_module": "@jupyter-widgets/controls",
            "_model_module_version": "1.5.0",
            "_model_name": "DescriptionStyleModel",
            "_view_count": null,
            "_view_module": "@jupyter-widgets/base",
            "_view_module_version": "1.2.0",
            "_view_name": "StyleView",
            "description_width": ""
          }
        },
        "943a0e1d9e00461086a8712759a6a23c": {
          "model_module": "@jupyter-widgets/base",
          "model_module_version": "1.2.0",
          "model_name": "LayoutModel",
          "state": {
            "_model_module": "@jupyter-widgets/base",
            "_model_module_version": "1.2.0",
            "_model_name": "LayoutModel",
            "_view_count": null,
            "_view_module": "@jupyter-widgets/base",
            "_view_module_version": "1.2.0",
            "_view_name": "LayoutView",
            "align_content": null,
            "align_items": null,
            "align_self": null,
            "border": null,
            "bottom": null,
            "display": null,
            "flex": null,
            "flex_flow": null,
            "grid_area": null,
            "grid_auto_columns": null,
            "grid_auto_flow": null,
            "grid_auto_rows": null,
            "grid_column": null,
            "grid_gap": null,
            "grid_row": null,
            "grid_template_areas": null,
            "grid_template_columns": null,
            "grid_template_rows": null,
            "height": null,
            "justify_content": null,
            "justify_items": null,
            "left": null,
            "margin": null,
            "max_height": null,
            "max_width": null,
            "min_height": null,
            "min_width": null,
            "object_fit": null,
            "object_position": null,
            "order": null,
            "overflow": null,
            "overflow_x": null,
            "overflow_y": null,
            "padding": null,
            "right": null,
            "top": null,
            "visibility": null,
            "width": null
          }
        },
        "94beb06623fc4365b86455166d67564b": {
          "model_module": "@jupyter-widgets/controls",
          "model_module_version": "1.5.0",
          "model_name": "DescriptionStyleModel",
          "state": {
            "_model_module": "@jupyter-widgets/controls",
            "_model_module_version": "1.5.0",
            "_model_name": "DescriptionStyleModel",
            "_view_count": null,
            "_view_module": "@jupyter-widgets/base",
            "_view_module_version": "1.2.0",
            "_view_name": "StyleView",
            "description_width": ""
          }
        },
        "95ac959e204340ca887189735e519a50": {
          "model_module": "@jupyter-widgets/controls",
          "model_module_version": "1.5.0",
          "model_name": "VBoxModel",
          "state": {
            "_dom_classes": [],
            "_model_module": "@jupyter-widgets/controls",
            "_model_module_version": "1.5.0",
            "_model_name": "VBoxModel",
            "_view_count": null,
            "_view_module": "@jupyter-widgets/controls",
            "_view_module_version": "1.5.0",
            "_view_name": "VBoxView",
            "box_style": "",
            "children": [
              "IPY_MODEL_0f6f630216d54330aea06c4440ad096e",
              "IPY_MODEL_1990e23e7cd84417809d319791a983d4"
            ],
            "layout": "IPY_MODEL_37c8d9e398c54eab8ad85567690ff095"
          }
        },
        "9682795621514121bd3bb9fa9088987c": {
          "model_module": "@jupyter-widgets/base",
          "model_module_version": "1.2.0",
          "model_name": "LayoutModel",
          "state": {
            "_model_module": "@jupyter-widgets/base",
            "_model_module_version": "1.2.0",
            "_model_name": "LayoutModel",
            "_view_count": null,
            "_view_module": "@jupyter-widgets/base",
            "_view_module_version": "1.2.0",
            "_view_name": "LayoutView",
            "align_content": null,
            "align_items": null,
            "align_self": null,
            "border": null,
            "bottom": null,
            "display": null,
            "flex": null,
            "flex_flow": null,
            "grid_area": null,
            "grid_auto_columns": null,
            "grid_auto_flow": null,
            "grid_auto_rows": null,
            "grid_column": null,
            "grid_gap": null,
            "grid_row": null,
            "grid_template_areas": null,
            "grid_template_columns": null,
            "grid_template_rows": null,
            "height": null,
            "justify_content": null,
            "justify_items": null,
            "left": null,
            "margin": null,
            "max_height": null,
            "max_width": null,
            "min_height": null,
            "min_width": null,
            "object_fit": null,
            "object_position": null,
            "order": null,
            "overflow": null,
            "overflow_x": null,
            "overflow_y": null,
            "padding": null,
            "right": null,
            "top": null,
            "visibility": null,
            "width": null
          }
        },
        "9824b0a012f74661aa076c77bdff3d7b": {
          "model_module": "@jupyter-widgets/controls",
          "model_module_version": "1.5.0",
          "model_name": "ProgressStyleModel",
          "state": {
            "_model_module": "@jupyter-widgets/controls",
            "_model_module_version": "1.5.0",
            "_model_name": "ProgressStyleModel",
            "_view_count": null,
            "_view_module": "@jupyter-widgets/base",
            "_view_module_version": "1.2.0",
            "_view_name": "StyleView",
            "bar_color": null,
            "description_width": ""
          }
        },
        "9b79a0f606404e55b6045172c1170a12": {
          "model_module": "@jupyter-widgets/controls",
          "model_module_version": "1.5.0",
          "model_name": "DescriptionStyleModel",
          "state": {
            "_model_module": "@jupyter-widgets/controls",
            "_model_module_version": "1.5.0",
            "_model_name": "DescriptionStyleModel",
            "_view_count": null,
            "_view_module": "@jupyter-widgets/base",
            "_view_module_version": "1.2.0",
            "_view_name": "StyleView",
            "description_width": ""
          }
        },
        "9ba1bffe34de4b7eb72b8cd48d84140c": {
          "model_module": "@jupyter-widgets/controls",
          "model_module_version": "1.5.0",
          "model_name": "DescriptionStyleModel",
          "state": {
            "_model_module": "@jupyter-widgets/controls",
            "_model_module_version": "1.5.0",
            "_model_name": "DescriptionStyleModel",
            "_view_count": null,
            "_view_module": "@jupyter-widgets/base",
            "_view_module_version": "1.2.0",
            "_view_name": "StyleView",
            "description_width": ""
          }
        },
        "9d9090bcd1884fbca7cf5b5643d04583": {
          "model_module": "@jupyter-widgets/controls",
          "model_module_version": "1.5.0",
          "model_name": "ProgressStyleModel",
          "state": {
            "_model_module": "@jupyter-widgets/controls",
            "_model_module_version": "1.5.0",
            "_model_name": "ProgressStyleModel",
            "_view_count": null,
            "_view_module": "@jupyter-widgets/base",
            "_view_module_version": "1.2.0",
            "_view_name": "StyleView",
            "bar_color": null,
            "description_width": ""
          }
        },
        "9de6be57f7f1481280367466920c74cd": {
          "model_module": "@jupyter-widgets/controls",
          "model_module_version": "1.5.0",
          "model_name": "LabelModel",
          "state": {
            "_dom_classes": [],
            "_model_module": "@jupyter-widgets/controls",
            "_model_module_version": "1.5.0",
            "_model_name": "LabelModel",
            "_view_count": null,
            "_view_module": "@jupyter-widgets/controls",
            "_view_module_version": "1.5.0",
            "_view_name": "LabelView",
            "description": "",
            "description_tooltip": null,
            "layout": "IPY_MODEL_5416b1ef163c4df8b6df92d065bc1a0a",
            "placeholder": "​",
            "style": "IPY_MODEL_372dff97adc648699c6443ff5f2b6d6c",
            "value": "0.026 MB of 0.026 MB uploaded\r"
          }
        },
        "9ee35c54bba74af792306fbfa09e9bc3": {
          "model_module": "@jupyter-widgets/controls",
          "model_module_version": "1.5.0",
          "model_name": "ProgressStyleModel",
          "state": {
            "_model_module": "@jupyter-widgets/controls",
            "_model_module_version": "1.5.0",
            "_model_name": "ProgressStyleModel",
            "_view_count": null,
            "_view_module": "@jupyter-widgets/base",
            "_view_module_version": "1.2.0",
            "_view_name": "StyleView",
            "bar_color": null,
            "description_width": ""
          }
        },
        "a55008d7a5fa487d9e6f56d0eef3f5e8": {
          "model_module": "@jupyter-widgets/controls",
          "model_module_version": "1.5.0",
          "model_name": "LabelModel",
          "state": {
            "_dom_classes": [],
            "_model_module": "@jupyter-widgets/controls",
            "_model_module_version": "1.5.0",
            "_model_name": "LabelModel",
            "_view_count": null,
            "_view_module": "@jupyter-widgets/controls",
            "_view_module_version": "1.5.0",
            "_view_name": "LabelView",
            "description": "",
            "description_tooltip": null,
            "layout": "IPY_MODEL_d899b1e9864b4106b5a378e1c2875811",
            "placeholder": "​",
            "style": "IPY_MODEL_1332921721014763b2b0015774fd054f",
            "value": "0.026 MB of 0.026 MB uploaded\r"
          }
        },
        "a7981b41852a49f1b704ec38ba5b6f47": {
          "model_module": "@jupyter-widgets/controls",
          "model_module_version": "1.5.0",
          "model_name": "FloatProgressModel",
          "state": {
            "_dom_classes": [],
            "_model_module": "@jupyter-widgets/controls",
            "_model_module_version": "1.5.0",
            "_model_name": "FloatProgressModel",
            "_view_count": null,
            "_view_module": "@jupyter-widgets/controls",
            "_view_module_version": "1.5.0",
            "_view_name": "ProgressView",
            "bar_style": "",
            "description": "",
            "description_tooltip": null,
            "layout": "IPY_MODEL_40c02f9b80114520b66107164e66dbef",
            "max": 1,
            "min": 0,
            "orientation": "horizontal",
            "style": "IPY_MODEL_e60c19af84b24d68a2585e54fd6bc904",
            "value": 1
          }
        },
        "a914027dfaef4d36a5ecc3ec9b05f265": {
          "model_module": "@jupyter-widgets/controls",
          "model_module_version": "1.5.0",
          "model_name": "DescriptionStyleModel",
          "state": {
            "_model_module": "@jupyter-widgets/controls",
            "_model_module_version": "1.5.0",
            "_model_name": "DescriptionStyleModel",
            "_view_count": null,
            "_view_module": "@jupyter-widgets/base",
            "_view_module_version": "1.2.0",
            "_view_name": "StyleView",
            "description_width": ""
          }
        },
        "ae6552a0b47d4c1ebcacded20431bc3e": {
          "model_module": "@jupyter-widgets/controls",
          "model_module_version": "1.5.0",
          "model_name": "LabelModel",
          "state": {
            "_dom_classes": [],
            "_model_module": "@jupyter-widgets/controls",
            "_model_module_version": "1.5.0",
            "_model_name": "LabelModel",
            "_view_count": null,
            "_view_module": "@jupyter-widgets/controls",
            "_view_module_version": "1.5.0",
            "_view_name": "LabelView",
            "description": "",
            "description_tooltip": null,
            "layout": "IPY_MODEL_4d089ccb37dd4a3e8a8e5a0924253311",
            "placeholder": "​",
            "style": "IPY_MODEL_d2dd779486324481b050248994b98e23",
            "value": "0.026 MB of 0.026 MB uploaded\r"
          }
        },
        "b0f50cd970cf45efa242411aaa918471": {
          "model_module": "@jupyter-widgets/base",
          "model_module_version": "1.2.0",
          "model_name": "LayoutModel",
          "state": {
            "_model_module": "@jupyter-widgets/base",
            "_model_module_version": "1.2.0",
            "_model_name": "LayoutModel",
            "_view_count": null,
            "_view_module": "@jupyter-widgets/base",
            "_view_module_version": "1.2.0",
            "_view_name": "LayoutView",
            "align_content": null,
            "align_items": null,
            "align_self": null,
            "border": null,
            "bottom": null,
            "display": null,
            "flex": null,
            "flex_flow": null,
            "grid_area": null,
            "grid_auto_columns": null,
            "grid_auto_flow": null,
            "grid_auto_rows": null,
            "grid_column": null,
            "grid_gap": null,
            "grid_row": null,
            "grid_template_areas": null,
            "grid_template_columns": null,
            "grid_template_rows": null,
            "height": null,
            "justify_content": null,
            "justify_items": null,
            "left": null,
            "margin": null,
            "max_height": null,
            "max_width": null,
            "min_height": null,
            "min_width": null,
            "object_fit": null,
            "object_position": null,
            "order": null,
            "overflow": null,
            "overflow_x": null,
            "overflow_y": null,
            "padding": null,
            "right": null,
            "top": null,
            "visibility": null,
            "width": null
          }
        },
        "b135adef61cd4829870e074f19f4da3f": {
          "model_module": "@jupyter-widgets/base",
          "model_module_version": "1.2.0",
          "model_name": "LayoutModel",
          "state": {
            "_model_module": "@jupyter-widgets/base",
            "_model_module_version": "1.2.0",
            "_model_name": "LayoutModel",
            "_view_count": null,
            "_view_module": "@jupyter-widgets/base",
            "_view_module_version": "1.2.0",
            "_view_name": "LayoutView",
            "align_content": null,
            "align_items": null,
            "align_self": null,
            "border": null,
            "bottom": null,
            "display": null,
            "flex": null,
            "flex_flow": null,
            "grid_area": null,
            "grid_auto_columns": null,
            "grid_auto_flow": null,
            "grid_auto_rows": null,
            "grid_column": null,
            "grid_gap": null,
            "grid_row": null,
            "grid_template_areas": null,
            "grid_template_columns": null,
            "grid_template_rows": null,
            "height": null,
            "justify_content": null,
            "justify_items": null,
            "left": null,
            "margin": null,
            "max_height": null,
            "max_width": null,
            "min_height": null,
            "min_width": null,
            "object_fit": null,
            "object_position": null,
            "order": null,
            "overflow": null,
            "overflow_x": null,
            "overflow_y": null,
            "padding": null,
            "right": null,
            "top": null,
            "visibility": null,
            "width": null
          }
        },
        "b18ee3bf47e9437bbca56be4e74d721b": {
          "model_module": "@jupyter-widgets/controls",
          "model_module_version": "1.5.0",
          "model_name": "ProgressStyleModel",
          "state": {
            "_model_module": "@jupyter-widgets/controls",
            "_model_module_version": "1.5.0",
            "_model_name": "ProgressStyleModel",
            "_view_count": null,
            "_view_module": "@jupyter-widgets/base",
            "_view_module_version": "1.2.0",
            "_view_name": "StyleView",
            "bar_color": null,
            "description_width": ""
          }
        },
        "b4900c2b1c8348eeb69d7bd0a71c7668": {
          "model_module": "@jupyter-widgets/base",
          "model_module_version": "1.2.0",
          "model_name": "LayoutModel",
          "state": {
            "_model_module": "@jupyter-widgets/base",
            "_model_module_version": "1.2.0",
            "_model_name": "LayoutModel",
            "_view_count": null,
            "_view_module": "@jupyter-widgets/base",
            "_view_module_version": "1.2.0",
            "_view_name": "LayoutView",
            "align_content": null,
            "align_items": null,
            "align_self": null,
            "border": null,
            "bottom": null,
            "display": null,
            "flex": null,
            "flex_flow": null,
            "grid_area": null,
            "grid_auto_columns": null,
            "grid_auto_flow": null,
            "grid_auto_rows": null,
            "grid_column": null,
            "grid_gap": null,
            "grid_row": null,
            "grid_template_areas": null,
            "grid_template_columns": null,
            "grid_template_rows": null,
            "height": null,
            "justify_content": null,
            "justify_items": null,
            "left": null,
            "margin": null,
            "max_height": null,
            "max_width": null,
            "min_height": null,
            "min_width": null,
            "object_fit": null,
            "object_position": null,
            "order": null,
            "overflow": null,
            "overflow_x": null,
            "overflow_y": null,
            "padding": null,
            "right": null,
            "top": null,
            "visibility": null,
            "width": null
          }
        },
        "b4beeb7f9ea747828bf1ee0124a863a5": {
          "model_module": "@jupyter-widgets/base",
          "model_module_version": "1.2.0",
          "model_name": "LayoutModel",
          "state": {
            "_model_module": "@jupyter-widgets/base",
            "_model_module_version": "1.2.0",
            "_model_name": "LayoutModel",
            "_view_count": null,
            "_view_module": "@jupyter-widgets/base",
            "_view_module_version": "1.2.0",
            "_view_name": "LayoutView",
            "align_content": null,
            "align_items": null,
            "align_self": null,
            "border": null,
            "bottom": null,
            "display": null,
            "flex": null,
            "flex_flow": null,
            "grid_area": null,
            "grid_auto_columns": null,
            "grid_auto_flow": null,
            "grid_auto_rows": null,
            "grid_column": null,
            "grid_gap": null,
            "grid_row": null,
            "grid_template_areas": null,
            "grid_template_columns": null,
            "grid_template_rows": null,
            "height": null,
            "justify_content": null,
            "justify_items": null,
            "left": null,
            "margin": null,
            "max_height": null,
            "max_width": null,
            "min_height": null,
            "min_width": null,
            "object_fit": null,
            "object_position": null,
            "order": null,
            "overflow": null,
            "overflow_x": null,
            "overflow_y": null,
            "padding": null,
            "right": null,
            "top": null,
            "visibility": null,
            "width": null
          }
        },
        "b4e5205fe562412cadf699b93958b2cc": {
          "model_module": "@jupyter-widgets/base",
          "model_module_version": "1.2.0",
          "model_name": "LayoutModel",
          "state": {
            "_model_module": "@jupyter-widgets/base",
            "_model_module_version": "1.2.0",
            "_model_name": "LayoutModel",
            "_view_count": null,
            "_view_module": "@jupyter-widgets/base",
            "_view_module_version": "1.2.0",
            "_view_name": "LayoutView",
            "align_content": null,
            "align_items": null,
            "align_self": null,
            "border": null,
            "bottom": null,
            "display": null,
            "flex": null,
            "flex_flow": null,
            "grid_area": null,
            "grid_auto_columns": null,
            "grid_auto_flow": null,
            "grid_auto_rows": null,
            "grid_column": null,
            "grid_gap": null,
            "grid_row": null,
            "grid_template_areas": null,
            "grid_template_columns": null,
            "grid_template_rows": null,
            "height": null,
            "justify_content": null,
            "justify_items": null,
            "left": null,
            "margin": null,
            "max_height": null,
            "max_width": null,
            "min_height": null,
            "min_width": null,
            "object_fit": null,
            "object_position": null,
            "order": null,
            "overflow": null,
            "overflow_x": null,
            "overflow_y": null,
            "padding": null,
            "right": null,
            "top": null,
            "visibility": null,
            "width": null
          }
        },
        "b75ac532d07e43ea94d7be614220d263": {
          "model_module": "@jupyter-widgets/base",
          "model_module_version": "1.2.0",
          "model_name": "LayoutModel",
          "state": {
            "_model_module": "@jupyter-widgets/base",
            "_model_module_version": "1.2.0",
            "_model_name": "LayoutModel",
            "_view_count": null,
            "_view_module": "@jupyter-widgets/base",
            "_view_module_version": "1.2.0",
            "_view_name": "LayoutView",
            "align_content": null,
            "align_items": null,
            "align_self": null,
            "border": null,
            "bottom": null,
            "display": null,
            "flex": null,
            "flex_flow": null,
            "grid_area": null,
            "grid_auto_columns": null,
            "grid_auto_flow": null,
            "grid_auto_rows": null,
            "grid_column": null,
            "grid_gap": null,
            "grid_row": null,
            "grid_template_areas": null,
            "grid_template_columns": null,
            "grid_template_rows": null,
            "height": null,
            "justify_content": null,
            "justify_items": null,
            "left": null,
            "margin": null,
            "max_height": null,
            "max_width": null,
            "min_height": null,
            "min_width": null,
            "object_fit": null,
            "object_position": null,
            "order": null,
            "overflow": null,
            "overflow_x": null,
            "overflow_y": null,
            "padding": null,
            "right": null,
            "top": null,
            "visibility": null,
            "width": null
          }
        },
        "b83ea12e073a454b9af86c4b4e33d448": {
          "model_module": "@jupyter-widgets/controls",
          "model_module_version": "1.5.0",
          "model_name": "FloatProgressModel",
          "state": {
            "_dom_classes": [],
            "_model_module": "@jupyter-widgets/controls",
            "_model_module_version": "1.5.0",
            "_model_name": "FloatProgressModel",
            "_view_count": null,
            "_view_module": "@jupyter-widgets/controls",
            "_view_module_version": "1.5.0",
            "_view_name": "ProgressView",
            "bar_style": "",
            "description": "",
            "description_tooltip": null,
            "layout": "IPY_MODEL_18f359d8aeb940469a7df8202ad20303",
            "max": 1,
            "min": 0,
            "orientation": "horizontal",
            "style": "IPY_MODEL_b18ee3bf47e9437bbca56be4e74d721b",
            "value": 1
          }
        },
        "baa6d488d9b64a1c99eb26bd317f70b8": {
          "model_module": "@jupyter-widgets/controls",
          "model_module_version": "1.5.0",
          "model_name": "LabelModel",
          "state": {
            "_dom_classes": [],
            "_model_module": "@jupyter-widgets/controls",
            "_model_module_version": "1.5.0",
            "_model_name": "LabelModel",
            "_view_count": null,
            "_view_module": "@jupyter-widgets/controls",
            "_view_module_version": "1.5.0",
            "_view_name": "LabelView",
            "description": "",
            "description_tooltip": null,
            "layout": "IPY_MODEL_836fe2428718499fbd720008ccd06eab",
            "placeholder": "​",
            "style": "IPY_MODEL_68f782f0fb26402c9e8aa3c03e3c9c22",
            "value": "0.026 MB of 0.026 MB uploaded\r"
          }
        },
        "baa9e7de1286475aa017d10254e227cb": {
          "model_module": "@jupyter-widgets/controls",
          "model_module_version": "1.5.0",
          "model_name": "ProgressStyleModel",
          "state": {
            "_model_module": "@jupyter-widgets/controls",
            "_model_module_version": "1.5.0",
            "_model_name": "ProgressStyleModel",
            "_view_count": null,
            "_view_module": "@jupyter-widgets/base",
            "_view_module_version": "1.2.0",
            "_view_name": "StyleView",
            "bar_color": null,
            "description_width": ""
          }
        },
        "bc1320cb745a4e90b5fb18cd1d3b0f6f": {
          "model_module": "@jupyter-widgets/controls",
          "model_module_version": "1.5.0",
          "model_name": "VBoxModel",
          "state": {
            "_dom_classes": [],
            "_model_module": "@jupyter-widgets/controls",
            "_model_module_version": "1.5.0",
            "_model_name": "VBoxModel",
            "_view_count": null,
            "_view_module": "@jupyter-widgets/controls",
            "_view_module_version": "1.5.0",
            "_view_name": "VBoxView",
            "box_style": "",
            "children": [
              "IPY_MODEL_e9582d65c419438f973236306db7ebbb",
              "IPY_MODEL_beecbaaf10fa46248e55d770317569a5"
            ],
            "layout": "IPY_MODEL_5edab74e5a1a4f0bb74b6f6bb8a14837"
          }
        },
        "bd6e23540f984589976c2d5df2d8a001": {
          "model_module": "@jupyter-widgets/controls",
          "model_module_version": "1.5.0",
          "model_name": "LabelModel",
          "state": {
            "_dom_classes": [],
            "_model_module": "@jupyter-widgets/controls",
            "_model_module_version": "1.5.0",
            "_model_name": "LabelModel",
            "_view_count": null,
            "_view_module": "@jupyter-widgets/controls",
            "_view_module_version": "1.5.0",
            "_view_name": "LabelView",
            "description": "",
            "description_tooltip": null,
            "layout": "IPY_MODEL_b135adef61cd4829870e074f19f4da3f",
            "placeholder": "​",
            "style": "IPY_MODEL_1b0ae065375f4595aa68b96826be55cf",
            "value": "0.026 MB of 0.026 MB uploaded\r"
          }
        },
        "bdac3cec6f154d71a15738db92f299fd": {
          "model_module": "@jupyter-widgets/controls",
          "model_module_version": "1.5.0",
          "model_name": "FloatProgressModel",
          "state": {
            "_dom_classes": [],
            "_model_module": "@jupyter-widgets/controls",
            "_model_module_version": "1.5.0",
            "_model_name": "FloatProgressModel",
            "_view_count": null,
            "_view_module": "@jupyter-widgets/controls",
            "_view_module_version": "1.5.0",
            "_view_name": "ProgressView",
            "bar_style": "",
            "description": "",
            "description_tooltip": null,
            "layout": "IPY_MODEL_4c7d2c8f50eb4c7f953acfab407aaaf1",
            "max": 1,
            "min": 0,
            "orientation": "horizontal",
            "style": "IPY_MODEL_24ab42139cfa46029969042fe1e3ac69",
            "value": 1
          }
        },
        "beecbaaf10fa46248e55d770317569a5": {
          "model_module": "@jupyter-widgets/controls",
          "model_module_version": "1.5.0",
          "model_name": "FloatProgressModel",
          "state": {
            "_dom_classes": [],
            "_model_module": "@jupyter-widgets/controls",
            "_model_module_version": "1.5.0",
            "_model_name": "FloatProgressModel",
            "_view_count": null,
            "_view_module": "@jupyter-widgets/controls",
            "_view_module_version": "1.5.0",
            "_view_name": "ProgressView",
            "bar_style": "",
            "description": "",
            "description_tooltip": null,
            "layout": "IPY_MODEL_b4beeb7f9ea747828bf1ee0124a863a5",
            "max": 1,
            "min": 0,
            "orientation": "horizontal",
            "style": "IPY_MODEL_683dc9f419d34a22bb00108274a8db7c",
            "value": 1
          }
        },
        "bfad21354aae4f71b653c6328d8dcede": {
          "model_module": "@jupyter-widgets/controls",
          "model_module_version": "1.5.0",
          "model_name": "ProgressStyleModel",
          "state": {
            "_model_module": "@jupyter-widgets/controls",
            "_model_module_version": "1.5.0",
            "_model_name": "ProgressStyleModel",
            "_view_count": null,
            "_view_module": "@jupyter-widgets/base",
            "_view_module_version": "1.2.0",
            "_view_name": "StyleView",
            "bar_color": null,
            "description_width": ""
          }
        },
        "c06ad07d981c491db2317cfbab597596": {
          "model_module": "@jupyter-widgets/controls",
          "model_module_version": "1.5.0",
          "model_name": "VBoxModel",
          "state": {
            "_dom_classes": [],
            "_model_module": "@jupyter-widgets/controls",
            "_model_module_version": "1.5.0",
            "_model_name": "VBoxModel",
            "_view_count": null,
            "_view_module": "@jupyter-widgets/controls",
            "_view_module_version": "1.5.0",
            "_view_name": "VBoxView",
            "box_style": "",
            "children": [
              "IPY_MODEL_a55008d7a5fa487d9e6f56d0eef3f5e8",
              "IPY_MODEL_64bec12d8fdf45568c3ae2738417bb86"
            ],
            "layout": "IPY_MODEL_339c4454c04b4cba84dbae11ea7f82bf"
          }
        },
        "c3c68aa39181481696fe147b43e20936": {
          "model_module": "@jupyter-widgets/controls",
          "model_module_version": "1.5.0",
          "model_name": "FloatProgressModel",
          "state": {
            "_dom_classes": [],
            "_model_module": "@jupyter-widgets/controls",
            "_model_module_version": "1.5.0",
            "_model_name": "FloatProgressModel",
            "_view_count": null,
            "_view_module": "@jupyter-widgets/controls",
            "_view_module_version": "1.5.0",
            "_view_name": "ProgressView",
            "bar_style": "",
            "description": "",
            "description_tooltip": null,
            "layout": "IPY_MODEL_57adb0ec32b04d89a3c0ea201db50fcc",
            "max": 1,
            "min": 0,
            "orientation": "horizontal",
            "style": "IPY_MODEL_bfad21354aae4f71b653c6328d8dcede",
            "value": 1
          }
        },
        "c4666eced7ec40f28648f6a9c7c9cf5e": {
          "model_module": "@jupyter-widgets/controls",
          "model_module_version": "1.5.0",
          "model_name": "LabelModel",
          "state": {
            "_dom_classes": [],
            "_model_module": "@jupyter-widgets/controls",
            "_model_module_version": "1.5.0",
            "_model_name": "LabelModel",
            "_view_count": null,
            "_view_module": "@jupyter-widgets/controls",
            "_view_module_version": "1.5.0",
            "_view_name": "LabelView",
            "description": "",
            "description_tooltip": null,
            "layout": "IPY_MODEL_14d92e3abf1241d0a8bef517893ef808",
            "placeholder": "​",
            "style": "IPY_MODEL_3df9250e069e45dfa28e7673003c12f4",
            "value": "0.026 MB of 0.026 MB uploaded\r"
          }
        },
        "c4e078c96235406f877187fec32e9d22": {
          "model_module": "@jupyter-widgets/base",
          "model_module_version": "1.2.0",
          "model_name": "LayoutModel",
          "state": {
            "_model_module": "@jupyter-widgets/base",
            "_model_module_version": "1.2.0",
            "_model_name": "LayoutModel",
            "_view_count": null,
            "_view_module": "@jupyter-widgets/base",
            "_view_module_version": "1.2.0",
            "_view_name": "LayoutView",
            "align_content": null,
            "align_items": null,
            "align_self": null,
            "border": null,
            "bottom": null,
            "display": null,
            "flex": null,
            "flex_flow": null,
            "grid_area": null,
            "grid_auto_columns": null,
            "grid_auto_flow": null,
            "grid_auto_rows": null,
            "grid_column": null,
            "grid_gap": null,
            "grid_row": null,
            "grid_template_areas": null,
            "grid_template_columns": null,
            "grid_template_rows": null,
            "height": null,
            "justify_content": null,
            "justify_items": null,
            "left": null,
            "margin": null,
            "max_height": null,
            "max_width": null,
            "min_height": null,
            "min_width": null,
            "object_fit": null,
            "object_position": null,
            "order": null,
            "overflow": null,
            "overflow_x": null,
            "overflow_y": null,
            "padding": null,
            "right": null,
            "top": null,
            "visibility": null,
            "width": null
          }
        },
        "ca8aee0451034294854058582f198972": {
          "model_module": "@jupyter-widgets/controls",
          "model_module_version": "1.5.0",
          "model_name": "VBoxModel",
          "state": {
            "_dom_classes": [],
            "_model_module": "@jupyter-widgets/controls",
            "_model_module_version": "1.5.0",
            "_model_name": "VBoxModel",
            "_view_count": null,
            "_view_module": "@jupyter-widgets/controls",
            "_view_module_version": "1.5.0",
            "_view_name": "VBoxView",
            "box_style": "",
            "children": [
              "IPY_MODEL_de323a0c4a5e46c3843a9bba447cca05",
              "IPY_MODEL_da85eb6b23fd4536b1a44a4007098ac2"
            ],
            "layout": "IPY_MODEL_81bbe031d07e4121aa23f4c9b149ff54"
          }
        },
        "cb240378208243278e181ae5e5bf96ed": {
          "model_module": "@jupyter-widgets/controls",
          "model_module_version": "1.5.0",
          "model_name": "LabelModel",
          "state": {
            "_dom_classes": [],
            "_model_module": "@jupyter-widgets/controls",
            "_model_module_version": "1.5.0",
            "_model_name": "LabelModel",
            "_view_count": null,
            "_view_module": "@jupyter-widgets/controls",
            "_view_module_version": "1.5.0",
            "_view_name": "LabelView",
            "description": "",
            "description_tooltip": null,
            "layout": "IPY_MODEL_086ff6a569364a69a61ec4172d706a83",
            "placeholder": "​",
            "style": "IPY_MODEL_e0e9be24b0024d2f9dba5a13236d7c78",
            "value": "0.026 MB of 0.026 MB uploaded\r"
          }
        },
        "d0fe940b74124074a959f2cc97c2ca4f": {
          "model_module": "@jupyter-widgets/base",
          "model_module_version": "1.2.0",
          "model_name": "LayoutModel",
          "state": {
            "_model_module": "@jupyter-widgets/base",
            "_model_module_version": "1.2.0",
            "_model_name": "LayoutModel",
            "_view_count": null,
            "_view_module": "@jupyter-widgets/base",
            "_view_module_version": "1.2.0",
            "_view_name": "LayoutView",
            "align_content": null,
            "align_items": null,
            "align_self": null,
            "border": null,
            "bottom": null,
            "display": null,
            "flex": null,
            "flex_flow": null,
            "grid_area": null,
            "grid_auto_columns": null,
            "grid_auto_flow": null,
            "grid_auto_rows": null,
            "grid_column": null,
            "grid_gap": null,
            "grid_row": null,
            "grid_template_areas": null,
            "grid_template_columns": null,
            "grid_template_rows": null,
            "height": null,
            "justify_content": null,
            "justify_items": null,
            "left": null,
            "margin": null,
            "max_height": null,
            "max_width": null,
            "min_height": null,
            "min_width": null,
            "object_fit": null,
            "object_position": null,
            "order": null,
            "overflow": null,
            "overflow_x": null,
            "overflow_y": null,
            "padding": null,
            "right": null,
            "top": null,
            "visibility": null,
            "width": null
          }
        },
        "d2dd779486324481b050248994b98e23": {
          "model_module": "@jupyter-widgets/controls",
          "model_module_version": "1.5.0",
          "model_name": "DescriptionStyleModel",
          "state": {
            "_model_module": "@jupyter-widgets/controls",
            "_model_module_version": "1.5.0",
            "_model_name": "DescriptionStyleModel",
            "_view_count": null,
            "_view_module": "@jupyter-widgets/base",
            "_view_module_version": "1.2.0",
            "_view_name": "StyleView",
            "description_width": ""
          }
        },
        "d5a2f8b7bbe942508729ce302601a704": {
          "model_module": "@jupyter-widgets/controls",
          "model_module_version": "1.5.0",
          "model_name": "ProgressStyleModel",
          "state": {
            "_model_module": "@jupyter-widgets/controls",
            "_model_module_version": "1.5.0",
            "_model_name": "ProgressStyleModel",
            "_view_count": null,
            "_view_module": "@jupyter-widgets/base",
            "_view_module_version": "1.2.0",
            "_view_name": "StyleView",
            "bar_color": null,
            "description_width": ""
          }
        },
        "d801a1da40e34db1b629962e23f71e5a": {
          "model_module": "@jupyter-widgets/base",
          "model_module_version": "1.2.0",
          "model_name": "LayoutModel",
          "state": {
            "_model_module": "@jupyter-widgets/base",
            "_model_module_version": "1.2.0",
            "_model_name": "LayoutModel",
            "_view_count": null,
            "_view_module": "@jupyter-widgets/base",
            "_view_module_version": "1.2.0",
            "_view_name": "LayoutView",
            "align_content": null,
            "align_items": null,
            "align_self": null,
            "border": null,
            "bottom": null,
            "display": null,
            "flex": null,
            "flex_flow": null,
            "grid_area": null,
            "grid_auto_columns": null,
            "grid_auto_flow": null,
            "grid_auto_rows": null,
            "grid_column": null,
            "grid_gap": null,
            "grid_row": null,
            "grid_template_areas": null,
            "grid_template_columns": null,
            "grid_template_rows": null,
            "height": null,
            "justify_content": null,
            "justify_items": null,
            "left": null,
            "margin": null,
            "max_height": null,
            "max_width": null,
            "min_height": null,
            "min_width": null,
            "object_fit": null,
            "object_position": null,
            "order": null,
            "overflow": null,
            "overflow_x": null,
            "overflow_y": null,
            "padding": null,
            "right": null,
            "top": null,
            "visibility": null,
            "width": null
          }
        },
        "d877d79361a74b849ce77a603a8f1174": {
          "model_module": "@jupyter-widgets/controls",
          "model_module_version": "1.5.0",
          "model_name": "VBoxModel",
          "state": {
            "_dom_classes": [],
            "_model_module": "@jupyter-widgets/controls",
            "_model_module_version": "1.5.0",
            "_model_name": "VBoxModel",
            "_view_count": null,
            "_view_module": "@jupyter-widgets/controls",
            "_view_module_version": "1.5.0",
            "_view_name": "VBoxView",
            "box_style": "",
            "children": [
              "IPY_MODEL_3962e11114de40cbb45280a20dc7552a",
              "IPY_MODEL_84ecbeb5954540e4bff7966c6e68c1eb"
            ],
            "layout": "IPY_MODEL_eff529d30943479abeba1d43d938b9b6"
          }
        },
        "d899b1e9864b4106b5a378e1c2875811": {
          "model_module": "@jupyter-widgets/base",
          "model_module_version": "1.2.0",
          "model_name": "LayoutModel",
          "state": {
            "_model_module": "@jupyter-widgets/base",
            "_model_module_version": "1.2.0",
            "_model_name": "LayoutModel",
            "_view_count": null,
            "_view_module": "@jupyter-widgets/base",
            "_view_module_version": "1.2.0",
            "_view_name": "LayoutView",
            "align_content": null,
            "align_items": null,
            "align_self": null,
            "border": null,
            "bottom": null,
            "display": null,
            "flex": null,
            "flex_flow": null,
            "grid_area": null,
            "grid_auto_columns": null,
            "grid_auto_flow": null,
            "grid_auto_rows": null,
            "grid_column": null,
            "grid_gap": null,
            "grid_row": null,
            "grid_template_areas": null,
            "grid_template_columns": null,
            "grid_template_rows": null,
            "height": null,
            "justify_content": null,
            "justify_items": null,
            "left": null,
            "margin": null,
            "max_height": null,
            "max_width": null,
            "min_height": null,
            "min_width": null,
            "object_fit": null,
            "object_position": null,
            "order": null,
            "overflow": null,
            "overflow_x": null,
            "overflow_y": null,
            "padding": null,
            "right": null,
            "top": null,
            "visibility": null,
            "width": null
          }
        },
        "d89f0e3a934147c8b67077328c6f82f8": {
          "model_module": "@jupyter-widgets/controls",
          "model_module_version": "1.5.0",
          "model_name": "VBoxModel",
          "state": {
            "_dom_classes": [],
            "_model_module": "@jupyter-widgets/controls",
            "_model_module_version": "1.5.0",
            "_model_name": "VBoxModel",
            "_view_count": null,
            "_view_module": "@jupyter-widgets/controls",
            "_view_module_version": "1.5.0",
            "_view_name": "VBoxView",
            "box_style": "",
            "children": [
              "IPY_MODEL_3555ba402a47450c84e65d03b6d8fb18",
              "IPY_MODEL_4ba0015c827b44ab9ce238aa380fd2d8"
            ],
            "layout": "IPY_MODEL_b4e5205fe562412cadf699b93958b2cc"
          }
        },
        "da85eb6b23fd4536b1a44a4007098ac2": {
          "model_module": "@jupyter-widgets/controls",
          "model_module_version": "1.5.0",
          "model_name": "FloatProgressModel",
          "state": {
            "_dom_classes": [],
            "_model_module": "@jupyter-widgets/controls",
            "_model_module_version": "1.5.0",
            "_model_name": "FloatProgressModel",
            "_view_count": null,
            "_view_module": "@jupyter-widgets/controls",
            "_view_module_version": "1.5.0",
            "_view_name": "ProgressView",
            "bar_style": "",
            "description": "",
            "description_tooltip": null,
            "layout": "IPY_MODEL_ff0d563520894eb98b167f68f318dcda",
            "max": 1,
            "min": 0,
            "orientation": "horizontal",
            "style": "IPY_MODEL_9824b0a012f74661aa076c77bdff3d7b",
            "value": 1
          }
        },
        "dc9aed60b0b24d2786ae1f226f42a9e6": {
          "model_module": "@jupyter-widgets/controls",
          "model_module_version": "1.5.0",
          "model_name": "LabelModel",
          "state": {
            "_dom_classes": [],
            "_model_module": "@jupyter-widgets/controls",
            "_model_module_version": "1.5.0",
            "_model_name": "LabelModel",
            "_view_count": null,
            "_view_module": "@jupyter-widgets/controls",
            "_view_module_version": "1.5.0",
            "_view_name": "LabelView",
            "description": "",
            "description_tooltip": null,
            "layout": "IPY_MODEL_e415f6517e9f4bde9088dba04fd79234",
            "placeholder": "​",
            "style": "IPY_MODEL_8ec199aff1054c40a16ed6c0483601cd",
            "value": "0.026 MB of 0.026 MB uploaded\r"
          }
        },
        "ddb8593ff3624430abca09a4cd5d43ab": {
          "model_module": "@jupyter-widgets/controls",
          "model_module_version": "1.5.0",
          "model_name": "FloatProgressModel",
          "state": {
            "_dom_classes": [],
            "_model_module": "@jupyter-widgets/controls",
            "_model_module_version": "1.5.0",
            "_model_name": "FloatProgressModel",
            "_view_count": null,
            "_view_module": "@jupyter-widgets/controls",
            "_view_module_version": "1.5.0",
            "_view_name": "ProgressView",
            "bar_style": "",
            "description": "",
            "description_tooltip": null,
            "layout": "IPY_MODEL_b0f50cd970cf45efa242411aaa918471",
            "max": 1,
            "min": 0,
            "orientation": "horizontal",
            "style": "IPY_MODEL_9ee35c54bba74af792306fbfa09e9bc3",
            "value": 1
          }
        },
        "de323a0c4a5e46c3843a9bba447cca05": {
          "model_module": "@jupyter-widgets/controls",
          "model_module_version": "1.5.0",
          "model_name": "LabelModel",
          "state": {
            "_dom_classes": [],
            "_model_module": "@jupyter-widgets/controls",
            "_model_module_version": "1.5.0",
            "_model_name": "LabelModel",
            "_view_count": null,
            "_view_module": "@jupyter-widgets/controls",
            "_view_module_version": "1.5.0",
            "_view_name": "LabelView",
            "description": "",
            "description_tooltip": null,
            "layout": "IPY_MODEL_07d08e6e757146468692f9b0ad2e9145",
            "placeholder": "​",
            "style": "IPY_MODEL_9ba1bffe34de4b7eb72b8cd48d84140c",
            "value": "0.026 MB of 0.026 MB uploaded\r"
          }
        },
        "def4f8c3abdc4c3c931adc0b9c4c85a0": {
          "model_module": "@jupyter-widgets/controls",
          "model_module_version": "1.5.0",
          "model_name": "ProgressStyleModel",
          "state": {
            "_model_module": "@jupyter-widgets/controls",
            "_model_module_version": "1.5.0",
            "_model_name": "ProgressStyleModel",
            "_view_count": null,
            "_view_module": "@jupyter-widgets/base",
            "_view_module_version": "1.2.0",
            "_view_name": "StyleView",
            "bar_color": null,
            "description_width": ""
          }
        },
        "df7d8d9a5fe34f8995a52f83709a0953": {
          "model_module": "@jupyter-widgets/controls",
          "model_module_version": "1.5.0",
          "model_name": "VBoxModel",
          "state": {
            "_dom_classes": [],
            "_model_module": "@jupyter-widgets/controls",
            "_model_module_version": "1.5.0",
            "_model_name": "VBoxModel",
            "_view_count": null,
            "_view_module": "@jupyter-widgets/controls",
            "_view_module_version": "1.5.0",
            "_view_name": "VBoxView",
            "box_style": "",
            "children": [
              "IPY_MODEL_9de6be57f7f1481280367466920c74cd",
              "IPY_MODEL_ef81e8aa40cf4c05a28abd40c501d0c1"
            ],
            "layout": "IPY_MODEL_16fc5385fb1c412f918b2ba92347552e"
          }
        },
        "e0e9be24b0024d2f9dba5a13236d7c78": {
          "model_module": "@jupyter-widgets/controls",
          "model_module_version": "1.5.0",
          "model_name": "DescriptionStyleModel",
          "state": {
            "_model_module": "@jupyter-widgets/controls",
            "_model_module_version": "1.5.0",
            "_model_name": "DescriptionStyleModel",
            "_view_count": null,
            "_view_module": "@jupyter-widgets/base",
            "_view_module_version": "1.2.0",
            "_view_name": "StyleView",
            "description_width": ""
          }
        },
        "e159073f09f44003b55169a77f8d1610": {
          "model_module": "@jupyter-widgets/base",
          "model_module_version": "1.2.0",
          "model_name": "LayoutModel",
          "state": {
            "_model_module": "@jupyter-widgets/base",
            "_model_module_version": "1.2.0",
            "_model_name": "LayoutModel",
            "_view_count": null,
            "_view_module": "@jupyter-widgets/base",
            "_view_module_version": "1.2.0",
            "_view_name": "LayoutView",
            "align_content": null,
            "align_items": null,
            "align_self": null,
            "border": null,
            "bottom": null,
            "display": null,
            "flex": null,
            "flex_flow": null,
            "grid_area": null,
            "grid_auto_columns": null,
            "grid_auto_flow": null,
            "grid_auto_rows": null,
            "grid_column": null,
            "grid_gap": null,
            "grid_row": null,
            "grid_template_areas": null,
            "grid_template_columns": null,
            "grid_template_rows": null,
            "height": null,
            "justify_content": null,
            "justify_items": null,
            "left": null,
            "margin": null,
            "max_height": null,
            "max_width": null,
            "min_height": null,
            "min_width": null,
            "object_fit": null,
            "object_position": null,
            "order": null,
            "overflow": null,
            "overflow_x": null,
            "overflow_y": null,
            "padding": null,
            "right": null,
            "top": null,
            "visibility": null,
            "width": null
          }
        },
        "e1f61b924cdd4151a092f8b3a37ffcac": {
          "model_module": "@jupyter-widgets/controls",
          "model_module_version": "1.5.0",
          "model_name": "VBoxModel",
          "state": {
            "_dom_classes": [],
            "_model_module": "@jupyter-widgets/controls",
            "_model_module_version": "1.5.0",
            "_model_name": "VBoxModel",
            "_view_count": null,
            "_view_module": "@jupyter-widgets/controls",
            "_view_module_version": "1.5.0",
            "_view_name": "VBoxView",
            "box_style": "",
            "children": [
              "IPY_MODEL_7786005832984784abad80a6a1eb2bb3",
              "IPY_MODEL_2b418a3baa6248bc839bc54e78250f67"
            ],
            "layout": "IPY_MODEL_40fc14e4f35744b3b18f0af686a3a767"
          }
        },
        "e2dc8ae7f3494ae1bd44102fcacca659": {
          "model_module": "@jupyter-widgets/controls",
          "model_module_version": "1.5.0",
          "model_name": "VBoxModel",
          "state": {
            "_dom_classes": [],
            "_model_module": "@jupyter-widgets/controls",
            "_model_module_version": "1.5.0",
            "_model_name": "VBoxModel",
            "_view_count": null,
            "_view_module": "@jupyter-widgets/controls",
            "_view_module_version": "1.5.0",
            "_view_name": "VBoxView",
            "box_style": "",
            "children": [
              "IPY_MODEL_7db06c7a1ef84628b9975a6dd7189856",
              "IPY_MODEL_f45cd811eca94636bc8af61aaf95d9b2"
            ],
            "layout": "IPY_MODEL_0a281a8fd9dd4b80999617c9bb0a36d0"
          }
        },
        "e415f6517e9f4bde9088dba04fd79234": {
          "model_module": "@jupyter-widgets/base",
          "model_module_version": "1.2.0",
          "model_name": "LayoutModel",
          "state": {
            "_model_module": "@jupyter-widgets/base",
            "_model_module_version": "1.2.0",
            "_model_name": "LayoutModel",
            "_view_count": null,
            "_view_module": "@jupyter-widgets/base",
            "_view_module_version": "1.2.0",
            "_view_name": "LayoutView",
            "align_content": null,
            "align_items": null,
            "align_self": null,
            "border": null,
            "bottom": null,
            "display": null,
            "flex": null,
            "flex_flow": null,
            "grid_area": null,
            "grid_auto_columns": null,
            "grid_auto_flow": null,
            "grid_auto_rows": null,
            "grid_column": null,
            "grid_gap": null,
            "grid_row": null,
            "grid_template_areas": null,
            "grid_template_columns": null,
            "grid_template_rows": null,
            "height": null,
            "justify_content": null,
            "justify_items": null,
            "left": null,
            "margin": null,
            "max_height": null,
            "max_width": null,
            "min_height": null,
            "min_width": null,
            "object_fit": null,
            "object_position": null,
            "order": null,
            "overflow": null,
            "overflow_x": null,
            "overflow_y": null,
            "padding": null,
            "right": null,
            "top": null,
            "visibility": null,
            "width": null
          }
        },
        "e60c19af84b24d68a2585e54fd6bc904": {
          "model_module": "@jupyter-widgets/controls",
          "model_module_version": "1.5.0",
          "model_name": "ProgressStyleModel",
          "state": {
            "_model_module": "@jupyter-widgets/controls",
            "_model_module_version": "1.5.0",
            "_model_name": "ProgressStyleModel",
            "_view_count": null,
            "_view_module": "@jupyter-widgets/base",
            "_view_module_version": "1.2.0",
            "_view_name": "StyleView",
            "bar_color": null,
            "description_width": ""
          }
        },
        "e64a6aa177ed4ff6a2e1c8b003dd99d4": {
          "model_module": "@jupyter-widgets/controls",
          "model_module_version": "1.5.0",
          "model_name": "LabelModel",
          "state": {
            "_dom_classes": [],
            "_model_module": "@jupyter-widgets/controls",
            "_model_module_version": "1.5.0",
            "_model_name": "LabelModel",
            "_view_count": null,
            "_view_module": "@jupyter-widgets/controls",
            "_view_module_version": "1.5.0",
            "_view_name": "LabelView",
            "description": "",
            "description_tooltip": null,
            "layout": "IPY_MODEL_e9333f14530144c6a941698aa43ca982",
            "placeholder": "​",
            "style": "IPY_MODEL_243379f8455f4ea0907399f7934c06dd",
            "value": "0.026 MB of 0.026 MB uploaded\r"
          }
        },
        "e7061e1aff984323a3f3080ec80fe259": {
          "model_module": "@jupyter-widgets/controls",
          "model_module_version": "1.5.0",
          "model_name": "ProgressStyleModel",
          "state": {
            "_model_module": "@jupyter-widgets/controls",
            "_model_module_version": "1.5.0",
            "_model_name": "ProgressStyleModel",
            "_view_count": null,
            "_view_module": "@jupyter-widgets/base",
            "_view_module_version": "1.2.0",
            "_view_name": "StyleView",
            "bar_color": null,
            "description_width": ""
          }
        },
        "e8a2ce1a4fd24fd5a3b906686acdb45c": {
          "model_module": "@jupyter-widgets/base",
          "model_module_version": "1.2.0",
          "model_name": "LayoutModel",
          "state": {
            "_model_module": "@jupyter-widgets/base",
            "_model_module_version": "1.2.0",
            "_model_name": "LayoutModel",
            "_view_count": null,
            "_view_module": "@jupyter-widgets/base",
            "_view_module_version": "1.2.0",
            "_view_name": "LayoutView",
            "align_content": null,
            "align_items": null,
            "align_self": null,
            "border": null,
            "bottom": null,
            "display": null,
            "flex": null,
            "flex_flow": null,
            "grid_area": null,
            "grid_auto_columns": null,
            "grid_auto_flow": null,
            "grid_auto_rows": null,
            "grid_column": null,
            "grid_gap": null,
            "grid_row": null,
            "grid_template_areas": null,
            "grid_template_columns": null,
            "grid_template_rows": null,
            "height": null,
            "justify_content": null,
            "justify_items": null,
            "left": null,
            "margin": null,
            "max_height": null,
            "max_width": null,
            "min_height": null,
            "min_width": null,
            "object_fit": null,
            "object_position": null,
            "order": null,
            "overflow": null,
            "overflow_x": null,
            "overflow_y": null,
            "padding": null,
            "right": null,
            "top": null,
            "visibility": null,
            "width": null
          }
        },
        "e9333f14530144c6a941698aa43ca982": {
          "model_module": "@jupyter-widgets/base",
          "model_module_version": "1.2.0",
          "model_name": "LayoutModel",
          "state": {
            "_model_module": "@jupyter-widgets/base",
            "_model_module_version": "1.2.0",
            "_model_name": "LayoutModel",
            "_view_count": null,
            "_view_module": "@jupyter-widgets/base",
            "_view_module_version": "1.2.0",
            "_view_name": "LayoutView",
            "align_content": null,
            "align_items": null,
            "align_self": null,
            "border": null,
            "bottom": null,
            "display": null,
            "flex": null,
            "flex_flow": null,
            "grid_area": null,
            "grid_auto_columns": null,
            "grid_auto_flow": null,
            "grid_auto_rows": null,
            "grid_column": null,
            "grid_gap": null,
            "grid_row": null,
            "grid_template_areas": null,
            "grid_template_columns": null,
            "grid_template_rows": null,
            "height": null,
            "justify_content": null,
            "justify_items": null,
            "left": null,
            "margin": null,
            "max_height": null,
            "max_width": null,
            "min_height": null,
            "min_width": null,
            "object_fit": null,
            "object_position": null,
            "order": null,
            "overflow": null,
            "overflow_x": null,
            "overflow_y": null,
            "padding": null,
            "right": null,
            "top": null,
            "visibility": null,
            "width": null
          }
        },
        "e9582d65c419438f973236306db7ebbb": {
          "model_module": "@jupyter-widgets/controls",
          "model_module_version": "1.5.0",
          "model_name": "LabelModel",
          "state": {
            "_dom_classes": [],
            "_model_module": "@jupyter-widgets/controls",
            "_model_module_version": "1.5.0",
            "_model_name": "LabelModel",
            "_view_count": null,
            "_view_module": "@jupyter-widgets/controls",
            "_view_module_version": "1.5.0",
            "_view_name": "LabelView",
            "description": "",
            "description_tooltip": null,
            "layout": "IPY_MODEL_287f6d730208457e917fe3b44e3d7d52",
            "placeholder": "​",
            "style": "IPY_MODEL_9b79a0f606404e55b6045172c1170a12",
            "value": "0.026 MB of 0.026 MB uploaded\r"
          }
        },
        "e9ffdaf4d1a64022889719c83b1ee1b7": {
          "model_module": "@jupyter-widgets/base",
          "model_module_version": "1.2.0",
          "model_name": "LayoutModel",
          "state": {
            "_model_module": "@jupyter-widgets/base",
            "_model_module_version": "1.2.0",
            "_model_name": "LayoutModel",
            "_view_count": null,
            "_view_module": "@jupyter-widgets/base",
            "_view_module_version": "1.2.0",
            "_view_name": "LayoutView",
            "align_content": null,
            "align_items": null,
            "align_self": null,
            "border": null,
            "bottom": null,
            "display": null,
            "flex": null,
            "flex_flow": null,
            "grid_area": null,
            "grid_auto_columns": null,
            "grid_auto_flow": null,
            "grid_auto_rows": null,
            "grid_column": null,
            "grid_gap": null,
            "grid_row": null,
            "grid_template_areas": null,
            "grid_template_columns": null,
            "grid_template_rows": null,
            "height": null,
            "justify_content": null,
            "justify_items": null,
            "left": null,
            "margin": null,
            "max_height": null,
            "max_width": null,
            "min_height": null,
            "min_width": null,
            "object_fit": null,
            "object_position": null,
            "order": null,
            "overflow": null,
            "overflow_x": null,
            "overflow_y": null,
            "padding": null,
            "right": null,
            "top": null,
            "visibility": null,
            "width": null
          }
        },
        "eb5aaf622647426f92019ec9b4c765f0": {
          "model_module": "@jupyter-widgets/controls",
          "model_module_version": "1.5.0",
          "model_name": "VBoxModel",
          "state": {
            "_dom_classes": [],
            "_model_module": "@jupyter-widgets/controls",
            "_model_module_version": "1.5.0",
            "_model_name": "VBoxModel",
            "_view_count": null,
            "_view_module": "@jupyter-widgets/controls",
            "_view_module_version": "1.5.0",
            "_view_name": "VBoxView",
            "box_style": "",
            "children": [
              "IPY_MODEL_637c2525eab04b6c95ec70096a3647f5",
              "IPY_MODEL_4a27e51672cc4599ae2209ca28439689"
            ],
            "layout": "IPY_MODEL_e159073f09f44003b55169a77f8d1610"
          }
        },
        "ec14f15f0a93440aaad8f01da390529a": {
          "model_module": "@jupyter-widgets/controls",
          "model_module_version": "1.5.0",
          "model_name": "FloatProgressModel",
          "state": {
            "_dom_classes": [],
            "_model_module": "@jupyter-widgets/controls",
            "_model_module_version": "1.5.0",
            "_model_name": "FloatProgressModel",
            "_view_count": null,
            "_view_module": "@jupyter-widgets/controls",
            "_view_module_version": "1.5.0",
            "_view_name": "ProgressView",
            "bar_style": "",
            "description": "",
            "description_tooltip": null,
            "layout": "IPY_MODEL_6378e4333220453484dbcbae3f6c6900",
            "max": 1,
            "min": 0,
            "orientation": "horizontal",
            "style": "IPY_MODEL_d5a2f8b7bbe942508729ce302601a704",
            "value": 1
          }
        },
        "eee1367ea4574be899dd8c678c05f197": {
          "model_module": "@jupyter-widgets/controls",
          "model_module_version": "1.5.0",
          "model_name": "ProgressStyleModel",
          "state": {
            "_model_module": "@jupyter-widgets/controls",
            "_model_module_version": "1.5.0",
            "_model_name": "ProgressStyleModel",
            "_view_count": null,
            "_view_module": "@jupyter-widgets/base",
            "_view_module_version": "1.2.0",
            "_view_name": "StyleView",
            "bar_color": null,
            "description_width": ""
          }
        },
        "ef81e8aa40cf4c05a28abd40c501d0c1": {
          "model_module": "@jupyter-widgets/controls",
          "model_module_version": "1.5.0",
          "model_name": "FloatProgressModel",
          "state": {
            "_dom_classes": [],
            "_model_module": "@jupyter-widgets/controls",
            "_model_module_version": "1.5.0",
            "_model_name": "FloatProgressModel",
            "_view_count": null,
            "_view_module": "@jupyter-widgets/controls",
            "_view_module_version": "1.5.0",
            "_view_name": "ProgressView",
            "bar_style": "",
            "description": "",
            "description_tooltip": null,
            "layout": "IPY_MODEL_0160100f536a4cd988f8895a732c3af5",
            "max": 1,
            "min": 0,
            "orientation": "horizontal",
            "style": "IPY_MODEL_5c6f9610942e463dba5c1ed02c761103",
            "value": 1
          }
        },
        "eff529d30943479abeba1d43d938b9b6": {
          "model_module": "@jupyter-widgets/base",
          "model_module_version": "1.2.0",
          "model_name": "LayoutModel",
          "state": {
            "_model_module": "@jupyter-widgets/base",
            "_model_module_version": "1.2.0",
            "_model_name": "LayoutModel",
            "_view_count": null,
            "_view_module": "@jupyter-widgets/base",
            "_view_module_version": "1.2.0",
            "_view_name": "LayoutView",
            "align_content": null,
            "align_items": null,
            "align_self": null,
            "border": null,
            "bottom": null,
            "display": null,
            "flex": null,
            "flex_flow": null,
            "grid_area": null,
            "grid_auto_columns": null,
            "grid_auto_flow": null,
            "grid_auto_rows": null,
            "grid_column": null,
            "grid_gap": null,
            "grid_row": null,
            "grid_template_areas": null,
            "grid_template_columns": null,
            "grid_template_rows": null,
            "height": null,
            "justify_content": null,
            "justify_items": null,
            "left": null,
            "margin": null,
            "max_height": null,
            "max_width": null,
            "min_height": null,
            "min_width": null,
            "object_fit": null,
            "object_position": null,
            "order": null,
            "overflow": null,
            "overflow_x": null,
            "overflow_y": null,
            "padding": null,
            "right": null,
            "top": null,
            "visibility": null,
            "width": null
          }
        },
        "f45cd811eca94636bc8af61aaf95d9b2": {
          "model_module": "@jupyter-widgets/controls",
          "model_module_version": "1.5.0",
          "model_name": "FloatProgressModel",
          "state": {
            "_dom_classes": [],
            "_model_module": "@jupyter-widgets/controls",
            "_model_module_version": "1.5.0",
            "_model_name": "FloatProgressModel",
            "_view_count": null,
            "_view_module": "@jupyter-widgets/controls",
            "_view_module_version": "1.5.0",
            "_view_name": "ProgressView",
            "bar_style": "",
            "description": "",
            "description_tooltip": null,
            "layout": "IPY_MODEL_286c368204d440b79c6f3106a0919410",
            "max": 1,
            "min": 0,
            "orientation": "horizontal",
            "style": "IPY_MODEL_def4f8c3abdc4c3c931adc0b9c4c85a0",
            "value": 1
          }
        },
        "fa1b1c6fe1af426e88e7b83154e80f2a": {
          "model_module": "@jupyter-widgets/base",
          "model_module_version": "1.2.0",
          "model_name": "LayoutModel",
          "state": {
            "_model_module": "@jupyter-widgets/base",
            "_model_module_version": "1.2.0",
            "_model_name": "LayoutModel",
            "_view_count": null,
            "_view_module": "@jupyter-widgets/base",
            "_view_module_version": "1.2.0",
            "_view_name": "LayoutView",
            "align_content": null,
            "align_items": null,
            "align_self": null,
            "border": null,
            "bottom": null,
            "display": null,
            "flex": null,
            "flex_flow": null,
            "grid_area": null,
            "grid_auto_columns": null,
            "grid_auto_flow": null,
            "grid_auto_rows": null,
            "grid_column": null,
            "grid_gap": null,
            "grid_row": null,
            "grid_template_areas": null,
            "grid_template_columns": null,
            "grid_template_rows": null,
            "height": null,
            "justify_content": null,
            "justify_items": null,
            "left": null,
            "margin": null,
            "max_height": null,
            "max_width": null,
            "min_height": null,
            "min_width": null,
            "object_fit": null,
            "object_position": null,
            "order": null,
            "overflow": null,
            "overflow_x": null,
            "overflow_y": null,
            "padding": null,
            "right": null,
            "top": null,
            "visibility": null,
            "width": null
          }
        },
        "fa9944f222334a0eb95a957881232bf9": {
          "model_module": "@jupyter-widgets/base",
          "model_module_version": "1.2.0",
          "model_name": "LayoutModel",
          "state": {
            "_model_module": "@jupyter-widgets/base",
            "_model_module_version": "1.2.0",
            "_model_name": "LayoutModel",
            "_view_count": null,
            "_view_module": "@jupyter-widgets/base",
            "_view_module_version": "1.2.0",
            "_view_name": "LayoutView",
            "align_content": null,
            "align_items": null,
            "align_self": null,
            "border": null,
            "bottom": null,
            "display": null,
            "flex": null,
            "flex_flow": null,
            "grid_area": null,
            "grid_auto_columns": null,
            "grid_auto_flow": null,
            "grid_auto_rows": null,
            "grid_column": null,
            "grid_gap": null,
            "grid_row": null,
            "grid_template_areas": null,
            "grid_template_columns": null,
            "grid_template_rows": null,
            "height": null,
            "justify_content": null,
            "justify_items": null,
            "left": null,
            "margin": null,
            "max_height": null,
            "max_width": null,
            "min_height": null,
            "min_width": null,
            "object_fit": null,
            "object_position": null,
            "order": null,
            "overflow": null,
            "overflow_x": null,
            "overflow_y": null,
            "padding": null,
            "right": null,
            "top": null,
            "visibility": null,
            "width": null
          }
        },
        "ff0d563520894eb98b167f68f318dcda": {
          "model_module": "@jupyter-widgets/base",
          "model_module_version": "1.2.0",
          "model_name": "LayoutModel",
          "state": {
            "_model_module": "@jupyter-widgets/base",
            "_model_module_version": "1.2.0",
            "_model_name": "LayoutModel",
            "_view_count": null,
            "_view_module": "@jupyter-widgets/base",
            "_view_module_version": "1.2.0",
            "_view_name": "LayoutView",
            "align_content": null,
            "align_items": null,
            "align_self": null,
            "border": null,
            "bottom": null,
            "display": null,
            "flex": null,
            "flex_flow": null,
            "grid_area": null,
            "grid_auto_columns": null,
            "grid_auto_flow": null,
            "grid_auto_rows": null,
            "grid_column": null,
            "grid_gap": null,
            "grid_row": null,
            "grid_template_areas": null,
            "grid_template_columns": null,
            "grid_template_rows": null,
            "height": null,
            "justify_content": null,
            "justify_items": null,
            "left": null,
            "margin": null,
            "max_height": null,
            "max_width": null,
            "min_height": null,
            "min_width": null,
            "object_fit": null,
            "object_position": null,
            "order": null,
            "overflow": null,
            "overflow_x": null,
            "overflow_y": null,
            "padding": null,
            "right": null,
            "top": null,
            "visibility": null,
            "width": null
          }
        }
      }
    }
  },
  "nbformat": 4,
  "nbformat_minor": 0
}
